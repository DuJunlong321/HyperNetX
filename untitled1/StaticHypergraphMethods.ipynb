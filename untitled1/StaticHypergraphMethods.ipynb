{
 "cells": [
  {
   "cell_type": "code",
   "execution_count": 1,
   "metadata": {},
   "outputs": [
    {
     "ename": "SyntaxError",
     "evalue": "invalid syntax (untitled_static_Hypergraph.py, line 1781)",
     "output_type": "error",
     "traceback": [
      "Traceback \u001b[0;36m(most recent call last)\u001b[0m:\n",
      "  File \u001b[1;32m\"//anaconda3/envs/hnx/lib/python3.8/site-packages/IPython/core/interactiveshell.py\"\u001b[0m, line \u001b[1;32m3417\u001b[0m, in \u001b[1;35mrun_code\u001b[0m\n    exec(code_obj, self.user_global_ns, self.user_ns)\n",
      "\u001b[0;36m  File \u001b[0;32m\"<ipython-input-1-4352d50727c1>\"\u001b[0;36m, line \u001b[0;32m12\u001b[0;36m, in \u001b[0;35m<module>\u001b[0;36m\u001b[0m\n\u001b[0;31m    import untitled_static_Hypergraph as uh\u001b[0m\n",
      "\u001b[0;36m  File \u001b[0;32m\"/Users/prag717/Documents/tdm/hnx/untitled/untitled_static_Hypergraph.py\"\u001b[0;36m, line \u001b[0;32m1781\u001b[0m\n\u001b[0;31m    static=False,\u001b[0m\n\u001b[0m    ^\u001b[0m\n\u001b[0;31mSyntaxError\u001b[0m\u001b[0;31m:\u001b[0m invalid syntax\n"
     ]
    }
   ],
   "source": [
    "import hypernetx as hnx\n",
    "import matplotlib.pyplot as plt\n",
    "from collections import OrderedDict,defaultdict\n",
    "import scipy\n",
    "from scipy.sparse import coo_matrix,issparse, csr_matrix\n",
    "import pandas as pd\n",
    "import numpy as np\n",
    "import itertools as it\n",
    "import importlib as imp\n",
    "import untitled_StaticEntity as us\n",
    "import untitled_harrypotter as hp\n",
    "import untitled_static_Hypergraph as uh"
   ]
  },
  {
   "cell_type": "code",
   "execution_count": null,
   "metadata": {},
   "outputs": [],
   "source": [
    "harry = hp.HarryPotter()\n",
    "E = harry.entity\n",
    "ES = harry.sparseentity\n",
    "ES"
   ]
  },
  {
   "cell_type": "code",
   "execution_count": null,
   "metadata": {},
   "outputs": [],
   "source": [
    "E.elements['Gryffindor']"
   ]
  },
  {
   "cell_type": "code",
   "execution_count": null,
   "metadata": {},
   "outputs": [],
   "source": [
    "SE = us.StaticEntitySet(ES.arr,ES.labels,0,1)"
   ]
  },
  {
   "cell_type": "code",
   "execution_count": null,
   "metadata": {},
   "outputs": [],
   "source": [
    "SE.arr.shape"
   ]
  },
  {
   "cell_type": "code",
   "execution_count": null,
   "metadata": {},
   "outputs": [],
   "source": [
    "h = uh.Hypergraph(setsystem={'arr':SE.arr,'labels':SE.labels},static=True)\n",
    "h"
   ]
  },
  {
   "cell_type": "code",
   "execution_count": null,
   "metadata": {},
   "outputs": [],
   "source": [
    "h.isstatic"
   ]
  },
  {
   "cell_type": "code",
   "execution_count": null,
   "metadata": {},
   "outputs": [],
   "source": [
    "h.edges.elements_by_level()"
   ]
  },
  {
   "cell_type": "code",
   "execution_count": null,
   "metadata": {
    "scrolled": true
   },
   "outputs": [],
   "source": [
    "h.incidence_dict"
   ]
  },
  {
   "cell_type": "code",
   "execution_count": null,
   "metadata": {},
   "outputs": [],
   "source": [
    "m = h.incidence_matrix(sparse=True,index=True)\n",
    "m"
   ]
  },
  {
   "cell_type": "code",
   "execution_count": null,
   "metadata": {},
   "outputs": [],
   "source": [
    "m[0].shape"
   ]
  },
  {
   "cell_type": "code",
   "execution_count": null,
   "metadata": {},
   "outputs": [],
   "source": [
    "## replace memberships in hypergraph with references from the incidence dictionary\n",
    "s = h.edges.restrict_to_levels([1,0])\n",
    "s"
   ]
  },
  {
   "cell_type": "code",
   "execution_count": null,
   "metadata": {},
   "outputs": [],
   "source": [
    "s.dimensions"
   ]
  },
  {
   "cell_type": "code",
   "execution_count": null,
   "metadata": {},
   "outputs": [],
   "source": [
    "s.dimensions"
   ]
  },
  {
   "cell_type": "code",
   "execution_count": null,
   "metadata": {},
   "outputs": [],
   "source": [
    "h.nodes"
   ]
  },
  {
   "cell_type": "code",
   "execution_count": null,
   "metadata": {},
   "outputs": [],
   "source": [
    "h.nodes.labels"
   ]
  },
  {
   "cell_type": "code",
   "execution_count": null,
   "metadata": {},
   "outputs": [],
   "source": [
    "harry.dataframe"
   ]
  },
  {
   "cell_type": "code",
   "execution_count": null,
   "metadata": {},
   "outputs": [],
   "source": [
    "E.incidence_dict"
   ]
  },
  {
   "cell_type": "code",
   "execution_count": null,
   "metadata": {},
   "outputs": [],
   "source": [
    "M = h.incidence_matrix(sparse=True)\n",
    "type(M)"
   ]
  },
  {
   "cell_type": "code",
   "execution_count": null,
   "metadata": {},
   "outputs": [],
   "source": [
    "A = M.dot(M.transpose()).astype(bool)"
   ]
  },
  {
   "cell_type": "code",
   "execution_count": null,
   "metadata": {},
   "outputs": [],
   "source": [
    "h.edge_adjacency_matrix(index=True,sparse=True)"
   ]
  },
  {
   "cell_type": "code",
   "execution_count": null,
   "metadata": {},
   "outputs": [],
   "source": [
    "E = h.edges\n",
    "edgeset = ['Half-blood','Pure-blood']\n",
    "# E.indices(E.keys[0], list(edgeset))\n",
    "# E._index('House','Half-blood')\n",
    "a = (np.where(E._labels['House'] == 'Half-blood')[0].size > 0)\n",
    "b = np.where(E._labels['House'] == 'Half-blood')[0]\n",
    "int(a and a*b) if a else None"
   ]
  },
  {
   "cell_type": "code",
   "execution_count": null,
   "metadata": {},
   "outputs": [],
   "source": [
    "E.elements['Gryffindor']"
   ]
  },
  {
   "cell_type": "code",
   "execution_count": null,
   "metadata": {},
   "outputs": [],
   "source": [
    "h.edges.labels"
   ]
  },
  {
   "cell_type": "code",
   "execution_count": null,
   "metadata": {},
   "outputs": [],
   "source": [
    "h.edges.arr"
   ]
  },
  {
   "cell_type": "code",
   "execution_count": null,
   "metadata": {},
   "outputs": [],
   "source": [
    "# self = h.edges\n",
    "# indices = [1,2]\n",
    "# level=0\n",
    "# indices = list(indices)\n",
    "# newlabels = self.labels.copy()\n",
    "# newlabels[self.keys[level]] = self._labs(level)[indices]\n",
    "# if issparse(self.arr):\n",
    "#     newarr = self.arr.tocsr()\n",
    "#     newarr = newarr[indices].tocoo()\n",
    "# elif level == 0:\n",
    "#     newarr = self.arr[indices]\n",
    "# else:\n",
    "#     axes = [level] + list(range(1, level)) + [0] + list(range(level + 1, self._size))\n",
    "#     newarr = self.arr.transpose(axes)[indices].transpose(axes)"
   ]
  },
  {
   "cell_type": "code",
   "execution_count": null,
   "metadata": {},
   "outputs": [],
   "source": [
    "# h.restrict_to_edges(['Gryffindor','Ravenclaw'])\n",
    "# E=h.edges\n",
    "# edgeset = ['Gryffindor','Ravenclaw']\n",
    "# E.restrict_to(sorted(E.indices(E.keys[0], list(edgeset))))\n",
    "h.edges.properties"
   ]
  },
  {
   "cell_type": "code",
   "execution_count": null,
   "metadata": {},
   "outputs": [],
   "source": [
    "E._index(E.keys[0],'Gryffindor')"
   ]
  },
  {
   "cell_type": "code",
   "execution_count": null,
   "metadata": {},
   "outputs": [],
   "source": [
    "E.elements['Gryffindor']"
   ]
  },
  {
   "cell_type": "code",
   "execution_count": null,
   "metadata": {},
   "outputs": [],
   "source": [
    "h.size('Gryffindor',['Unknown Blood status','Half-blood']), h.dim('Gryffindor')"
   ]
  },
  {
   "cell_type": "code",
   "execution_count": null,
   "metadata": {},
   "outputs": [],
   "source": [
    "h.edges['Gryffindor']"
   ]
  },
  {
   "cell_type": "code",
   "execution_count": null,
   "metadata": {},
   "outputs": [],
   "source": [
    "len(h.nodes)"
   ]
  },
  {
   "cell_type": "code",
   "execution_count": null,
   "metadata": {},
   "outputs": [],
   "source": [
    "h.nodes.dimensions"
   ]
  },
  {
   "cell_type": "code",
   "execution_count": null,
   "metadata": {},
   "outputs": [],
   "source": [
    "h.edges.dimensions"
   ]
  },
  {
   "cell_type": "code",
   "execution_count": null,
   "metadata": {},
   "outputs": [],
   "source": [
    "len(h.nodes.keys)"
   ]
  },
  {
   "cell_type": "code",
   "execution_count": null,
   "metadata": {},
   "outputs": [],
   "source": [
    "h.shape"
   ]
  },
  {
   "cell_type": "code",
   "execution_count": null,
   "metadata": {},
   "outputs": [],
   "source": [
    "h.nodes.elements['Half-blood']"
   ]
  },
  {
   "cell_type": "code",
   "execution_count": null,
   "metadata": {},
   "outputs": [],
   "source": [
    "h.nodes.elements"
   ]
  },
  {
   "cell_type": "code",
   "execution_count": null,
   "metadata": {},
   "outputs": [],
   "source": [
    "len(h.edges.elements)"
   ]
  },
  {
   "cell_type": "code",
   "execution_count": null,
   "metadata": {},
   "outputs": [],
   "source": [
    "len(h.nodes.elements)"
   ]
  },
  {
   "cell_type": "code",
   "execution_count": null,
   "metadata": {},
   "outputs": [],
   "source": [
    "h.adjacency_matrix(s=100,index=True,sparse=True)"
   ]
  },
  {
   "cell_type": "code",
   "execution_count": null,
   "metadata": {},
   "outputs": [],
   "source": [
    "m = h.incidence_matrix(sparse=True)\n",
    "m"
   ]
  },
  {
   "cell_type": "code",
   "execution_count": null,
   "metadata": {},
   "outputs": [],
   "source": [
    "m.dot(m.transpose())"
   ]
  },
  {
   "cell_type": "code",
   "execution_count": null,
   "metadata": {},
   "outputs": [],
   "source": [
    "for k in h.nodes:\n",
    "    print(k)"
   ]
  },
  {
   "cell_type": "code",
   "execution_count": null,
   "metadata": {},
   "outputs": [],
   "source": [
    "h.nodes.elements"
   ]
  },
  {
   "cell_type": "code",
   "execution_count": null,
   "metadata": {},
   "outputs": [],
   "source": [
    "# a,b = h.auxiliary_matrix(s=6,sparse=True,index=True)\n",
    "# a,b"
   ]
  },
  {
   "cell_type": "code",
   "execution_count": null,
   "metadata": {},
   "outputs": [],
   "source": [
    "# hh = h.restrict_to_edges(list(b.values()))\n",
    "# hh.incidence_matrix(sparse=False)"
   ]
  },
  {
   "cell_type": "code",
   "execution_count": null,
   "metadata": {},
   "outputs": [],
   "source": [
    "g = h.bipartite()\n",
    "g.nodes"
   ]
  },
  {
   "cell_type": "code",
   "execution_count": null,
   "metadata": {},
   "outputs": [],
   "source": [
    "h.dual().incidence_matrix(sparse=False,index=True)"
   ]
  },
  {
   "cell_type": "code",
   "execution_count": null,
   "metadata": {},
   "outputs": [],
   "source": [
    "ne = harry.entity.arr\n",
    "list(np.sum(ne,axis=tuple([1,2,3,4])))"
   ]
  },
  {
   "cell_type": "code",
   "execution_count": null,
   "metadata": {},
   "outputs": [],
   "source": [
    "ids = list(range(5))\n",
    "ids.remove(0)\n",
    "np.sum(ne,axis=tuple(ids))"
   ]
  },
  {
   "cell_type": "code",
   "execution_count": null,
   "metadata": {},
   "outputs": [],
   "source": [
    "hd = uh.Hypergraph(h.edges.incidence_dict)\n",
    "hnx.draw(hd)"
   ]
  },
  {
   "cell_type": "code",
   "execution_count": null,
   "metadata": {},
   "outputs": [],
   "source": [
    "ed = hnx.EntitySet('harrypotter',h.edges.incidence_dict)"
   ]
  },
  {
   "cell_type": "code",
   "execution_count": null,
   "metadata": {},
   "outputs": [],
   "source": [
    "ed"
   ]
  },
  {
   "cell_type": "code",
   "execution_count": null,
   "metadata": {},
   "outputs": [],
   "source": [
    "h.incidence_matrix()"
   ]
  },
  {
   "cell_type": "code",
   "execution_count": null,
   "metadata": {},
   "outputs": [],
   "source": [
    "hd"
   ]
  },
  {
   "cell_type": "code",
   "execution_count": null,
   "metadata": {},
   "outputs": [],
   "source": [
    "level1_name='level1'; level2_name='level2'\n",
    "arr,cdict,rdict = hd.edges.incidence_matrix(index=True)\n",
    "arr = arr.transpose()\n",
    "labels = OrderedDict([(level1_name, [rdict[k] for k in range(len(rdict))]), (level2_name, [cdict[k] for k in range(len(cdict))])])"
   ]
  },
  {
   "cell_type": "code",
   "execution_count": null,
   "metadata": {},
   "outputs": [],
   "source": [
    "E = us.StaticEntity(arr=arr,labels=labels)"
   ]
  },
  {
   "cell_type": "code",
   "execution_count": null,
   "metadata": {},
   "outputs": [],
   "source": [
    "hds = hd.convert_to_static()"
   ]
  },
  {
   "cell_type": "code",
   "execution_count": null,
   "metadata": {},
   "outputs": [],
   "source": [
    "hds"
   ]
  },
  {
   "cell_type": "code",
   "execution_count": null,
   "metadata": {},
   "outputs": [],
   "source": [
    "hds.incidence_dict == h.incidence_dict"
   ]
  },
  {
   "cell_type": "code",
   "execution_count": null,
   "metadata": {},
   "outputs": [],
   "source": [
    "h.incidence_dict"
   ]
  },
  {
   "cell_type": "code",
   "execution_count": null,
   "metadata": {},
   "outputs": [],
   "source": [
    "np.array([cdict[k] for k in range(len(cdict))])"
   ]
  },
  {
   "cell_type": "code",
   "execution_count": null,
   "metadata": {},
   "outputs": [],
   "source": [
    "h.edges.labels"
   ]
  },
  {
   "cell_type": "code",
   "execution_count": null,
   "metadata": {},
   "outputs": [],
   "source": [
    "hd = h.remove_static()"
   ]
  },
  {
   "cell_type": "code",
   "execution_count": null,
   "metadata": {},
   "outputs": [],
   "source": [
    "hd"
   ]
  },
  {
   "cell_type": "code",
   "execution_count": null,
   "metadata": {},
   "outputs": [],
   "source": [
    "hd.isstatic"
   ]
  },
  {
   "cell_type": "code",
   "execution_count": null,
   "metadata": {},
   "outputs": [],
   "source": [
    "hds = hd.convert_to_static();hds"
   ]
  },
  {
   "cell_type": "code",
   "execution_count": null,
   "metadata": {},
   "outputs": [],
   "source": [
    "node = 'Pure-blood'\n",
    "idx = h.edges.indices(h.edges.keys[1],[node])[0]\n",
    "int(np.sum(h.incidence_matrix(),axis=1)[idx])"
   ]
  },
  {
   "cell_type": "code",
   "execution_count": null,
   "metadata": {},
   "outputs": [],
   "source": [
    "imat = h.incidence_matrix()\n",
    "edges = ['Gryffindor','Slytherin']\n",
    "jdx = h.edges.indices(h.edges.keys[0],edges);print(jdx)\n",
    "int(np.sum(imat[:,jdx],axis=1)[idx])"
   ]
  },
  {
   "cell_type": "code",
   "execution_count": null,
   "metadata": {},
   "outputs": [],
   "source": [
    "s=5\n",
    "jdx = sorted(set(np.asarray(np.sum(imat,axis=0)>s).nonzero()[1]).intersection(jdx))\n",
    "jdx"
   ]
  },
  {
   "cell_type": "code",
   "execution_count": null,
   "metadata": {},
   "outputs": [],
   "source": [
    "h.incidence_matrix().todense()"
   ]
  },
  {
   "cell_type": "code",
   "execution_count": null,
   "metadata": {},
   "outputs": [],
   "source": [
    "h.edges,h.nodes"
   ]
  },
  {
   "cell_type": "code",
   "execution_count": null,
   "metadata": {},
   "outputs": [],
   "source": [
    "h.degree('Half-blood',s=1)"
   ]
  },
  {
   "cell_type": "code",
   "execution_count": null,
   "metadata": {},
   "outputs": [],
   "source": [
    "imat[idx].nonzero()[1]"
   ]
  },
  {
   "cell_type": "code",
   "execution_count": null,
   "metadata": {},
   "outputs": [],
   "source": [
    "node = 'Pure-blood'\n",
    "idx = h.edges.indices(h.edges.keys[1], [node])[0]\n",
    "jdx = np.array(np.sum(imat, axis=0) >= 5).nonzero()[1]\n",
    "ndx = imat[idx].nonzero()[1]\n",
    "kdx = sorted(set(jdx).intersection(ndx))\n",
    "neighbors = sorted(np.sum(imat[:,kdx],axis=1).nonzero()[0])\n",
    "print(neighbors)\n",
    "neighbors.remove(idx)\n",
    "neighbors = h.edges.translate(1,neighbors)\n",
    "idx,ndx,jdx,kdx,neighbors,imat.todense()"
   ]
  },
  {
   "cell_type": "code",
   "execution_count": null,
   "metadata": {},
   "outputs": [],
   "source": [
    "self = h\n",
    "imat = self.incidence_matrix()\n",
    "idx = self.edges.indices(self.edges.keys[1], [node])[0]\n",
    "edx = imat[idx].nonzero()[1]  # edge indices\n",
    "if s > 1:\n",
    "    sdx = (np.sum(imat, axis=0) > s).nonzero()[1]\n",
    "    edx = sorted(set(edx).intersection(sdx))\n",
    "\n",
    "# if len(edx) == 0:\n",
    "#     edges = set()\n",
    "#     neighbors = set()\n",
    "# else:\n",
    "neighbors = np.sum(imat[:, edx], axis=1).nonzero()[0]\n",
    "# neighbors.remove(idx)\n",
    "# neighbors = set(self.edges.translate(1, neighbors))\n",
    "# if return_edges:\n",
    "#     edges = set(self.edges.translate(0, jdx))"
   ]
  },
  {
   "cell_type": "code",
   "execution_count": null,
   "metadata": {},
   "outputs": [],
   "source": [
    "edx"
   ]
  },
  {
   "cell_type": "code",
   "execution_count": null,
   "metadata": {},
   "outputs": [],
   "source": [
    "edv = imat[idx]\n",
    "sdv = csr_matrix((np.array(np.sum(imat, axis=0) > s)*1)[0])\n",
    "# np.multiply(edv,sdv)\n",
    "csr_matrix.multiply(edv,sdv).nonzero()"
   ]
  },
  {
   "cell_type": "code",
   "execution_count": null,
   "metadata": {},
   "outputs": [],
   "source": [
    "edv.todense(),sdv.todense()"
   ]
  },
  {
   "cell_type": "code",
   "execution_count": null,
   "metadata": {},
   "outputs": [],
   "source": [
    "s=2\n",
    "edx = imat[idx]\n",
    "sdx = imat.sum(axis=0)>s"
   ]
  },
  {
   "cell_type": "code",
   "execution_count": null,
   "metadata": {},
   "outputs": [],
   "source": [
    "edx,sdx"
   ]
  },
  {
   "cell_type": "code",
   "execution_count": null,
   "metadata": {},
   "outputs": [],
   "source": [
    "edx = edx.multiply(sdx).nonzero()[1]"
   ]
  },
  {
   "cell_type": "code",
   "execution_count": null,
   "metadata": {},
   "outputs": [],
   "source": [
    "len(edx)"
   ]
  },
  {
   "cell_type": "code",
   "execution_count": null,
   "metadata": {},
   "outputs": [],
   "source": [
    "np.sum(imat[:,edx],axis=1).nonzero()[0]"
   ]
  },
  {
   "cell_type": "code",
   "execution_count": null,
   "metadata": {},
   "outputs": [],
   "source": [
    "h.neighbors('Muggle')"
   ]
  },
  {
   "cell_type": "code",
   "execution_count": null,
   "metadata": {},
   "outputs": [],
   "source": [
    "h['Muggle']"
   ]
  },
  {
   "cell_type": "code",
   "execution_count": null,
   "metadata": {},
   "outputs": [],
   "source": [
    "h.adjacency_matrix(s=4).todense()\n"
   ]
  },
  {
   "cell_type": "code",
   "execution_count": null,
   "metadata": {},
   "outputs": [],
   "source": [
    "h.edges"
   ]
  },
  {
   "cell_type": "code",
   "execution_count": null,
   "metadata": {},
   "outputs": [],
   "source": [
    "h.restrict_to_edges(['Gryffindor', 'Ravenclaw', 'Slytherin', 'Hufflepuff',])"
   ]
  },
  {
   "cell_type": "code",
   "execution_count": null,
   "metadata": {},
   "outputs": [],
   "source": [
    "nodes = ['Half-blood','Pure-blood','Pure-blood or half-blood','Muggle-born or half-blood']\n",
    "inodes = h.edges.indices(h.edges.keys[1],nodes)\n",
    "E = h.edges.restrict_to_levels((1,0)).restrict_to(inodes).restrict_to_levels((1,0))\n",
    "hr = uh.Hypergraph(E)"
   ]
  },
  {
   "cell_type": "code",
   "execution_count": null,
   "metadata": {},
   "outputs": [],
   "source": [
    "hnx.draw(hr.remove_static())"
   ]
  },
  {
   "cell_type": "code",
   "execution_count": null,
   "metadata": {},
   "outputs": [],
   "source": [
    "inodes"
   ]
  },
  {
   "cell_type": "code",
   "execution_count": null,
   "metadata": {},
   "outputs": [],
   "source": [
    "E = h.edges.restrict_to_levels((1,0))"
   ]
  },
  {
   "cell_type": "code",
   "execution_count": null,
   "metadata": {},
   "outputs": [],
   "source": [
    "E = E.restrict_to(inodes)"
   ]
  },
  {
   "cell_type": "code",
   "execution_count": null,
   "metadata": {},
   "outputs": [],
   "source": [
    "E.elements"
   ]
  },
  {
   "cell_type": "code",
   "execution_count": null,
   "metadata": {},
   "outputs": [],
   "source": [
    "F = E.restrict_to_levels((1,0))\n",
    "F"
   ]
  },
  {
   "cell_type": "code",
   "execution_count": null,
   "metadata": {},
   "outputs": [],
   "source": [
    "hr = uh.Hypergraph(F)"
   ]
  },
  {
   "cell_type": "code",
   "execution_count": null,
   "metadata": {},
   "outputs": [],
   "source": [
    "hr.edges"
   ]
  },
  {
   "cell_type": "code",
   "execution_count": null,
   "metadata": {},
   "outputs": [],
   "source": [
    "hr.nodes"
   ]
  },
  {
   "cell_type": "code",
   "execution_count": null,
   "metadata": {},
   "outputs": [],
   "source": [
    "hnx.draw(hr.remove_static())"
   ]
  },
  {
   "cell_type": "code",
   "execution_count": null,
   "metadata": {},
   "outputs": [],
   "source": [
    "hrs = hr.remove_static()\n",
    "hrs.nodes"
   ]
  },
  {
   "cell_type": "code",
   "execution_count": null,
   "metadata": {},
   "outputs": [],
   "source": [
    "hrs.edges"
   ]
  },
  {
   "cell_type": "code",
   "execution_count": null,
   "metadata": {},
   "outputs": [],
   "source": [
    "hrs.edges['Beauxbatons Academy of Magic']"
   ]
  },
  {
   "cell_type": "code",
   "execution_count": null,
   "metadata": {},
   "outputs": [],
   "source": [
    "harry.entity.labels"
   ]
  },
  {
   "cell_type": "code",
   "execution_count": null,
   "metadata": {},
   "outputs": [],
   "source": [
    "ne = harry.entity.restrict_to_indices([1,2,3,4])\n",
    "ne.arr.shape"
   ]
  },
  {
   "cell_type": "code",
   "execution_count": null,
   "metadata": {},
   "outputs": [],
   "source": [
    "axes = list(np.arange(ne.dimsize))\n",
    "axes.remove(0)\n",
    "axes"
   ]
  },
  {
   "cell_type": "code",
   "execution_count": null,
   "metadata": {},
   "outputs": [],
   "source": [
    "    def remove_empties(self, level_to_keep=0):\n",
    "        axes = list(np.arange(self.dimsize))\n",
    "        axes.remove(level_to_keep)\n",
    "        ne = self.__class__(self.arr, self.labels, self.uid, **self.properties)\n",
    "        for level in axes:\n",
    "            ids = list(range(ne.dimsize))\n",
    "            ids.remove(level)\n",
    "            keepers = list(np.sum(ne.arr,axis=tuple(ids)).nonzero()[0])\n",
    "            ne = ne.restrict_to_indices(keepers,level=level)\n",
    "        return ne"
   ]
  },
  {
   "cell_type": "code",
   "execution_count": null,
   "metadata": {},
   "outputs": [],
   "source": [
    "self = harry.entity.restrict_to_indices([1,2,3,4],level=0)"
   ]
  },
  {
   "cell_type": "code",
   "execution_count": null,
   "metadata": {},
   "outputs": [],
   "source": [
    "E = harry.entity"
   ]
  },
  {
   "cell_type": "code",
   "execution_count": null,
   "metadata": {},
   "outputs": [],
   "source": [
    "F = E.restrict_to_indices([1,2,3,4], rem_empties=False)"
   ]
  },
  {
   "cell_type": "code",
   "execution_count": null,
   "metadata": {},
   "outputs": [],
   "source": [
    "F.labels"
   ]
  },
  {
   "cell_type": "code",
   "execution_count": null,
   "metadata": {},
   "outputs": [],
   "source": [
    "E.dimensions,F.dimensions"
   ]
  },
  {
   "cell_type": "code",
   "execution_count": null,
   "metadata": {},
   "outputs": [],
   "source": [
    "self = F;level_to_keep=0\n",
    "axes = list(np.arange(self.dimsize))\n",
    "axes.remove(level_to_keep)\n",
    "ne = self.__class__(arr=self.arr, labels=self.labels, uid=self.uid, **self.properties)\n",
    "for level in axes:\n",
    "    print(level)\n",
    "    ids = list(range(ne.dimsize))\n",
    "    ids.remove(level)\n",
    "    print(ids)\n",
    "    keepers = list(np.sum(ne.arr, axis=tuple(ids)).nonzero()[0])\n",
    "    print(keepers)\n",
    "    \n",
    "    ne.restrict_to_indices(keepers, level=level, uid=ne.uid, rem_empties=False)\n",
    "    break"
   ]
  },
  {
   "cell_type": "code",
   "execution_count": null,
   "metadata": {},
   "outputs": [],
   "source": [
    "ne.restrict_to_indices([0, 1, 2, 3, 4, 5, 6, 7],level=1)"
   ]
  },
  {
   "cell_type": "code",
   "execution_count": null,
   "metadata": {},
   "outputs": [],
   "source": [
    "F = E.restrict_to_indices([1,2,3,4])"
   ]
  },
  {
   "cell_type": "code",
   "execution_count": null,
   "metadata": {},
   "outputs": [],
   "source": [
    "F.remove_empties(0)"
   ]
  },
  {
   "cell_type": "code",
   "execution_count": null,
   "metadata": {},
   "outputs": [],
   "source": [
    "F.dimensions"
   ]
  },
  {
   "cell_type": "code",
   "execution_count": null,
   "metadata": {},
   "outputs": [],
   "source": [
    "E.dimsize"
   ]
  },
  {
   "cell_type": "code",
   "execution_count": null,
   "metadata": {},
   "outputs": [],
   "source": [
    "def remove_empties(self, level_to_keep=0):\n",
    "    axes = list(np.arange(self.dimsize))\n",
    "    axes.remove(level_to_keep)\n",
    "    \n",
    "    ne = self.__class__(arr=self.arr, labels=self.labels, uid=self.uid, **self.properties)\n",
    "    for level in axes:\n",
    "        ids = list(range(self.dimsize))\n",
    "        ids.remove(level)\n",
    "        ids = tuple(ids)\n",
    "        keepers = np.sum(ne.arr, axis=ids).nonzero()[0]\n",
    "        ne = ne.restrict_to_indices(keepers, level=level, uid=ne.uid, rem_empties=False)\n",
    "    return ne"
   ]
  },
  {
   "cell_type": "code",
   "execution_count": null,
   "metadata": {},
   "outputs": [],
   "source": [
    "G = remove_empties(F,0)\n",
    "G.dimensions"
   ]
  },
  {
   "cell_type": "code",
   "execution_count": null,
   "metadata": {},
   "outputs": [],
   "source": [
    "    def restrict_to_indices(self, indices, level=0, uid=None, rem_empties=True):\n",
    "        # TODO handle sparse case - use scipy.sparse.bmat\n",
    "        indices = list(indices)\n",
    "        newlabels = self.labels.copy()\n",
    "        newlabels[self.keys[level]] = self._labs(level)[indices]\n",
    "        if issparse(self._arr):\n",
    "            newarr = self._arr.tocsr\n",
    "            if level > 1:\n",
    "                print('static entities with sparse arrays have at most 2 levels')\n",
    "                return\n",
    "            elif level == 1:\n",
    "                newarr = self._arr[:, indices]\n",
    "            else:\n",
    "                newarr = self._arr[indices]\n",
    "        else:\n",
    "            if level == 0:\n",
    "                newarr = self._arr[indices]\n",
    "            else:\n",
    "                axes = [level] + list(range(1, level)) + [0] + list(range(level + 1, self.dimsize))\n",
    "                newarr = self._arr.transpose(axes)[indices].transpose(axes)\n",
    "        temp = self.__class__(arr=newarr, labels=newlabels, uid=uid, **self.properties)\n",
    "#         return(temp)\n",
    "        if rem_empties == True:\n",
    "            return temp.remove_empties(level)\n",
    "        else:\n",
    "            return temp"
   ]
  },
  {
   "cell_type": "code",
   "execution_count": null,
   "metadata": {},
   "outputs": [],
   "source": [
    "F = restrict_to_indices(E, [1,2,3,4])\n",
    "F.dimensions, E.dimensions"
   ]
  },
  {
   "cell_type": "code",
   "execution_count": null,
   "metadata": {},
   "outputs": [],
   "source": []
  }
 ],
 "metadata": {
  "kernelspec": {
   "display_name": "Python 3",
   "language": "python",
   "name": "python3"
  },
  "language_info": {
   "codemirror_mode": {
    "name": "ipython",
    "version": 3
   },
   "file_extension": ".py",
   "mimetype": "text/x-python",
   "name": "python",
   "nbconvert_exporter": "python",
   "pygments_lexer": "ipython3",
   "version": "3.8.5"
  }
 },
 "nbformat": 4,
 "nbformat_minor": 4
}
