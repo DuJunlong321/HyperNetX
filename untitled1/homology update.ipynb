{
 "cells": [
  {
   "cell_type": "code",
   "execution_count": 1,
   "metadata": {},
   "outputs": [],
   "source": [
    "from hypernetx import *\n",
    "import warnings\n",
    "warnings.warn('always')"
   ]
  },
  {
   "cell_type": "code",
   "execution_count": 45,
   "metadata": {},
   "outputs": [],
   "source": [
    "class BigFish():\n",
    "    \"\"\"Example hypergraph with 4 2-cells forming a void and 1-2cell and 2 1-cells forming a loop\"\"\"\n",
    "\n",
    "    def __init__(self):\n",
    "        A, B, C, D, E, F, G, H, I = 'A', 'B', 'C', 'D', 'E', 'F', 'G', 'H','I'\n",
    "        AB, BC, ACD, BEH, CF, AG, ADI, ACI, CDI = 'AB', 'BC', 'ACD', 'BEH', 'CF', 'AG', 'ADI', 'ACI', 'CDI'\n",
    "        self.edgedict = {AB: {A, B}, BC: {B, C}, ACD: {A, C, D}, BEH: {B, E, H}, CF: {C, F}, AG: {A, G},\n",
    "                        ADI: {A, D, I}, ACI: {A, C, I}, CDI: {C, D, I}}\n",
    "        self.hypergraph = hnx.Hypergraph(self.edgedict, name='Fish')\n",
    "        state_dict = {'chains': {0: [('A',), ('B',), ('C',), ('D',), ('E',), ('F',), ('G',), ('H',), ('I',)],\n",
    "                                 1: [('A', 'B'),('A', 'C'),('A', 'D'),('A', 'G'),('A', 'I'),('B', 'C'),('B', 'E'),\n",
    "                                     ('B', 'H'),('C', 'D'),('C', 'F'),('C', 'I'),('D', 'I'),('E', 'H')],\n",
    "                                 2: [('A', 'C', 'D'),('A', 'C', 'I'),('A', 'D', 'I'),('B', 'E', 'H'),('C', 'D', 'I')],\n",
    "                                 3: []},\n",
    "                      'bd': {1: np.array([[1, 1, 1, 1, 1, 0, 0, 0, 0, 0, 0, 0, 0],[1, 0, 0, 0, 0, 1, 1, 1, 0, 0, 0, 0, 0],\n",
    "                                        [0, 1, 0, 0, 0, 1, 0, 0, 1, 1, 1, 0, 0],[0, 0, 1, 0, 0, 0, 0, 0, 1, 0, 0, 1, 0],\n",
    "                                        [0, 0, 0, 0, 0, 0, 1, 0, 0, 0, 0, 0, 1],[0, 0, 0, 0, 0, 0, 0, 0, 0, 1, 0, 0, 0],\n",
    "                                        [0, 0, 0, 1, 0, 0, 0, 0, 0, 0, 0, 0, 0],[0, 0, 0, 0, 0, 0, 0, 1, 0, 0, 0, 0, 1],\n",
    "                                        [0, 0, 0, 0, 1, 0, 0, 0, 0, 0, 1, 1, 0]]),\n",
    "                             2: np.array([[0, 0, 0, 0, 0],[1, 1, 0, 0, 0],[1, 0, 1, 0, 0],[0, 0, 0, 0, 0],[0, 1, 1, 0, 0],\n",
    "                                        [0, 0, 0, 0, 0],[0, 0, 0, 1, 0],[0, 0, 0, 1, 0],[1, 0, 0, 0, 1],[0, 0, 0, 0, 0],\n",
    "                                        [0, 1, 0, 0, 1],[0, 0, 1, 0, 1],[0, 0, 0, 1, 0]]),\n",
    "                             3: np.array([[] for k in range(5)], dtype=np.int64)}\n",
    "                      }\n",
    "        self.state = state_dict"
   ]
  },
  {
   "cell_type": "code",
   "execution_count": 55,
   "metadata": {},
   "outputs": [],
   "source": [
    "\n",
    "basis, ibasis = hypergraph_homology_basis(bigfish.hypergraph,shortest=True)\n",
    "assert len(ibasis[2][0]) == 4\n",
    "assert ('A', 'D', 'I') in ibasis[2][0]\n",
    "assert len(ibasis[1][0]) == 3\n",
    "assert ('B','C') in ibasis[1][0]"
   ]
  },
  {
   "cell_type": "code",
   "execution_count": 54,
   "metadata": {},
   "outputs": [
    {
     "data": {
      "text/plain": [
       "[[('A', 'B'), ('A', 'C'), ('B', 'C')]]"
      ]
     },
     "execution_count": 54,
     "metadata": {},
     "output_type": "execute_result"
    }
   ],
   "source": [
    "ibasis[1]"
   ]
  },
  {
   "cell_type": "code",
   "execution_count": 5,
   "metadata": {},
   "outputs": [],
   "source": [
    "C = dict()\n",
    "for k in range(0,4):\n",
    "    C[k] = kchainbasis(fh,k)"
   ]
  },
  {
   "cell_type": "code",
   "execution_count": 6,
   "metadata": {},
   "outputs": [
    {
     "data": {
      "text/plain": [
       "{0: [('A',), ('B',), ('C',), ('D',), ('E',), ('F',), ('G',), ('H',), ('I',)],\n",
       " 1: [('A', 'B'),\n",
       "  ('A', 'C'),\n",
       "  ('A', 'D'),\n",
       "  ('A', 'G'),\n",
       "  ('A', 'I'),\n",
       "  ('B', 'C'),\n",
       "  ('B', 'E'),\n",
       "  ('B', 'H'),\n",
       "  ('C', 'D'),\n",
       "  ('C', 'F'),\n",
       "  ('C', 'I'),\n",
       "  ('D', 'I'),\n",
       "  ('E', 'H')],\n",
       " 2: [('A', 'C', 'D'),\n",
       "  ('A', 'C', 'I'),\n",
       "  ('A', 'D', 'I'),\n",
       "  ('B', 'E', 'H'),\n",
       "  ('C', 'D', 'I')],\n",
       " 3: []}"
      ]
     },
     "execution_count": 6,
     "metadata": {},
     "output_type": "execute_result"
    }
   ],
   "source": [
    "C"
   ]
  },
  {
   "cell_type": "code",
   "execution_count": 7,
   "metadata": {},
   "outputs": [
    {
     "data": {
      "text/plain": [
       "array([], shape=(2, 0), dtype=int64)"
      ]
     },
     "execution_count": 7,
     "metadata": {},
     "output_type": "execute_result"
    }
   ],
   "source": [
    "np.array([[],[]], dtype=np.int64)"
   ]
  },
  {
   "cell_type": "code",
   "execution_count": 8,
   "metadata": {},
   "outputs": [
    {
     "data": {
      "text/plain": [
       "{1: array([[1, 1, 1, 1, 0, 0, 0, 0, 0, 0],\n",
       "        [1, 0, 0, 0, 1, 1, 1, 0, 0, 0],\n",
       "        [0, 1, 0, 0, 1, 0, 0, 1, 1, 0],\n",
       "        [0, 0, 1, 0, 0, 0, 0, 1, 0, 0],\n",
       "        [0, 0, 0, 0, 0, 1, 0, 0, 0, 1],\n",
       "        [0, 0, 0, 0, 0, 0, 0, 0, 1, 0],\n",
       "        [0, 0, 0, 1, 0, 0, 0, 0, 0, 0],\n",
       "        [0, 0, 0, 0, 0, 0, 1, 0, 0, 1]]), 2: array([[0, 0],\n",
       "        [1, 0],\n",
       "        [1, 0],\n",
       "        [0, 0],\n",
       "        [0, 0],\n",
       "        [0, 1],\n",
       "        [0, 1],\n",
       "        [1, 0],\n",
       "        [0, 0],\n",
       "        [0, 1]]), 3: array([], shape=(2, 0), dtype=int64)}"
      ]
     },
     "execution_count": 8,
     "metadata": {},
     "output_type": "execute_result"
    }
   ],
   "source": [
    "{1: np.array([[1, 1, 1, 1, 0, 0, 0, 0, 0, 0],\n",
    "        [1, 0, 0, 0, 1, 1, 1, 0, 0, 0],\n",
    "        [0, 1, 0, 0, 1, 0, 0, 1, 1, 0],\n",
    "        [0, 0, 1, 0, 0, 0, 0, 1, 0, 0],\n",
    "        [0, 0, 0, 0, 0, 1, 0, 0, 0, 1],\n",
    "        [0, 0, 0, 0, 0, 0, 0, 0, 1, 0],\n",
    "        [0, 0, 0, 1, 0, 0, 0, 0, 0, 0],\n",
    "        [0, 0, 0, 0, 0, 0, 1, 0, 0, 1]]), 2: np.array([[0, 0],\n",
    "        [1, 0],\n",
    "        [1, 0],\n",
    "        [0, 0],\n",
    "        [0, 0],\n",
    "        [0, 1],\n",
    "        [0, 1],\n",
    "        [1, 0],\n",
    "        [0, 0],\n",
    "        [0, 1]]), 3: np.array([[],[]], dtype=np.int64)}"
   ]
  },
  {
   "cell_type": "code",
   "execution_count": 9,
   "metadata": {},
   "outputs": [],
   "source": [
    "bd = dict()\n",
    "for k in range(1,4):\n",
    "    bd[k] = bkMatrix(C[k-1],C[k])"
   ]
  },
  {
   "cell_type": "code",
   "execution_count": 10,
   "metadata": {},
   "outputs": [
    {
     "data": {
      "text/plain": [
       "{1: array([[1, 1, 1, 1, 1, 0, 0, 0, 0, 0, 0, 0, 0],\n",
       "        [1, 0, 0, 0, 0, 1, 1, 1, 0, 0, 0, 0, 0],\n",
       "        [0, 1, 0, 0, 0, 1, 0, 0, 1, 1, 1, 0, 0],\n",
       "        [0, 0, 1, 0, 0, 0, 0, 0, 1, 0, 0, 1, 0],\n",
       "        [0, 0, 0, 0, 0, 0, 1, 0, 0, 0, 0, 0, 1],\n",
       "        [0, 0, 0, 0, 0, 0, 0, 0, 0, 1, 0, 0, 0],\n",
       "        [0, 0, 0, 1, 0, 0, 0, 0, 0, 0, 0, 0, 0],\n",
       "        [0, 0, 0, 0, 0, 0, 0, 1, 0, 0, 0, 0, 1],\n",
       "        [0, 0, 0, 0, 1, 0, 0, 0, 0, 0, 1, 1, 0]]), 2: array([[0, 0, 0, 0, 0],\n",
       "        [1, 1, 0, 0, 0],\n",
       "        [1, 0, 1, 0, 0],\n",
       "        [0, 0, 0, 0, 0],\n",
       "        [0, 1, 1, 0, 0],\n",
       "        [0, 0, 0, 0, 0],\n",
       "        [0, 0, 0, 1, 0],\n",
       "        [0, 0, 0, 1, 0],\n",
       "        [1, 0, 0, 0, 1],\n",
       "        [0, 0, 0, 0, 0],\n",
       "        [0, 1, 0, 0, 1],\n",
       "        [0, 0, 1, 0, 1],\n",
       "        [0, 0, 0, 1, 0]]), 3: array([], shape=(5, 0), dtype=int64)}"
      ]
     },
     "execution_count": 10,
     "metadata": {},
     "output_type": "execute_result"
    }
   ],
   "source": [
    "bd"
   ]
  },
  {
   "cell_type": "code",
   "execution_count": 11,
   "metadata": {},
   "outputs": [
    {
     "data": {
      "text/plain": [
       "{1: 1, 2: 1}"
      ]
     },
     "execution_count": 11,
     "metadata": {},
     "output_type": "execute_result"
    }
   ],
   "source": [
    "betti_numbers(fh)"
   ]
  },
  {
   "cell_type": "code",
   "execution_count": 12,
   "metadata": {},
   "outputs": [
    {
     "data": {
      "text/plain": [
       "{1: 1, 2: 1}"
      ]
     },
     "execution_count": 12,
     "metadata": {},
     "output_type": "execute_result"
    }
   ],
   "source": [
    "betti(bd)"
   ]
  },
  {
   "cell_type": "code",
   "execution_count": 13,
   "metadata": {},
   "outputs": [
    {
     "name": "stdout",
     "output_type": "stream",
     "text": [
      "No simplices of dim 3 exist. Range adjusted to max dim.\n"
     ]
    },
    {
     "data": {
      "text/plain": [
       "{1: 1, 2: 1}"
      ]
     },
     "execution_count": 13,
     "metadata": {},
     "output_type": "execute_result"
    }
   ],
   "source": [
    "betti_numbers(fh,k=[1,3])"
   ]
  },
  {
   "cell_type": "code",
   "execution_count": 14,
   "metadata": {},
   "outputs": [
    {
     "name": "stdout",
     "output_type": "stream",
     "text": [
      "No simplices of dim 3 exist. Range adjusted to max dim.\n"
     ]
    }
   ],
   "source": [
    "hb = hypergraph_homology_basis(fh,k=[1,3])"
   ]
  },
  {
   "cell_type": "code",
   "execution_count": 15,
   "metadata": {},
   "outputs": [
    {
     "data": {
      "text/plain": [
       "(({1: array([[1, 0, 0, 0, 1, 1, 0, 0, 0, 0, 1, 0, 0]]),\n",
       "   2: array([[1, 1, 1, 0, 1]])},\n",
       "  {1: [[('A', 'B'), ('A', 'I'), ('B', 'C'), ('C', 'I')]],\n",
       "   2: [[('A', 'C', 'D'), ('A', 'C', 'I'), ('A', 'D', 'I'), ('C', 'D', 'I')]]}),\n",
       " [('A', 'B'),\n",
       "  ('A', 'C'),\n",
       "  ('A', 'D'),\n",
       "  ('A', 'G'),\n",
       "  ('A', 'I'),\n",
       "  ('B', 'C'),\n",
       "  ('B', 'E'),\n",
       "  ('B', 'H'),\n",
       "  ('C', 'D'),\n",
       "  ('C', 'F'),\n",
       "  ('C', 'I'),\n",
       "  ('D', 'I'),\n",
       "  ('E', 'H')])"
      ]
     },
     "execution_count": 15,
     "metadata": {},
     "output_type": "execute_result"
    }
   ],
   "source": [
    "hb,C[1]"
   ]
  },
  {
   "cell_type": "code",
   "execution_count": 16,
   "metadata": {},
   "outputs": [
    {
     "data": {
      "text/plain": [
       "[[('A', 'C', 'D'), ('A', 'C', 'I'), ('A', 'D', 'I'), ('C', 'D', 'I')]]"
      ]
     },
     "execution_count": 16,
     "metadata": {},
     "output_type": "execute_result"
    }
   ],
   "source": [
    "hb[1][2]"
   ]
  },
  {
   "cell_type": "code",
   "execution_count": 17,
   "metadata": {},
   "outputs": [
    {
     "data": {
      "text/plain": [
       "[[('A', 'B'), ('A', 'I'), ('B', 'C'), ('C', 'I')]]"
      ]
     },
     "execution_count": 17,
     "metadata": {},
     "output_type": "execute_result"
    }
   ],
   "source": [
    "interpret(C[1],hb[0][1])"
   ]
  },
  {
   "cell_type": "code",
   "execution_count": 18,
   "metadata": {},
   "outputs": [],
   "source": [
    "hbs,bdryg = homology_basis(bd,boundary=True)"
   ]
  },
  {
   "cell_type": "code",
   "execution_count": 19,
   "metadata": {},
   "outputs": [
    {
     "data": {
      "text/plain": [
       "{1: array([[0, 1, 1, 0, 0, 0, 0, 0, 1, 0, 0, 0, 0],\n",
       "        [0, 0, 1, 0, 1, 0, 0, 0, 1, 0, 1, 0, 0],\n",
       "        [0, 0, 0, 0, 0, 0, 0, 0, 1, 0, 1, 1, 0],\n",
       "        [0, 0, 0, 0, 0, 0, 1, 1, 0, 0, 0, 0, 1]]),\n",
       " 2: array([], shape=(0, 5), dtype=int64)}"
      ]
     },
     "execution_count": 19,
     "metadata": {},
     "output_type": "execute_result"
    }
   ],
   "source": [
    "bdryg"
   ]
  },
  {
   "cell_type": "code",
   "execution_count": 20,
   "metadata": {},
   "outputs": [
    {
     "data": {
      "text/plain": [
       "{1: array([[1, 0, 0, 0, 1, 1, 0, 0, 0, 0, 1, 0, 0]]),\n",
       " 2: array([[1, 1, 1, 0, 1]])}"
      ]
     },
     "execution_count": 20,
     "metadata": {},
     "output_type": "execute_result"
    }
   ],
   "source": [
    "hbs"
   ]
  },
  {
   "cell_type": "code",
   "execution_count": 21,
   "metadata": {},
   "outputs": [
    {
     "name": "stdout",
     "output_type": "stream",
     "text": [
      "[[('A', 'C'), ('A', 'D'), ('C', 'D')], [('A', 'D'), ('A', 'I'), ('C', 'D'), ('C', 'I')], [('C', 'D'), ('C', 'I'), ('D', 'I')], [('B', 'E'), ('B', 'H'), ('E', 'H')]]\n",
      "[]\n"
     ]
    }
   ],
   "source": [
    "for k in bdryg:\n",
    "    print(interpret(C[k],bdryg[k]))"
   ]
  },
  {
   "cell_type": "code",
   "execution_count": 22,
   "metadata": {},
   "outputs": [
    {
     "data": {
      "text/plain": [
       "matrix([[0, 0, 0, 0, 0, 0, 0, 0, 0, 0, 0, 0, 0],\n",
       "        [0, 0, 0, 0, 0, 0, 1, 1, 0, 0, 0, 0, 1],\n",
       "        [0, 0, 0, 0, 0, 0, 0, 0, 1, 0, 1, 1, 0],\n",
       "        [0, 0, 0, 0, 0, 0, 1, 1, 1, 0, 1, 1, 1],\n",
       "        [0, 0, 1, 0, 1, 0, 0, 0, 1, 0, 1, 0, 0],\n",
       "        [0, 0, 1, 0, 1, 0, 1, 1, 1, 0, 1, 0, 1],\n",
       "        [0, 0, 1, 0, 1, 0, 0, 0, 0, 0, 0, 1, 0],\n",
       "        [0, 0, 1, 0, 1, 0, 1, 1, 0, 0, 0, 1, 1],\n",
       "        [0, 1, 1, 0, 0, 0, 0, 0, 1, 0, 0, 0, 0],\n",
       "        [0, 1, 1, 0, 0, 0, 1, 1, 1, 0, 0, 0, 1],\n",
       "        [0, 1, 1, 0, 0, 0, 0, 0, 0, 0, 1, 1, 0],\n",
       "        [0, 1, 1, 0, 0, 0, 1, 1, 0, 0, 1, 1, 1],\n",
       "        [0, 1, 0, 0, 1, 0, 0, 0, 0, 0, 1, 0, 0],\n",
       "        [0, 1, 0, 0, 1, 0, 1, 1, 0, 0, 1, 0, 1],\n",
       "        [0, 1, 0, 0, 1, 0, 0, 0, 1, 0, 0, 1, 0],\n",
       "        [0, 1, 0, 0, 1, 0, 1, 1, 1, 0, 0, 1, 1]], dtype=int64)"
      ]
     },
     "execution_count": 22,
     "metadata": {},
     "output_type": "execute_result"
    }
   ],
   "source": [
    "boundary_group(bdryg[1]).todense()"
   ]
  },
  {
   "cell_type": "code",
   "execution_count": 23,
   "metadata": {},
   "outputs": [
    {
     "data": {
      "text/plain": [
       "({1: [array([1, 1, 0, 0, 0, 1, 0, 0, 0, 0, 0, 0, 0])],\n",
       "  2: array([[1, 1, 1, 0, 1]])},\n",
       " {1: [[('A', 'B'), ('A', 'C'), ('B', 'C')]],\n",
       "  2: [[('A', 'C', 'D'), ('A', 'C', 'I'), ('A', 'D', 'I'), ('C', 'D', 'I')]]})"
      ]
     },
     "execution_count": 23,
     "metadata": {},
     "output_type": "execute_result"
    }
   ],
   "source": [
    "hypergraph_homology_basis(fh,[1,2],shortest=True)"
   ]
  },
  {
   "cell_type": "code",
   "execution_count": 24,
   "metadata": {},
   "outputs": [],
   "source": [
    "from scipy.sparse import csr_matrix"
   ]
  },
  {
   "cell_type": "code",
   "execution_count": 25,
   "metadata": {},
   "outputs": [],
   "source": [
    "m = csr_matrix((100,100))"
   ]
  },
  {
   "cell_type": "code",
   "execution_count": 26,
   "metadata": {},
   "outputs": [],
   "source": [
    "m[0,0] = 1"
   ]
  },
  {
   "cell_type": "code",
   "execution_count": 27,
   "metadata": {},
   "outputs": [],
   "source": [
    "m[20,20] = 1"
   ]
  },
  {
   "cell_type": "code",
   "execution_count": 28,
   "metadata": {},
   "outputs": [
    {
     "data": {
      "text/plain": [
       "2.0"
      ]
     },
     "execution_count": 28,
     "metadata": {},
     "output_type": "execute_result"
    }
   ],
   "source": [
    "np.sum(m*m)"
   ]
  },
  {
   "cell_type": "code",
   "execution_count": 29,
   "metadata": {},
   "outputs": [
    {
     "data": {
      "text/plain": [
       "inf"
      ]
     },
     "execution_count": 29,
     "metadata": {},
     "output_type": "execute_result"
    }
   ],
   "source": [
    "fh.edge_distance('ACD','BEH',s=2)"
   ]
  },
  {
   "cell_type": "code",
   "execution_count": 30,
   "metadata": {},
   "outputs": [
    {
     "data": {
      "text/plain": [
       "{0: [('A',), ('B',), ('C',), ('D',), ('E',), ('F',), ('G',), ('H',), ('I',)],\n",
       " 1: [('A', 'B'),\n",
       "  ('A', 'C'),\n",
       "  ('A', 'D'),\n",
       "  ('A', 'G'),\n",
       "  ('A', 'I'),\n",
       "  ('B', 'C'),\n",
       "  ('B', 'E'),\n",
       "  ('B', 'H'),\n",
       "  ('C', 'D'),\n",
       "  ('C', 'F'),\n",
       "  ('C', 'I'),\n",
       "  ('D', 'I'),\n",
       "  ('E', 'H')],\n",
       " 2: [('A', 'C', 'D'),\n",
       "  ('A', 'C', 'I'),\n",
       "  ('A', 'D', 'I'),\n",
       "  ('B', 'E', 'H'),\n",
       "  ('C', 'D', 'I')],\n",
       " 3: []}"
      ]
     },
     "execution_count": 30,
     "metadata": {},
     "output_type": "execute_result"
    }
   ],
   "source": [
    "Ck = fish.state['chains']\n",
    "Ck"
   ]
  },
  {
   "cell_type": "code",
   "execution_count": 31,
   "metadata": {},
   "outputs": [
    {
     "data": {
      "text/plain": [
       "True"
      ]
     },
     "execution_count": 31,
     "metadata": {},
     "output_type": "execute_result"
    }
   ],
   "source": [
    "kchainbasis(fh,1) == Ck[1]"
   ]
  },
  {
   "cell_type": "code",
   "execution_count": 32,
   "metadata": {},
   "outputs": [],
   "source": [
    "bk = fish.state['bd']"
   ]
  },
  {
   "cell_type": "code",
   "execution_count": 33,
   "metadata": {},
   "outputs": [
    {
     "data": {
      "text/plain": [
       "array([[1, 1, 1, 1, 1, 0, 0, 0, 0, 0, 0, 0, 0],\n",
       "       [1, 0, 0, 0, 0, 1, 1, 1, 0, 0, 0, 0, 0],\n",
       "       [0, 1, 0, 0, 0, 1, 0, 0, 1, 1, 1, 0, 0],\n",
       "       [0, 0, 1, 0, 0, 0, 0, 0, 1, 0, 0, 1, 0],\n",
       "       [0, 0, 0, 0, 0, 0, 1, 0, 0, 0, 0, 0, 1],\n",
       "       [0, 0, 0, 0, 0, 0, 0, 0, 0, 1, 0, 0, 0],\n",
       "       [0, 0, 0, 1, 0, 0, 0, 0, 0, 0, 0, 0, 0],\n",
       "       [0, 0, 0, 0, 0, 0, 0, 1, 0, 0, 0, 0, 1],\n",
       "       [0, 0, 0, 0, 1, 0, 0, 0, 0, 0, 1, 1, 0]])"
      ]
     },
     "execution_count": 33,
     "metadata": {},
     "output_type": "execute_result"
    }
   ],
   "source": [
    "bk[1]"
   ]
  },
  {
   "cell_type": "code",
   "execution_count": 34,
   "metadata": {},
   "outputs": [
    {
     "data": {
      "text/plain": [
       "array([[1, 1, 1, 1, 1, 0, 0, 0, 0, 0, 0, 0, 0],\n",
       "       [1, 0, 0, 0, 0, 1, 1, 1, 0, 0, 0, 0, 0],\n",
       "       [0, 1, 0, 0, 0, 1, 0, 0, 1, 1, 1, 0, 0],\n",
       "       [0, 0, 1, 0, 0, 0, 0, 0, 1, 0, 0, 1, 0],\n",
       "       [0, 0, 0, 0, 0, 0, 1, 0, 0, 0, 0, 0, 1],\n",
       "       [0, 0, 0, 0, 0, 0, 0, 0, 0, 1, 0, 0, 0],\n",
       "       [0, 0, 0, 1, 0, 0, 0, 0, 0, 0, 0, 0, 0],\n",
       "       [0, 0, 0, 0, 0, 0, 0, 1, 0, 0, 0, 0, 1],\n",
       "       [0, 0, 0, 0, 1, 0, 0, 0, 0, 0, 1, 1, 0]])"
      ]
     },
     "execution_count": 34,
     "metadata": {},
     "output_type": "execute_result"
    }
   ],
   "source": [
    "bkMatrix(C[0],C[1])"
   ]
  },
  {
   "cell_type": "code",
   "execution_count": 35,
   "metadata": {},
   "outputs": [],
   "source": [
    "basis = hypergraph_homology_basis(fish.hypergraph,shortest=True)"
   ]
  },
  {
   "cell_type": "code",
   "execution_count": 36,
   "metadata": {},
   "outputs": [
    {
     "data": {
      "text/plain": [
       "[('A', 'B'),\n",
       " ('A', 'C'),\n",
       " ('A', 'D'),\n",
       " ('A', 'G'),\n",
       " ('A', 'I'),\n",
       " ('B', 'C'),\n",
       " ('B', 'E'),\n",
       " ('B', 'H'),\n",
       " ('C', 'D'),\n",
       " ('C', 'F'),\n",
       " ('C', 'I'),\n",
       " ('D', 'I'),\n",
       " ('E', 'H')]"
      ]
     },
     "execution_count": 36,
     "metadata": {},
     "output_type": "execute_result"
    }
   ],
   "source": [
    "C[1]"
   ]
  },
  {
   "cell_type": "code",
   "execution_count": 37,
   "metadata": {},
   "outputs": [
    {
     "data": {
      "text/plain": [
       "[('A', 'C', 'D'),\n",
       " ('A', 'C', 'I'),\n",
       " ('A', 'D', 'I'),\n",
       " ('B', 'E', 'H'),\n",
       " ('C', 'D', 'I')]"
      ]
     },
     "execution_count": 37,
     "metadata": {},
     "output_type": "execute_result"
    }
   ],
   "source": [
    "C[2]"
   ]
  },
  {
   "cell_type": "code",
   "execution_count": 38,
   "metadata": {},
   "outputs": [],
   "source": [
    "tbasis, im = homology_basis(bd, boundary=True)"
   ]
  },
  {
   "cell_type": "code",
   "execution_count": 39,
   "metadata": {},
   "outputs": [
    {
     "data": {
      "text/plain": [
       "array([[1, 1, 1, 0, 1]])"
      ]
     },
     "execution_count": 39,
     "metadata": {},
     "output_type": "execute_result"
    }
   ],
   "source": [
    "tbasis[2]"
   ]
  },
  {
   "cell_type": "code",
   "execution_count": 40,
   "metadata": {},
   "outputs": [
    {
     "data": {
      "text/plain": [
       "[[('A', 'B'), ('A', 'I'), ('B', 'C'), ('C', 'I')]]"
      ]
     },
     "execution_count": 40,
     "metadata": {},
     "output_type": "execute_result"
    }
   ],
   "source": [
    "interpret(C[1],tbasis[1])"
   ]
  },
  {
   "cell_type": "code",
   "execution_count": 41,
   "metadata": {},
   "outputs": [],
   "source": [
    "basis = homology_basis(bd)"
   ]
  },
  {
   "cell_type": "code",
   "execution_count": 42,
   "metadata": {},
   "outputs": [
    {
     "data": {
      "text/plain": [
       "{1: array([[1, 0, 0, 0, 1, 1, 0, 0, 0, 0, 1, 0, 0]]),\n",
       " 2: array([[1, 1, 1, 0, 1]])}"
      ]
     },
     "execution_count": 42,
     "metadata": {},
     "output_type": "execute_result"
    }
   ],
   "source": [
    "basis"
   ]
  },
  {
   "cell_type": "code",
   "execution_count": 43,
   "metadata": {},
   "outputs": [
    {
     "data": {
      "text/plain": [
       "[[('A', 'C', 'D'), ('A', 'C', 'I'), ('A', 'D', 'I'), ('C', 'D', 'I')]]"
      ]
     },
     "execution_count": 43,
     "metadata": {},
     "output_type": "execute_result"
    }
   ],
   "source": [
    "interpret(C[2],basis[2])"
   ]
  },
  {
   "cell_type": "code",
   "execution_count": null,
   "metadata": {},
   "outputs": [],
   "source": []
  }
 ],
 "metadata": {
  "kernelspec": {
   "display_name": "Python 3",
   "language": "python",
   "name": "python3"
  },
  "language_info": {
   "codemirror_mode": {
    "name": "ipython",
    "version": 3
   },
   "file_extension": ".py",
   "mimetype": "text/x-python",
   "name": "python",
   "nbconvert_exporter": "python",
   "pygments_lexer": "ipython3",
   "version": "3.6.9"
  }
 },
 "nbformat": 4,
 "nbformat_minor": 2
}
