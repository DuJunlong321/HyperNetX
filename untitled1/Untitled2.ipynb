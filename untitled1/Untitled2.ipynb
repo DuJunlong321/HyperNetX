{
 "cells": [
  {
   "cell_type": "code",
   "execution_count": 44,
   "metadata": {},
   "outputs": [],
   "source": [
    "import os\n",
    "import itertools as it\n",
    "import networkx as nx\n",
    "import networkx.algorithms.components as nxa\n",
    "import hypernetx as hnx\n",
    "import pandas as pd\n",
    "\n",
    "\n",
    "class SevenBySix():\n",
    "    \"\"\"Example hypergraph with 7 nodes and 6 edges.\"\"\"\n",
    "\n",
    "    def __init__(self):\n",
    "        a, c, e, k, t1, t2, v = nd = ('A', 'C', 'E', 'K', 'T1', 'T2', 'V')\n",
    "        i, l, o, p, r, s = ('I', 'L', 'O', 'P', 'R', 'S')\n",
    "        self.edges = [{a, c, k}, {a, e}, {a, k, t2, v}, {c, e}, {t1, t2}, {k, t2}]\n",
    "        self.nodes = set(nd)\n",
    "        self.edgedict = {p: {a, c, k}, r: {a, e}, s: {a, k, t2, v}, l: {c, e}, o: {t1, t2}, i: {k, t2}}\n",
    "\n",
    "\n",
    "class TriLoop():\n",
    "    \"\"\"Example hypergraph with 2 two 1-cells and 1 2-cell forming a loop\"\"\"\n",
    "\n",
    "    def __init__(self):\n",
    "        A, B, C, D = 'A', 'B', 'C', 'D'\n",
    "        AB, BC, ACD = 'AB', 'BC', 'ACD'\n",
    "        self.edgedict = {AB: {A, B}, BC: {B, C}, ACD: {A, C, D}}\n",
    "        self.hypergraph = hnx.Hypergraph(self.edgedict, name='TriLoop')\n",
    "\n",
    "\n",
    "class SBSDupes():\n",
    "    def __init__(self):\n",
    "        self.edgedict = {'I': {'K', 'T2'},\n",
    "                         'L': {'C', 'E', 'F'},\n",
    "                         'M': {'C', 'E', 'F'},\n",
    "                         'O': {'T1', 'T2'},\n",
    "                         'P': {'A', 'C', 'K'},\n",
    "                         'R': {'A', 'E', 'F'},\n",
    "                         'S': {'A', 'K', 'T2', 'V'}}\n",
    "\n",
    "\n",
    "class LesMis():\n",
    "    def __init__(self):\n",
    "        self.edgedict = {1: {'CL', 'CV', 'GE', 'GG', 'MB', 'MC', 'ME', 'MY', 'NP', 'SN'},\n",
    "                         2: {'IS', 'JL', 'JV', 'MB', 'ME', 'MR', 'MT', 'MY', 'PG'},\n",
    "                         3: {'BL', 'DA', 'FA', 'FN', 'FT', 'FV', 'LI', 'ZE'},\n",
    "                         4: {'CO', 'FN', 'TH', 'TM'},\n",
    "                         5: {'BM', 'FF', 'FN', 'JA', 'JV', 'MT', 'MY', 'VI'},\n",
    "                         6: {'FN', 'JA', 'JV'},\n",
    "                         7: {'BM', 'BR', 'CC', 'CH', 'CN', 'FN', 'JU', 'JV', 'PO', 'SC', 'SP', 'SS'},\n",
    "                         8: {'FN', 'JA', 'JV', 'PO', 'SP', 'SS'}}\n",
    "        self.hypergraph = hnx.Hypergraph(self.edgedict)\n",
    "\n",
    "\n",
    "# class Dataframe():\n",
    "#     def __init__(self):\n",
    "#         fname = os.path.join(os.path.dirname(__file__), 'sample.csv')\n",
    "#         self.df = pd.read_csv(fname, index_col=0)\n",
    "\n",
    "def seven_by_six():\n",
    "    return SevenBySix()\n",
    "\n",
    "\n",
    "def triloop():\n",
    "    return TriLoop()\n",
    "\n",
    "\n",
    "def sbs_hypergraph():\n",
    "    sbs = SevenBySix()\n",
    "    return hnx.Hypergraph(sbs.edgedict, name='sbsh')\n",
    "\n",
    "\n",
    "def sbs_graph():\n",
    "    sbs = SevenBySix()\n",
    "    edges = set()\n",
    "    for _, e in sbs.edgedict.items():\n",
    "        edges.update(it.combinations(e, 2))\n",
    "    G = nx.Graph(name='sbsg')\n",
    "    G.add_edges_from(edges)\n",
    "    return G\n",
    "\n",
    "\n",
    "def sbsd_hypergraph():\n",
    "    sbsd = SBSDupes()\n",
    "    return hnx.Hypergraph(sbsd.edgedict)\n",
    "\n",
    "\n",
    "def lesmis():\n",
    "    return LesMis()\n",
    "\n",
    "\n",
    "def G():\n",
    "    return nx.karate_club_graph()\n",
    "\n",
    "\n",
    "def H():\n",
    "    G = nx.karate_club_graph()\n",
    "    return hnx.Hypergraph({f'e{i}': e\n",
    "                           for i, e in enumerate(G.edges())})\n",
    "\n",
    "def bipartite_example():\n",
    "    from networkx.algorithms import bipartite\n",
    "    return bipartite.random_graph(10, 5, .4, 0)\n",
    "\n",
    "# def dataframe():\n",
    "#     return Dataframe()\n",
    "\n"
   ]
  },
  {
   "cell_type": "code",
   "execution_count": 45,
   "metadata": {},
   "outputs": [],
   "source": [
    "def test_is_connected():\n",
    "    setsystem = [{1, 2, 3, 4}, {3, 4, 5, 6}, {5, 6, 7}, {5, 6, 8}]\n",
    "    h = hnx.Hypergraph(setsystem)\n",
    "    assert h.is_connected() == True\n",
    "    assert h.is_connected(s=2) == False\n",
    "    assert h.is_connected(s=2, edges=True) == True\n",
    "    assert h.is_connected(s=3, edges=True) == False"
   ]
  },
  {
   "cell_type": "code",
   "execution_count": 46,
   "metadata": {},
   "outputs": [
    {
     "ename": "AssertionError",
     "evalue": "",
     "output_type": "error",
     "traceback": [
      "\u001b[0;31m---------------------------------------------------------------------------\u001b[0m",
      "\u001b[0;31mAssertionError\u001b[0m                            Traceback (most recent call last)",
      "\u001b[0;32m<ipython-input-46-18175fccbe27>\u001b[0m in \u001b[0;36m<module>\u001b[0;34m\u001b[0m\n\u001b[0;32m----> 1\u001b[0;31m \u001b[0mtest_is_connected\u001b[0m\u001b[0;34m(\u001b[0m\u001b[0;34m)\u001b[0m\u001b[0;34m\u001b[0m\u001b[0;34m\u001b[0m\u001b[0m\n\u001b[0m",
      "\u001b[0;32m<ipython-input-45-3b26e36abc63>\u001b[0m in \u001b[0;36mtest_is_connected\u001b[0;34m()\u001b[0m\n\u001b[1;32m      2\u001b[0m     \u001b[0msetsystem\u001b[0m \u001b[0;34m=\u001b[0m \u001b[0;34m[\u001b[0m\u001b[0;34m{\u001b[0m\u001b[0;36m1\u001b[0m\u001b[0;34m,\u001b[0m \u001b[0;36m2\u001b[0m\u001b[0;34m,\u001b[0m \u001b[0;36m3\u001b[0m\u001b[0;34m,\u001b[0m \u001b[0;36m4\u001b[0m\u001b[0;34m}\u001b[0m\u001b[0;34m,\u001b[0m \u001b[0;34m{\u001b[0m\u001b[0;36m3\u001b[0m\u001b[0;34m,\u001b[0m \u001b[0;36m4\u001b[0m\u001b[0;34m,\u001b[0m \u001b[0;36m5\u001b[0m\u001b[0;34m,\u001b[0m \u001b[0;36m6\u001b[0m\u001b[0;34m}\u001b[0m\u001b[0;34m,\u001b[0m \u001b[0;34m{\u001b[0m\u001b[0;36m5\u001b[0m\u001b[0;34m,\u001b[0m \u001b[0;36m6\u001b[0m\u001b[0;34m,\u001b[0m \u001b[0;36m7\u001b[0m\u001b[0;34m}\u001b[0m\u001b[0;34m,\u001b[0m \u001b[0;34m{\u001b[0m\u001b[0;36m5\u001b[0m\u001b[0;34m,\u001b[0m \u001b[0;36m6\u001b[0m\u001b[0;34m,\u001b[0m \u001b[0;36m8\u001b[0m\u001b[0;34m}\u001b[0m\u001b[0;34m]\u001b[0m\u001b[0;34m\u001b[0m\u001b[0;34m\u001b[0m\u001b[0m\n\u001b[1;32m      3\u001b[0m     \u001b[0mh\u001b[0m \u001b[0;34m=\u001b[0m \u001b[0mhnx\u001b[0m\u001b[0;34m.\u001b[0m\u001b[0mHypergraph\u001b[0m\u001b[0;34m(\u001b[0m\u001b[0msetsystem\u001b[0m\u001b[0;34m)\u001b[0m\u001b[0;34m\u001b[0m\u001b[0;34m\u001b[0m\u001b[0m\n\u001b[0;32m----> 4\u001b[0;31m     \u001b[0;32massert\u001b[0m \u001b[0mh\u001b[0m\u001b[0;34m.\u001b[0m\u001b[0mis_connected\u001b[0m\u001b[0;34m(\u001b[0m\u001b[0;34m)\u001b[0m \u001b[0;34m==\u001b[0m \u001b[0;32mTrue\u001b[0m\u001b[0;34m\u001b[0m\u001b[0;34m\u001b[0m\u001b[0m\n\u001b[0m\u001b[1;32m      5\u001b[0m     \u001b[0;32massert\u001b[0m \u001b[0mh\u001b[0m\u001b[0;34m.\u001b[0m\u001b[0mis_connected\u001b[0m\u001b[0;34m(\u001b[0m\u001b[0ms\u001b[0m\u001b[0;34m=\u001b[0m\u001b[0;36m2\u001b[0m\u001b[0;34m)\u001b[0m \u001b[0;34m==\u001b[0m \u001b[0;32mFalse\u001b[0m\u001b[0;34m\u001b[0m\u001b[0;34m\u001b[0m\u001b[0m\n\u001b[1;32m      6\u001b[0m     \u001b[0;32massert\u001b[0m \u001b[0mh\u001b[0m\u001b[0;34m.\u001b[0m\u001b[0mis_connected\u001b[0m\u001b[0;34m(\u001b[0m\u001b[0ms\u001b[0m\u001b[0;34m=\u001b[0m\u001b[0;36m2\u001b[0m\u001b[0;34m,\u001b[0m \u001b[0medges\u001b[0m\u001b[0;34m=\u001b[0m\u001b[0;32mTrue\u001b[0m\u001b[0;34m)\u001b[0m \u001b[0;34m==\u001b[0m \u001b[0;32mTrue\u001b[0m\u001b[0;34m\u001b[0m\u001b[0;34m\u001b[0m\u001b[0m\n",
      "\u001b[0;31mAssertionError\u001b[0m: "
     ]
    }
   ],
   "source": [
    "test_is_connected()"
   ]
  },
  {
   "cell_type": "code",
   "execution_count": 47,
   "metadata": {},
   "outputs": [],
   "source": [
    "setsystem = [{1, 2, 3, 4}, {3, 4, 5, 6}, {5, 6, 7}, {5, 6, 8}]\n",
    "h = hnx.Hypergraph(setsystem)"
   ]
  },
  {
   "cell_type": "code",
   "execution_count": 48,
   "metadata": {},
   "outputs": [
    {
     "data": {
      "text/plain": [
       "Hypergraph({'_0': Entity(_0,[1, 2, 3, 4],{}), '_1': Entity(_1,[3, 4, 5, 6],{}), '_2': Entity(_2,[5, 6, 7],{}), '_3': Entity(_3,[8, 5, 6],{})},name=_)"
      ]
     },
     "execution_count": 48,
     "metadata": {},
     "output_type": "execute_result"
    }
   ],
   "source": [
    "h"
   ]
  },
  {
   "cell_type": "code",
   "execution_count": 49,
   "metadata": {},
   "outputs": [
    {
     "data": {
      "text/plain": [
       "False"
      ]
     },
     "execution_count": 49,
     "metadata": {},
     "output_type": "execute_result"
    }
   ],
   "source": [
    "h.is_connected()"
   ]
  },
  {
   "cell_type": "code",
   "execution_count": 50,
   "metadata": {},
   "outputs": [
    {
     "data": {
      "text/plain": [
       "1"
      ]
     },
     "execution_count": 50,
     "metadata": {},
     "output_type": "execute_result"
    }
   ],
   "source": [
    "len(list(h.s_component_subgraphs()))"
   ]
  },
  {
   "cell_type": "code",
   "execution_count": 51,
   "metadata": {},
   "outputs": [],
   "source": [
    "s = 1\n",
    "edges = False\n",
    "self = h\n",
    "if edges:\n",
    "    A = self.edge_adjacency_matrix(s=s)\n",
    "else:\n",
    "    A = self.adjacency_matrix(s=s)\n",
    "G = nx.from_scipy_sparse_matrix(A)"
   ]
  },
  {
   "cell_type": "code",
   "execution_count": 52,
   "metadata": {},
   "outputs": [
    {
     "data": {
      "text/plain": [
       "False"
      ]
     },
     "execution_count": 52,
     "metadata": {},
     "output_type": "execute_result"
    }
   ],
   "source": [
    "nx.is_connected(G)"
   ]
  },
  {
   "cell_type": "code",
   "execution_count": 53,
   "metadata": {},
   "outputs": [
    {
     "data": {
      "text/plain": [
       "1"
      ]
     },
     "execution_count": 53,
     "metadata": {},
     "output_type": "execute_result"
    }
   ],
   "source": [
    "len(list(h.s_component_subgraphs()))"
   ]
  },
  {
   "cell_type": "code",
   "execution_count": 54,
   "metadata": {},
   "outputs": [
    {
     "ename": "AttributeError",
     "evalue": "module 'networkx.algorithms.components' has no attribute 'connected_component_subgraphs'",
     "output_type": "error",
     "traceback": [
      "\u001b[0;31m---------------------------------------------------------------------------\u001b[0m",
      "\u001b[0;31mAttributeError\u001b[0m                            Traceback (most recent call last)",
      "\u001b[0;32m<ipython-input-54-f1d90f103744>\u001b[0m in \u001b[0;36m<module>\u001b[0;34m\u001b[0m\n\u001b[0;32m----> 1\u001b[0;31m \u001b[0mnxa\u001b[0m\u001b[0;34m.\u001b[0m\u001b[0mconnected_component_subgraphs\u001b[0m\u001b[0;34m(\u001b[0m\u001b[0mG\u001b[0m\u001b[0;34m)\u001b[0m\u001b[0;34m\u001b[0m\u001b[0;34m\u001b[0m\u001b[0m\n\u001b[0m",
      "\u001b[0;31mAttributeError\u001b[0m: module 'networkx.algorithms.components' has no attribute 'connected_component_subgraphs'"
     ]
    }
   ],
   "source": [
    "nxa.connected_component_subgraphs(G)"
   ]
  },
  {
   "cell_type": "code",
   "execution_count": 56,
   "metadata": {},
   "outputs": [
    {
     "data": {
      "text/plain": [
       "False"
      ]
     },
     "execution_count": 56,
     "metadata": {},
     "output_type": "execute_result"
    }
   ],
   "source": [
    "nx.is_connected(G)"
   ]
  },
  {
   "cell_type": "code",
   "execution_count": 58,
   "metadata": {},
   "outputs": [
    {
     "ename": "AttributeError",
     "evalue": "module 'networkx' has no attribute 'connected_component_subgraphs'",
     "output_type": "error",
     "traceback": [
      "\u001b[0;31m---------------------------------------------------------------------------\u001b[0m",
      "\u001b[0;31mAttributeError\u001b[0m                            Traceback (most recent call last)",
      "\u001b[0;32m<ipython-input-58-3a19abf9e8a0>\u001b[0m in \u001b[0;36m<module>\u001b[0;34m\u001b[0m\n\u001b[0;32m----> 1\u001b[0;31m \u001b[0mlist\u001b[0m\u001b[0;34m(\u001b[0m\u001b[0mnx\u001b[0m\u001b[0;34m.\u001b[0m\u001b[0mconnected_component_subgraphs\u001b[0m\u001b[0;34m(\u001b[0m\u001b[0mG\u001b[0m\u001b[0;34m)\u001b[0m\u001b[0;34m)\u001b[0m\u001b[0;34m\u001b[0m\u001b[0;34m\u001b[0m\u001b[0m\n\u001b[0m",
      "\u001b[0;31mAttributeError\u001b[0m: module 'networkx' has no attribute 'connected_component_subgraphs'"
     ]
    }
   ],
   "source": [
    "list(nx.connected_component_subgraphs(G))"
   ]
  },
  {
   "cell_type": "code",
   "execution_count": 60,
   "metadata": {},
   "outputs": [],
   "source": [
    "import networkx as nx"
   ]
  },
  {
   "cell_type": "code",
   "execution_count": 61,
   "metadata": {},
   "outputs": [
    {
     "ename": "AttributeError",
     "evalue": "module 'networkx' has no attribute 'connected_component_subgraphs'",
     "output_type": "error",
     "traceback": [
      "\u001b[0;31m---------------------------------------------------------------------------\u001b[0m",
      "\u001b[0;31mAttributeError\u001b[0m                            Traceback (most recent call last)",
      "\u001b[0;32m<ipython-input-61-05a3df5e7f70>\u001b[0m in \u001b[0;36m<module>\u001b[0;34m\u001b[0m\n\u001b[1;32m      1\u001b[0m \u001b[0mG\u001b[0m \u001b[0;34m=\u001b[0m \u001b[0mnx\u001b[0m\u001b[0;34m.\u001b[0m\u001b[0mpath_graph\u001b[0m\u001b[0;34m(\u001b[0m\u001b[0;36m4\u001b[0m\u001b[0;34m)\u001b[0m\u001b[0;34m\u001b[0m\u001b[0;34m\u001b[0m\u001b[0m\n\u001b[1;32m      2\u001b[0m \u001b[0mG\u001b[0m\u001b[0;34m.\u001b[0m\u001b[0madd_edge\u001b[0m\u001b[0;34m(\u001b[0m\u001b[0;36m5\u001b[0m\u001b[0;34m,\u001b[0m\u001b[0;36m6\u001b[0m\u001b[0;34m)\u001b[0m\u001b[0;34m\u001b[0m\u001b[0;34m\u001b[0m\u001b[0m\n\u001b[0;32m----> 3\u001b[0;31m \u001b[0mgraphs\u001b[0m \u001b[0;34m=\u001b[0m \u001b[0mlist\u001b[0m\u001b[0;34m(\u001b[0m\u001b[0mnx\u001b[0m\u001b[0;34m.\u001b[0m\u001b[0mconnected_component_subgraphs\u001b[0m\u001b[0;34m(\u001b[0m\u001b[0mG\u001b[0m\u001b[0;34m)\u001b[0m\u001b[0;34m)\u001b[0m\u001b[0;34m\u001b[0m\u001b[0;34m\u001b[0m\u001b[0m\n\u001b[0m",
      "\u001b[0;31mAttributeError\u001b[0m: module 'networkx' has no attribute 'connected_component_subgraphs'"
     ]
    }
   ],
   "source": [
    "G = nx.path_graph(4)\n",
    "G.add_edge(5,6)\n",
    "graphs = list(nx.connected_component_subgraphs(G))"
   ]
  },
  {
   "cell_type": "code",
   "execution_count": null,
   "metadata": {},
   "outputs": [],
   "source": []
  }
 ],
 "metadata": {
  "kernelspec": {
   "display_name": "Python 3",
   "language": "python",
   "name": "python3"
  },
  "language_info": {
   "codemirror_mode": {
    "name": "ipython",
    "version": 3
   },
   "file_extension": ".py",
   "mimetype": "text/x-python",
   "name": "python",
   "nbconvert_exporter": "python",
   "pygments_lexer": "ipython3",
   "version": "3.8.5"
  }
 },
 "nbformat": 4,
 "nbformat_minor": 4
}
