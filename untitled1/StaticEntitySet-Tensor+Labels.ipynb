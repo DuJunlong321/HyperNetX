{
 "cells": [
  {
   "cell_type": "markdown",
   "metadata": {},
   "source": [
    "## Create a StaticEntitySet from a Tensor + Labels\n",
    "\n",
    "A static entity set is a container for a table of categorical data with many to many relationships between categories. Categories are unordered on construction and values are assigned system ids. Any pair of categories may be extracted and ordered to generate an incidence matrix and construct a hypergraph. Construction is done once when needed and stored in a state dictionary for reuse."
   ]
  },
  {
   "cell_type": "code",
   "execution_count": 29,
   "metadata": {},
   "outputs": [],
   "source": [
    "from hypernetx import *\n",
    "import matplotlib.pyplot as plt\n",
    "from collections import OrderedDict,defaultdict,namedtuple\n",
    "from scipy.sparse import coo_matrix\n",
    "import pandas as pd\n",
    "import numpy as np\n",
    "import itertools as it\n",
    "import random as rand\n",
    "from untitled_StaticEntity import *"
   ]
  },
  {
   "cell_type": "markdown",
   "metadata": {},
   "source": [
    "## Create an example tensor given in coordinate format + label dictionary"
   ]
  },
  {
   "cell_type": "code",
   "execution_count": 2,
   "metadata": {},
   "outputs": [],
   "source": [
    "# alphabet = list('abcdefghijklmnopqrstuvwxyz')\n",
    "# labels = dict()\n",
    "# for idx in range(3):\n",
    "#     n = rand.choice(range(3,8))\n",
    "#     labels[idx] = ['0'] + rand.sample(alphabet,n)"
   ]
  },
  {
   "cell_type": "code",
   "execution_count": 3,
   "metadata": {},
   "outputs": [],
   "source": [
    "## modes of the tensor are 0,1,2 - each position corresponds to a label\n",
    "labels = {0: ['0', 'n', 'z', 'v', 'a'],\n",
    " 1: ['0', 'z', 'p', 'y', 'l', 'i'],\n",
    " 2: ['0', 'm', 'w', 'z']}"
   ]
  },
  {
   "cell_type": "code",
   "execution_count": 4,
   "metadata": {},
   "outputs": [],
   "source": [
    "## coordinates of the nonzero entries in the tensor\n",
    "dims = (len(labels[0]),len(labels[1]),len(labels[2]))\n",
    "# tot = np.product(np.array(dims))\n",
    "# coords = it.product(range(dims[0]),range(dims[1]),range(dims[2]))\n",
    "# data = np.array(rand.sample(list(coords),int(.40*tot)))"
   ]
  },
  {
   "cell_type": "code",
   "execution_count": 5,
   "metadata": {},
   "outputs": [],
   "source": [
    "data = np.array([[1, 0, 0],[1, 0, 3],[1, 2, 2],[3, 3, 2],[0, 3, 3],[0, 1, 0],[3, 2, 3],[0, 4, 0],[4, 5, 2],[1, 3, 2],[2, 1, 1],[2, 4, 1],[2, 1, 2],[1, 3, 3],[3, 4, 2],[1, 0, 2],[1, 4, 2],[3, 3, 3],[1, 1, 0],[1, 5, 1],[1, 4, 0],[2, 1, 0],[4, 2, 3],[0, 4, 1],[4, 0, 1],[1, 4, 3],[0, 0, 0],[4, 4, 1],[1, 1, 3],[1, 0, 1],[4, 3, 3],[1, 1, 2],[2, 3, 2],[0, 2, 0],[3, 5, 0],[0, 3, 0],[4, 3, 0],[2, 0, 0],[4, 4, 0],[0, 3, 2],[2, 4, 2],[3, 3, 0],[0, 2, 3],[0, 1, 1],[3, 1, 1],[2, 0, 3],[3, 4, 0],[2, 0, 1]])"
   ]
  },
  {
   "cell_type": "code",
   "execution_count": 6,
   "metadata": {},
   "outputs": [
    {
     "name": "stdout",
     "output_type": "stream",
     "text": [
      "This tensor has 48 entries out of 120 possible\n"
     ]
    }
   ],
   "source": [
    "print(f'This tensor has {data.shape[0]} entries out of {np.product(np.array(dims))} possible')"
   ]
  },
  {
   "cell_type": "code",
   "execution_count": 7,
   "metadata": {},
   "outputs": [
    {
     "data": {
      "text/plain": [
       "array([[1, 0, 0],\n",
       "       [1, 0, 3],\n",
       "       [1, 2, 2],\n",
       "       [3, 3, 2],\n",
       "       [0, 3, 3],\n",
       "       [0, 1, 0],\n",
       "       [3, 2, 3],\n",
       "       [0, 4, 0],\n",
       "       [4, 5, 2],\n",
       "       [1, 3, 2],\n",
       "       [2, 1, 1],\n",
       "       [2, 4, 1],\n",
       "       [2, 1, 2],\n",
       "       [1, 3, 3],\n",
       "       [3, 4, 2],\n",
       "       [1, 0, 2],\n",
       "       [1, 4, 2],\n",
       "       [3, 3, 3],\n",
       "       [1, 1, 0],\n",
       "       [1, 5, 1],\n",
       "       [1, 4, 0],\n",
       "       [2, 1, 0],\n",
       "       [4, 2, 3],\n",
       "       [0, 4, 1],\n",
       "       [4, 0, 1],\n",
       "       [1, 4, 3],\n",
       "       [0, 0, 0],\n",
       "       [4, 4, 1],\n",
       "       [1, 1, 3],\n",
       "       [1, 0, 1],\n",
       "       [4, 3, 3],\n",
       "       [1, 1, 2],\n",
       "       [2, 3, 2],\n",
       "       [0, 2, 0],\n",
       "       [3, 5, 0],\n",
       "       [0, 3, 0],\n",
       "       [4, 3, 0],\n",
       "       [2, 0, 0],\n",
       "       [4, 4, 0],\n",
       "       [0, 3, 2],\n",
       "       [2, 4, 2],\n",
       "       [3, 3, 0],\n",
       "       [0, 2, 3],\n",
       "       [0, 1, 1],\n",
       "       [3, 1, 1],\n",
       "       [2, 0, 3],\n",
       "       [3, 4, 0],\n",
       "       [2, 0, 1]])"
      ]
     },
     "execution_count": 7,
     "metadata": {},
     "output_type": "execute_result"
    }
   ],
   "source": [
    "data"
   ]
  },
  {
   "cell_type": "code",
   "execution_count": 8,
   "metadata": {},
   "outputs": [],
   "source": [
    "ctr = [HNXCount() for c in range(len(labels))]\n",
    "ldict = OrderedDict()\n",
    "rdict = OrderedDict()\n",
    "for c in range(len(labels)):\n",
    "    ldict[c] = defaultdict(ctr[c])\n",
    "    rdict[c] = dict()\n",
    "    ldict[c]['0']\n",
    "    for k in labels[c]:\n",
    "        ldict[c][k]\n",
    "    ldict[c] = dict(ldict[c])\n",
    "    for k,v in ldict[c].items():\n",
    "        rdict[c][v] = k"
   ]
  },
  {
   "cell_type": "code",
   "execution_count": 9,
   "metadata": {},
   "outputs": [
    {
     "name": "stdout",
     "output_type": "stream",
     "text": [
      "[['n' '0' '0']\n",
      " ['n' '0' 'z']\n",
      " ['n' 'p' 'w']\n",
      " ['v' 'y' 'w']\n",
      " ['0' 'y' 'z']]\n",
      "\n",
      "[[1 0 0]\n",
      " [1 0 3]\n",
      " [1 2 2]\n",
      " [3 3 2]\n",
      " [0 3 3]]\n",
      "\n",
      " (5, 6, 4)\n"
     ]
    }
   ],
   "source": [
    "## labeldata replaces numbers in data with their corresponding labels\n",
    "labeldata = np.array(data,dtype=str)\n",
    "m,n = data.shape\n",
    "for rdx in range(m):\n",
    "    for cdx in range(n):\n",
    "        labeldata[rdx,cdx] = rdict[cdx][data[rdx,cdx]]\n",
    "print(f'{labeldata[:,:][:5]}\\n\\n{data[:,:][:5]}\\n\\n',dims)\n"
   ]
  },
  {
   "cell_type": "markdown",
   "metadata": {},
   "source": [
    "## Issues\n",
    "The problem with setting up a tensor to hold all of the relationships is that projecting onto two dimensions for a hypergraph could be problematic. \n",
    "\n",
    "For now we only need two dimensions so stick to 2-tensors"
   ]
  },
  {
   "cell_type": "code",
   "execution_count": 10,
   "metadata": {},
   "outputs": [],
   "source": [
    "tmat = np.zeros(dims,dtype=int)\n",
    "for i,j,k in data:\n",
    "    tmat[i,j,k] = 1"
   ]
  },
  {
   "cell_type": "code",
   "execution_count": 11,
   "metadata": {},
   "outputs": [
    {
     "data": {
      "text/plain": [
       "array([[3, 3, 1, 2],\n",
       "       [3, 3, 2, 1],\n",
       "       [1, 0, 1, 3],\n",
       "       [3, 0, 4, 4],\n",
       "       [4, 3, 3, 1],\n",
       "       [1, 1, 1, 0]])"
      ]
     },
     "execution_count": 11,
     "metadata": {},
     "output_type": "execute_result"
    }
   ],
   "source": [
    "np.sum([tmat[i] for i in range(dims[0])],axis=0)"
   ]
  },
  {
   "cell_type": "code",
   "execution_count": 13,
   "metadata": {},
   "outputs": [],
   "source": [
    "# Ndx,Edx = 0,1\n",
    "# flat = \n",
    "# incmat = np.zeros((dims[Ndx],dims[Edx]),dtype=int)\n",
    "# for i in range(dims[Ndx]):\n",
    "#     for j in range(dims[Edx]):\n",
    "#         incmat = np.sum(tmat[])\n",
    "        \n",
    "    "
   ]
  },
  {
   "cell_type": "markdown",
   "metadata": {},
   "source": [
    "## StaticEntity = NamedTuple?"
   ]
  },
  {
   "cell_type": "code",
   "execution_count": 14,
   "metadata": {},
   "outputs": [],
   "source": [
    "Ndx = 0; Edx = 1\n",
    "labeldata[:,[0,1]]\n",
    "data[:,[0,1]]\n",
    "mat = np.zeros((dims[Ndx],dims[Edx]))\n",
    "for x,y in data[:,[Ndx,Edx]]:\n",
    "    mat[x,y] += 1 "
   ]
  },
  {
   "cell_type": "code",
   "execution_count": 15,
   "metadata": {},
   "outputs": [
    {
     "data": {
      "text/plain": [
       "array([[1, 1, 1, 1, 1],\n",
       "       [1, 0, 1, 1, 0],\n",
       "       [1, 1, 1, 1, 1],\n",
       "       [0, 1, 1, 1, 1]])"
      ]
     },
     "execution_count": 15,
     "metadata": {},
     "output_type": "execute_result"
    }
   ],
   "source": [
    "imat = np.array(mat[1:,1:],dtype=bool )*1\n",
    "imat"
   ]
  },
  {
   "cell_type": "code",
   "execution_count": 16,
   "metadata": {},
   "outputs": [
    {
     "data": {
      "text/plain": [
       "{0: '0', 1: 'n', 2: 'z', 3: 'v', 4: 'a'}"
      ]
     },
     "execution_count": 16,
     "metadata": {},
     "output_type": "execute_result"
    }
   ],
   "source": [
    "rdict[0]"
   ]
  },
  {
   "cell_type": "code",
   "execution_count": 18,
   "metadata": {},
   "outputs": [
    {
     "data": {
      "text/plain": [
       "array([[1, 1, 1, 1],\n",
       "       [0, 1, 1, 0],\n",
       "       [1, 1, 1, 1],\n",
       "       [1, 1, 1, 1]])"
      ]
     },
     "execution_count": 18,
     "metadata": {},
     "output_type": "execute_result"
    }
   ],
   "source": [
    "s = tuple(slice(d,imat.shape[d]) for d in range(2))\n",
    "imat[s]"
   ]
  },
  {
   "cell_type": "code",
   "execution_count": 19,
   "metadata": {},
   "outputs": [
    {
     "ename": "TypeError",
     "evalue": "where() missing 1 required positional argument: 'condition'",
     "output_type": "error",
     "traceback": [
      "\u001b[0;31m---------------------------------------------------------------------------\u001b[0m",
      "\u001b[0;31mTypeError\u001b[0m                                 Traceback (most recent call last)",
      "\u001b[0;32m<ipython-input-19-a625e076fe5e>\u001b[0m in \u001b[0;36m<module>\u001b[0;34m\u001b[0m\n\u001b[0;32m----> 1\u001b[0;31m \u001b[0mt\u001b[0m \u001b[0;34m=\u001b[0m \u001b[0mnp\u001b[0m\u001b[0;34m.\u001b[0m\u001b[0mwhere\u001b[0m\u001b[0;34m(\u001b[0m\u001b[0;34m)\u001b[0m\u001b[0;34m\u001b[0m\u001b[0;34m\u001b[0m\u001b[0m\n\u001b[0m",
      "\u001b[0;32m<__array_function__ internals>\u001b[0m in \u001b[0;36mwhere\u001b[0;34m(*args, **kwargs)\u001b[0m\n",
      "\u001b[0;31mTypeError\u001b[0m: where() missing 1 required positional argument: 'condition'"
     ]
    }
   ],
   "source": [
    "t = np.where()"
   ]
  },
  {
   "cell_type": "code",
   "execution_count": 20,
   "metadata": {},
   "outputs": [
    {
     "name": "stdout",
     "output_type": "stream",
     "text": [
      "(4, 3)\n"
     ]
    },
    {
     "data": {
      "text/plain": [
       "(array([[1, 0, 0],\n",
       "        [1, 0, 3],\n",
       "        [1, 2, 2],\n",
       "        [3, 3, 2]]),\n",
       " array([6, 5, 7]))"
      ]
     },
     "execution_count": 20,
     "metadata": {},
     "output_type": "execute_result"
    }
   ],
   "source": [
    "arr = data[:4]\n",
    "print(arr.shape)\n",
    "arrd = np.sum(arr,axis=0)\n",
    "arr,arrd"
   ]
  },
  {
   "cell_type": "code",
   "execution_count": 21,
   "metadata": {},
   "outputs": [
    {
     "data": {
      "text/plain": [
       "array([[ 0,  1,  2],\n",
       "       [ 9, 10, 11],\n",
       "       [18, 19, 20]])"
      ]
     },
     "execution_count": 21,
     "metadata": {},
     "output_type": "execute_result"
    }
   ],
   "source": [
    "arr = np.arange(27).reshape(3,3,3)\n",
    "# arrd = np.sum(arr,axis=1)\n",
    "arr[:,0] #,arrd"
   ]
  },
  {
   "cell_type": "code",
   "execution_count": 22,
   "metadata": {},
   "outputs": [
    {
     "data": {
      "text/plain": [
       "array([[[ 0,  1,  2],\n",
       "        [ 3,  4,  5],\n",
       "        [ 6,  7,  8]],\n",
       "\n",
       "       [[ 9, 10, 11],\n",
       "        [12, 13, 14],\n",
       "        [15, 16, 17]],\n",
       "\n",
       "       [[18, 19, 20],\n",
       "        [21, 22, 23],\n",
       "        [24, 25, 26]]])"
      ]
     },
     "execution_count": 22,
     "metadata": {},
     "output_type": "execute_result"
    }
   ],
   "source": [
    "arr"
   ]
  },
  {
   "cell_type": "code",
   "execution_count": 23,
   "metadata": {},
   "outputs": [
    {
     "data": {
      "text/plain": [
       "array([[ 9, 12, 15],\n",
       "       [36, 39, 42],\n",
       "       [63, 66, 69]])"
      ]
     },
     "execution_count": 23,
     "metadata": {},
     "output_type": "execute_result"
    }
   ],
   "source": [
    "np.sum(arr,axis=1)"
   ]
  },
  {
   "cell_type": "code",
   "execution_count": 24,
   "metadata": {},
   "outputs": [
    {
     "data": {
      "text/plain": [
       "array([[[1, 0],\n",
       "        [1, 1],\n",
       "        [1, 0],\n",
       "        [1, 0]],\n",
       "\n",
       "       [[1, 1],\n",
       "        [1, 0],\n",
       "        [0, 0],\n",
       "        [0, 0]],\n",
       "\n",
       "       [[1, 1],\n",
       "        [1, 1],\n",
       "        [0, 0],\n",
       "        [0, 0]]])"
      ]
     },
     "execution_count": 24,
     "metadata": {},
     "output_type": "execute_result"
    }
   ],
   "source": [
    "ttmat = tmat[:3,:4,:2]\n",
    "ttmat"
   ]
  },
  {
   "cell_type": "code",
   "execution_count": 25,
   "metadata": {},
   "outputs": [
    {
     "data": {
      "text/plain": [
       "array([5, 3, 4])"
      ]
     },
     "execution_count": 25,
     "metadata": {},
     "output_type": "execute_result"
    }
   ],
   "source": [
    "np.sum(ttmat,axis=(2,1))"
   ]
  },
  {
   "cell_type": "code",
   "execution_count": 26,
   "metadata": {},
   "outputs": [
    {
     "data": {
      "text/plain": [
       "(3, 4, 2)"
      ]
     },
     "execution_count": 26,
     "metadata": {},
     "output_type": "execute_result"
    }
   ],
   "source": [
    "ttmat.shape"
   ]
  },
  {
   "cell_type": "code",
   "execution_count": 31,
   "metadata": {},
   "outputs": [
    {
     "data": {
      "text/plain": [
       "(array([[[1, 0],\n",
       "         [1, 1],\n",
       "         [1, 0],\n",
       "         [1, 0]],\n",
       " \n",
       "        [[1, 1],\n",
       "         [1, 0],\n",
       "         [0, 0],\n",
       "         [0, 0]],\n",
       " \n",
       "        [[1, 1],\n",
       "         [1, 1],\n",
       "         [0, 0],\n",
       "         [0, 0]]]),\n",
       " (3, 4, 2))"
      ]
     },
     "execution_count": 31,
     "metadata": {},
     "output_type": "execute_result"
    }
   ],
   "source": [
    "ttmat,ttmat.shape"
   ]
  },
  {
   "cell_type": "code",
   "execution_count": 32,
   "metadata": {},
   "outputs": [
    {
     "data": {
      "text/plain": [
       "array([[3, 2],\n",
       "       [3, 2],\n",
       "       [1, 0],\n",
       "       [1, 0]])"
      ]
     },
     "execution_count": 32,
     "metadata": {},
     "output_type": "execute_result"
    }
   ],
   "source": [
    "np.sum(ttmat,axis=0)"
   ]
  },
  {
   "cell_type": "code",
   "execution_count": 33,
   "metadata": {},
   "outputs": [
    {
     "data": {
      "text/plain": [
       "array([5, 5, 1, 1])"
      ]
     },
     "execution_count": 33,
     "metadata": {},
     "output_type": "execute_result"
    }
   ],
   "source": [
    "np.sum(ttmat,axis=(0,2))"
   ]
  },
  {
   "cell_type": "code",
   "execution_count": null,
   "metadata": {},
   "outputs": [],
   "source": []
  }
 ],
 "metadata": {
  "kernelspec": {
   "display_name": "Python 3",
   "language": "python",
   "name": "python3"
  },
  "language_info": {
   "codemirror_mode": {
    "name": "ipython",
    "version": 3
   },
   "file_extension": ".py",
   "mimetype": "text/x-python",
   "name": "python",
   "nbconvert_exporter": "python",
   "pygments_lexer": "ipython3",
   "version": "3.8.5"
  }
 },
 "nbformat": 4,
 "nbformat_minor": 2
}
