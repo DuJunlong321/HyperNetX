{
 "cells": [
  {
   "cell_type": "code",
   "execution_count": 1,
   "metadata": {},
   "outputs": [],
   "source": [
    "import hypernetx as hnx\n",
    "import warnings\n",
    "warnings.simplefilter('always')"
   ]
  },
  {
   "cell_type": "code",
   "execution_count": 2,
   "metadata": {},
   "outputs": [],
   "source": [
    "class SevenBySix():\n",
    "    \"\"\"Example hypergraph with 7 nodes and 6 edges.\"\"\"\n",
    "    def __init__(self):\n",
    "        a,c,e,k,t1,t2,v = nd =  ('A','C','E','K','T1','T2','V')        \n",
    "        i,l,o,p,r,s = ('I','L','O','P','R','S')\n",
    "        self.edges = [{a,c,k},{a,e},{a,k,t2,v},{c,e},{t1,t2},{k,t2}]\n",
    "        self.nodes = set(nd)\n",
    "        self.edgedict = {p:{a,c,k},r:{a,e},s:{a,k,t2,v},l:{c,e},o:{t1,t2},i:{k,t2}}\n",
    "\n",
    "class SBSDupes():\n",
    "    def __init__(self):\n",
    "        self.edgedict = {'I': {'K', 'T2'},\n",
    "        'L': {'C', 'E', 'F'},\n",
    "        'M': {'C', 'E', 'F'},\n",
    "        'O': {'T1', 'T2'},\n",
    "        'P': {'A', 'C', 'K'},\n",
    "        'R': {'A', 'E', 'F'},\n",
    "        'S': {'A', 'K', 'T2', 'V'}}\n",
    "\n",
    "class LesMis():\n",
    "    def __init__(self):\n",
    "        self.edgedict = {1: {'CL', 'CV', 'GE', 'GG', 'MB', 'MC', 'ME', 'MY', 'NP', 'SN'},\n",
    "             2: {'IS', 'JL', 'JV', 'MB', 'ME', 'MR', 'MT', 'MY', 'PG'},\n",
    "             3: {'BL', 'DA', 'FA', 'FN', 'FT', 'FV', 'LI', 'ZE'},\n",
    "             4: {'CO', 'FN', 'TH', 'TM'},\n",
    "             5: {'BM', 'FF', 'FN', 'JA', 'JV', 'MT', 'MY', 'VI'},\n",
    "             6: {'FN', 'JA', 'JV'},\n",
    "             7: {'BM', 'BR', 'CC', 'CH', 'CN', 'FN', 'JU', 'JV', 'PO', 'SC', 'SP', 'SS'},\n",
    "             8: {'FN', 'JA', 'JV', 'PO', 'SP', 'SS'}}\n",
    "        self.hypergraph = hnx.Hypergraph(self.edgedict)"
   ]
  },
  {
   "cell_type": "code",
   "execution_count": 3,
   "metadata": {},
   "outputs": [],
   "source": [
    "sbs = SevenBySix()"
   ]
  },
  {
   "cell_type": "code",
   "execution_count": 4,
   "metadata": {},
   "outputs": [
    {
     "data": {
      "text/plain": [
       "EntitySet(test,['C', 'K', 'A'],{})"
      ]
     },
     "execution_count": 4,
     "metadata": {},
     "output_type": "execute_result"
    }
   ],
   "source": [
    "ent = hnx.EntitySet('test',elements=sbs.edges[0])\n",
    "ent"
   ]
  },
  {
   "cell_type": "code",
   "execution_count": 5,
   "metadata": {},
   "outputs": [
    {
     "name": "stderr",
     "output_type": "stream",
     "text": [
      "/Users/prag717/Documents/tdm/hnx/hypernetx/classes/entity.py:132: UserWarning: Static Entities require elements to be a dict of static Entities, keyed by entity uids.\n",
      "  warnings.warn(err_message)\n"
     ]
    },
    {
     "data": {
      "text/plain": [
       "Entity(test,[],{})"
      ]
     },
     "execution_count": 5,
     "metadata": {},
     "output_type": "execute_result"
    }
   ],
   "source": [
    "ent = hnx.Entity('test',elements=sbs.edges[0],static=True)\n",
    "ent"
   ]
  },
  {
   "cell_type": "code",
   "execution_count": 6,
   "metadata": {},
   "outputs": [
    {
     "data": {
      "text/plain": [
       "{0: Entity(0,[],{'id': 'A'}),\n",
       " 1: Entity(1,[],{'id': 'C'}),\n",
       " 2: Entity(2,[],{'id': 'E'}),\n",
       " 3: Entity(3,[],{'id': 'K'}),\n",
       " 4: Entity(4,[],{'id': 'T1'}),\n",
       " 5: Entity(5,[],{'id': 'T2'}),\n",
       " 6: Entity(6,[],{'id': 'V'})}"
      ]
     },
     "execution_count": 6,
     "metadata": {},
     "output_type": "execute_result"
    }
   ],
   "source": [
    "a,c,e,k,t1,t2,v = nd =  ('A','C','E','K','T1','T2','V')\n",
    "elements = {}\n",
    "ctr = hnx.HNXCount()\n",
    "for n in nd:\n",
    "    idx = ctr()\n",
    "    elements[idx] = hnx.Entity(idx,static=True,id=n)\n",
    "ent = hnx.Entity('test',elements=elements,static=True)\n",
    "ent.fullregistry()"
   ]
  },
  {
   "cell_type": "code",
   "execution_count": 7,
   "metadata": {},
   "outputs": [
    {
     "data": {
      "text/plain": [
       "Entity(0,[],{'id': 'A'})"
      ]
     },
     "execution_count": 7,
     "metadata": {},
     "output_type": "execute_result"
    }
   ],
   "source": [
    "a,c,e,k,t1,t2,v = range(7)\n",
    "elements[a]"
   ]
  },
  {
   "cell_type": "code",
   "execution_count": 8,
   "metadata": {},
   "outputs": [],
   "source": [
    "edges = [[a,c,k],[a,e],[a,k,t2,v],[c,e],[t1,t2],[k,t2]]\n",
    "newelements = dict()\n",
    "for ed in edges:\n",
    "    uid = ctr()\n",
    "    temp = {n:elements[n] for n in ed}\n",
    "    newelements[uid] = hnx.Entity(uid,elements=temp,static=True)"
   ]
  },
  {
   "cell_type": "code",
   "execution_count": 9,
   "metadata": {},
   "outputs": [
    {
     "data": {
      "text/plain": [
       "{7: Entity(7,[0, 1, 3],{}),\n",
       " 8: Entity(8,[0, 2],{}),\n",
       " 9: Entity(9,[0, 3, 5, 6],{}),\n",
       " 10: Entity(10,[1, 2],{}),\n",
       " 11: Entity(11,[4, 5],{}),\n",
       " 12: Entity(12,[3, 5],{})}"
      ]
     },
     "execution_count": 9,
     "metadata": {},
     "output_type": "execute_result"
    }
   ],
   "source": [
    "newelements"
   ]
  },
  {
   "cell_type": "code",
   "execution_count": 10,
   "metadata": {},
   "outputs": [],
   "source": [
    "eset = hnx.EntitySet('test2',elements=newelements,static=True)"
   ]
  },
  {
   "cell_type": "code",
   "execution_count": 11,
   "metadata": {},
   "outputs": [
    {
     "data": {
      "text/plain": [
       "{7: Entity(7,[0, 1, 3],{}),\n",
       " 8: Entity(8,[0, 2],{}),\n",
       " 9: Entity(9,[0, 3, 5, 6],{}),\n",
       " 10: Entity(10,[1, 2],{}),\n",
       " 11: Entity(11,[4, 5],{}),\n",
       " 12: Entity(12,[3, 5],{}),\n",
       " 0: Entity(0,[],{'id': 'A'}),\n",
       " 1: Entity(1,[],{'id': 'C'}),\n",
       " 3: Entity(3,[],{'id': 'K'}),\n",
       " 2: Entity(2,[],{'id': 'E'}),\n",
       " 5: Entity(5,[],{'id': 'T2'}),\n",
       " 6: Entity(6,[],{'id': 'V'}),\n",
       " 4: Entity(4,[],{'id': 'T1'})}"
      ]
     },
     "execution_count": 11,
     "metadata": {},
     "output_type": "execute_result"
    }
   ],
   "source": [
    "eset.fullregistry()"
   ]
  },
  {
   "cell_type": "code",
   "execution_count": 12,
   "metadata": {},
   "outputs": [
    {
     "data": {
      "text/plain": [
       "{'test': Entity(test,[0, 1, 2, 3, 4, 5, 6],{}),\n",
       " 8: Entity(8,[0, 2],{}),\n",
       " 10: Entity(10,[1, 2],{})}"
      ]
     },
     "execution_count": 12,
     "metadata": {},
     "output_type": "execute_result"
    }
   ],
   "source": [
    "elements[2].memberships"
   ]
  },
  {
   "cell_type": "code",
   "execution_count": null,
   "metadata": {},
   "outputs": [],
   "source": [
    "newent = hnx.Entity('new')\n",
    "test.add_elements_from([newent])"
   ]
  },
  {
   "cell_type": "code",
   "execution_count": null,
   "metadata": {},
   "outputs": [],
   "source": [
    "new1 = hnx.Entity.merge_entities('newent1',test,newent)\n",
    "new1"
   ]
  },
  {
   "cell_type": "code",
   "execution_count": null,
   "metadata": {},
   "outputs": [],
   "source": [
    "edgeset = []\n",
    "for j in range(len(edges)):\n",
    "    edgeset.append(hnx.Entity(f'e_{j}',elements=edges[j],static=True))"
   ]
  },
  {
   "cell_type": "code",
   "execution_count": null,
   "metadata": {},
   "outputs": [],
   "source": [
    "elements"
   ]
  },
  {
   "cell_type": "code",
   "execution_count": null,
   "metadata": {},
   "outputs": [],
   "source": [
    "elements"
   ]
  },
  {
   "cell_type": "code",
   "execution_count": null,
   "metadata": {},
   "outputs": [],
   "source": [
    "sbs.edges"
   ]
  },
  {
   "cell_type": "code",
   "execution_count": null,
   "metadata": {},
   "outputs": [],
   "source": [
    "a"
   ]
  },
  {
   "cell_type": "code",
   "execution_count": null,
   "metadata": {},
   "outputs": [],
   "source": []
  }
 ],
 "metadata": {
  "kernelspec": {
   "display_name": "Python 3",
   "language": "python",
   "name": "python3"
  },
  "language_info": {
   "codemirror_mode": {
    "name": "ipython",
    "version": 3
   },
   "file_extension": ".py",
   "mimetype": "text/x-python",
   "name": "python",
   "nbconvert_exporter": "python",
   "pygments_lexer": "ipython3",
   "version": "3.6.9"
  }
 },
 "nbformat": 4,
 "nbformat_minor": 2
}
