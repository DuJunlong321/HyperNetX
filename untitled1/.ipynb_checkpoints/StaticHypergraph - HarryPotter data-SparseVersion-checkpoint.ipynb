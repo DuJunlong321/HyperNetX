{
 "cells": [
  {
   "cell_type": "markdown",
   "metadata": {},
   "source": [
    "## Create a Static EntitySet and then a Static Hypergraph from the Harry Potter character data"
   ]
  },
  {
   "cell_type": "code",
   "execution_count": 1,
   "metadata": {},
   "outputs": [],
   "source": [
    "from hypernetx import *\n",
    "import matplotlib.pyplot as plt\n",
    "from collections import OrderedDict,defaultdict\n",
    "import scipy\n",
    "from scipy.sparse import coo_matrix,issparse\n",
    "import pandas as pd\n",
    "import numpy as np\n",
    "import itertools as it\n",
    "import importlib as imp\n",
    "import untitled_StaticEntity as us"
   ]
  },
  {
   "cell_type": "markdown",
   "metadata": {},
   "source": [
    "### Read Dataset from kaggle"
   ]
  },
  {
   "cell_type": "code",
   "execution_count": 2,
   "metadata": {
    "scrolled": true
   },
   "outputs": [
    {
     "data": {
      "text/html": [
       "<div>\n",
       "<style scoped>\n",
       "    .dataframe tbody tr th:only-of-type {\n",
       "        vertical-align: middle;\n",
       "    }\n",
       "\n",
       "    .dataframe tbody tr th {\n",
       "        vertical-align: top;\n",
       "    }\n",
       "\n",
       "    .dataframe thead th {\n",
       "        text-align: right;\n",
       "    }\n",
       "</style>\n",
       "<table border=\"1\" class=\"dataframe\">\n",
       "  <thead>\n",
       "    <tr style=\"text-align: right;\">\n",
       "      <th></th>\n",
       "      <th>Name</th>\n",
       "      <th>Gender</th>\n",
       "      <th>Job</th>\n",
       "      <th>House</th>\n",
       "      <th>Wand</th>\n",
       "      <th>Patronus</th>\n",
       "      <th>Species</th>\n",
       "      <th>Blood status</th>\n",
       "      <th>Hair colour</th>\n",
       "      <th>Eye colour</th>\n",
       "      <th>Loyalty</th>\n",
       "      <th>Skills</th>\n",
       "      <th>Birth</th>\n",
       "      <th>Death</th>\n",
       "    </tr>\n",
       "    <tr>\n",
       "      <th>Id</th>\n",
       "      <th></th>\n",
       "      <th></th>\n",
       "      <th></th>\n",
       "      <th></th>\n",
       "      <th></th>\n",
       "      <th></th>\n",
       "      <th></th>\n",
       "      <th></th>\n",
       "      <th></th>\n",
       "      <th></th>\n",
       "      <th></th>\n",
       "      <th></th>\n",
       "      <th></th>\n",
       "      <th></th>\n",
       "    </tr>\n",
       "  </thead>\n",
       "  <tbody>\n",
       "    <tr>\n",
       "      <th>1</th>\n",
       "      <td>Harry James Potter</td>\n",
       "      <td>Male</td>\n",
       "      <td>Student</td>\n",
       "      <td>Gryffindor</td>\n",
       "      <td>11\"  Holly  phoenix feather</td>\n",
       "      <td>Stag</td>\n",
       "      <td>Human</td>\n",
       "      <td>Half-blood</td>\n",
       "      <td>Black</td>\n",
       "      <td>Bright green</td>\n",
       "      <td>Albus Dumbledore | Dumbledore's Army | Order o...</td>\n",
       "      <td>Parseltongue| Defence Against the Dark Arts | ...</td>\n",
       "      <td>Thursday, July 31, 1980</td>\n",
       "      <td>NaN</td>\n",
       "    </tr>\n",
       "    <tr>\n",
       "      <th>2</th>\n",
       "      <td>Ronald Bilius Weasley</td>\n",
       "      <td>Male</td>\n",
       "      <td>Student</td>\n",
       "      <td>Gryffindor</td>\n",
       "      <td>12\" Ash unicorn tail hair</td>\n",
       "      <td>Jack Russell terrier</td>\n",
       "      <td>Human</td>\n",
       "      <td>Pure-blood</td>\n",
       "      <td>Red</td>\n",
       "      <td>Blue</td>\n",
       "      <td>Dumbledore's Army | Order of the Phoenix | Hog...</td>\n",
       "      <td>Wizard chess | Quidditch goalkeeping</td>\n",
       "      <td>Saturday, March 1, 1980</td>\n",
       "      <td>NaN</td>\n",
       "    </tr>\n",
       "    <tr>\n",
       "      <th>3</th>\n",
       "      <td>Hermione Jean Granger</td>\n",
       "      <td>Female</td>\n",
       "      <td>Student</td>\n",
       "      <td>Gryffindor</td>\n",
       "      <td>10¾\"  vine wood dragon heartstring</td>\n",
       "      <td>Otter</td>\n",
       "      <td>Human</td>\n",
       "      <td>Muggle-born</td>\n",
       "      <td>Brown</td>\n",
       "      <td>Brown</td>\n",
       "      <td>Dumbledore's Army | Order of the Phoenix | Hog...</td>\n",
       "      <td>Almost everything</td>\n",
       "      <td>19 September, 1979</td>\n",
       "      <td>NaN</td>\n",
       "    </tr>\n",
       "    <tr>\n",
       "      <th>4</th>\n",
       "      <td>Albus Percival Wulfric Brian Dumbledore</td>\n",
       "      <td>Male</td>\n",
       "      <td>Headmaster</td>\n",
       "      <td>Gryffindor</td>\n",
       "      <td>15\" Elder Thestral tail hair core</td>\n",
       "      <td>Phoenix</td>\n",
       "      <td>Human</td>\n",
       "      <td>Half-blood</td>\n",
       "      <td>Silver| formerly auburn</td>\n",
       "      <td>Blue</td>\n",
       "      <td>Dumbledore's Army | Order of the Phoenix | Hog...</td>\n",
       "      <td>Considered by many to be one of the most power...</td>\n",
       "      <td>Late August 1881</td>\n",
       "      <td>30 June, 1997</td>\n",
       "    </tr>\n",
       "    <tr>\n",
       "      <th>5</th>\n",
       "      <td>Rubeus Hagrid</td>\n",
       "      <td>Male</td>\n",
       "      <td>Keeper of Keys and Grounds | Professor of Care...</td>\n",
       "      <td>Gryffindor</td>\n",
       "      <td>16\"  Oak unknown core</td>\n",
       "      <td>None</td>\n",
       "      <td>Half-Human/Half-Giant</td>\n",
       "      <td>Part-Human</td>\n",
       "      <td>Black</td>\n",
       "      <td>Black</td>\n",
       "      <td>Albus Dumbledore | Order of the Phoenix | Hogw...</td>\n",
       "      <td>Resistant to stunning spells| above average st...</td>\n",
       "      <td>6 December 1928</td>\n",
       "      <td>NaN</td>\n",
       "    </tr>\n",
       "    <tr>\n",
       "      <th>...</th>\n",
       "      <td>...</td>\n",
       "      <td>...</td>\n",
       "      <td>...</td>\n",
       "      <td>...</td>\n",
       "      <td>...</td>\n",
       "      <td>...</td>\n",
       "      <td>...</td>\n",
       "      <td>...</td>\n",
       "      <td>...</td>\n",
       "      <td>...</td>\n",
       "      <td>...</td>\n",
       "      <td>...</td>\n",
       "      <td>...</td>\n",
       "      <td>...</td>\n",
       "    </tr>\n",
       "    <tr>\n",
       "      <th>Hogwarts kitchens worker (December 1994 - 1998)\"</th>\n",
       "      <td>NaN</td>\n",
       "      <td>NaN</td>\n",
       "      <td>NaN</td>\n",
       "      <td>House elf</td>\n",
       "      <td>NaN</td>\n",
       "      <td>Green</td>\n",
       "      <td>NaN</td>\n",
       "      <td>NaN</td>\n",
       "      <td>A type of magic specific to house-elves, perfo...</td>\n",
       "      <td>44010</td>\n",
       "      <td>Late March, 1998</td>\n",
       "      <td>NaN</td>\n",
       "      <td>NaN</td>\n",
       "      <td>NaN</td>\n",
       "    </tr>\n",
       "    <tr>\n",
       "      <th>140</th>\n",
       "      <td>Kreacher</td>\n",
       "      <td>Male</td>\n",
       "      <td>NaN</td>\n",
       "      <td>NaN</td>\n",
       "      <td>NaN</td>\n",
       "      <td>NaN</td>\n",
       "      <td>NaN</td>\n",
       "      <td>NaN</td>\n",
       "      <td>NaN</td>\n",
       "      <td>NaN</td>\n",
       "      <td>NaN</td>\n",
       "      <td>NaN</td>\n",
       "      <td>NaN</td>\n",
       "      <td>NaN</td>\n",
       "    </tr>\n",
       "    <tr>\n",
       "      <th>Black family's house-elf (?-1996),</th>\n",
       "      <td>NaN</td>\n",
       "      <td>NaN</td>\n",
       "      <td>NaN</td>\n",
       "      <td>NaN</td>\n",
       "      <td>NaN</td>\n",
       "      <td>NaN</td>\n",
       "      <td>NaN</td>\n",
       "      <td>NaN</td>\n",
       "      <td>NaN</td>\n",
       "      <td>NaN</td>\n",
       "      <td>NaN</td>\n",
       "      <td>NaN</td>\n",
       "      <td>NaN</td>\n",
       "      <td>NaN</td>\n",
       "    </tr>\n",
       "    <tr>\n",
       "      <th>Harry Potter's house-elf,</th>\n",
       "      <td>NaN</td>\n",
       "      <td>NaN</td>\n",
       "      <td>NaN</td>\n",
       "      <td>NaN</td>\n",
       "      <td>NaN</td>\n",
       "      <td>NaN</td>\n",
       "      <td>NaN</td>\n",
       "      <td>NaN</td>\n",
       "      <td>NaN</td>\n",
       "      <td>NaN</td>\n",
       "      <td>NaN</td>\n",
       "      <td>NaN</td>\n",
       "      <td>NaN</td>\n",
       "      <td>NaN</td>\n",
       "    </tr>\n",
       "    <tr>\n",
       "      <th>Hogwarts kitchen worker \"</th>\n",
       "      <td>NaN</td>\n",
       "      <td>NaN</td>\n",
       "      <td>NaN</td>\n",
       "      <td>House elf</td>\n",
       "      <td>NaN</td>\n",
       "      <td>White</td>\n",
       "      <td>NaN</td>\n",
       "      <td>NaN</td>\n",
       "      <td>Magic performed without a wand which includes ...</td>\n",
       "      <td>NaN</td>\n",
       "      <td>NaN</td>\n",
       "      <td>NaN</td>\n",
       "      <td>NaN</td>\n",
       "      <td>NaN</td>\n",
       "    </tr>\n",
       "  </tbody>\n",
       "</table>\n",
       "<p>144 rows × 14 columns</p>\n",
       "</div>"
      ],
      "text/plain": [
       "                                                                                     Name  \\\n",
       "Id                                                                                          \n",
       "1                                                                      Harry James Potter   \n",
       "2                                                                   Ronald Bilius Weasley   \n",
       "3                                                                   Hermione Jean Granger   \n",
       "4                                                 Albus Percival Wulfric Brian Dumbledore   \n",
       "5                                                                           Rubeus Hagrid   \n",
       "...                                                                                   ...   \n",
       "Hogwarts kitchens worker (December 1994 - 1998)\"                                      NaN   \n",
       "140                                                                              Kreacher   \n",
       "Black family's house-elf (?-1996),                                                    NaN   \n",
       "Harry Potter's house-elf,                                                             NaN   \n",
       "Hogwarts kitchen worker \"                                                             NaN   \n",
       "\n",
       "                                                  Gender  \\\n",
       "Id                                                         \n",
       "1                                                   Male   \n",
       "2                                                   Male   \n",
       "3                                                 Female   \n",
       "4                                                   Male   \n",
       "5                                                   Male   \n",
       "...                                                  ...   \n",
       "Hogwarts kitchens worker (December 1994 - 1998)\"     NaN   \n",
       "140                                                 Male   \n",
       "Black family's house-elf (?-1996),                   NaN   \n",
       "Harry Potter's house-elf,                            NaN   \n",
       "Hogwarts kitchen worker \"                            NaN   \n",
       "\n",
       "                                                                                                Job  \\\n",
       "Id                                                                                                    \n",
       "1                                                                                           Student   \n",
       "2                                                                                           Student   \n",
       "3                                                                                           Student   \n",
       "4                                                                                        Headmaster   \n",
       "5                                                 Keeper of Keys and Grounds | Professor of Care...   \n",
       "...                                                                                             ...   \n",
       "Hogwarts kitchens worker (December 1994 - 1998)\"                                                NaN   \n",
       "140                                                                                             NaN   \n",
       "Black family's house-elf (?-1996),                                                              NaN   \n",
       "Harry Potter's house-elf,                                                                       NaN   \n",
       "Hogwarts kitchen worker \"                                                                       NaN   \n",
       "\n",
       "                                                       House  \\\n",
       "Id                                                             \n",
       "1                                                 Gryffindor   \n",
       "2                                                 Gryffindor   \n",
       "3                                                 Gryffindor   \n",
       "4                                                 Gryffindor   \n",
       "5                                                 Gryffindor   \n",
       "...                                                      ...   \n",
       "Hogwarts kitchens worker (December 1994 - 1998)\"   House elf   \n",
       "140                                                      NaN   \n",
       "Black family's house-elf (?-1996),                       NaN   \n",
       "Harry Potter's house-elf,                                NaN   \n",
       "Hogwarts kitchen worker \"                          House elf   \n",
       "\n",
       "                                                                                Wand  \\\n",
       "Id                                                                                     \n",
       "1                                                        11\"  Holly  phoenix feather   \n",
       "2                                                         12\" Ash unicorn tail hair    \n",
       "3                                                 10¾\"  vine wood dragon heartstring   \n",
       "4                                                  15\" Elder Thestral tail hair core   \n",
       "5                                                              16\"  Oak unknown core   \n",
       "...                                                                              ...   \n",
       "Hogwarts kitchens worker (December 1994 - 1998)\"                                 NaN   \n",
       "140                                                                              NaN   \n",
       "Black family's house-elf (?-1996),                                               NaN   \n",
       "Harry Potter's house-elf,                                                        NaN   \n",
       "Hogwarts kitchen worker \"                                                        NaN   \n",
       "\n",
       "                                                              Patronus  \\\n",
       "Id                                                                       \n",
       "1                                                                 Stag   \n",
       "2                                                 Jack Russell terrier   \n",
       "3                                                                Otter   \n",
       "4                                                              Phoenix   \n",
       "5                                                                 None   \n",
       "...                                                                ...   \n",
       "Hogwarts kitchens worker (December 1994 - 1998)\"                 Green   \n",
       "140                                                                NaN   \n",
       "Black family's house-elf (?-1996),                                 NaN   \n",
       "Harry Potter's house-elf,                                          NaN   \n",
       "Hogwarts kitchen worker \"                                        White   \n",
       "\n",
       "                                                                Species  \\\n",
       "Id                                                                        \n",
       "1                                                                 Human   \n",
       "2                                                                 Human   \n",
       "3                                                                 Human   \n",
       "4                                                                 Human   \n",
       "5                                                 Half-Human/Half-Giant   \n",
       "...                                                                 ...   \n",
       "Hogwarts kitchens worker (December 1994 - 1998)\"                    NaN   \n",
       "140                                                                 NaN   \n",
       "Black family's house-elf (?-1996),                                  NaN   \n",
       "Harry Potter's house-elf,                                           NaN   \n",
       "Hogwarts kitchen worker \"                                           NaN   \n",
       "\n",
       "                                                 Blood status  \\\n",
       "Id                                                              \n",
       "1                                                  Half-blood   \n",
       "2                                                  Pure-blood   \n",
       "3                                                 Muggle-born   \n",
       "4                                                  Half-blood   \n",
       "5                                                  Part-Human   \n",
       "...                                                       ...   \n",
       "Hogwarts kitchens worker (December 1994 - 1998)\"          NaN   \n",
       "140                                                       NaN   \n",
       "Black family's house-elf (?-1996),                        NaN   \n",
       "Harry Potter's house-elf,                                 NaN   \n",
       "Hogwarts kitchen worker \"                                 NaN   \n",
       "\n",
       "                                                                                        Hair colour  \\\n",
       "Id                                                                                                    \n",
       "1                                                                                             Black   \n",
       "2                                                                                               Red   \n",
       "3                                                                                             Brown   \n",
       "4                                                                           Silver| formerly auburn   \n",
       "5                                                                                             Black   \n",
       "...                                                                                             ...   \n",
       "Hogwarts kitchens worker (December 1994 - 1998)\"  A type of magic specific to house-elves, perfo...   \n",
       "140                                                                                             NaN   \n",
       "Black family's house-elf (?-1996),                                                              NaN   \n",
       "Harry Potter's house-elf,                                                                       NaN   \n",
       "Hogwarts kitchen worker \"                         Magic performed without a wand which includes ...   \n",
       "\n",
       "                                                    Eye colour  \\\n",
       "Id                                                               \n",
       "1                                                 Bright green   \n",
       "2                                                         Blue   \n",
       "3                                                        Brown   \n",
       "4                                                         Blue   \n",
       "5                                                        Black   \n",
       "...                                                        ...   \n",
       "Hogwarts kitchens worker (December 1994 - 1998)\"         44010   \n",
       "140                                                        NaN   \n",
       "Black family's house-elf (?-1996),                         NaN   \n",
       "Harry Potter's house-elf,                                  NaN   \n",
       "Hogwarts kitchen worker \"                                  NaN   \n",
       "\n",
       "                                                                                            Loyalty  \\\n",
       "Id                                                                                                    \n",
       "1                                                 Albus Dumbledore | Dumbledore's Army | Order o...   \n",
       "2                                                 Dumbledore's Army | Order of the Phoenix | Hog...   \n",
       "3                                                 Dumbledore's Army | Order of the Phoenix | Hog...   \n",
       "4                                                 Dumbledore's Army | Order of the Phoenix | Hog...   \n",
       "5                                                 Albus Dumbledore | Order of the Phoenix | Hogw...   \n",
       "...                                                                                             ...   \n",
       "Hogwarts kitchens worker (December 1994 - 1998)\"                                   Late March, 1998   \n",
       "140                                                                                             NaN   \n",
       "Black family's house-elf (?-1996),                                                              NaN   \n",
       "Harry Potter's house-elf,                                                                       NaN   \n",
       "Hogwarts kitchen worker \"                                                                       NaN   \n",
       "\n",
       "                                                                                             Skills  \\\n",
       "Id                                                                                                    \n",
       "1                                                 Parseltongue| Defence Against the Dark Arts | ...   \n",
       "2                                                              Wizard chess | Quidditch goalkeeping   \n",
       "3                                                                                 Almost everything   \n",
       "4                                                 Considered by many to be one of the most power...   \n",
       "5                                                 Resistant to stunning spells| above average st...   \n",
       "...                                                                                             ...   \n",
       "Hogwarts kitchens worker (December 1994 - 1998)\"                                                NaN   \n",
       "140                                                                                             NaN   \n",
       "Black family's house-elf (?-1996),                                                              NaN   \n",
       "Harry Potter's house-elf,                                                                       NaN   \n",
       "Hogwarts kitchen worker \"                                                                       NaN   \n",
       "\n",
       "                                                                    Birth  \\\n",
       "Id                                                                          \n",
       "1                                                 Thursday, July 31, 1980   \n",
       "2                                                 Saturday, March 1, 1980   \n",
       "3                                                      19 September, 1979   \n",
       "4                                                        Late August 1881   \n",
       "5                                                         6 December 1928   \n",
       "...                                                                   ...   \n",
       "Hogwarts kitchens worker (December 1994 - 1998)\"                      NaN   \n",
       "140                                                                   NaN   \n",
       "Black family's house-elf (?-1996),                                    NaN   \n",
       "Harry Potter's house-elf,                                             NaN   \n",
       "Hogwarts kitchen worker \"                                             NaN   \n",
       "\n",
       "                                                           Death  \n",
       "Id                                                                \n",
       "1                                                            NaN  \n",
       "2                                                            NaN  \n",
       "3                                                            NaN  \n",
       "4                                                 30 June, 1997   \n",
       "5                                                            NaN  \n",
       "...                                                          ...  \n",
       "Hogwarts kitchens worker (December 1994 - 1998)\"             NaN  \n",
       "140                                                          NaN  \n",
       "Black family's house-elf (?-1996),                           NaN  \n",
       "Harry Potter's house-elf,                                    NaN  \n",
       "Hogwarts kitchen worker \"                                    NaN  \n",
       "\n",
       "[144 rows x 14 columns]"
      ]
     },
     "execution_count": 2,
     "metadata": {},
     "output_type": "execute_result"
    }
   ],
   "source": [
    "## Read dataset in using pandas. Fix index column or use default pandas index. \n",
    "harrydata = pd.read_csv('HarryPotter/datasets/Characters_edit.csv',encoding='unicode_escape').set_index('Id')\n",
    "harrydata = pd.DataFrame(harrydata)\n",
    "harrydata"
   ]
  },
  {
   "cell_type": "code",
   "execution_count": 3,
   "metadata": {},
   "outputs": [],
   "source": [
    "## Choose string to fill NaN. These will be set to 0 in system id = sid\n",
    "harry = harrydata[['House','Blood status','Species','Hair colour','Eye colour']].fillna(\"Unknown\")\n",
    "for c in harry.columns:\n",
    "    harry[c] = harry[c].apply(lambda x : x.replace('\\xa0',' '))"
   ]
  },
  {
   "cell_type": "code",
   "execution_count": 4,
   "metadata": {},
   "outputs": [
    {
     "data": {
      "text/html": [
       "<div>\n",
       "<style scoped>\n",
       "    .dataframe tbody tr th:only-of-type {\n",
       "        vertical-align: middle;\n",
       "    }\n",
       "\n",
       "    .dataframe tbody tr th {\n",
       "        vertical-align: top;\n",
       "    }\n",
       "\n",
       "    .dataframe thead th {\n",
       "        text-align: right;\n",
       "    }\n",
       "</style>\n",
       "<table border=\"1\" class=\"dataframe\">\n",
       "  <thead>\n",
       "    <tr style=\"text-align: right;\">\n",
       "      <th></th>\n",
       "      <th>House</th>\n",
       "      <th>Blood status</th>\n",
       "      <th>Species</th>\n",
       "      <th>Hair colour</th>\n",
       "      <th>Eye colour</th>\n",
       "    </tr>\n",
       "    <tr>\n",
       "      <th>Id</th>\n",
       "      <th></th>\n",
       "      <th></th>\n",
       "      <th></th>\n",
       "      <th></th>\n",
       "      <th></th>\n",
       "    </tr>\n",
       "  </thead>\n",
       "  <tbody>\n",
       "    <tr>\n",
       "      <th>1</th>\n",
       "      <td>Gryffindor</td>\n",
       "      <td>Half-blood</td>\n",
       "      <td>Human</td>\n",
       "      <td>Black</td>\n",
       "      <td>Bright green</td>\n",
       "    </tr>\n",
       "    <tr>\n",
       "      <th>2</th>\n",
       "      <td>Gryffindor</td>\n",
       "      <td>Pure-blood</td>\n",
       "      <td>Human</td>\n",
       "      <td>Red</td>\n",
       "      <td>Blue</td>\n",
       "    </tr>\n",
       "    <tr>\n",
       "      <th>3</th>\n",
       "      <td>Gryffindor</td>\n",
       "      <td>Muggle-born</td>\n",
       "      <td>Human</td>\n",
       "      <td>Brown</td>\n",
       "      <td>Brown</td>\n",
       "    </tr>\n",
       "    <tr>\n",
       "      <th>4</th>\n",
       "      <td>Gryffindor</td>\n",
       "      <td>Half-blood</td>\n",
       "      <td>Human</td>\n",
       "      <td>Silver| formerly auburn</td>\n",
       "      <td>Blue</td>\n",
       "    </tr>\n",
       "    <tr>\n",
       "      <th>5</th>\n",
       "      <td>Gryffindor</td>\n",
       "      <td>Part-Human</td>\n",
       "      <td>Half-Human/Half-Giant</td>\n",
       "      <td>Black</td>\n",
       "      <td>Black</td>\n",
       "    </tr>\n",
       "    <tr>\n",
       "      <th>6</th>\n",
       "      <td>Gryffindor</td>\n",
       "      <td>Pure-blood</td>\n",
       "      <td>Human</td>\n",
       "      <td>Blond</td>\n",
       "      <td>Unknown</td>\n",
       "    </tr>\n",
       "    <tr>\n",
       "      <th>7</th>\n",
       "      <td>Gryffindor</td>\n",
       "      <td>Pure-blood</td>\n",
       "      <td>Human</td>\n",
       "      <td>Red</td>\n",
       "      <td>Brown</td>\n",
       "    </tr>\n",
       "    <tr>\n",
       "      <th>8</th>\n",
       "      <td>Gryffindor</td>\n",
       "      <td>Pure-blood</td>\n",
       "      <td>Human</td>\n",
       "      <td>Red</td>\n",
       "      <td>Brown</td>\n",
       "    </tr>\n",
       "    <tr>\n",
       "      <th>9</th>\n",
       "      <td>Gryffindor</td>\n",
       "      <td>Pure-blood</td>\n",
       "      <td>Human</td>\n",
       "      <td>Red</td>\n",
       "      <td>Bright brown</td>\n",
       "    </tr>\n",
       "    <tr>\n",
       "      <th>10</th>\n",
       "      <td>Gryffindor</td>\n",
       "      <td>Muggle-born</td>\n",
       "      <td>Human</td>\n",
       "      <td>Black</td>\n",
       "      <td>Brown</td>\n",
       "    </tr>\n",
       "  </tbody>\n",
       "</table>\n",
       "</div>"
      ],
      "text/plain": [
       "         House Blood status                Species              Hair colour  \\\n",
       "Id                                                                            \n",
       "1   Gryffindor   Half-blood                  Human                    Black   \n",
       "2   Gryffindor   Pure-blood                  Human                      Red   \n",
       "3   Gryffindor  Muggle-born                  Human                    Brown   \n",
       "4   Gryffindor   Half-blood                  Human  Silver| formerly auburn   \n",
       "5   Gryffindor   Part-Human  Half-Human/Half-Giant                    Black   \n",
       "6   Gryffindor   Pure-blood                  Human                    Blond   \n",
       "7   Gryffindor   Pure-blood                  Human                      Red   \n",
       "8   Gryffindor   Pure-blood                  Human                      Red   \n",
       "9   Gryffindor   Pure-blood                  Human                      Red   \n",
       "10  Gryffindor  Muggle-born                  Human                    Black   \n",
       "\n",
       "      Eye colour  \n",
       "Id                \n",
       "1   Bright green  \n",
       "2           Blue  \n",
       "3          Brown  \n",
       "4           Blue  \n",
       "5          Black  \n",
       "6        Unknown  \n",
       "7          Brown  \n",
       "8          Brown  \n",
       "9   Bright brown  \n",
       "10         Brown  "
      ]
     },
     "execution_count": 4,
     "metadata": {},
     "output_type": "execute_result"
    }
   ],
   "source": [
    "harry.iloc[:10]"
   ]
  },
  {
   "cell_type": "markdown",
   "metadata": {},
   "source": [
    "### Generate a counter for each column \n",
    "- Assign a sid to each value in that column\n",
    "- Create a reverse counter to grab name from sid\n",
    "\n",
    "**Questions for Tony and Cliff**\n",
    "- how should we index the objects? \n",
    "- sids are whole numbers starting with column 0 and running through each column\n",
    "- ldict and rdict are indexed starting with 0 representing missing values\n",
    "- would we lose anything if we indexed these as -1 for missing values and then\n",
    "compute the incidence matrix using only nonnegative indices?"
   ]
  },
  {
   "cell_type": "code",
   "execution_count": 5,
   "metadata": {},
   "outputs": [],
   "source": [
    "ctr = [HNXCount() for c in range(5)]\n",
    "ldict = OrderedDict()\n",
    "rdict = OrderedDict()\n",
    "for idx,c in enumerate(harry.columns):\n",
    "    ldict[c] = defaultdict(ctr[idx])\n",
    "    rdict[c] = OrderedDict()\n",
    "    ldict[c]['Unknown']\n",
    "    rdict[c][0] = 'Unknown'\n",
    "    for k in harry[c]:\n",
    "        ldict[c][k]\n",
    "        rdict[c][ldict[c][k]] = k\n",
    "    ldict[c] = dict(ldict[c]) \n",
    "dims = tuple([len(ldict[c]) for c in harry.columns])\n",
    "# sid = dict()\n",
    "# sctr = HNXCount()\n",
    "# for cdx,c in enumerate(harry.columns):\n",
    "#     for x in range(len(ldict[c])):\n",
    "#         sid[sctr()] = "
   ]
  },
  {
   "cell_type": "code",
   "execution_count": 6,
   "metadata": {
    "scrolled": true
   },
   "outputs": [
    {
     "data": {
      "text/plain": [
       "odict_values(['Unknown', 'Bright green', 'Blue', 'Brown', 'Black', 'Bright brown', 'Hazel', 'Grey', 'Green', 'Dark', 'Pale silvery', 'Silvery', 'Gooseberry', 'Scarlet ', 'Pale, freckled', 'Astonishingly blue', 'Variable', 'One dark, one electric blue', 'Yellowish', 'Ruddy', 'Grey/Blue[', 'Dark blue[', 'Bright Blue', 'Dark Grey', 'Pale', 'Yellow', '44010'])"
      ]
     },
     "execution_count": 6,
     "metadata": {},
     "output_type": "execute_result"
    }
   ],
   "source": [
    "rdict['Eye colour'].values()"
   ]
  },
  {
   "cell_type": "markdown",
   "metadata": {},
   "source": [
    "### Create an array of tuples giving positions of 1's in incidence Tensor\n",
    "- The tuples indicate one point across the possible node/edge assignments\n",
    "- The dimensions of the tuple give the number of unique labels in potential nodes/columns"
   ]
  },
  {
   "cell_type": "code",
   "execution_count": 7,
   "metadata": {},
   "outputs": [
    {
     "name": "stdout",
     "output_type": "stream",
     "text": [
      "[[1 1 1 1 1]\n",
      " [1 2 1 2 2]\n",
      " [1 3 1 3 3]\n",
      " [1 1 1 4 2]\n",
      " [1 4 2 1 4]]\n",
      "\n",
      "Dimensions = (8, 11, 10, 38, 27)\n"
     ]
    }
   ],
   "source": [
    "m = len(harry)\n",
    "n = len(harry.columns)\n",
    "data = np.zeros((m,n),dtype=int)\n",
    "for rid in range(m):\n",
    "    for cid in range(n):\n",
    "        c = harry.columns[cid]\n",
    "        data[rid,cid] = ldict[c][harry.iloc[rid][c]]\n",
    "dims = tuple([len(ldict[c]) for c in harry.columns])\n",
    "print(f'{data[:5]}\\n\\nDimensions = {dims}')"
   ]
  },
  {
   "cell_type": "code",
   "execution_count": 8,
   "metadata": {},
   "outputs": [
    {
     "data": {
      "text/plain": [
       "dict_keys(['Unknown', 'Gryffindor', 'Ravenclaw', 'Slytherin', 'Hufflepuff', 'Beauxbatons Academy of Magic', 'Durmstrang Institute', 'House elf'])"
      ]
     },
     "execution_count": 8,
     "metadata": {},
     "output_type": "execute_result"
    }
   ],
   "source": [
    "ldict['House'].keys()"
   ]
  },
  {
   "cell_type": "code",
   "execution_count": 9,
   "metadata": {},
   "outputs": [
    {
     "data": {
      "text/plain": [
       "(array([['Gryffindor', 'Half-blood', 'Human', 'Black', 'Bright green'],\n",
       "        ['Gryffindor', 'Pure-blood', 'Human', 'Red', 'Blue'],\n",
       "        ['Gryffindor', 'Muggle-born', 'Human', 'Brown', 'Brown'],\n",
       "        ['Gryffindor', 'Half-blood', 'Human', 'Silver| formerly aubu',\n",
       "         'Blue'],\n",
       "        ['Gryffindor', 'Part-Human', 'Half-Human/Half-Giant', 'Black',\n",
       "         'Black']], dtype='<U21'),\n",
       " Id\n",
       " 1                         Harry James Potter\n",
       " 2                      Ronald Bilius Weasley\n",
       " 3                      Hermione Jean Granger\n",
       " 4    Albus Percival Wulfric Brian Dumbledore\n",
       " 5                              Rubeus Hagrid\n",
       " Name: Name, dtype: object)"
      ]
     },
     "execution_count": 9,
     "metadata": {},
     "output_type": "execute_result"
    }
   ],
   "source": [
    "## labeldata replaces numbers in data with their corresponding labels\n",
    "labeldata = np.array(data,dtype=str)\n",
    "for rdx in range(m):\n",
    "    for cdx in range(n):\n",
    "        c = harry.columns[cdx]\n",
    "        labeldata[rdx,cdx] = rdict[c][data[rdx,cdx]]\n",
    "## Make a hypergraph from the House and Blood Status\n",
    "labeldata[:,:][:5],harrydata['Name'][:5]"
   ]
  },
  {
   "cell_type": "markdown",
   "metadata": {},
   "source": [
    "## Create Sparse Incidence \"Tensor\"\n",
    "There is no scipy sparse tensor, so instead we choose the data columns first, then create the array\n",
    "\n",
    "1. First create the incidence matrix - and check method outputs\n",
    "2. Then create a sparse version and compare\n"
   ]
  },
  {
   "cell_type": "code",
   "execution_count": 10,
   "metadata": {},
   "outputs": [],
   "source": [
    "Edx,Ndx = level1,level2 = 0,1\n",
    "\n",
    "imat = np.zeros((dims[level1],dims[level2]),dtype=int)\n",
    "tdata = data.transpose()[[level1,level2]]\n",
    "idata = tdata.transpose()\n",
    "for i,j in idata:\n",
    "    imat[i,j] +=1\n",
    "spmat = coo_matrix(([1]*len(tdata[0]),(tdata[0],tdata[1])))"
   ]
  },
  {
   "cell_type": "code",
   "execution_count": 11,
   "metadata": {},
   "outputs": [
    {
     "data": {
      "text/plain": [
       "<8x11 sparse matrix of type '<class 'numpy.int64'>'\n",
       "\twith 144 stored elements in COOrdinate format>"
      ]
     },
     "execution_count": 11,
     "metadata": {},
     "output_type": "execute_result"
    }
   ],
   "source": [
    "spmat"
   ]
  },
  {
   "cell_type": "code",
   "execution_count": 12,
   "metadata": {},
   "outputs": [
    {
     "data": {
      "text/plain": [
       "array([[16,  2,  7,  0,  0, 11,  0,  0,  0,  4,  1],\n",
       "       [ 2,  7, 14,  5,  1,  9,  0,  0,  0,  0,  0],\n",
       "       [ 1,  6,  0,  1,  0,  8,  1,  1,  0,  0,  0],\n",
       "       [ 0,  5, 11,  0,  0, 12,  0,  0,  0,  0,  0],\n",
       "       [ 1,  4,  2,  1,  0,  5,  0,  0,  0,  0,  0],\n",
       "       [ 0,  0,  0,  0,  1,  0,  0,  0,  2,  0,  0],\n",
       "       [ 0,  0,  0,  0,  0,  1,  0,  0,  0,  0,  0],\n",
       "       [ 2,  0,  0,  0,  0,  0,  0,  0,  0,  0,  0]])"
      ]
     },
     "execution_count": 12,
     "metadata": {},
     "output_type": "execute_result"
    }
   ],
   "source": [
    "imat"
   ]
  },
  {
   "cell_type": "code",
   "execution_count": 13,
   "metadata": {},
   "outputs": [
    {
     "data": {
      "text/plain": [
       "{'House': array(['Unknown', 'Gryffindor', 'Ravenclaw', 'Slytherin', 'Hufflepuff',\n",
       "        'Beauxbatons Academy of Magic', 'Durmstrang Institute',\n",
       "        'House elf'], dtype='<U28'),\n",
       " 'Blood status': array(['Unknown', 'Half-blood', 'Pure-blood', 'Muggle-born', 'Part-Human',\n",
       "        'Pure-blood or half-blood', 'Part-Goblin',\n",
       "        'Muggle-born or half-blood', 'Quarter-Veela', 'Muggle', 'Squib'],\n",
       "       dtype='<U25')}"
      ]
     },
     "execution_count": 13,
     "metadata": {},
     "output_type": "execute_result"
    }
   ],
   "source": [
    "slabels={k:np.array(list(rdict[k].values())) for k in harry.columns[[level1,level2]]}\n",
    "slabels"
   ]
  },
  {
   "cell_type": "markdown",
   "metadata": {},
   "source": [
    "## Create StaticEntity "
   ]
  },
  {
   "cell_type": "code",
   "execution_count": 14,
   "metadata": {},
   "outputs": [
    {
     "data": {
      "text/plain": [
       "(8, 11)"
      ]
     },
     "execution_count": 14,
     "metadata": {},
     "output_type": "execute_result"
    }
   ],
   "source": [
    "imp.reload(us)\n",
    "E = us.StaticEntity(spmat, slabels)\n",
    "E.dimensions"
   ]
  },
  {
   "cell_type": "code",
   "execution_count": 15,
   "metadata": {},
   "outputs": [
    {
     "data": {
      "text/plain": [
       "(OrderedDict([(0, array([0, 1, 2, 4, 7])),\n",
       "              (1, array([0, 1, 2, 3, 4])),\n",
       "              (2, array([0, 1, 3, 4])),\n",
       "              (3, array([1, 2, 4])),\n",
       "              (4, array([1, 5])),\n",
       "              (5, array([0, 1, 2, 3, 4, 6])),\n",
       "              (6, array([2])),\n",
       "              (7, array([2]))]),\n",
       " {'Half-blood',\n",
       "  'Muggle',\n",
       "  'Muggle-born',\n",
       "  'Muggle-born or half-blood',\n",
       "  'Part-Goblin',\n",
       "  'Part-Human',\n",
       "  'Pure-blood',\n",
       "  'Pure-blood or half-blood',\n",
       "  'Quarter-Veela',\n",
       "  'Squib',\n",
       "  'Unknown'})"
      ]
     },
     "execution_count": 15,
     "metadata": {},
     "output_type": "execute_result"
    }
   ],
   "source": [
    "E.elements,E.children"
   ]
  },
  {
   "cell_type": "code",
   "execution_count": 16,
   "metadata": {},
   "outputs": [
    {
     "data": {
      "text/plain": [
       "matrix([[16],\n",
       "        [ 2],\n",
       "        [ 1],\n",
       "        [ 0],\n",
       "        [ 1],\n",
       "        [ 0],\n",
       "        [ 0],\n",
       "        [ 2]])"
      ]
     },
     "execution_count": 16,
     "metadata": {},
     "output_type": "execute_result"
    }
   ],
   "source": [
    "E._arr.getcol(0).todense()"
   ]
  },
  {
   "cell_type": "code",
   "execution_count": 17,
   "metadata": {},
   "outputs": [
    {
     "data": {
      "text/plain": [
       "(array(['Unknown', 'Gryffindor', 'Ravenclaw', 'Slytherin', 'Hufflepuff',\n",
       "        'Beauxbatons Academy of Magic', 'Durmstrang Institute',\n",
       "        'House elf'], dtype='<U28'),\n",
       " 'House')"
      ]
     },
     "execution_count": 17,
     "metadata": {},
     "output_type": "execute_result"
    }
   ],
   "source": [
    "np.array(list(E._labels.keys()))[0]\n",
    "self = E\n",
    "f = lambda kdx: self._labels.get(list(self._headers[kdx]), {})\n",
    "self._labels[self._headers[0]], self._headers[0]"
   ]
  },
  {
   "cell_type": "code",
   "execution_count": 18,
   "metadata": {
    "scrolled": true
   },
   "outputs": [
    {
     "data": {
      "text/plain": [
       "{'_uid': 'test',\n",
       " '_dims': (8, 11),\n",
       " '_arr': <8x11 sparse matrix of type '<class 'numpy.int64'>'\n",
       " \twith 144 stored elements in COOrdinate format>,\n",
       " '_labels': OrderedDict([('House',\n",
       "               array(['Unknown', 'Gryffindor', 'Ravenclaw', 'Slytherin', 'Hufflepuff',\n",
       "                      'Beauxbatons Academy of Magic', 'Durmstrang Institute',\n",
       "                      'House elf'], dtype='<U28')),\n",
       "              ('Blood status',\n",
       "               array(['Unknown', 'Half-blood', 'Pure-blood', 'Muggle-born', 'Part-Human',\n",
       "                      'Pure-blood or half-blood', 'Part-Goblin',\n",
       "                      'Muggle-born or half-blood', 'Quarter-Veela', 'Muggle', 'Squib'],\n",
       "                     dtype='<U25'))]),\n",
       " '_keyindex': <function untitled_StaticEntity.StaticEntity.__init__.<locals>.<lambda>(category)>,\n",
       " '_headers': array(['House', 'Blood status'], dtype='<U12'),\n",
       " '_index': <function untitled_StaticEntity.StaticEntity.__init__.<locals>.<lambda>(category, value)>,\n",
       " '_labs': <function untitled_StaticEntity.StaticEntity.__init__.<locals>.<lambda>(kdx)>,\n",
       " '_properties': {},\n",
       " 'state_dict': {}}"
      ]
     },
     "execution_count": 18,
     "metadata": {},
     "output_type": "execute_result"
    }
   ],
   "source": [
    "E.__dict__"
   ]
  },
  {
   "cell_type": "code",
   "execution_count": 19,
   "metadata": {},
   "outputs": [
    {
     "data": {
      "text/plain": [
       "OrderedDict([('House',\n",
       "              array(['Unknown', 'Gryffindor', 'Ravenclaw', 'Slytherin', 'Hufflepuff',\n",
       "                     'Beauxbatons Academy of Magic', 'Durmstrang Institute',\n",
       "                     'House elf'], dtype='<U28')),\n",
       "             ('Blood status',\n",
       "              array(['Unknown', 'Half-blood', 'Pure-blood', 'Muggle-born', 'Part-Human',\n",
       "                     'Pure-blood or half-blood', 'Part-Goblin',\n",
       "                     'Muggle-born or half-blood', 'Quarter-Veela', 'Muggle', 'Squib'],\n",
       "                    dtype='<U25'))])"
      ]
     },
     "execution_count": 19,
     "metadata": {},
     "output_type": "execute_result"
    }
   ],
   "source": [
    "E._labels"
   ]
  },
  {
   "cell_type": "code",
   "execution_count": 20,
   "metadata": {},
   "outputs": [
    {
     "data": {
      "text/plain": [
       "{('House', 'Unknown'): [('Blood status', 'Unknown'),\n",
       "  ('Blood status', 'Half-blood'),\n",
       "  ('Blood status', 'Pure-blood'),\n",
       "  ('Blood status', 'Part-Human'),\n",
       "  ('Blood status', 'Muggle-born or half-blood')],\n",
       " ('House', 'Gryffindor'): [('Blood status', 'Unknown'),\n",
       "  ('Blood status', 'Half-blood'),\n",
       "  ('Blood status', 'Pure-blood'),\n",
       "  ('Blood status', 'Muggle-born'),\n",
       "  ('Blood status', 'Part-Human')],\n",
       " ('House', 'Ravenclaw'): [('Blood status', 'Unknown'),\n",
       "  ('Blood status', 'Half-blood'),\n",
       "  ('Blood status', 'Muggle-born'),\n",
       "  ('Blood status', 'Part-Human')],\n",
       " ('House', 'Slytherin'): [('Blood status', 'Half-blood'),\n",
       "  ('Blood status', 'Pure-blood'),\n",
       "  ('Blood status', 'Part-Human')],\n",
       " ('House', 'Hufflepuff'): [('Blood status', 'Half-blood'),\n",
       "  ('Blood status', 'Pure-blood or half-blood')],\n",
       " ('House', 'Beauxbatons Academy of Magic'): [('Blood status', 'Unknown'),\n",
       "  ('Blood status', 'Half-blood'),\n",
       "  ('Blood status', 'Pure-blood'),\n",
       "  ('Blood status', 'Muggle-born'),\n",
       "  ('Blood status', 'Part-Human'),\n",
       "  ('Blood status', 'Part-Goblin')],\n",
       " ('House', 'Durmstrang Institute'): [('Blood status', 'Pure-blood')],\n",
       " ('House', 'House elf'): [('Blood status', 'Pure-blood')]}"
      ]
     },
     "execution_count": 20,
     "metadata": {},
     "output_type": "execute_result"
    }
   ],
   "source": [
    "level1,level2 = 0,1\n",
    "elts = E.elements_by_level(level1,level2)\n",
    "{E.translate(level1,kdx): [E.translate(level2,wdx) for wdx in vdx] for kdx, vdx in elts.items()}"
   ]
  },
  {
   "cell_type": "code",
   "execution_count": 21,
   "metadata": {},
   "outputs": [
    {
     "data": {
      "text/plain": [
       "<8x11 sparse matrix of type '<class 'numpy.int64'>'\n",
       "\twith 144 stored elements in COOrdinate format>"
      ]
     },
     "execution_count": 21,
     "metadata": {},
     "output_type": "execute_result"
    }
   ],
   "source": [
    "E._arr"
   ]
  },
  {
   "cell_type": "markdown",
   "metadata": {},
   "source": [
    "## Select columns to use from data and create hypergraph"
   ]
  },
  {
   "cell_type": "code",
   "execution_count": 38,
   "metadata": {},
   "outputs": [],
   "source": [
    "Edx = 0;Ndx = 1\n",
    "Ename = harry.columns[Edx];Nname = harry.columns[Ndx]"
   ]
  },
  {
   "cell_type": "code",
   "execution_count": 39,
   "metadata": {
    "scrolled": true
   },
   "outputs": [
    {
     "data": {
      "text/plain": [
       "(array([[ 0,  0],\n",
       "        [ 0,  1],\n",
       "        [ 0,  2],\n",
       "        [ 0,  4],\n",
       "        [ 0,  7],\n",
       "        [ 1,  0],\n",
       "        [ 1,  1],\n",
       "        [ 1,  2],\n",
       "        [ 1,  3],\n",
       "        [ 1,  4],\n",
       "        [ 2,  0],\n",
       "        [ 2,  1],\n",
       "        [ 2,  3],\n",
       "        [ 2,  4],\n",
       "        [ 3,  1],\n",
       "        [ 3,  2],\n",
       "        [ 3,  4],\n",
       "        [ 4,  1],\n",
       "        [ 4,  5],\n",
       "        [ 5,  0],\n",
       "        [ 5,  1],\n",
       "        [ 5,  2],\n",
       "        [ 5,  3],\n",
       "        [ 5,  4],\n",
       "        [ 5,  6],\n",
       "        [ 6,  2],\n",
       "        [ 7,  2],\n",
       "        [ 8,  5],\n",
       "        [ 9,  0],\n",
       "        [10,  0]]),\n",
       " array([16,  2,  1,  1,  2,  2,  7,  6,  5,  4,  7, 14, 11,  2,  5,  1,  1,\n",
       "         1,  1, 11,  9,  8, 12,  5,  1,  1,  1,  2,  4,  1]))"
      ]
     },
     "execution_count": 39,
     "metadata": {},
     "output_type": "execute_result"
    }
   ],
   "source": [
    "## Add weights to hypergraph \n",
    "thisdata = data[:,[Ndx,Edx]].astype(int)\n",
    "sp,counts = np.unique(thisdata,axis=0,return_counts=True)\n",
    "sp,counts"
   ]
  },
  {
   "cell_type": "code",
   "execution_count": 40,
   "metadata": {},
   "outputs": [],
   "source": [
    "mat = np.zeros((dims[Ndx],dims[Edx]),dtype=int)\n",
    "for d in range(len(counts)):\n",
    "    mat[sp[d][0],sp[d][1]] = counts[d]"
   ]
  },
  {
   "cell_type": "code",
   "execution_count": 41,
   "metadata": {},
   "outputs": [
    {
     "name": "stdout",
     "output_type": "stream",
     "text": [
      "[[ 7  6  5  4  0  0  0]\n",
      " [14  0 11  2  0  0  0]\n",
      " [ 5  1  0  1  0  0  0]\n",
      " [ 1  0  0  0  1  0  0]\n",
      " [ 9  8 12  5  0  1  0]\n",
      " [ 0  1  0  0  0  0  0]\n",
      " [ 0  1  0  0  0  0  0]\n",
      " [ 0  0  0  0  2  0  0]\n",
      " [ 0  0  0  0  0  0  0]\n",
      " [ 0  0  0  0  0  0  0]]\n"
     ]
    }
   ],
   "source": [
    "## the matrix will generate a hypergraph. Non zero entries will be 1's\n",
    "print(mat[1:,1:])"
   ]
  },
  {
   "cell_type": "code",
   "execution_count": 26,
   "metadata": {},
   "outputs": [
    {
     "data": {
      "text/plain": [
       "{'Human': 2.9098360655737703,\n",
       " 'Half-Human/Half-Giant': 0.5491803278688525,\n",
       " 'Werewolf': 0.5245901639344263,\n",
       " 'Human (Werewolf traits)': 0.5245901639344263,\n",
       " 'Human(goblin ancestry)': 0.5245901639344263,\n",
       " 'Ghost': 0.5737704918032787,\n",
       " 'Centaur': 0.5,\n",
       " 'Human ': 0.8688524590163935,\n",
       " 'Human (Metamorphmagus)': 0.5245901639344263}"
      ]
     },
     "execution_count": 26,
     "metadata": {},
     "output_type": "execute_result"
    }
   ],
   "source": [
    "## Generate weights for each of the nodes based on counts relative to the whole\n",
    "M = mat[1:,1:]\n",
    "tot = np.sum(M)\n",
    "radii = dict(zip([rdict[Nname][r] for r in range(1,len(rdict[Nname]))],[0.5+3*np.sum(M[r],axis=0)/tot for r in range(dims[Ndx]-1)]))\n",
    "radii"
   ]
  },
  {
   "cell_type": "code",
   "execution_count": 27,
   "metadata": {},
   "outputs": [
    {
     "data": {
      "text/plain": [
       "OrderedDict([('Half-blood', 1.0901639344262295),\n",
       "             ('Pure-blood', 1.3360655737704918),\n",
       "             ('Muggle-born', 0.6721311475409836),\n",
       "             ('Part-Human', 0.5491803278688525),\n",
       "             ('Pure-blood or half-blood', 1.6311475409836065),\n",
       "             ('Part-Goblin', 0.5245901639344263),\n",
       "             ('Muggle-born or half-blood', 0.5245901639344263),\n",
       "             ('Quarter-Veela', 0.5491803278688525),\n",
       "             ('Muggle', 0.5983606557377049),\n",
       "             ('Squib', 0.5245901639344263)])"
      ]
     },
     "execution_count": 27,
     "metadata": {},
     "output_type": "execute_result"
    }
   ],
   "source": [
    "## Generate weights for each of the edges in the same way\n",
    "Mt = M.transpose()\n",
    "tott = np.sum(Mt)\n",
    "radiit = OrderedDict(zip([rdict[Ename][r] for r in range(1,len(rdict[Ename]))],[0.5+3*np.sum(Mt[r],axis=0)/tot for r in range(dims[Edx]-1)]))\n",
    "radiit"
   ]
  },
  {
   "cell_type": "code",
   "execution_count": 28,
   "metadata": {},
   "outputs": [
    {
     "data": {
      "text/plain": [
       "(OrderedDict([(0, 'Unknown'),\n",
       "              (1, 'Human'),\n",
       "              (2, 'Half-Human/Half-Giant'),\n",
       "              (3, 'Werewolf'),\n",
       "              (4, 'Human (Werewolf traits)'),\n",
       "              (5, 'Human(goblin ancestry)'),\n",
       "              (6, 'Ghost'),\n",
       "              (7, 'Centaur'),\n",
       "              (8, 'Human '),\n",
       "              (9, 'Human (Metamorphmagus)')]),\n",
       " OrderedDict([(0, 'Unknown'),\n",
       "              (1, 'Half-blood'),\n",
       "              (2, 'Pure-blood'),\n",
       "              (3, 'Muggle-born'),\n",
       "              (4, 'Part-Human'),\n",
       "              (5, 'Pure-blood or half-blood'),\n",
       "              (6, 'Part-Goblin'),\n",
       "              (7, 'Muggle-born or half-blood'),\n",
       "              (8, 'Quarter-Veela'),\n",
       "              (9, 'Muggle'),\n",
       "              (10, 'Squib')]))"
      ]
     },
     "execution_count": 28,
     "metadata": {},
     "output_type": "execute_result"
    }
   ],
   "source": [
    "rdict[Nname],rdict[Ename]"
   ]
  },
  {
   "cell_type": "code",
   "execution_count": 29,
   "metadata": {},
   "outputs": [],
   "source": [
    "edges = [rdict[Ename][k] for k in range(1,dims[Edx])]\n",
    "nodes = [rdict[Nname][k] for k in range(1,dims[Ndx])]\n",
    "hmat = np.where(M >0, 1,0)"
   ]
  },
  {
   "cell_type": "code",
   "execution_count": 30,
   "metadata": {},
   "outputs": [
    {
     "data": {
      "text/plain": [
       "array([[1, 1, 1, 0, 1, 0, 1, 1, 0, 0],\n",
       "       [0, 0, 0, 1, 0, 0, 0, 0, 0, 0],\n",
       "       [1, 0, 0, 0, 0, 0, 0, 0, 0, 0],\n",
       "       [0, 1, 0, 0, 0, 0, 0, 0, 0, 0],\n",
       "       [0, 0, 0, 0, 0, 1, 0, 0, 0, 0],\n",
       "       [0, 0, 1, 0, 1, 0, 0, 0, 0, 0],\n",
       "       [0, 0, 0, 0, 0, 0, 0, 0, 0, 0],\n",
       "       [1, 1, 1, 0, 1, 0, 0, 1, 1, 1],\n",
       "       [1, 0, 0, 0, 0, 0, 0, 0, 0, 0]])"
      ]
     },
     "execution_count": 30,
     "metadata": {},
     "output_type": "execute_result"
    }
   ],
   "source": [
    "hmat"
   ]
  },
  {
   "cell_type": "code",
   "execution_count": 31,
   "metadata": {},
   "outputs": [],
   "source": [
    "harryshyp = hnx.Hypergraph.from_numpy_array(hmat,node_names=nodes,edge_names=edges)"
   ]
  },
  {
   "cell_type": "code",
   "execution_count": 32,
   "metadata": {},
   "outputs": [],
   "source": [
    "m,rd,cd = harryshyp.incidence_matrix(index=True)  ## how to force the incidence matrix to agree with order of input?\n",
    "\n",
    "## by setting a static flag on construction the hmat will be treated as arr and node_names, edge_names will be turned into labels\n",
    "## in this case the hmat is already the incidence matrix"
   ]
  },
  {
   "cell_type": "code",
   "execution_count": 33,
   "metadata": {},
   "outputs": [
    {
     "data": {
      "text/plain": [
       "matrix([[0, 0, 0, 0, 0, 0, 0, 0, 1, 0],\n",
       "        [0, 0, 0, 0, 0, 0, 1, 0, 0, 0],\n",
       "        [0, 1, 0, 0, 0, 0, 0, 0, 0, 0],\n",
       "        [0, 0, 0, 0, 0, 0, 0, 0, 1, 0],\n",
       "        [1, 0, 1, 0, 1, 1, 0, 1, 1, 0],\n",
       "        [0, 0, 0, 0, 0, 1, 0, 1, 0, 0],\n",
       "        [1, 0, 0, 1, 1, 1, 0, 1, 1, 1],\n",
       "        [1, 0, 0, 0, 0, 0, 0, 0, 0, 0]])"
      ]
     },
     "execution_count": 33,
     "metadata": {},
     "output_type": "execute_result"
    }
   ],
   "source": [
    "m.todense()"
   ]
  },
  {
   "cell_type": "code",
   "execution_count": 34,
   "metadata": {},
   "outputs": [
    {
     "data": {
      "text/plain": [
       "(OrderedDict([(0, 'Unknown'),\n",
       "              (1, 'Half-blood'),\n",
       "              (2, 'Pure-blood'),\n",
       "              (3, 'Muggle-born'),\n",
       "              (4, 'Part-Human'),\n",
       "              (5, 'Pure-blood or half-blood'),\n",
       "              (6, 'Part-Goblin'),\n",
       "              (7, 'Muggle-born or half-blood'),\n",
       "              (8, 'Quarter-Veela'),\n",
       "              (9, 'Muggle'),\n",
       "              (10, 'Squib')]),\n",
       " {0: 'Werewolf',\n",
       "  1: 'Half-Human/Half-Giant',\n",
       "  2: 'Human(goblin ancestry)',\n",
       "  3: 'Human (Metamorphmagus)',\n",
       "  4: 'Human',\n",
       "  5: 'Ghost',\n",
       "  6: 'Human ',\n",
       "  7: 'Human (Werewolf traits)'})"
      ]
     },
     "execution_count": 34,
     "metadata": {},
     "output_type": "execute_result"
    }
   ],
   "source": [
    "rdict['Blood status'],rd"
   ]
  },
  {
   "cell_type": "raw",
   "metadata": {},
   "source": [
    "fig,ax = plt.subplots(figsize=(15,10))\n",
    "hnx.draw(harryshyp,node_radius=radii)"
   ]
  },
  {
   "cell_type": "markdown",
   "metadata": {},
   "source": [
    "<img src=\"HarryPotter/bloodstatus-house.png\">"
   ]
  },
  {
   "cell_type": "code",
   "execution_count": 35,
   "metadata": {},
   "outputs": [
    {
     "data": {
      "text/plain": [
       "(1, 1)"
      ]
     },
     "execution_count": 35,
     "metadata": {},
     "output_type": "execute_result"
    }
   ],
   "source": [
    "E.level('Half-blood')\n"
   ]
  },
  {
   "cell_type": "code",
   "execution_count": 36,
   "metadata": {},
   "outputs": [
    {
     "data": {
      "text/plain": [
       "{'_shape': (8, 11),\n",
       " 'maxprint': 50,\n",
       " 'row': array([1, 1, 1, 1, 1, 1, 1, 1, 1, 1, 1, 1, 1, 1, 1, 1, 1, 1, 1, 1, 1, 1,\n",
       "        1, 1, 1, 1, 1, 1, 1, 1, 1, 1, 2, 2, 2, 2, 2, 2, 2, 2, 2, 2, 2, 2,\n",
       "        2, 3, 3, 3, 3, 3, 3, 3, 3, 3, 3, 3, 3, 3, 3, 3, 3, 3, 3, 3, 2, 2,\n",
       "        2, 3, 1, 2, 1, 0, 0, 0, 0, 3, 3, 4, 4, 2, 4, 4, 4, 4, 4, 4, 4, 4,\n",
       "        4, 3, 3, 3, 3, 0, 0, 0, 0, 1, 0, 0, 0, 0, 0, 0, 5, 0, 0, 0, 0, 0,\n",
       "        0, 0, 0, 4, 0, 0, 5, 5, 6, 0, 0, 0, 0, 1, 3, 3, 4, 1, 1, 0, 0, 0,\n",
       "        0, 0, 0, 0, 0, 0, 0, 7, 0, 0, 0, 7], dtype=int32),\n",
       " 'col': array([ 1,  2,  3,  1,  4,  2,  2,  2,  2,  3,  1,  3,  2,  2,  1,  5,  2,\n",
       "         2,  2,  5,  5,  0,  5,  5,  2,  5,  5,  3,  5,  1,  2,  2,  1,  5,\n",
       "         5,  1,  6,  1,  1,  3,  5,  1,  5,  5,  1,  1,  2,  2,  2,  2,  1,\n",
       "         5,  2,  2,  2,  5,  5,  1,  2,  2,  1,  5,  5,  5,  7,  0,  5,  2,\n",
       "         5,  5,  0,  0,  5,  5,  0,  5,  5,  5,  0,  5,  1,  5,  5,  2,  3,\n",
       "         5,  1,  2,  1,  5,  5,  5,  5,  5,  2,  2,  2,  2,  0,  5,  2,  5,\n",
       "         5,  2,  8,  1,  1,  5,  5,  0,  2,  2,  0,  5,  0,  0,  4,  8,  5,\n",
       "         9,  9,  9,  9,  3,  1,  2,  1,  1,  1, 10,  5,  0,  0,  5,  0,  0,\n",
       "         0,  5,  0,  0,  0,  0,  0,  0], dtype=int32),\n",
       " 'data': array([1, 1, 1, 1, 1, 1, 1, 1, 1, 1, 1, 1, 1, 1, 1, 1, 1, 1, 1, 1, 1, 1,\n",
       "        1, 1, 1, 1, 1, 1, 1, 1, 1, 1, 1, 1, 1, 1, 1, 1, 1, 1, 1, 1, 1, 1,\n",
       "        1, 1, 1, 1, 1, 1, 1, 1, 1, 1, 1, 1, 1, 1, 1, 1, 1, 1, 1, 1, 1, 1,\n",
       "        1, 1, 1, 1, 1, 1, 1, 1, 1, 1, 1, 1, 1, 1, 1, 1, 1, 1, 1, 1, 1, 1,\n",
       "        1, 1, 1, 1, 1, 1, 1, 1, 1, 1, 1, 1, 1, 1, 1, 1, 1, 1, 1, 1, 1, 1,\n",
       "        1, 1, 1, 1, 1, 1, 1, 1, 1, 1, 1, 1, 1, 1, 1, 1, 1, 1, 1, 1, 1, 1,\n",
       "        1, 1, 1, 1, 1, 1, 1, 1, 1, 1, 1, 1]),\n",
       " 'has_canonical_format': False}"
      ]
     },
     "execution_count": 36,
     "metadata": {},
     "output_type": "execute_result"
    }
   ],
   "source": [
    "E._arr.__dict__"
   ]
  },
  {
   "cell_type": "code",
   "execution_count": 37,
   "metadata": {},
   "outputs": [
    {
     "data": {
      "text/plain": [
       "{('Blood status', 'Unknown'): [('House', 'Unknown'),\n",
       "  ('House', 'Gryffindor'),\n",
       "  ('House', 'Ravenclaw'),\n",
       "  ('House', 'Hufflepuff'),\n",
       "  ('House', 'House elf')],\n",
       " ('Blood status', 'Half-blood'): [('House', 'Unknown'),\n",
       "  ('House', 'Gryffindor'),\n",
       "  ('House', 'Ravenclaw'),\n",
       "  ('House', 'Slytherin'),\n",
       "  ('House', 'Hufflepuff')],\n",
       " ('Blood status', 'Pure-blood'): [('House', 'Unknown'),\n",
       "  ('House', 'Gryffindor'),\n",
       "  ('House', 'Slytherin'),\n",
       "  ('House', 'Hufflepuff')],\n",
       " ('Blood status', 'Muggle-born'): [('House', 'Gryffindor'),\n",
       "  ('House', 'Ravenclaw'),\n",
       "  ('House', 'Hufflepuff')],\n",
       " ('Blood status', 'Part-Human'): [('House', 'Gryffindor'),\n",
       "  ('House', 'Beauxbatons Academy of Magic')],\n",
       " ('Blood status', 'Pure-blood or half-blood'): [('House', 'Unknown'),\n",
       "  ('House', 'Gryffindor'),\n",
       "  ('House', 'Ravenclaw'),\n",
       "  ('House', 'Slytherin'),\n",
       "  ('House', 'Hufflepuff'),\n",
       "  ('House', 'Durmstrang Institute')],\n",
       " ('Blood status', 'Part-Goblin'): [('House', 'Ravenclaw')],\n",
       " ('Blood status', 'Muggle-born or half-blood'): [('House', 'Ravenclaw')],\n",
       " ('Blood status',\n",
       "  'Quarter-Veela'): [('House', 'Beauxbatons Academy of Magic')],\n",
       " ('Blood status', 'Muggle'): [('House', 'Unknown')],\n",
       " ('Blood status', 'Squib'): [('House', 'Unknown')]}"
      ]
     },
     "execution_count": 37,
     "metadata": {},
     "output_type": "execute_result"
    }
   ],
   "source": [
    "E.elements_by_level(1,0,translate=True)"
   ]
  },
  {
   "cell_type": "code",
   "execution_count": null,
   "metadata": {},
   "outputs": [],
   "source": []
  }
 ],
 "metadata": {
  "kernelspec": {
   "display_name": "Python 3",
   "language": "python",
   "name": "python3"
  },
  "language_info": {
   "codemirror_mode": {
    "name": "ipython",
    "version": 3
   },
   "file_extension": ".py",
   "mimetype": "text/x-python",
   "name": "python",
   "nbconvert_exporter": "python",
   "pygments_lexer": "ipython3",
   "version": "3.8.5"
  }
 },
 "nbformat": 4,
 "nbformat_minor": 2
}
