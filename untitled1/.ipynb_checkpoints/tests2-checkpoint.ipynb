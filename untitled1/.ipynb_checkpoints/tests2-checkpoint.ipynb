{
 "cells": [
  {
   "cell_type": "code",
   "execution_count": 1,
   "metadata": {},
   "outputs": [],
   "source": [
    "import hypernetx as hnx\n",
    "import numpy as np\n",
    "from scipy.sparse import csr_matrix\n",
    "import sys,os\n",
    "sys.path.append(os.getcwd())\n",
    "import warnings\n",
    "# warnings.simplefilter(action=\"default\")\n",
    "import itertools as it\n",
    "from collections import defaultdict"
   ]
  },
  {
   "cell_type": "code",
   "execution_count": 2,
   "metadata": {},
   "outputs": [],
   "source": [
    "class TriLoop():\n",
    "    \"\"\"Example hypergraph with 2 two 1-cells and 1 2-cell forming a loop\"\"\"\n",
    "\n",
    "    def __init__(self):\n",
    "        A, B, C, D = 'A', 'B', 'C', 'D'\n",
    "        AB, BC, ACD = 'AB', 'BC', 'ACD'\n",
    "        self.edgedict = {AB: {A, B}, BC: {B, C}, ACD: {A, C, D}}\n",
    "        self.hypergraph = hnx.Hypergraph(self.edgedict, name='TriLoop')\n",
    "triloop = TriLoop()\n",
    "th = triloop.hypergraph"
   ]
  },
  {
   "cell_type": "code",
   "execution_count": 3,
   "metadata": {},
   "outputs": [
    {
     "data": {
      "image/png": "[encoded data removed]",
      "text/plain": [
       "<Figure size 432x288 with 1 Axes>"
      ]
     },
     "metadata": {
      "needs_background": "light"
     },
     "output_type": "display_data"
    }
   ],
   "source": [
    "hnx.draw(th)"
   ]
  },
  {
   "cell_type": "code",
   "execution_count": 4,
   "metadata": {},
   "outputs": [],
   "source": [
    "basis = hnx.hypergraph_homology_basis(th, 1,interpreted=False, shortest=True)"
   ]
  },
  {
   "cell_type": "code",
   "execution_count": 5,
   "metadata": {},
   "outputs": [
    {
     "data": {
      "text/plain": [
       "{1: [array([1, 1, 0, 1, 0])]}"
      ]
     },
     "execution_count": 5,
     "metadata": {},
     "output_type": "execute_result"
    }
   ],
   "source": [
    "basis"
   ]
  },
  {
   "cell_type": "code",
   "execution_count": 6,
   "metadata": {},
   "outputs": [],
   "source": [
    "krange = [1,1]\n",
    "h = th\n",
    "C = dict()\n",
    "C[krange[0] - 1] = hnx.kchainbasis(h, krange[0] - 1)\n",
    "bd = dict()\n",
    "for kdx in range(krange[0], krange[1] + 2):\n",
    "    C[kdx] = hnx.kchainbasis(h, kdx)\n",
    "    bd[kdx] = hnx.bkMatrix(C[kdx - 1], C[kdx])\n",
    "\n",
    "basis = defaultdict(list)\n",
    "tbasis, im = hnx.homology_basis(bd, boundary=True)\n",
    "for kdx in tbasis:\n",
    "    imgrp = hnx.boundary_group(im[kdx])\n",
    "    for b in tbasis[kdx]:\n",
    "        coset = np.mod(imgrp + b, 2) ###### dimensions appear to be wrong. See tests2 cell 5\n",
    "        idx = np.argmin(np.sum(coset, axis=1))\n",
    "        basis[kdx].append(coset[idx])\n",
    "    basis[kdx] = np.array(basis[kdx])\n",
    "basis = dict(basis)"
   ]
  },
  {
   "cell_type": "code",
   "execution_count": 7,
   "metadata": {},
   "outputs": [
    {
     "name": "stderr",
     "output_type": "stream",
     "text": [
      "//anaconda3/envs/hnx/lib/python3.6/site-packages/IPython/core/interactiveshell.py:3326: UserWarning: No simplices of size 5 exist. Range adjusted to max dim.\n",
      "  exec(code_obj, self.user_global_ns, self.user_ns)\n",
      "//anaconda3/envs/hnx/lib/python3.6/site-packages/ipykernel_launcher.py:1: UserWarning: Only kth simplicial homology groups for k>0 may be computed.If you are interested in k=0, compute connected components.\n",
      "  \"\"\"Entry point for launching an IPython kernel.\n"
     ]
    },
    {
     "data": {
      "text/plain": [
       "{0: 0, 1: 1, 2: 0}"
      ]
     },
     "execution_count": 7,
     "metadata": {},
     "output_type": "execute_result"
    }
   ],
   "source": [
    "hnx.betti_numbers(h,[0,5])"
   ]
  },
  {
   "cell_type": "code",
   "execution_count": null,
   "metadata": {},
   "outputs": [],
   "source": []
  }
 ],
 "metadata": {
  "kernelspec": {
   "display_name": "Python 3",
   "language": "python",
   "name": "python3"
  },
  "language_info": {
   "codemirror_mode": {
    "name": "ipython",
    "version": 3
   },
   "file_extension": ".py",
   "mimetype": "text/x-python",
   "name": "python",
   "nbconvert_exporter": "python",
   "pygments_lexer": "ipython3",
   "version": "3.6.9"
  }
 },
 "nbformat": 4,
 "nbformat_minor": 2
}
