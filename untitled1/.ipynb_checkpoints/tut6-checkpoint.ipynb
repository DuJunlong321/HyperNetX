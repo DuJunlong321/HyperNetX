{
 "cells": [
  {
   "cell_type": "markdown",
   "metadata": {},
   "source": [
    "<img src='harrypotter_image.png' width='200px' style=\"float:left;margin-right:10pt\"></img>\n",
    "## Illustration of NWHypergraph <-> HyperNetX exchange using PyBind and Kaggle's HarryPotter dataset.\n",
    "\n",
    "In this tutorial we introduce `hypernetx.StaticEntity` and `hypernetx.StaticEntitySet` and the new `static=True` attribute in the `hypernetx.Hypergraph` class. We also use PyBind to communicate with a C++ function in PNNL's **NWHypergraph (NWHy)** library to illustrate our current work to optimize HyperNetX for large datasets.\n",
    "\n",
    "Harry Potter Data is available here: https://www.kaggle.com/gulsahdemiryurek/harry-potter-dataset.\n",
    "\n",
    "Python code for parsing the dataset is in `harrypotter.py` in this tutorial's directory."
   ]
  },
  {
   "cell_type": "code",
   "execution_count": 1,
   "metadata": {},
   "outputs": [
    {
     "ename": "ModuleNotFoundError",
     "evalue": "No module named 'nwhy'",
     "output_type": "error",
     "traceback": [
      "\u001b[0;31m---------------------------------------------------------------------------\u001b[0m",
      "\u001b[0;31mModuleNotFoundError\u001b[0m                       Traceback (most recent call last)",
      "\u001b[0;32m<ipython-input-1-d2905816dee9>\u001b[0m in \u001b[0;36m<module>\u001b[0;34m\u001b[0m\n\u001b[1;32m      7\u001b[0m \u001b[0;32mimport\u001b[0m \u001b[0mnumpy\u001b[0m \u001b[0;32mas\u001b[0m \u001b[0mnp\u001b[0m\u001b[0;34m\u001b[0m\u001b[0;34m\u001b[0m\u001b[0m\n\u001b[1;32m      8\u001b[0m \u001b[0;32mimport\u001b[0m \u001b[0mitertools\u001b[0m \u001b[0;32mas\u001b[0m \u001b[0mit\u001b[0m\u001b[0;34m\u001b[0m\u001b[0;34m\u001b[0m\u001b[0m\n\u001b[0;32m----> 9\u001b[0;31m \u001b[0;32mimport\u001b[0m \u001b[0mnwhy\u001b[0m    \u001b[0;31m##### library loaded in this Docker container, not yet available for distribution\u001b[0m\u001b[0;34m\u001b[0m\u001b[0;34m\u001b[0m\u001b[0m\n\u001b[0m\u001b[1;32m     10\u001b[0m \u001b[0;32mfrom\u001b[0m \u001b[0mharrypotter\u001b[0m \u001b[0;32mimport\u001b[0m \u001b[0mHarryPotter\u001b[0m\u001b[0;34m\u001b[0m\u001b[0;34m\u001b[0m\u001b[0m\n\u001b[1;32m     11\u001b[0m \u001b[0mhogwarts\u001b[0m \u001b[0;34m=\u001b[0m \u001b[0mHarryPotter\u001b[0m\u001b[0;34m(\u001b[0m\u001b[0;34m)\u001b[0m\u001b[0;34m\u001b[0m\u001b[0;34m\u001b[0m\u001b[0m\n",
      "\u001b[0;31mModuleNotFoundError\u001b[0m: No module named 'nwhy'"
     ]
    }
   ],
   "source": [
    "import hypernetx as hnx\n",
    "import matplotlib.pyplot as plt\n",
    "from collections import OrderedDict, defaultdict\n",
    "import scipy\n",
    "from scipy.sparse import coo_matrix, csr_matrix, issparse\n",
    "import pandas as pd\n",
    "import numpy as np\n",
    "import itertools as it\n",
    "import nwhy    ##### library loaded in this Docker container, not yet available for distribution\n",
    "from harrypotter import HarryPotter\n",
    "hogwarts = HarryPotter()"
   ]
  },
  {
   "cell_type": "markdown",
   "metadata": {},
   "source": [
    "### The Harry Potter Dataset:\n",
    "We have edited the dataset so that it has 5 categories and every cell is filled. Where a value is unknown, we marked it as \"Unknown *category_name*\". "
   ]
  },
  {
   "cell_type": "code",
   "execution_count": null,
   "metadata": {},
   "outputs": [],
   "source": [
    "hogwarts.dataframe"
   ]
  },
  {
   "cell_type": "markdown",
   "metadata": {},
   "source": [
    "**We define a labeling based on the categories and store it in an OrderedDict.**   \n",
    "The ordering of labels is determined by their order of appearance in the table with the exception of Unknown labels, which are always listed first."
   ]
  },
  {
   "cell_type": "code",
   "execution_count": null,
   "metadata": {},
   "outputs": [],
   "source": [
    "hogwarts.labels"
   ]
  },
  {
   "cell_type": "markdown",
   "metadata": {},
   "source": [
    "**We next create a tensor with dimension equal to the number of categories and indexed by the labels.**  \n",
    "The tensor is a 0-1 boolean tensor. A 1 in entry $(x_0,x_1,x_2,x_3,x_4)$ indicates that there is a record in the data corresponding to:\n",
    "\n",
    "$\n",
    "\\text{'House':hogwarts.labels['House']}[x_0],\\text{'Blood Status':hogwarts.labels['Blood Status']}[x_1]\\text{...etc...}\n",
    "$\n",
    "\n",
    "The tensor may be stored as a list of its nonzero indices, or as a COO form taking the transpose of that list, or as a `numpy.ndarray`."
   ]
  },
  {
   "cell_type": "code",
   "execution_count": null,
   "metadata": {},
   "outputs": [],
   "source": [
    "## List of nonzero indices\n",
    "hogwarts.data"
   ]
  },
  {
   "cell_type": "code",
   "execution_count": 2,
   "metadata": {
    "scrolled": true
   },
   "outputs": [
    {
     "ename": "NameError",
     "evalue": "name 'hogwarts' is not defined",
     "output_type": "error",
     "traceback": [
      "\u001b[0;31m---------------------------------------------------------------------------\u001b[0m",
      "\u001b[0;31mNameError\u001b[0m                                 Traceback (most recent call last)",
      "\u001b[0;32m<ipython-input-2-02f0590a6798>\u001b[0m in \u001b[0;36m<module>\u001b[0;34m\u001b[0m\n\u001b[1;32m      1\u001b[0m \u001b[0;31m## COO format\u001b[0m\u001b[0;34m\u001b[0m\u001b[0;34m\u001b[0m\u001b[0;34m\u001b[0m\u001b[0m\n\u001b[0;32m----> 2\u001b[0;31m \u001b[0mhogwarts\u001b[0m\u001b[0;34m.\u001b[0m\u001b[0mdata\u001b[0m\u001b[0;34m.\u001b[0m\u001b[0mtranspose\u001b[0m\u001b[0;34m(\u001b[0m\u001b[0;34m)\u001b[0m\u001b[0;34m\u001b[0m\u001b[0;34m\u001b[0m\u001b[0m\n\u001b[0m",
      "\u001b[0;31mNameError\u001b[0m: name 'hogwarts' is not defined"
     ]
    }
   ],
   "source": [
    "## COO format\n",
    "hogwarts.data.transpose()"
   ]
  },
  {
   "cell_type": "code",
   "execution_count": 3,
   "metadata": {},
   "outputs": [
    {
     "ename": "NameError",
     "evalue": "name 'hogwarts' is not defined",
     "output_type": "error",
     "traceback": [
      "\u001b[0;31m---------------------------------------------------------------------------\u001b[0m",
      "\u001b[0;31mNameError\u001b[0m                                 Traceback (most recent call last)",
      "\u001b[0;32m<ipython-input-3-2daf729dae83>\u001b[0m in \u001b[0;36m<module>\u001b[0;34m\u001b[0m\n\u001b[1;32m      1\u001b[0m \u001b[0;31m## numpy.ndarray\u001b[0m\u001b[0;34m\u001b[0m\u001b[0;34m\u001b[0m\u001b[0;34m\u001b[0m\u001b[0m\n\u001b[0;32m----> 2\u001b[0;31m \u001b[0mhogwarts\u001b[0m\u001b[0;34m.\u001b[0m\u001b[0marr\u001b[0m\u001b[0;34m\u001b[0m\u001b[0;34m\u001b[0m\u001b[0m\n\u001b[0m",
      "\u001b[0;31mNameError\u001b[0m: name 'hogwarts' is not defined"
     ]
    }
   ],
   "source": [
    "## numpy.ndarray\n",
    "hogwarts.arr"
   ]
  },
  {
   "cell_type": "code",
   "execution_count": 4,
   "metadata": {},
   "outputs": [
    {
     "ename": "NameError",
     "evalue": "name 'hogwarts' is not defined",
     "output_type": "error",
     "traceback": [
      "\u001b[0;31m---------------------------------------------------------------------------\u001b[0m",
      "\u001b[0;31mNameError\u001b[0m                                 Traceback (most recent call last)",
      "\u001b[0;32m<ipython-input-4-4e7910ad9e44>\u001b[0m in \u001b[0;36m<module>\u001b[0;34m\u001b[0m\n\u001b[0;32m----> 1\u001b[0;31m \u001b[0mhogwarts\u001b[0m\u001b[0;34m.\u001b[0m\u001b[0marr\u001b[0m\u001b[0;34m.\u001b[0m\u001b[0mshape\u001b[0m\u001b[0;34m\u001b[0m\u001b[0;34m\u001b[0m\u001b[0m\n\u001b[0m",
      "\u001b[0;31mNameError\u001b[0m: name 'hogwarts' is not defined"
     ]
    }
   ],
   "source": [
    "hogwarts.arr.shape"
   ]
  },
  {
   "cell_type": "markdown",
   "metadata": {},
   "source": [
    "### StaticEntity and StaticEntitySet\n",
    "\n",
    "The entire dataset has now been represented using an array and a dictionary associating positions in the array with values in the data.\n",
    "\n",
    "The basic object in HyperNetX, which holds an array and label dictionary, is a `StaticEntity`.\n",
    "\n",
    "Each dimension of the array, is considered a \"level\" in the StaticEntity. Levels order correspond to their position in the datatable and keys in the label dictionary. In terms of the original Entity structure in HyperNetX, levels reference an order of containment. Elements of the the 2nd level belong to elements in the 1st column and so on.  The order of levels is given by the order of keys in the labels:"
   ]
  },
  {
   "cell_type": "code",
   "execution_count": 5,
   "metadata": {},
   "outputs": [
    {
     "ename": "NameError",
     "evalue": "name 'hogwarts' is not defined",
     "output_type": "error",
     "traceback": [
      "\u001b[0;31m---------------------------------------------------------------------------\u001b[0m",
      "\u001b[0;31mNameError\u001b[0m                                 Traceback (most recent call last)",
      "\u001b[0;32m<ipython-input-5-b6a1b95d0cef>\u001b[0m in \u001b[0;36m<module>\u001b[0;34m\u001b[0m\n\u001b[0;32m----> 1\u001b[0;31m \u001b[0mE\u001b[0m \u001b[0;34m=\u001b[0m \u001b[0mhnx\u001b[0m\u001b[0;34m.\u001b[0m\u001b[0mStaticEntity\u001b[0m\u001b[0;34m(\u001b[0m\u001b[0marr\u001b[0m \u001b[0;34m=\u001b[0m \u001b[0mhogwarts\u001b[0m\u001b[0;34m.\u001b[0m\u001b[0marr\u001b[0m\u001b[0;34m,\u001b[0m \u001b[0mlabels\u001b[0m \u001b[0;34m=\u001b[0m \u001b[0mhogwarts\u001b[0m\u001b[0;34m.\u001b[0m\u001b[0mlabels\u001b[0m\u001b[0;34m)\u001b[0m\u001b[0;34m\u001b[0m\u001b[0;34m\u001b[0m\u001b[0m\n\u001b[0m\u001b[1;32m      2\u001b[0m \u001b[0mE\u001b[0m\u001b[0;34m.\u001b[0m\u001b[0mkeys\u001b[0m\u001b[0;34m\u001b[0m\u001b[0;34m\u001b[0m\u001b[0m\n",
      "\u001b[0;31mNameError\u001b[0m: name 'hogwarts' is not defined"
     ]
    }
   ],
   "source": [
    "E = hnx.StaticEntity(arr = hogwarts.arr, labels = hogwarts.labels)\n",
    "E.keys"
   ]
  },
  {
   "cell_type": "markdown",
   "metadata": {},
   "source": [
    "**Using the same nomenclature as `hypernetx.Entity`, the elements of a StaticEntity refer to the first level and its children refer to the second level.**"
   ]
  },
  {
   "cell_type": "code",
   "execution_count": 64,
   "metadata": {},
   "outputs": [
    {
     "data": {
      "text/plain": [
       "(OrderedDict([('Unknown House',\n",
       "               ['Unknown Blood status',\n",
       "                'Half-blood',\n",
       "                'Pure-blood',\n",
       "                'Part-Human']),\n",
       "              ('Gryffindor',\n",
       "               ['Unknown Blood status',\n",
       "                'Half-blood',\n",
       "                'Pure-blood',\n",
       "                'Muggle-born',\n",
       "                'Part-Human']),\n",
       "              ('Ravenclaw',\n",
       "               ['Unknown Blood status',\n",
       "                'Half-blood',\n",
       "                'Muggle-born',\n",
       "                'Part-Human']),\n",
       "              ('Slytherin', ['Half-blood', 'Pure-blood', 'Part-Human']),\n",
       "              ('Hufflepuff', ['Half-blood', 'Pure-blood or half-blood']),\n",
       "              ('Beauxbatons Academy of Magic',\n",
       "               ['Unknown Blood status',\n",
       "                'Half-blood',\n",
       "                'Pure-blood',\n",
       "                'Muggle-born',\n",
       "                'Part-Human',\n",
       "                'Part-Goblin']),\n",
       "              ('Durmstrang Institute', ['Pure-blood'])]),\n",
       " {'Half-blood',\n",
       "  'Muggle',\n",
       "  'Muggle-born',\n",
       "  'Muggle-born or half-blood',\n",
       "  'Part-Goblin',\n",
       "  'Part-Human',\n",
       "  'Pure-blood',\n",
       "  'Pure-blood or half-blood',\n",
       "  'Quarter-Veela',\n",
       "  'Squib',\n",
       "  'Unknown Blood status'})"
      ]
     },
     "execution_count": 64,
     "metadata": {},
     "output_type": "execute_result"
    }
   ],
   "source": [
    "E = hnx.StaticEntity(arr=hogwarts.arr, labels=hogwarts.labels)\n",
    "E.elements,E.children"
   ]
  },
  {
   "cell_type": "markdown",
   "metadata": {},
   "source": [
    "**Levels can be reordered and any pair of columns may be organized to be elements and children.**"
   ]
  },
  {
   "cell_type": "code",
   "execution_count": 65,
   "metadata": {},
   "outputs": [
    {
     "data": {
      "text/plain": [
       "OrderedDict([('Unknown Species',\n",
       "              ['Unknown Hair colour',\n",
       "               'Black',\n",
       "               'Red',\n",
       "               'Silver| formerly auburn']),\n",
       "             ('Human',\n",
       "              ['Unknown Hair colour',\n",
       "               'Black',\n",
       "               'Red',\n",
       "               'Brown',\n",
       "               'Silver| formerly auburn']),\n",
       "             ('Half-Human/Half-Giant',\n",
       "              ['Unknown Hair colour',\n",
       "               'Black',\n",
       "               'Brown',\n",
       "               'Silver| formerly auburn']),\n",
       "             ('Werewolf', ['Black', 'Red', 'Silver| formerly auburn']),\n",
       "             ('Human (Werewolf traits)', ['Black', 'Blond']),\n",
       "             ('Human(goblin ancestry)',\n",
       "              ['Unknown Hair colour',\n",
       "               'Black',\n",
       "               'Red',\n",
       "               'Brown',\n",
       "               'Silver| formerly auburn',\n",
       "               'Sandy']),\n",
       "             ('Ghost', ['Red']),\n",
       "             ('Centaur', ['Red']),\n",
       "             ('Human (Metamorphmagus)', ['Blond']),\n",
       "             ('Elf', ['Unknown Hair colour'])])"
      ]
     },
     "execution_count": 65,
     "metadata": {},
     "output_type": "execute_result"
    }
   ],
   "source": [
    "E.elements_by_level(level1=2,level2=3,translate=True)"
   ]
  },
  {
   "cell_type": "code",
   "execution_count": 66,
   "metadata": {},
   "outputs": [
    {
     "data": {
      "text/plain": [
       "OrderedDict([('Species',\n",
       "              array(['Unknown Species', 'Human', 'Half-Human/Half-Giant', 'Werewolf',\n",
       "                     'Human (Werewolf traits)', 'Human(goblin ancestry)', 'Ghost',\n",
       "                     'Centaur', 'Human (Metamorphmagus)', 'Elf'], dtype='<U23')),\n",
       "             ('Hair colour',\n",
       "              array(['Unknown Hair colour', 'Black', 'Red', 'Brown',\n",
       "                     'Silver| formerly auburn', 'Blond', 'Sandy', 'Auburn',\n",
       "                     'Light brown flecked with grey', 'Colourless and balding', 'Dark',\n",
       "                     'Mousy', 'Dirty-blonde', 'White', 'Reddish-blonde', 'Blonde',\n",
       "                     'White-blond', 'Iron grey', 'Bald', 'Grey', 'White (balding)',\n",
       "                     'Straw blond', 'Variable', 'Red brown', 'Brown/greying',\n",
       "                     'Silver| formerly black', 'Tawny', 'Silver', 'Silvery-blonde',\n",
       "                     'Ginger', 'Straw-coloured', 'Red ', 'Reddish-brown', 'Mousy brown',\n",
       "                     'Jet-black', 'White blond'], dtype='<U29')),\n",
       "             ('Blood status',\n",
       "              array(['Unknown Blood status', 'Half-blood', 'Pure-blood', 'Muggle-born',\n",
       "                     'Part-Human', 'Pure-blood or half-blood', 'Part-Goblin',\n",
       "                     'Muggle-born or half-blood', 'Quarter-Veela', 'Muggle', 'Squib'],\n",
       "                    dtype='<U25'))])"
      ]
     },
     "execution_count": 66,
     "metadata": {},
     "output_type": "execute_result"
    }
   ],
   "source": [
    "F = E.restrict_to_levels([2,3,1]) ## This generates a new StaticEntity\n",
    "F.labels"
   ]
  },
  {
   "cell_type": "code",
   "execution_count": 67,
   "metadata": {},
   "outputs": [
    {
     "data": {
      "text/plain": [
       "OrderedDict([('Unknown Species',\n",
       "              ['Unknown Hair colour',\n",
       "               'Black',\n",
       "               'Sandy',\n",
       "               'Colourless and balding']),\n",
       "             ('Human', ['Black', 'Red', 'Sandy']),\n",
       "             ('Half-Human/Half-Giant', ['Black', 'Silver| formerly auburn']),\n",
       "             ('Werewolf', ['Black', 'Red', 'Sandy']),\n",
       "             ('Human (Werewolf traits)', ['Black']),\n",
       "             ('Human(goblin ancestry)', ['Black']),\n",
       "             ('Ghost', ['Black']),\n",
       "             ('Centaur', ['Black']),\n",
       "             ('Human (Metamorphmagus)', ['Brown']),\n",
       "             ('Elf', ['Black'])])"
      ]
     },
     "execution_count": 67,
     "metadata": {},
     "output_type": "execute_result"
    }
   ],
   "source": [
    "F.elements"
   ]
  },
  {
   "cell_type": "markdown",
   "metadata": {},
   "source": [
    "### A StaticEntitySet is a StaticEntity restricted to two levels. \n",
    "By default a StaticEntity will grab the 1st two dimensions of the of the array and first two keys of the labels, but any pair of levels may be specified. "
   ]
  },
  {
   "cell_type": "code",
   "execution_count": 68,
   "metadata": {},
   "outputs": [],
   "source": [
    "ES = hnx.StaticEntitySet(arr=hogwarts.arr, labels=hogwarts.labels, level1=0, level2=1)"
   ]
  },
  {
   "cell_type": "code",
   "execution_count": 69,
   "metadata": {},
   "outputs": [
    {
     "data": {
      "text/plain": [
       "OrderedDict([('House',\n",
       "              array(['Unknown House', 'Gryffindor', 'Ravenclaw', 'Slytherin',\n",
       "                     'Hufflepuff', 'Beauxbatons Academy of Magic',\n",
       "                     'Durmstrang Institute'], dtype='<U28')),\n",
       "             ('Blood status',\n",
       "              array(['Unknown Blood status', 'Half-blood', 'Pure-blood', 'Muggle-born',\n",
       "                     'Part-Human', 'Pure-blood or half-blood', 'Part-Goblin',\n",
       "                     'Muggle-born or half-blood', 'Quarter-Veela', 'Muggle', 'Squib'],\n",
       "                    dtype='<U25'))])"
      ]
     },
     "execution_count": 69,
     "metadata": {},
     "output_type": "execute_result"
    }
   ],
   "source": [
    "ES.labels"
   ]
  },
  {
   "cell_type": "markdown",
   "metadata": {},
   "source": [
    "## Static Hypergraph\n",
    "A static hypergraph is one where all nodes and edges are known at the time of construction. This permits an internal ordering and uid structure for easy reference and faster computation of metrics.\n",
    "\n",
    "The nodes and edges of a static Hypergraph are stored using the StaticEntitySet structure. \n",
    "\n",
    "A static Hypergraph may be instantiated by adding the keyword argument `static=True`. Hypergraphs have `static=False` by default. A static Hypergraph may be created with a set system of the form:\n",
    "1. *dict* with static=True \n",
    "2. *iterable of iterables* with static=True, \n",
    "3. `hypernetx.EntitySet` with static=True\n",
    "4. `hypernetx.StaticEntity` (static is automatically set to True),\n",
    "5. `hypernetx.StaticEntitySet` (static is automatically set to True).\n"
   ]
  },
  {
   "cell_type": "code",
   "execution_count": 70,
   "metadata": {
    "scrolled": true
   },
   "outputs": [
    {
     "data": {
      "text/plain": [
       "(OrderedDict([('Unknown House',\n",
       "               ['Unknown Blood status',\n",
       "                'Half-blood',\n",
       "                'Pure-blood',\n",
       "                'Part-Human']),\n",
       "              ('Gryffindor',\n",
       "               ['Unknown Blood status',\n",
       "                'Half-blood',\n",
       "                'Pure-blood',\n",
       "                'Muggle-born',\n",
       "                'Part-Human']),\n",
       "              ('Ravenclaw',\n",
       "               ['Unknown Blood status',\n",
       "                'Half-blood',\n",
       "                'Muggle-born',\n",
       "                'Part-Human']),\n",
       "              ('Slytherin', ['Half-blood', 'Pure-blood', 'Part-Human']),\n",
       "              ('Hufflepuff', ['Half-blood', 'Pure-blood or half-blood']),\n",
       "              ('Beauxbatons Academy of Magic',\n",
       "               ['Unknown Blood status',\n",
       "                'Half-blood',\n",
       "                'Pure-blood',\n",
       "                'Muggle-born',\n",
       "                'Part-Human',\n",
       "                'Part-Goblin']),\n",
       "              ('Durmstrang Institute', ['Pure-blood'])]),\n",
       " array(['level1', 'level2'], dtype='<U6'),\n",
       " True,\n",
       " StaticEntitySet(None,['Unknown Blood status', 'Half-blood', 'Pure-blood', 'Part-Human', 'Muggle-born', 'Pure-blood or half-blood', 'Part-Goblin'],{}),\n",
       " StaticEntitySet(None,['Unknown House', 'Gryffindor', 'Ravenclaw', 'Slytherin', 'Hufflepuff', 'Beauxbatons Academy of Magic', 'Durmstrang Institute'],{}))"
      ]
     },
     "execution_count": 70,
     "metadata": {},
     "output_type": "execute_result"
    }
   ],
   "source": [
    "## example, instantiate from a dictionary\n",
    "d = E.elements\n",
    "Hdict = hnx.Hypergraph(d,static=True)\n",
    "\n",
    "d,Hdict.edges.keys,Hdict.isstatic,Hdict.nodes,Hdict.edges"
   ]
  },
  {
   "cell_type": "code",
   "execution_count": 71,
   "metadata": {},
   "outputs": [
    {
     "data": {
      "text/plain": [
       "(array(['House', 'Blood status'], dtype='<U12'),\n",
       " True,\n",
       " StaticEntitySet(None,['Unknown Blood status', 'Half-blood', 'Pure-blood', 'Muggle-born', 'Part-Human', 'Pure-blood or half-blood', 'Part-Goblin', 'Muggle-born or half-blood', 'Quarter-Veela', 'Muggle', 'Squib'],{}),\n",
       " StaticEntitySet(None,['Unknown House', 'Gryffindor', 'Ravenclaw', 'Slytherin', 'Hufflepuff', 'Beauxbatons Academy of Magic', 'Durmstrang Institute'],{}))"
      ]
     },
     "execution_count": 71,
     "metadata": {},
     "output_type": "execute_result"
    }
   ],
   "source": [
    "## example, instantiate from an Entity\n",
    "H = hnx.Hypergraph(E)\n",
    "\n",
    "H.edges.keys,H.isstatic,H.nodes,H.edges"
   ]
  },
  {
   "cell_type": "markdown",
   "metadata": {},
   "source": [
    "**Restrict to specific edges and nodes as before**"
   ]
  },
  {
   "cell_type": "code",
   "execution_count": 72,
   "metadata": {},
   "outputs": [
    {
     "data": {
      "text/plain": [
       "StaticEntitySet(None,['Gryffindor', 'Ravenclaw', 'Slytherin', 'Hufflepuff'],{})"
      ]
     },
     "execution_count": 72,
     "metadata": {},
     "output_type": "execute_result"
    }
   ],
   "source": [
    "H = H.restrict_to_edges(['Gryffindor','Ravenclaw','Slytherin','Hufflepuff'])\n",
    "H.edges"
   ]
  },
  {
   "cell_type": "markdown",
   "metadata": {},
   "source": [
    "**A Hypergraph with static=True may be converted to a static=False hypergraph if dynamic properties or visualizations are needed.**"
   ]
  },
  {
   "cell_type": "code",
   "execution_count": 73,
   "metadata": {
    "scrolled": true
   },
   "outputs": [
    {
     "data": {
      "image/png": "[encoded data removed]",
      "text/plain": [
       "<Figure size 576x576 with 1 Axes>"
      ]
     },
     "metadata": {
      "needs_background": "light"
     },
     "output_type": "display_data"
    }
   ],
   "source": [
    "Hd = H.remove_static()\n",
    "hnx.draw(Hd)"
   ]
  },
  {
   "cell_type": "markdown",
   "metadata": {},
   "source": [
    "## NWHypergraph has fast methods to apply to Hypergraphs stored as sparse arrays"
   ]
  },
  {
   "cell_type": "markdown",
   "metadata": {},
   "source": [
    "### All s-metric calculations in HNX use an s-line graph representation of the Hypergraph\n",
    "For each integer s>0, a hypergraph generates a unique s-line graph. The vertices in the line graph correspond to hypergraph edges. There exists a line graph edge between two line graph vertices if the hypergraph edges they represent intersect in at least s nodes in the hypergraph.\n",
    "\n",
    "Because this line graph representation is so important for all s-metrics, our proof of concept demonstration has NWHypergraph calculating the s-line graphs of hypergraphs passed from their python representation."
   ]
  },
  {
   "cell_type": "code",
   "execution_count": 74,
   "metadata": {
    "scrolled": true
   },
   "outputs": [
    {
     "data": {
      "text/plain": [
       "<11x7 sparse matrix of type '<class 'numpy.int64'>'\n",
       "\twith 29 stored elements in Compressed Sparse Row format>"
      ]
     },
     "execution_count": 74,
     "metadata": {},
     "output_type": "execute_result"
    }
   ],
   "source": [
    "HNW = hnx.Hypergraph(E)\n",
    "HNW.incidence_matrix()  ## the edge data for HNW is stored in the array associated with its edges, a StaticEntitySet"
   ]
  },
  {
   "cell_type": "markdown",
   "metadata": {},
   "source": [
    "**HNX exchanges matrices with NWHypergraph using the COO format of three arrays: row_indices, column_indices, data**"
   ]
  },
  {
   "cell_type": "code",
   "execution_count": 75,
   "metadata": {},
   "outputs": [
    {
     "data": {
      "text/plain": [
       "(array([ 0,  0,  0,  0,  1,  1,  1,  1,  1,  2,  2,  2,  2,  3,  3,  3,  4,\n",
       "         4,  5,  5,  5,  5,  5,  5,  6,  7,  8,  9, 10], dtype=int32),\n",
       " array([0, 1, 2, 4, 0, 1, 2, 3, 4, 0, 1, 3, 4, 1, 2, 4, 1, 5, 0, 1, 2, 3,\n",
       "        4, 6, 2, 2, 5, 0, 0], dtype=int32),\n",
       " array([1, 1, 1, 1, 1, 1, 1, 1, 1, 1, 1, 1, 1, 1, 1, 1, 1, 1, 1, 1, 1, 1,\n",
       "        1, 1, 1, 1, 1, 1, 1]))"
      ]
     },
     "execution_count": 75,
     "metadata": {},
     "output_type": "execute_result"
    }
   ],
   "source": [
    "hpcoo = coo_matrix(HNW.incidence_matrix())\n",
    "hpcoo.row,hpcoo.col,hpcoo.data"
   ]
  },
  {
   "cell_type": "code",
   "execution_count": null,
   "metadata": {},
   "outputs": [],
   "source": [
    "print(nwhy._version)\n",
    "hp = HarryPotter()\n",
    "print(hp.coo.row)\n",
    "print(hp.coo.col)\n",
    "print(hp.coo.data)\n",
    "newrow, newcol, newdata, oldrow, oldcol, olddata = nwhy.convert_to_s_overlap(hp.coo.row, hp.coo.col, hp.coo.data, s = 2)\n",
    "print(newrow)\n",
    "print(newcol)\n",
    "print(newdata)\n",
    "print(oldrow)\n",
    "print(oldcol)\n",
    "print(olddata)"
   ]
  },
  {
   "cell_type": "code",
   "execution_count": null,
   "metadata": {},
   "outputs": [],
   "source": [
    "mapping = [dict(zip(newrow,oldrow)),dict(zip(newcol,oldcol)),dict(zip(newdata,olddata))]"
   ]
  },
  {
   "cell_type": "code",
   "execution_count": null,
   "metadata": {},
   "outputs": [],
   "source": [
    "mapping[0]"
   ]
  },
  {
   "cell_type": "code",
   "execution_count": null,
   "metadata": {},
   "outputs": [],
   "source": [
    "np.mod(1+0,2)"
   ]
  },
  {
   "cell_type": "code",
   "execution_count": null,
   "metadata": {},
   "outputs": [],
   "source": [
    "list(np.array(csr_matrix(E.arr).sum(axis=1).flatten())[0])"
   ]
  },
  {
   "cell_type": "code",
   "execution_count": null,
   "metadata": {},
   "outputs": [],
   "source": [
    "csr_matrix(E.arr).sum(axis=1).nonzero()[0]"
   ]
  },
  {
   "cell_type": "code",
   "execution_count": null,
   "metadata": {},
   "outputs": [],
   "source": [
    "csr_matrix(E.arr).sum(axis=0).nonzero()[1]"
   ]
  },
  {
   "cell_type": "code",
   "execution_count": null,
   "metadata": {},
   "outputs": [],
   "source": []
  }
 ],
 "metadata": {
  "kernelspec": {
   "display_name": "Python 3",
   "language": "python",
   "name": "python3"
  },
  "language_info": {
   "codemirror_mode": {
    "name": "ipython",
    "version": 3
   },
   "file_extension": ".py",
   "mimetype": "text/x-python",
   "name": "python",
   "nbconvert_exporter": "python",
   "pygments_lexer": "ipython3",
   "version": "3.8.5"
  }
 },
 "nbformat": 4,
 "nbformat_minor": 2
}
