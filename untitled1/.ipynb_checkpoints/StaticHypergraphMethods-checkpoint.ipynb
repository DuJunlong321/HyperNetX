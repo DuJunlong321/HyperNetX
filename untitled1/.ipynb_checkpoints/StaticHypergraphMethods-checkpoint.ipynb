{
 "cells": [
  {
   "cell_type": "code",
   "execution_count": 1,
   "metadata": {},
   "outputs": [],
   "source": [
    "import hypernetx as hnx\n",
    "import matplotlib.pyplot as plt\n",
    "from collections import OrderedDict,defaultdict\n",
    "import scipy\n",
    "from scipy.sparse import coo_matrix,issparse, csr_matrix\n",
    "import pandas as pd\n",
    "import numpy as np\n",
    "import itertools as it\n",
    "import importlib as imp\n",
    "import untitled_StaticEntity as us\n",
    "import untitled_harrypotter as hp\n",
    "import untitled_static_Hypergraph as uh"
   ]
  },
  {
   "cell_type": "code",
   "execution_count": 2,
   "metadata": {},
   "outputs": [
    {
     "data": {
      "text/plain": [
       "StaticEntitySet(None,['Unknown House', 'Gryffindor', 'Ravenclaw', 'Slytherin', 'Hufflepuff', 'Beauxbatons Academy of Magic', 'Durmstrang Institute'],{})"
      ]
     },
     "execution_count": 2,
     "metadata": {},
     "output_type": "execute_result"
    }
   ],
   "source": [
    "harry = hp.HarryPotter()\n",
    "E = harry.entity\n",
    "ES = harry.sparseentity\n",
    "ES"
   ]
  },
  {
   "cell_type": "code",
   "execution_count": 3,
   "metadata": {},
   "outputs": [
    {
     "data": {
      "text/plain": [
       "['Unknown Blood status',\n",
       " 'Half-blood',\n",
       " 'Pure-blood',\n",
       " 'Muggle-born',\n",
       " 'Part-Human']"
      ]
     },
     "execution_count": 3,
     "metadata": {},
     "output_type": "execute_result"
    }
   ],
   "source": [
    "E.elements['Gryffindor']"
   ]
  },
  {
   "cell_type": "code",
   "execution_count": 4,
   "metadata": {},
   "outputs": [],
   "source": [
    "SE = us.StaticEntitySet(ES.arr,ES.labels,0,1)"
   ]
  },
  {
   "cell_type": "code",
   "execution_count": 5,
   "metadata": {},
   "outputs": [
    {
     "data": {
      "text/plain": [
       "(7, 11)"
      ]
     },
     "execution_count": 5,
     "metadata": {},
     "output_type": "execute_result"
    }
   ],
   "source": [
    "SE.arr.shape"
   ]
  },
  {
   "cell_type": "code",
   "execution_count": 6,
   "metadata": {},
   "outputs": [
    {
     "data": {
      "text/plain": [
       "Hypergraph(OrderedDict([('Unknown House', ['Unknown Blood status', 'Half-blood', 'Pure-blood', 'Pure-blood or half-blood', 'Muggle', 'Squib']), ('Gryffindor', ['Unknown Blood status', 'Half-blood', 'Pure-blood', 'Muggle-born', 'Part-Human', 'Pure-blood or half-blood']), ('Ravenclaw', ['Unknown Blood status', 'Half-blood', 'Muggle-born', 'Pure-blood or half-blood', 'Part-Goblin', 'Muggle-born or half-blood']), ('Slytherin', ['Half-blood', 'Pure-blood', 'Pure-blood or half-blood']), ('Hufflepuff', ['Unknown Blood status', 'Half-blood', 'Pure-blood', 'Muggle-born', 'Pure-blood or half-blood']), ('Beauxbatons Academy of Magic', ['Part-Human', 'Quarter-Veela']), ('Durmstrang Institute', ['Pure-blood or half-blood'])]),name=_)"
      ]
     },
     "execution_count": 6,
     "metadata": {},
     "output_type": "execute_result"
    }
   ],
   "source": [
    "h = uh.Hypergraph(setsystem={'arr':SE.arr,'labels':SE.labels},static=True)\n",
    "h"
   ]
  },
  {
   "cell_type": "code",
   "execution_count": 7,
   "metadata": {},
   "outputs": [
    {
     "data": {
      "text/plain": [
       "True"
      ]
     },
     "execution_count": 7,
     "metadata": {},
     "output_type": "execute_result"
    }
   ],
   "source": [
    "h.isstatic"
   ]
  },
  {
   "cell_type": "code",
   "execution_count": 8,
   "metadata": {},
   "outputs": [
    {
     "data": {
      "text/plain": [
       "OrderedDict([(0, array([ 0,  1,  2,  5,  9, 10])),\n",
       "             (1, array([0, 1, 2, 3, 4, 5])),\n",
       "             (2, array([0, 1, 3, 5, 6, 7])),\n",
       "             (3, array([1, 2, 5])),\n",
       "             (4, array([0, 1, 2, 3, 5])),\n",
       "             (5, array([4, 8])),\n",
       "             (6, array([5]))])"
      ]
     },
     "execution_count": 8,
     "metadata": {},
     "output_type": "execute_result"
    }
   ],
   "source": [
    "h.edges.elements_by_level()"
   ]
  },
  {
   "cell_type": "code",
   "execution_count": 9,
   "metadata": {
    "scrolled": true
   },
   "outputs": [
    {
     "data": {
      "text/plain": [
       "OrderedDict([('Unknown House',\n",
       "              ['Unknown Blood status',\n",
       "               'Half-blood',\n",
       "               'Pure-blood',\n",
       "               'Pure-blood or half-blood',\n",
       "               'Muggle',\n",
       "               'Squib']),\n",
       "             ('Gryffindor',\n",
       "              ['Unknown Blood status',\n",
       "               'Half-blood',\n",
       "               'Pure-blood',\n",
       "               'Muggle-born',\n",
       "               'Part-Human',\n",
       "               'Pure-blood or half-blood']),\n",
       "             ('Ravenclaw',\n",
       "              ['Unknown Blood status',\n",
       "               'Half-blood',\n",
       "               'Muggle-born',\n",
       "               'Pure-blood or half-blood',\n",
       "               'Part-Goblin',\n",
       "               'Muggle-born or half-blood']),\n",
       "             ('Slytherin',\n",
       "              ['Half-blood', 'Pure-blood', 'Pure-blood or half-blood']),\n",
       "             ('Hufflepuff',\n",
       "              ['Unknown Blood status',\n",
       "               'Half-blood',\n",
       "               'Pure-blood',\n",
       "               'Muggle-born',\n",
       "               'Pure-blood or half-blood']),\n",
       "             ('Beauxbatons Academy of Magic', ['Part-Human', 'Quarter-Veela']),\n",
       "             ('Durmstrang Institute', ['Pure-blood or half-blood'])])"
      ]
     },
     "execution_count": 9,
     "metadata": {},
     "output_type": "execute_result"
    }
   ],
   "source": [
    "h.incidence_dict"
   ]
  },
  {
   "cell_type": "code",
   "execution_count": 10,
   "metadata": {},
   "outputs": [
    {
     "data": {
      "text/plain": [
       "(<11x7 sparse matrix of type '<class 'numpy.int64'>'\n",
       " \twith 29 stored elements in Compressed Sparse Row format>,\n",
       " {0: 'Unknown Blood status',\n",
       "  1: 'Half-blood',\n",
       "  2: 'Pure-blood',\n",
       "  3: 'Muggle-born',\n",
       "  4: 'Part-Human',\n",
       "  5: 'Pure-blood or half-blood',\n",
       "  6: 'Part-Goblin',\n",
       "  7: 'Muggle-born or half-blood',\n",
       "  8: 'Quarter-Veela',\n",
       "  9: 'Muggle',\n",
       "  10: 'Squib'},\n",
       " {0: 'Unknown House',\n",
       "  1: 'Gryffindor',\n",
       "  2: 'Ravenclaw',\n",
       "  3: 'Slytherin',\n",
       "  4: 'Hufflepuff',\n",
       "  5: 'Beauxbatons Academy of Magic',\n",
       "  6: 'Durmstrang Institute'})"
      ]
     },
     "execution_count": 10,
     "metadata": {},
     "output_type": "execute_result"
    }
   ],
   "source": [
    "m = h.incidence_matrix(sparse=True,index=True)\n",
    "m"
   ]
  },
  {
   "cell_type": "code",
   "execution_count": 11,
   "metadata": {},
   "outputs": [
    {
     "data": {
      "text/plain": [
       "(11, 7)"
      ]
     },
     "execution_count": 11,
     "metadata": {},
     "output_type": "execute_result"
    }
   ],
   "source": [
    "m[0].shape"
   ]
  },
  {
   "cell_type": "code",
   "execution_count": 12,
   "metadata": {},
   "outputs": [
    {
     "data": {
      "text/plain": [
       "StaticEntitySet(None,['Unknown Blood status', 'Half-blood', 'Pure-blood', 'Muggle-born', 'Part-Human', 'Pure-blood or half-blood', 'Part-Goblin', 'Muggle-born or half-blood', 'Quarter-Veela', 'Muggle', 'Squib'],{})"
      ]
     },
     "execution_count": 12,
     "metadata": {},
     "output_type": "execute_result"
    }
   ],
   "source": [
    "## replace memberships in hypergraph with references from the incidence dictionary\n",
    "s = h.edges.restrict_to_levels([1,0])\n",
    "s"
   ]
  },
  {
   "cell_type": "code",
   "execution_count": 13,
   "metadata": {},
   "outputs": [
    {
     "data": {
      "text/plain": [
       "(7, 11)"
      ]
     },
     "execution_count": 13,
     "metadata": {},
     "output_type": "execute_result"
    }
   ],
   "source": [
    "s.dimensions"
   ]
  },
  {
   "cell_type": "code",
   "execution_count": 14,
   "metadata": {},
   "outputs": [
    {
     "data": {
      "text/plain": [
       "(7, 11)"
      ]
     },
     "execution_count": 14,
     "metadata": {},
     "output_type": "execute_result"
    }
   ],
   "source": [
    "s.dimensions"
   ]
  },
  {
   "cell_type": "code",
   "execution_count": 15,
   "metadata": {},
   "outputs": [
    {
     "data": {
      "text/plain": [
       "StaticEntitySet(None,['Unknown Blood status', 'Half-blood', 'Pure-blood', 'Muggle-born', 'Part-Human', 'Pure-blood or half-blood', 'Part-Goblin', 'Muggle-born or half-blood', 'Quarter-Veela', 'Muggle', 'Squib'],{})"
      ]
     },
     "execution_count": 15,
     "metadata": {},
     "output_type": "execute_result"
    }
   ],
   "source": [
    "h.nodes"
   ]
  },
  {
   "cell_type": "code",
   "execution_count": 16,
   "metadata": {},
   "outputs": [
    {
     "data": {
      "text/plain": [
       "OrderedDict([('Blood status',\n",
       "              array(['Unknown Blood status', 'Half-blood', 'Pure-blood', 'Muggle-born',\n",
       "                     'Part-Human', 'Pure-blood or half-blood', 'Part-Goblin',\n",
       "                     'Muggle-born or half-blood', 'Quarter-Veela', 'Muggle', 'Squib'],\n",
       "                    dtype='<U25'))])"
      ]
     },
     "execution_count": 16,
     "metadata": {},
     "output_type": "execute_result"
    }
   ],
   "source": [
    "h.nodes.labels"
   ]
  },
  {
   "cell_type": "code",
   "execution_count": 17,
   "metadata": {},
   "outputs": [
    {
     "data": {
      "text/html": [
       "<div>\n",
       "<style scoped>\n",
       "    .dataframe tbody tr th:only-of-type {\n",
       "        vertical-align: middle;\n",
       "    }\n",
       "\n",
       "    .dataframe tbody tr th {\n",
       "        vertical-align: top;\n",
       "    }\n",
       "\n",
       "    .dataframe thead th {\n",
       "        text-align: right;\n",
       "    }\n",
       "</style>\n",
       "<table border=\"1\" class=\"dataframe\">\n",
       "  <thead>\n",
       "    <tr style=\"text-align: right;\">\n",
       "      <th></th>\n",
       "      <th>House</th>\n",
       "      <th>Blood status</th>\n",
       "      <th>Species</th>\n",
       "      <th>Hair colour</th>\n",
       "      <th>Eye colour</th>\n",
       "    </tr>\n",
       "    <tr>\n",
       "      <th>Id</th>\n",
       "      <th></th>\n",
       "      <th></th>\n",
       "      <th></th>\n",
       "      <th></th>\n",
       "      <th></th>\n",
       "    </tr>\n",
       "  </thead>\n",
       "  <tbody>\n",
       "    <tr>\n",
       "      <th>1</th>\n",
       "      <td>Gryffindor</td>\n",
       "      <td>Half-blood</td>\n",
       "      <td>Human</td>\n",
       "      <td>Black</td>\n",
       "      <td>Bright green</td>\n",
       "    </tr>\n",
       "    <tr>\n",
       "      <th>2</th>\n",
       "      <td>Gryffindor</td>\n",
       "      <td>Pure-blood</td>\n",
       "      <td>Human</td>\n",
       "      <td>Red</td>\n",
       "      <td>Blue</td>\n",
       "    </tr>\n",
       "    <tr>\n",
       "      <th>3</th>\n",
       "      <td>Gryffindor</td>\n",
       "      <td>Muggle-born</td>\n",
       "      <td>Human</td>\n",
       "      <td>Brown</td>\n",
       "      <td>Brown</td>\n",
       "    </tr>\n",
       "    <tr>\n",
       "      <th>4</th>\n",
       "      <td>Gryffindor</td>\n",
       "      <td>Half-blood</td>\n",
       "      <td>Human</td>\n",
       "      <td>Silver| formerly auburn</td>\n",
       "      <td>Blue</td>\n",
       "    </tr>\n",
       "    <tr>\n",
       "      <th>5</th>\n",
       "      <td>Gryffindor</td>\n",
       "      <td>Part-Human</td>\n",
       "      <td>Half-Human/Half-Giant</td>\n",
       "      <td>Black</td>\n",
       "      <td>Black</td>\n",
       "    </tr>\n",
       "    <tr>\n",
       "      <th>...</th>\n",
       "      <td>...</td>\n",
       "      <td>...</td>\n",
       "      <td>...</td>\n",
       "      <td>...</td>\n",
       "      <td>...</td>\n",
       "    </tr>\n",
       "    <tr>\n",
       "      <th>136</th>\n",
       "      <td>Unknown House</td>\n",
       "      <td>Unknown Blood status</td>\n",
       "      <td>Human</td>\n",
       "      <td>Grey</td>\n",
       "      <td>Unknown Eye colour</td>\n",
       "    </tr>\n",
       "    <tr>\n",
       "      <th>137</th>\n",
       "      <td>Unknown House</td>\n",
       "      <td>Unknown Blood status</td>\n",
       "      <td>Werewolf</td>\n",
       "      <td>Grey</td>\n",
       "      <td>Unknown Eye colour</td>\n",
       "    </tr>\n",
       "    <tr>\n",
       "      <th>138</th>\n",
       "      <td>Unknown House</td>\n",
       "      <td>Pure-blood or half-blood</td>\n",
       "      <td>Human</td>\n",
       "      <td>Blond</td>\n",
       "      <td>Blue</td>\n",
       "    </tr>\n",
       "    <tr>\n",
       "      <th>139</th>\n",
       "      <td>Unknown House</td>\n",
       "      <td>Unknown Blood status</td>\n",
       "      <td>Elf</td>\n",
       "      <td>Unknown Hair colour</td>\n",
       "      <td>Unknown Eye colour</td>\n",
       "    </tr>\n",
       "    <tr>\n",
       "      <th>140</th>\n",
       "      <td>Unknown House</td>\n",
       "      <td>Unknown Blood status</td>\n",
       "      <td>Unknown Species</td>\n",
       "      <td>Unknown Hair colour</td>\n",
       "      <td>Unknown Eye colour</td>\n",
       "    </tr>\n",
       "  </tbody>\n",
       "</table>\n",
       "<p>140 rows × 5 columns</p>\n",
       "</div>"
      ],
      "text/plain": [
       "             House              Blood status                Species  \\\n",
       "Id                                                                    \n",
       "1       Gryffindor                Half-blood                  Human   \n",
       "2       Gryffindor                Pure-blood                  Human   \n",
       "3       Gryffindor               Muggle-born                  Human   \n",
       "4       Gryffindor                Half-blood                  Human   \n",
       "5       Gryffindor                Part-Human  Half-Human/Half-Giant   \n",
       "..             ...                       ...                    ...   \n",
       "136  Unknown House      Unknown Blood status                  Human   \n",
       "137  Unknown House      Unknown Blood status               Werewolf   \n",
       "138  Unknown House  Pure-blood or half-blood                  Human   \n",
       "139  Unknown House      Unknown Blood status                    Elf   \n",
       "140  Unknown House      Unknown Blood status        Unknown Species   \n",
       "\n",
       "                 Hair colour          Eye colour  \n",
       "Id                                                \n",
       "1                      Black        Bright green  \n",
       "2                        Red                Blue  \n",
       "3                      Brown               Brown  \n",
       "4    Silver| formerly auburn                Blue  \n",
       "5                      Black               Black  \n",
       "..                       ...                 ...  \n",
       "136                     Grey  Unknown Eye colour  \n",
       "137                     Grey  Unknown Eye colour  \n",
       "138                    Blond                Blue  \n",
       "139      Unknown Hair colour  Unknown Eye colour  \n",
       "140      Unknown Hair colour  Unknown Eye colour  \n",
       "\n",
       "[140 rows x 5 columns]"
      ]
     },
     "execution_count": 17,
     "metadata": {},
     "output_type": "execute_result"
    }
   ],
   "source": [
    "harry.dataframe"
   ]
  },
  {
   "cell_type": "code",
   "execution_count": 18,
   "metadata": {},
   "outputs": [
    {
     "data": {
      "text/plain": [
       "OrderedDict([('Unknown House',\n",
       "              ['Unknown Blood status',\n",
       "               'Half-blood',\n",
       "               'Pure-blood',\n",
       "               'Part-Human']),\n",
       "             ('Gryffindor',\n",
       "              ['Unknown Blood status',\n",
       "               'Half-blood',\n",
       "               'Pure-blood',\n",
       "               'Muggle-born',\n",
       "               'Part-Human']),\n",
       "             ('Ravenclaw',\n",
       "              ['Unknown Blood status',\n",
       "               'Half-blood',\n",
       "               'Muggle-born',\n",
       "               'Part-Human']),\n",
       "             ('Slytherin', ['Half-blood', 'Pure-blood', 'Part-Human']),\n",
       "             ('Hufflepuff', ['Half-blood', 'Pure-blood or half-blood']),\n",
       "             ('Beauxbatons Academy of Magic',\n",
       "              ['Unknown Blood status',\n",
       "               'Half-blood',\n",
       "               'Pure-blood',\n",
       "               'Muggle-born',\n",
       "               'Part-Human',\n",
       "               'Part-Goblin']),\n",
       "             ('Durmstrang Institute', ['Pure-blood'])])"
      ]
     },
     "execution_count": 18,
     "metadata": {},
     "output_type": "execute_result"
    }
   ],
   "source": [
    "E.incidence_dict"
   ]
  },
  {
   "cell_type": "code",
   "execution_count": 19,
   "metadata": {},
   "outputs": [
    {
     "data": {
      "text/plain": [
       "OrderedDict([('Unknown House',\n",
       "              ['Unknown Blood status',\n",
       "               'Half-blood',\n",
       "               'Pure-blood',\n",
       "               'Pure-blood or half-blood',\n",
       "               'Muggle',\n",
       "               'Squib']),\n",
       "             ('Gryffindor',\n",
       "              ['Unknown Blood status',\n",
       "               'Half-blood',\n",
       "               'Pure-blood',\n",
       "               'Muggle-born',\n",
       "               'Part-Human',\n",
       "               'Pure-blood or half-blood']),\n",
       "             ('Ravenclaw',\n",
       "              ['Unknown Blood status',\n",
       "               'Half-blood',\n",
       "               'Muggle-born',\n",
       "               'Pure-blood or half-blood',\n",
       "               'Part-Goblin',\n",
       "               'Muggle-born or half-blood']),\n",
       "             ('Slytherin',\n",
       "              ['Half-blood', 'Pure-blood', 'Pure-blood or half-blood']),\n",
       "             ('Hufflepuff',\n",
       "              ['Unknown Blood status',\n",
       "               'Half-blood',\n",
       "               'Pure-blood',\n",
       "               'Muggle-born',\n",
       "               'Pure-blood or half-blood']),\n",
       "             ('Beauxbatons Academy of Magic', ['Part-Human', 'Quarter-Veela']),\n",
       "             ('Durmstrang Institute', ['Pure-blood or half-blood'])])"
      ]
     },
     "execution_count": 19,
     "metadata": {},
     "output_type": "execute_result"
    }
   ],
   "source": [
    "h.incidence_dict"
   ]
  },
  {
   "cell_type": "code",
   "execution_count": 20,
   "metadata": {},
   "outputs": [
    {
     "data": {
      "text/plain": [
       "scipy.sparse.csr.csr_matrix"
      ]
     },
     "execution_count": 20,
     "metadata": {},
     "output_type": "execute_result"
    }
   ],
   "source": [
    "M = h.incidence_matrix(sparse=True)\n",
    "type(M)"
   ]
  },
  {
   "cell_type": "code",
   "execution_count": 21,
   "metadata": {},
   "outputs": [],
   "source": [
    "A = M.dot(M.transpose()).astype(bool)"
   ]
  },
  {
   "cell_type": "code",
   "execution_count": 22,
   "metadata": {},
   "outputs": [
    {
     "data": {
      "text/plain": [
       "(<7x7 sparse matrix of type '<class 'numpy.int64'>'\n",
       " \twith 20 stored elements in Compressed Sparse Column format>,\n",
       " {0: 'Unknown House',\n",
       "  1: 'Gryffindor',\n",
       "  2: 'Ravenclaw',\n",
       "  3: 'Slytherin',\n",
       "  4: 'Hufflepuff',\n",
       "  5: 'Beauxbatons Academy of Magic',\n",
       "  6: 'Durmstrang Institute'})"
      ]
     },
     "execution_count": 22,
     "metadata": {},
     "output_type": "execute_result"
    }
   ],
   "source": [
    "h.edge_adjacency_matrix(index=True,sparse=True)"
   ]
  },
  {
   "cell_type": "code",
   "execution_count": 23,
   "metadata": {},
   "outputs": [],
   "source": [
    "E = h.edges\n",
    "edgeset = ['Half-blood','Pure-blood']\n",
    "# E.indices(E.keys[0], list(edgeset))\n",
    "# E._index('House','Half-blood')\n",
    "a = (np.where(E._labels['House'] == 'Half-blood')[0].size > 0)\n",
    "b = np.where(E._labels['House'] == 'Half-blood')[0]\n",
    "int(a and a*b) if a else None"
   ]
  },
  {
   "cell_type": "code",
   "execution_count": 24,
   "metadata": {},
   "outputs": [
    {
     "data": {
      "text/plain": [
       "['Unknown Blood status',\n",
       " 'Half-blood',\n",
       " 'Pure-blood',\n",
       " 'Muggle-born',\n",
       " 'Part-Human',\n",
       " 'Pure-blood or half-blood']"
      ]
     },
     "execution_count": 24,
     "metadata": {},
     "output_type": "execute_result"
    }
   ],
   "source": [
    "E.elements['Gryffindor']"
   ]
  },
  {
   "cell_type": "code",
   "execution_count": 25,
   "metadata": {},
   "outputs": [
    {
     "data": {
      "text/plain": [
       "OrderedDict([('House',\n",
       "              array(['Unknown House', 'Gryffindor', 'Ravenclaw', 'Slytherin',\n",
       "                     'Hufflepuff', 'Beauxbatons Academy of Magic',\n",
       "                     'Durmstrang Institute'], dtype='<U28')),\n",
       "             ('Blood status',\n",
       "              array(['Unknown Blood status', 'Half-blood', 'Pure-blood', 'Muggle-born',\n",
       "                     'Part-Human', 'Pure-blood or half-blood', 'Part-Goblin',\n",
       "                     'Muggle-born or half-blood', 'Quarter-Veela', 'Muggle', 'Squib'],\n",
       "                    dtype='<U25')),\n",
       "             ('Species',\n",
       "              array(['Unknown Species', 'Human', 'Half-Human/Half-Giant', 'Werewolf',\n",
       "                     'Human (Werewolf traits)', 'Human(goblin ancestry)', 'Ghost',\n",
       "                     'Centaur', 'Human (Metamorphmagus)', 'Elf'], dtype='<U23')),\n",
       "             ('Hair colour',\n",
       "              array(['Unknown Hair colour', 'Black', 'Red', 'Brown',\n",
       "                     'Silver| formerly auburn', 'Blond', 'Sandy', 'Auburn',\n",
       "                     'Light brown flecked with grey', 'Colourless and balding', 'Dark',\n",
       "                     'Mousy', 'Dirty-blonde', 'White', 'Reddish-blonde', 'Blonde',\n",
       "                     'White-blond', 'Iron grey', 'Bald', 'Grey', 'White (balding)',\n",
       "                     'Straw blond', 'Variable', 'Red brown', 'Brown/greying',\n",
       "                     'Silver| formerly black', 'Tawny', 'Silver', 'Silvery-blonde',\n",
       "                     'Ginger', 'Straw-coloured', 'Red ', 'Reddish-brown', 'Mousy brown',\n",
       "                     'Jet-black', 'White blond'], dtype='<U29')),\n",
       "             ('Eye colour',\n",
       "              array(['Unknown Eye colour', 'Bright green', 'Blue', 'Brown', 'Black',\n",
       "                     'Bright brown', 'Hazel', 'Grey', 'Green', 'Dark', 'Pale silvery',\n",
       "                     'Silvery', 'Gooseberry', 'Scarlet ', 'Pale, freckled',\n",
       "                     'Astonishingly blue', 'Variable', 'One dark, one electric blue',\n",
       "                     'Yellowish', 'Ruddy', 'Grey/Blue', 'Dark blue', 'Bright Blue',\n",
       "                     'Dark Grey', 'Pale', 'Yellow'], dtype='<U27'))])"
      ]
     },
     "execution_count": 25,
     "metadata": {},
     "output_type": "execute_result"
    }
   ],
   "source": [
    "h.edges.labels"
   ]
  },
  {
   "cell_type": "code",
   "execution_count": 26,
   "metadata": {},
   "outputs": [
    {
     "data": {
      "text/plain": [
       "<7x11 sparse matrix of type '<class 'numpy.int64'>'\n",
       "\twith 29 stored elements in Compressed Sparse Row format>"
      ]
     },
     "execution_count": 26,
     "metadata": {},
     "output_type": "execute_result"
    }
   ],
   "source": [
    "h.edges.arr"
   ]
  },
  {
   "cell_type": "code",
   "execution_count": 27,
   "metadata": {},
   "outputs": [],
   "source": [
    "# self = h.edges\n",
    "# indices = [1,2]\n",
    "# level=0\n",
    "# indices = list(indices)\n",
    "# newlabels = self.labels.copy()\n",
    "# newlabels[self.keys[level]] = self._labs(level)[indices]\n",
    "# if issparse(self.arr):\n",
    "#     newarr = self.arr.tocsr()\n",
    "#     newarr = newarr[indices].tocoo()\n",
    "# elif level == 0:\n",
    "#     newarr = self.arr[indices]\n",
    "# else:\n",
    "#     axes = [level] + list(range(1, level)) + [0] + list(range(level + 1, self._size))\n",
    "#     newarr = self.arr.transpose(axes)[indices].transpose(axes)"
   ]
  },
  {
   "cell_type": "code",
   "execution_count": 28,
   "metadata": {},
   "outputs": [
    {
     "data": {
      "text/plain": [
       "{}"
      ]
     },
     "execution_count": 28,
     "metadata": {},
     "output_type": "execute_result"
    }
   ],
   "source": [
    "# h.restrict_to_edges(['Gryffindor','Ravenclaw'])\n",
    "# E=h.edges\n",
    "# edgeset = ['Gryffindor','Ravenclaw']\n",
    "# E.restrict_to(sorted(E.indices(E.keys[0], list(edgeset))))\n",
    "h.edges.properties"
   ]
  },
  {
   "cell_type": "code",
   "execution_count": 29,
   "metadata": {},
   "outputs": [
    {
     "data": {
      "text/plain": [
       "1"
      ]
     },
     "execution_count": 29,
     "metadata": {},
     "output_type": "execute_result"
    }
   ],
   "source": [
    "E._index(E.keys[0],'Gryffindor')"
   ]
  },
  {
   "cell_type": "code",
   "execution_count": 30,
   "metadata": {},
   "outputs": [
    {
     "data": {
      "text/plain": [
       "['Unknown Blood status',\n",
       " 'Half-blood',\n",
       " 'Pure-blood',\n",
       " 'Muggle-born',\n",
       " 'Part-Human',\n",
       " 'Pure-blood or half-blood']"
      ]
     },
     "execution_count": 30,
     "metadata": {},
     "output_type": "execute_result"
    }
   ],
   "source": [
    "E.elements['Gryffindor']"
   ]
  },
  {
   "cell_type": "code",
   "execution_count": 31,
   "metadata": {},
   "outputs": [
    {
     "data": {
      "text/plain": [
       "(2, 5)"
      ]
     },
     "execution_count": 31,
     "metadata": {},
     "output_type": "execute_result"
    }
   ],
   "source": [
    "h.size('Gryffindor',['Unknown Blood status','Half-blood']), h.dim('Gryffindor')"
   ]
  },
  {
   "cell_type": "code",
   "execution_count": 32,
   "metadata": {},
   "outputs": [
    {
     "data": {
      "text/plain": [
       "['Unknown Blood status',\n",
       " 'Half-blood',\n",
       " 'Pure-blood',\n",
       " 'Muggle-born',\n",
       " 'Part-Human',\n",
       " 'Pure-blood or half-blood']"
      ]
     },
     "execution_count": 32,
     "metadata": {},
     "output_type": "execute_result"
    }
   ],
   "source": [
    "h.edges['Gryffindor']"
   ]
  },
  {
   "cell_type": "code",
   "execution_count": 33,
   "metadata": {},
   "outputs": [
    {
     "data": {
      "text/plain": [
       "0"
      ]
     },
     "execution_count": 33,
     "metadata": {},
     "output_type": "execute_result"
    }
   ],
   "source": [
    "len(h.nodes)"
   ]
  },
  {
   "cell_type": "code",
   "execution_count": 34,
   "metadata": {},
   "outputs": [
    {
     "data": {
      "text/plain": [
       "(0,)"
      ]
     },
     "execution_count": 34,
     "metadata": {},
     "output_type": "execute_result"
    }
   ],
   "source": [
    "h.nodes.dimensions"
   ]
  },
  {
   "cell_type": "code",
   "execution_count": 35,
   "metadata": {},
   "outputs": [
    {
     "data": {
      "text/plain": [
       "(7, 11)"
      ]
     },
     "execution_count": 35,
     "metadata": {},
     "output_type": "execute_result"
    }
   ],
   "source": [
    "h.edges.dimensions"
   ]
  },
  {
   "cell_type": "code",
   "execution_count": 36,
   "metadata": {},
   "outputs": [
    {
     "data": {
      "text/plain": [
       "1"
      ]
     },
     "execution_count": 36,
     "metadata": {},
     "output_type": "execute_result"
    }
   ],
   "source": [
    "len(h.nodes.keys)"
   ]
  },
  {
   "cell_type": "code",
   "execution_count": 37,
   "metadata": {},
   "outputs": [
    {
     "data": {
      "text/plain": [
       "(11, 7)"
      ]
     },
     "execution_count": 37,
     "metadata": {},
     "output_type": "execute_result"
    }
   ],
   "source": [
    "h.shape"
   ]
  },
  {
   "cell_type": "code",
   "execution_count": 38,
   "metadata": {},
   "outputs": [
    {
     "data": {
      "text/plain": [
       "{}"
      ]
     },
     "execution_count": 38,
     "metadata": {},
     "output_type": "execute_result"
    }
   ],
   "source": [
    "h.nodes.elements['Half-blood']"
   ]
  },
  {
   "cell_type": "code",
   "execution_count": 39,
   "metadata": {},
   "outputs": [
    {
     "data": {
      "text/plain": [
       "{'Unknown Blood status': {},\n",
       " 'Half-blood': {},\n",
       " 'Pure-blood': {},\n",
       " 'Muggle-born': {},\n",
       " 'Part-Human': {},\n",
       " 'Pure-blood or half-blood': {},\n",
       " 'Part-Goblin': {},\n",
       " 'Muggle-born or half-blood': {},\n",
       " 'Quarter-Veela': {},\n",
       " 'Muggle': {},\n",
       " 'Squib': {}}"
      ]
     },
     "execution_count": 39,
     "metadata": {},
     "output_type": "execute_result"
    }
   ],
   "source": [
    "h.nodes.elements"
   ]
  },
  {
   "cell_type": "code",
   "execution_count": 40,
   "metadata": {},
   "outputs": [
    {
     "data": {
      "text/plain": [
       "7"
      ]
     },
     "execution_count": 40,
     "metadata": {},
     "output_type": "execute_result"
    }
   ],
   "source": [
    "len(h.edges.elements)"
   ]
  },
  {
   "cell_type": "code",
   "execution_count": 41,
   "metadata": {},
   "outputs": [
    {
     "data": {
      "text/plain": [
       "11"
      ]
     },
     "execution_count": 41,
     "metadata": {},
     "output_type": "execute_result"
    }
   ],
   "source": [
    "len(h.nodes.elements)"
   ]
  },
  {
   "cell_type": "code",
   "execution_count": 42,
   "metadata": {},
   "outputs": [
    {
     "data": {
      "text/plain": [
       "(<11x11 sparse matrix of type '<class 'numpy.int64'>'\n",
       " \twith 0 stored elements in Compressed Sparse Row format>,\n",
       " {0: 'Unknown Blood status',\n",
       "  1: 'Half-blood',\n",
       "  2: 'Pure-blood',\n",
       "  3: 'Muggle-born',\n",
       "  4: 'Part-Human',\n",
       "  5: 'Pure-blood or half-blood',\n",
       "  6: 'Part-Goblin',\n",
       "  7: 'Muggle-born or half-blood',\n",
       "  8: 'Quarter-Veela',\n",
       "  9: 'Muggle',\n",
       "  10: 'Squib'})"
      ]
     },
     "execution_count": 42,
     "metadata": {},
     "output_type": "execute_result"
    }
   ],
   "source": [
    "h.adjacency_matrix(s=100,index=True,sparse=True)"
   ]
  },
  {
   "cell_type": "code",
   "execution_count": 43,
   "metadata": {},
   "outputs": [
    {
     "data": {
      "text/plain": [
       "<11x7 sparse matrix of type '<class 'numpy.int64'>'\n",
       "\twith 29 stored elements in Compressed Sparse Row format>"
      ]
     },
     "execution_count": 43,
     "metadata": {},
     "output_type": "execute_result"
    }
   ],
   "source": [
    "m = h.incidence_matrix(sparse=True)\n",
    "m"
   ]
  },
  {
   "cell_type": "code",
   "execution_count": 44,
   "metadata": {},
   "outputs": [
    {
     "data": {
      "text/plain": [
       "<11x11 sparse matrix of type '<class 'numpy.int64'>'\n",
       "\twith 79 stored elements in Compressed Sparse Row format>"
      ]
     },
     "execution_count": 44,
     "metadata": {},
     "output_type": "execute_result"
    }
   ],
   "source": [
    "m.dot(m.transpose())"
   ]
  },
  {
   "cell_type": "code",
   "execution_count": 45,
   "metadata": {},
   "outputs": [
    {
     "name": "stdout",
     "output_type": "stream",
     "text": [
      "Unknown Blood status\n",
      "Half-blood\n",
      "Pure-blood\n",
      "Muggle-born\n",
      "Part-Human\n",
      "Pure-blood or half-blood\n",
      "Part-Goblin\n",
      "Muggle-born or half-blood\n",
      "Quarter-Veela\n",
      "Muggle\n",
      "Squib\n"
     ]
    }
   ],
   "source": [
    "for k in h.nodes:\n",
    "    print(k)"
   ]
  },
  {
   "cell_type": "code",
   "execution_count": 46,
   "metadata": {},
   "outputs": [
    {
     "data": {
      "text/plain": [
       "{'Unknown Blood status': {},\n",
       " 'Half-blood': {},\n",
       " 'Pure-blood': {},\n",
       " 'Muggle-born': {},\n",
       " 'Part-Human': {},\n",
       " 'Pure-blood or half-blood': {},\n",
       " 'Part-Goblin': {},\n",
       " 'Muggle-born or half-blood': {},\n",
       " 'Quarter-Veela': {},\n",
       " 'Muggle': {},\n",
       " 'Squib': {}}"
      ]
     },
     "execution_count": 46,
     "metadata": {},
     "output_type": "execute_result"
    }
   ],
   "source": [
    "h.nodes.elements"
   ]
  },
  {
   "cell_type": "code",
   "execution_count": 47,
   "metadata": {},
   "outputs": [
    {
     "data": {
      "text/plain": [
       "(<3x3 sparse matrix of type '<class 'numpy.int64'>'\n",
       " \twith 0 stored elements in Compressed Sparse Column format>,\n",
       " {0: 'Unknown House', 1: 'Gryffindor', 2: 'Ravenclaw'})"
      ]
     },
     "execution_count": 47,
     "metadata": {},
     "output_type": "execute_result"
    }
   ],
   "source": [
    "a,b = h.auxiliary_matrix(s=6,sparse=True,index=True)\n",
    "a,b"
   ]
  },
  {
   "cell_type": "code",
   "execution_count": 48,
   "metadata": {},
   "outputs": [
    {
     "data": {
      "text/plain": [
       "matrix([[1, 1, 1],\n",
       "        [1, 1, 1],\n",
       "        [1, 1, 0],\n",
       "        [0, 1, 1],\n",
       "        [0, 1, 0],\n",
       "        [1, 1, 1],\n",
       "        [0, 0, 1],\n",
       "        [0, 0, 1],\n",
       "        [0, 0, 0],\n",
       "        [1, 0, 0],\n",
       "        [1, 0, 0]])"
      ]
     },
     "execution_count": 48,
     "metadata": {},
     "output_type": "execute_result"
    }
   ],
   "source": [
    "hh = h.restrict_to_edges(list(b.values()))\n",
    "hh.incidence_matrix(sparse=False)"
   ]
  },
  {
   "cell_type": "code",
   "execution_count": 49,
   "metadata": {},
   "outputs": [
    {
     "data": {
      "text/plain": [
       "NodeView(('Unknown House', 'Gryffindor', 'Ravenclaw', 'Slytherin', 'Hufflepuff', 'Beauxbatons Academy of Magic', 'Durmstrang Institute', 'Unknown Blood status', 'Half-blood', 'Pure-blood', 'Muggle-born', 'Part-Human', 'Pure-blood or half-blood', 'Part-Goblin', 'Muggle-born or half-blood', 'Quarter-Veela', 'Muggle', 'Squib'))"
      ]
     },
     "execution_count": 49,
     "metadata": {},
     "output_type": "execute_result"
    }
   ],
   "source": [
    "g = h.bipartite()\n",
    "g.nodes"
   ]
  },
  {
   "cell_type": "code",
   "execution_count": 50,
   "metadata": {},
   "outputs": [
    {
     "data": {
      "text/plain": [
       "(matrix([[1, 1, 1, 0, 0, 1, 0, 0, 0, 1, 1],\n",
       "         [1, 1, 1, 1, 1, 1, 0, 0, 0, 0, 0],\n",
       "         [1, 1, 0, 1, 0, 1, 1, 1, 0, 0, 0],\n",
       "         [0, 1, 1, 0, 0, 1, 0, 0, 0, 0, 0],\n",
       "         [1, 1, 1, 1, 0, 1, 0, 0, 0, 0, 0],\n",
       "         [0, 0, 0, 0, 1, 0, 0, 0, 1, 0, 0],\n",
       "         [0, 0, 0, 0, 0, 1, 0, 0, 0, 0, 0]]),\n",
       " {0: 'Unknown House',\n",
       "  1: 'Gryffindor',\n",
       "  2: 'Ravenclaw',\n",
       "  3: 'Slytherin',\n",
       "  4: 'Hufflepuff',\n",
       "  5: 'Beauxbatons Academy of Magic',\n",
       "  6: 'Durmstrang Institute'},\n",
       " {0: 'Unknown Blood status',\n",
       "  1: 'Half-blood',\n",
       "  2: 'Pure-blood',\n",
       "  3: 'Muggle-born',\n",
       "  4: 'Part-Human',\n",
       "  5: 'Pure-blood or half-blood',\n",
       "  6: 'Part-Goblin',\n",
       "  7: 'Muggle-born or half-blood',\n",
       "  8: 'Quarter-Veela',\n",
       "  9: 'Muggle',\n",
       "  10: 'Squib'})"
      ]
     },
     "execution_count": 50,
     "metadata": {},
     "output_type": "execute_result"
    }
   ],
   "source": [
    "h.dual().incidence_matrix(sparse=False,index=True)"
   ]
  },
  {
   "cell_type": "code",
   "execution_count": 51,
   "metadata": {},
   "outputs": [
    {
     "data": {
      "text/plain": [
       "[39, 38, 18, 28, 13, 3, 1]"
      ]
     },
     "execution_count": 51,
     "metadata": {},
     "output_type": "execute_result"
    }
   ],
   "source": [
    "ne = harry.entity.arr\n",
    "list(np.sum(ne,axis=tuple([1,2,3,4])))"
   ]
  },
  {
   "cell_type": "code",
   "execution_count": 52,
   "metadata": {},
   "outputs": [
    {
     "data": {
      "text/plain": [
       "array([39, 38, 18, 28, 13,  3,  1])"
      ]
     },
     "execution_count": 52,
     "metadata": {},
     "output_type": "execute_result"
    }
   ],
   "source": [
    "ids = list(range(5))\n",
    "ids.remove(0)\n",
    "np.sum(ne,axis=tuple(ids))"
   ]
  },
  {
   "cell_type": "code",
   "execution_count": 53,
   "metadata": {},
   "outputs": [
    {
     "data": {
      "image/png": "[encoded data removed]",
      "text/plain": [
       "<Figure size 576x576 with 1 Axes>"
      ]
     },
     "metadata": {
      "needs_background": "light"
     },
     "output_type": "display_data"
    }
   ],
   "source": [
    "hd = uh.Hypergraph(h.edges.incidence_dict)\n",
    "hnx.draw(hd)"
   ]
  },
  {
   "cell_type": "code",
   "execution_count": 54,
   "metadata": {},
   "outputs": [],
   "source": [
    "ed = hnx.EntitySet('harrypotter',h.edges.incidence_dict)"
   ]
  },
  {
   "cell_type": "code",
   "execution_count": 55,
   "metadata": {},
   "outputs": [
    {
     "data": {
      "text/plain": [
       "EntitySet(harrypotter,['Slytherin', 'Beauxbatons Academy of Magic', 'Durmstrang Institute', 'Hufflepuff', 'Gryffindor', 'Unknown House', 'Ravenclaw'],{})"
      ]
     },
     "execution_count": 55,
     "metadata": {},
     "output_type": "execute_result"
    }
   ],
   "source": [
    "ed"
   ]
  },
  {
   "cell_type": "code",
   "execution_count": 56,
   "metadata": {},
   "outputs": [
    {
     "data": {
      "text/plain": [
       "<11x7 sparse matrix of type '<class 'numpy.int64'>'\n",
       "\twith 29 stored elements in Compressed Sparse Row format>"
      ]
     },
     "execution_count": 56,
     "metadata": {},
     "output_type": "execute_result"
    }
   ],
   "source": [
    "h.incidence_matrix()"
   ]
  },
  {
   "cell_type": "code",
   "execution_count": 57,
   "metadata": {},
   "outputs": [
    {
     "data": {
      "text/plain": [
       "Hypergraph({'Unknown House': Entity(Unknown House,['Pure-blood', 'Unknown Blood status', 'Muggle', 'Squib', 'Half-blood', 'Pure-blood or half-blood'],{}), 'Gryffindor': Entity(Gryffindor,['Pure-blood', 'Unknown Blood status', 'Half-blood', 'Pure-blood or half-blood', 'Part-Human', 'Muggle-born'],{}), 'Ravenclaw': Entity(Ravenclaw,['Unknown Blood status', 'Part-Goblin', 'Half-blood', 'Pure-blood or half-blood', 'Muggle-born', 'Muggle-born or half-blood'],{}), 'Slytherin': Entity(Slytherin,['Half-blood', 'Pure-blood', 'Pure-blood or half-blood'],{}), 'Hufflepuff': Entity(Hufflepuff,['Pure-blood', 'Unknown Blood status', 'Half-blood', 'Pure-blood or half-blood', 'Muggle-born'],{}), 'Beauxbatons Academy of Magic': Entity(Beauxbatons Academy of Magic,['Quarter-Veela', 'Part-Human'],{}), 'Durmstrang Institute': Entity(Durmstrang Institute,['Pure-blood or half-blood'],{})},name=_)"
      ]
     },
     "execution_count": 57,
     "metadata": {},
     "output_type": "execute_result"
    }
   ],
   "source": [
    "hd"
   ]
  },
  {
   "cell_type": "code",
   "execution_count": 58,
   "metadata": {},
   "outputs": [],
   "source": [
    "level1_name='level1'; level2_name='level2'\n",
    "arr,cdict,rdict = hd.edges.incidence_matrix(index=True)\n",
    "arr = arr.transpose()\n",
    "labels = OrderedDict([(level1_name, [rdict[k] for k in range(len(rdict))]), (level2_name, [cdict[k] for k in range(len(cdict))])])"
   ]
  },
  {
   "cell_type": "code",
   "execution_count": 59,
   "metadata": {},
   "outputs": [],
   "source": [
    "E = us.StaticEntity(arr=arr,labels=labels)"
   ]
  },
  {
   "cell_type": "code",
   "execution_count": 60,
   "metadata": {},
   "outputs": [],
   "source": [
    "hds = hd.convert_to_static()"
   ]
  },
  {
   "cell_type": "code",
   "execution_count": 61,
   "metadata": {},
   "outputs": [
    {
     "data": {
      "text/plain": [
       "Hypergraph(OrderedDict([('Slytherin', ['Pure-blood', 'Half-blood', 'Pure-blood or half-blood']), ('Beauxbatons Academy of Magic', ['Quarter-Veela', 'Part-Human']), ('Durmstrang Institute', ['Pure-blood or half-blood']), ('Hufflepuff', ['Pure-blood', 'Unknown Blood status', 'Half-blood', 'Pure-blood or half-blood', 'Muggle-born']), ('Gryffindor', ['Pure-blood', 'Unknown Blood status', 'Half-blood', 'Pure-blood or half-blood', 'Part-Human', 'Muggle-born']), ('Unknown House', ['Pure-blood', 'Unknown Blood status', 'Muggle', 'Squib', 'Half-blood', 'Pure-blood or half-blood']), ('Ravenclaw', ['Unknown Blood status', 'Part-Goblin', 'Half-blood', 'Pure-blood or half-blood', 'Muggle-born', 'Muggle-born or half-blood'])]),name=_)"
      ]
     },
     "execution_count": 61,
     "metadata": {},
     "output_type": "execute_result"
    }
   ],
   "source": [
    "hds"
   ]
  },
  {
   "cell_type": "code",
   "execution_count": 62,
   "metadata": {},
   "outputs": [
    {
     "data": {
      "text/plain": [
       "False"
      ]
     },
     "execution_count": 62,
     "metadata": {},
     "output_type": "execute_result"
    }
   ],
   "source": [
    "hds.incidence_dict == h.incidence_dict"
   ]
  },
  {
   "cell_type": "code",
   "execution_count": 63,
   "metadata": {},
   "outputs": [
    {
     "data": {
      "text/plain": [
       "OrderedDict([('Unknown House',\n",
       "              ['Unknown Blood status',\n",
       "               'Half-blood',\n",
       "               'Pure-blood',\n",
       "               'Pure-blood or half-blood',\n",
       "               'Muggle',\n",
       "               'Squib']),\n",
       "             ('Gryffindor',\n",
       "              ['Unknown Blood status',\n",
       "               'Half-blood',\n",
       "               'Pure-blood',\n",
       "               'Muggle-born',\n",
       "               'Part-Human',\n",
       "               'Pure-blood or half-blood']),\n",
       "             ('Ravenclaw',\n",
       "              ['Unknown Blood status',\n",
       "               'Half-blood',\n",
       "               'Muggle-born',\n",
       "               'Pure-blood or half-blood',\n",
       "               'Part-Goblin',\n",
       "               'Muggle-born or half-blood']),\n",
       "             ('Slytherin',\n",
       "              ['Half-blood', 'Pure-blood', 'Pure-blood or half-blood']),\n",
       "             ('Hufflepuff',\n",
       "              ['Unknown Blood status',\n",
       "               'Half-blood',\n",
       "               'Pure-blood',\n",
       "               'Muggle-born',\n",
       "               'Pure-blood or half-blood']),\n",
       "             ('Beauxbatons Academy of Magic', ['Part-Human', 'Quarter-Veela']),\n",
       "             ('Durmstrang Institute', ['Pure-blood or half-blood'])])"
      ]
     },
     "execution_count": 63,
     "metadata": {},
     "output_type": "execute_result"
    }
   ],
   "source": [
    "h.incidence_dict"
   ]
  },
  {
   "cell_type": "code",
   "execution_count": 64,
   "metadata": {},
   "outputs": [
    {
     "data": {
      "text/plain": [
       "array(['Pure-blood', 'Unknown Blood status', 'Part-Goblin',\n",
       "       'Quarter-Veela', 'Muggle', 'Squib', 'Half-blood',\n",
       "       'Pure-blood or half-blood', 'Part-Human', 'Muggle-born',\n",
       "       'Muggle-born or half-blood'], dtype='<U25')"
      ]
     },
     "execution_count": 64,
     "metadata": {},
     "output_type": "execute_result"
    }
   ],
   "source": [
    "np.array([cdict[k] for k in range(len(cdict))])"
   ]
  },
  {
   "cell_type": "code",
   "execution_count": 65,
   "metadata": {},
   "outputs": [
    {
     "data": {
      "text/plain": [
       "OrderedDict([('House',\n",
       "              array(['Unknown House', 'Gryffindor', 'Ravenclaw', 'Slytherin',\n",
       "                     'Hufflepuff', 'Beauxbatons Academy of Magic',\n",
       "                     'Durmstrang Institute'], dtype='<U28')),\n",
       "             ('Blood status',\n",
       "              array(['Unknown Blood status', 'Half-blood', 'Pure-blood', 'Muggle-born',\n",
       "                     'Part-Human', 'Pure-blood or half-blood', 'Part-Goblin',\n",
       "                     'Muggle-born or half-blood', 'Quarter-Veela', 'Muggle', 'Squib'],\n",
       "                    dtype='<U25')),\n",
       "             ('Species',\n",
       "              array(['Unknown Species', 'Human', 'Half-Human/Half-Giant', 'Werewolf',\n",
       "                     'Human (Werewolf traits)', 'Human(goblin ancestry)', 'Ghost',\n",
       "                     'Centaur', 'Human (Metamorphmagus)', 'Elf'], dtype='<U23')),\n",
       "             ('Hair colour',\n",
       "              array(['Unknown Hair colour', 'Black', 'Red', 'Brown',\n",
       "                     'Silver| formerly auburn', 'Blond', 'Sandy', 'Auburn',\n",
       "                     'Light brown flecked with grey', 'Colourless and balding', 'Dark',\n",
       "                     'Mousy', 'Dirty-blonde', 'White', 'Reddish-blonde', 'Blonde',\n",
       "                     'White-blond', 'Iron grey', 'Bald', 'Grey', 'White (balding)',\n",
       "                     'Straw blond', 'Variable', 'Red brown', 'Brown/greying',\n",
       "                     'Silver| formerly black', 'Tawny', 'Silver', 'Silvery-blonde',\n",
       "                     'Ginger', 'Straw-coloured', 'Red ', 'Reddish-brown', 'Mousy brown',\n",
       "                     'Jet-black', 'White blond'], dtype='<U29')),\n",
       "             ('Eye colour',\n",
       "              array(['Unknown Eye colour', 'Bright green', 'Blue', 'Brown', 'Black',\n",
       "                     'Bright brown', 'Hazel', 'Grey', 'Green', 'Dark', 'Pale silvery',\n",
       "                     'Silvery', 'Gooseberry', 'Scarlet ', 'Pale, freckled',\n",
       "                     'Astonishingly blue', 'Variable', 'One dark, one electric blue',\n",
       "                     'Yellowish', 'Ruddy', 'Grey/Blue', 'Dark blue', 'Bright Blue',\n",
       "                     'Dark Grey', 'Pale', 'Yellow'], dtype='<U27'))])"
      ]
     },
     "execution_count": 65,
     "metadata": {},
     "output_type": "execute_result"
    }
   ],
   "source": [
    "h.edges.labels"
   ]
  },
  {
   "cell_type": "code",
   "execution_count": 66,
   "metadata": {},
   "outputs": [],
   "source": [
    "hd = h.remove_static()"
   ]
  },
  {
   "cell_type": "code",
   "execution_count": 67,
   "metadata": {},
   "outputs": [
    {
     "data": {
      "text/plain": [
       "Hypergraph({'Unknown House': Entity(Unknown House,['Pure-blood', 'Unknown Blood status', 'Muggle', 'Squib', 'Half-blood', 'Pure-blood or half-blood'],{}), 'Gryffindor': Entity(Gryffindor,['Pure-blood', 'Unknown Blood status', 'Half-blood', 'Pure-blood or half-blood', 'Part-Human', 'Muggle-born'],{}), 'Ravenclaw': Entity(Ravenclaw,['Unknown Blood status', 'Part-Goblin', 'Half-blood', 'Pure-blood or half-blood', 'Muggle-born', 'Muggle-born or half-blood'],{}), 'Slytherin': Entity(Slytherin,['Half-blood', 'Pure-blood', 'Pure-blood or half-blood'],{}), 'Hufflepuff': Entity(Hufflepuff,['Pure-blood', 'Unknown Blood status', 'Half-blood', 'Pure-blood or half-blood', 'Muggle-born'],{}), 'Beauxbatons Academy of Magic': Entity(Beauxbatons Academy of Magic,['Quarter-Veela', 'Part-Human'],{}), 'Durmstrang Institute': Entity(Durmstrang Institute,['Pure-blood or half-blood'],{})},name=_)"
      ]
     },
     "execution_count": 67,
     "metadata": {},
     "output_type": "execute_result"
    }
   ],
   "source": [
    "hd"
   ]
  },
  {
   "cell_type": "code",
   "execution_count": 68,
   "metadata": {},
   "outputs": [
    {
     "data": {
      "text/plain": [
       "False"
      ]
     },
     "execution_count": 68,
     "metadata": {},
     "output_type": "execute_result"
    }
   ],
   "source": [
    "hd.isstatic"
   ]
  },
  {
   "cell_type": "code",
   "execution_count": 69,
   "metadata": {},
   "outputs": [
    {
     "data": {
      "text/plain": [
       "Hypergraph(OrderedDict([('Slytherin', ['Pure-blood', 'Half-blood', 'Pure-blood or half-blood']), ('Beauxbatons Academy of Magic', ['Quarter-Veela', 'Part-Human']), ('Durmstrang Institute', ['Pure-blood or half-blood']), ('Hufflepuff', ['Pure-blood', 'Unknown Blood status', 'Half-blood', 'Pure-blood or half-blood', 'Muggle-born']), ('Gryffindor', ['Pure-blood', 'Unknown Blood status', 'Half-blood', 'Pure-blood or half-blood', 'Part-Human', 'Muggle-born']), ('Unknown House', ['Pure-blood', 'Unknown Blood status', 'Muggle', 'Squib', 'Half-blood', 'Pure-blood or half-blood']), ('Ravenclaw', ['Unknown Blood status', 'Part-Goblin', 'Half-blood', 'Pure-blood or half-blood', 'Muggle-born', 'Muggle-born or half-blood'])]),name=_)"
      ]
     },
     "execution_count": 69,
     "metadata": {},
     "output_type": "execute_result"
    }
   ],
   "source": [
    "hds = hd.convert_to_static();hds"
   ]
  },
  {
   "cell_type": "code",
   "execution_count": 70,
   "metadata": {},
   "outputs": [
    {
     "data": {
      "text/plain": [
       "4"
      ]
     },
     "execution_count": 70,
     "metadata": {},
     "output_type": "execute_result"
    }
   ],
   "source": [
    "node = 'Pure-blood'\n",
    "idx = h.edges.indices(h.edges.keys[1],[node])[0]\n",
    "int(np.sum(h.incidence_matrix(),axis=1)[idx])"
   ]
  },
  {
   "cell_type": "code",
   "execution_count": 71,
   "metadata": {},
   "outputs": [
    {
     "name": "stdout",
     "output_type": "stream",
     "text": [
      "[1, 3]\n"
     ]
    },
    {
     "data": {
      "text/plain": [
       "2"
      ]
     },
     "execution_count": 71,
     "metadata": {},
     "output_type": "execute_result"
    }
   ],
   "source": [
    "imat = h.incidence_matrix()\n",
    "edges = ['Gryffindor','Slytherin']\n",
    "jdx = h.edges.indices(h.edges.keys[0],edges);print(jdx)\n",
    "int(np.sum(imat[:,jdx],axis=1)[idx])"
   ]
  },
  {
   "cell_type": "code",
   "execution_count": 72,
   "metadata": {},
   "outputs": [
    {
     "data": {
      "text/plain": [
       "[1]"
      ]
     },
     "execution_count": 72,
     "metadata": {},
     "output_type": "execute_result"
    }
   ],
   "source": [
    "s=5\n",
    "jdx = sorted(set(np.asarray(np.sum(imat,axis=0)>s).nonzero()[1]).intersection(jdx))\n",
    "jdx"
   ]
  },
  {
   "cell_type": "code",
   "execution_count": 73,
   "metadata": {},
   "outputs": [
    {
     "data": {
      "text/plain": [
       "matrix([[1, 1, 1, 0, 1, 0, 0],\n",
       "        [1, 1, 1, 1, 1, 0, 0],\n",
       "        [1, 1, 0, 1, 1, 0, 0],\n",
       "        [0, 1, 1, 0, 1, 0, 0],\n",
       "        [0, 1, 0, 0, 0, 1, 0],\n",
       "        [1, 1, 1, 1, 1, 0, 1],\n",
       "        [0, 0, 1, 0, 0, 0, 0],\n",
       "        [0, 0, 1, 0, 0, 0, 0],\n",
       "        [0, 0, 0, 0, 0, 1, 0],\n",
       "        [1, 0, 0, 0, 0, 0, 0],\n",
       "        [1, 0, 0, 0, 0, 0, 0]])"
      ]
     },
     "execution_count": 73,
     "metadata": {},
     "output_type": "execute_result"
    }
   ],
   "source": [
    "h.incidence_matrix().todense()"
   ]
  },
  {
   "cell_type": "code",
   "execution_count": 74,
   "metadata": {},
   "outputs": [
    {
     "data": {
      "text/plain": [
       "(StaticEntitySet(None,['Unknown House', 'Gryffindor', 'Ravenclaw', 'Slytherin', 'Hufflepuff', 'Beauxbatons Academy of Magic', 'Durmstrang Institute'],{}),\n",
       " StaticEntitySet(None,['Unknown Blood status', 'Half-blood', 'Pure-blood', 'Muggle-born', 'Part-Human', 'Pure-blood or half-blood', 'Part-Goblin', 'Muggle-born or half-blood', 'Quarter-Veela', 'Muggle', 'Squib'],{}))"
      ]
     },
     "execution_count": 74,
     "metadata": {},
     "output_type": "execute_result"
    }
   ],
   "source": [
    "h.edges,h.nodes"
   ]
  },
  {
   "cell_type": "code",
   "execution_count": 75,
   "metadata": {},
   "outputs": [
    {
     "data": {
      "text/plain": [
       "5"
      ]
     },
     "execution_count": 75,
     "metadata": {},
     "output_type": "execute_result"
    }
   ],
   "source": [
    "h.degree('Half-blood',s=1)"
   ]
  },
  {
   "cell_type": "code",
   "execution_count": 76,
   "metadata": {},
   "outputs": [
    {
     "data": {
      "text/plain": [
       "array([0, 1, 3, 4], dtype=int32)"
      ]
     },
     "execution_count": 76,
     "metadata": {},
     "output_type": "execute_result"
    }
   ],
   "source": [
    "imat[idx].nonzero()[1]"
   ]
  },
  {
   "cell_type": "code",
   "execution_count": 77,
   "metadata": {},
   "outputs": [
    {
     "name": "stdout",
     "output_type": "stream",
     "text": [
      "[0, 1, 2, 3, 4, 5, 9, 10]\n"
     ]
    },
    {
     "data": {
      "text/plain": [
       "(2,\n",
       " array([0, 1, 3, 4], dtype=int32),\n",
       " array([0, 1, 2, 4]),\n",
       " [0, 1, 4],\n",
       " ['Unknown Blood status',\n",
       "  'Half-blood',\n",
       "  'Muggle-born',\n",
       "  'Part-Human',\n",
       "  'Pure-blood or half-blood',\n",
       "  'Muggle',\n",
       "  'Squib'],\n",
       " matrix([[1, 1, 1, 0, 1, 0, 0],\n",
       "         [1, 1, 1, 1, 1, 0, 0],\n",
       "         [1, 1, 0, 1, 1, 0, 0],\n",
       "         [0, 1, 1, 0, 1, 0, 0],\n",
       "         [0, 1, 0, 0, 0, 1, 0],\n",
       "         [1, 1, 1, 1, 1, 0, 1],\n",
       "         [0, 0, 1, 0, 0, 0, 0],\n",
       "         [0, 0, 1, 0, 0, 0, 0],\n",
       "         [0, 0, 0, 0, 0, 1, 0],\n",
       "         [1, 0, 0, 0, 0, 0, 0],\n",
       "         [1, 0, 0, 0, 0, 0, 0]]))"
      ]
     },
     "execution_count": 77,
     "metadata": {},
     "output_type": "execute_result"
    }
   ],
   "source": [
    "node = 'Pure-blood'\n",
    "idx = h.edges.indices(h.edges.keys[1], [node])[0]\n",
    "jdx = np.array(np.sum(imat, axis=0) >= 5).nonzero()[1]\n",
    "ndx = imat[idx].nonzero()[1]\n",
    "kdx = sorted(set(jdx).intersection(ndx))\n",
    "neighbors = sorted(np.sum(imat[:,kdx],axis=1).nonzero()[0])\n",
    "print(neighbors)\n",
    "neighbors.remove(idx)\n",
    "neighbors = h.edges.translate(1,neighbors)\n",
    "idx,ndx,jdx,kdx,neighbors,imat.todense()"
   ]
  },
  {
   "cell_type": "code",
   "execution_count": 78,
   "metadata": {},
   "outputs": [],
   "source": [
    "self = h\n",
    "imat = self.incidence_matrix()\n",
    "idx = self.edges.indices(self.edges.keys[1], [node])[0]\n",
    "edx = imat[idx].nonzero()[1]  # edge indices\n",
    "if s > 1:\n",
    "    sdx = (np.sum(imat, axis=0) > s).nonzero()[1]\n",
    "    edx = sorted(set(edx).intersection(sdx))\n",
    "\n",
    "# if len(edx) == 0:\n",
    "#     edges = set()\n",
    "#     neighbors = set()\n",
    "# else:\n",
    "neighbors = np.sum(imat[:, edx], axis=1).nonzero()[0]\n",
    "# neighbors.remove(idx)\n",
    "# neighbors = set(self.edges.translate(1, neighbors))\n",
    "# if return_edges:\n",
    "#     edges = set(self.edges.translate(0, jdx))"
   ]
  },
  {
   "cell_type": "code",
   "execution_count": 79,
   "metadata": {},
   "outputs": [
    {
     "data": {
      "text/plain": [
       "[0, 1]"
      ]
     },
     "execution_count": 79,
     "metadata": {},
     "output_type": "execute_result"
    }
   ],
   "source": [
    "edx"
   ]
  },
  {
   "cell_type": "code",
   "execution_count": 80,
   "metadata": {},
   "outputs": [
    {
     "data": {
      "text/plain": [
       "(array([0, 0], dtype=int32), array([0, 1], dtype=int32))"
      ]
     },
     "execution_count": 80,
     "metadata": {},
     "output_type": "execute_result"
    }
   ],
   "source": [
    "edv = imat[idx]\n",
    "sdv = csr_matrix((np.array(np.sum(imat, axis=0) > s)*1)[0])\n",
    "# np.multiply(edv,sdv)\n",
    "csr_matrix.multiply(edv,sdv).nonzero()"
   ]
  },
  {
   "cell_type": "code",
   "execution_count": 81,
   "metadata": {},
   "outputs": [
    {
     "data": {
      "text/plain": [
       "(matrix([[1, 1, 0, 1, 1, 0, 0]]), matrix([[1, 1, 1, 0, 0, 0, 0]]))"
      ]
     },
     "execution_count": 81,
     "metadata": {},
     "output_type": "execute_result"
    }
   ],
   "source": [
    "edv.todense(),sdv.todense()"
   ]
  },
  {
   "cell_type": "code",
   "execution_count": 82,
   "metadata": {},
   "outputs": [],
   "source": [
    "s=2\n",
    "edx = imat[idx]\n",
    "sdx = imat.sum(axis=0)>s"
   ]
  },
  {
   "cell_type": "code",
   "execution_count": 83,
   "metadata": {},
   "outputs": [
    {
     "data": {
      "text/plain": [
       "(<1x7 sparse matrix of type '<class 'numpy.int64'>'\n",
       " \twith 4 stored elements in Compressed Sparse Row format>,\n",
       " matrix([[ True,  True,  True,  True,  True, False, False]]))"
      ]
     },
     "execution_count": 83,
     "metadata": {},
     "output_type": "execute_result"
    }
   ],
   "source": [
    "edx,sdx"
   ]
  },
  {
   "cell_type": "code",
   "execution_count": 84,
   "metadata": {},
   "outputs": [],
   "source": [
    "edx = edx.multiply(sdx).nonzero()[1]"
   ]
  },
  {
   "cell_type": "code",
   "execution_count": 85,
   "metadata": {},
   "outputs": [
    {
     "data": {
      "text/plain": [
       "4"
      ]
     },
     "execution_count": 85,
     "metadata": {},
     "output_type": "execute_result"
    }
   ],
   "source": [
    "len(edx)"
   ]
  },
  {
   "cell_type": "code",
   "execution_count": 86,
   "metadata": {},
   "outputs": [
    {
     "data": {
      "text/plain": [
       "array([ 0,  1,  2,  3,  4,  5,  9, 10])"
      ]
     },
     "execution_count": 86,
     "metadata": {},
     "output_type": "execute_result"
    }
   ],
   "source": [
    "np.sum(imat[:,edx],axis=1).nonzero()[0]"
   ]
  },
  {
   "cell_type": "code",
   "execution_count": 87,
   "metadata": {},
   "outputs": [
    {
     "data": {
      "text/plain": [
       "{'Half-blood',\n",
       " 'Pure-blood',\n",
       " 'Pure-blood or half-blood',\n",
       " 'Squib',\n",
       " 'Unknown Blood status'}"
      ]
     },
     "execution_count": 87,
     "metadata": {},
     "output_type": "execute_result"
    }
   ],
   "source": [
    "h.neighbors('Muggle')"
   ]
  },
  {
   "cell_type": "code",
   "execution_count": 88,
   "metadata": {},
   "outputs": [
    {
     "data": {
      "text/plain": [
       "{'Half-blood',\n",
       " 'Pure-blood',\n",
       " 'Pure-blood or half-blood',\n",
       " 'Squib',\n",
       " 'Unknown Blood status'}"
      ]
     },
     "execution_count": 88,
     "metadata": {},
     "output_type": "execute_result"
    }
   ],
   "source": [
    "h['Muggle']"
   ]
  },
  {
   "cell_type": "code",
   "execution_count": 89,
   "metadata": {},
   "outputs": [
    {
     "data": {
      "text/plain": [
       "matrix([[0, 0, 0, 0, 0, 0, 0, 0, 0, 0, 0],\n",
       "        [0, 0, 0, 0, 0, 5, 0, 0, 0, 0, 0],\n",
       "        [0, 0, 0, 0, 0, 0, 0, 0, 0, 0, 0],\n",
       "        [0, 0, 0, 0, 0, 0, 0, 0, 0, 0, 0],\n",
       "        [0, 0, 0, 0, 0, 0, 0, 0, 0, 0, 0],\n",
       "        [0, 5, 0, 0, 0, 0, 0, 0, 0, 0, 0],\n",
       "        [0, 0, 0, 0, 0, 0, 0, 0, 0, 0, 0],\n",
       "        [0, 0, 0, 0, 0, 0, 0, 0, 0, 0, 0],\n",
       "        [0, 0, 0, 0, 0, 0, 0, 0, 0, 0, 0],\n",
       "        [0, 0, 0, 0, 0, 0, 0, 0, 0, 0, 0],\n",
       "        [0, 0, 0, 0, 0, 0, 0, 0, 0, 0, 0]])"
      ]
     },
     "execution_count": 89,
     "metadata": {},
     "output_type": "execute_result"
    }
   ],
   "source": [
    "h.adjacency_matrix(s=4).todense()\n"
   ]
  },
  {
   "cell_type": "code",
   "execution_count": 90,
   "metadata": {},
   "outputs": [
    {
     "data": {
      "text/plain": [
       "StaticEntitySet(None,['Unknown House', 'Gryffindor', 'Ravenclaw', 'Slytherin', 'Hufflepuff', 'Beauxbatons Academy of Magic', 'Durmstrang Institute'],{})"
      ]
     },
     "execution_count": 90,
     "metadata": {},
     "output_type": "execute_result"
    }
   ],
   "source": [
    "h.edges"
   ]
  },
  {
   "cell_type": "code",
   "execution_count": 91,
   "metadata": {},
   "outputs": [
    {
     "data": {
      "text/plain": [
       "Hypergraph(OrderedDict([('Gryffindor', ['Unknown Blood status', 'Half-blood', 'Pure-blood', 'Muggle-born', 'Part-Human', 'Pure-blood or half-blood']), ('Ravenclaw', ['Unknown Blood status', 'Half-blood', 'Muggle-born', 'Pure-blood or half-blood', 'Part-Goblin', 'Muggle-born or half-blood']), ('Slytherin', ['Half-blood', 'Pure-blood', 'Pure-blood or half-blood']), ('Hufflepuff', ['Unknown Blood status', 'Half-blood', 'Pure-blood', 'Muggle-born', 'Pure-blood or half-blood'])]),name=_)"
      ]
     },
     "execution_count": 91,
     "metadata": {},
     "output_type": "execute_result"
    }
   ],
   "source": [
    "h.restrict_to_edges(['Gryffindor', 'Ravenclaw', 'Slytherin', 'Hufflepuff',])"
   ]
  },
  {
   "cell_type": "code",
   "execution_count": 92,
   "metadata": {},
   "outputs": [],
   "source": [
    "nodes = ['Half-blood','Pure-blood','Pure-blood or half-blood','Muggle-born or half-blood']\n",
    "inodes = h.edges.indices(h.edges.keys[1],nodes)\n",
    "E = h.edges.restrict_to_levels((1,0)).restrict_to(inodes).restrict_to_levels((1,0))\n",
    "hr = uh.Hypergraph(E)"
   ]
  },
  {
   "cell_type": "code",
   "execution_count": 93,
   "metadata": {},
   "outputs": [
    {
     "data": {
      "image/png": "[encoded data removed]",
      "text/plain": [
       "<Figure size 576x576 with 1 Axes>"
      ]
     },
     "metadata": {
      "needs_background": "light"
     },
     "output_type": "display_data"
    }
   ],
   "source": [
    "hnx.draw(hr.remove_static())"
   ]
  },
  {
   "cell_type": "code",
   "execution_count": 94,
   "metadata": {},
   "outputs": [
    {
     "data": {
      "text/plain": [
       "[1, 2, 5, 7]"
      ]
     },
     "execution_count": 94,
     "metadata": {},
     "output_type": "execute_result"
    }
   ],
   "source": [
    "inodes"
   ]
  },
  {
   "cell_type": "code",
   "execution_count": 95,
   "metadata": {},
   "outputs": [],
   "source": [
    "E = h.edges.restrict_to_levels((1,0))"
   ]
  },
  {
   "cell_type": "code",
   "execution_count": 96,
   "metadata": {},
   "outputs": [],
   "source": [
    "E = E.restrict_to(inodes)"
   ]
  },
  {
   "cell_type": "code",
   "execution_count": 97,
   "metadata": {},
   "outputs": [
    {
     "data": {
      "text/plain": [
       "OrderedDict([('Half-blood',\n",
       "              ['Unknown House',\n",
       "               'Gryffindor',\n",
       "               'Ravenclaw',\n",
       "               'Slytherin',\n",
       "               'Hufflepuff']),\n",
       "             ('Pure-blood',\n",
       "              ['Unknown House', 'Gryffindor', 'Slytherin', 'Hufflepuff']),\n",
       "             ('Pure-blood or half-blood',\n",
       "              ['Unknown House',\n",
       "               'Gryffindor',\n",
       "               'Ravenclaw',\n",
       "               'Slytherin',\n",
       "               'Hufflepuff',\n",
       "               'Durmstrang Institute']),\n",
       "             ('Muggle-born or half-blood', ['Ravenclaw'])])"
      ]
     },
     "execution_count": 97,
     "metadata": {},
     "output_type": "execute_result"
    }
   ],
   "source": [
    "E.elements"
   ]
  },
  {
   "cell_type": "code",
   "execution_count": 98,
   "metadata": {},
   "outputs": [
    {
     "data": {
      "text/plain": [
       "StaticEntitySet(None,['Unknown House', 'Gryffindor', 'Ravenclaw', 'Slytherin', 'Hufflepuff', 'Beauxbatons Academy of Magic', 'Durmstrang Institute'],{})"
      ]
     },
     "execution_count": 98,
     "metadata": {},
     "output_type": "execute_result"
    }
   ],
   "source": [
    "F = E.restrict_to_levels((1,0))\n",
    "F"
   ]
  },
  {
   "cell_type": "code",
   "execution_count": 99,
   "metadata": {},
   "outputs": [],
   "source": [
    "hr = uh.Hypergraph(F)"
   ]
  },
  {
   "cell_type": "code",
   "execution_count": 100,
   "metadata": {},
   "outputs": [
    {
     "data": {
      "text/plain": [
       "StaticEntitySet(None,['Unknown House', 'Gryffindor', 'Ravenclaw', 'Slytherin', 'Hufflepuff', 'Beauxbatons Academy of Magic', 'Durmstrang Institute'],{})"
      ]
     },
     "execution_count": 100,
     "metadata": {},
     "output_type": "execute_result"
    }
   ],
   "source": [
    "hr.edges"
   ]
  },
  {
   "cell_type": "code",
   "execution_count": 101,
   "metadata": {},
   "outputs": [
    {
     "data": {
      "text/plain": [
       "StaticEntitySet(None,['Half-blood', 'Pure-blood', 'Pure-blood or half-blood', 'Muggle-born or half-blood'],{})"
      ]
     },
     "execution_count": 101,
     "metadata": {},
     "output_type": "execute_result"
    }
   ],
   "source": [
    "hr.nodes"
   ]
  },
  {
   "cell_type": "code",
   "execution_count": 102,
   "metadata": {},
   "outputs": [
    {
     "data": {
      "image/png": "[encoded data removed]",
      "text/plain": [
       "<Figure size 576x576 with 1 Axes>"
      ]
     },
     "metadata": {
      "needs_background": "light"
     },
     "output_type": "display_data"
    }
   ],
   "source": [
    "hnx.draw(hr.remove_static())"
   ]
  },
  {
   "cell_type": "code",
   "execution_count": 103,
   "metadata": {},
   "outputs": [
    {
     "data": {
      "text/plain": [
       "EntitySet(_:Nodes,['Half-blood', 'Pure-blood', 'Pure-blood or half-blood', 'Muggle-born or half-blood'],{})"
      ]
     },
     "execution_count": 103,
     "metadata": {},
     "output_type": "execute_result"
    }
   ],
   "source": [
    "hrs = hr.remove_static()\n",
    "hrs.nodes"
   ]
  },
  {
   "cell_type": "code",
   "execution_count": 104,
   "metadata": {},
   "outputs": [
    {
     "data": {
      "text/plain": [
       "EntitySet(_:Edges,['Slytherin', 'Beauxbatons Academy of Magic', 'Durmstrang Institute', 'Hufflepuff', 'Gryffindor', 'Unknown House', 'Ravenclaw'],{})"
      ]
     },
     "execution_count": 104,
     "metadata": {},
     "output_type": "execute_result"
    }
   ],
   "source": [
    "hrs.edges"
   ]
  },
  {
   "cell_type": "code",
   "execution_count": 105,
   "metadata": {},
   "outputs": [
    {
     "data": {
      "text/plain": [
       "Entity(Beauxbatons Academy of Magic,[],{})"
      ]
     },
     "execution_count": 105,
     "metadata": {},
     "output_type": "execute_result"
    }
   ],
   "source": [
    "hrs.edges['Beauxbatons Academy of Magic']"
   ]
  },
  {
   "cell_type": "code",
   "execution_count": 106,
   "metadata": {},
   "outputs": [
    {
     "data": {
      "text/plain": [
       "OrderedDict([('House',\n",
       "              array(['Unknown House', 'Gryffindor', 'Ravenclaw', 'Slytherin',\n",
       "                     'Hufflepuff', 'Beauxbatons Academy of Magic',\n",
       "                     'Durmstrang Institute'], dtype='<U28')),\n",
       "             ('Blood status',\n",
       "              array(['Unknown Blood status', 'Half-blood', 'Pure-blood', 'Muggle-born',\n",
       "                     'Part-Human', 'Pure-blood or half-blood', 'Part-Goblin',\n",
       "                     'Muggle-born or half-blood', 'Quarter-Veela', 'Muggle', 'Squib'],\n",
       "                    dtype='<U25')),\n",
       "             ('Species',\n",
       "              array(['Unknown Species', 'Human', 'Half-Human/Half-Giant', 'Werewolf',\n",
       "                     'Human (Werewolf traits)', 'Human(goblin ancestry)', 'Ghost',\n",
       "                     'Centaur', 'Human (Metamorphmagus)', 'Elf'], dtype='<U23')),\n",
       "             ('Hair colour',\n",
       "              array(['Unknown Hair colour', 'Black', 'Red', 'Brown',\n",
       "                     'Silver| formerly auburn', 'Blond', 'Sandy', 'Auburn',\n",
       "                     'Light brown flecked with grey', 'Colourless and balding', 'Dark',\n",
       "                     'Mousy', 'Dirty-blonde', 'White', 'Reddish-blonde', 'Blonde',\n",
       "                     'White-blond', 'Iron grey', 'Bald', 'Grey', 'White (balding)',\n",
       "                     'Straw blond', 'Variable', 'Red brown', 'Brown/greying',\n",
       "                     'Silver| formerly black', 'Tawny', 'Silver', 'Silvery-blonde',\n",
       "                     'Ginger', 'Straw-coloured', 'Red ', 'Reddish-brown', 'Mousy brown',\n",
       "                     'Jet-black', 'White blond'], dtype='<U29')),\n",
       "             ('Eye colour',\n",
       "              array(['Unknown Eye colour', 'Bright green', 'Blue', 'Brown', 'Black',\n",
       "                     'Bright brown', 'Hazel', 'Grey', 'Green', 'Dark', 'Pale silvery',\n",
       "                     'Silvery', 'Gooseberry', 'Scarlet ', 'Pale, freckled',\n",
       "                     'Astonishingly blue', 'Variable', 'One dark, one electric blue',\n",
       "                     'Yellowish', 'Ruddy', 'Grey/Blue', 'Dark blue', 'Bright Blue',\n",
       "                     'Dark Grey', 'Pale', 'Yellow'], dtype='<U27'))])"
      ]
     },
     "execution_count": 106,
     "metadata": {},
     "output_type": "execute_result"
    }
   ],
   "source": [
    "harry.entity.labels"
   ]
  },
  {
   "cell_type": "code",
   "execution_count": 107,
   "metadata": {},
   "outputs": [
    {
     "data": {
      "text/plain": [
       "(4, 11, 10, 36, 26)"
      ]
     },
     "execution_count": 107,
     "metadata": {},
     "output_type": "execute_result"
    }
   ],
   "source": [
    "ne = harry.entity.restrict_to_indices([1,2,3,4])\n",
    "ne.arr.shape"
   ]
  },
  {
   "cell_type": "code",
   "execution_count": 108,
   "metadata": {},
   "outputs": [
    {
     "data": {
      "text/plain": [
       "[1, 2, 3, 4]"
      ]
     },
     "execution_count": 108,
     "metadata": {},
     "output_type": "execute_result"
    }
   ],
   "source": [
    "axes = list(np.arange(ne.dimsize))\n",
    "axes.remove(0)\n",
    "axes"
   ]
  },
  {
   "cell_type": "code",
   "execution_count": 109,
   "metadata": {},
   "outputs": [
    {
     "ename": "NameError",
     "evalue": "name 'newarr' is not defined",
     "output_type": "error",
     "traceback": [
      "\u001b[0;31m---------------------------------------------------------------------------\u001b[0m",
      "\u001b[0;31mNameError\u001b[0m                                 Traceback (most recent call last)",
      "\u001b[0;32m<ipython-input-109-0068b54f1db0>\u001b[0m in \u001b[0;36m<module>\u001b[0;34m\u001b[0m\n\u001b[1;32m      8\u001b[0m     \u001b[0mids\u001b[0m \u001b[0;34m=\u001b[0m \u001b[0mlist\u001b[0m\u001b[0;34m(\u001b[0m\u001b[0mrange\u001b[0m\u001b[0;34m(\u001b[0m\u001b[0mne\u001b[0m\u001b[0;34m.\u001b[0m\u001b[0mdimsize\u001b[0m\u001b[0;34m)\u001b[0m\u001b[0;34m)\u001b[0m\u001b[0;34m\u001b[0m\u001b[0;34m\u001b[0m\u001b[0m\n\u001b[1;32m      9\u001b[0m     \u001b[0mids\u001b[0m\u001b[0;34m.\u001b[0m\u001b[0mremove\u001b[0m\u001b[0;34m(\u001b[0m\u001b[0mlevel\u001b[0m\u001b[0;34m)\u001b[0m\u001b[0;34m\u001b[0m\u001b[0;34m\u001b[0m\u001b[0m\n\u001b[0;32m---> 10\u001b[0;31m     \u001b[0mkeepers\u001b[0m \u001b[0;34m=\u001b[0m \u001b[0mlist\u001b[0m\u001b[0;34m(\u001b[0m\u001b[0mnp\u001b[0m\u001b[0;34m.\u001b[0m\u001b[0msum\u001b[0m\u001b[0;34m(\u001b[0m\u001b[0mnewarr\u001b[0m\u001b[0;34m,\u001b[0m\u001b[0maxis\u001b[0m\u001b[0;34m=\u001b[0m\u001b[0mtuple\u001b[0m\u001b[0;34m(\u001b[0m\u001b[0mids\u001b[0m\u001b[0;34m)\u001b[0m\u001b[0;34m)\u001b[0m\u001b[0;34m.\u001b[0m\u001b[0mnonzero\u001b[0m\u001b[0;34m(\u001b[0m\u001b[0;34m)\u001b[0m\u001b[0;34m[\u001b[0m\u001b[0;36m0\u001b[0m\u001b[0;34m]\u001b[0m\u001b[0;34m)\u001b[0m\u001b[0;34m\u001b[0m\u001b[0;34m\u001b[0m\u001b[0m\n\u001b[0m\u001b[1;32m     11\u001b[0m     \u001b[0mne\u001b[0m \u001b[0;34m=\u001b[0m \u001b[0mne\u001b[0m\u001b[0;34m.\u001b[0m\u001b[0mrestrict_to_indices\u001b[0m\u001b[0;34m(\u001b[0m\u001b[0mkeepers\u001b[0m\u001b[0;34m,\u001b[0m\u001b[0mlevel\u001b[0m\u001b[0;34m=\u001b[0m\u001b[0mlevel\u001b[0m\u001b[0;34m)\u001b[0m\u001b[0;34m\u001b[0m\u001b[0;34m\u001b[0m\u001b[0m\n\u001b[1;32m     12\u001b[0m     \u001b[0mne\u001b[0m\u001b[0;34m.\u001b[0m\u001b[0m_uid\u001b[0m \u001b[0;34m=\u001b[0m \u001b[0muid\u001b[0m\u001b[0;34m\u001b[0m\u001b[0;34m\u001b[0m\u001b[0m\n",
      "\u001b[0;31mNameError\u001b[0m: name 'newarr' is not defined"
     ]
    }
   ],
   "source": [
    "\n",
    "level0 = 0\n",
    "ne = harry.entity.restrict_to_indices([1,2,3,4],level=level0)\n",
    "\n",
    "## get nonzero indices for level\n",
    "axes = list(np.arange(ne.dimsize))\n",
    "axes.remove(level0)\n",
    "for level in axes:\n",
    "    ids = list(range(ne.dimsize))\n",
    "    ids.remove(level)\n",
    "    keepers = list(np.sum(newarr,axis=tuple(ids)).nonzero()[0])\n",
    "    ne = ne.restrict_to_indices(keepers,level=level)\n",
    "    ne._uid = uid"
   ]
  },
  {
   "cell_type": "code",
   "execution_count": 110,
   "metadata": {},
   "outputs": [],
   "source": [
    "properties = {'a':1,'b':2}"
   ]
  },
  {
   "cell_type": "code",
   "execution_count": 111,
   "metadata": {},
   "outputs": [],
   "source": [
    "def p(**props):\n",
    "    return props"
   ]
  },
  {
   "cell_type": "code",
   "execution_count": 112,
   "metadata": {},
   "outputs": [
    {
     "data": {
      "text/plain": [
       "[('a', 1), ('b', 2)]"
      ]
     },
     "execution_count": 112,
     "metadata": {},
     "output_type": "execute_result"
    }
   ],
   "source": [
    "list(properties.items())"
   ]
  },
  {
   "cell_type": "code",
   "execution_count": 113,
   "metadata": {},
   "outputs": [
    {
     "data": {
      "text/plain": [
       "{'a': 1, 'b': 2}"
      ]
     },
     "execution_count": 113,
     "metadata": {},
     "output_type": "execute_result"
    }
   ],
   "source": [
    "p(**properties)"
   ]
  },
  {
   "cell_type": "code",
   "execution_count": null,
   "metadata": {},
   "outputs": [],
   "source": [
    "    def remove_empties(self, level_to_keep=0):\n",
    "        axes = list(np.arange(self.dimsize))\n",
    "        axes.remove(level_to_keep)\n",
    "        ne = self.__class__(self.arr, self.labels, self.uid, **self.properties)\n",
    "        for level in axes:\n",
    "            ids = list(range(ne.dimsize))\n",
    "            ids.remove(level)\n",
    "            keepers = list(np.sum(ne.arr,axis=tuple(ids)).nonzero()[0])\n",
    "            ne = ne.restrict_to_indices(keepers,level=level)\n",
    "        return ne"
   ]
  },
  {
   "cell_type": "code",
   "execution_count": 114,
   "metadata": {},
   "outputs": [],
   "source": [
    "self = harry.entity.restrict_to_indices([1,2,3,4],level=0)"
   ]
  },
  {
   "cell_type": "code",
   "execution_count": 115,
   "metadata": {},
   "outputs": [
    {
     "data": {
      "text/plain": [
       "(4, 11, 10, 36, 26)"
      ]
     },
     "execution_count": 115,
     "metadata": {},
     "output_type": "execute_result"
    }
   ],
   "source": [
    "self.dimensions"
   ]
  },
  {
   "cell_type": "code",
   "execution_count": 117,
   "metadata": {},
   "outputs": [
    {
     "data": {
      "text/plain": [
       "<module 'untitled_harrypotter' from '/Users/prag717/Documents/tdm/hnx/untitled/untitled_harrypotter.py'>"
      ]
     },
     "execution_count": 117,
     "metadata": {},
     "output_type": "execute_result"
    }
   ],
   "source": [
    "imp.reload(us)\n",
    "imp.reload(hp)"
   ]
  },
  {
   "cell_type": "code",
   "execution_count": null,
   "metadata": {},
   "outputs": [],
   "source": []
  },
  {
   "cell_type": "code",
   "execution_count": null,
   "metadata": {},
   "outputs": [],
   "source": []
  },
  {
   "cell_type": "code",
   "execution_count": null,
   "metadata": {},
   "outputs": [],
   "source": []
  },
  {
   "cell_type": "code",
   "execution_count": null,
   "metadata": {},
   "outputs": [],
   "source": []
  },
  {
   "cell_type": "code",
   "execution_count": null,
   "metadata": {},
   "outputs": [],
   "source": []
  },
  {
   "cell_type": "code",
   "execution_count": null,
   "metadata": {},
   "outputs": [],
   "source": []
  },
  {
   "cell_type": "code",
   "execution_count": null,
   "metadata": {},
   "outputs": [],
   "source": []
  },
  {
   "cell_type": "code",
   "execution_count": null,
   "metadata": {},
   "outputs": [],
   "source": []
  }
 ],
 "metadata": {
  "kernelspec": {
   "display_name": "Python 3",
   "language": "python",
   "name": "python3"
  },
  "language_info": {
   "codemirror_mode": {
    "name": "ipython",
    "version": 3
   },
   "file_extension": ".py",
   "mimetype": "text/x-python",
   "name": "python",
   "nbconvert_exporter": "python",
   "pygments_lexer": "ipython3",
   "version": "3.8.5"
  }
 },
 "nbformat": 4,
 "nbformat_minor": 4
}
