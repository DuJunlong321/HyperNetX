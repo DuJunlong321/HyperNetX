{
 "cells": [
  {
   "cell_type": "markdown",
   "metadata": {},
   "source": [
    "<img src='harry-potter-image.png' width='200px' style=\"float:left;margin-right:10pt\"></img>\n",
    "## Illustration of NWHypergraph <-> HyperNetX exchange using PyBind and Kaggle's HarryPotter dataset.\n",
    "\n",
    "In this tutorial we introduce `hypernetx.StaticEntity` and `hypernetx.StaticEntitySet` and the new `static=True` attribute in the `hypernetx.Hypergraph` class. We also use PyBind to communicate with a C++ function in PNNL's **NWHypergraph (NWHy)** library to illustrate our current work to optimize HyperNetX for large datasets.\n",
    "\n",
    "Harry Potter Data is available here: https://www.kaggle.com/gulsahdemiryurek/harry-potter-dataset.\n",
    "\n",
    "Python code for parsing the dataset is in `harrypotter.py` in this tutorial's directory."
   ]
  },
  {
   "cell_type": "code",
   "execution_count": 1,
   "metadata": {},
   "outputs": [],
   "source": [
    "import hypernetx as hnx\n",
    "import matplotlib.pyplot as plt\n",
    "from collections import OrderedDict, defaultdict\n",
    "import scipy\n",
    "from scipy.sparse import coo_matrix, csr_matrix, issparse\n",
    "import pandas as pd\n",
    "import numpy as np\n",
    "import itertools as it\n",
    "# import nwhy    ##### library loaded in this Docker container, not yet available for distribution\n",
    "import sys\n",
    "sys.path.append('/home/ubuntu/hypernetx/tutorials/')\n",
    "from harrypotter import HarryPotter"
   ]
  },
  {
   "cell_type": "code",
   "execution_count": null,
   "metadata": {},
   "outputs": [],
   "source": []
  },
  {
   "cell_type": "code",
   "execution_count": 2,
   "metadata": {},
   "outputs": [],
   "source": [
    "hogwarts = HarryPotter()"
   ]
  },
  {
   "cell_type": "markdown",
   "metadata": {},
   "source": [
    "### The Harry Potter Dataset:\n",
    "We have edited the dataset so that it has 5 categories and every cell is filled. Where a value is unknown, we marked it as \"Unknown *category_name*\". "
   ]
  },
  {
   "cell_type": "code",
   "execution_count": 3,
   "metadata": {},
   "outputs": [
    {
     "data": {
      "text/html": [
       "<div>\n",
       "<style scoped>\n",
       "    .dataframe tbody tr th:only-of-type {\n",
       "        vertical-align: middle;\n",
       "    }\n",
       "\n",
       "    .dataframe tbody tr th {\n",
       "        vertical-align: top;\n",
       "    }\n",
       "\n",
       "    .dataframe thead th {\n",
       "        text-align: right;\n",
       "    }\n",
       "</style>\n",
       "<table border=\"1\" class=\"dataframe\">\n",
       "  <thead>\n",
       "    <tr style=\"text-align: right;\">\n",
       "      <th></th>\n",
       "      <th>House</th>\n",
       "      <th>Blood status</th>\n",
       "      <th>Species</th>\n",
       "      <th>Hair colour</th>\n",
       "      <th>Eye colour</th>\n",
       "      <th>Name</th>\n",
       "    </tr>\n",
       "    <tr>\n",
       "      <th>Id</th>\n",
       "      <th></th>\n",
       "      <th></th>\n",
       "      <th></th>\n",
       "      <th></th>\n",
       "      <th></th>\n",
       "      <th></th>\n",
       "    </tr>\n",
       "  </thead>\n",
       "  <tbody>\n",
       "    <tr>\n",
       "      <th>1</th>\n",
       "      <td>Gryffindor</td>\n",
       "      <td>Half-blood</td>\n",
       "      <td>Human</td>\n",
       "      <td>Black</td>\n",
       "      <td>Bright green</td>\n",
       "      <td>Harry James Potter</td>\n",
       "    </tr>\n",
       "    <tr>\n",
       "      <th>2</th>\n",
       "      <td>Gryffindor</td>\n",
       "      <td>Pure-blood</td>\n",
       "      <td>Human</td>\n",
       "      <td>Red</td>\n",
       "      <td>Blue</td>\n",
       "      <td>Ronald Bilius Weasley</td>\n",
       "    </tr>\n",
       "    <tr>\n",
       "      <th>3</th>\n",
       "      <td>Gryffindor</td>\n",
       "      <td>Muggle-born</td>\n",
       "      <td>Human</td>\n",
       "      <td>Brown</td>\n",
       "      <td>Brown</td>\n",
       "      <td>Hermione Jean Granger</td>\n",
       "    </tr>\n",
       "    <tr>\n",
       "      <th>4</th>\n",
       "      <td>Gryffindor</td>\n",
       "      <td>Half-blood</td>\n",
       "      <td>Human</td>\n",
       "      <td>Silver| formerly auburn</td>\n",
       "      <td>Blue</td>\n",
       "      <td>Albus Percival Wulfric Brian Dumbledore</td>\n",
       "    </tr>\n",
       "    <tr>\n",
       "      <th>5</th>\n",
       "      <td>Gryffindor</td>\n",
       "      <td>Part-Human</td>\n",
       "      <td>Half-Human/Half-Giant</td>\n",
       "      <td>Black</td>\n",
       "      <td>Black</td>\n",
       "      <td>Rubeus Hagrid</td>\n",
       "    </tr>\n",
       "    <tr>\n",
       "      <th>...</th>\n",
       "      <td>...</td>\n",
       "      <td>...</td>\n",
       "      <td>...</td>\n",
       "      <td>...</td>\n",
       "      <td>...</td>\n",
       "      <td>...</td>\n",
       "    </tr>\n",
       "    <tr>\n",
       "      <th>136</th>\n",
       "      <td>Unknown House</td>\n",
       "      <td>Unknown Blood status</td>\n",
       "      <td>Human</td>\n",
       "      <td>Grey</td>\n",
       "      <td>Unknown Eye colour</td>\n",
       "      <td>Wilhelmina Grubbly-Plank</td>\n",
       "    </tr>\n",
       "    <tr>\n",
       "      <th>137</th>\n",
       "      <td>Unknown House</td>\n",
       "      <td>Unknown Blood status</td>\n",
       "      <td>Werewolf</td>\n",
       "      <td>Grey</td>\n",
       "      <td>Unknown Eye colour</td>\n",
       "      <td>Fenrir Greyback</td>\n",
       "    </tr>\n",
       "    <tr>\n",
       "      <th>138</th>\n",
       "      <td>Unknown House</td>\n",
       "      <td>Pure-blood or half-blood</td>\n",
       "      <td>Human</td>\n",
       "      <td>Blond</td>\n",
       "      <td>Blue</td>\n",
       "      <td>Gellert Grindelwald</td>\n",
       "    </tr>\n",
       "    <tr>\n",
       "      <th>139</th>\n",
       "      <td>Unknown House</td>\n",
       "      <td>Unknown Blood status</td>\n",
       "      <td>Elf</td>\n",
       "      <td>Unknown Hair colour</td>\n",
       "      <td>Unknown Eye colour</td>\n",
       "      <td>Dobby</td>\n",
       "    </tr>\n",
       "    <tr>\n",
       "      <th>140</th>\n",
       "      <td>Unknown House</td>\n",
       "      <td>Unknown Blood status</td>\n",
       "      <td>Unknown Species</td>\n",
       "      <td>Unknown Hair colour</td>\n",
       "      <td>Unknown Eye colour</td>\n",
       "      <td>Kreacher</td>\n",
       "    </tr>\n",
       "  </tbody>\n",
       "</table>\n",
       "<p>140 rows × 6 columns</p>\n",
       "</div>"
      ],
      "text/plain": [
       "             House              Blood status                Species  \\\n",
       "Id                                                                    \n",
       "1       Gryffindor                Half-blood                  Human   \n",
       "2       Gryffindor                Pure-blood                  Human   \n",
       "3       Gryffindor               Muggle-born                  Human   \n",
       "4       Gryffindor                Half-blood                  Human   \n",
       "5       Gryffindor                Part-Human  Half-Human/Half-Giant   \n",
       "..             ...                       ...                    ...   \n",
       "136  Unknown House      Unknown Blood status                  Human   \n",
       "137  Unknown House      Unknown Blood status               Werewolf   \n",
       "138  Unknown House  Pure-blood or half-blood                  Human   \n",
       "139  Unknown House      Unknown Blood status                    Elf   \n",
       "140  Unknown House      Unknown Blood status        Unknown Species   \n",
       "\n",
       "                 Hair colour          Eye colour  \\\n",
       "Id                                                 \n",
       "1                      Black        Bright green   \n",
       "2                        Red                Blue   \n",
       "3                      Brown               Brown   \n",
       "4    Silver| formerly auburn                Blue   \n",
       "5                      Black               Black   \n",
       "..                       ...                 ...   \n",
       "136                     Grey  Unknown Eye colour   \n",
       "137                     Grey  Unknown Eye colour   \n",
       "138                    Blond                Blue   \n",
       "139      Unknown Hair colour  Unknown Eye colour   \n",
       "140      Unknown Hair colour  Unknown Eye colour   \n",
       "\n",
       "                                        Name  \n",
       "Id                                            \n",
       "1                         Harry James Potter  \n",
       "2                      Ronald Bilius Weasley  \n",
       "3                      Hermione Jean Granger  \n",
       "4    Albus Percival Wulfric Brian Dumbledore  \n",
       "5                              Rubeus Hagrid  \n",
       "..                                       ...  \n",
       "136                 Wilhelmina Grubbly-Plank  \n",
       "137                          Fenrir Greyback  \n",
       "138                      Gellert Grindelwald  \n",
       "139                                    Dobby  \n",
       "140                                 Kreacher  \n",
       "\n",
       "[140 rows x 6 columns]"
      ]
     },
     "execution_count": 3,
     "metadata": {},
     "output_type": "execute_result"
    }
   ],
   "source": [
    "hogwarts.dataframe"
   ]
  },
  {
   "cell_type": "markdown",
   "metadata": {},
   "source": [
    "**We define a labeling based on the categories and store it in an OrderedDict.**   \n",
    "The ordering of labels is determined by their order of appearance in the table with the exception of Unknown labels, which are always listed first."
   ]
  },
  {
   "cell_type": "code",
   "execution_count": 4,
   "metadata": {
    "scrolled": true
   },
   "outputs": [
    {
     "data": {
      "text/plain": [
       "OrderedDict([('House',\n",
       "              array(['Unknown House', 'Gryffindor', 'Ravenclaw', 'Slytherin',\n",
       "                     'Hufflepuff', 'Beauxbatons Academy of Magic',\n",
       "                     'Durmstrang Institute'], dtype='<U28')),\n",
       "             ('Blood status',\n",
       "              array(['Unknown Blood status', 'Half-blood', 'Pure-blood', 'Muggle-born',\n",
       "                     'Part-Human', 'Pure-blood or half-blood', 'Part-Goblin',\n",
       "                     'Muggle-born or half-blood', 'Quarter-Veela', 'Muggle', 'Squib'],\n",
       "                    dtype='<U25')),\n",
       "             ('Species',\n",
       "              array(['Unknown Species', 'Human', 'Half-Human/Half-Giant', 'Werewolf',\n",
       "                     'Human (Werewolf traits)', 'Human(goblin ancestry)', 'Ghost',\n",
       "                     'Centaur', 'Human (Metamorphmagus)', 'Elf'], dtype='<U23')),\n",
       "             ('Hair colour',\n",
       "              array(['Unknown Hair colour', 'Black', 'Red', 'Brown',\n",
       "                     'Silver| formerly auburn', 'Blond', 'Sandy', 'Auburn',\n",
       "                     'Light brown flecked with grey', 'Colourless and balding', 'Dark',\n",
       "                     'Mousy', 'Dirty-blonde', 'White', 'Reddish-blonde', 'Blonde',\n",
       "                     'White-blond', 'Iron grey', 'Bald', 'Grey', 'White (balding)',\n",
       "                     'Straw blond', 'Variable', 'Red brown', 'Brown/greying',\n",
       "                     'Silver| formerly black', 'Tawny', 'Silver', 'Silvery-blonde',\n",
       "                     'Ginger', 'Straw-coloured', 'Red ', 'Reddish-brown', 'Mousy brown',\n",
       "                     'Jet-black', 'White blond'], dtype='<U29')),\n",
       "             ('Eye colour',\n",
       "              array(['Unknown Eye colour', 'Bright green', 'Blue', 'Brown', 'Black',\n",
       "                     'Bright brown', 'Hazel', 'Grey', 'Green', 'Dark', 'Pale silvery',\n",
       "                     'Silvery', 'Gooseberry', 'Scarlet ', 'Pale, freckled',\n",
       "                     'Astonishingly blue', 'Variable', 'One dark, one electric blue',\n",
       "                     'Yellowish', 'Ruddy', 'Grey/Blue', 'Dark blue', 'Bright Blue',\n",
       "                     'Dark Grey', 'Pale', 'Yellow'], dtype='<U27')),\n",
       "             ('Name',\n",
       "              array(['Unknown Name', 'Harry James Potter', 'Ronald Bilius Weasley',\n",
       "                     'Hermione Jean Granger', 'Albus Percival Wulfric Brian Dumbledore',\n",
       "                     'Rubeus Hagrid', 'Neville Longbottom', 'Fred Weasley',\n",
       "                     'George Weasley', 'Ginevra (Ginny) Molly Weasley', 'Dean Thomas',\n",
       "                     'Seamus Finnigan', 'Lily J. Potter', 'James Potter',\n",
       "                     'Sirius Black', 'Remus John Lupin', 'Peter Pettigrew',\n",
       "                     'Percy Ignatius Weasley', '(Bill) William Arthur Weasley',\n",
       "                     'Charles Weasley', 'Lee Jordan ', 'Oliver Wood',\n",
       "                     'Angelina Johnson', 'Katie Bell', 'Alicia Spinnet',\n",
       "                     'Lavender Brown', 'Parvati Patil', 'Romilda Vane', 'Colin Creevey',\n",
       "                     'Cormac McLaggen', 'Minerva McGonagall', 'Molly Weasley',\n",
       "                     'Arthur Weasley', 'Quirinus Quirrell', 'Cho Chang',\n",
       "                     'Luna Lovegood', 'Gilderoy Lockhart', 'Filius Flitwick',\n",
       "                     'Sybill Patricia Trelawney', 'Garrick Ollivander',\n",
       "                     'Myrtle Elizabeth Warren (Moaning Myrtle)', 'Padma Patil',\n",
       "                     'Michael Corner', 'Marietta Edgecombe', 'Terry Boot',\n",
       "                     'Anthony Goldstein', 'Severus Snape', 'Draco Malfoy',\n",
       "                     'Vincent Crabbe', 'Gregory Goyle', 'Bellatrix Lestrange',\n",
       "                     'Dolores Jane Umbridge', 'Horace Eugene Flaccus Slughorn',\n",
       "                     'Lucius Malfoy', 'Narcissa Malfoy', 'Regulus Arcturus Black',\n",
       "                     'Pansy Parkinson', 'Blaise Zabini', 'Tom Marvolo Riddle',\n",
       "                     'Theodore Nott', 'Rodolphus Lestrange', 'Millicent Bulstrode',\n",
       "                     'Graham Montague', 'Bloody Baron', 'Marcus Flint',\n",
       "                     'Penelope Clearwater', 'Roger Davies', 'Marcus Belby',\n",
       "                     'Salazar Slytherin', 'Godric Gryffindor', 'Rowena Ravenclaw',\n",
       "                     'Nicholas de Mimsy-Porpington', 'Cuthbert Binns',\n",
       "                     'Barty Crouch Jr.', 'Charity Burbage', 'Firenze', 'Alecto Carrow',\n",
       "                     'Amycus Carrow', 'Helga Hufflepuff', 'Fat Friar',\n",
       "                     'Helena Ravenclaw', 'Nymphadora Tonks', 'Pomona Sprout',\n",
       "                     'Newton Scamander', 'Cedric Diggory', 'Justin Finch-Fletchley',\n",
       "                     'Zacharias Smith', 'Hannah Abbott', 'Ernest Macmillan',\n",
       "                     'Susan Bones', 'Walden Macnair', 'Augustus Rookwood',\n",
       "                     'Antonin Dolohov', 'Corban Yaxley', 'Igor Karkaroff',\n",
       "                     'Kingsley Shacklebolt', 'Alastor Moody', 'Alice Longbottom',\n",
       "                     'Frank Longbottom', 'Rufus Scrimgeour', 'Cornelius Oswald Fudge',\n",
       "                     'Barty Crouch Sr.', 'Amos Diggory', 'Dedalus Diggle',\n",
       "                     'Elphias Doge', 'Fleur Isabelle Delacour', 'Aberforth Dumbledore',\n",
       "                     'Mundungus Fletcher', 'Sturgis Podmore', 'Hestia Jones',\n",
       "                     'Marlene McKinnon', 'Fabian Prewett', 'Gideon Prewett',\n",
       "                     'Emmeline Vance', 'Edgar Bones', 'Dorcas Meadowes',\n",
       "                     'Benjy Fenwick', 'Madame Olympe Maxime', 'Gabrielle Delacour',\n",
       "                     'Viktor Krum', 'Petunia Dursley', 'Vernon Dursley',\n",
       "                     'Dudley Dursley', 'Marge Dursley', 'Dennis Creevey',\n",
       "                     'Albus Severus Potter', 'Scorpius Hyperion Malfoy',\n",
       "                     'Edward Remus Lupin', 'James Sirius Potter',\n",
       "                     'Rose Granger-Weasley', 'Argus Filch', 'Poppy Pomfrey',\n",
       "                     'Rolanda Hooch', 'Irma Pince', 'Aurora Sinistra', 'Septima Vector',\n",
       "                     'Wilhelmina Grubbly-Plank', 'Fenrir Greyback',\n",
       "                     'Gellert Grindelwald', 'Dobby', 'Kreacher'], dtype='<U40'))])"
      ]
     },
     "execution_count": 4,
     "metadata": {},
     "output_type": "execute_result"
    }
   ],
   "source": [
    "hogwarts.labels"
   ]
  },
  {
   "cell_type": "markdown",
   "metadata": {},
   "source": [
    "**We next create a tensor with dimension equal to the number of categories and indexed by the labels.**  \n",
    "The tensor is a 0-1 boolean tensor. A 1 in entry $(x_0,x_1,x_2,x_3,x_4, x_5)$ indicates that there is a record in the data corresponding to:\n",
    "\n",
    "$\n",
    "\\text{'House':hogwarts.labels['House']}[x_0],\\text{'Blood Status':hogwarts.labels['Blood Status']}[x_1]\\text{...etc...}\n",
    "$\n",
    "\n",
    "The tensor may be stored as a list of its nonzero indices, or in a sparse format taking the transpose of that list, or as a `numpy.ndarray`."
   ]
  },
  {
   "cell_type": "code",
   "execution_count": 5,
   "metadata": {},
   "outputs": [
    {
     "data": {
      "text/plain": [
       "array([[ 1,  1,  1,  1,  1,  1],\n",
       "       [ 1,  2,  1,  2,  2,  2],\n",
       "       [ 1,  3,  1,  3,  3,  3],\n",
       "       [ 1,  1,  1,  4,  2,  4],\n",
       "       [ 1,  4,  2,  1,  4,  5],\n",
       "       [ 1,  2,  1,  5,  0,  6],\n",
       "       [ 1,  2,  1,  2,  3,  7],\n",
       "       [ 1,  2,  1,  2,  3,  8],\n",
       "       [ 1,  2,  1,  2,  5,  9],\n",
       "       [ 1,  3,  1,  1,  3, 10]])"
      ]
     },
     "execution_count": 5,
     "metadata": {},
     "output_type": "execute_result"
    }
   ],
   "source": [
    "## List of nonzero indices\n",
    "hogwarts.data[:10,:]"
   ]
  },
  {
   "cell_type": "code",
   "execution_count": 6,
   "metadata": {
    "scrolled": true
   },
   "outputs": [
    {
     "data": {
      "text/plain": [
       "array([[ 1,  1,  1,  1,  1,  1,  1,  1,  1,  1],\n",
       "       [ 1,  2,  3,  1,  4,  2,  2,  2,  2,  3],\n",
       "       [ 1,  1,  1,  1,  2,  1,  1,  1,  1,  1],\n",
       "       [ 1,  2,  3,  4,  1,  5,  2,  2,  2,  1],\n",
       "       [ 1,  2,  3,  2,  4,  0,  3,  3,  5,  3],\n",
       "       [ 1,  2,  3,  4,  5,  6,  7,  8,  9, 10]])"
      ]
     },
     "execution_count": 6,
     "metadata": {},
     "output_type": "execute_result"
    }
   ],
   "source": [
    "## sparse tensor format\n",
    "hogwarts.data.transpose()[:,:10]"
   ]
  },
  {
   "cell_type": "code",
   "execution_count": 7,
   "metadata": {},
   "outputs": [
    {
     "data": {
      "text/plain": [
       "(7, 11, 10, 36, 26, 141)"
      ]
     },
     "execution_count": 7,
     "metadata": {},
     "output_type": "execute_result"
    }
   ],
   "source": [
    "## numpy.ndarray - note this will not be the way we store the data for our eventual release. \n",
    "## Rather, we will use a sparse format as in the last cell.\n",
    "hogwarts.arr.shape"
   ]
  },
  {
   "cell_type": "markdown",
   "metadata": {},
   "source": [
    "### StaticEntity and StaticEntitySet\n",
    "\n",
    "The entire dataset has now been represented using an array and a dictionary associating positions in the array with values in the data.\n",
    "\n",
    "The basic object in HyperNetX, which holds an array and label dictionary, is a `StaticEntity`.\n",
    "\n",
    "Each dimension of the array, is considered a \"level\" in the StaticEntity. A level's order corresponds to its position in the datatable. In terms of the original Entity structure in HyperNetX, levels reference an order of containment. Elements of the the 2nd level belong to elements in the 1st column and so on.  The order of levels is given by the order of keys in the labels:"
   ]
  },
  {
   "cell_type": "code",
   "execution_count": 8,
   "metadata": {},
   "outputs": [
    {
     "data": {
      "text/plain": [
       "array(['House', 'Blood status', 'Species', 'Hair colour', 'Eye colour',\n",
       "       'Name'], dtype='<U12')"
      ]
     },
     "execution_count": 8,
     "metadata": {},
     "output_type": "execute_result"
    }
   ],
   "source": [
    "E = hnx.StaticEntity(arr = hogwarts.arr, labels = hogwarts.labels)\n",
    "E.keys"
   ]
  },
  {
   "cell_type": "markdown",
   "metadata": {},
   "source": [
    "**Using the same nomenclature as `hypernetx.Entity`, the elements of a StaticEntity refer to the first level and its children refer to the second level.**"
   ]
  },
  {
   "cell_type": "code",
   "execution_count": 9,
   "metadata": {},
   "outputs": [
    {
     "data": {
      "text/plain": [
       "(OrderedDict([('Unknown House',\n",
       "               ['Unknown Blood status',\n",
       "                'Half-blood',\n",
       "                'Pure-blood',\n",
       "                'Part-Human']),\n",
       "              ('Gryffindor',\n",
       "               ['Unknown Blood status',\n",
       "                'Half-blood',\n",
       "                'Pure-blood',\n",
       "                'Muggle-born',\n",
       "                'Part-Human']),\n",
       "              ('Ravenclaw',\n",
       "               ['Unknown Blood status',\n",
       "                'Half-blood',\n",
       "                'Muggle-born',\n",
       "                'Part-Human']),\n",
       "              ('Slytherin', ['Half-blood', 'Pure-blood', 'Part-Human']),\n",
       "              ('Hufflepuff', ['Half-blood', 'Pure-blood or half-blood']),\n",
       "              ('Beauxbatons Academy of Magic',\n",
       "               ['Unknown Blood status',\n",
       "                'Half-blood',\n",
       "                'Pure-blood',\n",
       "                'Muggle-born',\n",
       "                'Part-Human',\n",
       "                'Part-Goblin']),\n",
       "              ('Durmstrang Institute', ['Pure-blood'])]),\n",
       " {'Half-blood',\n",
       "  'Muggle',\n",
       "  'Muggle-born',\n",
       "  'Muggle-born or half-blood',\n",
       "  'Part-Goblin',\n",
       "  'Part-Human',\n",
       "  'Pure-blood',\n",
       "  'Pure-blood or half-blood',\n",
       "  'Quarter-Veela',\n",
       "  'Squib',\n",
       "  'Unknown Blood status'})"
      ]
     },
     "execution_count": 9,
     "metadata": {},
     "output_type": "execute_result"
    }
   ],
   "source": [
    "E = hnx.StaticEntity(arr=hogwarts.arr, labels=hogwarts.labels)\n",
    "E.elements,E.children"
   ]
  },
  {
   "cell_type": "markdown",
   "metadata": {},
   "source": [
    "**Levels can be reordered and any pair of columns may be organized to be elements and children.**"
   ]
  },
  {
   "cell_type": "code",
   "execution_count": 10,
   "metadata": {},
   "outputs": [
    {
     "data": {
      "text/plain": [
       "OrderedDict([('Unknown Species',\n",
       "              ['Unknown Hair colour',\n",
       "               'Black',\n",
       "               'Red',\n",
       "               'Silver| formerly auburn']),\n",
       "             ('Human',\n",
       "              ['Unknown Hair colour',\n",
       "               'Black',\n",
       "               'Red',\n",
       "               'Brown',\n",
       "               'Silver| formerly auburn']),\n",
       "             ('Half-Human/Half-Giant',\n",
       "              ['Unknown Hair colour',\n",
       "               'Black',\n",
       "               'Brown',\n",
       "               'Silver| formerly auburn']),\n",
       "             ('Werewolf', ['Black', 'Red', 'Silver| formerly auburn']),\n",
       "             ('Human (Werewolf traits)', ['Black', 'Blond']),\n",
       "             ('Human(goblin ancestry)',\n",
       "              ['Unknown Hair colour',\n",
       "               'Black',\n",
       "               'Red',\n",
       "               'Brown',\n",
       "               'Silver| formerly auburn',\n",
       "               'Sandy']),\n",
       "             ('Ghost', ['Red']),\n",
       "             ('Centaur', ['Red']),\n",
       "             ('Human (Metamorphmagus)', ['Blond']),\n",
       "             ('Elf', ['Unknown Hair colour'])])"
      ]
     },
     "execution_count": 10,
     "metadata": {},
     "output_type": "execute_result"
    }
   ],
   "source": [
    "E.elements_by_level(level1=2,level2=3,translate=True)"
   ]
  },
  {
   "cell_type": "code",
   "execution_count": 11,
   "metadata": {},
   "outputs": [
    {
     "data": {
      "text/plain": [
       "OrderedDict([('Species',\n",
       "              array(['Unknown Species', 'Human', 'Half-Human/Half-Giant', 'Werewolf',\n",
       "                     'Human (Werewolf traits)', 'Human(goblin ancestry)', 'Ghost',\n",
       "                     'Centaur', 'Human (Metamorphmagus)', 'Elf'], dtype='<U23')),\n",
       "             ('Hair colour',\n",
       "              array(['Unknown Hair colour', 'Black', 'Red', 'Brown',\n",
       "                     'Silver| formerly auburn', 'Blond', 'Sandy', 'Auburn',\n",
       "                     'Light brown flecked with grey', 'Colourless and balding', 'Dark',\n",
       "                     'Mousy', 'Dirty-blonde', 'White', 'Reddish-blonde', 'Blonde',\n",
       "                     'White-blond', 'Iron grey', 'Bald', 'Grey', 'White (balding)',\n",
       "                     'Straw blond', 'Variable', 'Red brown', 'Brown/greying',\n",
       "                     'Silver| formerly black', 'Tawny', 'Silver', 'Silvery-blonde',\n",
       "                     'Ginger', 'Straw-coloured', 'Red ', 'Reddish-brown', 'Mousy brown',\n",
       "                     'Jet-black', 'White blond'], dtype='<U29')),\n",
       "             ('Blood status',\n",
       "              array(['Unknown Blood status', 'Half-blood', 'Pure-blood', 'Muggle-born',\n",
       "                     'Part-Human', 'Pure-blood or half-blood', 'Part-Goblin',\n",
       "                     'Muggle-born or half-blood', 'Quarter-Veela', 'Muggle', 'Squib'],\n",
       "                    dtype='<U25'))])"
      ]
     },
     "execution_count": 11,
     "metadata": {},
     "output_type": "execute_result"
    }
   ],
   "source": [
    "F = E.restrict_to_levels([2,3,1]) ## This generates a new StaticEntity\n",
    "F.labels"
   ]
  },
  {
   "cell_type": "code",
   "execution_count": 12,
   "metadata": {},
   "outputs": [
    {
     "data": {
      "text/plain": [
       "OrderedDict([('Unknown Species',\n",
       "              ['Unknown Hair colour',\n",
       "               'Black',\n",
       "               'Sandy',\n",
       "               'Colourless and balding']),\n",
       "             ('Human', ['Black', 'Red', 'Sandy']),\n",
       "             ('Half-Human/Half-Giant', ['Black', 'Silver| formerly auburn']),\n",
       "             ('Werewolf', ['Black', 'Red', 'Sandy']),\n",
       "             ('Human (Werewolf traits)', ['Black']),\n",
       "             ('Human(goblin ancestry)', ['Black']),\n",
       "             ('Ghost', ['Black']),\n",
       "             ('Centaur', ['Black']),\n",
       "             ('Human (Metamorphmagus)', ['Brown']),\n",
       "             ('Elf', ['Black'])])"
      ]
     },
     "execution_count": 12,
     "metadata": {},
     "output_type": "execute_result"
    }
   ],
   "source": [
    "F.elements"
   ]
  },
  {
   "cell_type": "markdown",
   "metadata": {},
   "source": [
    "### A StaticEntitySet is a StaticEntity restricted to two levels. \n",
    "By default, a StaticEntity will grab the 1st two dimensions of the of the array and first two keys of the labels, but any pair of levels may be specified. "
   ]
  },
  {
   "cell_type": "code",
   "execution_count": 13,
   "metadata": {},
   "outputs": [],
   "source": [
    "ES = hnx.StaticEntitySet(arr=hogwarts.arr, labels=hogwarts.labels, level1=0, level2=1)"
   ]
  },
  {
   "cell_type": "code",
   "execution_count": 14,
   "metadata": {},
   "outputs": [
    {
     "data": {
      "text/plain": [
       "OrderedDict([('House',\n",
       "              array(['Unknown House', 'Gryffindor', 'Ravenclaw', 'Slytherin',\n",
       "                     'Hufflepuff', 'Beauxbatons Academy of Magic',\n",
       "                     'Durmstrang Institute'], dtype='<U28')),\n",
       "             ('Blood status',\n",
       "              array(['Unknown Blood status', 'Half-blood', 'Pure-blood', 'Muggle-born',\n",
       "                     'Part-Human', 'Pure-blood or half-blood', 'Part-Goblin',\n",
       "                     'Muggle-born or half-blood', 'Quarter-Veela', 'Muggle', 'Squib'],\n",
       "                    dtype='<U25'))])"
      ]
     },
     "execution_count": 14,
     "metadata": {},
     "output_type": "execute_result"
    }
   ],
   "source": [
    "ES.labels"
   ]
  },
  {
   "cell_type": "markdown",
   "metadata": {},
   "source": [
    "## Static Hypergraph\n",
    "A static hypergraph is one where all nodes and edges are known at the time of construction. This permits an internal ordering and uid structure for easy reference and faster computation of metrics.\n",
    "\n",
    "The nodes and edges of a static Hypergraph are stored using the StaticEntitySet structure. \n",
    "\n",
    "A static Hypergraph may be instantiated by adding the keyword argument `static=True`. Hypergraphs have `static=False` by default. A static Hypergraph may be created with a set system of the form:\n",
    "1. *dict* with static=True \n",
    "2. *iterable of iterables* with static=True, \n",
    "3. `hypernetx.EntitySet` with static=True\n",
    "4. `hypernetx.StaticEntity` (static is automatically set to True),\n",
    "5. `hypernetx.StaticEntitySet` (static is automatically set to True).\n"
   ]
  },
  {
   "cell_type": "code",
   "execution_count": 15,
   "metadata": {
    "scrolled": false
   },
   "outputs": [
    {
     "data": {
      "text/plain": [
       "(OrderedDict([('Unknown House',\n",
       "               ['Unknown Blood status',\n",
       "                'Half-blood',\n",
       "                'Pure-blood',\n",
       "                'Part-Human']),\n",
       "              ('Gryffindor',\n",
       "               ['Unknown Blood status',\n",
       "                'Half-blood',\n",
       "                'Pure-blood',\n",
       "                'Muggle-born',\n",
       "                'Part-Human']),\n",
       "              ('Ravenclaw',\n",
       "               ['Unknown Blood status',\n",
       "                'Half-blood',\n",
       "                'Muggle-born',\n",
       "                'Part-Human']),\n",
       "              ('Slytherin', ['Half-blood', 'Pure-blood', 'Part-Human']),\n",
       "              ('Hufflepuff', ['Half-blood', 'Pure-blood or half-blood']),\n",
       "              ('Beauxbatons Academy of Magic',\n",
       "               ['Unknown Blood status',\n",
       "                'Half-blood',\n",
       "                'Pure-blood',\n",
       "                'Muggle-born',\n",
       "                'Part-Human',\n",
       "                'Part-Goblin']),\n",
       "              ('Durmstrang Institute', ['Pure-blood'])]),\n",
       " array(['level1', 'level2'], dtype='<U6'),\n",
       " True,\n",
       " StaticEntitySet(None,['Unknown Blood status', 'Half-blood', 'Pure-blood', 'Part-Human', 'Muggle-born', 'Pure-blood or half-blood', 'Part-Goblin'],{}),\n",
       " StaticEntitySet(None,['Unknown House', 'Gryffindor', 'Ravenclaw', 'Slytherin', 'Hufflepuff', 'Beauxbatons Academy of Magic', 'Durmstrang Institute'],{}))"
      ]
     },
     "execution_count": 15,
     "metadata": {},
     "output_type": "execute_result"
    }
   ],
   "source": [
    "## example, instantiate from a dictionary\n",
    "d = E.elements\n",
    "Hdict = hnx.Hypergraph(d,static=True)\n",
    "\n",
    "d,Hdict.edges.keys,Hdict.isstatic,Hdict.nodes,Hdict.edges"
   ]
  },
  {
   "cell_type": "code",
   "execution_count": 16,
   "metadata": {},
   "outputs": [
    {
     "data": {
      "text/plain": [
       "(array(['House', 'Blood status'], dtype='<U12'),\n",
       " True,\n",
       " StaticEntitySet(None,['Unknown Blood status', 'Half-blood', 'Pure-blood', 'Muggle-born', 'Part-Human', 'Pure-blood or half-blood', 'Part-Goblin', 'Muggle-born or half-blood', 'Quarter-Veela', 'Muggle', 'Squib'],{}),\n",
       " StaticEntitySet(None,['Unknown House', 'Gryffindor', 'Ravenclaw', 'Slytherin', 'Hufflepuff', 'Beauxbatons Academy of Magic', 'Durmstrang Institute'],{}))"
      ]
     },
     "execution_count": 16,
     "metadata": {},
     "output_type": "execute_result"
    }
   ],
   "source": [
    "## example, instantiate from an Entity\n",
    "H = hnx.Hypergraph(E)\n",
    "\n",
    "H.edges.keys,H.isstatic,H.nodes,H.edges"
   ]
  },
  {
   "cell_type": "markdown",
   "metadata": {},
   "source": [
    "**Restrict to specific edges and nodes as before**"
   ]
  },
  {
   "cell_type": "code",
   "execution_count": 17,
   "metadata": {},
   "outputs": [
    {
     "data": {
      "text/plain": [
       "StaticEntitySet(None,['Gryffindor', 'Ravenclaw', 'Slytherin', 'Hufflepuff'],{})"
      ]
     },
     "execution_count": 17,
     "metadata": {},
     "output_type": "execute_result"
    }
   ],
   "source": [
    "H = H.restrict_to_edges(['Gryffindor','Ravenclaw','Slytherin','Hufflepuff'])\n",
    "H.edges"
   ]
  },
  {
   "cell_type": "markdown",
   "metadata": {},
   "source": [
    "**A Hypergraph with static=True may be converted to a static=False hypergraph if dynamic properties or visualizations are needed.**  \n",
    "(Similarly any hypergraph may be converted to a static hypergraph using its incidence_dict.)"
   ]
  },
  {
   "cell_type": "code",
   "execution_count": 18,
   "metadata": {
    "scrolled": true
   },
   "outputs": [
    {
     "data": {
      "image/png": "[encoded data removed]",
      "text/plain": [
       "<Figure size 576x576 with 1 Axes>"
      ]
     },
     "metadata": {
      "needs_background": "light"
     },
     "output_type": "display_data"
    }
   ],
   "source": [
    "Hd = H.remove_static()\n",
    "hnx.draw(Hd)"
   ]
  },
  {
   "cell_type": "markdown",
   "metadata": {},
   "source": [
    "## NWHypergraph (NWHy) has fast methods to apply to Hypergraphs stored as sparse arrays"
   ]
  },
  {
   "cell_type": "markdown",
   "metadata": {},
   "source": [
    "### All s-metric calculations in HNX use an s-line graph representation of the Hypergraph\n",
    "For each integer s>0, a hypergraph generates a unique s-line graph. The vertices in the line graph correspond to hypergraph edges. There exists a line graph edge between two line graph vertices if the hypergraph edges they represent intersect in at least s nodes in the hypergraph.\n",
    "\n",
    "Because this line graph representation is so important for all s-metrics, our proof of concept demonstration has NWHy calculating the s-line graphs of hypergraphs passed from their python representation.\n",
    "\n",
    "**The nwhy.convert_to_s_overlap returns the adjacency matrix and index corresponding to the s-line graph.**"
   ]
  },
  {
   "cell_type": "code",
   "execution_count": 19,
   "metadata": {
    "scrolled": true
   },
   "outputs": [
    {
     "data": {
      "text/plain": [
       "<8x4 sparse matrix of type '<class 'numpy.int64'>'\n",
       "\twith 20 stored elements in Compressed Sparse Row format>"
      ]
     },
     "execution_count": 19,
     "metadata": {},
     "output_type": "execute_result"
    }
   ],
   "source": [
    "H.incidence_matrix()  ## the edge data for H is stored in the array associated with its edges, a StaticEntitySet"
   ]
  },
  {
   "cell_type": "code",
   "execution_count": 20,
   "metadata": {},
   "outputs": [
    {
     "data": {
      "text/plain": [
       "OrderedDict([('Gryffindor',\n",
       "              ['Unknown Blood status',\n",
       "               'Half-blood',\n",
       "               'Pure-blood',\n",
       "               'Muggle-born',\n",
       "               'Part-Human',\n",
       "               'Pure-blood or half-blood']),\n",
       "             ('Ravenclaw',\n",
       "              ['Unknown Blood status',\n",
       "               'Half-blood',\n",
       "               'Muggle-born',\n",
       "               'Pure-blood or half-blood',\n",
       "               'Part-Goblin',\n",
       "               'Muggle-born or half-blood']),\n",
       "             ('Slytherin',\n",
       "              ['Half-blood', 'Pure-blood', 'Pure-blood or half-blood']),\n",
       "             ('Hufflepuff',\n",
       "              ['Unknown Blood status',\n",
       "               'Half-blood',\n",
       "               'Pure-blood',\n",
       "               'Muggle-born',\n",
       "               'Pure-blood or half-blood'])])"
      ]
     },
     "execution_count": 20,
     "metadata": {},
     "output_type": "execute_result"
    }
   ],
   "source": [
    "H.edges.elements"
   ]
  },
  {
   "cell_type": "markdown",
   "metadata": {},
   "source": [
    "**HNX exchanges matrices with NWHypergraph using the sparse format of three arrays: row_indices, column_indices, data**"
   ]
  },
  {
   "cell_type": "code",
   "execution_count": 21,
   "metadata": {},
   "outputs": [
    {
     "data": {
      "text/plain": [
       "(array([0, 1, 3, 0, 1, 2, 3, 0, 2, 3, 0, 1, 3, 0, 0, 1, 2, 3, 1, 1],\n",
       "       dtype=int32),\n",
       " array([0, 0, 0, 1, 1, 1, 1, 2, 2, 2, 3, 3, 3, 4, 5, 5, 5, 5, 6, 7],\n",
       "       dtype=int32),\n",
       " array([1, 1, 1, 1, 1, 1, 1, 1, 1, 1, 1, 1, 1, 1, 1, 1, 1, 1, 1, 1]))"
      ]
     },
     "execution_count": 21,
     "metadata": {},
     "output_type": "execute_result"
    }
   ],
   "source": [
    "hpcoo = coo_matrix(H.incidence_matrix().transpose())\n",
    "hpcoo.row,hpcoo.col,hpcoo.data"
   ]
  },
  {
   "cell_type": "code",
   "execution_count": 22,
   "metadata": {},
   "outputs": [
    {
     "data": {
      "text/plain": [
       "(matrix([[1, 1, 1, 1, 1, 1, 0, 0],\n",
       "         [1, 1, 0, 1, 0, 1, 1, 1],\n",
       "         [0, 1, 1, 0, 0, 1, 0, 0],\n",
       "         [1, 1, 1, 1, 0, 1, 0, 0]]),\n",
       " {0: 'Unknown Blood status',\n",
       "  1: 'Half-blood',\n",
       "  2: 'Pure-blood',\n",
       "  3: 'Muggle-born',\n",
       "  4: 'Part-Human',\n",
       "  5: 'Pure-blood or half-blood',\n",
       "  6: 'Part-Goblin',\n",
       "  7: 'Muggle-born or half-blood'},\n",
       " {0: 'Gryffindor', 1: 'Ravenclaw', 2: 'Slytherin', 3: 'Hufflepuff'})"
      ]
     },
     "execution_count": 22,
     "metadata": {},
     "output_type": "execute_result"
    }
   ],
   "source": [
    "mat = H.incidence_matrix(index=True)\n",
    "mat[0].transpose().todense(),mat[1],mat[2]"
   ]
  },
  {
   "cell_type": "code",
   "execution_count": 23,
   "metadata": {},
   "outputs": [
    {
     "data": {
      "text/plain": [
       "matrix([[0, 4, 3, 5],\n",
       "        [4, 0, 2, 4],\n",
       "        [3, 2, 0, 3],\n",
       "        [5, 4, 3, 0]])"
      ]
     },
     "execution_count": 23,
     "metadata": {},
     "output_type": "execute_result"
    }
   ],
   "source": [
    "H.edge_adjacency_matrix(s=2).todense()"
   ]
  },
  {
   "cell_type": "markdown",
   "metadata": {},
   "source": [
    "**We retrieve the s line graph for multiple values of s and return the s-metrics**\n",
    "\n",
    "The newrow,newcol,newdata are indices generated by NWHy to reference the edges in H.   \n",
    "These provide coordinate for the upper triangular portion of the s-adjacency matrix.  \n",
    "\n",
    "The oldrow,oldcol,olddata return a mapping of these indices to the same ones used by HNX."
   ]
  },
  {
   "cell_type": "raw",
   "metadata": {},
   "source": [
    "## Call nwhy to retrieve the s-adjacent pairs of edges:\n",
    "newrow, newcol, newdata, oldrow, oldcol, olddata = nwhy.convert_to_s_overlap(hpcoo.row, hpcoo.col, hpcoo.data, s = 2)\n",
    "\n",
    "## Turn this information into an s-adjacency matrix\n",
    "xcoords = np.concatenate([oldrow,oldcol])\n",
    "ycoords = np.concatenate([oldcol,oldrow])\n",
    "nwhy_matrix = csr_matrix((np.ones(len(xcoords),dtype=int),(xcoords,ycoords))).todense()\n",
    "\n",
    "## Verify this matches the HNX generated s-edge adjacency matrix\n",
    "hnx_matrix = H.edge_adjacency_matrix(s=2,weighted=False).todense()\n",
    "\n",
    "print(nwhy_matrix);print(hnx_matrix)"
   ]
  },
  {
   "cell_type": "raw",
   "metadata": {},
   "source": [
    "[[0 1 1 1]\n",
    " [1 0 1 1]\n",
    " [1 1 0 1]\n",
    " [1 1 1 0]]\n",
    "[[0 1 1 1]\n",
    " [1 0 1 1]\n",
    " [1 1 0 1]\n",
    " [1 1 1 0]]"
   ]
  },
  {
   "cell_type": "raw",
   "metadata": {},
   "source": [
    "## repeat for multiple values of s:\n",
    "def comparison(s):\n",
    "    newrow, newcol, newdata, oldrow, oldcol, olddata = nwhy.convert_to_s_overlap(hpcoo.row, hpcoo.col, hpcoo.data, s = s)\n",
    "\n",
    "    ## Turn this information into an s-adjacency matrix\n",
    "    xcoords = np.concatenate([oldrow,oldcol])\n",
    "    ycoords = np.concatenate([oldcol,oldrow])\n",
    "    nwhy_matrix = csr_matrix((np.ones(len(xcoords),dtype=int),(xcoords,ycoords))).todense()\n",
    "\n",
    "    ## Verify this matches the HNX generated s-edge adjacency matrix\n",
    "    hnx_matrix = H.edge_adjacency_matrix(s=s,weighted=False).todense()\n",
    "\n",
    "    print(nwhy_matrix);print(hnx_matrix)\n",
    "\n",
    "for s in range(3,6):\n",
    "    comparison(s)\n",
    "    print()"
   ]
  },
  {
   "cell_type": "raw",
   "metadata": {},
   "source": [
    "[[0 1 1 1]\n",
    " [1 0 0 1]\n",
    " [1 0 0 1]\n",
    " [1 1 1 0]]\n",
    "[[0 1 1 1]\n",
    " [1 0 0 1]\n",
    " [1 0 0 1]\n",
    " [1 1 1 0]]\n",
    "\n",
    "[[0 1 0 1]\n",
    " [1 0 0 1]\n",
    " [0 0 0 0]\n",
    " [1 1 0 0]]\n",
    "[[0 1 0 1]\n",
    " [1 0 0 1]\n",
    " [0 0 0 0]\n",
    " [1 1 0 0]]\n",
    "\n",
    "[[0 0 0 1]\n",
    " [0 0 0 0]\n",
    " [0 0 0 0]\n",
    " [1 0 0 0]]\n",
    "[[0 0 0 1]\n",
    " [0 0 0 0]\n",
    " [0 0 0 0]\n",
    " [1 0 0 0]]"
   ]
  },
  {
   "cell_type": "markdown",
   "metadata": {},
   "source": [
    "## Looking ahead:\n",
    "\n",
    "Once NWHy has stored the s-graph adjacency matrix, all of the s-metrics we currently compute using Python libraries, may now be computed using the NWGraph and NWHypergraph libraries. This will permit us to continue using the HNX Python interface but optimized for large datasets."
   ]
  },
  {
   "cell_type": "code",
   "execution_count": null,
   "metadata": {},
   "outputs": [],
   "source": []
  }
 ],
 "metadata": {
  "kernelspec": {
   "display_name": "Python 3",
   "language": "python",
   "name": "python3"
  },
  "language_info": {
   "codemirror_mode": {
    "name": "ipython",
    "version": 3
   },
   "file_extension": ".py",
   "mimetype": "text/x-python",
   "name": "python",
   "nbconvert_exporter": "python",
   "pygments_lexer": "ipython3",
   "version": "3.8.5"
  }
 },
 "nbformat": 4,
 "nbformat_minor": 2
}
