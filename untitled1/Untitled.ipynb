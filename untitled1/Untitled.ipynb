{
 "cells": [
  {
   "cell_type": "code",
   "execution_count": 1,
   "metadata": {},
   "outputs": [],
   "source": [
    "from hypernetx import *\n",
    "import matplotlib.pyplot as plt\n",
    "from collections import OrderedDict, defaultdict\n",
    "import scipy\n",
    "from scipy.sparse import coo_matrix, issparse\n",
    "import pandas as pd\n",
    "import numpy as np\n",
    "import itertools as it\n",
    "import importlib as imp\n",
    "import untitled_StaticEntity as us\n",
    "\n",
    "\n",
    "class HarryPotter(object):\n",
    "\n",
    "    def __init__(self):\n",
    "\n",
    "        # Read dataset in using pandas. Fix index column or use default pandas index.\n",
    "        harrydata = pd.read_csv('HarryPotter/datasets/Characters_edit.csv', encoding='unicode_escape').set_index('Id')\n",
    "        self.harrydata = pd.DataFrame(harrydata)\n",
    "\n",
    "        # Choose string to fill NaN. These will be set to 0 in system id = sid\n",
    "        harry = harrydata[['House', 'Blood status', 'Species', 'Hair colour', 'Eye colour']].fillna(\"Unknown\")\n",
    "        for c in harry.columns:\n",
    "            harry[c] = harry[c].apply(lambda x: x.replace('\\xa0', ' ')).apply(lambda x: x.replace('Unknown', f'Unknown {c}'))\n",
    "        self.dataframe = harry\n",
    "\n",
    "        # Generate a counter for each column\n",
    "        # - Assign a sid to each value in that column\n",
    "        # - Create a reverse counter to grab name from sid\n",
    "\n",
    "        # **Questions for Tony and Cliff**\n",
    "        # - how should we index the objects?\n",
    "        # - sids are whole numbers starting with column 0 and running through each column\n",
    "        # - ldict and rdict are indexed starting with 0 representing missing values\n",
    "        # - would we lose anything if we indexed these as -1 for missing values and then\n",
    "        # compute the incidence matrix using only nonnegative indices?\n",
    "\n",
    "        ctr = [HNXCount() for c in range(5)]\n",
    "        ldict = OrderedDict()\n",
    "        rdict = OrderedDict()\n",
    "        for idx, c in enumerate(harry.columns):\n",
    "            ldict[c] = defaultdict(ctr[idx])\n",
    "            rdict[c] = OrderedDict()\n",
    "            ldict[c][f'Unknown {c}']\n",
    "            rdict[c][0] = f'Unknown {c}'\n",
    "            for k in harry[c]:\n",
    "                ldict[c][k]\n",
    "                rdict[c][ldict[c][k]] = k\n",
    "            ldict[c] = dict(ldict[c])\n",
    "        self.dims = dims = tuple([len(ldict[c]) for c in harry.columns])\n",
    "\n",
    "        # ### Create an array of tuples giving positions of 1's in incidence Tensor\n",
    "        # - The tuples indicate one point across the possible node/edge assignments\n",
    "        # - The dimensions of the tuple give the number of unique labels in potential nodes/columns\n",
    "\n",
    "        m = len(harry)\n",
    "        n = len(harry.columns)\n",
    "        data = np.zeros((m, n), dtype=int)\n",
    "        for rid in range(m):\n",
    "            for cid in range(n):\n",
    "                c = harry.columns[cid]\n",
    "                data[rid, cid] = ldict[c][harry.iloc[rid][c]]\n",
    "\n",
    "        self.data = data\n",
    "        # Create incidence Tensor and labels\n",
    "        imat = np.zeros(dims, dtype=int)\n",
    "        for d in data:\n",
    "            imat[tuple(d)] += 1\n",
    "        self.imat = imat\n",
    "        self.coo = coo_matrix(np.sum(imat, axis=(2, 3, 4)))\n",
    "\n",
    "        slabels = OrderedDict()\n",
    "        for cdx, c in enumerate(harry.columns):\n",
    "            slabels.update({c: np.array(list(ldict[c].keys()))})\n",
    "        self.labels = slabels\n",
    "\n",
    "        self.entity = us.StaticEntity(imat, slabels)\n",
    "        self.entityset = us.StaticEntitySet(imat, slabels, 0, 1)\n",
    "        self.sparseentity = us.StaticEntitySet(self.coo, slabels, 0, 1)\n"
   ]
  },
  {
   "cell_type": "code",
   "execution_count": 2,
   "metadata": {},
   "outputs": [],
   "source": [
    "harry = HarryPotter()"
   ]
  },
  {
   "cell_type": "code",
   "execution_count": 4,
   "metadata": {},
   "outputs": [
    {
     "data": {
      "text/plain": [
       "140"
      ]
     },
     "execution_count": 4,
     "metadata": {},
     "output_type": "execute_result"
    }
   ],
   "source": [
    "len(harry.data)"
   ]
  },
  {
   "cell_type": "code",
   "execution_count": 14,
   "metadata": {},
   "outputs": [],
   "source": [
    "ctrs = defaultdict(hnx.HNXCount)\n",
    "datadict = OrderedDict()\n",
    "for row in harry.data:\n",
    "    nrow = tuple(row)\n",
    "    datadict[nrow] = ctrs[nrow]()+1\n",
    "    "
   ]
  },
  {
   "cell_type": "code",
   "execution_count": 16,
   "metadata": {},
   "outputs": [
    {
     "data": {
      "text/plain": [
       "126"
      ]
     },
     "execution_count": 16,
     "metadata": {},
     "output_type": "execute_result"
    }
   ],
   "source": [
    "len(datadict)"
   ]
  },
  {
   "cell_type": "code",
   "execution_count": 19,
   "metadata": {},
   "outputs": [
    {
     "name": "stdout",
     "output_type": "stream",
     "text": [
      "[7, 11, 10, 36, 26]\n"
     ]
    },
    {
     "data": {
      "text/plain": [
       "720720"
      ]
     },
     "execution_count": 19,
     "metadata": {},
     "output_type": "execute_result"
    }
   ],
   "source": [
    "print([len(harry.labels[c]) for c in harry.labels])\n",
    "np.product([len(harry.labels[c]) for c in harry.labels])"
   ]
  },
  {
   "cell_type": "code",
   "execution_count": 21,
   "metadata": {},
   "outputs": [],
   "source": [
    "ctrs = defaultdict(hnx.HNXCount)\n",
    "datadict = OrderedDict()\n",
    "for row in harry.data[:,:2]:\n",
    "    nrow = tuple(row)\n",
    "    datadict[nrow] = ctrs[nrow]()+1"
   ]
  },
  {
   "cell_type": "code",
   "execution_count": 22,
   "metadata": {},
   "outputs": [
    {
     "data": {
      "text/plain": [
       "29"
      ]
     },
     "execution_count": 22,
     "metadata": {},
     "output_type": "execute_result"
    }
   ],
   "source": [
    "len(datadict)"
   ]
  },
  {
   "cell_type": "code",
   "execution_count": 24,
   "metadata": {},
   "outputs": [
    {
     "data": {
      "text/plain": [
       "OrderedDict([('House',\n",
       "              array(['Unknown House', 'Gryffindor', 'Ravenclaw', 'Slytherin',\n",
       "                     'Hufflepuff', 'Beauxbatons Academy of Magic',\n",
       "                     'Durmstrang Institute'], dtype='<U28')),\n",
       "             ('Blood status',\n",
       "              array(['Unknown Blood status', 'Half-blood', 'Pure-blood', 'Muggle-born',\n",
       "                     'Part-Human', 'Pure-blood or half-blood', 'Part-Goblin',\n",
       "                     'Muggle-born or half-blood', 'Quarter-Veela', 'Muggle', 'Squib'],\n",
       "                    dtype='<U25')),\n",
       "             ('Species',\n",
       "              array(['Unknown Species', 'Human', 'Half-Human/Half-Giant', 'Werewolf',\n",
       "                     'Human (Werewolf traits)', 'Human(goblin ancestry)', 'Ghost',\n",
       "                     'Centaur', 'Human (Metamorphmagus)', 'Elf'], dtype='<U23')),\n",
       "             ('Hair colour',\n",
       "              array(['Unknown Hair colour', 'Black', 'Red', 'Brown',\n",
       "                     'Silver| formerly auburn', 'Blond', 'Sandy', 'Auburn',\n",
       "                     'Light brown flecked with grey', 'Colourless and balding', 'Dark',\n",
       "                     'Mousy', 'Dirty-blonde', 'White', 'Reddish-blonde', 'Blonde',\n",
       "                     'White-blond', 'Iron grey', 'Bald', 'Grey', 'White (balding)',\n",
       "                     'Straw blond', 'Variable', 'Red brown', 'Brown/greying',\n",
       "                     'Silver| formerly black', 'Tawny', 'Silver', 'Silvery-blonde',\n",
       "                     'Ginger', 'Straw-coloured', 'Red ', 'Reddish-brown', 'Mousy brown',\n",
       "                     'Jet-black', 'White blond'], dtype='<U29')),\n",
       "             ('Eye colour',\n",
       "              array(['Unknown Eye colour', 'Bright green', 'Blue', 'Brown', 'Black',\n",
       "                     'Bright brown', 'Hazel', 'Grey', 'Green', 'Dark', 'Pale silvery',\n",
       "                     'Silvery', 'Gooseberry', 'Scarlet ', 'Pale, freckled',\n",
       "                     'Astonishingly blue', 'Variable', 'One dark, one electric blue',\n",
       "                     'Yellowish', 'Ruddy', 'Grey/Blue', 'Dark blue', 'Bright Blue',\n",
       "                     'Dark Grey', 'Pale', 'Yellow'], dtype='<U27'))])"
      ]
     },
     "execution_count": 24,
     "metadata": {},
     "output_type": "execute_result"
    }
   ],
   "source": [
    "harry.labels"
   ]
  },
  {
   "cell_type": "code",
   "execution_count": null,
   "metadata": {},
   "outputs": [],
   "source": []
  }
 ],
 "metadata": {
  "kernelspec": {
   "display_name": "Python 3",
   "language": "python",
   "name": "python3"
  },
  "language_info": {
   "codemirror_mode": {
    "name": "ipython",
    "version": 3
   },
   "file_extension": ".py",
   "mimetype": "text/x-python",
   "name": "python",
   "nbconvert_exporter": "python",
   "pygments_lexer": "ipython3",
   "version": "3.8.5"
  }
 },
 "nbformat": 4,
 "nbformat_minor": 4
}
