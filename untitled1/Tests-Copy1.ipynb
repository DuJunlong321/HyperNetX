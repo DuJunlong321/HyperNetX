{
 "cells": [
  {
   "cell_type": "code",
   "execution_count": 1,
   "metadata": {},
   "outputs": [],
   "source": [
    "import hypernetx as hnx\n",
    "from hypernetx import StaticEntity, StaticEntitySet\n",
    "import pandas as pd\n",
    "import numpy as np\n",
    "import importlib as imp\n",
    "from collections import OrderedDict\n",
    "from scipy.sparse import coo_matrix"
   ]
  },
  {
   "cell_type": "raw",
   "metadata": {},
   "source": [
    "class TriLoop():\n",
    "    \"\"\"Example hypergraph with 2 two 1-cells and 1 2-cell forming a loop\"\"\"\n",
    "\n",
    "    def __init__(self):\n",
    "        A, B, C, D = 'A', 'B', 'C', 'D'\n",
    "        AB, BC, ACD = 'AB', 'BC', 'ACD'\n",
    "        self.edgedict = {AB: {A, B}, BC: {B, C}, ACD: {A, C, D}}\n",
    "        self.hypergraph = hnx.Hypergraph(self.edgedict, name='TriLoop')\n",
    "\n",
    "sbs = TriLoop()"
   ]
  },
  {
   "cell_type": "code",
   "execution_count": 2,
   "metadata": {},
   "outputs": [],
   "source": [
    "# hd = sbs.hypergraph\n",
    "# h = hd.convert_to_static()\n",
    "# e"
   ]
  },
  {
   "cell_type": "code",
   "execution_count": 3,
   "metadata": {},
   "outputs": [],
   "source": [
    "# E = hnx.StaticEntitySet(arr=sbs.arr,labels=sbs.labels)"
   ]
  },
  {
   "cell_type": "code",
   "execution_count": 4,
   "metadata": {},
   "outputs": [],
   "source": [
    "# E.elements\n",
    "# E.incidence_matrix().todense()\n",
    "# E.incidence_dict"
   ]
  },
  {
   "cell_type": "code",
   "execution_count": 5,
   "metadata": {},
   "outputs": [],
   "source": [
    "# labels = OrderedDict([('edges',['I', 'L', 'O', 'P', 'R', 'S']), ('nodes',['A', 'C', 'E', 'K', 'T1', 'T2', 'V'])])\n",
    "# arr = np.zeros((6,7),dtype=int)\n",
    "# ndict = dict(zip(labels['nodes'],range(7)))\n",
    "# edict = dict(zip(labels['edges'],range(6)))"
   ]
  },
  {
   "cell_type": "code",
   "execution_count": 6,
   "metadata": {},
   "outputs": [],
   "source": [
    "# h = hnx.Hypergraph(E)\n",
    "# hd = hnx.Hypergraph(sbs.edgedict)"
   ]
  },
  {
   "cell_type": "code",
   "execution_count": 7,
   "metadata": {},
   "outputs": [],
   "source": [
    "# h.isstatic,hd.isstatic"
   ]
  },
  {
   "cell_type": "code",
   "execution_count": 8,
   "metadata": {},
   "outputs": [],
   "source": [
    "# h.edges,h.nodes,hd.edges,hd.nodes"
   ]
  },
  {
   "cell_type": "code",
   "execution_count": 9,
   "metadata": {},
   "outputs": [],
   "source": [
    "# hnx.betti_numbers(h),hnx.betti_numbers(hd)"
   ]
  },
  {
   "cell_type": "code",
   "execution_count": 10,
   "metadata": {},
   "outputs": [],
   "source": [
    "# C = {k: hnx.kchainbasis(h,k) for k in range(3)}"
   ]
  },
  {
   "cell_type": "code",
   "execution_count": 11,
   "metadata": {},
   "outputs": [],
   "source": [
    "from untitled_harrypotter import HarryPotter\n",
    "harry_potter = HarryPotter()\n",
    "\n",
    "arr = harry_potter.imat\n",
    "labels = harry_potter.labels\n",
    "ent = StaticEntity(arr=arr,labels=labels)"
   ]
  },
  {
   "cell_type": "code",
   "execution_count": 12,
   "metadata": {},
   "outputs": [],
   "source": [
    "ent = StaticEntitySet(arr=arr, labels=labels, level1=1,level2=3)"
   ]
  },
  {
   "cell_type": "code",
   "execution_count": 13,
   "metadata": {},
   "outputs": [
    {
     "data": {
      "text/plain": [
       "OrderedDict([('Blood status',\n",
       "              array(['Unknown Blood status', 'Half-blood', 'Pure-blood', 'Muggle-born',\n",
       "                     'Part-Human', 'Pure-blood or half-blood', 'Part-Goblin',\n",
       "                     'Muggle-born or half-blood', 'Quarter-Veela', 'Muggle', 'Squib'],\n",
       "                    dtype='<U25')),\n",
       "             ('Hair colour',\n",
       "              array(['Unknown Hair colour', 'Black', 'Red', 'Brown',\n",
       "                     'Silver| formerly auburn', 'Blond', 'Sandy', 'Auburn',\n",
       "                     'Light brown flecked with grey', 'Colourless and balding', 'Dark',\n",
       "                     'Mousy', 'Dirty-blonde', 'White', 'Reddish-blonde', 'Blonde',\n",
       "                     'White-blond', 'Iron grey', 'Bald', 'Grey', 'White (balding)',\n",
       "                     'Straw blond', 'Variable', 'Red brown', 'Brown/greying',\n",
       "                     'Silver| formerly black', 'Tawny', 'Silver', 'Silvery-blonde',\n",
       "                     'Ginger', 'Straw-coloured', 'Red ', 'Reddish-brown', 'Mousy brown',\n",
       "                     'Jet-black', 'White blond'], dtype='<U29'))])"
      ]
     },
     "execution_count": 13,
     "metadata": {},
     "output_type": "execute_result"
    }
   ],
   "source": [
    "ent.indices('Blood status',['Pure-blood'])\n",
    "ent.labels"
   ]
  },
  {
   "cell_type": "code",
   "execution_count": 14,
   "metadata": {},
   "outputs": [],
   "source": [
    "hs = hnx.Hypergraph(ent)"
   ]
  },
  {
   "cell_type": "code",
   "execution_count": 35,
   "metadata": {},
   "outputs": [
    {
     "data": {
      "text/plain": [
       "({'Black',\n",
       "  'Brown',\n",
       "  'Dark',\n",
       "  'Grey',\n",
       "  'Tawny',\n",
       "  'Unknown Hair colour',\n",
       "  'White (balding)',\n",
       "  'White-blond'},\n",
       " {'Unknown Blood status'})"
      ]
     },
     "execution_count": 35,
     "metadata": {},
     "output_type": "execute_result"
    }
   ],
   "source": [
    "hs.neighbors('Red',s=[9,9],return_edges=True)"
   ]
  },
  {
   "cell_type": "code",
   "execution_count": null,
   "metadata": {},
   "outputs": [],
   "source": [
    "idx = ent.indices('Blood status',['Pure-blood','Half-blood'])\n",
    "ent.restrict_to(idx).elements"
   ]
  },
  {
   "cell_type": "code",
   "execution_count": null,
   "metadata": {},
   "outputs": [],
   "source": [
    "E = harry_potter.entityset\n",
    "h = hnx.Hypergraph(E)"
   ]
  },
  {
   "cell_type": "code",
   "execution_count": null,
   "metadata": {},
   "outputs": [],
   "source": [
    "h.shape"
   ]
  },
  {
   "cell_type": "code",
   "execution_count": null,
   "metadata": {},
   "outputs": [],
   "source": [
    "E.dimensions"
   ]
  },
  {
   "cell_type": "code",
   "execution_count": null,
   "metadata": {},
   "outputs": [],
   "source": [
    "h.incidence_matrix().shape"
   ]
  },
  {
   "cell_type": "code",
   "execution_count": null,
   "metadata": {},
   "outputs": [],
   "source": [
    "hd = h.remove_static()"
   ]
  },
  {
   "cell_type": "code",
   "execution_count": null,
   "metadata": {},
   "outputs": [],
   "source": [
    "hnx.draw(hd)"
   ]
  },
  {
   "cell_type": "code",
   "execution_count": null,
   "metadata": {},
   "outputs": [],
   "source": [
    "hnx.betti_numbers(hd)"
   ]
  },
  {
   "cell_type": "code",
   "execution_count": null,
   "metadata": {},
   "outputs": [],
   "source": [
    "hr = hd.restrict_to_edges(['Gryffindor','Ravenclaw','Slytherin','Hufflepuff'])"
   ]
  },
  {
   "cell_type": "code",
   "execution_count": null,
   "metadata": {},
   "outputs": [],
   "source": [
    "hr.shape"
   ]
  },
  {
   "cell_type": "code",
   "execution_count": null,
   "metadata": {},
   "outputs": [],
   "source": [
    "hr = h.restrict_to_edges(['Gryffindor','Ravenclaw','Slytherin','Hufflepuff'])"
   ]
  },
  {
   "cell_type": "code",
   "execution_count": null,
   "metadata": {},
   "outputs": [],
   "source": [
    "hr.shape"
   ]
  },
  {
   "cell_type": "code",
   "execution_count": null,
   "metadata": {},
   "outputs": [],
   "source": [
    "hr = h.restrict_to_nodes(['Pure-blood','Pure-blood or half-blood', 'Half-blood'])"
   ]
  },
  {
   "cell_type": "code",
   "execution_count": null,
   "metadata": {},
   "outputs": [],
   "source": [
    "hr.shape"
   ]
  },
  {
   "cell_type": "code",
   "execution_count": null,
   "metadata": {},
   "outputs": [],
   "source": [
    "h.edge_adjacency_matrix(weighted=False).todense()"
   ]
  },
  {
   "cell_type": "code",
   "execution_count": null,
   "metadata": {},
   "outputs": [],
   "source": [
    "list(h.s_component_subgraphs(s=2))"
   ]
  },
  {
   "cell_type": "code",
   "execution_count": null,
   "metadata": {},
   "outputs": [],
   "source": [
    "hd.neighbors('Pure-blood',s=[1,7],return_edges=True)"
   ]
  },
  {
   "cell_type": "code",
   "execution_count": null,
   "metadata": {},
   "outputs": [],
   "source": [
    "hd.edges['Gryffindor']"
   ]
  },
  {
   "cell_type": "code",
   "execution_count": null,
   "metadata": {},
   "outputs": [],
   "source": [
    "hnx.s_betweenness_centrality(h)"
   ]
  },
  {
   "cell_type": "code",
   "execution_count": null,
   "metadata": {},
   "outputs": [],
   "source": [
    "hnx.StaticEntitySet()"
   ]
  },
  {
   "cell_type": "code",
   "execution_count": null,
   "metadata": {},
   "outputs": [],
   "source": [
    "E"
   ]
  },
  {
   "cell_type": "code",
   "execution_count": null,
   "metadata": {},
   "outputs": [],
   "source": [
    "E.uidset"
   ]
  },
  {
   "cell_type": "code",
   "execution_count": null,
   "metadata": {},
   "outputs": [],
   "source": [
    "E.elements"
   ]
  },
  {
   "cell_type": "code",
   "execution_count": null,
   "metadata": {},
   "outputs": [],
   "source": [
    "class DefaultOrderedDict(OrderedDict):\n",
    "    # Source: http://stackoverflow.com/a/6190500/562769\n",
    "    def __init__(self, default_factory=None, *a, **kw):\n",
    "        if (default_factory is not None and\n",
    "                not callable(default_factory)):\n",
    "            raise TypeError('first argument must be callable')\n",
    "        OrderedDict.__init__(self, *a, **kw)\n",
    "        self.default_factory = default_factory\n",
    "\n",
    "    def __getitem__(self, key):\n",
    "        try:\n",
    "            return OrderedDict.__getitem__(self, key)\n",
    "        except KeyError:\n",
    "            return self.__missing__(key)\n",
    "\n",
    "    def __missing__(self, key):\n",
    "        if self.default_factory is None:\n",
    "            raise KeyError(key)\n",
    "        self[key] = value = self.default_factory()\n",
    "        return value\n",
    "\n",
    "    def __reduce__(self):\n",
    "        if self.default_factory is None:\n",
    "            args = tuple()\n",
    "        else:\n",
    "            args = self.default_factory,\n",
    "        return type(self), args, None, None, self.items()\n",
    "\n",
    "    def copy(self):\n",
    "        return self.__copy__()\n",
    "\n",
    "    def __copy__(self):\n",
    "        return type(self)(self.default_factory, self)\n",
    "\n",
    "    def __deepcopy__(self, memo):\n",
    "        import copy\n",
    "        return type(self)(self.default_factory,\n",
    "                          copy.deepcopy(self.items()))\n",
    "\n",
    "    def __repr__(self):\n",
    "        return 'OrderedDefaultDict(%s, %s)' % (self.default_factory,\n",
    "                                               OrderedDict.__repr__(self))"
   ]
  },
  {
   "cell_type": "code",
   "execution_count": null,
   "metadata": {},
   "outputs": [],
   "source": [
    "class TriLoop():\n",
    "    \"\"\"Example hypergraph with 2 two 1-cells and 1 2-cell forming a loop\"\"\"\n",
    "\n",
    "    def __init__(self):\n",
    "        A, B, C, D = 'A', 'B', 'C', 'D'\n",
    "        AB, BC, ACD = 'AB', 'BC', 'ACD'\n",
    "        self.edgedict = {AB: {A, B}, BC: {B, C}, ACD: {A, C, D}}\n",
    "        self.hypergraph = hnx.Hypergraph(self.edgedict, name='TriLoop')\n",
    "\n",
    "sbs = TriLoop()"
   ]
  },
  {
   "cell_type": "code",
   "execution_count": null,
   "metadata": {},
   "outputs": [],
   "source": [
    "d = OrderedDict(sbs.edgedict)"
   ]
  },
  {
   "cell_type": "code",
   "execution_count": null,
   "metadata": {},
   "outputs": [],
   "source": [
    "d"
   ]
  },
  {
   "cell_type": "code",
   "execution_count": null,
   "metadata": {},
   "outputs": [],
   "source": [
    "nodectr = hnx.HNXCount()\n",
    "edgectr = hnx.HNXCount()\n",
    "nodes = DefaultOrderedDict(nodectr)\n",
    "edges = DefaultOrderedDict(edgectr)\n",
    "coords = list()\n",
    "for k,val in d.items():\n",
    "    edges[k]\n",
    "    for v in val:\n",
    "        nodes[v]\n",
    "        coords.append((edges[k],nodes[v]))\n",
    "edges = OrderedDict(edges)\n",
    "nodes = OrderedDict(nodes)\n",
    "    "
   ]
  },
  {
   "cell_type": "code",
   "execution_count": null,
   "metadata": {},
   "outputs": [],
   "source": [
    "edges"
   ]
  },
  {
   "cell_type": "code",
   "execution_count": null,
   "metadata": {},
   "outputs": [],
   "source": [
    "nodes"
   ]
  },
  {
   "cell_type": "code",
   "execution_count": null,
   "metadata": {},
   "outputs": [],
   "source": [
    "ar = np.array(coords,dtype=int).transpose()\n",
    "ar"
   ]
  },
  {
   "cell_type": "code",
   "execution_count": null,
   "metadata": {},
   "outputs": [],
   "source": [
    "arr = coo_matrix((np.ones(len(ar[0]),dtype=int),(ar[0],ar[1])))"
   ]
  },
  {
   "cell_type": "code",
   "execution_count": null,
   "metadata": {},
   "outputs": [],
   "source": [
    "arr.todense()"
   ]
  },
  {
   "cell_type": "code",
   "execution_count": null,
   "metadata": {},
   "outputs": [],
   "source": [
    "def _turn_dict_to_staticentity(dict_object):\n",
    "    '''Create a static entity directly from a dictionary of hashables'''\n",
    "    d = OrderedDict(dict_object)\n",
    "    level2ctr = hnx.HNXCount()\n",
    "    level1ctr = hnx.HNXCount()\n",
    "    level2 = DefaultOrderedDict(level2ctr)\n",
    "    level1 = DefaultOrderedDict(level1ctr)\n",
    "    coords = list()\n",
    "    for k,val in d.items():\n",
    "        level1[k]\n",
    "        for v in val:\n",
    "            level2[v]\n",
    "            coords.append((level1[k],level2[v]))\n",
    "    level1 = OrderedDict(level1)\n",
    "    level2 = OrderedDict(level2)\n",
    "    ar = np.array(coords,dtype=int).transpose()\n",
    "    arr = coo_matrix((np.ones(len(ar[0]),dtype=int),(ar[0],ar[1])))\n",
    "    labels = {'level1':list(level1), 'level2':list(level2)}\n",
    "    return StaticEntitySet(arr=arr,labels=labels)"
   ]
  },
  {
   "cell_type": "code",
   "execution_count": null,
   "metadata": {},
   "outputs": [],
   "source": [
    "labels"
   ]
  },
  {
   "cell_type": "code",
   "execution_count": null,
   "metadata": {},
   "outputs": [],
   "source": [
    "_turn_dict_to_staticentity(d)"
   ]
  },
  {
   "cell_type": "code",
   "execution_count": null,
   "metadata": {},
   "outputs": [],
   "source": [
    "iter_object = [[1,2,3],[4,5,6]]\n",
    "dict(zip([1,2],iter_object))\n"
   ]
  },
  {
   "cell_type": "code",
   "execution_count": null,
   "metadata": {},
   "outputs": [],
   "source": [
    "StaticEntity()"
   ]
  },
  {
   "cell_type": "code",
   "execution_count": null,
   "metadata": {},
   "outputs": [],
   "source": [
    "\n",
    "hnx.Hypergraph(StaticEntity(entity=[[1,2,3],[4,5,6]]).elements)"
   ]
  },
  {
   "cell_type": "code",
   "execution_count": null,
   "metadata": {},
   "outputs": [],
   "source": [
    "StaticEntity(entity=[[1,2,3],[4,5,6]]).labels"
   ]
  },
  {
   "cell_type": "code",
   "execution_count": null,
   "metadata": {},
   "outputs": [],
   "source": [
    "StaticEntity(entity=d)"
   ]
  },
  {
   "cell_type": "code",
   "execution_count": 37,
   "metadata": {},
   "outputs": [],
   "source": [
    "h = hnx.Hypergraph([[1,2],[1,3],[2,3,4]],static=True)"
   ]
  },
  {
   "cell_type": "code",
   "execution_count": 38,
   "metadata": {},
   "outputs": [
    {
     "data": {
      "text/plain": [
       "Hypergraph(OrderedDict([('e0', [1, 2]), ('e1', [1, 3]), ('e2', [2, 3, 4])]),name=_)"
      ]
     },
     "execution_count": 38,
     "metadata": {},
     "output_type": "execute_result"
    }
   ],
   "source": [
    "h"
   ]
  },
  {
   "cell_type": "code",
   "execution_count": 40,
   "metadata": {},
   "outputs": [
    {
     "data": {
      "image/png": "[encoded data removed]",
      "text/plain": [
       "<Figure size 576x576 with 1 Axes>"
      ]
     },
     "metadata": {
      "needs_background": "light"
     },
     "output_type": "display_data"
    }
   ],
   "source": [
    "hnx.draw(h.remove_static())"
   ]
  },
  {
   "cell_type": "code",
   "execution_count": 44,
   "metadata": {},
   "outputs": [
    {
     "data": {
      "text/plain": [
       "matrix([[1, 1, 0, 0],\n",
       "        [1, 0, 1, 0],\n",
       "        [0, 1, 1, 1]])"
      ]
     },
     "execution_count": 44,
     "metadata": {},
     "output_type": "execute_result"
    }
   ],
   "source": [
    "h.edges.arr.todense()"
   ]
  },
  {
   "cell_type": "code",
   "execution_count": 45,
   "metadata": {},
   "outputs": [
    {
     "data": {
      "text/plain": [
       "matrix([[1, 1, 0],\n",
       "        [1, 0, 1],\n",
       "        [0, 1, 1],\n",
       "        [0, 0, 1]])"
      ]
     },
     "execution_count": 45,
     "metadata": {},
     "output_type": "execute_result"
    }
   ],
   "source": [
    "h.incidence_matrix(sparse=False)"
   ]
  },
  {
   "cell_type": "code",
   "execution_count": null,
   "metadata": {},
   "outputs": [],
   "source": []
  }
 ],
 "metadata": {
  "kernelspec": {
   "display_name": "Python 3",
   "language": "python",
   "name": "python3"
  },
  "language_info": {
   "codemirror_mode": {
    "name": "ipython",
    "version": 3
   },
   "file_extension": ".py",
   "mimetype": "text/x-python",
   "name": "python",
   "nbconvert_exporter": "python",
   "pygments_lexer": "ipython3",
   "version": "3.8.5"
  }
 },
 "nbformat": 4,
 "nbformat_minor": 2
}
