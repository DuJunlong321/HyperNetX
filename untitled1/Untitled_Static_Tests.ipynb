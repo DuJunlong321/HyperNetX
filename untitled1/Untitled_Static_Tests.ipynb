{
 "cells": [
  {
   "cell_type": "code",
   "execution_count": 1,
   "metadata": {},
   "outputs": [],
   "source": [
    "import hypernetx as hnx\n",
    "import warnings, inspect\n",
    "warnings.simplefilter('always')"
   ]
  },
  {
   "cell_type": "code",
   "execution_count": 2,
   "metadata": {},
   "outputs": [],
   "source": [
    "class SevenBySix():\n",
    "    \"\"\"Example hypergraph with 7 nodes and 6 edges.\"\"\"\n",
    "    def __init__(self):\n",
    "        a,c,e,k,t1,t2,v = nd =  ('A','C','E','K','T1','T2','V')        \n",
    "        i,l,o,p,r,s = ('I','L','O','P','R','S')\n",
    "        self.edges = [{a,c,k},{a,e},{a,k,t2,v},{c,e},{t1,t2},{k,t2}]\n",
    "        self.nodes = set(nd)\n",
    "        self.edgedict = {p:{a,c,k},r:{a,e},s:{a,k,t2,v},l:{c,e},o:{t1,t2},i:{k,t2}}\n",
    "\n",
    "class SBSDupes():\n",
    "    def __init__(self):\n",
    "        self.edgedict = {'I': {'K', 'T2'},\n",
    "        'L': {'C', 'E', 'F'},\n",
    "        'M': {'C', 'E', 'F'},\n",
    "        'O': {'T1', 'T2'},\n",
    "        'P': {'A', 'C', 'K'},\n",
    "        'R': {'A', 'E', 'F'},\n",
    "        'S': {'A', 'K', 'T2', 'V'}}\n",
    "\n",
    "class LesMis():\n",
    "    def __init__(self):\n",
    "        self.edgedict = {1: {'CL', 'CV', 'GE', 'GG', 'MB', 'MC', 'ME', 'MY', 'NP', 'SN'},\n",
    "             2: {'IS', 'JL', 'JV', 'MB', 'ME', 'MR', 'MT', 'MY', 'PG'},\n",
    "             3: {'BL', 'DA', 'FA', 'FN', 'FT', 'FV', 'LI', 'ZE'},\n",
    "             4: {'CO', 'FN', 'TH', 'TM'},\n",
    "             5: {'BM', 'FF', 'FN', 'JA', 'JV', 'MT', 'MY', 'VI'},\n",
    "             6: {'FN', 'JA', 'JV'},\n",
    "             7: {'BM', 'BR', 'CC', 'CH', 'CN', 'FN', 'JU', 'JV', 'PO', 'SC', 'SP', 'SS'},\n",
    "             8: {'FN', 'JA', 'JV', 'PO', 'SP', 'SS'}}\n",
    "        self.hypergraph = hnx.Hypergraph(self.edgedict)"
   ]
  },
  {
   "cell_type": "code",
   "execution_count": 3,
   "metadata": {},
   "outputs": [],
   "source": [
    "sbs = SevenBySix()"
   ]
  },
  {
   "cell_type": "code",
   "execution_count": 4,
   "metadata": {},
   "outputs": [
    {
     "data": {
      "text/plain": [
       "EntitySet(test,['C', 'A', 'K'],{})"
      ]
     },
     "execution_count": 4,
     "metadata": {},
     "output_type": "execute_result"
    }
   ],
   "source": [
    "ent = hnx.EntitySet('test',elements=sbs.edges[0])\n",
    "ent"
   ]
  },
  {
   "cell_type": "code",
   "execution_count": null,
   "metadata": {},
   "outputs": [],
   "source": []
  },
  {
   "cell_type": "code",
   "execution_count": 5,
   "metadata": {},
   "outputs": [
    {
     "data": {
      "text/plain": [
       "Entity(test,['C', 'A', 'K'],{'static': True})"
      ]
     },
     "execution_count": 5,
     "metadata": {},
     "output_type": "execute_result"
    }
   ],
   "source": [
    "ent = hnx.Entity('test',elements=sbs.edges[0],static=True)\n",
    "ent"
   ]
  },
  {
   "cell_type": "code",
   "execution_count": 6,
   "metadata": {},
   "outputs": [
    {
     "data": {
      "text/plain": [
       "{'__call__': <function hypernetx.classes.entity.Entity.__call__(self)>,\n",
       " '__contains__': <function hypernetx.classes.entity.Entity.__contains__(self, item)>,\n",
       " '__eq__': <function hypernetx.classes.entity.Entity.__eq__(self, other)>,\n",
       " '__getitem__': <function hypernetx.classes.entity.Entity.__getitem__(self, item)>,\n",
       " '__init__': <function hypernetx.classes.entity.Entity.__init__(self, uid, elements=[], entity=None, **props)>,\n",
       " '__iter__': <function hypernetx.classes.entity.Entity.__iter__(self)>,\n",
       " '__len__': <function hypernetx.classes.entity.Entity.__len__(self)>,\n",
       " '__repr__': <function hypernetx.classes.entity.Entity.__repr__(self)>,\n",
       " '__setattr__': <function hypernetx.classes.entity.Entity.__setattr__(self, k, v)>,\n",
       " '__str__': <function hypernetx.classes.entity.Entity.__str__(self)>,\n",
       " '_complete_registry': <function hypernetx.classes.entity.Entity._complete_registry(entity, results)>,\n",
       " '_depth_finder': <function hypernetx.classes.entity.Entity._depth_finder(self, entset=None)>,\n",
       " 'add': <function hypernetx.classes.entity.Entity.add(self, *args)>,\n",
       " 'add_element': <function hypernetx.classes.entity.Entity.add_element(self, item)>,\n",
       " 'add_elements_from': <function hypernetx.classes.entity.Entity.add_elements_from(self, arg_set)>,\n",
       " 'clone': <function hypernetx.classes.entity.Entity.clone(self, newuid)>,\n",
       " 'complete_registry': <function hypernetx.classes.entity.Entity.complete_registry(self)>,\n",
       " 'depth': <function hypernetx.classes.entity.Entity.depth(self, max_depth=10)>,\n",
       " 'fullregistry': <function hypernetx.classes.entity.Entity.fullregistry(self, lastlevel=10, firstlevel=1)>,\n",
       " 'intersection': <function hypernetx.classes.entity.Entity.intersection(self, other)>,\n",
       " 'level': <function hypernetx.classes.entity.Entity.level(self, item, max_depth=10)>,\n",
       " 'levelset': <function hypernetx.classes.entity.Entity.levelset(self, k=1)>,\n",
       " 'merge_entities': <function hypernetx.classes.entity.Entity.merge_entities(name, ent1, ent2)>,\n",
       " 'nested_incidence_dict': <function hypernetx.classes.entity.Entity.nested_incidence_dict(self, level=10)>,\n",
       " 'remove': <function hypernetx.classes.entity.Entity.remove(self, *args)>,\n",
       " 'remove_element': <function hypernetx.classes.entity.Entity.remove_element(self, item)>,\n",
       " 'remove_elements_from': <function hypernetx.classes.entity.Entity.remove_elements_from(self, arg_set)>,\n",
       " 'restrict_to': <function hypernetx.classes.entity.Entity.restrict_to(self, element_subset, name=None)>,\n",
       " 'size': <function hypernetx.classes.entity.Entity.size(self)>}"
      ]
     },
     "execution_count": 6,
     "metadata": {},
     "output_type": "execute_result"
    }
   ],
   "source": [
    "d = dict(inspect.getmembers(hnx.Entity,inspect.isfunction));d"
   ]
  },
  {
   "cell_type": "code",
   "execution_count": 7,
   "metadata": {},
   "outputs": [
    {
     "data": {
      "text/plain": [
       "'__call__'"
      ]
     },
     "execution_count": 7,
     "metadata": {},
     "output_type": "execute_result"
    }
   ],
   "source": [
    "d['__call__'].__name__"
   ]
  },
  {
   "cell_type": "code",
   "execution_count": 8,
   "metadata": {},
   "outputs": [
    {
     "data": {
      "text/plain": [
       "<function hypernetx.classes.entity.Entity.remove(self, *args)>"
      ]
     },
     "execution_count": 8,
     "metadata": {},
     "output_type": "execute_result"
    }
   ],
   "source": [
    "def getname(f):\n",
    "    return f.__name__\n",
    "d[getname(ent.remove)]"
   ]
  },
  {
   "cell_type": "code",
   "execution_count": 9,
   "metadata": {},
   "outputs": [
    {
     "data": {
      "text/plain": [
       "{0: Entity(0,[],{'static': True, 'id': 'A'}),\n",
       " 1: Entity(1,[],{'static': True, 'id': 'C'}),\n",
       " 2: Entity(2,[],{'static': True, 'id': 'E'}),\n",
       " 3: Entity(3,[],{'static': True, 'id': 'K'}),\n",
       " 4: Entity(4,[],{'static': True, 'id': 'T1'}),\n",
       " 5: Entity(5,[],{'static': True, 'id': 'T2'}),\n",
       " 6: Entity(6,[],{'static': True, 'id': 'V'})}"
      ]
     },
     "execution_count": 9,
     "metadata": {},
     "output_type": "execute_result"
    }
   ],
   "source": [
    "a,c,e,k,t1,t2,v = nd =  ('A','C','E','K','T1','T2','V')\n",
    "elements = {}\n",
    "ctr = hnx.HNXCount()\n",
    "for n in nd:\n",
    "    idx = ctr()\n",
    "    elements[idx] = hnx.Entity(idx,static=True,id=n)\n",
    "ent = hnx.Entity('test',elements=elements,static=True)\n",
    "ent.fullregistry()"
   ]
  },
  {
   "cell_type": "code",
   "execution_count": 10,
   "metadata": {},
   "outputs": [
    {
     "data": {
      "text/plain": [
       "Entity(0,[],{'static': True, 'id': 'A'})"
      ]
     },
     "execution_count": 10,
     "metadata": {},
     "output_type": "execute_result"
    }
   ],
   "source": [
    "a,c,e,k,t1,t2,v = range(7)\n",
    "elements[a]"
   ]
  },
  {
   "cell_type": "code",
   "execution_count": 11,
   "metadata": {},
   "outputs": [],
   "source": [
    "edges = [[a,c,k],[a,e],[a,k,t2,v],[c,e],[t1,t2],[k,t2]]\n",
    "newelements = dict()\n",
    "for ed in edges:\n",
    "    uid = ctr()\n",
    "    temp = {n:elements[n] for n in ed}\n",
    "    newelements[uid] = hnx.Entity(uid,elements=temp,static=True)"
   ]
  },
  {
   "cell_type": "code",
   "execution_count": 12,
   "metadata": {},
   "outputs": [
    {
     "data": {
      "text/plain": [
       "{7: Entity(7,[0, 1, 3],{'static': True}),\n",
       " 8: Entity(8,[0, 2],{'static': True}),\n",
       " 9: Entity(9,[0, 3, 5, 6],{'static': True}),\n",
       " 10: Entity(10,[1, 2],{'static': True}),\n",
       " 11: Entity(11,[4, 5],{'static': True}),\n",
       " 12: Entity(12,[3, 5],{'static': True})}"
      ]
     },
     "execution_count": 12,
     "metadata": {},
     "output_type": "execute_result"
    }
   ],
   "source": [
    "newelements"
   ]
  },
  {
   "cell_type": "code",
   "execution_count": 13,
   "metadata": {},
   "outputs": [],
   "source": [
    "eset = hnx.EntitySet('test2',elements=newelements,static=True)"
   ]
  },
  {
   "cell_type": "code",
   "execution_count": 14,
   "metadata": {},
   "outputs": [
    {
     "data": {
      "text/plain": [
       "{7: Entity(7,[0, 1, 3],{'static': True}),\n",
       " 8: Entity(8,[0, 2],{'static': True}),\n",
       " 9: Entity(9,[0, 3, 5, 6],{'static': True}),\n",
       " 10: Entity(10,[1, 2],{'static': True}),\n",
       " 11: Entity(11,[4, 5],{'static': True}),\n",
       " 12: Entity(12,[3, 5],{'static': True}),\n",
       " 0: Entity(0,[],{'static': True, 'id': 'A'}),\n",
       " 1: Entity(1,[],{'static': True, 'id': 'C'}),\n",
       " 3: Entity(3,[],{'static': True, 'id': 'K'}),\n",
       " 2: Entity(2,[],{'static': True, 'id': 'E'}),\n",
       " 5: Entity(5,[],{'static': True, 'id': 'T2'}),\n",
       " 6: Entity(6,[],{'static': True, 'id': 'V'}),\n",
       " 4: Entity(4,[],{'static': True, 'id': 'T1'})}"
      ]
     },
     "execution_count": 14,
     "metadata": {},
     "output_type": "execute_result"
    }
   ],
   "source": [
    "eset.fullregistry()"
   ]
  },
  {
   "cell_type": "code",
   "execution_count": 15,
   "metadata": {},
   "outputs": [
    {
     "data": {
      "text/plain": [
       "{'test': Entity(test,[0, 1, 2, 3, 4, 5, 6],{'static': True}),\n",
       " 8: Entity(8,[0, 2],{'static': True}),\n",
       " 10: Entity(10,[1, 2],{'static': True})}"
      ]
     },
     "execution_count": 15,
     "metadata": {},
     "output_type": "execute_result"
    }
   ],
   "source": [
    "elements[2].memberships"
   ]
  },
  {
   "cell_type": "code",
   "execution_count": 17,
   "metadata": {},
   "outputs": [
    {
     "data": {
      "text/plain": [
       "Entity(test,[0, 1, 2, 3, 4, 5, 6, 'new'],{'static': True})"
      ]
     },
     "execution_count": 17,
     "metadata": {},
     "output_type": "execute_result"
    }
   ],
   "source": [
    "newent = hnx.Entity('new')\n",
    "ent.add_elements_from([newent])"
   ]
  },
  {
   "cell_type": "code",
   "execution_count": null,
   "metadata": {},
   "outputs": [],
   "source": [
    "new1 = hnx.Entity.merge_entities('newent1',test,newent)\n",
    "new1"
   ]
  },
  {
   "cell_type": "code",
   "execution_count": null,
   "metadata": {},
   "outputs": [],
   "source": [
    "edgeset = []\n",
    "for j in range(len(edges)):\n",
    "    edgeset.append(hnx.Entity(f'e_{j}',elements=edges[j],static=True))"
   ]
  },
  {
   "cell_type": "code",
   "execution_count": null,
   "metadata": {},
   "outputs": [],
   "source": [
    "elements"
   ]
  },
  {
   "cell_type": "code",
   "execution_count": null,
   "metadata": {},
   "outputs": [],
   "source": [
    "elements"
   ]
  },
  {
   "cell_type": "code",
   "execution_count": null,
   "metadata": {},
   "outputs": [],
   "source": [
    "sbs.edges"
   ]
  },
  {
   "cell_type": "code",
   "execution_count": null,
   "metadata": {},
   "outputs": [],
   "source": [
    "newent.elements\n"
   ]
  },
  {
   "cell_type": "code",
   "execution_count": null,
   "metadata": {},
   "outputs": [],
   "source": []
  }
 ],
 "metadata": {
  "kernelspec": {
   "display_name": "Python 3",
   "language": "python",
   "name": "python3"
  },
  "language_info": {
   "codemirror_mode": {
    "name": "ipython",
    "version": 3
   },
   "file_extension": ".py",
   "mimetype": "text/x-python",
   "name": "python",
   "nbconvert_exporter": "python",
   "pygments_lexer": "ipython3",
   "version": "3.6.9"
  }
 },
 "nbformat": 4,
 "nbformat_minor": 2
}
