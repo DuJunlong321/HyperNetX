{
 "cells": [
  {
   "cell_type": "markdown",
   "metadata": {},
   "source": [
    "## Create a Static EntitySet and then a Static Hypergraph from the Harry Potter character data"
   ]
  },
  {
   "cell_type": "code",
   "execution_count": 3,
   "metadata": {},
   "outputs": [],
   "source": [
    "from hypernetx import *\n",
    "import matplotlib.pyplot as plt\n",
    "from collections import OrderedDict,defaultdict\n",
    "import scipy\n",
    "from scipy.sparse import coo_matrix,issparse\n",
    "import pandas as pd\n",
    "import numpy as np\n",
    "import itertools as it\n",
    "import importlib as imp\n",
    "import untitled_StaticEntity as us"
   ]
  },
  {
   "cell_type": "markdown",
   "metadata": {},
   "source": [
    "### Read Dataset from kaggle"
   ]
  },
  {
   "cell_type": "code",
   "execution_count": 4,
   "metadata": {
    "scrolled": true
   },
   "outputs": [
    {
     "data": {
      "text/html": [
       "<div>\n",
       "<style scoped>\n",
       "    .dataframe tbody tr th:only-of-type {\n",
       "        vertical-align: middle;\n",
       "    }\n",
       "\n",
       "    .dataframe tbody tr th {\n",
       "        vertical-align: top;\n",
       "    }\n",
       "\n",
       "    .dataframe thead th {\n",
       "        text-align: right;\n",
       "    }\n",
       "</style>\n",
       "<table border=\"1\" class=\"dataframe\">\n",
       "  <thead>\n",
       "    <tr style=\"text-align: right;\">\n",
       "      <th></th>\n",
       "      <th>Name</th>\n",
       "      <th>Gender</th>\n",
       "      <th>Job</th>\n",
       "      <th>House</th>\n",
       "      <th>Wand</th>\n",
       "      <th>Patronus</th>\n",
       "      <th>Species</th>\n",
       "      <th>Blood status</th>\n",
       "      <th>Hair colour</th>\n",
       "      <th>Eye colour</th>\n",
       "      <th>Loyalty</th>\n",
       "      <th>Skills</th>\n",
       "      <th>Birth</th>\n",
       "      <th>Death</th>\n",
       "    </tr>\n",
       "    <tr>\n",
       "      <th>Id</th>\n",
       "      <th></th>\n",
       "      <th></th>\n",
       "      <th></th>\n",
       "      <th></th>\n",
       "      <th></th>\n",
       "      <th></th>\n",
       "      <th></th>\n",
       "      <th></th>\n",
       "      <th></th>\n",
       "      <th></th>\n",
       "      <th></th>\n",
       "      <th></th>\n",
       "      <th></th>\n",
       "      <th></th>\n",
       "    </tr>\n",
       "  </thead>\n",
       "  <tbody>\n",
       "    <tr>\n",
       "      <th>1</th>\n",
       "      <td>Harry James Potter</td>\n",
       "      <td>Male</td>\n",
       "      <td>Student</td>\n",
       "      <td>Gryffindor</td>\n",
       "      <td>11\"  Holly  phoenix feather</td>\n",
       "      <td>Stag</td>\n",
       "      <td>Human</td>\n",
       "      <td>Half-blood</td>\n",
       "      <td>Black</td>\n",
       "      <td>Bright green</td>\n",
       "      <td>Albus Dumbledore | Dumbledore's Army | Order o...</td>\n",
       "      <td>Parseltongue| Defence Against the Dark Arts | ...</td>\n",
       "      <td>Thursday, July 31, 1980</td>\n",
       "      <td>NaN</td>\n",
       "    </tr>\n",
       "    <tr>\n",
       "      <th>2</th>\n",
       "      <td>Ronald Bilius Weasley</td>\n",
       "      <td>Male</td>\n",
       "      <td>Student</td>\n",
       "      <td>Gryffindor</td>\n",
       "      <td>12\" Ash unicorn tail hair</td>\n",
       "      <td>Jack Russell terrier</td>\n",
       "      <td>Human</td>\n",
       "      <td>Pure-blood</td>\n",
       "      <td>Red</td>\n",
       "      <td>Blue</td>\n",
       "      <td>Dumbledore's Army | Order of the Phoenix | Hog...</td>\n",
       "      <td>Wizard chess | Quidditch goalkeeping</td>\n",
       "      <td>Saturday, March 1, 1980</td>\n",
       "      <td>NaN</td>\n",
       "    </tr>\n",
       "    <tr>\n",
       "      <th>3</th>\n",
       "      <td>Hermione Jean Granger</td>\n",
       "      <td>Female</td>\n",
       "      <td>Student</td>\n",
       "      <td>Gryffindor</td>\n",
       "      <td>10¾\"  vine wood dragon heartstring</td>\n",
       "      <td>Otter</td>\n",
       "      <td>Human</td>\n",
       "      <td>Muggle-born</td>\n",
       "      <td>Brown</td>\n",
       "      <td>Brown</td>\n",
       "      <td>Dumbledore's Army | Order of the Phoenix | Hog...</td>\n",
       "      <td>Almost everything</td>\n",
       "      <td>19 September, 1979</td>\n",
       "      <td>NaN</td>\n",
       "    </tr>\n",
       "    <tr>\n",
       "      <th>4</th>\n",
       "      <td>Albus Percival Wulfric Brian Dumbledore</td>\n",
       "      <td>Male</td>\n",
       "      <td>Headmaster</td>\n",
       "      <td>Gryffindor</td>\n",
       "      <td>15\" Elder Thestral tail hair core</td>\n",
       "      <td>Phoenix</td>\n",
       "      <td>Human</td>\n",
       "      <td>Half-blood</td>\n",
       "      <td>Silver| formerly auburn</td>\n",
       "      <td>Blue</td>\n",
       "      <td>Dumbledore's Army | Order of the Phoenix | Hog...</td>\n",
       "      <td>Considered by many to be one of the most power...</td>\n",
       "      <td>Late August 1881</td>\n",
       "      <td>30 June, 1997</td>\n",
       "    </tr>\n",
       "    <tr>\n",
       "      <th>5</th>\n",
       "      <td>Rubeus Hagrid</td>\n",
       "      <td>Male</td>\n",
       "      <td>Keeper of Keys and Grounds | Professor of Care...</td>\n",
       "      <td>Gryffindor</td>\n",
       "      <td>16\"  Oak unknown core</td>\n",
       "      <td>None</td>\n",
       "      <td>Half-Human/Half-Giant</td>\n",
       "      <td>Part-Human</td>\n",
       "      <td>Black</td>\n",
       "      <td>Black</td>\n",
       "      <td>Albus Dumbledore | Order of the Phoenix | Hogw...</td>\n",
       "      <td>Resistant to stunning spells| above average st...</td>\n",
       "      <td>6 December 1928</td>\n",
       "      <td>NaN</td>\n",
       "    </tr>\n",
       "    <tr>\n",
       "      <th>...</th>\n",
       "      <td>...</td>\n",
       "      <td>...</td>\n",
       "      <td>...</td>\n",
       "      <td>...</td>\n",
       "      <td>...</td>\n",
       "      <td>...</td>\n",
       "      <td>...</td>\n",
       "      <td>...</td>\n",
       "      <td>...</td>\n",
       "      <td>...</td>\n",
       "      <td>...</td>\n",
       "      <td>...</td>\n",
       "      <td>...</td>\n",
       "      <td>...</td>\n",
       "    </tr>\n",
       "    <tr>\n",
       "      <th>136</th>\n",
       "      <td>Wilhelmina Grubbly-Plank</td>\n",
       "      <td>Female</td>\n",
       "      <td>Substitute professor of Care of Magical Creatu...</td>\n",
       "      <td>NaN</td>\n",
       "      <td>Unknown</td>\n",
       "      <td>Non-corporeal</td>\n",
       "      <td>Human</td>\n",
       "      <td>NaN</td>\n",
       "      <td>Grey</td>\n",
       "      <td>NaN</td>\n",
       "      <td>Hogwarts School of Witchcraft and Wizardry</td>\n",
       "      <td>NaN</td>\n",
       "      <td>NaN</td>\n",
       "      <td>NaN</td>\n",
       "    </tr>\n",
       "    <tr>\n",
       "      <th>137</th>\n",
       "      <td>Fenrir Greyback</td>\n",
       "      <td>Male</td>\n",
       "      <td>NaN</td>\n",
       "      <td>NaN</td>\n",
       "      <td>Unknown</td>\n",
       "      <td>None</td>\n",
       "      <td>Werewolf</td>\n",
       "      <td>NaN</td>\n",
       "      <td>Grey</td>\n",
       "      <td>NaN</td>\n",
       "      <td>Lord Voldemort  | Death Eaters</td>\n",
       "      <td>Physical combat</td>\n",
       "      <td>Pre 1945</td>\n",
       "      <td>NaN</td>\n",
       "    </tr>\n",
       "    <tr>\n",
       "      <th>138</th>\n",
       "      <td>Gellert Grindelwald</td>\n",
       "      <td>Male</td>\n",
       "      <td>Revolutionary leader(c. 1920s[6]  1945)</td>\n",
       "      <td>NaN</td>\n",
       "      <td>15\", Elder, Thestral tail hair core</td>\n",
       "      <td>NaN</td>\n",
       "      <td>Human</td>\n",
       "      <td>Pure-blood or half-blood</td>\n",
       "      <td>Blond</td>\n",
       "      <td>Blue</td>\n",
       "      <td>Gellert Grindelwald's Acolytes</td>\n",
       "      <td>Duelling</td>\n",
       "      <td>Saturday, February 25, 1905</td>\n",
       "      <td>March, 1998</td>\n",
       "    </tr>\n",
       "    <tr>\n",
       "      <th>139</th>\n",
       "      <td>Dobby</td>\n",
       "      <td>Male</td>\n",
       "      <td>Malfoy family's house-elf (? - 1993),</td>\n",
       "      <td>NaN</td>\n",
       "      <td>NaN</td>\n",
       "      <td>NaN</td>\n",
       "      <td>Elf</td>\n",
       "      <td>NaN</td>\n",
       "      <td>NaN</td>\n",
       "      <td>NaN</td>\n",
       "      <td>Hogwarts School of Witchcraft and Wizardry</td>\n",
       "      <td>NaN</td>\n",
       "      <td>NaN</td>\n",
       "      <td>NaN</td>\n",
       "    </tr>\n",
       "    <tr>\n",
       "      <th>140</th>\n",
       "      <td>Kreacher</td>\n",
       "      <td>Male</td>\n",
       "      <td>Black family's house-elf (?-1996),</td>\n",
       "      <td>NaN</td>\n",
       "      <td>NaN</td>\n",
       "      <td>NaN</td>\n",
       "      <td>NaN</td>\n",
       "      <td>NaN</td>\n",
       "      <td>NaN</td>\n",
       "      <td>NaN</td>\n",
       "      <td>NaN</td>\n",
       "      <td>NaN</td>\n",
       "      <td>NaN</td>\n",
       "      <td>NaN</td>\n",
       "    </tr>\n",
       "  </tbody>\n",
       "</table>\n",
       "<p>140 rows × 14 columns</p>\n",
       "</div>"
      ],
      "text/plain": [
       "                                        Name  Gender  \\\n",
       "Id                                                     \n",
       "1                         Harry James Potter    Male   \n",
       "2                      Ronald Bilius Weasley    Male   \n",
       "3                      Hermione Jean Granger  Female   \n",
       "4    Albus Percival Wulfric Brian Dumbledore    Male   \n",
       "5                              Rubeus Hagrid    Male   \n",
       "..                                       ...     ...   \n",
       "136                 Wilhelmina Grubbly-Plank  Female   \n",
       "137                          Fenrir Greyback    Male   \n",
       "138                      Gellert Grindelwald    Male   \n",
       "139                                    Dobby    Male   \n",
       "140                                 Kreacher    Male   \n",
       "\n",
       "                                                   Job       House  \\\n",
       "Id                                                                   \n",
       "1                                              Student  Gryffindor   \n",
       "2                                              Student  Gryffindor   \n",
       "3                                              Student  Gryffindor   \n",
       "4                                           Headmaster  Gryffindor   \n",
       "5    Keeper of Keys and Grounds | Professor of Care...  Gryffindor   \n",
       "..                                                 ...         ...   \n",
       "136  Substitute professor of Care of Magical Creatu...         NaN   \n",
       "137                                                NaN         NaN   \n",
       "138           Revolutionary leader(c. 1920s[6]  1945)         NaN   \n",
       "139              Malfoy family's house-elf (? - 1993),         NaN   \n",
       "140                Black family's house-elf (?-1996),          NaN   \n",
       "\n",
       "                                    Wand              Patronus  \\\n",
       "Id                                                               \n",
       "1            11\"  Holly  phoenix feather                  Stag   \n",
       "2             12\" Ash unicorn tail hair   Jack Russell terrier   \n",
       "3     10¾\"  vine wood dragon heartstring                 Otter   \n",
       "4      15\" Elder Thestral tail hair core               Phoenix   \n",
       "5                  16\"  Oak unknown core                  None   \n",
       "..                                   ...                   ...   \n",
       "136                              Unknown         Non-corporeal   \n",
       "137                              Unknown                  None   \n",
       "138  15\", Elder, Thestral tail hair core                   NaN   \n",
       "139                                  NaN                   NaN   \n",
       "140                                  NaN                   NaN   \n",
       "\n",
       "                   Species              Blood status              Hair colour  \\\n",
       "Id                                                                              \n",
       "1                    Human                Half-blood                    Black   \n",
       "2                    Human                Pure-blood                      Red   \n",
       "3                    Human               Muggle-born                    Brown   \n",
       "4                    Human                Half-blood  Silver| formerly auburn   \n",
       "5    Half-Human/Half-Giant                Part-Human                    Black   \n",
       "..                     ...                       ...                      ...   \n",
       "136                  Human                       NaN                     Grey   \n",
       "137               Werewolf                       NaN                     Grey   \n",
       "138                  Human  Pure-blood or half-blood                    Blond   \n",
       "139                    Elf                       NaN                      NaN   \n",
       "140                    NaN                       NaN                      NaN   \n",
       "\n",
       "       Eye colour                                            Loyalty  \\\n",
       "Id                                                                     \n",
       "1    Bright green  Albus Dumbledore | Dumbledore's Army | Order o...   \n",
       "2            Blue  Dumbledore's Army | Order of the Phoenix | Hog...   \n",
       "3           Brown  Dumbledore's Army | Order of the Phoenix | Hog...   \n",
       "4            Blue  Dumbledore's Army | Order of the Phoenix | Hog...   \n",
       "5           Black  Albus Dumbledore | Order of the Phoenix | Hogw...   \n",
       "..            ...                                                ...   \n",
       "136           NaN         Hogwarts School of Witchcraft and Wizardry   \n",
       "137           NaN                     Lord Voldemort  | Death Eaters   \n",
       "138          Blue                     Gellert Grindelwald's Acolytes   \n",
       "139           NaN         Hogwarts School of Witchcraft and Wizardry   \n",
       "140           NaN                                                NaN   \n",
       "\n",
       "                                                Skills  \\\n",
       "Id                                                       \n",
       "1    Parseltongue| Defence Against the Dark Arts | ...   \n",
       "2                 Wizard chess | Quidditch goalkeeping   \n",
       "3                                    Almost everything   \n",
       "4    Considered by many to be one of the most power...   \n",
       "5    Resistant to stunning spells| above average st...   \n",
       "..                                                 ...   \n",
       "136                                                NaN   \n",
       "137                                    Physical combat   \n",
       "138                                           Duelling   \n",
       "139                                                NaN   \n",
       "140                                                NaN   \n",
       "\n",
       "                           Birth           Death  \n",
       "Id                                                \n",
       "1        Thursday, July 31, 1980             NaN  \n",
       "2        Saturday, March 1, 1980             NaN  \n",
       "3             19 September, 1979             NaN  \n",
       "4               Late August 1881  30 June, 1997   \n",
       "5                6 December 1928             NaN  \n",
       "..                           ...             ...  \n",
       "136                          NaN             NaN  \n",
       "137                     Pre 1945             NaN  \n",
       "138  Saturday, February 25, 1905     March, 1998  \n",
       "139                          NaN             NaN  \n",
       "140                          NaN             NaN  \n",
       "\n",
       "[140 rows x 14 columns]"
      ]
     },
     "execution_count": 4,
     "metadata": {},
     "output_type": "execute_result"
    }
   ],
   "source": [
    "## Read dataset in using pandas. Fix index column or use default pandas index. \n",
    "harrydata = pd.read_csv('HarryPotter/datasets/Characters_edit.csv',encoding='unicode_escape').set_index('Id')\n",
    "harrydata = pd.DataFrame(harrydata)\n",
    "harrydata"
   ]
  },
  {
   "cell_type": "code",
   "execution_count": 5,
   "metadata": {},
   "outputs": [],
   "source": [
    "## Choose string to fill NaN. These will be set to 0 in system id = sid\n",
    "harry = harrydata[['House','Blood status','Species','Hair colour','Eye colour','Name']].fillna(\"Unknown\")\n",
    "for c in harry.columns:\n",
    "    harry[c] = harry[c].apply(lambda x : x.replace('\\xa0',' '))"
   ]
  },
  {
   "cell_type": "code",
   "execution_count": 6,
   "metadata": {},
   "outputs": [
    {
     "data": {
      "text/html": [
       "<div>\n",
       "<style scoped>\n",
       "    .dataframe tbody tr th:only-of-type {\n",
       "        vertical-align: middle;\n",
       "    }\n",
       "\n",
       "    .dataframe tbody tr th {\n",
       "        vertical-align: top;\n",
       "    }\n",
       "\n",
       "    .dataframe thead th {\n",
       "        text-align: right;\n",
       "    }\n",
       "</style>\n",
       "<table border=\"1\" class=\"dataframe\">\n",
       "  <thead>\n",
       "    <tr style=\"text-align: right;\">\n",
       "      <th></th>\n",
       "      <th>House</th>\n",
       "      <th>Blood status</th>\n",
       "      <th>Species</th>\n",
       "      <th>Hair colour</th>\n",
       "      <th>Eye colour</th>\n",
       "      <th>Name</th>\n",
       "    </tr>\n",
       "    <tr>\n",
       "      <th>Id</th>\n",
       "      <th></th>\n",
       "      <th></th>\n",
       "      <th></th>\n",
       "      <th></th>\n",
       "      <th></th>\n",
       "      <th></th>\n",
       "    </tr>\n",
       "  </thead>\n",
       "  <tbody>\n",
       "    <tr>\n",
       "      <th>1</th>\n",
       "      <td>Gryffindor</td>\n",
       "      <td>Half-blood</td>\n",
       "      <td>Human</td>\n",
       "      <td>Black</td>\n",
       "      <td>Bright green</td>\n",
       "      <td>Harry James Potter</td>\n",
       "    </tr>\n",
       "    <tr>\n",
       "      <th>2</th>\n",
       "      <td>Gryffindor</td>\n",
       "      <td>Pure-blood</td>\n",
       "      <td>Human</td>\n",
       "      <td>Red</td>\n",
       "      <td>Blue</td>\n",
       "      <td>Ronald Bilius Weasley</td>\n",
       "    </tr>\n",
       "    <tr>\n",
       "      <th>3</th>\n",
       "      <td>Gryffindor</td>\n",
       "      <td>Muggle-born</td>\n",
       "      <td>Human</td>\n",
       "      <td>Brown</td>\n",
       "      <td>Brown</td>\n",
       "      <td>Hermione Jean Granger</td>\n",
       "    </tr>\n",
       "    <tr>\n",
       "      <th>4</th>\n",
       "      <td>Gryffindor</td>\n",
       "      <td>Half-blood</td>\n",
       "      <td>Human</td>\n",
       "      <td>Silver| formerly auburn</td>\n",
       "      <td>Blue</td>\n",
       "      <td>Albus Percival Wulfric Brian Dumbledore</td>\n",
       "    </tr>\n",
       "    <tr>\n",
       "      <th>5</th>\n",
       "      <td>Gryffindor</td>\n",
       "      <td>Part-Human</td>\n",
       "      <td>Half-Human/Half-Giant</td>\n",
       "      <td>Black</td>\n",
       "      <td>Black</td>\n",
       "      <td>Rubeus Hagrid</td>\n",
       "    </tr>\n",
       "    <tr>\n",
       "      <th>6</th>\n",
       "      <td>Gryffindor</td>\n",
       "      <td>Pure-blood</td>\n",
       "      <td>Human</td>\n",
       "      <td>Blond</td>\n",
       "      <td>Unknown</td>\n",
       "      <td>Neville Longbottom</td>\n",
       "    </tr>\n",
       "    <tr>\n",
       "      <th>7</th>\n",
       "      <td>Gryffindor</td>\n",
       "      <td>Pure-blood</td>\n",
       "      <td>Human</td>\n",
       "      <td>Red</td>\n",
       "      <td>Brown</td>\n",
       "      <td>Fred Weasley</td>\n",
       "    </tr>\n",
       "    <tr>\n",
       "      <th>8</th>\n",
       "      <td>Gryffindor</td>\n",
       "      <td>Pure-blood</td>\n",
       "      <td>Human</td>\n",
       "      <td>Red</td>\n",
       "      <td>Brown</td>\n",
       "      <td>George Weasley</td>\n",
       "    </tr>\n",
       "    <tr>\n",
       "      <th>9</th>\n",
       "      <td>Gryffindor</td>\n",
       "      <td>Pure-blood</td>\n",
       "      <td>Human</td>\n",
       "      <td>Red</td>\n",
       "      <td>Bright brown</td>\n",
       "      <td>Ginevra (Ginny) Molly Weasley</td>\n",
       "    </tr>\n",
       "    <tr>\n",
       "      <th>10</th>\n",
       "      <td>Gryffindor</td>\n",
       "      <td>Muggle-born</td>\n",
       "      <td>Human</td>\n",
       "      <td>Black</td>\n",
       "      <td>Brown</td>\n",
       "      <td>Dean Thomas</td>\n",
       "    </tr>\n",
       "  </tbody>\n",
       "</table>\n",
       "</div>"
      ],
      "text/plain": [
       "         House Blood status                Species              Hair colour  \\\n",
       "Id                                                                            \n",
       "1   Gryffindor   Half-blood                  Human                    Black   \n",
       "2   Gryffindor   Pure-blood                  Human                      Red   \n",
       "3   Gryffindor  Muggle-born                  Human                    Brown   \n",
       "4   Gryffindor   Half-blood                  Human  Silver| formerly auburn   \n",
       "5   Gryffindor   Part-Human  Half-Human/Half-Giant                    Black   \n",
       "6   Gryffindor   Pure-blood                  Human                    Blond   \n",
       "7   Gryffindor   Pure-blood                  Human                      Red   \n",
       "8   Gryffindor   Pure-blood                  Human                      Red   \n",
       "9   Gryffindor   Pure-blood                  Human                      Red   \n",
       "10  Gryffindor  Muggle-born                  Human                    Black   \n",
       "\n",
       "      Eye colour                                     Name  \n",
       "Id                                                         \n",
       "1   Bright green                       Harry James Potter  \n",
       "2           Blue                    Ronald Bilius Weasley  \n",
       "3          Brown                    Hermione Jean Granger  \n",
       "4           Blue  Albus Percival Wulfric Brian Dumbledore  \n",
       "5          Black                            Rubeus Hagrid  \n",
       "6        Unknown                       Neville Longbottom  \n",
       "7          Brown                             Fred Weasley  \n",
       "8          Brown                           George Weasley  \n",
       "9   Bright brown            Ginevra (Ginny) Molly Weasley  \n",
       "10         Brown                              Dean Thomas  "
      ]
     },
     "execution_count": 6,
     "metadata": {},
     "output_type": "execute_result"
    }
   ],
   "source": [
    "harry.iloc[:10]"
   ]
  },
  {
   "cell_type": "markdown",
   "metadata": {},
   "source": [
    "### Generate a counter for each column \n",
    "- Assign a sid to each value in that column\n",
    "- Create a reverse counter to grab name from sid\n",
    "\n",
    "**Questions for Tony and Cliff**\n",
    "- how should we index the objects? \n",
    "- sids are whole numbers starting with column 0 and running through each column\n",
    "- ldict and rdict are indexed starting with 0 representing missing values\n",
    "- would we lose anything if we indexed these as -1 for missing values and then\n",
    "compute the incidence matrix using only nonnegative indices?"
   ]
  },
  {
   "cell_type": "code",
   "execution_count": 8,
   "metadata": {},
   "outputs": [
    {
     "data": {
      "text/plain": [
       "{'Unknown': 0,\n",
       " 'Gryffindor': 1,\n",
       " 'Ravenclaw': 2,\n",
       " 'Slytherin': 3,\n",
       " 'Hufflepuff': 4,\n",
       " 'Beauxbatons Academy of Magic': 5,\n",
       " 'Durmstrang Institute': 6}"
      ]
     },
     "execution_count": 8,
     "metadata": {},
     "output_type": "execute_result"
    }
   ],
   "source": [
    "ctr = [HNXCount() for c in range(len(harry.columns))]\n",
    "ldict = OrderedDict()\n",
    "rdict = OrderedDict()\n",
    "for idx,c in enumerate(harry.columns):\n",
    "    ldict[c] = defaultdict(ctr[idx])\n",
    "    rdict[c] = OrderedDict()\n",
    "    ldict[c]['Unknown']\n",
    "    rdict[c][0] = 'Unknown'\n",
    "    for k in harry[c]:\n",
    "        ldict[c][k]\n",
    "        rdict[c][ldict[c][k]] = k\n",
    "    ldict[c] = dict(ldict[c]) \n",
    "dims = tuple([len(ldict[c]) for c in harry.columns])\n",
    "\n",
    "ldict['House']"
   ]
  },
  {
   "cell_type": "code",
   "execution_count": 9,
   "metadata": {
    "scrolled": true
   },
   "outputs": [
    {
     "data": {
      "text/plain": [
       "odict_values(['Unknown', 'Bright green', 'Blue', 'Brown', 'Black', 'Bright brown', 'Hazel', 'Grey', 'Green', 'Dark', 'Pale silvery', 'Silvery', 'Gooseberry', 'Scarlet ', 'Pale, freckled', 'Astonishingly blue', 'Variable', 'One dark, one electric blue', 'Yellowish', 'Ruddy', 'Grey/Blue', 'Dark blue', 'Bright Blue', 'Dark Grey', 'Pale', 'Yellow'])"
      ]
     },
     "execution_count": 9,
     "metadata": {},
     "output_type": "execute_result"
    }
   ],
   "source": [
    "rdict['Eye colour'].values()"
   ]
  },
  {
   "cell_type": "markdown",
   "metadata": {},
   "source": [
    "### Create an array of tuples giving positions of 1's in incidence Tensor\n",
    "- The tuples indicate one point across the possible node/edge assignments\n",
    "- The dimensions of the tuple give the number of unique labels in potential nodes/columns"
   ]
  },
  {
   "cell_type": "code",
   "execution_count": 10,
   "metadata": {},
   "outputs": [
    {
     "name": "stdout",
     "output_type": "stream",
     "text": [
      "[[1 1 1 1 1 1]\n",
      " [1 2 1 2 2 2]\n",
      " [1 3 1 3 3 3]\n",
      " [1 1 1 4 2 4]\n",
      " [1 4 2 1 4 5]]\n",
      "\n",
      "Dimensions = (7, 11, 10, 36, 26, 141)\n"
     ]
    }
   ],
   "source": [
    "m = len(harry)\n",
    "n = len(harry.columns)\n",
    "data = np.zeros((m,n),dtype=int)\n",
    "for rid in range(m):\n",
    "    for cid in range(n):\n",
    "        c = harry.columns[cid]\n",
    "        data[rid,cid] = ldict[c][harry.iloc[rid][c]]\n",
    "dims = tuple([len(ldict[c]) for c in harry.columns])\n",
    "print(f'{data[:5]}\\n\\nDimensions = {dims}')"
   ]
  },
  {
   "cell_type": "code",
   "execution_count": 11,
   "metadata": {},
   "outputs": [
    {
     "data": {
      "text/plain": [
       "dict_keys(['Unknown', 'Gryffindor', 'Ravenclaw', 'Slytherin', 'Hufflepuff', 'Beauxbatons Academy of Magic', 'Durmstrang Institute'])"
      ]
     },
     "execution_count": 11,
     "metadata": {},
     "output_type": "execute_result"
    }
   ],
   "source": [
    "ldict['House'].keys()"
   ]
  },
  {
   "cell_type": "code",
   "execution_count": 12,
   "metadata": {},
   "outputs": [
    {
     "data": {
      "text/plain": [
       "(array([['Gryffindor', 'Half-blood', 'Human', 'Black', 'Bright green',\n",
       "         'Harry James Potter'],\n",
       "        ['Gryffindor', 'Pure-blood', 'Human', 'Red', 'Blue',\n",
       "         'Ronald Bilius Weasley'],\n",
       "        ['Gryffindor', 'Muggle-born', 'Human', 'Brown', 'Brown',\n",
       "         'Hermione Jean Granger'],\n",
       "        ['Gryffindor', 'Half-blood', 'Human', 'Silver| formerly aubu',\n",
       "         'Blue', 'Albus Percival Wulfri'],\n",
       "        ['Gryffindor', 'Part-Human', 'Half-Human/Half-Giant', 'Black',\n",
       "         'Black', 'Rubeus Hagrid']], dtype='<U21'),\n",
       " Id\n",
       " 1                         Harry James Potter\n",
       " 2                      Ronald Bilius Weasley\n",
       " 3                      Hermione Jean Granger\n",
       " 4    Albus Percival Wulfric Brian Dumbledore\n",
       " 5                              Rubeus Hagrid\n",
       " Name: Name, dtype: object)"
      ]
     },
     "execution_count": 12,
     "metadata": {},
     "output_type": "execute_result"
    }
   ],
   "source": [
    "## labeldata replaces numbers in data with their corresponding labels\n",
    "labeldata = np.array(data,dtype=str)\n",
    "for rdx in range(m):\n",
    "    for cdx in range(n):\n",
    "        c = harry.columns[cdx]\n",
    "        labeldata[rdx,cdx] = rdict[c][data[rdx,cdx]]\n",
    "## Make a hypergraph from the House and Blood Status\n",
    "labeldata[:,:][:5],harrydata['Name'][:5]"
   ]
  },
  {
   "cell_type": "markdown",
   "metadata": {},
   "source": [
    "## Create \"Tensor\" of incidence"
   ]
  },
  {
   "cell_type": "code",
   "execution_count": 13,
   "metadata": {},
   "outputs": [
    {
     "data": {
      "text/plain": [
       "140"
      ]
     },
     "execution_count": 13,
     "metadata": {},
     "output_type": "execute_result"
    }
   ],
   "source": [
    "imat = np.zeros(dims,dtype=int)\n",
    "for d in data:\n",
    "    imat[tuple(d)] +=1\n",
    "imat.shape\n",
    "\n",
    "np.sum(imat)"
   ]
  },
  {
   "cell_type": "code",
   "execution_count": 14,
   "metadata": {},
   "outputs": [
    {
     "data": {
      "text/plain": [
       "array([[[0, 0, 0, ..., 0, 1, 1],\n",
       "        [0, 0, 0, ..., 0, 0, 0],\n",
       "        [0, 0, 0, ..., 0, 0, 0],\n",
       "        ...,\n",
       "        [0, 0, 0, ..., 0, 0, 0],\n",
       "        [0, 0, 0, ..., 0, 0, 0],\n",
       "        [0, 0, 0, ..., 0, 0, 0]],\n",
       "\n",
       "       [[0, 0, 0, ..., 0, 0, 0],\n",
       "        [0, 1, 0, ..., 0, 0, 0],\n",
       "        [0, 0, 1, ..., 0, 0, 0],\n",
       "        ...,\n",
       "        [0, 0, 0, ..., 0, 0, 0],\n",
       "        [0, 0, 0, ..., 0, 0, 0],\n",
       "        [0, 0, 0, ..., 0, 0, 0]],\n",
       "\n",
       "       [[0, 0, 0, ..., 0, 0, 0],\n",
       "        [0, 0, 0, ..., 0, 0, 0],\n",
       "        [0, 0, 0, ..., 0, 0, 0],\n",
       "        ...,\n",
       "        [0, 0, 0, ..., 0, 0, 0],\n",
       "        [0, 0, 0, ..., 0, 0, 0],\n",
       "        [0, 0, 0, ..., 0, 0, 0]],\n",
       "\n",
       "       ...,\n",
       "\n",
       "       [[0, 0, 0, ..., 0, 0, 0],\n",
       "        [0, 0, 0, ..., 0, 0, 0],\n",
       "        [0, 0, 0, ..., 0, 0, 0],\n",
       "        ...,\n",
       "        [0, 0, 0, ..., 0, 0, 0],\n",
       "        [0, 0, 0, ..., 0, 0, 0],\n",
       "        [0, 0, 0, ..., 0, 0, 0]],\n",
       "\n",
       "       [[0, 0, 0, ..., 0, 0, 0],\n",
       "        [0, 0, 0, ..., 0, 0, 0],\n",
       "        [0, 0, 0, ..., 0, 0, 0],\n",
       "        ...,\n",
       "        [0, 0, 0, ..., 0, 0, 0],\n",
       "        [0, 0, 0, ..., 0, 0, 0],\n",
       "        [0, 0, 0, ..., 0, 0, 0]],\n",
       "\n",
       "       [[0, 0, 0, ..., 0, 0, 0],\n",
       "        [0, 0, 0, ..., 0, 0, 0],\n",
       "        [0, 0, 0, ..., 0, 0, 0],\n",
       "        ...,\n",
       "        [0, 0, 0, ..., 0, 0, 0],\n",
       "        [0, 0, 0, ..., 0, 0, 0],\n",
       "        [0, 0, 0, ..., 0, 0, 0]]])"
      ]
     },
     "execution_count": 14,
     "metadata": {},
     "output_type": "execute_result"
    }
   ],
   "source": [
    "np.sum(imat,axis = (2,3,4))"
   ]
  },
  {
   "cell_type": "code",
   "execution_count": 15,
   "metadata": {},
   "outputs": [
    {
     "data": {
      "text/plain": [
       "OrderedDict([('House',\n",
       "              {'Unknown': 0,\n",
       "               'Gryffindor': 1,\n",
       "               'Ravenclaw': 2,\n",
       "               'Slytherin': 3,\n",
       "               'Hufflepuff': 4,\n",
       "               'Beauxbatons Academy of Magic': 5,\n",
       "               'Durmstrang Institute': 6}),\n",
       "             ('Blood status',\n",
       "              {'Unknown': 0,\n",
       "               'Half-blood': 1,\n",
       "               'Pure-blood': 2,\n",
       "               'Muggle-born': 3,\n",
       "               'Part-Human': 4,\n",
       "               'Pure-blood or half-blood': 5,\n",
       "               'Part-Goblin': 6,\n",
       "               'Muggle-born or half-blood': 7,\n",
       "               'Quarter-Veela': 8,\n",
       "               'Muggle': 9,\n",
       "               'Squib': 10}),\n",
       "             ('Species',\n",
       "              {'Unknown': 0,\n",
       "               'Human': 1,\n",
       "               'Half-Human/Half-Giant': 2,\n",
       "               'Werewolf': 3,\n",
       "               'Human (Werewolf traits)': 4,\n",
       "               'Human(goblin ancestry)': 5,\n",
       "               'Ghost': 6,\n",
       "               'Centaur': 7,\n",
       "               'Human (Metamorphmagus)': 8,\n",
       "               'Elf': 9}),\n",
       "             ('Hair colour',\n",
       "              {'Unknown': 0,\n",
       "               'Black': 1,\n",
       "               'Red': 2,\n",
       "               'Brown': 3,\n",
       "               'Silver| formerly auburn': 4,\n",
       "               'Blond': 5,\n",
       "               'Sandy': 6,\n",
       "               'Auburn': 7,\n",
       "               'Light brown flecked with grey': 8,\n",
       "               'Colourless and balding': 9,\n",
       "               'Dark': 10,\n",
       "               'Mousy': 11,\n",
       "               'Dirty-blonde': 12,\n",
       "               'White': 13,\n",
       "               'Reddish-blonde': 14,\n",
       "               'Blonde': 15,\n",
       "               'White-blond': 16,\n",
       "               'Iron grey': 17,\n",
       "               'Bald': 18,\n",
       "               'Grey': 19,\n",
       "               'White (balding)': 20,\n",
       "               'Straw blond': 21,\n",
       "               'Variable': 22,\n",
       "               'Red brown': 23,\n",
       "               'Brown/greying': 24,\n",
       "               'Silver| formerly black': 25,\n",
       "               'Tawny': 26,\n",
       "               'Silver': 27,\n",
       "               'Silvery-blonde': 28,\n",
       "               'Ginger': 29,\n",
       "               'Straw-coloured': 30,\n",
       "               'Red ': 31,\n",
       "               'Reddish-brown': 32,\n",
       "               'Mousy brown': 33,\n",
       "               'Jet-black': 34,\n",
       "               'White blond': 35}),\n",
       "             ('Eye colour',\n",
       "              {'Unknown': 0,\n",
       "               'Bright green': 1,\n",
       "               'Blue': 2,\n",
       "               'Brown': 3,\n",
       "               'Black': 4,\n",
       "               'Bright brown': 5,\n",
       "               'Hazel': 6,\n",
       "               'Grey': 7,\n",
       "               'Green': 8,\n",
       "               'Dark': 9,\n",
       "               'Pale silvery': 10,\n",
       "               'Silvery': 11,\n",
       "               'Gooseberry': 12,\n",
       "               'Scarlet ': 13,\n",
       "               'Pale, freckled': 14,\n",
       "               'Astonishingly blue': 15,\n",
       "               'Variable': 16,\n",
       "               'One dark, one electric blue': 17,\n",
       "               'Yellowish': 18,\n",
       "               'Ruddy': 19,\n",
       "               'Grey/Blue': 20,\n",
       "               'Dark blue': 21,\n",
       "               'Bright Blue': 22,\n",
       "               'Dark Grey': 23,\n",
       "               'Pale': 24,\n",
       "               'Yellow': 25}),\n",
       "             ('Name',\n",
       "              {'Unknown': 0,\n",
       "               'Harry James Potter': 1,\n",
       "               'Ronald Bilius Weasley': 2,\n",
       "               'Hermione Jean Granger': 3,\n",
       "               'Albus Percival Wulfric Brian Dumbledore': 4,\n",
       "               'Rubeus Hagrid': 5,\n",
       "               'Neville Longbottom': 6,\n",
       "               'Fred Weasley': 7,\n",
       "               'George Weasley': 8,\n",
       "               'Ginevra (Ginny) Molly Weasley': 9,\n",
       "               'Dean Thomas': 10,\n",
       "               'Seamus Finnigan': 11,\n",
       "               'Lily J. Potter': 12,\n",
       "               'James Potter': 13,\n",
       "               'Sirius Black': 14,\n",
       "               'Remus John Lupin': 15,\n",
       "               'Peter Pettigrew': 16,\n",
       "               'Percy Ignatius Weasley': 17,\n",
       "               '(Bill) William Arthur Weasley': 18,\n",
       "               'Charles Weasley': 19,\n",
       "               'Lee Jordan ': 20,\n",
       "               'Oliver Wood': 21,\n",
       "               'Angelina Johnson': 22,\n",
       "               'Katie Bell': 23,\n",
       "               'Alicia Spinnet': 24,\n",
       "               'Lavender Brown': 25,\n",
       "               'Parvati Patil': 26,\n",
       "               'Romilda Vane': 27,\n",
       "               'Colin Creevey': 28,\n",
       "               'Cormac McLaggen': 29,\n",
       "               'Minerva McGonagall': 30,\n",
       "               'Molly Weasley': 31,\n",
       "               'Arthur Weasley': 32,\n",
       "               'Quirinus Quirrell': 33,\n",
       "               'Cho Chang': 34,\n",
       "               'Luna Lovegood': 35,\n",
       "               'Gilderoy Lockhart': 36,\n",
       "               'Filius Flitwick': 37,\n",
       "               'Sybill Patricia Trelawney': 38,\n",
       "               'Garrick Ollivander': 39,\n",
       "               'Myrtle Elizabeth Warren (Moaning Myrtle)': 40,\n",
       "               'Padma Patil': 41,\n",
       "               'Michael Corner': 42,\n",
       "               'Marietta Edgecombe': 43,\n",
       "               'Terry Boot': 44,\n",
       "               'Anthony Goldstein': 45,\n",
       "               'Severus Snape': 46,\n",
       "               'Draco Malfoy': 47,\n",
       "               'Vincent Crabbe': 48,\n",
       "               'Gregory Goyle': 49,\n",
       "               'Bellatrix Lestrange': 50,\n",
       "               'Dolores Jane Umbridge': 51,\n",
       "               'Horace Eugene Flaccus Slughorn': 52,\n",
       "               'Lucius Malfoy': 53,\n",
       "               'Narcissa Malfoy': 54,\n",
       "               'Regulus Arcturus Black': 55,\n",
       "               'Pansy Parkinson': 56,\n",
       "               'Blaise Zabini': 57,\n",
       "               'Tom Marvolo Riddle': 58,\n",
       "               'Theodore Nott': 59,\n",
       "               'Rodolphus Lestrange': 60,\n",
       "               'Millicent Bulstrode': 61,\n",
       "               'Graham Montague': 62,\n",
       "               'Bloody Baron': 63,\n",
       "               'Marcus Flint': 64,\n",
       "               'Penelope Clearwater': 65,\n",
       "               'Roger Davies': 66,\n",
       "               'Marcus Belby': 67,\n",
       "               'Salazar Slytherin': 68,\n",
       "               'Godric Gryffindor': 69,\n",
       "               'Rowena Ravenclaw': 70,\n",
       "               'Nicholas de Mimsy-Porpington': 71,\n",
       "               'Cuthbert Binns': 72,\n",
       "               'Barty Crouch Jr.': 73,\n",
       "               'Charity Burbage': 74,\n",
       "               'Firenze': 75,\n",
       "               'Alecto Carrow': 76,\n",
       "               'Amycus Carrow': 77,\n",
       "               'Helga Hufflepuff': 78,\n",
       "               'Fat Friar': 79,\n",
       "               'Helena Ravenclaw': 80,\n",
       "               'Nymphadora Tonks': 81,\n",
       "               'Pomona Sprout': 82,\n",
       "               'Newton Scamander': 83,\n",
       "               'Cedric Diggory': 84,\n",
       "               'Justin Finch-Fletchley': 85,\n",
       "               'Zacharias Smith': 86,\n",
       "               'Hannah Abbott': 87,\n",
       "               'Ernest Macmillan': 88,\n",
       "               'Susan Bones': 89,\n",
       "               'Walden Macnair': 90,\n",
       "               'Augustus Rookwood': 91,\n",
       "               'Antonin Dolohov': 92,\n",
       "               'Corban Yaxley': 93,\n",
       "               'Igor Karkaroff': 94,\n",
       "               'Kingsley Shacklebolt': 95,\n",
       "               'Alastor Moody': 96,\n",
       "               'Alice Longbottom': 97,\n",
       "               'Frank Longbottom': 98,\n",
       "               'Rufus Scrimgeour': 99,\n",
       "               'Cornelius Oswald Fudge': 100,\n",
       "               'Barty Crouch Sr.': 101,\n",
       "               'Amos Diggory': 102,\n",
       "               'Dedalus Diggle': 103,\n",
       "               'Elphias Doge': 104,\n",
       "               'Fleur Isabelle Delacour': 105,\n",
       "               'Aberforth Dumbledore': 106,\n",
       "               'Mundungus Fletcher': 107,\n",
       "               'Sturgis Podmore': 108,\n",
       "               'Hestia Jones': 109,\n",
       "               'Marlene McKinnon': 110,\n",
       "               'Fabian Prewett': 111,\n",
       "               'Gideon Prewett': 112,\n",
       "               'Emmeline Vance': 113,\n",
       "               'Edgar Bones': 114,\n",
       "               'Dorcas Meadowes': 115,\n",
       "               'Benjy Fenwick': 116,\n",
       "               'Madame Olympe Maxime': 117,\n",
       "               'Gabrielle Delacour': 118,\n",
       "               'Viktor Krum': 119,\n",
       "               'Petunia Dursley': 120,\n",
       "               'Vernon Dursley': 121,\n",
       "               'Dudley Dursley': 122,\n",
       "               'Marge Dursley': 123,\n",
       "               'Dennis Creevey': 124,\n",
       "               'Albus Severus Potter': 125,\n",
       "               'Scorpius Hyperion Malfoy': 126,\n",
       "               'Edward Remus Lupin': 127,\n",
       "               'James Sirius Potter': 128,\n",
       "               'Rose Granger-Weasley': 129,\n",
       "               'Argus Filch': 130,\n",
       "               'Poppy Pomfrey': 131,\n",
       "               'Rolanda Hooch': 132,\n",
       "               'Irma Pince': 133,\n",
       "               'Aurora Sinistra': 134,\n",
       "               'Septima Vector': 135,\n",
       "               'Wilhelmina Grubbly-Plank': 136,\n",
       "               'Fenrir Greyback': 137,\n",
       "               'Gellert Grindelwald': 138,\n",
       "               'Dobby': 139,\n",
       "               'Kreacher': 140})])"
      ]
     },
     "execution_count": 15,
     "metadata": {},
     "output_type": "execute_result"
    }
   ],
   "source": [
    "ldict"
   ]
  },
  {
   "cell_type": "code",
   "execution_count": 16,
   "metadata": {},
   "outputs": [
    {
     "data": {
      "text/plain": [
       "OrderedDict([('House',\n",
       "              array(['Unknown', 'Gryffindor', 'Ravenclaw', 'Slytherin', 'Hufflepuff',\n",
       "                     'Beauxbatons Academy of Magic', 'Durmstrang Institute'],\n",
       "                    dtype='<U28')),\n",
       "             ('Blood status',\n",
       "              array(['Unknown', 'Half-blood', 'Pure-blood', 'Muggle-born', 'Part-Human',\n",
       "                     'Pure-blood or half-blood', 'Part-Goblin',\n",
       "                     'Muggle-born or half-blood', 'Quarter-Veela', 'Muggle', 'Squib'],\n",
       "                    dtype='<U25')),\n",
       "             ('Species',\n",
       "              array(['Unknown', 'Human', 'Half-Human/Half-Giant', 'Werewolf',\n",
       "                     'Human (Werewolf traits)', 'Human(goblin ancestry)', 'Ghost',\n",
       "                     'Centaur', 'Human (Metamorphmagus)', 'Elf'], dtype='<U23')),\n",
       "             ('Hair colour',\n",
       "              array(['Unknown', 'Black', 'Red', 'Brown', 'Silver| formerly auburn',\n",
       "                     'Blond', 'Sandy', 'Auburn', 'Light brown flecked with grey',\n",
       "                     'Colourless and balding', 'Dark', 'Mousy', 'Dirty-blonde', 'White',\n",
       "                     'Reddish-blonde', 'Blonde', 'White-blond', 'Iron grey', 'Bald',\n",
       "                     'Grey', 'White (balding)', 'Straw blond', 'Variable', 'Red brown',\n",
       "                     'Brown/greying', 'Silver| formerly black', 'Tawny', 'Silver',\n",
       "                     'Silvery-blonde', 'Ginger', 'Straw-coloured', 'Red ',\n",
       "                     'Reddish-brown', 'Mousy brown', 'Jet-black', 'White blond'],\n",
       "                    dtype='<U29')),\n",
       "             ('Eye colour',\n",
       "              array(['Unknown', 'Bright green', 'Blue', 'Brown', 'Black',\n",
       "                     'Bright brown', 'Hazel', 'Grey', 'Green', 'Dark', 'Pale silvery',\n",
       "                     'Silvery', 'Gooseberry', 'Scarlet ', 'Pale, freckled',\n",
       "                     'Astonishingly blue', 'Variable', 'One dark, one electric blue',\n",
       "                     'Yellowish', 'Ruddy', 'Grey/Blue', 'Dark blue', 'Bright Blue',\n",
       "                     'Dark Grey', 'Pale', 'Yellow'], dtype='<U27')),\n",
       "             ('Name',\n",
       "              array(['Unknown', 'Harry James Potter', 'Ronald Bilius Weasley',\n",
       "                     'Hermione Jean Granger', 'Albus Percival Wulfric Brian Dumbledore',\n",
       "                     'Rubeus Hagrid', 'Neville Longbottom', 'Fred Weasley',\n",
       "                     'George Weasley', 'Ginevra (Ginny) Molly Weasley', 'Dean Thomas',\n",
       "                     'Seamus Finnigan', 'Lily J. Potter', 'James Potter',\n",
       "                     'Sirius Black', 'Remus John Lupin', 'Peter Pettigrew',\n",
       "                     'Percy Ignatius Weasley', '(Bill) William Arthur Weasley',\n",
       "                     'Charles Weasley', 'Lee Jordan ', 'Oliver Wood',\n",
       "                     'Angelina Johnson', 'Katie Bell', 'Alicia Spinnet',\n",
       "                     'Lavender Brown', 'Parvati Patil', 'Romilda Vane', 'Colin Creevey',\n",
       "                     'Cormac McLaggen', 'Minerva McGonagall', 'Molly Weasley',\n",
       "                     'Arthur Weasley', 'Quirinus Quirrell', 'Cho Chang',\n",
       "                     'Luna Lovegood', 'Gilderoy Lockhart', 'Filius Flitwick',\n",
       "                     'Sybill Patricia Trelawney', 'Garrick Ollivander',\n",
       "                     'Myrtle Elizabeth Warren (Moaning Myrtle)', 'Padma Patil',\n",
       "                     'Michael Corner', 'Marietta Edgecombe', 'Terry Boot',\n",
       "                     'Anthony Goldstein', 'Severus Snape', 'Draco Malfoy',\n",
       "                     'Vincent Crabbe', 'Gregory Goyle', 'Bellatrix Lestrange',\n",
       "                     'Dolores Jane Umbridge', 'Horace Eugene Flaccus Slughorn',\n",
       "                     'Lucius Malfoy', 'Narcissa Malfoy', 'Regulus Arcturus Black',\n",
       "                     'Pansy Parkinson', 'Blaise Zabini', 'Tom Marvolo Riddle',\n",
       "                     'Theodore Nott', 'Rodolphus Lestrange', 'Millicent Bulstrode',\n",
       "                     'Graham Montague', 'Bloody Baron', 'Marcus Flint',\n",
       "                     'Penelope Clearwater', 'Roger Davies', 'Marcus Belby',\n",
       "                     'Salazar Slytherin', 'Godric Gryffindor', 'Rowena Ravenclaw',\n",
       "                     'Nicholas de Mimsy-Porpington', 'Cuthbert Binns',\n",
       "                     'Barty Crouch Jr.', 'Charity Burbage', 'Firenze', 'Alecto Carrow',\n",
       "                     'Amycus Carrow', 'Helga Hufflepuff', 'Fat Friar',\n",
       "                     'Helena Ravenclaw', 'Nymphadora Tonks', 'Pomona Sprout',\n",
       "                     'Newton Scamander', 'Cedric Diggory', 'Justin Finch-Fletchley',\n",
       "                     'Zacharias Smith', 'Hannah Abbott', 'Ernest Macmillan',\n",
       "                     'Susan Bones', 'Walden Macnair', 'Augustus Rookwood',\n",
       "                     'Antonin Dolohov', 'Corban Yaxley', 'Igor Karkaroff',\n",
       "                     'Kingsley Shacklebolt', 'Alastor Moody', 'Alice Longbottom',\n",
       "                     'Frank Longbottom', 'Rufus Scrimgeour', 'Cornelius Oswald Fudge',\n",
       "                     'Barty Crouch Sr.', 'Amos Diggory', 'Dedalus Diggle',\n",
       "                     'Elphias Doge', 'Fleur Isabelle Delacour', 'Aberforth Dumbledore',\n",
       "                     'Mundungus Fletcher', 'Sturgis Podmore', 'Hestia Jones',\n",
       "                     'Marlene McKinnon', 'Fabian Prewett', 'Gideon Prewett',\n",
       "                     'Emmeline Vance', 'Edgar Bones', 'Dorcas Meadowes',\n",
       "                     'Benjy Fenwick', 'Madame Olympe Maxime', 'Gabrielle Delacour',\n",
       "                     'Viktor Krum', 'Petunia Dursley', 'Vernon Dursley',\n",
       "                     'Dudley Dursley', 'Marge Dursley', 'Dennis Creevey',\n",
       "                     'Albus Severus Potter', 'Scorpius Hyperion Malfoy',\n",
       "                     'Edward Remus Lupin', 'James Sirius Potter',\n",
       "                     'Rose Granger-Weasley', 'Argus Filch', 'Poppy Pomfrey',\n",
       "                     'Rolanda Hooch', 'Irma Pince', 'Aurora Sinistra', 'Septima Vector',\n",
       "                     'Wilhelmina Grubbly-Plank', 'Fenrir Greyback',\n",
       "                     'Gellert Grindelwald', 'Dobby', 'Kreacher'], dtype='<U40'))])"
      ]
     },
     "execution_count": 16,
     "metadata": {},
     "output_type": "execute_result"
    }
   ],
   "source": [
    "slabels=OrderedDict()\n",
    "for cdx,c in enumerate(harry.columns):\n",
    "    slabels.update({c:np.array(list(ldict[c].keys()))})\n",
    "\n",
    "slabels"
   ]
  },
  {
   "cell_type": "markdown",
   "metadata": {},
   "source": [
    "## Create StaticEntity "
   ]
  },
  {
   "cell_type": "code",
   "execution_count": 17,
   "metadata": {},
   "outputs": [
    {
     "data": {
      "text/plain": [
       "(7, 11, 10, 36, 26, 141)"
      ]
     },
     "execution_count": 17,
     "metadata": {},
     "output_type": "execute_result"
    }
   ],
   "source": [
    "imp.reload(us)\n",
    "E = us.StaticEntity(imat, slabels)\n",
    "E.dimensions"
   ]
  },
  {
   "cell_type": "code",
   "execution_count": 18,
   "metadata": {},
   "outputs": [
    {
     "data": {
      "text/plain": [
       "(OrderedDict([('Unknown',\n",
       "               ['Unknown', 'Half-blood', 'Pure-blood', 'Part-Human']),\n",
       "              ('Gryffindor',\n",
       "               ['Unknown',\n",
       "                'Half-blood',\n",
       "                'Pure-blood',\n",
       "                'Muggle-born',\n",
       "                'Part-Human']),\n",
       "              ('Ravenclaw',\n",
       "               ['Unknown', 'Half-blood', 'Muggle-born', 'Part-Human']),\n",
       "              ('Slytherin', ['Half-blood', 'Pure-blood', 'Part-Human']),\n",
       "              ('Hufflepuff', ['Half-blood', 'Pure-blood or half-blood']),\n",
       "              ('Beauxbatons Academy of Magic',\n",
       "               ['Unknown',\n",
       "                'Half-blood',\n",
       "                'Pure-blood',\n",
       "                'Muggle-born',\n",
       "                'Part-Human',\n",
       "                'Part-Goblin']),\n",
       "              ('Durmstrang Institute', ['Pure-blood'])]),\n",
       " {'Half-blood',\n",
       "  'Muggle',\n",
       "  'Muggle-born',\n",
       "  'Muggle-born or half-blood',\n",
       "  'Part-Goblin',\n",
       "  'Part-Human',\n",
       "  'Pure-blood',\n",
       "  'Pure-blood or half-blood',\n",
       "  'Quarter-Veela',\n",
       "  'Squib',\n",
       "  'Unknown'})"
      ]
     },
     "execution_count": 18,
     "metadata": {},
     "output_type": "execute_result"
    }
   ],
   "source": [
    "E.elements,E.children"
   ]
  },
  {
   "cell_type": "code",
   "execution_count": 19,
   "metadata": {},
   "outputs": [
    {
     "ename": "AttributeError",
     "evalue": "'StaticEntity' object has no attribute 'incidence_matrix'",
     "output_type": "error",
     "traceback": [
      "\u001b[0;31m---------------------------------------------------------------------------\u001b[0m",
      "\u001b[0;31mAttributeError\u001b[0m                            Traceback (most recent call last)",
      "\u001b[0;32m<ipython-input-19-5f5ef949c3d1>\u001b[0m in \u001b[0;36m<module>\u001b[0;34m\u001b[0m\n\u001b[0;32m----> 1\u001b[0;31m \u001b[0mE\u001b[0m\u001b[0;34m.\u001b[0m\u001b[0mincidence_matrix\u001b[0m\u001b[0;34m(\u001b[0m\u001b[0;36m0\u001b[0m\u001b[0;34m,\u001b[0m\u001b[0;36m1\u001b[0m\u001b[0;34m)\u001b[0m\u001b[0;34m\u001b[0m\u001b[0;34m\u001b[0m\u001b[0m\n\u001b[0m",
      "\u001b[0;31mAttributeError\u001b[0m: 'StaticEntity' object has no attribute 'incidence_matrix'"
     ]
    }
   ],
   "source": [
    "E.incidence_matrix(0,1)"
   ]
  },
  {
   "cell_type": "code",
   "execution_count": null,
   "metadata": {},
   "outputs": [],
   "source": [
    "elts = E.elements_by_level(0,1);elts"
   ]
  },
  {
   "cell_type": "code",
   "execution_count": 20,
   "metadata": {},
   "outputs": [],
   "source": [
    "level1,level2 = 0,4\n",
    "elts = E.elements_by_level(level1,level2)\n"
   ]
  },
  {
   "cell_type": "code",
   "execution_count": 21,
   "metadata": {},
   "outputs": [
    {
     "data": {
      "text/plain": [
       "OrderedDict([('Unknown', ['Unknown', 'Bright green', 'Blue', 'Black']),\n",
       "             ('Gryffindor',\n",
       "              ['Unknown', 'Bright green', 'Blue', 'Brown', 'Black']),\n",
       "             ('Ravenclaw', ['Unknown', 'Bright green', 'Brown', 'Black']),\n",
       "             ('Slytherin', ['Bright green', 'Blue', 'Black']),\n",
       "             ('Hufflepuff', ['Bright green', 'Bright brown']),\n",
       "             ('Beauxbatons Academy of Magic',\n",
       "              ['Unknown', 'Bright green', 'Blue', 'Brown', 'Black', 'Hazel']),\n",
       "             ('Durmstrang Institute', ['Blue'])])"
      ]
     },
     "execution_count": 21,
     "metadata": {},
     "output_type": "execute_result"
    }
   ],
   "source": [
    "E.elements_by_level(level1,level2,translate=True)"
   ]
  },
  {
   "cell_type": "markdown",
   "metadata": {},
   "source": [
    "## Select columns to use from data and create hypergraph"
   ]
  },
  {
   "cell_type": "code",
   "execution_count": 22,
   "metadata": {},
   "outputs": [],
   "source": [
    "Edx = 0;Ndx = 1\n",
    "Ename = harry.columns[Edx];Nname = harry.columns[Ndx]"
   ]
  },
  {
   "cell_type": "code",
   "execution_count": 23,
   "metadata": {
    "scrolled": true
   },
   "outputs": [
    {
     "data": {
      "text/plain": [
       "(array([[ 0,  0],\n",
       "        [ 0,  1],\n",
       "        [ 0,  2],\n",
       "        [ 0,  4],\n",
       "        [ 1,  0],\n",
       "        [ 1,  1],\n",
       "        [ 1,  2],\n",
       "        [ 1,  3],\n",
       "        [ 1,  4],\n",
       "        [ 2,  0],\n",
       "        [ 2,  1],\n",
       "        [ 2,  3],\n",
       "        [ 2,  4],\n",
       "        [ 3,  1],\n",
       "        [ 3,  2],\n",
       "        [ 3,  4],\n",
       "        [ 4,  1],\n",
       "        [ 4,  5],\n",
       "        [ 5,  0],\n",
       "        [ 5,  1],\n",
       "        [ 5,  2],\n",
       "        [ 5,  3],\n",
       "        [ 5,  4],\n",
       "        [ 5,  6],\n",
       "        [ 6,  2],\n",
       "        [ 7,  2],\n",
       "        [ 8,  5],\n",
       "        [ 9,  0],\n",
       "        [10,  0]]),\n",
       " array([14,  2,  1,  1,  2,  7,  6,  5,  4,  7, 14, 11,  2,  5,  1,  1,  1,\n",
       "         1, 11,  9,  8, 12,  5,  1,  1,  1,  2,  4,  1]))"
      ]
     },
     "execution_count": 23,
     "metadata": {},
     "output_type": "execute_result"
    }
   ],
   "source": [
    "## Add weights to hypergraph \n",
    "thisdata = data[:,[Ndx,Edx]].astype(int)\n",
    "sp,counts = np.unique(thisdata,axis=0,return_counts=True)\n",
    "sp,counts"
   ]
  },
  {
   "cell_type": "code",
   "execution_count": 24,
   "metadata": {},
   "outputs": [],
   "source": [
    "mat = np.zeros((dims[Ndx],dims[Edx]),dtype=int)\n",
    "for d in range(len(counts)):\n",
    "    mat[sp[d][0],sp[d][1]] = counts[d]"
   ]
  },
  {
   "cell_type": "code",
   "execution_count": 25,
   "metadata": {},
   "outputs": [
    {
     "name": "stdout",
     "output_type": "stream",
     "text": [
      "[[ 7  6  5  4  0  0]\n",
      " [14  0 11  2  0  0]\n",
      " [ 5  1  0  1  0  0]\n",
      " [ 1  0  0  0  1  0]\n",
      " [ 9  8 12  5  0  1]\n",
      " [ 0  1  0  0  0  0]\n",
      " [ 0  1  0  0  0  0]\n",
      " [ 0  0  0  0  2  0]\n",
      " [ 0  0  0  0  0  0]\n",
      " [ 0  0  0  0  0  0]]\n"
     ]
    }
   ],
   "source": [
    "## the matrix will generate a hypergraph. Non zero entries will be 1's\n",
    "print(mat[1:,1:])"
   ]
  },
  {
   "cell_type": "code",
   "execution_count": 26,
   "metadata": {},
   "outputs": [
    {
     "data": {
      "text/plain": [
       "{'Half-blood': 1.1804123711340206,\n",
       " 'Pure-blood': 1.3350515463917527,\n",
       " 'Muggle-born': 0.7164948453608248,\n",
       " 'Part-Human': 0.5618556701030928,\n",
       " 'Pure-blood or half-blood': 1.5824742268041236,\n",
       " 'Part-Goblin': 0.5309278350515464,\n",
       " 'Muggle-born or half-blood': 0.5309278350515464,\n",
       " 'Quarter-Veela': 0.5618556701030928,\n",
       " 'Muggle': 0.5,\n",
       " 'Squib': 0.5}"
      ]
     },
     "execution_count": 26,
     "metadata": {},
     "output_type": "execute_result"
    }
   ],
   "source": [
    "## Generate weights for each of the nodes based on counts relative to the whole\n",
    "M = mat[1:,1:]\n",
    "tot = np.sum(M)\n",
    "radii = dict(zip([rdict[Nname][r] for r in range(1,len(rdict[Nname]))],[0.5+3*np.sum(M[r],axis=0)/tot for r in range(dims[Ndx]-1)]))\n",
    "radii"
   ]
  },
  {
   "cell_type": "code",
   "execution_count": 27,
   "metadata": {},
   "outputs": [
    {
     "data": {
      "text/plain": [
       "OrderedDict([('Gryffindor', 1.6134020618556701),\n",
       "             ('Ravenclaw', 1.0257731958762886),\n",
       "             ('Slytherin', 1.365979381443299),\n",
       "             ('Hufflepuff', 0.8711340206185567),\n",
       "             ('Beauxbatons Academy of Magic', 0.5927835051546392),\n",
       "             ('Durmstrang Institute', 0.5309278350515464)])"
      ]
     },
     "execution_count": 27,
     "metadata": {},
     "output_type": "execute_result"
    }
   ],
   "source": [
    "## Generate weights for each of the edges in the same way\n",
    "Mt = M.transpose()\n",
    "tott = np.sum(Mt)\n",
    "radiit = OrderedDict(zip([rdict[Ename][r] for r in range(1,len(rdict[Ename]))],[0.5+3*np.sum(Mt[r],axis=0)/tot for r in range(dims[Edx]-1)]))\n",
    "radiit"
   ]
  },
  {
   "cell_type": "code",
   "execution_count": 28,
   "metadata": {},
   "outputs": [
    {
     "data": {
      "text/plain": [
       "(OrderedDict([(0, 'Unknown'),\n",
       "              (1, 'Half-blood'),\n",
       "              (2, 'Pure-blood'),\n",
       "              (3, 'Muggle-born'),\n",
       "              (4, 'Part-Human'),\n",
       "              (5, 'Pure-blood or half-blood'),\n",
       "              (6, 'Part-Goblin'),\n",
       "              (7, 'Muggle-born or half-blood'),\n",
       "              (8, 'Quarter-Veela'),\n",
       "              (9, 'Muggle'),\n",
       "              (10, 'Squib')]),\n",
       " OrderedDict([(0, 'Unknown'),\n",
       "              (1, 'Gryffindor'),\n",
       "              (2, 'Ravenclaw'),\n",
       "              (3, 'Slytherin'),\n",
       "              (4, 'Hufflepuff'),\n",
       "              (5, 'Beauxbatons Academy of Magic'),\n",
       "              (6, 'Durmstrang Institute')]))"
      ]
     },
     "execution_count": 28,
     "metadata": {},
     "output_type": "execute_result"
    }
   ],
   "source": [
    "rdict[Nname],rdict[Ename]"
   ]
  },
  {
   "cell_type": "code",
   "execution_count": 29,
   "metadata": {},
   "outputs": [],
   "source": [
    "edges = [rdict[Ename][k] for k in range(1,dims[Edx])]\n",
    "nodes = [rdict[Nname][k] for k in range(1,dims[Ndx])]\n",
    "hmat = np.where(M >0, 1,0)"
   ]
  },
  {
   "cell_type": "code",
   "execution_count": 30,
   "metadata": {},
   "outputs": [
    {
     "data": {
      "text/plain": [
       "array([[1, 1, 1, 1, 0, 0],\n",
       "       [1, 0, 1, 1, 0, 0],\n",
       "       [1, 1, 0, 1, 0, 0],\n",
       "       [1, 0, 0, 0, 1, 0],\n",
       "       [1, 1, 1, 1, 0, 1],\n",
       "       [0, 1, 0, 0, 0, 0],\n",
       "       [0, 1, 0, 0, 0, 0],\n",
       "       [0, 0, 0, 0, 1, 0],\n",
       "       [0, 0, 0, 0, 0, 0],\n",
       "       [0, 0, 0, 0, 0, 0]])"
      ]
     },
     "execution_count": 30,
     "metadata": {},
     "output_type": "execute_result"
    }
   ],
   "source": [
    "hmat"
   ]
  },
  {
   "cell_type": "code",
   "execution_count": 31,
   "metadata": {},
   "outputs": [
    {
     "ename": "NameError",
     "evalue": "name 'hnx' is not defined",
     "output_type": "error",
     "traceback": [
      "\u001b[0;31m---------------------------------------------------------------------------\u001b[0m",
      "\u001b[0;31mNameError\u001b[0m                                 Traceback (most recent call last)",
      "\u001b[0;32m<ipython-input-31-bf3e315f94d4>\u001b[0m in \u001b[0;36m<module>\u001b[0;34m\u001b[0m\n\u001b[0;32m----> 1\u001b[0;31m \u001b[0mharryshyp\u001b[0m \u001b[0;34m=\u001b[0m \u001b[0mhnx\u001b[0m\u001b[0;34m.\u001b[0m\u001b[0mHypergraph\u001b[0m\u001b[0;34m.\u001b[0m\u001b[0mfrom_numpy_array\u001b[0m\u001b[0;34m(\u001b[0m\u001b[0mhmat\u001b[0m\u001b[0;34m,\u001b[0m\u001b[0mnode_names\u001b[0m\u001b[0;34m=\u001b[0m\u001b[0mnodes\u001b[0m\u001b[0;34m,\u001b[0m\u001b[0medge_names\u001b[0m\u001b[0;34m=\u001b[0m\u001b[0medges\u001b[0m\u001b[0;34m)\u001b[0m\u001b[0;34m\u001b[0m\u001b[0;34m\u001b[0m\u001b[0m\n\u001b[0m",
      "\u001b[0;31mNameError\u001b[0m: name 'hnx' is not defined"
     ]
    }
   ],
   "source": [
    "harryshyp = hnx.Hypergraph.from_numpy_array(hmat,node_names=nodes,edge_names=edges)"
   ]
  },
  {
   "cell_type": "code",
   "execution_count": 32,
   "metadata": {},
   "outputs": [
    {
     "ename": "NameError",
     "evalue": "name 'harryshyp' is not defined",
     "output_type": "error",
     "traceback": [
      "\u001b[0;31m---------------------------------------------------------------------------\u001b[0m",
      "\u001b[0;31mNameError\u001b[0m                                 Traceback (most recent call last)",
      "\u001b[0;32m<ipython-input-32-a80cf32d53d9>\u001b[0m in \u001b[0;36m<module>\u001b[0;34m\u001b[0m\n\u001b[0;32m----> 1\u001b[0;31m \u001b[0mm\u001b[0m\u001b[0;34m,\u001b[0m\u001b[0mrd\u001b[0m\u001b[0;34m,\u001b[0m\u001b[0mcd\u001b[0m \u001b[0;34m=\u001b[0m \u001b[0mharryshyp\u001b[0m\u001b[0;34m.\u001b[0m\u001b[0mincidence_matrix\u001b[0m\u001b[0;34m(\u001b[0m\u001b[0mindex\u001b[0m\u001b[0;34m=\u001b[0m\u001b[0;32mTrue\u001b[0m\u001b[0;34m)\u001b[0m  \u001b[0;31m## how to force the incidence matrix to agree with order of input?\u001b[0m\u001b[0;34m\u001b[0m\u001b[0;34m\u001b[0m\u001b[0m\n\u001b[0m\u001b[1;32m      2\u001b[0m \u001b[0;34m\u001b[0m\u001b[0m\n\u001b[1;32m      3\u001b[0m \u001b[0;31m## by setting a static flag on construction the hmat will be treated as arr and node_names, edge_names will be turned into labels\u001b[0m\u001b[0;34m\u001b[0m\u001b[0;34m\u001b[0m\u001b[0;34m\u001b[0m\u001b[0m\n\u001b[1;32m      4\u001b[0m \u001b[0;31m## in this case the hmat is already the incidence matrix\u001b[0m\u001b[0;34m\u001b[0m\u001b[0;34m\u001b[0m\u001b[0;34m\u001b[0m\u001b[0m\n",
      "\u001b[0;31mNameError\u001b[0m: name 'harryshyp' is not defined"
     ]
    }
   ],
   "source": [
    "m,rd,cd = harryshyp.incidence_matrix(index=True)  ## how to force the incidence matrix to agree with order of input?\n",
    "\n",
    "## by setting a static flag on construction the hmat will be treated as arr and node_names, edge_names will be turned into labels\n",
    "## in this case the hmat is already the incidence matrix"
   ]
  },
  {
   "cell_type": "code",
   "execution_count": 31,
   "metadata": {},
   "outputs": [
    {
     "data": {
      "text/plain": [
       "matrix([[0, 1, 0, 1, 1, 1],\n",
       "        [0, 1, 1, 1, 1, 1],\n",
       "        [0, 1, 0, 1, 1, 0],\n",
       "        [1, 1, 0, 0, 0, 0],\n",
       "        [1, 0, 0, 0, 0, 0],\n",
       "        [0, 0, 0, 0, 0, 1],\n",
       "        [0, 0, 0, 0, 0, 1],\n",
       "        [0, 1, 0, 1, 0, 1]])"
      ]
     },
     "execution_count": 31,
     "metadata": {},
     "output_type": "execute_result"
    }
   ],
   "source": [
    "m.todense()"
   ]
  },
  {
   "cell_type": "code",
   "execution_count": 32,
   "metadata": {},
   "outputs": [
    {
     "data": {
      "text/plain": [
       "(OrderedDict([(0, 'Unknown'),\n",
       "              (1, 'Half-blood'),\n",
       "              (2, 'Pure-blood'),\n",
       "              (3, 'Muggle-born'),\n",
       "              (4, 'Part-Human'),\n",
       "              (5, 'Pure-blood or half-blood'),\n",
       "              (6, 'Part-Goblin'),\n",
       "              (7, 'Muggle-born or half-blood'),\n",
       "              (8, 'Quarter-Veela'),\n",
       "              (9, 'Muggle'),\n",
       "              (10, 'Squib')]),\n",
       " {0: 'Half-blood',\n",
       "  1: 'Pure-blood or half-blood',\n",
       "  2: 'Pure-blood',\n",
       "  3: 'Part-Human',\n",
       "  4: 'Quarter-Veela',\n",
       "  5: 'Muggle-born or half-blood',\n",
       "  6: 'Part-Goblin',\n",
       "  7: 'Muggle-born'})"
      ]
     },
     "execution_count": 32,
     "metadata": {},
     "output_type": "execute_result"
    }
   ],
   "source": [
    "rdict['Blood status'],rd"
   ]
  },
  {
   "cell_type": "raw",
   "metadata": {},
   "source": [
    "fig,ax = plt.subplots(figsize=(15,10))\n",
    "hnx.draw(harryshyp,node_radius=radii)"
   ]
  },
  {
   "cell_type": "markdown",
   "metadata": {},
   "source": [
    "<img src=\"HarryPotter/bloodstatus-house.png\">"
   ]
  },
  {
   "cell_type": "code",
   "execution_count": 33,
   "metadata": {},
   "outputs": [
    {
     "data": {
      "text/plain": [
       "(1, 1)"
      ]
     },
     "execution_count": 33,
     "metadata": {},
     "output_type": "execute_result"
    }
   ],
   "source": [
    "E.level('Half-blood')\n"
   ]
  },
  {
   "cell_type": "code",
   "execution_count": null,
   "metadata": {},
   "outputs": [],
   "source": [
    "E.elements_by_level(1,0,translate=True)"
   ]
  },
  {
   "cell_type": "code",
   "execution_count": null,
   "metadata": {},
   "outputs": [],
   "source": []
  }
 ],
 "metadata": {
  "kernelspec": {
   "display_name": "Python 3",
   "language": "python",
   "name": "python3"
  },
  "language_info": {
   "codemirror_mode": {
    "name": "ipython",
    "version": 3
   },
   "file_extension": ".py",
   "mimetype": "text/x-python",
   "name": "python",
   "nbconvert_exporter": "python",
   "pygments_lexer": "ipython3",
   "version": "3.8.5"
  }
 },
 "nbformat": 4,
 "nbformat_minor": 2
}
