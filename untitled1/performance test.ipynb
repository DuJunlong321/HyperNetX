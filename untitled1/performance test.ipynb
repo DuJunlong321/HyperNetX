{
 "cells": [
  {
   "cell_type": "code",
   "execution_count": 1,
   "metadata": {},
   "outputs": [],
   "source": [
    "import hypernetx as hnx\n",
    "import numpy as np\n",
    "from numpy.random import choice\n",
    "from time import perf_counter,sleep\n",
    "import datetime as dtm"
   ]
  },
  {
   "cell_type": "code",
   "execution_count": 2,
   "metadata": {},
   "outputs": [],
   "source": [
    "## Create an incidence matrix\n",
    "V = 1000;E = 500\n",
    "arr = choice([0,1],size=(V,E), p=[0.6,0.4])"
   ]
  },
  {
   "cell_type": "code",
   "execution_count": 8,
   "metadata": {},
   "outputs": [],
   "source": [
    "## Hypergraph generation\n",
    "def genh(V,E,p=[0.9,0.1]):\n",
    "    t0 = perf_counter()\n",
    "    arr = choice([0,1],size=(V,E), p=p)\n",
    "    h = hnx.Hypergraph.from_numpy_array(arr,node_names=range(V),edge_names=range(V,V+E))\n",
    "    t1 = perf_counter()\n",
    "    c = h.connected_components()\n",
    "    t2 = perf_counter()\n",
    "#     b = hnx.betti_number(h,1)\n",
    "    print(h.shape,hnx.info_dict(h),t1-t0,t2-t1)\n",
    "    return h#get_time(t1-t1),get_time(t3-t1)"
   ]
  },
  {
   "cell_type": "code",
   "execution_count": 4,
   "metadata": {},
   "outputs": [
    {
     "name": "stdout",
     "output_type": "stream",
     "text": [
      "(1000, 500) {'nrows': 1000, 'ncols': 500, 'aspect ratio': 2.0, 'ncells': 49712, 'density': 0.099424} 6.741941614993266 2.5370100047439337e-06\n"
     ]
    }
   ],
   "source": [
    "h = genh(1000,500)"
   ]
  },
  {
   "cell_type": "code",
   "execution_count": 5,
   "metadata": {},
   "outputs": [
    {
     "data": {
      "text/plain": [
       "Entity(1000,[1, 7, 520, 17, 532, 26, 553, 554, 59, 67, 77, 79, 87, 599, 602, 91, 96, 103, 617, 619, 113, 118, 636, 645, 646, 664, 167, 185, 701, 703, 195, 709, 710, 712, 204, 212, 729, 731, 734, 736, 225, 228, 740, 742, 745, 246, 247, 759, 760, 758, 771, 788, 284, 796, 797, 297, 300, 301, 817, 307, 311, 313, 833, 837, 339, 341, 854, 343, 357, 873, 363, 876, 877, 366, 880, 369, 371, 376, 897, 389, 904, 907, 911, 408, 414, 926, 416, 435, 436, 948, 955, 964, 968, 974, 472, 474, 986, 997],{})"
      ]
     },
     "execution_count": 5,
     "metadata": {},
     "output_type": "execute_result"
    }
   ],
   "source": [
    "h.edges[1000]"
   ]
  },
  {
   "cell_type": "code",
   "execution_count": 19,
   "metadata": {},
   "outputs": [
    {
     "name": "stdout",
     "output_type": "stream",
     "text": [
      "(6, 5) {'nrows': 6, 'ncols': 5, 'aspect ratio': 1.2, 'ncells': 9, 'density': 0.3} 0.001772727002389729 2.9109942261129618e-06\n",
      "Fri Aug 14 22:29:47 2020    restats\n",
      "\n",
      "         2433 function calls (2317 primitive calls) in 0.003 seconds\n",
      "\n",
      "   Ordered by: standard name\n",
      "\n",
      "   ncalls  tottime  percall  cumtime  percall filename:lineno(function)\n",
      "        2    0.000    0.000    0.000    0.000 <frozen importlib._bootstrap>:416(parent)\n",
      "        3    0.000    0.000    0.000    0.000 <frozen importlib._bootstrap>:997(_handle_fromlist)\n",
      "        1    0.000    0.000    0.003    0.003 <ipython-input-8-b243b5ab2be2>:2(genh)\n",
      "        1    0.000    0.000    0.003    0.003 <string>:1(<module>)\n",
      "       48    0.000    0.000    0.000    0.000 _dtype.py:115(_scalar_str)\n",
      "       48    0.000    0.000    0.000    0.000 _dtype.py:172(_byte_order_str)\n",
      "       48    0.000    0.000    0.000    0.000 _dtype.py:57(__repr__)\n",
      "       32    0.000    0.000    0.000    0.000 _dtype.py:75(_isunsized)\n",
      "       48    0.000    0.000    0.000    0.000 _dtype.py:80(_construction_repr)\n",
      "        2    0.000    0.000    0.000    0.000 _methods.py:26(_amax)\n",
      "        2    0.000    0.000    0.000    0.000 _methods.py:30(_amin)\n",
      "        6    0.000    0.000    0.000    0.000 _util.py:129(_prune_array)\n",
      "        3    0.000    0.000    0.000    0.000 base.py:1189(isspmatrix)\n",
      "       17    0.000    0.000    0.000    0.000 base.py:242(nnz)\n",
      "        1    0.000    0.000    0.000    0.000 base.py:298(asformat)\n",
      "        2    0.000    0.000    0.000    0.000 base.py:674(__getattr__)\n",
      "        4    0.000    0.000    0.000    0.000 base.py:70(__init__)\n",
      "       16    0.000    0.000    0.000    0.000 base.py:84(get_shape)\n",
      "        1    0.000    0.000    0.000    0.000 compressed.py:1054(__get_has_canonical_format)\n",
      "        1    0.000    0.000    0.000    0.000 compressed.py:1075(__set_has_canonical_format)\n",
      "        1    0.000    0.000    0.000    0.000 compressed.py:1083(sum_duplicates)\n",
      "       13    0.000    0.000    0.000    0.000 compressed.py:110(getnnz)\n",
      "        1    0.000    0.000    0.000    0.000 compressed.py:1114(__set_sorted)\n",
      "        3    0.000    0.000    0.000    0.000 compressed.py:1139(prune)\n",
      "        2    0.000    0.000    0.000    0.000 compressed.py:127(_set_self)\n",
      "        3    0.000    0.000    0.000    0.000 compressed.py:138(check_format)\n",
      "      3/1    0.000    0.000    0.001    0.001 compressed.py:30(__init__)\n",
      "        1    0.000    0.000    0.000    0.000 coo.py:128(__init__)\n",
      "        4    0.000    0.000    0.000    0.000 coo.py:241(getnnz)\n",
      "        1    0.000    0.000    0.000    0.000 coo.py:267(_check)\n",
      "        1    0.000    0.000    0.000    0.000 coo.py:374(tocsr)\n",
      "        9    0.000    0.000    0.000    0.000 csr.py:228(_swap)\n",
      "        4    0.000    0.000    0.000    0.000 data.py:22(__init__)\n",
      "        1    0.000    0.000    0.000    0.000 data.py:25(_get_dtype)\n",
      "        1    0.000    0.000    0.001    0.001 descriptive_stats.py:279(info_dict)\n",
      "       12    0.000    0.000    0.000    0.000 entity.py:102(properties)\n",
      "      179    0.000    0.000    0.000    0.000 entity.py:112(uid)\n",
      "      236    0.000    0.000    0.000    0.000 entity.py:117(elements)\n",
      "       16    0.000    0.000    0.000    0.000 entity.py:136(children)\n",
      "       29    0.000    0.000    0.000    0.000 entity.py:146(registry)\n",
      "       27    0.000    0.000    0.000    0.000 entity.py:156(uidset)\n",
      "        3    0.000    0.000    0.000    0.000 entity.py:182(is_bipartite)\n",
      "        4    0.000    0.000    0.000    0.000 entity.py:225(__len__)\n",
      "       25    0.000    0.000    0.000    0.000 entity.py:238(__contains__)\n",
      "       15    0.000    0.000    0.000    0.000 entity.py:260(__getitem__)\n",
      "        8    0.000    0.000    0.000    0.000 entity.py:279(__iter__)\n",
      "      140    0.000    0.000    0.000    0.000 entity.py:288(__setattr__)\n",
      "       45    0.000    0.000    0.000    0.000 entity.py:317(_depth_finder)\n",
      "       45    0.000    0.000    0.000    0.000 entity.py:364(levelset)\n",
      "       34    0.000    0.000    0.000    0.000 entity.py:443(complete_registry)\n",
      "   121/34    0.000    0.000    0.000    0.000 entity.py:456(_complete_registry)\n",
      "    25/16    0.000    0.000    0.000    0.000 entity.py:546(add)\n",
      "       34    0.000    0.000    0.001    0.000 entity.py:582(add_element)\n",
      "        3    0.000    0.000    0.001    0.000 entity.py:780(__init__)\n",
      "        2    0.000    0.000    0.001    0.000 entity.py:794(add)\n",
      "    28/14    0.000    0.000    0.001    0.000 entity.py:84(__init__)\n",
      "        1    0.000    0.000    0.001    0.001 entity.py:899(incidence_matrix)\n",
      "        1    0.000    0.000    0.000    0.000 fromnumeric.py:1966(sum)\n",
      "        2    0.000    0.000    0.000    0.000 fromnumeric.py:2397(amax)\n",
      "        1    0.000    0.000    0.000    0.000 fromnumeric.py:2664(prod)\n",
      "        2    0.000    0.000    0.000    0.000 fromnumeric.py:2847(ndim)\n",
      "        4    0.000    0.000    0.000    0.000 fromnumeric.py:69(_wrapreduction)\n",
      "        4    0.000    0.000    0.000    0.000 fromnumeric.py:70(<dictcomp>)\n",
      "        1    0.000    0.000    0.000    0.000 getlimits.py:365(__new__)\n",
      "       14    0.000    0.000    0.000    0.000 getlimits.py:497(__init__)\n",
      "        7    0.000    0.000    0.000    0.000 getlimits.py:508(min)\n",
      "        7    0.000    0.000    0.000    0.000 getlimits.py:522(max)\n",
      "        1    0.000    0.000    0.000    0.000 hypergraph.py:103(<dictcomp>)\n",
      "        1    0.000    0.000    0.000    0.000 hypergraph.py:104(<dictcomp>)\n",
      "        1    0.000    0.000    0.000    0.000 hypergraph.py:106(<dictcomp>)\n",
      "        1    0.000    0.000    0.000    0.000 hypergraph.py:1092(s_connected_components)\n",
      "        3    0.000    0.000    0.000    0.000 hypergraph.py:116(edges)\n",
      "        1    0.000    0.000    0.000    0.000 hypergraph.py:1181(connected_components)\n",
      "        1    0.000    0.000    0.000    0.000 hypergraph.py:123(nodes)\n",
      "        1    0.000    0.000    0.000    0.000 hypergraph.py:138(shape)\n",
      "        1    0.000    0.000    0.002    0.002 hypergraph.py:1476(from_numpy_array)\n",
      "        1    0.000    0.000    0.000    0.000 hypergraph.py:1539(<listcomp>)\n",
      "        5    0.000    0.000    0.000    0.000 hypergraph.py:1549(<listcomp>)\n",
      "        1    0.000    0.000    0.001    0.001 hypergraph.py:594(incidence_matrix)\n",
      "        1    0.000    0.000    0.002    0.002 hypergraph.py:82(__init__)\n",
      "        9    0.000    0.000    0.000    0.000 iostream.py:197(schedule)\n",
      "        8    0.000    0.000    0.000    0.000 iostream.py:309(_is_master_process)\n",
      "        8    0.000    0.000    0.000    0.000 iostream.py:322(_schedule_flush)\n",
      "        8    0.000    0.000    0.000    0.000 iostream.py:384(write)\n",
      "        9    0.000    0.000    0.000    0.000 iostream.py:93(_event_pipe)\n",
      "       24    0.000    0.000    0.000    0.000 numeric.py:469(asarray)\n",
      "        9    0.000    0.000    0.000    0.000 socket.py:342(send)\n",
      "        7    0.000    0.000    0.000    0.000 sputils.py:120(get_index_dtype)\n",
      "        2    0.000    0.000    0.000    0.000 sputils.py:187(isintlike)\n",
      "        3    0.000    0.000    0.000    0.000 sputils.py:209(isshape)\n",
      "        1    0.000    0.000    0.000    0.000 sputils.py:21(upcast)\n",
      "        4    0.000    0.000    0.000    0.000 sputils.py:266(check_shape)\n",
      "       12    0.000    0.000    0.000    0.000 sputils.py:279(<genexpr>)\n",
      "        4    0.000    0.000    0.000    0.000 sputils.py:92(to_native)\n",
      "        9    0.000    0.000    0.000    0.000 threading.py:1062(_wait_for_tstate_lock)\n",
      "        9    0.000    0.000    0.000    0.000 threading.py:1104(is_alive)\n",
      "        9    0.000    0.000    0.000    0.000 threading.py:506(is_set)\n",
      "       10    0.000    0.000    0.000    0.000 {built-in method _operator.index}\n",
      "        5    0.000    0.000    0.000    0.000 {built-in method builtins.any}\n",
      "        1    0.000    0.000    0.003    0.003 {built-in method builtins.exec}\n",
      "        5    0.000    0.000    0.000    0.000 {built-in method builtins.getattr}\n",
      "        5    0.000    0.000    0.000    0.000 {built-in method builtins.hasattr}\n",
      "        1    0.000    0.000    0.000    0.000 {built-in method builtins.hash}\n",
      "      142    0.000    0.000    0.000    0.000 {built-in method builtins.isinstance}\n",
      "        8    0.000    0.000    0.000    0.000 {built-in method builtins.iter}\n",
      "    69/65    0.000    0.000    0.000    0.000 {built-in method builtins.len}\n",
      "        4    0.000    0.000    0.000    0.000 {built-in method builtins.max}\n",
      "        1    0.000    0.000    0.000    0.000 {built-in method builtins.print}\n",
      "       34    0.000    0.000    0.000    0.000 {built-in method numpy.array}\n",
      "       10    0.000    0.000    0.000    0.000 {built-in method numpy.can_cast}\n",
      "        2    0.000    0.000    0.000    0.000 {built-in method numpy.empty_like}\n",
      "        1    0.000    0.000    0.000    0.000 {built-in method numpy.empty}\n",
      "        8    0.000    0.000    0.000    0.000 {built-in method posix.getpid}\n",
      "        1    0.000    0.000    0.000    0.000 {built-in method scipy.sparse._sparsetools.coo_tocsr}\n",
      "        1    0.000    0.000    0.000    0.000 {built-in method scipy.sparse._sparsetools.csr_has_canonical_format}\n",
      "        3    0.000    0.000    0.000    0.000 {built-in method time.perf_counter}\n",
      "        9    0.000    0.000    0.000    0.000 {method 'acquire' of '_thread.lock' objects}\n",
      "        9    0.000    0.000    0.000    0.000 {method 'append' of 'collections.deque' objects}\n",
      "       27    0.000    0.000    0.000    0.000 {method 'append' of 'list' objects}\n",
      "        2    0.000    0.000    0.000    0.000 {method 'astype' of 'numpy.ndarray' objects}\n",
      "        1    0.000    0.000    0.000    0.000 {method 'choice' of 'mtrand.RandomState' objects}\n",
      "       12    0.000    0.000    0.000    0.000 {method 'copy' of 'dict' objects}\n",
      "        1    0.000    0.000    0.000    0.000 {method 'disable' of '_lsprof.Profiler' objects}\n",
      "       48    0.000    0.000    0.000    0.000 {method 'format' of 'str' objects}\n",
      "       17    0.000    0.000    0.000    0.000 {method 'get' of 'dict' objects}\n",
      "       14    0.000    0.000    0.000    0.000 {method 'isdisjoint' of 'frozenset' objects}\n",
      "      171    0.000    0.000    0.000    0.000 {method 'items' of 'dict' objects}\n",
      "       43    0.000    0.000    0.000    0.000 {method 'keys' of 'dict' objects}\n",
      "        2    0.000    0.000    0.000    0.000 {method 'max' of 'numpy.ndarray' objects}\n",
      "        2    0.000    0.000    0.000    0.000 {method 'min' of 'numpy.ndarray' objects}\n",
      "      100    0.000    0.000    0.000    0.000 {method 'newbyteorder' of 'numpy.dtype' objects}\n",
      "        8    0.000    0.000    0.000    0.000 {method 'reduce' of 'numpy.ufunc' objects}\n",
      "        2    0.000    0.000    0.000    0.000 {method 'rpartition' of 'str' objects}\n",
      "       84    0.000    0.000    0.000    0.000 {method 'update' of 'dict' objects}\n",
      "        7    0.000    0.000    0.000    0.000 {method 'values' of 'dict' objects}\n",
      "\n",
      "\n"
     ]
    },
    {
     "data": {
      "text/plain": [
       "<pstats.Stats at 0x7ffd6c25c9e8>"
      ]
     },
     "execution_count": 19,
     "metadata": {},
     "output_type": "execute_result"
    }
   ],
   "source": [
    "import cProfile \n",
    "cProfile.run('genh(10,5)','restats') \n",
    "\n",
    "import pstats\n",
    "p = pstats.Stats('restats')\n",
    "p.strip_dirs().sort_stats(-1).print_stats()"
   ]
  },
  {
   "cell_type": "code",
   "execution_count": 16,
   "metadata": {},
   "outputs": [],
   "source": [
    "ans"
   ]
  },
  {
   "cell_type": "code",
   "execution_count": null,
   "metadata": {},
   "outputs": [],
   "source": [
    "def get_time(z):\n",
    "    h = int(z//(60**2))\n",
    "    M = (z%(60**2))\n",
    "    m = int(M//60)\n",
    "    s = (M%60)\n",
    "    return f'{h}:{m:02d}:{s}'\n",
    "\n",
    "    \n",
    "def hnx_perf(v,e):\n",
    "    start = perf_counter()\n",
    "    \n"
   ]
  },
  {
   "cell_type": "code",
   "execution_count": null,
   "metadata": {},
   "outputs": [],
   "source": []
  },
  {
   "cell_type": "code",
   "execution_count": null,
   "metadata": {},
   "outputs": [],
   "source": [
    "start = perf_counter()\n",
    "sleep(10)\n",
    "end = perf_counter()\n",
    "get_time(end-start)"
   ]
  },
  {
   "cell_type": "code",
   "execution_count": null,
   "metadata": {},
   "outputs": [],
   "source": [
    "h = int(z//(60**2))\n",
    "M = (z%(60**2))\n",
    "m = int(M//60)\n",
    "s = int(M%60)\n",
    "h,m,s"
   ]
  },
  {
   "cell_type": "code",
   "execution_count": null,
   "metadata": {},
   "outputs": [],
   "source": [
    "f'{h}:{m:02d}:{s:02d}'"
   ]
  },
  {
   "cell_type": "code",
   "execution_count": null,
   "metadata": {},
   "outputs": [],
   "source": []
  }
 ],
 "metadata": {
  "kernelspec": {
   "display_name": "Python 3",
   "language": "python",
   "name": "python3"
  },
  "language_info": {
   "codemirror_mode": {
    "name": "ipython",
    "version": 3
   },
   "file_extension": ".py",
   "mimetype": "text/x-python",
   "name": "python",
   "nbconvert_exporter": "python",
   "pygments_lexer": "ipython3",
   "version": "3.6.9"
  }
 },
 "nbformat": 4,
 "nbformat_minor": 2
}
