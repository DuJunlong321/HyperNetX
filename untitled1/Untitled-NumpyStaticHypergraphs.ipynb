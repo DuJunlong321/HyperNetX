{
 "cells": [
  {
   "cell_type": "code",
   "execution_count": 1,
   "metadata": {},
   "outputs": [],
   "source": [
    "import numpy as np\n",
    "import hypernetx as hnx\n",
    "import sys\n",
    "sys.path.append('../hypernetx/classes/')\n",
    "from static_entity import StaticEntity\n",
    "import importlib as imp\n",
    "from collections.abc import Iterable\n",
    "from collections import defaultdict"
   ]
  },
  {
   "cell_type": "markdown",
   "metadata": {},
   "source": [
    "## Create a static hypergraph from a static entity.\n",
    "\n",
    "**Issues:**  \n",
    "- static entity is instantiated with either a dictionary or a tensor\n",
    "- if a dictionary, then the number of levels must be the same for all paths\n",
    "- to minimize effort at this point, start with a tensor, then generate the dictionary from there"
   ]
  },
  {
   "cell_type": "code",
   "execution_count": 47,
   "metadata": {
    "scrolled": true
   },
   "outputs": [],
   "source": [
    "\n",
    "# pts = [(1,2,3),(2,1,1)]\n",
    "\n",
    "# d = defaultdict(defaultdict)\n",
    "# for pt in pts:\n",
    "#     for k in range(len(pt)-1):\n",
    "#         d[pt[k]].update({pt[k+1]:d[pt[k+1]]})\n",
    "# d"
   ]
  },
  {
   "cell_type": "code",
   "execution_count": 29,
   "metadata": {},
   "outputs": [
    {
     "data": {
      "text/plain": [
       "array([[[ 1.,  1.,  0.,  0.,  0.],\n",
       "        [ 0.,  0.,  0.,  0.,  0.],\n",
       "        [ 0.,  0.,  0.,  0.,  0.],\n",
       "        [ 0.,  0.,  0.,  0.,  0.]],\n",
       "\n",
       "       [[ 0.,  0.,  0.,  0.,  0.],\n",
       "        [ 0.,  0.,  0.,  0.,  0.],\n",
       "        [ 1.,  1.,  0.,  0.,  0.],\n",
       "        [ 0.,  0.,  0.,  0.,  0.]],\n",
       "\n",
       "       [[ 0., 10.,  0.,  0.,  0.],\n",
       "        [ 0.,  0.,  0.,  0.,  0.],\n",
       "        [ 0.,  0.,  0.,  0.,  0.],\n",
       "        [ 0.,  0.,  0.,  1.,  1.]]])"
      ]
     },
     "execution_count": 29,
     "metadata": {},
     "output_type": "execute_result"
    }
   ],
   "source": [
    "arr0 = np.zeros((3,4,5))\n",
    "arr0[0,0,0] = 1\n",
    "arr0[0,0,1] = 1\n",
    "arr0[1,2,0] = 1\n",
    "arr0[1,2,1] = 1\n",
    "arr0[2,3,3] = 1\n",
    "arr0[2,3,4] = 1\n",
    "arr0[2,0,1] = 10\n",
    "arr0"
   ]
  },
  {
   "cell_type": "code",
   "execution_count": 30,
   "metadata": {},
   "outputs": [],
   "source": [
    "x0,x1,x2 = arr0.shape"
   ]
  },
  {
   "cell_type": "code",
   "execution_count": 31,
   "metadata": {},
   "outputs": [],
   "source": [
    "N = x0*x1*x2\n"
   ]
  },
  {
   "cell_type": "code",
   "execution_count": 32,
   "metadata": {},
   "outputs": [
    {
     "data": {
      "text/plain": [
       "array([ 2., 12.,  0.,  1.,  1.])"
      ]
     },
     "execution_count": 32,
     "metadata": {},
     "output_type": "execute_result"
    }
   ],
   "source": [
    "np.sum(np.sum(arr0,axis=0),axis=0)"
   ]
  },
  {
   "cell_type": "code",
   "execution_count": 9,
   "metadata": {},
   "outputs": [
    {
     "data": {
      "text/plain": [
       "{0: defaultdict(dict, {}), 1: defaultdict(dict, {}), 2: defaultdict(dict, {})}"
      ]
     },
     "execution_count": 9,
     "metadata": {},
     "output_type": "execute_result"
    }
   ],
   "source": [
    "dims = arr0.shape\n",
    "layers = {d:defaultdict(dict) for d in range(len(dims))}     \n",
    "layers"
   ]
  },
  {
   "cell_type": "markdown",
   "metadata": {},
   "source": [
    "### Map points to dictionary, tensor indices get mapped to dictionary keys"
   ]
  },
  {
   "cell_type": "code",
   "execution_count": 10,
   "metadata": {},
   "outputs": [
    {
     "name": "stdout",
     "output_type": "stream",
     "text": [
      "[(1, 2, 3), (2, 1, 1)]\n"
     ]
    },
    {
     "data": {
      "text/plain": [
       "{0: defaultdict(dict, {1: {}, 2: {}}),\n",
       " 1: defaultdict(dict, {2: {1: {}}, 1: {2: {}}}),\n",
       " 2: defaultdict(dict, {3: {2: {1: {}}}, 1: {1: {2: {}}}})}"
      ]
     },
     "execution_count": 10,
     "metadata": {},
     "output_type": "execute_result"
    }
   ],
   "source": [
    "pts = [(1,2,3),(2,1,1)]\n",
    "pt = pts[0];print(pts)\n",
    "layers = {d:defaultdict(dict) for d in range(len(dims))} \n",
    "\n",
    "for pt in pts:\n",
    "    layers[0][pt[0]] = {}\n",
    "    for d in range(0,len(pt)-1):\n",
    "        layers[d+1].update({pt[d+1]:{pt[d]:layers[d][pt[d]]}})\n",
    "\n",
    "layers"
   ]
  },
  {
   "cell_type": "code",
   "execution_count": 11,
   "metadata": {},
   "outputs": [],
   "source": [
    "dims = arr0.shape\n",
    "idxset = [np.array(range(0,dims[0])),np.array(range(dims[0],dims[0]+dims[1])),\n",
    "          np.array(range(dims[0]+dims[1],dims[0]+dims[1]+dims[2]))]"
   ]
  },
  {
   "cell_type": "code",
   "execution_count": 12,
   "metadata": {},
   "outputs": [
    {
     "data": {
      "text/plain": [
       "([array([0, 1, 2]), array([3, 4, 5, 6]), array([ 7,  8,  9, 10, 11])],\n",
       " array([0, 3, 7]))"
      ]
     },
     "execution_count": 12,
     "metadata": {},
     "output_type": "execute_result"
    }
   ],
   "source": [
    "t = np.array((0,dims[0],dims[0]+dims[1]))\n",
    "idxset,t"
   ]
  },
  {
   "cell_type": "code",
   "execution_count": 13,
   "metadata": {},
   "outputs": [
    {
     "data": {
      "text/plain": [
       "(array([1, 1, 2]), array([1, 4, 9]), array([1, 1, 2]))"
      ]
     },
     "execution_count": 13,
     "metadata": {},
     "output_type": "execute_result"
    }
   ],
   "source": [
    "## bijection\n",
    "x = np.array((1,1,2))\n",
    "xt = np.array((1,1,2)) + t\n",
    "y = xt - t\n",
    "x,xt,y"
   ]
  },
  {
   "cell_type": "code",
   "execution_count": 14,
   "metadata": {},
   "outputs": [],
   "source": [
    "### Bijection for 3 tensor to index\n",
    "dims = arr0.shape\n",
    "x = (1,1,1)\n",
    "idx = x[0]*(dims[1]*dims[2]) + x[1]*dims[2] + x[2]\n",
    "y = idx//(dims[1]*dims[2]), (idx%(dims[1]*dims[2]))//dims[2], (idx%(dims[1]*dims[2]))%dims[2]"
   ]
  },
  {
   "cell_type": "code",
   "execution_count": 15,
   "metadata": {},
   "outputs": [
    {
     "data": {
      "text/plain": [
       "((1, 1, 1), (1, 1, 1), 26)"
      ]
     },
     "execution_count": 15,
     "metadata": {},
     "output_type": "execute_result"
    }
   ],
   "source": [
    "x,y,idx"
   ]
  },
  {
   "cell_type": "code",
   "execution_count": 16,
   "metadata": {},
   "outputs": [
    {
     "data": {
      "text/plain": [
       "True"
      ]
     },
     "execution_count": 16,
     "metadata": {},
     "output_type": "execute_result"
    }
   ],
   "source": [
    "np.array_equal(x,y)"
   ]
  },
  {
   "cell_type": "code",
   "execution_count": 17,
   "metadata": {},
   "outputs": [
    {
     "data": {
      "text/plain": [
       "array([ True,  True,  True])"
      ]
     },
     "execution_count": 17,
     "metadata": {},
     "output_type": "execute_result"
    }
   ],
   "source": [
    "np.equal(x,y)"
   ]
  },
  {
   "cell_type": "code",
   "execution_count": 18,
   "metadata": {},
   "outputs": [],
   "source": [
    "e = hnx.Entity('test')"
   ]
  },
  {
   "cell_type": "code",
   "execution_count": 19,
   "metadata": {},
   "outputs": [
    {
     "data": {
      "text/plain": [
       "{}"
      ]
     },
     "execution_count": 19,
     "metadata": {},
     "output_type": "execute_result"
    }
   ],
   "source": [
    "e.elements"
   ]
  },
  {
   "cell_type": "code",
   "execution_count": 20,
   "metadata": {},
   "outputs": [],
   "source": [
    "e.__dict__.update({\"_elements\":{1:[]}})"
   ]
  },
  {
   "cell_type": "code",
   "execution_count": 21,
   "metadata": {},
   "outputs": [
    {
     "data": {
      "text/plain": [
       "{1: []}"
      ]
     },
     "execution_count": 21,
     "metadata": {},
     "output_type": "execute_result"
    }
   ],
   "source": [
    "e.elements"
   ]
  },
  {
   "cell_type": "code",
   "execution_count": 22,
   "metadata": {},
   "outputs": [
    {
     "data": {
      "text/plain": [
       "{1: 2, 2: {}, 4: {}}"
      ]
     },
     "execution_count": 22,
     "metadata": {},
     "output_type": "execute_result"
    }
   ],
   "source": [
    "from collections import defaultdict\n",
    "data = {1:2,3:4}\n",
    "f=lambda x : data.get(x,dict()) \n",
    "d = defaultdict(f)\n",
    "{k:f(k) for k in [1,2,4]}"
   ]
  },
  {
   "cell_type": "code",
   "execution_count": 23,
   "metadata": {},
   "outputs": [],
   "source": [
    "e = StaticEntity('fred',data={1:2,3:4})"
   ]
  },
  {
   "cell_type": "code",
   "execution_count": 24,
   "metadata": {},
   "outputs": [
    {
     "data": {
      "text/plain": [
       "StaticEntity(fred,[1, 3],{})"
      ]
     },
     "execution_count": 24,
     "metadata": {},
     "output_type": "execute_result"
    }
   ],
   "source": [
    "e"
   ]
  },
  {
   "cell_type": "code",
   "execution_count": 25,
   "metadata": {},
   "outputs": [],
   "source": [
    "df = {1:2, 2:{1,3}, 3:{}}"
   ]
  },
  {
   "cell_type": "code",
   "execution_count": 26,
   "metadata": {},
   "outputs": [
    {
     "name": "stdout",
     "output_type": "stream",
     "text": [
      "1\n",
      "2\n",
      "{1, 3}\n",
      "3\n"
     ]
    }
   ],
   "source": [
    "for d,v in df.items():\n",
    "    print(d)\n",
    "    if v is not None and isinstance(v,Iterable) and len(v) > 0 :\n",
    "        print(v)"
   ]
  },
  {
   "cell_type": "code",
   "execution_count": 27,
   "metadata": {},
   "outputs": [
    {
     "data": {
      "text/plain": [
       "False"
      ]
     },
     "execution_count": 27,
     "metadata": {},
     "output_type": "execute_result"
    }
   ],
   "source": [
    "7 in e"
   ]
  },
  {
   "cell_type": "code",
   "execution_count": 28,
   "metadata": {},
   "outputs": [
    {
     "ename": "SyntaxError",
     "evalue": "unexpected EOF while parsing (<ipython-input-28-7d950fe4079a>, line 28)",
     "output_type": "error",
     "traceback": [
      "\u001b[0;36m  File \u001b[0;32m\"<ipython-input-28-7d950fe4079a>\"\u001b[0;36m, line \u001b[0;32m28\u001b[0m\n\u001b[0;31m    \u001b[0m\n\u001b[0m    ^\u001b[0m\n\u001b[0;31mSyntaxError\u001b[0m\u001b[0;31m:\u001b[0m unexpected EOF while parsing\n"
     ]
    }
   ],
   "source": [
    "# Get tuples from dict\n",
    "d = dict()\n",
    "d[1] = {2: {3: {}}}\n",
    "d[2] = {5: {1: {}}}\n",
    "d[3] = {1: {2: {3}}}\n",
    "\n",
    "## first establish dimensions\n",
    "temp = d\n",
    "idx = 0\n",
    "k = list()\n",
    "while True:\n",
    "    k.append(next(iter(temp.keys())))\n",
    "    if isinstance(temp[k[idx]],dict) and len(temp[k[idx]])>0:\n",
    "        temp = temp[k[idx]]\n",
    "        idx += 1\n",
    "    else:\n",
    "        break\n",
    "k = tuple(k)\n",
    "dims = len(k)\n",
    "dims\n",
    "print(idx)\n",
    "for dim in dims:\n",
    "    \n",
    "    \n",
    "\n",
    "\n",
    "        \n",
    "    \n"
   ]
  },
  {
   "cell_type": "code",
   "execution_count": null,
   "metadata": {},
   "outputs": [],
   "source": [
    "n = 4\n",
    "x = tuple(np.arange(n))\n",
    "temp = {x[-1]:{}}\n",
    "temp = {x[-2]: temp}\n",
    "temp = {x[-3]:temp}\n",
    "temp = {x[-4]:temp}\n",
    "temp"
   ]
  },
  {
   "cell_type": "code",
   "execution_count": null,
   "metadata": {},
   "outputs": [],
   "source": [
    "d = {0:{0:{0},1:{1}},1:{1:{0}},2:{2}}\n",
    "list(d.keys())[0]"
   ]
  },
  {
   "cell_type": "code",
   "execution_count": null,
   "metadata": {},
   "outputs": [],
   "source": []
  },
  {
   "cell_type": "code",
   "execution_count": null,
   "metadata": {},
   "outputs": [],
   "source": [
    "estr = lambda x : f'\\{x[0]Entity({x[0]}:)"
   ]
  }
 ],
 "metadata": {
  "kernelspec": {
   "display_name": "Python 3",
   "language": "python",
   "name": "python3"
  },
  "language_info": {
   "codemirror_mode": {
    "name": "ipython",
    "version": 3
   },
   "file_extension": ".py",
   "mimetype": "text/x-python",
   "name": "python",
   "nbconvert_exporter": "python",
   "pygments_lexer": "ipython3",
   "version": "3.6.9"
  }
 },
 "nbformat": 4,
 "nbformat_minor": 2
}
