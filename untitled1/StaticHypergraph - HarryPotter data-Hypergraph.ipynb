{
 "cells": [
  {
   "cell_type": "markdown",
   "metadata": {},
   "source": [
    "## Create a Static EntitySet and then a Static Hypergraph from the Harry Potter character data"
   ]
  },
  {
   "cell_type": "code",
   "execution_count": 1,
   "metadata": {},
   "outputs": [],
   "source": [
    "from hypernetx import *\n",
    "import matplotlib.pyplot as plt\n",
    "from collections import OrderedDict,defaultdict\n",
    "import scipy\n",
    "from scipy.sparse import coo_matrix,issparse\n",
    "import pandas as pd\n",
    "import numpy as np\n",
    "import itertools as it\n",
    "import importlib as imp\n",
    "import untitled_StaticEntity as us"
   ]
  },
  {
   "cell_type": "markdown",
   "metadata": {},
   "source": [
    "### Read Dataset from kaggle"
   ]
  },
  {
   "cell_type": "code",
   "execution_count": 2,
   "metadata": {
    "scrolled": true
   },
   "outputs": [
    {
     "data": {
      "text/html": [
       "<div>\n",
       "<style scoped>\n",
       "    .dataframe tbody tr th:only-of-type {\n",
       "        vertical-align: middle;\n",
       "    }\n",
       "\n",
       "    .dataframe tbody tr th {\n",
       "        vertical-align: top;\n",
       "    }\n",
       "\n",
       "    .dataframe thead th {\n",
       "        text-align: right;\n",
       "    }\n",
       "</style>\n",
       "<table border=\"1\" class=\"dataframe\">\n",
       "  <thead>\n",
       "    <tr style=\"text-align: right;\">\n",
       "      <th></th>\n",
       "      <th>Name</th>\n",
       "      <th>Gender</th>\n",
       "      <th>Job</th>\n",
       "      <th>House</th>\n",
       "      <th>Wand</th>\n",
       "      <th>Patronus</th>\n",
       "      <th>Species</th>\n",
       "      <th>Blood status</th>\n",
       "      <th>Hair colour</th>\n",
       "      <th>Eye colour</th>\n",
       "      <th>Loyalty</th>\n",
       "      <th>Skills</th>\n",
       "      <th>Birth</th>\n",
       "      <th>Death</th>\n",
       "    </tr>\n",
       "    <tr>\n",
       "      <th>Id</th>\n",
       "      <th></th>\n",
       "      <th></th>\n",
       "      <th></th>\n",
       "      <th></th>\n",
       "      <th></th>\n",
       "      <th></th>\n",
       "      <th></th>\n",
       "      <th></th>\n",
       "      <th></th>\n",
       "      <th></th>\n",
       "      <th></th>\n",
       "      <th></th>\n",
       "      <th></th>\n",
       "      <th></th>\n",
       "    </tr>\n",
       "  </thead>\n",
       "  <tbody>\n",
       "    <tr>\n",
       "      <th>1</th>\n",
       "      <td>Harry James Potter</td>\n",
       "      <td>Male</td>\n",
       "      <td>Student</td>\n",
       "      <td>Gryffindor</td>\n",
       "      <td>11\"  Holly  phoenix feather</td>\n",
       "      <td>Stag</td>\n",
       "      <td>Human</td>\n",
       "      <td>Half-blood</td>\n",
       "      <td>Black</td>\n",
       "      <td>Bright green</td>\n",
       "      <td>Albus Dumbledore | Dumbledore's Army | Order o...</td>\n",
       "      <td>Parseltongue| Defence Against the Dark Arts | ...</td>\n",
       "      <td>Thursday, July 31, 1980</td>\n",
       "      <td>NaN</td>\n",
       "    </tr>\n",
       "    <tr>\n",
       "      <th>2</th>\n",
       "      <td>Ronald Bilius Weasley</td>\n",
       "      <td>Male</td>\n",
       "      <td>Student</td>\n",
       "      <td>Gryffindor</td>\n",
       "      <td>12\" Ash unicorn tail hair</td>\n",
       "      <td>Jack Russell terrier</td>\n",
       "      <td>Human</td>\n",
       "      <td>Pure-blood</td>\n",
       "      <td>Red</td>\n",
       "      <td>Blue</td>\n",
       "      <td>Dumbledore's Army | Order of the Phoenix | Hog...</td>\n",
       "      <td>Wizard chess | Quidditch goalkeeping</td>\n",
       "      <td>Saturday, March 1, 1980</td>\n",
       "      <td>NaN</td>\n",
       "    </tr>\n",
       "    <tr>\n",
       "      <th>3</th>\n",
       "      <td>Hermione Jean Granger</td>\n",
       "      <td>Female</td>\n",
       "      <td>Student</td>\n",
       "      <td>Gryffindor</td>\n",
       "      <td>10¾\"  vine wood dragon heartstring</td>\n",
       "      <td>Otter</td>\n",
       "      <td>Human</td>\n",
       "      <td>Muggle-born</td>\n",
       "      <td>Brown</td>\n",
       "      <td>Brown</td>\n",
       "      <td>Dumbledore's Army | Order of the Phoenix | Hog...</td>\n",
       "      <td>Almost everything</td>\n",
       "      <td>19 September, 1979</td>\n",
       "      <td>NaN</td>\n",
       "    </tr>\n",
       "    <tr>\n",
       "      <th>4</th>\n",
       "      <td>Albus Percival Wulfric Brian Dumbledore</td>\n",
       "      <td>Male</td>\n",
       "      <td>Headmaster</td>\n",
       "      <td>Gryffindor</td>\n",
       "      <td>15\" Elder Thestral tail hair core</td>\n",
       "      <td>Phoenix</td>\n",
       "      <td>Human</td>\n",
       "      <td>Half-blood</td>\n",
       "      <td>Silver| formerly auburn</td>\n",
       "      <td>Blue</td>\n",
       "      <td>Dumbledore's Army | Order of the Phoenix | Hog...</td>\n",
       "      <td>Considered by many to be one of the most power...</td>\n",
       "      <td>Late August 1881</td>\n",
       "      <td>30 June, 1997</td>\n",
       "    </tr>\n",
       "    <tr>\n",
       "      <th>5</th>\n",
       "      <td>Rubeus Hagrid</td>\n",
       "      <td>Male</td>\n",
       "      <td>Keeper of Keys and Grounds | Professor of Care...</td>\n",
       "      <td>Gryffindor</td>\n",
       "      <td>16\"  Oak unknown core</td>\n",
       "      <td>None</td>\n",
       "      <td>Half-Human/Half-Giant</td>\n",
       "      <td>Part-Human</td>\n",
       "      <td>Black</td>\n",
       "      <td>Black</td>\n",
       "      <td>Albus Dumbledore | Order of the Phoenix | Hogw...</td>\n",
       "      <td>Resistant to stunning spells| above average st...</td>\n",
       "      <td>6 December 1928</td>\n",
       "      <td>NaN</td>\n",
       "    </tr>\n",
       "    <tr>\n",
       "      <th>...</th>\n",
       "      <td>...</td>\n",
       "      <td>...</td>\n",
       "      <td>...</td>\n",
       "      <td>...</td>\n",
       "      <td>...</td>\n",
       "      <td>...</td>\n",
       "      <td>...</td>\n",
       "      <td>...</td>\n",
       "      <td>...</td>\n",
       "      <td>...</td>\n",
       "      <td>...</td>\n",
       "      <td>...</td>\n",
       "      <td>...</td>\n",
       "      <td>...</td>\n",
       "    </tr>\n",
       "    <tr>\n",
       "      <th>136</th>\n",
       "      <td>Wilhelmina Grubbly-Plank</td>\n",
       "      <td>Female</td>\n",
       "      <td>Substitute professor of Care of Magical Creatu...</td>\n",
       "      <td>NaN</td>\n",
       "      <td>Unknown</td>\n",
       "      <td>Non-corporeal</td>\n",
       "      <td>Human</td>\n",
       "      <td>NaN</td>\n",
       "      <td>Grey</td>\n",
       "      <td>NaN</td>\n",
       "      <td>Hogwarts School of Witchcraft and Wizardry</td>\n",
       "      <td>NaN</td>\n",
       "      <td>NaN</td>\n",
       "      <td>NaN</td>\n",
       "    </tr>\n",
       "    <tr>\n",
       "      <th>137</th>\n",
       "      <td>Fenrir Greyback</td>\n",
       "      <td>Male</td>\n",
       "      <td>NaN</td>\n",
       "      <td>NaN</td>\n",
       "      <td>Unknown</td>\n",
       "      <td>None</td>\n",
       "      <td>Werewolf</td>\n",
       "      <td>NaN</td>\n",
       "      <td>Grey</td>\n",
       "      <td>NaN</td>\n",
       "      <td>Lord Voldemort  | Death Eaters</td>\n",
       "      <td>Physical combat</td>\n",
       "      <td>Pre 1945</td>\n",
       "      <td>NaN</td>\n",
       "    </tr>\n",
       "    <tr>\n",
       "      <th>138</th>\n",
       "      <td>Gellert Grindelwald</td>\n",
       "      <td>Male</td>\n",
       "      <td>Revolutionary leader(c. 1920s[6]  1945)</td>\n",
       "      <td>NaN</td>\n",
       "      <td>15\", Elder, Thestral tail hair core</td>\n",
       "      <td>NaN</td>\n",
       "      <td>Human</td>\n",
       "      <td>Pure-blood or half-blood</td>\n",
       "      <td>Blond</td>\n",
       "      <td>Blue</td>\n",
       "      <td>Gellert Grindelwald's Acolytes</td>\n",
       "      <td>Duelling</td>\n",
       "      <td>Saturday, February 25, 1905</td>\n",
       "      <td>March, 1998</td>\n",
       "    </tr>\n",
       "    <tr>\n",
       "      <th>139</th>\n",
       "      <td>Dobby</td>\n",
       "      <td>Male</td>\n",
       "      <td>Malfoy family's house-elf (? - 1993),</td>\n",
       "      <td>NaN</td>\n",
       "      <td>NaN</td>\n",
       "      <td>NaN</td>\n",
       "      <td>Elf</td>\n",
       "      <td>NaN</td>\n",
       "      <td>NaN</td>\n",
       "      <td>NaN</td>\n",
       "      <td>Hogwarts School of Witchcraft and Wizardry</td>\n",
       "      <td>NaN</td>\n",
       "      <td>NaN</td>\n",
       "      <td>NaN</td>\n",
       "    </tr>\n",
       "    <tr>\n",
       "      <th>140</th>\n",
       "      <td>Kreacher</td>\n",
       "      <td>Male</td>\n",
       "      <td>Black family's house-elf (?-1996),</td>\n",
       "      <td>NaN</td>\n",
       "      <td>NaN</td>\n",
       "      <td>NaN</td>\n",
       "      <td>NaN</td>\n",
       "      <td>NaN</td>\n",
       "      <td>NaN</td>\n",
       "      <td>NaN</td>\n",
       "      <td>NaN</td>\n",
       "      <td>NaN</td>\n",
       "      <td>NaN</td>\n",
       "      <td>NaN</td>\n",
       "    </tr>\n",
       "  </tbody>\n",
       "</table>\n",
       "<p>140 rows × 14 columns</p>\n",
       "</div>"
      ],
      "text/plain": [
       "                                        Name  Gender  \\\n",
       "Id                                                     \n",
       "1                         Harry James Potter    Male   \n",
       "2                      Ronald Bilius Weasley    Male   \n",
       "3                      Hermione Jean Granger  Female   \n",
       "4    Albus Percival Wulfric Brian Dumbledore    Male   \n",
       "5                              Rubeus Hagrid    Male   \n",
       "..                                       ...     ...   \n",
       "136                 Wilhelmina Grubbly-Plank  Female   \n",
       "137                          Fenrir Greyback    Male   \n",
       "138                      Gellert Grindelwald    Male   \n",
       "139                                    Dobby    Male   \n",
       "140                                 Kreacher    Male   \n",
       "\n",
       "                                                   Job       House  \\\n",
       "Id                                                                   \n",
       "1                                              Student  Gryffindor   \n",
       "2                                              Student  Gryffindor   \n",
       "3                                              Student  Gryffindor   \n",
       "4                                           Headmaster  Gryffindor   \n",
       "5    Keeper of Keys and Grounds | Professor of Care...  Gryffindor   \n",
       "..                                                 ...         ...   \n",
       "136  Substitute professor of Care of Magical Creatu...         NaN   \n",
       "137                                                NaN         NaN   \n",
       "138           Revolutionary leader(c. 1920s[6]  1945)         NaN   \n",
       "139              Malfoy family's house-elf (? - 1993),         NaN   \n",
       "140                Black family's house-elf (?-1996),          NaN   \n",
       "\n",
       "                                    Wand              Patronus  \\\n",
       "Id                                                               \n",
       "1            11\"  Holly  phoenix feather                  Stag   \n",
       "2             12\" Ash unicorn tail hair   Jack Russell terrier   \n",
       "3     10¾\"  vine wood dragon heartstring                 Otter   \n",
       "4      15\" Elder Thestral tail hair core               Phoenix   \n",
       "5                  16\"  Oak unknown core                  None   \n",
       "..                                   ...                   ...   \n",
       "136                              Unknown         Non-corporeal   \n",
       "137                              Unknown                  None   \n",
       "138  15\", Elder, Thestral tail hair core                   NaN   \n",
       "139                                  NaN                   NaN   \n",
       "140                                  NaN                   NaN   \n",
       "\n",
       "                   Species              Blood status              Hair colour  \\\n",
       "Id                                                                              \n",
       "1                    Human                Half-blood                    Black   \n",
       "2                    Human                Pure-blood                      Red   \n",
       "3                    Human               Muggle-born                    Brown   \n",
       "4                    Human                Half-blood  Silver| formerly auburn   \n",
       "5    Half-Human/Half-Giant                Part-Human                    Black   \n",
       "..                     ...                       ...                      ...   \n",
       "136                  Human                       NaN                     Grey   \n",
       "137               Werewolf                       NaN                     Grey   \n",
       "138                  Human  Pure-blood or half-blood                    Blond   \n",
       "139                    Elf                       NaN                      NaN   \n",
       "140                    NaN                       NaN                      NaN   \n",
       "\n",
       "       Eye colour                                            Loyalty  \\\n",
       "Id                                                                     \n",
       "1    Bright green  Albus Dumbledore | Dumbledore's Army | Order o...   \n",
       "2            Blue  Dumbledore's Army | Order of the Phoenix | Hog...   \n",
       "3           Brown  Dumbledore's Army | Order of the Phoenix | Hog...   \n",
       "4            Blue  Dumbledore's Army | Order of the Phoenix | Hog...   \n",
       "5           Black  Albus Dumbledore | Order of the Phoenix | Hogw...   \n",
       "..            ...                                                ...   \n",
       "136           NaN         Hogwarts School of Witchcraft and Wizardry   \n",
       "137           NaN                     Lord Voldemort  | Death Eaters   \n",
       "138          Blue                     Gellert Grindelwald's Acolytes   \n",
       "139           NaN         Hogwarts School of Witchcraft and Wizardry   \n",
       "140           NaN                                                NaN   \n",
       "\n",
       "                                                Skills  \\\n",
       "Id                                                       \n",
       "1    Parseltongue| Defence Against the Dark Arts | ...   \n",
       "2                 Wizard chess | Quidditch goalkeeping   \n",
       "3                                    Almost everything   \n",
       "4    Considered by many to be one of the most power...   \n",
       "5    Resistant to stunning spells| above average st...   \n",
       "..                                                 ...   \n",
       "136                                                NaN   \n",
       "137                                    Physical combat   \n",
       "138                                           Duelling   \n",
       "139                                                NaN   \n",
       "140                                                NaN   \n",
       "\n",
       "                           Birth           Death  \n",
       "Id                                                \n",
       "1        Thursday, July 31, 1980             NaN  \n",
       "2        Saturday, March 1, 1980             NaN  \n",
       "3             19 September, 1979             NaN  \n",
       "4               Late August 1881  30 June, 1997   \n",
       "5                6 December 1928             NaN  \n",
       "..                           ...             ...  \n",
       "136                          NaN             NaN  \n",
       "137                     Pre 1945             NaN  \n",
       "138  Saturday, February 25, 1905     March, 1998  \n",
       "139                          NaN             NaN  \n",
       "140                          NaN             NaN  \n",
       "\n",
       "[140 rows x 14 columns]"
      ]
     },
     "execution_count": 2,
     "metadata": {},
     "output_type": "execute_result"
    }
   ],
   "source": [
    "## Read dataset in using pandas. Fix index column or use default pandas index. \n",
    "harrydata = pd.read_csv('HarryPotter/datasets/Characters_edit.csv',encoding='unicode_escape').set_index('Id')\n",
    "harrydata = pd.DataFrame(harrydata)\n",
    "harrydata"
   ]
  },
  {
   "cell_type": "code",
   "execution_count": 3,
   "metadata": {},
   "outputs": [],
   "source": [
    "## Choose string to fill NaN. These will be set to 0 in system id = sid\n",
    "harry = harrydata[['House','Blood status','Species','Hair colour','Eye colour']].fillna(\"Unknown\")\n",
    "for c in harry.columns:\n",
    "    harry[c] = harry[c].apply(lambda x : x.replace('\\xa0',' ')).apply(lambda x: x.replace('Unknown',f'Unknown {c}'))"
   ]
  },
  {
   "cell_type": "code",
   "execution_count": 4,
   "metadata": {},
   "outputs": [
    {
     "data": {
      "text/html": [
       "<div>\n",
       "<style scoped>\n",
       "    .dataframe tbody tr th:only-of-type {\n",
       "        vertical-align: middle;\n",
       "    }\n",
       "\n",
       "    .dataframe tbody tr th {\n",
       "        vertical-align: top;\n",
       "    }\n",
       "\n",
       "    .dataframe thead th {\n",
       "        text-align: right;\n",
       "    }\n",
       "</style>\n",
       "<table border=\"1\" class=\"dataframe\">\n",
       "  <thead>\n",
       "    <tr style=\"text-align: right;\">\n",
       "      <th></th>\n",
       "      <th>House</th>\n",
       "      <th>Blood status</th>\n",
       "      <th>Species</th>\n",
       "      <th>Hair colour</th>\n",
       "      <th>Eye colour</th>\n",
       "    </tr>\n",
       "    <tr>\n",
       "      <th>Id</th>\n",
       "      <th></th>\n",
       "      <th></th>\n",
       "      <th></th>\n",
       "      <th></th>\n",
       "      <th></th>\n",
       "    </tr>\n",
       "  </thead>\n",
       "  <tbody>\n",
       "    <tr>\n",
       "      <th>1</th>\n",
       "      <td>Gryffindor</td>\n",
       "      <td>Half-blood</td>\n",
       "      <td>Human</td>\n",
       "      <td>Black</td>\n",
       "      <td>Bright green</td>\n",
       "    </tr>\n",
       "    <tr>\n",
       "      <th>2</th>\n",
       "      <td>Gryffindor</td>\n",
       "      <td>Pure-blood</td>\n",
       "      <td>Human</td>\n",
       "      <td>Red</td>\n",
       "      <td>Blue</td>\n",
       "    </tr>\n",
       "    <tr>\n",
       "      <th>3</th>\n",
       "      <td>Gryffindor</td>\n",
       "      <td>Muggle-born</td>\n",
       "      <td>Human</td>\n",
       "      <td>Brown</td>\n",
       "      <td>Brown</td>\n",
       "    </tr>\n",
       "    <tr>\n",
       "      <th>4</th>\n",
       "      <td>Gryffindor</td>\n",
       "      <td>Half-blood</td>\n",
       "      <td>Human</td>\n",
       "      <td>Silver| formerly auburn</td>\n",
       "      <td>Blue</td>\n",
       "    </tr>\n",
       "    <tr>\n",
       "      <th>5</th>\n",
       "      <td>Gryffindor</td>\n",
       "      <td>Part-Human</td>\n",
       "      <td>Half-Human/Half-Giant</td>\n",
       "      <td>Black</td>\n",
       "      <td>Black</td>\n",
       "    </tr>\n",
       "    <tr>\n",
       "      <th>...</th>\n",
       "      <td>...</td>\n",
       "      <td>...</td>\n",
       "      <td>...</td>\n",
       "      <td>...</td>\n",
       "      <td>...</td>\n",
       "    </tr>\n",
       "    <tr>\n",
       "      <th>136</th>\n",
       "      <td>Unknown House</td>\n",
       "      <td>Unknown Blood status</td>\n",
       "      <td>Human</td>\n",
       "      <td>Grey</td>\n",
       "      <td>Unknown Eye colour</td>\n",
       "    </tr>\n",
       "    <tr>\n",
       "      <th>137</th>\n",
       "      <td>Unknown House</td>\n",
       "      <td>Unknown Blood status</td>\n",
       "      <td>Werewolf</td>\n",
       "      <td>Grey</td>\n",
       "      <td>Unknown Eye colour</td>\n",
       "    </tr>\n",
       "    <tr>\n",
       "      <th>138</th>\n",
       "      <td>Unknown House</td>\n",
       "      <td>Pure-blood or half-blood</td>\n",
       "      <td>Human</td>\n",
       "      <td>Blond</td>\n",
       "      <td>Blue</td>\n",
       "    </tr>\n",
       "    <tr>\n",
       "      <th>139</th>\n",
       "      <td>Unknown House</td>\n",
       "      <td>Unknown Blood status</td>\n",
       "      <td>Elf</td>\n",
       "      <td>Unknown Hair colour</td>\n",
       "      <td>Unknown Eye colour</td>\n",
       "    </tr>\n",
       "    <tr>\n",
       "      <th>140</th>\n",
       "      <td>Unknown House</td>\n",
       "      <td>Unknown Blood status</td>\n",
       "      <td>Unknown Species</td>\n",
       "      <td>Unknown Hair colour</td>\n",
       "      <td>Unknown Eye colour</td>\n",
       "    </tr>\n",
       "  </tbody>\n",
       "</table>\n",
       "<p>140 rows × 5 columns</p>\n",
       "</div>"
      ],
      "text/plain": [
       "             House              Blood status                Species  \\\n",
       "Id                                                                    \n",
       "1       Gryffindor                Half-blood                  Human   \n",
       "2       Gryffindor                Pure-blood                  Human   \n",
       "3       Gryffindor               Muggle-born                  Human   \n",
       "4       Gryffindor                Half-blood                  Human   \n",
       "5       Gryffindor                Part-Human  Half-Human/Half-Giant   \n",
       "..             ...                       ...                    ...   \n",
       "136  Unknown House      Unknown Blood status                  Human   \n",
       "137  Unknown House      Unknown Blood status               Werewolf   \n",
       "138  Unknown House  Pure-blood or half-blood                  Human   \n",
       "139  Unknown House      Unknown Blood status                    Elf   \n",
       "140  Unknown House      Unknown Blood status        Unknown Species   \n",
       "\n",
       "                 Hair colour          Eye colour  \n",
       "Id                                                \n",
       "1                      Black        Bright green  \n",
       "2                        Red                Blue  \n",
       "3                      Brown               Brown  \n",
       "4    Silver| formerly auburn                Blue  \n",
       "5                      Black               Black  \n",
       "..                       ...                 ...  \n",
       "136                     Grey  Unknown Eye colour  \n",
       "137                     Grey  Unknown Eye colour  \n",
       "138                    Blond                Blue  \n",
       "139      Unknown Hair colour  Unknown Eye colour  \n",
       "140      Unknown Hair colour  Unknown Eye colour  \n",
       "\n",
       "[140 rows x 5 columns]"
      ]
     },
     "execution_count": 4,
     "metadata": {},
     "output_type": "execute_result"
    }
   ],
   "source": [
    "harry"
   ]
  },
  {
   "cell_type": "markdown",
   "metadata": {},
   "source": [
    "### Generate a counter for each column \n",
    "- Assign a sid to each value in that column\n",
    "- Create a reverse counter to grab name from sid\n",
    "\n",
    "**Questions for Tony and Cliff**\n",
    "- how should we index the objects? \n",
    "- sids are whole numbers starting with column 0 and running through each column\n",
    "- ldict and rdict are indexed starting with 0 representing missing values\n",
    "- would we lose anything if we indexed these as -1 for missing values and then\n",
    "compute the incidence matrix using only nonnegative indices?"
   ]
  },
  {
   "cell_type": "code",
   "execution_count": 5,
   "metadata": {},
   "outputs": [
    {
     "data": {
      "text/plain": [
       "(7, 11, 10, 36, 26)"
      ]
     },
     "execution_count": 5,
     "metadata": {},
     "output_type": "execute_result"
    }
   ],
   "source": [
    "n = len(harry.columns)\n",
    "ctr = [HNXCount() for c in range(n)]\n",
    "ldict = OrderedDict()\n",
    "rdict = OrderedDict()\n",
    "for idx,c in enumerate(harry.columns):\n",
    "    ldict[c] = defaultdict(ctr[idx])\n",
    "    rdict[c] = OrderedDict()\n",
    "    ldict[c][f'Unknown {c}']\n",
    "    rdict[c][0] = f'Unknown {c}'\n",
    "    for k in harry[c]:\n",
    "        ldict[c][k]\n",
    "        rdict[c][ldict[c][k]] = k\n",
    "    ldict[c] = dict(ldict[c]) \n",
    "dims = tuple([len(ldict[c]) for c in harry.columns])\n",
    "dims"
   ]
  },
  {
   "cell_type": "code",
   "execution_count": 6,
   "metadata": {
    "scrolled": true
   },
   "outputs": [
    {
     "data": {
      "text/plain": [
       "odict_values(['Unknown Eye colour', 'Bright green', 'Blue', 'Brown', 'Black', 'Bright brown', 'Hazel', 'Grey', 'Green', 'Dark', 'Pale silvery', 'Silvery', 'Gooseberry', 'Scarlet ', 'Pale, freckled', 'Astonishingly blue', 'Variable', 'One dark, one electric blue', 'Yellowish', 'Ruddy', 'Grey/Blue', 'Dark blue', 'Bright Blue', 'Dark Grey', 'Pale', 'Yellow'])"
      ]
     },
     "execution_count": 6,
     "metadata": {},
     "output_type": "execute_result"
    }
   ],
   "source": [
    "rdict['Eye colour'].values()"
   ]
  },
  {
   "cell_type": "markdown",
   "metadata": {},
   "source": [
    "### Create an array of tuples giving positions of 1's in incidence Tensor\n",
    "- The tuples indicate one point across the possible node/edge assignments\n",
    "- The dimensions of the tuple give the number of unique labels in potential nodes/columns"
   ]
  },
  {
   "cell_type": "code",
   "execution_count": 7,
   "metadata": {},
   "outputs": [],
   "source": [
    "m = len(harry)\n",
    "n = len(harry.columns)\n",
    "data = np.zeros((m, n), dtype=int)\n",
    "for rid in range(m):\n",
    "    for cid in range(n):\n",
    "        c = harry.columns[cid]\n",
    "        data[rid, cid] = ldict[c][harry.iloc[rid][c]]\n",
    "udata = np.unique(data,axis=0,return_counts=True)"
   ]
  },
  {
   "cell_type": "code",
   "execution_count": 8,
   "metadata": {},
   "outputs": [
    {
     "data": {
      "text/plain": [
       "array([[ 0,  0,  0,  0,  0,  1],\n",
       "       [ 0,  0,  1,  0,  0,  2],\n",
       "       [ 0,  0,  1,  1,  0,  1],\n",
       "       [ 0,  0,  1,  1,  3,  1],\n",
       "       [ 0,  0,  1,  1,  4,  1],\n",
       "       [ 0,  0,  1,  2,  3,  1],\n",
       "       [ 0,  0,  1, 19,  0,  1],\n",
       "       [ 0,  0,  1, 19, 25,  1],\n",
       "       [ 0,  0,  1, 26, 18,  1],\n",
       "       [ 0,  0,  3, 19,  0,  1],\n",
       "       [ 0,  0,  6, 20,  4,  1],\n",
       "       [ 0,  0,  7, 16, 15,  1],\n",
       "       [ 0,  0,  9,  0,  0,  1],\n",
       "       [ 0,  1,  1, 19, 22,  1],\n",
       "       [ 0,  1,  1, 29,  3,  1],\n",
       "       [ 0,  2,  1,  2,  7,  1],\n",
       "       [ 0,  2,  1, 15,  0,  1],\n",
       "       [ 0,  2,  1, 18,  4,  1],\n",
       "       [ 0,  2,  1, 19,  0,  1],\n",
       "       [ 0,  2,  1, 19, 17,  1],\n",
       "       [ 0,  2,  1, 27, 20,  1],\n",
       "       [ 0,  2,  1, 31, 23,  1],\n",
       "       [ 0,  5,  1,  0,  0,  2],\n",
       "       [ 0,  5,  1,  1,  0,  1],\n",
       "       [ 0,  5,  1,  3, 19,  1],\n",
       "       [ 0,  5,  1,  5,  2,  1],\n",
       "       [ 0,  5,  1, 10,  9,  1],\n",
       "       [ 0,  5,  1, 15,  0,  1],\n",
       "       [ 0,  5,  1, 19,  0,  1],\n",
       "       [ 0,  5,  1, 21, 14,  1],\n",
       "       [ 0,  5,  1, 25,  0,  1],\n",
       "       [ 0,  5,  1, 30,  3,  1],\n",
       "       [ 0,  9,  1,  1,  0,  1],\n",
       "       [ 0,  9,  1,  5,  2,  1],\n",
       "       [ 0,  9,  1, 15,  0,  1],\n",
       "       [ 0,  9,  1, 19,  0,  1],\n",
       "       [ 0, 10,  1, 19, 24,  1],\n",
       "       [ 1,  0,  1,  3,  3,  1],\n",
       "       [ 1,  0,  6, 19,  0,  1],\n",
       "       [ 1,  1,  1,  0,  0,  1],\n",
       "       [ 1,  1,  1,  1,  1,  1],\n",
       "       [ 1,  1,  1,  1,  8,  1],\n",
       "       [ 1,  1,  1,  2,  0,  1],\n",
       "       [ 1,  1,  1,  4,  2,  1],\n",
       "       [ 1,  1,  1,  6,  0,  1],\n",
       "       [ 1,  1,  3,  8,  8,  1],\n",
       "       [ 1,  2,  1,  1,  6,  1],\n",
       "       [ 1,  2,  1,  1,  7,  1],\n",
       "       [ 1,  2,  1,  2,  2,  2],\n",
       "       [ 1,  2,  1,  2,  3,  2],\n",
       "       [ 1,  2,  1,  2,  5,  2],\n",
       "       [ 1,  2,  1,  2,  7,  1],\n",
       "       [ 1,  2,  1,  2,  8,  1],\n",
       "       [ 1,  2,  1,  5,  0,  1],\n",
       "       [ 1,  2,  1,  5,  2,  1],\n",
       "       [ 1,  2,  1, 15,  0,  1],\n",
       "       [ 1,  2,  4,  2,  2,  1],\n",
       "       [ 1,  3,  1,  1,  3,  1],\n",
       "       [ 1,  3,  1,  3,  3,  1],\n",
       "       [ 1,  3,  1,  7,  1,  1],\n",
       "       [ 1,  3,  1, 11,  0,  1],\n",
       "       [ 1,  3,  1, 33,  0,  1],\n",
       "       [ 1,  4,  2,  1,  4,  1],\n",
       "       [ 1,  5,  1,  0,  0,  1],\n",
       "       [ 1,  5,  1,  1,  3,  1],\n",
       "       [ 1,  5,  1,  1,  9,  1],\n",
       "       [ 1,  5,  1,  2,  8,  1],\n",
       "       [ 1,  5,  1,  3,  3,  2],\n",
       "       [ 1,  5,  1,  5,  0,  1],\n",
       "       [ 1,  5,  1,  9,  2,  1],\n",
       "       [ 1,  5,  1, 10,  9,  1],\n",
       "       [ 2,  0,  1, 10,  9,  1],\n",
       "       [ 2,  1,  1,  0,  0,  2],\n",
       "       [ 2,  1,  1,  0, 11,  1],\n",
       "       [ 2,  1,  1,  1,  3,  1],\n",
       "       [ 2,  1,  1,  5,  2,  1],\n",
       "       [ 2,  1,  1, 15,  7,  1],\n",
       "       [ 2,  3,  6,  0,  0,  1],\n",
       "       [ 2,  5,  1,  0,  0,  1],\n",
       "       [ 2,  5,  1,  1,  9,  2],\n",
       "       [ 2,  5,  1,  3,  9,  1],\n",
       "       [ 2,  5,  1, 10,  9,  1],\n",
       "       [ 2,  5,  1, 12, 10,  1],\n",
       "       [ 2,  5,  1, 14,  7,  1],\n",
       "       [ 2,  5,  6,  1,  7,  1],\n",
       "       [ 2,  6,  5, 13,  0,  1],\n",
       "       [ 2,  7,  1, 15,  0,  1],\n",
       "       [ 3,  1,  1,  1,  0,  1],\n",
       "       [ 3,  1,  1,  1,  4,  1],\n",
       "       [ 3,  1,  1, 17,  0,  1],\n",
       "       [ 3,  1,  1, 18, 13,  1],\n",
       "       [ 3,  1,  1, 34,  1,  1],\n",
       "       [ 3,  2,  1,  1,  0,  2],\n",
       "       [ 3,  2,  1,  1,  4,  1],\n",
       "       [ 3,  2,  1,  3,  0,  2],\n",
       "       [ 3,  2,  1, 10,  9,  1],\n",
       "       [ 3,  2,  1, 15,  2,  1],\n",
       "       [ 3,  2,  1, 16,  7,  2],\n",
       "       [ 3,  2,  1, 19,  9,  1],\n",
       "       [ 3,  2,  1, 35,  7,  1],\n",
       "       [ 3,  5,  1,  0,  0,  3],\n",
       "       [ 3,  5,  1,  1,  0,  2],\n",
       "       [ 3,  5,  1,  1,  3,  1],\n",
       "       [ 3,  5,  1,  3,  3,  1],\n",
       "       [ 3,  5,  1, 10,  0,  1],\n",
       "       [ 3,  5,  1, 15,  2,  1],\n",
       "       [ 3,  5,  1, 18, 12,  1],\n",
       "       [ 3,  5,  1, 24,  0,  1],\n",
       "       [ 3,  5,  6,  0,  0,  1],\n",
       "       [ 4,  0,  6,  3,  0,  1],\n",
       "       [ 4,  1,  1,  0,  0,  1],\n",
       "       [ 4,  1,  1, 15,  3,  1],\n",
       "       [ 4,  1,  1, 22, 16,  1],\n",
       "       [ 4,  1,  8, 22, 16,  1],\n",
       "       [ 4,  2,  1,  5,  0,  1],\n",
       "       [ 4,  2,  1, 10,  7,  1],\n",
       "       [ 4,  3,  1,  2,  0,  1],\n",
       "       [ 4,  5,  1,  0,  7,  1],\n",
       "       [ 4,  5,  1,  3,  2,  1],\n",
       "       [ 4,  5,  1, 15,  0,  1],\n",
       "       [ 4,  5,  1, 23,  2,  1],\n",
       "       [ 4,  5,  1, 32,  7,  1],\n",
       "       [ 5,  4,  2,  3,  4,  1],\n",
       "       [ 5,  8,  1, 28,  0,  1],\n",
       "       [ 5,  8,  1, 28, 21,  1],\n",
       "       [ 6,  5,  1, 10,  9,  1]])"
      ]
     },
     "execution_count": 8,
     "metadata": {},
     "output_type": "execute_result"
    }
   ],
   "source": [
    "np.concatenate([udata[0],np.expand_dims(udata[1],axis=1)],axis=1)"
   ]
  },
  {
   "cell_type": "code",
   "execution_count": 10,
   "metadata": {},
   "outputs": [
    {
     "data": {
      "text/plain": [
       "126"
      ]
     },
     "execution_count": 10,
     "metadata": {},
     "output_type": "execute_result"
    }
   ],
   "source": [
    "len(remove_row_duplicates(data,add_counts=False))"
   ]
  },
  {
   "cell_type": "code",
   "execution_count": 11,
   "metadata": {},
   "outputs": [
    {
     "data": {
      "text/plain": [
       "dict_keys(['Unknown House', 'Gryffindor', 'Ravenclaw', 'Slytherin', 'Hufflepuff', 'Beauxbatons Academy of Magic', 'Durmstrang Institute'])"
      ]
     },
     "execution_count": 11,
     "metadata": {},
     "output_type": "execute_result"
    }
   ],
   "source": [
    "ldict['House'].keys()"
   ]
  },
  {
   "cell_type": "code",
   "execution_count": 12,
   "metadata": {},
   "outputs": [
    {
     "data": {
      "text/plain": [
       "(array([['Gryffindor', 'Half-blood', 'Human', 'Black', 'Bright green'],\n",
       "        ['Gryffindor', 'Pure-blood', 'Human', 'Red', 'Blue'],\n",
       "        ['Gryffindor', 'Muggle-born', 'Human', 'Brown', 'Brown'],\n",
       "        ['Gryffindor', 'Half-blood', 'Human', 'Silver| formerly aubu',\n",
       "         'Blue'],\n",
       "        ['Gryffindor', 'Part-Human', 'Half-Human/Half-Giant', 'Black',\n",
       "         'Black']], dtype='<U21'),\n",
       " Id\n",
       " 1                         Harry James Potter\n",
       " 2                      Ronald Bilius Weasley\n",
       " 3                      Hermione Jean Granger\n",
       " 4    Albus Percival Wulfric Brian Dumbledore\n",
       " 5                              Rubeus Hagrid\n",
       " Name: Name, dtype: object)"
      ]
     },
     "execution_count": 12,
     "metadata": {},
     "output_type": "execute_result"
    }
   ],
   "source": [
    "## labeldata replaces numbers in data with their corresponding labels\n",
    "labeldata = np.array(data,dtype=str)\n",
    "for rdx in range(m):\n",
    "    for cdx in range(n):\n",
    "        c = harry.columns[cdx]\n",
    "        labeldata[rdx,cdx] = rdict[c][data[rdx,cdx]]\n",
    "## Make a hypergraph from the House and Blood Status\n",
    "labeldata[:,:][:5],harrydata['Name'][:5]"
   ]
  },
  {
   "cell_type": "markdown",
   "metadata": {},
   "source": [
    "## Create \"Tensor\" of incidence and remove duplicates"
   ]
  },
  {
   "cell_type": "code",
   "execution_count": 13,
   "metadata": {},
   "outputs": [
    {
     "data": {
      "text/plain": [
       "140"
      ]
     },
     "execution_count": 13,
     "metadata": {},
     "output_type": "execute_result"
    }
   ],
   "source": [
    "imat = np.zeros(dims,dtype=int)\n",
    "dedupe = OrderedDict()\n",
    "for d in data:\n",
    "    imat[tuple(d)] +=1\n",
    "imat.shape\n",
    "\n",
    "np.sum(imat)"
   ]
  },
  {
   "cell_type": "code",
   "execution_count": 14,
   "metadata": {},
   "outputs": [
    {
     "ename": "AxisError",
     "evalue": "axis 5 is out of bounds for array of dimension 5",
     "output_type": "error",
     "traceback": [
      "\u001b[0;31m---------------------------------------------------------------------------\u001b[0m",
      "\u001b[0;31mAxisError\u001b[0m                                 Traceback (most recent call last)",
      "\u001b[0;32m<ipython-input-14-92c24b04918c>\u001b[0m in \u001b[0;36m<module>\u001b[0;34m\u001b[0m\n\u001b[0;32m----> 1\u001b[0;31m \u001b[0mnp\u001b[0m\u001b[0;34m.\u001b[0m\u001b[0msum\u001b[0m\u001b[0;34m(\u001b[0m\u001b[0mimat\u001b[0m\u001b[0;34m,\u001b[0m\u001b[0maxis\u001b[0m \u001b[0;34m=\u001b[0m \u001b[0;34m(\u001b[0m\u001b[0;36m2\u001b[0m\u001b[0;34m,\u001b[0m\u001b[0;36m3\u001b[0m\u001b[0;34m,\u001b[0m\u001b[0;36m4\u001b[0m\u001b[0;34m,\u001b[0m\u001b[0;36m5\u001b[0m\u001b[0;34m)\u001b[0m\u001b[0;34m)\u001b[0m\u001b[0;34m\u001b[0m\u001b[0;34m\u001b[0m\u001b[0m\n\u001b[0m",
      "\u001b[0;32m<__array_function__ internals>\u001b[0m in \u001b[0;36msum\u001b[0;34m(*args, **kwargs)\u001b[0m\n",
      "\u001b[0;32m//anaconda3/envs/hnx/lib/python3.8/site-packages/numpy/core/fromnumeric.py\u001b[0m in \u001b[0;36msum\u001b[0;34m(a, axis, dtype, out, keepdims, initial, where)\u001b[0m\n\u001b[1;32m   2239\u001b[0m         \u001b[0;32mreturn\u001b[0m \u001b[0mres\u001b[0m\u001b[0;34m\u001b[0m\u001b[0;34m\u001b[0m\u001b[0m\n\u001b[1;32m   2240\u001b[0m \u001b[0;34m\u001b[0m\u001b[0m\n\u001b[0;32m-> 2241\u001b[0;31m     return _wrapreduction(a, np.add, 'sum', axis, dtype, out, keepdims=keepdims,\n\u001b[0m\u001b[1;32m   2242\u001b[0m                           initial=initial, where=where)\n\u001b[1;32m   2243\u001b[0m \u001b[0;34m\u001b[0m\u001b[0m\n",
      "\u001b[0;32m//anaconda3/envs/hnx/lib/python3.8/site-packages/numpy/core/fromnumeric.py\u001b[0m in \u001b[0;36m_wrapreduction\u001b[0;34m(obj, ufunc, method, axis, dtype, out, **kwargs)\u001b[0m\n\u001b[1;32m     85\u001b[0m                 \u001b[0;32mreturn\u001b[0m \u001b[0mreduction\u001b[0m\u001b[0;34m(\u001b[0m\u001b[0maxis\u001b[0m\u001b[0;34m=\u001b[0m\u001b[0maxis\u001b[0m\u001b[0;34m,\u001b[0m \u001b[0mout\u001b[0m\u001b[0;34m=\u001b[0m\u001b[0mout\u001b[0m\u001b[0;34m,\u001b[0m \u001b[0;34m**\u001b[0m\u001b[0mpasskwargs\u001b[0m\u001b[0;34m)\u001b[0m\u001b[0;34m\u001b[0m\u001b[0;34m\u001b[0m\u001b[0m\n\u001b[1;32m     86\u001b[0m \u001b[0;34m\u001b[0m\u001b[0m\n\u001b[0;32m---> 87\u001b[0;31m     \u001b[0;32mreturn\u001b[0m \u001b[0mufunc\u001b[0m\u001b[0;34m.\u001b[0m\u001b[0mreduce\u001b[0m\u001b[0;34m(\u001b[0m\u001b[0mobj\u001b[0m\u001b[0;34m,\u001b[0m \u001b[0maxis\u001b[0m\u001b[0;34m,\u001b[0m \u001b[0mdtype\u001b[0m\u001b[0;34m,\u001b[0m \u001b[0mout\u001b[0m\u001b[0;34m,\u001b[0m \u001b[0;34m**\u001b[0m\u001b[0mpasskwargs\u001b[0m\u001b[0;34m)\u001b[0m\u001b[0;34m\u001b[0m\u001b[0;34m\u001b[0m\u001b[0m\n\u001b[0m\u001b[1;32m     88\u001b[0m \u001b[0;34m\u001b[0m\u001b[0m\n\u001b[1;32m     89\u001b[0m \u001b[0;34m\u001b[0m\u001b[0m\n",
      "\u001b[0;31mAxisError\u001b[0m: axis 5 is out of bounds for array of dimension 5"
     ]
    }
   ],
   "source": [
    "np.sum(imat,axis = (2,3,4,5))"
   ]
  },
  {
   "cell_type": "code",
   "execution_count": null,
   "metadata": {},
   "outputs": [],
   "source": [
    "ldict"
   ]
  },
  {
   "cell_type": "code",
   "execution_count": null,
   "metadata": {},
   "outputs": [],
   "source": [
    "slabels=OrderedDict()\n",
    "for cdx,c in enumerate(harry.columns):\n",
    "    slabels.update({c:np.array(list(ldict[c].keys()))})\n",
    "\n",
    "slabels"
   ]
  },
  {
   "cell_type": "markdown",
   "metadata": {},
   "source": [
    "## Create StaticEntity "
   ]
  },
  {
   "cell_type": "code",
   "execution_count": null,
   "metadata": {},
   "outputs": [],
   "source": [
    "imp.reload(us)\n",
    "E = us.StaticEntity(imat, slabels)\n",
    "E.dimensions"
   ]
  },
  {
   "cell_type": "code",
   "execution_count": null,
   "metadata": {},
   "outputs": [],
   "source": [
    "E.elements,E.children"
   ]
  },
  {
   "cell_type": "code",
   "execution_count": null,
   "metadata": {},
   "outputs": [],
   "source": [
    "E.incidence_matrix(0,1)"
   ]
  },
  {
   "cell_type": "code",
   "execution_count": null,
   "metadata": {},
   "outputs": [],
   "source": [
    "elts = E.elements_by_level(0,1);elts"
   ]
  },
  {
   "cell_type": "code",
   "execution_count": null,
   "metadata": {},
   "outputs": [],
   "source": [
    "level1,level2 = 0,4\n",
    "elts = E.elements_by_level(level1,level2)\n"
   ]
  },
  {
   "cell_type": "code",
   "execution_count": null,
   "metadata": {},
   "outputs": [],
   "source": [
    "E.elements_by_level(level1,level2,translate=True)"
   ]
  },
  {
   "cell_type": "markdown",
   "metadata": {},
   "source": [
    "## Select columns to use from data and create hypergraph"
   ]
  },
  {
   "cell_type": "code",
   "execution_count": null,
   "metadata": {},
   "outputs": [],
   "source": [
    "Edx = 0;Ndx = 1\n",
    "Ename = harry.columns[Edx];Nname = harry.columns[Ndx]"
   ]
  },
  {
   "cell_type": "code",
   "execution_count": null,
   "metadata": {
    "scrolled": true
   },
   "outputs": [],
   "source": [
    "## Add weights to hypergraph \n",
    "thisdata = data[:,[Ndx,Edx]].astype(int)\n",
    "sp,counts = np.unique(thisdata,axis=0,return_counts=True)\n",
    "sp,counts"
   ]
  },
  {
   "cell_type": "code",
   "execution_count": null,
   "metadata": {},
   "outputs": [],
   "source": [
    "mat = np.zeros((dims[Ndx],dims[Edx]),dtype=int)\n",
    "for d in range(len(counts)):\n",
    "    mat[sp[d][0],sp[d][1]] = counts[d]"
   ]
  },
  {
   "cell_type": "code",
   "execution_count": null,
   "metadata": {},
   "outputs": [],
   "source": [
    "## the matrix will generate a hypergraph. Non zero entries will be 1's\n",
    "print(mat[1:,1:])"
   ]
  },
  {
   "cell_type": "code",
   "execution_count": null,
   "metadata": {},
   "outputs": [],
   "source": [
    "## Generate weights for each of the nodes based on counts relative to the whole\n",
    "M = mat[1:,1:]\n",
    "tot = np.sum(M)\n",
    "radii = dict(zip([rdict[Nname][r] for r in range(1,len(rdict[Nname]))],[0.5+3*np.sum(M[r],axis=0)/tot for r in range(dims[Ndx]-1)]))\n",
    "radii"
   ]
  },
  {
   "cell_type": "code",
   "execution_count": null,
   "metadata": {},
   "outputs": [],
   "source": [
    "## Generate weights for each of the edges in the same way\n",
    "Mt = M.transpose()\n",
    "tott = np.sum(Mt)\n",
    "radiit = OrderedDict(zip([rdict[Ename][r] for r in range(1,len(rdict[Ename]))],[0.5+3*np.sum(Mt[r],axis=0)/tot for r in range(dims[Edx]-1)]))\n",
    "radiit"
   ]
  },
  {
   "cell_type": "code",
   "execution_count": null,
   "metadata": {},
   "outputs": [],
   "source": [
    "rdict[Nname],rdict[Ename]"
   ]
  },
  {
   "cell_type": "code",
   "execution_count": null,
   "metadata": {},
   "outputs": [],
   "source": [
    "edges = [rdict[Ename][k] for k in range(1,dims[Edx])]\n",
    "nodes = [rdict[Nname][k] for k in range(1,dims[Ndx])]\n",
    "hmat = np.where(M >0, 1,0)"
   ]
  },
  {
   "cell_type": "code",
   "execution_count": null,
   "metadata": {},
   "outputs": [],
   "source": [
    "hmat"
   ]
  },
  {
   "cell_type": "code",
   "execution_count": null,
   "metadata": {},
   "outputs": [],
   "source": [
    "harryshyp = hnx.Hypergraph.from_numpy_array(hmat,node_names=nodes,edge_names=edges)"
   ]
  },
  {
   "cell_type": "code",
   "execution_count": null,
   "metadata": {},
   "outputs": [],
   "source": [
    "m,rd,cd = harryshyp.incidence_matrix(index=True)  ## how to force the incidence matrix to agree with order of input?\n",
    "\n",
    "## by setting a static flag on construction the hmat will be treated as arr and node_names, edge_names will be turned into labels\n",
    "## in this case the hmat is already the incidence matrix"
   ]
  },
  {
   "cell_type": "code",
   "execution_count": null,
   "metadata": {},
   "outputs": [],
   "source": [
    "m.todense()"
   ]
  },
  {
   "cell_type": "code",
   "execution_count": null,
   "metadata": {},
   "outputs": [],
   "source": [
    "rdict['Blood status'],rd"
   ]
  },
  {
   "cell_type": "raw",
   "metadata": {},
   "source": [
    "fig,ax = plt.subplots(figsize=(15,10))\n",
    "hnx.draw(harryshyp,node_radius=radii)"
   ]
  },
  {
   "cell_type": "markdown",
   "metadata": {},
   "source": [
    "<img src=\"HarryPotter/bloodstatus-house.png\">"
   ]
  },
  {
   "cell_type": "code",
   "execution_count": null,
   "metadata": {},
   "outputs": [],
   "source": [
    "E.level('Half-blood')\n"
   ]
  },
  {
   "cell_type": "code",
   "execution_count": null,
   "metadata": {},
   "outputs": [],
   "source": [
    "E"
   ]
  },
  {
   "cell_type": "code",
   "execution_count": null,
   "metadata": {},
   "outputs": [],
   "source": [
    "E.uidset"
   ]
  },
  {
   "cell_type": "code",
   "execution_count": null,
   "metadata": {},
   "outputs": [],
   "source": [
    "fig,ax = plt.subplots(figsize=(15,10))\n",
    "hnx.draw(harryshyp,node_radius=radii)"
   ]
  },
  {
   "cell_type": "code",
   "execution_count": null,
   "metadata": {},
   "outputs": [],
   "source": [
    "import networkx as nx\n",
    "layout = nx.spring_layout\n",
    "layout(harryshyp.bipartite())"
   ]
  },
  {
   "cell_type": "code",
   "execution_count": null,
   "metadata": {},
   "outputs": [],
   "source": []
  }
 ],
 "metadata": {
  "kernelspec": {
   "display_name": "Python 3",
   "language": "python",
   "name": "python3"
  },
  "language_info": {
   "codemirror_mode": {
    "name": "ipython",
    "version": 3
   },
   "file_extension": ".py",
   "mimetype": "text/x-python",
   "name": "python",
   "nbconvert_exporter": "python",
   "pygments_lexer": "ipython3",
   "version": "3.8.5"
  }
 },
 "nbformat": 4,
 "nbformat_minor": 2
}
