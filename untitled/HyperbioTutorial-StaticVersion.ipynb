{
 "cells": [
  {
   "cell_type": "code",
   "execution_count": 25,
   "metadata": {},
   "outputs": [
    {
     "ename": "ModuleNotFoundError",
     "evalue": "No module named 'nwhy'",
     "output_type": "error",
     "traceback": [
      "\u001b[0;31m---------------------------------------------------------------------------\u001b[0m",
      "\u001b[0;31mModuleNotFoundError\u001b[0m                       Traceback (most recent call last)",
      "\u001b[0;32m<ipython-input-25-b49e8945eb2b>\u001b[0m in \u001b[0;36m<module>\u001b[0;34m\u001b[0m\n\u001b[1;32m      6\u001b[0m \u001b[0;32mfrom\u001b[0m \u001b[0mscipy\u001b[0m\u001b[0;34m.\u001b[0m\u001b[0msparse\u001b[0m \u001b[0;32mimport\u001b[0m \u001b[0mcsr_matrix\u001b[0m\u001b[0;34m,\u001b[0m \u001b[0mtriu\u001b[0m\u001b[0;34m\u001b[0m\u001b[0;34m\u001b[0m\u001b[0m\n\u001b[1;32m      7\u001b[0m \u001b[0;32mfrom\u001b[0m \u001b[0mcollections\u001b[0m \u001b[0;32mimport\u001b[0m \u001b[0mOrderedDict\u001b[0m\u001b[0;34m\u001b[0m\u001b[0;34m\u001b[0m\u001b[0m\n\u001b[0;32m----> 8\u001b[0;31m \u001b[0;32mimport\u001b[0m \u001b[0mnwhy\u001b[0m\u001b[0;34m\u001b[0m\u001b[0;34m\u001b[0m\u001b[0m\n\u001b[0m",
      "\u001b[0;31mModuleNotFoundError\u001b[0m: No module named 'nwhy'"
     ]
    }
   ],
   "source": [
    "import hypernetx as hnx\n",
    "import pandas as pd\n",
    "import numpy as np\n",
    "import matplotlib.pyplot as plt\n",
    "from scipy.stats import zscore\n",
    "from scipy.sparse import csr_matrix, triu\n",
    "from collections import OrderedDict\n",
    "import nwhy"
   ]
  },
  {
   "cell_type": "markdown",
   "metadata": {},
   "source": [
    "## Generating a hypergraph from transcriptomics data\n",
    "In computational biology measuring expression of gene transcripts is called \"transcriptomics\". Given a biological sample it's possible to measure the expression level of genes through....\n",
    "\n",
    "This data file contains log2 fold change values (columns ending in \"\\__b\") as well as significance values (columns ending in \"\\__p\") for each of 279 experimental conditions. Each row corresponds to a gene, with the name of the gene as the first element in the row. \n",
    "\n",
    "We will create a hypergraph from these transcriptomics data where the vertices represent *conditions* and the hyperedges represent *genes*. A condition vertex will be contained within a gene hyperedge if the z-score (condition-wise) of the log2 fold change is $\\geq 2$ and the p-value is $\\leq 0.05$. "
   ]
  },
  {
   "cell_type": "code",
   "execution_count": 2,
   "metadata": {},
   "outputs": [
    {
     "data": {
      "text/html": [
       "<div>\n",
       "<style scoped>\n",
       "    .dataframe tbody tr th:only-of-type {\n",
       "        vertical-align: middle;\n",
       "    }\n",
       "\n",
       "    .dataframe tbody tr th {\n",
       "        vertical-align: top;\n",
       "    }\n",
       "\n",
       "    .dataframe thead th {\n",
       "        text-align: right;\n",
       "    }\n",
       "</style>\n",
       "<table border=\"1\" class=\"dataframe\">\n",
       "  <thead>\n",
       "    <tr style=\"text-align: right;\">\n",
       "      <th></th>\n",
       "      <th>condition_0__b</th>\n",
       "      <th>condition_0__p</th>\n",
       "      <th>condition_1__b</th>\n",
       "      <th>condition_1__p</th>\n",
       "      <th>condition_2__b</th>\n",
       "      <th>condition_2__p</th>\n",
       "      <th>condition_3__b</th>\n",
       "      <th>condition_3__p</th>\n",
       "      <th>condition_4__b</th>\n",
       "      <th>condition_4__p</th>\n",
       "      <th>...</th>\n",
       "      <th>condition_274__b</th>\n",
       "      <th>condition_274__p</th>\n",
       "      <th>condition_275__b</th>\n",
       "      <th>condition_275__p</th>\n",
       "      <th>condition_276__b</th>\n",
       "      <th>condition_276__p</th>\n",
       "      <th>condition_277__b</th>\n",
       "      <th>condition_277__p</th>\n",
       "      <th>condition_278__b</th>\n",
       "      <th>condition_278__p</th>\n",
       "    </tr>\n",
       "  </thead>\n",
       "  <tbody>\n",
       "    <tr>\n",
       "      <th>AAAS</th>\n",
       "      <td>-0.053539</td>\n",
       "      <td>0.897905</td>\n",
       "      <td>-0.021629</td>\n",
       "      <td>0.971758</td>\n",
       "      <td>0.069450</td>\n",
       "      <td>0.893481</td>\n",
       "      <td>0.390366</td>\n",
       "      <td>0.150667</td>\n",
       "      <td>0.073836</td>\n",
       "      <td>0.705193</td>\n",
       "      <td>...</td>\n",
       "      <td>0.818601</td>\n",
       "      <td>0.199452</td>\n",
       "      <td>0.675964</td>\n",
       "      <td>0.000681</td>\n",
       "      <td>1.295524</td>\n",
       "      <td>0.000307</td>\n",
       "      <td>1.474642</td>\n",
       "      <td>0.000588</td>\n",
       "      <td>1.359757</td>\n",
       "      <td>0.012836</td>\n",
       "    </tr>\n",
       "    <tr>\n",
       "      <th>AACS</th>\n",
       "      <td>0.031504</td>\n",
       "      <td>0.896717</td>\n",
       "      <td>0.131252</td>\n",
       "      <td>0.409202</td>\n",
       "      <td>0.309998</td>\n",
       "      <td>0.244921</td>\n",
       "      <td>0.401375</td>\n",
       "      <td>0.037433</td>\n",
       "      <td>0.165346</td>\n",
       "      <td>0.354110</td>\n",
       "      <td>...</td>\n",
       "      <td>-1.549177</td>\n",
       "      <td>0.038906</td>\n",
       "      <td>-0.788553</td>\n",
       "      <td>0.123942</td>\n",
       "      <td>-0.743268</td>\n",
       "      <td>0.038090</td>\n",
       "      <td>-0.632166</td>\n",
       "      <td>0.112165</td>\n",
       "      <td>-1.220868</td>\n",
       "      <td>0.041723</td>\n",
       "    </tr>\n",
       "    <tr>\n",
       "      <th>AADAC</th>\n",
       "      <td>-0.041660</td>\n",
       "      <td>0.837731</td>\n",
       "      <td>0.031732</td>\n",
       "      <td>0.905520</td>\n",
       "      <td>-0.106712</td>\n",
       "      <td>0.351493</td>\n",
       "      <td>-0.224353</td>\n",
       "      <td>0.169825</td>\n",
       "      <td>-0.045614</td>\n",
       "      <td>0.834415</td>\n",
       "      <td>...</td>\n",
       "      <td>0.036319</td>\n",
       "      <td>0.768323</td>\n",
       "      <td>0.030294</td>\n",
       "      <td>0.781156</td>\n",
       "      <td>0.030260</td>\n",
       "      <td>0.748385</td>\n",
       "      <td>0.020523</td>\n",
       "      <td>0.891356</td>\n",
       "      <td>0.009379</td>\n",
       "      <td>0.963882</td>\n",
       "    </tr>\n",
       "    <tr>\n",
       "      <th>AAK1</th>\n",
       "      <td>0.139425</td>\n",
       "      <td>0.507731</td>\n",
       "      <td>0.148185</td>\n",
       "      <td>0.805341</td>\n",
       "      <td>0.251240</td>\n",
       "      <td>0.196918</td>\n",
       "      <td>0.290396</td>\n",
       "      <td>0.058642</td>\n",
       "      <td>0.383917</td>\n",
       "      <td>0.082190</td>\n",
       "      <td>...</td>\n",
       "      <td>0.235774</td>\n",
       "      <td>0.359214</td>\n",
       "      <td>0.871901</td>\n",
       "      <td>0.009966</td>\n",
       "      <td>1.341327</td>\n",
       "      <td>0.034060</td>\n",
       "      <td>-0.485618</td>\n",
       "      <td>0.168506</td>\n",
       "      <td>-1.095028</td>\n",
       "      <td>0.100790</td>\n",
       "    </tr>\n",
       "    <tr>\n",
       "      <th>AAMP</th>\n",
       "      <td>0.139837</td>\n",
       "      <td>0.470499</td>\n",
       "      <td>0.005684</td>\n",
       "      <td>0.988458</td>\n",
       "      <td>0.077773</td>\n",
       "      <td>0.496487</td>\n",
       "      <td>0.128518</td>\n",
       "      <td>0.292702</td>\n",
       "      <td>0.132485</td>\n",
       "      <td>0.179721</td>\n",
       "      <td>...</td>\n",
       "      <td>-1.181211</td>\n",
       "      <td>0.237053</td>\n",
       "      <td>0.389658</td>\n",
       "      <td>0.346917</td>\n",
       "      <td>-0.150656</td>\n",
       "      <td>0.560934</td>\n",
       "      <td>-0.244075</td>\n",
       "      <td>0.553876</td>\n",
       "      <td>-0.914955</td>\n",
       "      <td>0.221456</td>\n",
       "    </tr>\n",
       "  </tbody>\n",
       "</table>\n",
       "<p>5 rows × 558 columns</p>\n",
       "</div>"
      ],
      "text/plain": [
       "       condition_0__b  condition_0__p  condition_1__b  condition_1__p  \\\n",
       "AAAS        -0.053539        0.897905       -0.021629        0.971758   \n",
       "AACS         0.031504        0.896717        0.131252        0.409202   \n",
       "AADAC       -0.041660        0.837731        0.031732        0.905520   \n",
       "AAK1         0.139425        0.507731        0.148185        0.805341   \n",
       "AAMP         0.139837        0.470499        0.005684        0.988458   \n",
       "\n",
       "       condition_2__b  condition_2__p  condition_3__b  condition_3__p  \\\n",
       "AAAS         0.069450        0.893481        0.390366        0.150667   \n",
       "AACS         0.309998        0.244921        0.401375        0.037433   \n",
       "AADAC       -0.106712        0.351493       -0.224353        0.169825   \n",
       "AAK1         0.251240        0.196918        0.290396        0.058642   \n",
       "AAMP         0.077773        0.496487        0.128518        0.292702   \n",
       "\n",
       "       condition_4__b  condition_4__p  ...  condition_274__b  \\\n",
       "AAAS         0.073836        0.705193  ...          0.818601   \n",
       "AACS         0.165346        0.354110  ...         -1.549177   \n",
       "AADAC       -0.045614        0.834415  ...          0.036319   \n",
       "AAK1         0.383917        0.082190  ...          0.235774   \n",
       "AAMP         0.132485        0.179721  ...         -1.181211   \n",
       "\n",
       "       condition_274__p  condition_275__b  condition_275__p  condition_276__b  \\\n",
       "AAAS           0.199452          0.675964          0.000681          1.295524   \n",
       "AACS           0.038906         -0.788553          0.123942         -0.743268   \n",
       "AADAC          0.768323          0.030294          0.781156          0.030260   \n",
       "AAK1           0.359214          0.871901          0.009966          1.341327   \n",
       "AAMP           0.237053          0.389658          0.346917         -0.150656   \n",
       "\n",
       "       condition_276__p  condition_277__b  condition_277__p  condition_278__b  \\\n",
       "AAAS           0.000307          1.474642          0.000588          1.359757   \n",
       "AACS           0.038090         -0.632166          0.112165         -1.220868   \n",
       "AADAC          0.748385          0.020523          0.891356          0.009379   \n",
       "AAK1           0.034060         -0.485618          0.168506         -1.095028   \n",
       "AAMP           0.560934         -0.244075          0.553876         -0.914955   \n",
       "\n",
       "       condition_278__p  \n",
       "AAAS           0.012836  \n",
       "AACS           0.041723  \n",
       "AADAC          0.963882  \n",
       "AAK1           0.100790  \n",
       "AAMP           0.221456  \n",
       "\n",
       "[5 rows x 558 columns]"
      ]
     },
     "execution_count": 2,
     "metadata": {},
     "output_type": "execute_result"
    }
   ],
   "source": [
    "trans_datafile ='bigTrans3_anon.csv'\n",
    "\n",
    "## Read the data file into a pandas data frame\n",
    "tdf = pd.read_csv(f'{trans_datafile}', sep=',', index_col=0)\n",
    "\n",
    "tdf.head()"
   ]
  },
  {
   "cell_type": "markdown",
   "metadata": {},
   "source": [
    "In order to construct the hypergraph using the `from_dataframe` method in HyperNetX we need to separate the columns and create one dataframe for the log2 fold changes and one for the p-values. We will also need a translation from the p-value column name to the corresponding log2 fold change column name. This will be the `p_to_b_dict` dictionary."
   ]
  },
  {
   "cell_type": "code",
   "execution_count": 3,
   "metadata": {},
   "outputs": [],
   "source": [
    "b_cols = []\n",
    "p_cols = []\n",
    "\n",
    "p_to_b_dict = {}\n",
    "\n",
    "for col in tdf.columns:\n",
    "    if col[-1] == 'b':\n",
    "        b_cols += [col]\n",
    "    elif col[-1] == 'p':\n",
    "        p_cols += [col]\n",
    "    else:\n",
    "        print(col) #shouldn't happen\n",
    "        \n",
    "## In order to apply a filter based on p-values to the log2 fold change values later we create `tdfp_renamed` \n",
    "## which has the column names of the p-value dataframe align with the column names of `tdfb`.\n",
    "tdfb = tdf[b_cols].rename(columns=lambda x : x.replace('__b','')) #log2 fold change data frame\n",
    "tdfp = tdf[p_cols].rename(columns=lambda x : x.replace('__p','')) #p-value data frame"
   ]
  },
  {
   "cell_type": "code",
   "execution_count": 4,
   "metadata": {},
   "outputs": [
    {
     "data": {
      "text/html": [
       "<div>\n",
       "<style scoped>\n",
       "    .dataframe tbody tr th:only-of-type {\n",
       "        vertical-align: middle;\n",
       "    }\n",
       "\n",
       "    .dataframe tbody tr th {\n",
       "        vertical-align: top;\n",
       "    }\n",
       "\n",
       "    .dataframe thead th {\n",
       "        text-align: right;\n",
       "    }\n",
       "</style>\n",
       "<table border=\"1\" class=\"dataframe\">\n",
       "  <thead>\n",
       "    <tr style=\"text-align: right;\">\n",
       "      <th></th>\n",
       "      <th>condition_0</th>\n",
       "      <th>condition_1</th>\n",
       "      <th>condition_2</th>\n",
       "      <th>condition_3</th>\n",
       "      <th>condition_4</th>\n",
       "      <th>condition_5</th>\n",
       "      <th>condition_6</th>\n",
       "      <th>condition_7</th>\n",
       "      <th>condition_8</th>\n",
       "      <th>condition_9</th>\n",
       "      <th>...</th>\n",
       "      <th>condition_269</th>\n",
       "      <th>condition_270</th>\n",
       "      <th>condition_271</th>\n",
       "      <th>condition_272</th>\n",
       "      <th>condition_273</th>\n",
       "      <th>condition_274</th>\n",
       "      <th>condition_275</th>\n",
       "      <th>condition_276</th>\n",
       "      <th>condition_277</th>\n",
       "      <th>condition_278</th>\n",
       "    </tr>\n",
       "  </thead>\n",
       "  <tbody>\n",
       "    <tr>\n",
       "      <th>AAAS</th>\n",
       "      <td>-0.053539</td>\n",
       "      <td>-0.021629</td>\n",
       "      <td>0.069450</td>\n",
       "      <td>0.390366</td>\n",
       "      <td>0.073836</td>\n",
       "      <td>-0.442246</td>\n",
       "      <td>-0.082826</td>\n",
       "      <td>-0.422886</td>\n",
       "      <td>-0.045865</td>\n",
       "      <td>0.308248</td>\n",
       "      <td>...</td>\n",
       "      <td>0.110832</td>\n",
       "      <td>0.106307</td>\n",
       "      <td>-0.164211</td>\n",
       "      <td>0.384582</td>\n",
       "      <td>0.661209</td>\n",
       "      <td>0.818601</td>\n",
       "      <td>0.675964</td>\n",
       "      <td>1.295524</td>\n",
       "      <td>1.474642</td>\n",
       "      <td>1.359757</td>\n",
       "    </tr>\n",
       "    <tr>\n",
       "      <th>AACS</th>\n",
       "      <td>0.031504</td>\n",
       "      <td>0.131252</td>\n",
       "      <td>0.309998</td>\n",
       "      <td>0.401375</td>\n",
       "      <td>0.165346</td>\n",
       "      <td>0.079663</td>\n",
       "      <td>-0.291830</td>\n",
       "      <td>-0.386167</td>\n",
       "      <td>0.207874</td>\n",
       "      <td>0.335756</td>\n",
       "      <td>...</td>\n",
       "      <td>-0.786648</td>\n",
       "      <td>-0.234909</td>\n",
       "      <td>-0.942312</td>\n",
       "      <td>-0.758240</td>\n",
       "      <td>-0.742127</td>\n",
       "      <td>-1.549177</td>\n",
       "      <td>-0.788553</td>\n",
       "      <td>-0.743268</td>\n",
       "      <td>-0.632166</td>\n",
       "      <td>-1.220868</td>\n",
       "    </tr>\n",
       "    <tr>\n",
       "      <th>AADAC</th>\n",
       "      <td>-0.041660</td>\n",
       "      <td>0.031732</td>\n",
       "      <td>-0.106712</td>\n",
       "      <td>-0.224353</td>\n",
       "      <td>-0.045614</td>\n",
       "      <td>-0.890692</td>\n",
       "      <td>-0.040650</td>\n",
       "      <td>0.053375</td>\n",
       "      <td>-0.220946</td>\n",
       "      <td>-0.279067</td>\n",
       "      <td>...</td>\n",
       "      <td>-0.030368</td>\n",
       "      <td>-0.041964</td>\n",
       "      <td>0.070461</td>\n",
       "      <td>0.062098</td>\n",
       "      <td>0.027516</td>\n",
       "      <td>0.036319</td>\n",
       "      <td>0.030294</td>\n",
       "      <td>0.030260</td>\n",
       "      <td>0.020523</td>\n",
       "      <td>0.009379</td>\n",
       "    </tr>\n",
       "    <tr>\n",
       "      <th>AAK1</th>\n",
       "      <td>0.139425</td>\n",
       "      <td>0.148185</td>\n",
       "      <td>0.251240</td>\n",
       "      <td>0.290396</td>\n",
       "      <td>0.383917</td>\n",
       "      <td>0.680079</td>\n",
       "      <td>-0.185509</td>\n",
       "      <td>0.495312</td>\n",
       "      <td>-0.189335</td>\n",
       "      <td>0.234855</td>\n",
       "      <td>...</td>\n",
       "      <td>-1.645084</td>\n",
       "      <td>-0.540221</td>\n",
       "      <td>0.257469</td>\n",
       "      <td>-0.243665</td>\n",
       "      <td>-0.326640</td>\n",
       "      <td>0.235774</td>\n",
       "      <td>0.871901</td>\n",
       "      <td>1.341327</td>\n",
       "      <td>-0.485618</td>\n",
       "      <td>-1.095028</td>\n",
       "    </tr>\n",
       "    <tr>\n",
       "      <th>AAMP</th>\n",
       "      <td>0.139837</td>\n",
       "      <td>0.005684</td>\n",
       "      <td>0.077773</td>\n",
       "      <td>0.128518</td>\n",
       "      <td>0.132485</td>\n",
       "      <td>0.122469</td>\n",
       "      <td>0.025393</td>\n",
       "      <td>0.055635</td>\n",
       "      <td>0.113951</td>\n",
       "      <td>0.080511</td>\n",
       "      <td>...</td>\n",
       "      <td>-1.147891</td>\n",
       "      <td>-0.329626</td>\n",
       "      <td>-0.670756</td>\n",
       "      <td>-0.411586</td>\n",
       "      <td>-0.751645</td>\n",
       "      <td>-1.181211</td>\n",
       "      <td>0.389658</td>\n",
       "      <td>-0.150656</td>\n",
       "      <td>-0.244075</td>\n",
       "      <td>-0.914955</td>\n",
       "    </tr>\n",
       "  </tbody>\n",
       "</table>\n",
       "<p>5 rows × 279 columns</p>\n",
       "</div>"
      ],
      "text/plain": [
       "       condition_0  condition_1  condition_2  condition_3  condition_4  \\\n",
       "AAAS     -0.053539    -0.021629     0.069450     0.390366     0.073836   \n",
       "AACS      0.031504     0.131252     0.309998     0.401375     0.165346   \n",
       "AADAC    -0.041660     0.031732    -0.106712    -0.224353    -0.045614   \n",
       "AAK1      0.139425     0.148185     0.251240     0.290396     0.383917   \n",
       "AAMP      0.139837     0.005684     0.077773     0.128518     0.132485   \n",
       "\n",
       "       condition_5  condition_6  condition_7  condition_8  condition_9  ...  \\\n",
       "AAAS     -0.442246    -0.082826    -0.422886    -0.045865     0.308248  ...   \n",
       "AACS      0.079663    -0.291830    -0.386167     0.207874     0.335756  ...   \n",
       "AADAC    -0.890692    -0.040650     0.053375    -0.220946    -0.279067  ...   \n",
       "AAK1      0.680079    -0.185509     0.495312    -0.189335     0.234855  ...   \n",
       "AAMP      0.122469     0.025393     0.055635     0.113951     0.080511  ...   \n",
       "\n",
       "       condition_269  condition_270  condition_271  condition_272  \\\n",
       "AAAS        0.110832       0.106307      -0.164211       0.384582   \n",
       "AACS       -0.786648      -0.234909      -0.942312      -0.758240   \n",
       "AADAC      -0.030368      -0.041964       0.070461       0.062098   \n",
       "AAK1       -1.645084      -0.540221       0.257469      -0.243665   \n",
       "AAMP       -1.147891      -0.329626      -0.670756      -0.411586   \n",
       "\n",
       "       condition_273  condition_274  condition_275  condition_276  \\\n",
       "AAAS        0.661209       0.818601       0.675964       1.295524   \n",
       "AACS       -0.742127      -1.549177      -0.788553      -0.743268   \n",
       "AADAC       0.027516       0.036319       0.030294       0.030260   \n",
       "AAK1       -0.326640       0.235774       0.871901       1.341327   \n",
       "AAMP       -0.751645      -1.181211       0.389658      -0.150656   \n",
       "\n",
       "       condition_277  condition_278  \n",
       "AAAS        1.474642       1.359757  \n",
       "AACS       -0.632166      -1.220868  \n",
       "AADAC       0.020523       0.009379  \n",
       "AAK1       -0.485618      -1.095028  \n",
       "AAMP       -0.244075      -0.914955  \n",
       "\n",
       "[5 rows x 279 columns]"
      ]
     },
     "execution_count": 4,
     "metadata": {},
     "output_type": "execute_result"
    }
   ],
   "source": [
    "tdfb.head()"
   ]
  },
  {
   "cell_type": "code",
   "execution_count": 5,
   "metadata": {},
   "outputs": [
    {
     "data": {
      "text/html": [
       "<div>\n",
       "<style scoped>\n",
       "    .dataframe tbody tr th:only-of-type {\n",
       "        vertical-align: middle;\n",
       "    }\n",
       "\n",
       "    .dataframe tbody tr th {\n",
       "        vertical-align: top;\n",
       "    }\n",
       "\n",
       "    .dataframe thead th {\n",
       "        text-align: right;\n",
       "    }\n",
       "</style>\n",
       "<table border=\"1\" class=\"dataframe\">\n",
       "  <thead>\n",
       "    <tr style=\"text-align: right;\">\n",
       "      <th></th>\n",
       "      <th>condition_0</th>\n",
       "      <th>condition_1</th>\n",
       "      <th>condition_2</th>\n",
       "      <th>condition_3</th>\n",
       "      <th>condition_4</th>\n",
       "      <th>condition_5</th>\n",
       "      <th>condition_6</th>\n",
       "      <th>condition_7</th>\n",
       "      <th>condition_8</th>\n",
       "      <th>condition_9</th>\n",
       "      <th>...</th>\n",
       "      <th>condition_269</th>\n",
       "      <th>condition_270</th>\n",
       "      <th>condition_271</th>\n",
       "      <th>condition_272</th>\n",
       "      <th>condition_273</th>\n",
       "      <th>condition_274</th>\n",
       "      <th>condition_275</th>\n",
       "      <th>condition_276</th>\n",
       "      <th>condition_277</th>\n",
       "      <th>condition_278</th>\n",
       "    </tr>\n",
       "  </thead>\n",
       "  <tbody>\n",
       "    <tr>\n",
       "      <th>AAAS</th>\n",
       "      <td>0.897905</td>\n",
       "      <td>0.971758</td>\n",
       "      <td>0.893481</td>\n",
       "      <td>0.150667</td>\n",
       "      <td>0.705193</td>\n",
       "      <td>0.020239</td>\n",
       "      <td>0.814719</td>\n",
       "      <td>0.026202</td>\n",
       "      <td>0.919330</td>\n",
       "      <td>0.120621</td>\n",
       "      <td>...</td>\n",
       "      <td>0.377591</td>\n",
       "      <td>0.463682</td>\n",
       "      <td>0.594456</td>\n",
       "      <td>0.002115</td>\n",
       "      <td>0.046480</td>\n",
       "      <td>0.199452</td>\n",
       "      <td>0.000681</td>\n",
       "      <td>0.000307</td>\n",
       "      <td>0.000588</td>\n",
       "      <td>0.012836</td>\n",
       "    </tr>\n",
       "    <tr>\n",
       "      <th>AACS</th>\n",
       "      <td>0.896717</td>\n",
       "      <td>0.409202</td>\n",
       "      <td>0.244921</td>\n",
       "      <td>0.037433</td>\n",
       "      <td>0.354110</td>\n",
       "      <td>0.499078</td>\n",
       "      <td>0.189763</td>\n",
       "      <td>0.015905</td>\n",
       "      <td>0.191275</td>\n",
       "      <td>0.040680</td>\n",
       "      <td>...</td>\n",
       "      <td>0.009926</td>\n",
       "      <td>0.194330</td>\n",
       "      <td>0.068695</td>\n",
       "      <td>0.000293</td>\n",
       "      <td>0.013817</td>\n",
       "      <td>0.038906</td>\n",
       "      <td>0.123942</td>\n",
       "      <td>0.038090</td>\n",
       "      <td>0.112165</td>\n",
       "      <td>0.041723</td>\n",
       "    </tr>\n",
       "    <tr>\n",
       "      <th>AADAC</th>\n",
       "      <td>0.837731</td>\n",
       "      <td>0.905520</td>\n",
       "      <td>0.351493</td>\n",
       "      <td>0.169825</td>\n",
       "      <td>0.834415</td>\n",
       "      <td>0.000132</td>\n",
       "      <td>0.794360</td>\n",
       "      <td>0.563794</td>\n",
       "      <td>0.119895</td>\n",
       "      <td>0.025462</td>\n",
       "      <td>...</td>\n",
       "      <td>0.602196</td>\n",
       "      <td>0.647917</td>\n",
       "      <td>0.483492</td>\n",
       "      <td>0.498501</td>\n",
       "      <td>0.772614</td>\n",
       "      <td>0.768323</td>\n",
       "      <td>0.781156</td>\n",
       "      <td>0.748385</td>\n",
       "      <td>0.891356</td>\n",
       "      <td>0.963882</td>\n",
       "    </tr>\n",
       "    <tr>\n",
       "      <th>AAK1</th>\n",
       "      <td>0.507731</td>\n",
       "      <td>0.805341</td>\n",
       "      <td>0.196918</td>\n",
       "      <td>0.058642</td>\n",
       "      <td>0.082190</td>\n",
       "      <td>0.000294</td>\n",
       "      <td>0.383349</td>\n",
       "      <td>0.009896</td>\n",
       "      <td>0.147586</td>\n",
       "      <td>0.011289</td>\n",
       "      <td>...</td>\n",
       "      <td>0.007530</td>\n",
       "      <td>0.219397</td>\n",
       "      <td>0.304758</td>\n",
       "      <td>0.006622</td>\n",
       "      <td>0.057828</td>\n",
       "      <td>0.359214</td>\n",
       "      <td>0.009966</td>\n",
       "      <td>0.034060</td>\n",
       "      <td>0.168506</td>\n",
       "      <td>0.100790</td>\n",
       "    </tr>\n",
       "    <tr>\n",
       "      <th>AAMP</th>\n",
       "      <td>0.470499</td>\n",
       "      <td>0.988458</td>\n",
       "      <td>0.496487</td>\n",
       "      <td>0.292702</td>\n",
       "      <td>0.179721</td>\n",
       "      <td>0.264728</td>\n",
       "      <td>0.849092</td>\n",
       "      <td>0.624992</td>\n",
       "      <td>0.311908</td>\n",
       "      <td>0.220028</td>\n",
       "      <td>...</td>\n",
       "      <td>0.023810</td>\n",
       "      <td>0.519994</td>\n",
       "      <td>0.081114</td>\n",
       "      <td>0.013810</td>\n",
       "      <td>0.007500</td>\n",
       "      <td>0.237053</td>\n",
       "      <td>0.346917</td>\n",
       "      <td>0.560934</td>\n",
       "      <td>0.553876</td>\n",
       "      <td>0.221456</td>\n",
       "    </tr>\n",
       "  </tbody>\n",
       "</table>\n",
       "<p>5 rows × 279 columns</p>\n",
       "</div>"
      ],
      "text/plain": [
       "       condition_0  condition_1  condition_2  condition_3  condition_4  \\\n",
       "AAAS      0.897905     0.971758     0.893481     0.150667     0.705193   \n",
       "AACS      0.896717     0.409202     0.244921     0.037433     0.354110   \n",
       "AADAC     0.837731     0.905520     0.351493     0.169825     0.834415   \n",
       "AAK1      0.507731     0.805341     0.196918     0.058642     0.082190   \n",
       "AAMP      0.470499     0.988458     0.496487     0.292702     0.179721   \n",
       "\n",
       "       condition_5  condition_6  condition_7  condition_8  condition_9  ...  \\\n",
       "AAAS      0.020239     0.814719     0.026202     0.919330     0.120621  ...   \n",
       "AACS      0.499078     0.189763     0.015905     0.191275     0.040680  ...   \n",
       "AADAC     0.000132     0.794360     0.563794     0.119895     0.025462  ...   \n",
       "AAK1      0.000294     0.383349     0.009896     0.147586     0.011289  ...   \n",
       "AAMP      0.264728     0.849092     0.624992     0.311908     0.220028  ...   \n",
       "\n",
       "       condition_269  condition_270  condition_271  condition_272  \\\n",
       "AAAS        0.377591       0.463682       0.594456       0.002115   \n",
       "AACS        0.009926       0.194330       0.068695       0.000293   \n",
       "AADAC       0.602196       0.647917       0.483492       0.498501   \n",
       "AAK1        0.007530       0.219397       0.304758       0.006622   \n",
       "AAMP        0.023810       0.519994       0.081114       0.013810   \n",
       "\n",
       "       condition_273  condition_274  condition_275  condition_276  \\\n",
       "AAAS        0.046480       0.199452       0.000681       0.000307   \n",
       "AACS        0.013817       0.038906       0.123942       0.038090   \n",
       "AADAC       0.772614       0.768323       0.781156       0.748385   \n",
       "AAK1        0.057828       0.359214       0.009966       0.034060   \n",
       "AAMP        0.007500       0.237053       0.346917       0.560934   \n",
       "\n",
       "       condition_277  condition_278  \n",
       "AAAS        0.000588       0.012836  \n",
       "AACS        0.112165       0.041723  \n",
       "AADAC       0.891356       0.963882  \n",
       "AAK1        0.168506       0.100790  \n",
       "AAMP        0.553876       0.221456  \n",
       "\n",
       "[5 rows x 279 columns]"
      ]
     },
     "execution_count": 5,
     "metadata": {},
     "output_type": "execute_result"
    }
   ],
   "source": [
    "tdfp.head()"
   ]
  },
  {
   "cell_type": "markdown",
   "metadata": {},
   "source": [
    "We check to see if there are any NA values in `tdfb` (there are). If so, we must fill the NAs in order to compute z-scores. We fill the NAs with the mean of each column. Later, when we create the hypergraph, it will be clear why this is a reasonable choice."
   ]
  },
  {
   "cell_type": "code",
   "execution_count": 6,
   "metadata": {},
   "outputs": [
    {
     "data": {
      "text/plain": [
       "13"
      ]
     },
     "execution_count": 6,
     "metadata": {},
     "output_type": "execute_result"
    }
   ],
   "source": [
    "tdfb.isna().sum().sum()  ## number of Nans\""
   ]
  },
  {
   "cell_type": "code",
   "execution_count": 7,
   "metadata": {},
   "outputs": [],
   "source": [
    "tdfb = tdfb.astype(float) # to ensure everything is a float\n",
    "tdfb = tdfb.fillna(tdfb.mean()) # fill the NAs with the mean of each column"
   ]
  },
  {
   "cell_type": "markdown",
   "metadata": {},
   "source": [
    "We apply the z-score column-wise and take the absolute value of each resulting entry. It is worth pointing out that filling the NAs with the mean of each column does have an impact on the z-scores (by reducing the standard deviation of the column). However, in this case there are so few NA values and for each affected column there is only one NA, that that we assume the impact is negligible."
   ]
  },
  {
   "cell_type": "code",
   "execution_count": 8,
   "metadata": {},
   "outputs": [
    {
     "data": {
      "text/html": [
       "<div>\n",
       "<style scoped>\n",
       "    .dataframe tbody tr th:only-of-type {\n",
       "        vertical-align: middle;\n",
       "    }\n",
       "\n",
       "    .dataframe tbody tr th {\n",
       "        vertical-align: top;\n",
       "    }\n",
       "\n",
       "    .dataframe thead th {\n",
       "        text-align: right;\n",
       "    }\n",
       "</style>\n",
       "<table border=\"1\" class=\"dataframe\">\n",
       "  <thead>\n",
       "    <tr style=\"text-align: right;\">\n",
       "      <th></th>\n",
       "      <th>condition_0</th>\n",
       "      <th>condition_1</th>\n",
       "      <th>condition_2</th>\n",
       "      <th>condition_3</th>\n",
       "      <th>condition_4</th>\n",
       "      <th>condition_5</th>\n",
       "      <th>condition_6</th>\n",
       "      <th>condition_7</th>\n",
       "      <th>condition_8</th>\n",
       "      <th>condition_9</th>\n",
       "      <th>...</th>\n",
       "      <th>condition_269</th>\n",
       "      <th>condition_270</th>\n",
       "      <th>condition_271</th>\n",
       "      <th>condition_272</th>\n",
       "      <th>condition_273</th>\n",
       "      <th>condition_274</th>\n",
       "      <th>condition_275</th>\n",
       "      <th>condition_276</th>\n",
       "      <th>condition_277</th>\n",
       "      <th>condition_278</th>\n",
       "    </tr>\n",
       "  </thead>\n",
       "  <tbody>\n",
       "    <tr>\n",
       "      <th>AAAS</th>\n",
       "      <td>0.385565</td>\n",
       "      <td>0.238070</td>\n",
       "      <td>0.443872</td>\n",
       "      <td>1.463033</td>\n",
       "      <td>0.158425</td>\n",
       "      <td>1.145265</td>\n",
       "      <td>0.260249</td>\n",
       "      <td>2.064284</td>\n",
       "      <td>0.379907</td>\n",
       "      <td>0.953880</td>\n",
       "      <td>...</td>\n",
       "      <td>0.385399</td>\n",
       "      <td>0.447249</td>\n",
       "      <td>0.119840</td>\n",
       "      <td>0.836579</td>\n",
       "      <td>1.291596</td>\n",
       "      <td>1.311356</td>\n",
       "      <td>0.969919</td>\n",
       "      <td>1.879485</td>\n",
       "      <td>2.509792</td>\n",
       "      <td>1.883533</td>\n",
       "    </tr>\n",
       "    <tr>\n",
       "      <th>AACS</th>\n",
       "      <td>0.164414</td>\n",
       "      <td>1.005465</td>\n",
       "      <td>2.345166</td>\n",
       "      <td>1.507704</td>\n",
       "      <td>0.606929</td>\n",
       "      <td>0.163841</td>\n",
       "      <td>1.217533</td>\n",
       "      <td>1.890122</td>\n",
       "      <td>1.473085</td>\n",
       "      <td>1.046324</td>\n",
       "      <td>...</td>\n",
       "      <td>0.706847</td>\n",
       "      <td>0.358692</td>\n",
       "      <td>1.394904</td>\n",
       "      <td>0.985461</td>\n",
       "      <td>1.094888</td>\n",
       "      <td>1.613561</td>\n",
       "      <td>1.095892</td>\n",
       "      <td>0.670392</td>\n",
       "      <td>0.860191</td>\n",
       "      <td>1.092556</td>\n",
       "    </tr>\n",
       "    <tr>\n",
       "      <th>AADAC</th>\n",
       "      <td>0.308742</td>\n",
       "      <td>0.195965</td>\n",
       "      <td>0.948517</td>\n",
       "      <td>1.031329</td>\n",
       "      <td>0.427018</td>\n",
       "      <td>2.270104</td>\n",
       "      <td>0.067074</td>\n",
       "      <td>0.194677</td>\n",
       "      <td>1.658488</td>\n",
       "      <td>1.019828</td>\n",
       "      <td>...</td>\n",
       "      <td>0.213557</td>\n",
       "      <td>0.097038</td>\n",
       "      <td>0.264714</td>\n",
       "      <td>0.322433</td>\n",
       "      <td>0.213951</td>\n",
       "      <td>0.345003</td>\n",
       "      <td>0.059153</td>\n",
       "      <td>0.297044</td>\n",
       "      <td>0.183829</td>\n",
       "      <td>0.326218</td>\n",
       "    </tr>\n",
       "    <tr>\n",
       "      <th>AAK1</th>\n",
       "      <td>0.862342</td>\n",
       "      <td>1.143194</td>\n",
       "      <td>1.880740</td>\n",
       "      <td>1.057383</td>\n",
       "      <td>1.678182</td>\n",
       "      <td>1.669868</td>\n",
       "      <td>0.730559</td>\n",
       "      <td>2.290836</td>\n",
       "      <td>1.427638</td>\n",
       "      <td>0.707239</td>\n",
       "      <td>...</td>\n",
       "      <td>1.751575</td>\n",
       "      <td>1.079826</td>\n",
       "      <td>0.571162</td>\n",
       "      <td>0.165057</td>\n",
       "      <td>0.388318</td>\n",
       "      <td>0.591389</td>\n",
       "      <td>1.246303</td>\n",
       "      <td>1.936769</td>\n",
       "      <td>0.625779</td>\n",
       "      <td>0.947431</td>\n",
       "    </tr>\n",
       "    <tr>\n",
       "      <th>AAMP</th>\n",
       "      <td>0.865006</td>\n",
       "      <td>0.015907</td>\n",
       "      <td>0.509653</td>\n",
       "      <td>0.400525</td>\n",
       "      <td>0.445872</td>\n",
       "      <td>0.271212</td>\n",
       "      <td>0.235416</td>\n",
       "      <td>0.205397</td>\n",
       "      <td>0.787188</td>\n",
       "      <td>0.188556</td>\n",
       "      <td>...</td>\n",
       "      <td>1.146484</td>\n",
       "      <td>0.582409</td>\n",
       "      <td>0.949909</td>\n",
       "      <td>0.432778</td>\n",
       "      <td>1.111073</td>\n",
       "      <td>1.159014</td>\n",
       "      <td>0.566062</td>\n",
       "      <td>0.070777</td>\n",
       "      <td>0.239414</td>\n",
       "      <td>0.739763</td>\n",
       "    </tr>\n",
       "  </tbody>\n",
       "</table>\n",
       "<p>5 rows × 279 columns</p>\n",
       "</div>"
      ],
      "text/plain": [
       "       condition_0  condition_1  condition_2  condition_3  condition_4  \\\n",
       "AAAS      0.385565     0.238070     0.443872     1.463033     0.158425   \n",
       "AACS      0.164414     1.005465     2.345166     1.507704     0.606929   \n",
       "AADAC     0.308742     0.195965     0.948517     1.031329     0.427018   \n",
       "AAK1      0.862342     1.143194     1.880740     1.057383     1.678182   \n",
       "AAMP      0.865006     0.015907     0.509653     0.400525     0.445872   \n",
       "\n",
       "       condition_5  condition_6  condition_7  condition_8  condition_9  ...  \\\n",
       "AAAS      1.145265     0.260249     2.064284     0.379907     0.953880  ...   \n",
       "AACS      0.163841     1.217533     1.890122     1.473085     1.046324  ...   \n",
       "AADAC     2.270104     0.067074     0.194677     1.658488     1.019828  ...   \n",
       "AAK1      1.669868     0.730559     2.290836     1.427638     0.707239  ...   \n",
       "AAMP      0.271212     0.235416     0.205397     0.787188     0.188556  ...   \n",
       "\n",
       "       condition_269  condition_270  condition_271  condition_272  \\\n",
       "AAAS        0.385399       0.447249       0.119840       0.836579   \n",
       "AACS        0.706847       0.358692       1.394904       0.985461   \n",
       "AADAC       0.213557       0.097038       0.264714       0.322433   \n",
       "AAK1        1.751575       1.079826       0.571162       0.165057   \n",
       "AAMP        1.146484       0.582409       0.949909       0.432778   \n",
       "\n",
       "       condition_273  condition_274  condition_275  condition_276  \\\n",
       "AAAS        1.291596       1.311356       0.969919       1.879485   \n",
       "AACS        1.094888       1.613561       1.095892       0.670392   \n",
       "AADAC       0.213951       0.345003       0.059153       0.297044   \n",
       "AAK1        0.388318       0.591389       1.246303       1.936769   \n",
       "AAMP        1.111073       1.159014       0.566062       0.070777   \n",
       "\n",
       "       condition_277  condition_278  \n",
       "AAAS        2.509792       1.883533  \n",
       "AACS        0.860191       1.092556  \n",
       "AADAC       0.183829       0.326218  \n",
       "AAK1        0.625779       0.947431  \n",
       "AAMP        0.239414       0.739763  \n",
       "\n",
       "[5 rows x 279 columns]"
      ]
     },
     "execution_count": 8,
     "metadata": {},
     "output_type": "execute_result"
    }
   ],
   "source": [
    "tdfbz = abs(tdfb.apply(zscore))\n",
    "tdfbz.head()"
   ]
  },
  {
   "cell_type": "markdown",
   "metadata": {},
   "source": [
    "Next we filter the z-score dataframe to zero out all of the values corresponding to p-values greater than 0.05. This will allow us to do the z-score > 2 AND p-value < 0.05 criteria for edge creation. `tdfp < 0.05` is a dataframe of `True` and `False` values, based on the filter. Taking `tdfz[tdfp < 0.05]` applies this p-value filter to the z-scores. Any place where there was a `False` will become `NA`. Then fill the NAs with 0."
   ]
  },
  {
   "cell_type": "code",
   "execution_count": 9,
   "metadata": {},
   "outputs": [
    {
     "data": {
      "text/html": [
       "<div>\n",
       "<style scoped>\n",
       "    .dataframe tbody tr th:only-of-type {\n",
       "        vertical-align: middle;\n",
       "    }\n",
       "\n",
       "    .dataframe tbody tr th {\n",
       "        vertical-align: top;\n",
       "    }\n",
       "\n",
       "    .dataframe thead th {\n",
       "        text-align: right;\n",
       "    }\n",
       "</style>\n",
       "<table border=\"1\" class=\"dataframe\">\n",
       "  <thead>\n",
       "    <tr style=\"text-align: right;\">\n",
       "      <th></th>\n",
       "      <th>AAAS</th>\n",
       "      <th>AADAC</th>\n",
       "      <th>AAK1</th>\n",
       "      <th>AAMP</th>\n",
       "      <th>AARS</th>\n",
       "      <th>AASDHPPT</th>\n",
       "      <th>AASS</th>\n",
       "      <th>AATF</th>\n",
       "      <th>AATK</th>\n",
       "      <th>ABAT</th>\n",
       "      <th>...</th>\n",
       "      <th>ZSWIM5</th>\n",
       "      <th>ZSWIM6</th>\n",
       "      <th>ZW10</th>\n",
       "      <th>ZWILCH</th>\n",
       "      <th>ZWINT</th>\n",
       "      <th>ZXDA</th>\n",
       "      <th>ZXDC</th>\n",
       "      <th>ZYG11B</th>\n",
       "      <th>ZYX</th>\n",
       "      <th>ZZZ3</th>\n",
       "    </tr>\n",
       "  </thead>\n",
       "  <tbody>\n",
       "    <tr>\n",
       "      <th>condition_3</th>\n",
       "      <td>0.000000</td>\n",
       "      <td>0.000000</td>\n",
       "      <td>0.000000</td>\n",
       "      <td>0.0</td>\n",
       "      <td>2.13085</td>\n",
       "      <td>2.044925</td>\n",
       "      <td>0.0</td>\n",
       "      <td>0.0</td>\n",
       "      <td>0.000000</td>\n",
       "      <td>0.0</td>\n",
       "      <td>...</td>\n",
       "      <td>0.0</td>\n",
       "      <td>0.0</td>\n",
       "      <td>0.0</td>\n",
       "      <td>0.0</td>\n",
       "      <td>0.0</td>\n",
       "      <td>0.0</td>\n",
       "      <td>0.0</td>\n",
       "      <td>0.0</td>\n",
       "      <td>2.551110</td>\n",
       "      <td>9.441469</td>\n",
       "    </tr>\n",
       "    <tr>\n",
       "      <th>condition_4</th>\n",
       "      <td>0.000000</td>\n",
       "      <td>0.000000</td>\n",
       "      <td>0.000000</td>\n",
       "      <td>0.0</td>\n",
       "      <td>0.00000</td>\n",
       "      <td>0.000000</td>\n",
       "      <td>0.0</td>\n",
       "      <td>0.0</td>\n",
       "      <td>0.000000</td>\n",
       "      <td>0.0</td>\n",
       "      <td>...</td>\n",
       "      <td>0.0</td>\n",
       "      <td>0.0</td>\n",
       "      <td>0.0</td>\n",
       "      <td>0.0</td>\n",
       "      <td>0.0</td>\n",
       "      <td>0.0</td>\n",
       "      <td>0.0</td>\n",
       "      <td>0.0</td>\n",
       "      <td>0.000000</td>\n",
       "      <td>12.988752</td>\n",
       "    </tr>\n",
       "    <tr>\n",
       "      <th>condition_5</th>\n",
       "      <td>0.000000</td>\n",
       "      <td>2.270104</td>\n",
       "      <td>0.000000</td>\n",
       "      <td>0.0</td>\n",
       "      <td>0.00000</td>\n",
       "      <td>0.000000</td>\n",
       "      <td>0.0</td>\n",
       "      <td>0.0</td>\n",
       "      <td>0.000000</td>\n",
       "      <td>0.0</td>\n",
       "      <td>...</td>\n",
       "      <td>0.0</td>\n",
       "      <td>0.0</td>\n",
       "      <td>0.0</td>\n",
       "      <td>0.0</td>\n",
       "      <td>0.0</td>\n",
       "      <td>0.0</td>\n",
       "      <td>0.0</td>\n",
       "      <td>0.0</td>\n",
       "      <td>0.000000</td>\n",
       "      <td>11.733724</td>\n",
       "    </tr>\n",
       "    <tr>\n",
       "      <th>condition_6</th>\n",
       "      <td>0.000000</td>\n",
       "      <td>0.000000</td>\n",
       "      <td>0.000000</td>\n",
       "      <td>0.0</td>\n",
       "      <td>0.00000</td>\n",
       "      <td>0.000000</td>\n",
       "      <td>0.0</td>\n",
       "      <td>0.0</td>\n",
       "      <td>0.000000</td>\n",
       "      <td>0.0</td>\n",
       "      <td>...</td>\n",
       "      <td>0.0</td>\n",
       "      <td>0.0</td>\n",
       "      <td>0.0</td>\n",
       "      <td>0.0</td>\n",
       "      <td>0.0</td>\n",
       "      <td>0.0</td>\n",
       "      <td>0.0</td>\n",
       "      <td>0.0</td>\n",
       "      <td>0.000000</td>\n",
       "      <td>2.403344</td>\n",
       "    </tr>\n",
       "    <tr>\n",
       "      <th>condition_7</th>\n",
       "      <td>2.064284</td>\n",
       "      <td>0.000000</td>\n",
       "      <td>2.290836</td>\n",
       "      <td>0.0</td>\n",
       "      <td>0.00000</td>\n",
       "      <td>0.000000</td>\n",
       "      <td>0.0</td>\n",
       "      <td>0.0</td>\n",
       "      <td>2.671948</td>\n",
       "      <td>0.0</td>\n",
       "      <td>...</td>\n",
       "      <td>0.0</td>\n",
       "      <td>0.0</td>\n",
       "      <td>0.0</td>\n",
       "      <td>0.0</td>\n",
       "      <td>0.0</td>\n",
       "      <td>0.0</td>\n",
       "      <td>0.0</td>\n",
       "      <td>0.0</td>\n",
       "      <td>3.636012</td>\n",
       "      <td>3.494152</td>\n",
       "    </tr>\n",
       "  </tbody>\n",
       "</table>\n",
       "<p>5 rows × 8030 columns</p>\n",
       "</div>"
      ],
      "text/plain": [
       "                 AAAS     AADAC      AAK1  AAMP     AARS  AASDHPPT  AASS  \\\n",
       "condition_3  0.000000  0.000000  0.000000   0.0  2.13085  2.044925   0.0   \n",
       "condition_4  0.000000  0.000000  0.000000   0.0  0.00000  0.000000   0.0   \n",
       "condition_5  0.000000  2.270104  0.000000   0.0  0.00000  0.000000   0.0   \n",
       "condition_6  0.000000  0.000000  0.000000   0.0  0.00000  0.000000   0.0   \n",
       "condition_7  2.064284  0.000000  2.290836   0.0  0.00000  0.000000   0.0   \n",
       "\n",
       "             AATF      AATK  ABAT  ...  ZSWIM5  ZSWIM6  ZW10  ZWILCH  ZWINT  \\\n",
       "condition_3   0.0  0.000000   0.0  ...     0.0     0.0   0.0     0.0    0.0   \n",
       "condition_4   0.0  0.000000   0.0  ...     0.0     0.0   0.0     0.0    0.0   \n",
       "condition_5   0.0  0.000000   0.0  ...     0.0     0.0   0.0     0.0    0.0   \n",
       "condition_6   0.0  0.000000   0.0  ...     0.0     0.0   0.0     0.0    0.0   \n",
       "condition_7   0.0  2.671948   0.0  ...     0.0     0.0   0.0     0.0    0.0   \n",
       "\n",
       "             ZXDA  ZXDC  ZYG11B       ZYX       ZZZ3  \n",
       "condition_3   0.0   0.0     0.0  2.551110   9.441469  \n",
       "condition_4   0.0   0.0     0.0  0.000000  12.988752  \n",
       "condition_5   0.0   0.0     0.0  0.000000  11.733724  \n",
       "condition_6   0.0   0.0     0.0  0.000000   2.403344  \n",
       "condition_7   0.0   0.0     0.0  3.636012   3.494152  \n",
       "\n",
       "[5 rows x 8030 columns]"
      ]
     },
     "execution_count": 9,
     "metadata": {},
     "output_type": "execute_result"
    }
   ],
   "source": [
    "tdfbz_filtered = tdfbz[tdfp < 0.05]\n",
    "tdfbz_filtered = tdfbz_filtered.fillna(0)\n",
    "tdfbz_filtered = tdfbz_filtered [tdfbz_filtered >= 2.0].fillna(0)\n",
    "tdfbz_filtered = tdfbz_filtered[[c for c in tdfbz.columns if tdfbz_filtered[c].any()]]\n",
    "tdfT = tdfbz_filtered.T\n",
    "tdfbz_filtered = tdfT[[c for c in tdfT.columns if tdfT[c].any()]]\n",
    "tdfbz_filtered.head()"
   ]
  },
  {
   "cell_type": "code",
   "execution_count": 10,
   "metadata": {},
   "outputs": [
    {
     "data": {
      "text/plain": [
       "(241, 8030)"
      ]
     },
     "execution_count": 10,
     "metadata": {},
     "output_type": "execute_result"
    }
   ],
   "source": [
    "tdfbz_filtered.shape"
   ]
  },
  {
   "cell_type": "code",
   "execution_count": 11,
   "metadata": {},
   "outputs": [],
   "source": [
    "labels = OrderedDict([('genes', np.array(tdfbz_filtered.columns)),('conditions', np.array(tdfbz_filtered.index))])"
   ]
  },
  {
   "cell_type": "code",
   "execution_count": 12,
   "metadata": {},
   "outputs": [
    {
     "data": {
      "text/plain": [
       "(8030, 241)"
      ]
     },
     "execution_count": 12,
     "metadata": {},
     "output_type": "execute_result"
    }
   ],
   "source": [
    "arr = tdfbz_filtered.values.transpose();arr.shape"
   ]
  },
  {
   "cell_type": "code",
   "execution_count": 13,
   "metadata": {},
   "outputs": [],
   "source": [
    "E = hnx.StaticEntitySet(arr=arr,labels=labels)\n",
    "H_trans = hnx.Hypergraph(E)"
   ]
  },
  {
   "cell_type": "markdown",
   "metadata": {},
   "source": [
    "Finally we are ready to create the hypergraph! We use the `from_dataframe` command with inpt `tdfbz_filtered`, `transpose=True`, and lower threshold of 2.0. We don't apply any transformations because we've already done the necessary filtering and transforms. \n",
    "\n",
    "Now we see why filling the NAs with the mean of each column is reasonable. The z-score of the mean is 0.0 and so any gene that originally had an NA value for a condition will not pass the z-score lower threshold of 2.0 and thus will not appear in the hyperedge corresponding to that condition.\n",
    "\n",
    "In the resulting hypergraph the vertices represent *conditions* and hyperedges represent *genes*. A gene (hyperedge) contains a condition (vertex) if the z-score of the log2 fold change of the gene, within the condition, is greater than or equal to 2.0 __and__ the p-value of the log2 fold change is less than or equal to 0.05. We say that the gene is \"significantly perturbed\" in the condition. "
   ]
  },
  {
   "cell_type": "code",
   "execution_count": 14,
   "metadata": {},
   "outputs": [],
   "source": [
    "# %%timeit\n",
    "# 1min 51s ± 469 ms per loop (mean ± std. dev. of 7 runs, 1 loop each)\n",
    "#H_trans = hnx.Hypergraph.from_dataframe(tdfbz_filtered, transpose=True, key = (lambda x : x >= 2.0))"
   ]
  },
  {
   "cell_type": "markdown",
   "metadata": {},
   "source": [
    "Sometimes the dual hypergraph is more useful to consider. In the dual we swap the role of vertices and edges so that the vertices represent genes and the hyperedges represent conditions. The same containment criteria applies, a gene vertex is contained in a condition hyperedge if the gene is significantly perturbed in the condition. We create `H_trans_d` by using the HyperNetX `dual` function."
   ]
  },
  {
   "cell_type": "code",
   "execution_count": 15,
   "metadata": {},
   "outputs": [],
   "source": [
    "H_trans_d = H_trans.dual()"
   ]
  },
  {
   "cell_type": "markdown",
   "metadata": {},
   "source": [
    "## Applying some simple hypergraph methods\n",
    "In order to get an understanding of the structure of these hypergraphs we apply some hypernetwork science methods available in HyperNetX. We will apply our initial analysis to the `H_trans` hypergraph and then proceed with some more analysis on both hypergraphs. \n",
    "\n",
    "### Vertex, edge count\n",
    "The `shape` property tells us how many vertices (conditions) and hyperedges (genes) are in the hypergraph. The output is of the form `(num vertices, num hyperedges)`. Notice that there are fewer conditions and fewer genes than in the original `tdfb` data frame. This is becasue some conditions have no genes with z-score $\\geq 2$ and some genes have no conditions in which they are significantly perturbed. "
   ]
  },
  {
   "cell_type": "code",
   "execution_count": 16,
   "metadata": {},
   "outputs": [
    {
     "data": {
      "text/plain": [
       "(241, 8030)"
      ]
     },
     "execution_count": 16,
     "metadata": {},
     "output_type": "execute_result"
    }
   ],
   "source": [
    "H_trans.shape ## number of genes x number of conditions"
   ]
  },
  {
   "cell_type": "markdown",
   "metadata": {},
   "source": [
    "The `info` function also gives us vertex and edge count (as rows and columns, respectively). In addition we see the aspect ratio, number of nonempty cells in the incidence matrix, and density of the incidence matrix. From the high aspect ratio we see that this is a very \"rectangular\" incidence matrix (aspect ratio of 1.0 is square), and is also quite sparse."
   ]
  },
  {
   "cell_type": "code",
   "execution_count": 17,
   "metadata": {},
   "outputs": [
    {
     "name": "stdout",
     "output_type": "stream",
     "text": [
      "Number of Rows: 241\n",
      "Number of Columns: 8030\n",
      "Aspect Ratio: 0.030012453300124534\n",
      "Number of non-empty Cells: 81147\n",
      "Density: 0.04193145000852612\n"
     ]
    }
   ],
   "source": [
    "print(hnx.info(H_trans))"
   ]
  },
  {
   "cell_type": "markdown",
   "metadata": {},
   "source": [
    "### Degree and edge size distributions\n",
    "The degree of a vertex in `H_trans` is the number of significantly perturbed genes for a given condition. Here we show the distribution of the vertex degrees. It turns out that a histogram visualization is better to see the shape of this distribution."
   ]
  },
  {
   "cell_type": "markdown",
   "metadata": {},
   "source": [
    "The size of an edge counts the number of conditions in which a gene is significantly perturbed.  Here we show the distribtion of the degrees on a log-log plot."
   ]
  },
  {
   "cell_type": "code",
   "execution_count": 18,
   "metadata": {},
   "outputs": [],
   "source": [
    "M = H_trans.incidence_matrix()\n",
    "degree_distr = np.array(M.sum(axis=1).T)[0]\n",
    "edge_size_distr = np.array(M.sum(axis=0))[0]"
   ]
  },
  {
   "cell_type": "code",
   "execution_count": 19,
   "metadata": {},
   "outputs": [
    {
     "data": {
      "text/plain": [
       "Text(0.5, 0, '#conditions')"
      ]
     },
     "execution_count": 19,
     "metadata": {},
     "output_type": "execute_result"
    },
    {
     "data": {
      "image/png": "[encoded data removed]",
      "text/plain": [
       "<Figure size 936x288 with 2 Axes>"
      ]
     },
     "metadata": {
      "needs_background": "light"
     },
     "output_type": "display_data"
    }
   ],
   "source": [
    "fig,ax = plt.subplots(1,2,figsize=(13,4))\n",
    "ax[0].hist(degree_distr, bins=17)\n",
    "ax[0].set_title('degree distribution: #genes expressed per condition')\n",
    "ax[0].set_xlabel('#genes')\n",
    "\n",
    "ax[1].hist(edge_size_distr, bins=10);\n",
    "ax[1].set_title(f'edge size distribution: #number of conditions per gene')\n",
    "ax[1].set_xlabel('#conditions')"
   ]
  },
  {
   "cell_type": "markdown",
   "metadata": {},
   "source": [
    "The shape, info, degree distribution, and edge size distribution are directly related to the same functions applied to the `H_trans_d` hypergraph. The shape will swap the vertex and edge count. The info will swap row and column counts, invert aspect ratio, and have the same nonzero cell count and density. The degree distribution of `H_trans` is the same as the edge size distribution of `H_trans_d` while the edge size distribution of `H_trans` is the same as the degree distribution of `H_trans_d`. Because of this direct relationship we will not show these properties of `H_trans_d`.\n",
    "\n",
    "Next we look at some properties that will not be directly related between `H_trans` and `H_trans_d`: pairwise intersection size distribution and s-diameters.\n",
    "\n",
    "### Edge intersection size distribution of `H_trans`\n",
    "The intersection of two hyperedges (representing genes, as in `H_trans`) identifies the conditions that both genes are significantly perturbed within. We write a function to compute the pairwise intersection size and then apply it to the `H_trans` hypergraph. Later we will apply it to `H_trans_d`."
   ]
  },
  {
   "cell_type": "code",
   "execution_count": 20,
   "metadata": {},
   "outputs": [],
   "source": [
    "# BRENDA: need your help in writing this properly\n",
    "def pairwise_intersections(H, aggregated=True):\n",
    "    E = list(H.edges())\n",
    "    inters = []\n",
    "    for e in E:\n",
    "        ve = set(e.elements)\n",
    "        for f in E:\n",
    "            if e == f:\n",
    "                continue\n",
    "            vf = set(f.elements)\n",
    "            if len(vf.intersection(ve)) > 0:\n",
    "                inters += [len(vf.intersection(ve))]\n",
    "            \n",
    "    if aggregated:\n",
    "        vals, counts = np.unique(inters, return_counts=True)\n",
    "        inters_dist = dict(zip(vals, counts))\n",
    "        return inters_dist\n",
    "    else:\n",
    "        return inters"
   ]
  },
  {
   "cell_type": "code",
   "execution_count": 24,
   "metadata": {},
   "outputs": [
    {
     "ename": "NameError",
     "evalue": "name 'H' is not defined",
     "output_type": "error",
     "traceback": [
      "\u001b[0;31m---------------------------------------------------------------------------\u001b[0m",
      "\u001b[0;31mNameError\u001b[0m                                 Traceback (most recent call last)",
      "\u001b[0;32m<ipython-input-24-97bb0f24d793>\u001b[0m in \u001b[0;36m<module>\u001b[0;34m\u001b[0m\n\u001b[0;32m----> 1\u001b[0;31m \u001b[0mm\u001b[0m \u001b[0;34m=\u001b[0m \u001b[0mH\u001b[0m\u001b[0;34m.\u001b[0m\u001b[0mincidence_matrix\u001b[0m\u001b[0;34m(\u001b[0m\u001b[0;34m)\u001b[0m\u001b[0;34m\u001b[0m\u001b[0;34m\u001b[0m\u001b[0m\n\u001b[0m\u001b[1;32m      2\u001b[0m \u001b[0ma\u001b[0m \u001b[0;34m=\u001b[0m \u001b[0mm\u001b[0m\u001b[0;34m.\u001b[0m\u001b[0mdot\u001b[0m\u001b[0;34m(\u001b[0m\u001b[0mm\u001b[0m\u001b[0;34m.\u001b[0m\u001b[0mT\u001b[0m\u001b[0;34m)\u001b[0m\u001b[0;34m\u001b[0m\u001b[0;34m\u001b[0m\u001b[0m\n",
      "\u001b[0;31mNameError\u001b[0m: name 'H' is not defined"
     ]
    }
   ],
   "source": [
    "m = H.incidence_matrix()\n",
    "a = m.dot(m.T)"
   ]
  },
  {
   "cell_type": "markdown",
   "metadata": {},
   "source": [
    "We see next that the pairwise edge intersection size distribution for `H_trans` is similar to the edge size distribution itself."
   ]
  },
  {
   "cell_type": "code",
   "execution_count": 21,
   "metadata": {},
   "outputs": [],
   "source": [
    "# inters = pairwise_intersections(H_trans, aggregated=True)\n",
    "MW = H_trans.edge_adjacency_matrix(weighted=True)\n",
    "# inters = np.array([MW[i,j] for i in range(MW.shape[0]) for j in range(i+1,MW.shape[0])])\n",
    "# inters = np.array(np.unique(inters,return_counts=True))"
   ]
  },
  {
   "cell_type": "code",
   "execution_count": 22,
   "metadata": {},
   "outputs": [],
   "source": [
    "uMW = csr_matrix(triu(MW,1)).reshape(1,8030*8030).todense()"
   ]
  },
  {
   "cell_type": "code",
   "execution_count": 23,
   "metadata": {},
   "outputs": [
    {
     "ename": "IndexError",
     "evalue": "index 1 is out of bounds for axis 0 with size 1",
     "output_type": "error",
     "traceback": [
      "\u001b[0;31m---------------------------------------------------------------------------\u001b[0m",
      "\u001b[0;31mIndexError\u001b[0m                                Traceback (most recent call last)",
      "\u001b[0;32m<ipython-input-23-13d351bfc996>\u001b[0m in \u001b[0;36m<module>\u001b[0;34m\u001b[0m\n\u001b[1;32m      5\u001b[0m \u001b[0;32mfor\u001b[0m \u001b[0mi\u001b[0m \u001b[0;32min\u001b[0m \u001b[0mrange\u001b[0m\u001b[0;34m(\u001b[0m\u001b[0mn\u001b[0m\u001b[0;34m)\u001b[0m\u001b[0;34m:\u001b[0m\u001b[0;34m\u001b[0m\u001b[0;34m\u001b[0m\u001b[0m\n\u001b[1;32m      6\u001b[0m     \u001b[0;32mfor\u001b[0m \u001b[0mj\u001b[0m \u001b[0;32min\u001b[0m \u001b[0mrange\u001b[0m\u001b[0;34m(\u001b[0m\u001b[0mi\u001b[0m\u001b[0;34m+\u001b[0m\u001b[0;36m1\u001b[0m\u001b[0;34m,\u001b[0m\u001b[0mn\u001b[0m\u001b[0;34m)\u001b[0m\u001b[0;34m:\u001b[0m\u001b[0;34m\u001b[0m\u001b[0;34m\u001b[0m\u001b[0m\n\u001b[0;32m----> 7\u001b[0;31m         \u001b[0mcoords\u001b[0m\u001b[0;34m[\u001b[0m\u001b[0mctr\u001b[0m\u001b[0;34m]\u001b[0m \u001b[0;34m=\u001b[0m \u001b[0muMW\u001b[0m\u001b[0;34m[\u001b[0m\u001b[0mi\u001b[0m\u001b[0;34m,\u001b[0m\u001b[0mj\u001b[0m\u001b[0;34m]\u001b[0m\u001b[0;34m\u001b[0m\u001b[0;34m\u001b[0m\u001b[0m\n\u001b[0m\u001b[1;32m      8\u001b[0m         \u001b[0mctr\u001b[0m \u001b[0;34m+=\u001b[0m \u001b[0;36m1\u001b[0m\u001b[0;34m\u001b[0m\u001b[0;34m\u001b[0m\u001b[0m\n\u001b[1;32m      9\u001b[0m \u001b[0;34m\u001b[0m\u001b[0m\n",
      "\u001b[0;32m//anaconda3/envs/hnx/lib/python3.8/site-packages/numpy/matrixlib/defmatrix.py\u001b[0m in \u001b[0;36m__getitem__\u001b[0;34m(self, index)\u001b[0m\n\u001b[1;32m    191\u001b[0m \u001b[0;34m\u001b[0m\u001b[0m\n\u001b[1;32m    192\u001b[0m         \u001b[0;32mtry\u001b[0m\u001b[0;34m:\u001b[0m\u001b[0;34m\u001b[0m\u001b[0;34m\u001b[0m\u001b[0m\n\u001b[0;32m--> 193\u001b[0;31m             \u001b[0mout\u001b[0m \u001b[0;34m=\u001b[0m \u001b[0mN\u001b[0m\u001b[0;34m.\u001b[0m\u001b[0mndarray\u001b[0m\u001b[0;34m.\u001b[0m\u001b[0m__getitem__\u001b[0m\u001b[0;34m(\u001b[0m\u001b[0mself\u001b[0m\u001b[0;34m,\u001b[0m \u001b[0mindex\u001b[0m\u001b[0;34m)\u001b[0m\u001b[0;34m\u001b[0m\u001b[0;34m\u001b[0m\u001b[0m\n\u001b[0m\u001b[1;32m    194\u001b[0m         \u001b[0;32mfinally\u001b[0m\u001b[0;34m:\u001b[0m\u001b[0;34m\u001b[0m\u001b[0;34m\u001b[0m\u001b[0m\n\u001b[1;32m    195\u001b[0m             \u001b[0mself\u001b[0m\u001b[0;34m.\u001b[0m\u001b[0m_getitem\u001b[0m \u001b[0;34m=\u001b[0m \u001b[0;32mFalse\u001b[0m\u001b[0;34m\u001b[0m\u001b[0;34m\u001b[0m\u001b[0m\n",
      "\u001b[0;31mIndexError\u001b[0m: index 1 is out of bounds for axis 0 with size 1"
     ]
    }
   ],
   "source": [
    "n = 8030\n",
    "m = int(np.floor((n*(n-1))/2))\n",
    "coords = np.zeros(m)\n",
    "ctr = 0\n",
    "for i in range(n):\n",
    "    for j in range(i+1,n):\n",
    "        coords[ctr] = uMW[i,j]\n",
    "        ctr += 1\n",
    "\n"
   ]
  },
  {
   "cell_type": "code",
   "execution_count": null,
   "metadata": {},
   "outputs": [],
   "source": [
    "m"
   ]
  },
  {
   "cell_type": "code",
   "execution_count": null,
   "metadata": {},
   "outputs": [],
   "source": [
    "inters = dict(inters)\n",
    "plt.scatter(inters.keys(), inters.values())\n",
    "plt.yscale('log')\n",
    "plt.xscale('log')\n",
    "plt.show()"
   ]
  },
  {
   "cell_type": "markdown",
   "metadata": {},
   "source": [
    "### Edge diameters of `H_trans`\n",
    "The s-edge diameter of a hypergraph is the length of the longest s-distance within the hypergraph. For a disconnected hypergraph the `edge_diameters` function computes the s-edge diameter for each s-component and returns (1) the maximum diameter over all components, (2) the list of all diameters, and (3) the list of edge sets for each component. We compute the s=100-edge diameters for `H_trans`."
   ]
  },
  {
   "cell_type": "code",
   "execution_count": null,
   "metadata": {},
   "outputs": [],
   "source": [
    "D, diams, comps = H_trans.edge_diameters(s=100)"
   ]
  },
  {
   "cell_type": "markdown",
   "metadata": {},
   "source": [
    "A component with only one edge has s-diameter 0 and is uninteresting, so we restrict to the non-singleton components. An element of `non_singleton_comps` is of the form (index in comps, diameter of component, number of edges in component).  "
   ]
  },
  {
   "cell_type": "code",
   "execution_count": null,
   "metadata": {},
   "outputs": [],
   "source": [
    "non_singleton_comps = [(i, diams[i], len(comps[i])) for i in range(len(comps)) if len(comps[i]) > 1]\n",
    "len(non_singleton_comps)"
   ]
  },
  {
   "cell_type": "markdown",
   "metadata": {},
   "source": [
    "Since there is only one non-singleton s=100-component we see what its edges are and visualize the hypergraph."
   ]
  },
  {
   "cell_type": "code",
   "execution_count": null,
   "metadata": {
    "scrolled": true
   },
   "outputs": [],
   "source": [
    "comps[non_singleton_comps[0][0]]"
   ]
  },
  {
   "cell_type": "code",
   "execution_count": null,
   "metadata": {},
   "outputs": [],
   "source": [
    "hnx.draw(H_trans.restrict_to_edges(comps[non_singleton_comps[0][0]]).remove_static(), with_node_labels=False, with_edge_labels=False)"
   ]
  },
  {
   "cell_type": "markdown",
   "metadata": {},
   "source": [
    "### Edge intersection size distribution of `H_trans_d`\n",
    "Now we compute the edge intersection size distribution for the `H_trans_d` hypergraph. The intersection of two condition hyperedges counts the number of genes those two edges have in common. We display the distribution on a log-log plot again but can see that it does not have the typical power law shape. The edge sizes in `H_trans_d` are much larger than those in `H_trans` (around 500 in `H_trans_d` and only 100 for `H_trans`) and with a much different distribution (see vertex degree distribution for `H_trans`), so it makes sense that the intersection size distribution would be much different. "
   ]
  },
  {
   "cell_type": "code",
   "execution_count": null,
   "metadata": {},
   "outputs": [],
   "source": [
    "inters_d = pairwise_intersections(H_trans_d, aggregated=True)"
   ]
  },
  {
   "cell_type": "code",
   "execution_count": null,
   "metadata": {},
   "outputs": [],
   "source": [
    "plt.scatter(inters_d.keys(), inters_d.values())\n",
    "plt.yscale('log')\n",
    "plt.xscale('log')\n",
    "plt.show()"
   ]
  },
  {
   "cell_type": "markdown",
   "metadata": {},
   "source": [
    "### Edge diameters of `H_trans_d`\n",
    "We again compute the s=100-edge diameters and find the non-singleton components."
   ]
  },
  {
   "cell_type": "code",
   "execution_count": null,
   "metadata": {},
   "outputs": [],
   "source": [
    "D_d, diams_d, comps_d = H_trans_d.edge_diameters(s=100)"
   ]
  },
  {
   "cell_type": "code",
   "execution_count": null,
   "metadata": {},
   "outputs": [],
   "source": [
    "non_singleton_comps_d = [(i, diams_d[i], len(comps_d[i])) for i in range(len(comps_d)) if len(comps_d[i]) > 1]\n",
    "len(non_singleton_comps_d)"
   ]
  },
  {
   "cell_type": "markdown",
   "metadata": {},
   "source": [
    "There are four non-singleton s=100-components in `H_trans_d`. Next we visualize the smaller ones (there are 3 of them)."
   ]
  },
  {
   "cell_type": "code",
   "execution_count": null,
   "metadata": {},
   "outputs": [],
   "source": [
    "fig, axs = plt.subplots(1, 3, figsize=(15, 5))\n",
    "counter = 0\n",
    "for nsc in non_singleton_comps_d:\n",
    "    if len(comps_d[nsc[0]]) < 10:\n",
    "        hnx.draw(H_trans_d.restrict_to_edges(comps_d[nsc[0]]), with_node_labels=False, with_edge_labels=True, ax=axs[counter])\n",
    "        counter += 1"
   ]
  },
  {
   "cell_type": "markdown",
   "metadata": {},
   "source": [
    "## Applying s-Centrality measures\n",
    "In some related work we computed average s-betweenness centrality and average harmonic s-closeness centrality in `H_trans` for s between 1 and 50 to discover the most central hyperedges (genes) for this set of conditions. We found that immune response genes tended towards the higher centrality values. Here we show how to compute average s-centralities in general, but to avoid the high computation time we do not do the full computation."
   ]
  },
  {
   "cell_type": "code",
   "execution_count": null,
   "metadata": {},
   "outputs": [],
   "source": [
    "def avg_s_betweenness_centrality(H, mins=1, maxs=1, normalized=True, verbose=False):\n",
    "    # First compute all s-betweenness centralities for s between mins and maxs (inclusive)\n",
    "    betc = {}\n",
    "    for s in range(mins, maxs+1, 1):\n",
    "        if verbose: # for a large range of s values, or for low s values, a status update can be helpful\n",
    "            print(s)\n",
    "        betc[s] = hnx.s_betweenness_centrality(H, s=s, normalized=normalized)\n",
    "        \n",
    "    # For each gene in the betc[mins] dictionary we compute its average centrality\n",
    "    # value across all s values. If that gene does not appear in a dictionary for \n",
    "    # a higher s value we say that it has centrality 0 for that s value.\n",
    "    gene_betc_list = {}\n",
    "    avg_betcs = {}\n",
    "    for gene in betc[mins]:\n",
    "        gene_betc_list[gene] = [betc[s][gene] if gene in betc[s] else 0 for s in betc]\n",
    "        avg_betcs[gene] = np.mean(gene_betc_list[gene])\n",
    "    \n",
    "    return betc, gene_betc_list, avg_betcs\n",
    "\n",
    "def avg_s_harmonic_closeness_centrality(H, mins=1, maxs=1, verbose=False):\n",
    "    # First compute all harmonic s-closeness centralities for s between mins and maxs (inclusive)\n",
    "    cloc = {}\n",
    "    for s in range(mins, maxs+1, 1):\n",
    "        if verbose: # for a large range of s values, or for low s values, a status update can be helpful\n",
    "            print(s)\n",
    "        cloc[s] = hnx.s_harmonic_closeness_centrality(H, s=s)\n",
    "        \n",
    "    # For each gene in the cloc[mins] dictionary we compute its average centrality\n",
    "    # value across all s values. If that gene does not appear in a dictionary for \n",
    "    # a higher s value we say that it has centrality 0 for that s value.\n",
    "    gene_cloc_list = {}\n",
    "    avg_clocs = {}\n",
    "    for gene in cloc[mins]:\n",
    "        gene_cloc_list[gene] = [cloc[s][gene] if gene in cloc[s] else 0 for s in cloc]\n",
    "        avg_clocs[gene] = np.mean(gene_cloc_list[gene])\n",
    "    \n",
    "    return cloc, gene_cloc_list, avg_clocs"
   ]
  },
  {
   "cell_type": "code",
   "execution_count": null,
   "metadata": {},
   "outputs": [],
   "source": [
    "betc, gene_betc_list, avg_betcs = avg_s_betweenness_centrality(H_trans, mins=50, maxs=52)"
   ]
  },
  {
   "cell_type": "code",
   "execution_count": null,
   "metadata": {},
   "outputs": [],
   "source": [
    "cloc, gene_cloc_list, avg_clocs = avg_s_harmonic_closeness_centrality(H_trans, mins=50, maxs=52)"
   ]
  },
  {
   "cell_type": "code",
   "execution_count": null,
   "metadata": {},
   "outputs": [],
   "source": [
    "{k: v for k, v in sorted(avg_betcs.items(), key=lambda item: item[1], reverse=True)}"
   ]
  },
  {
   "cell_type": "code",
   "execution_count": null,
   "metadata": {},
   "outputs": [],
   "source": []
  },
  {
   "cell_type": "code",
   "execution_count": null,
   "metadata": {},
   "outputs": [],
   "source": []
  },
  {
   "cell_type": "code",
   "execution_count": null,
   "metadata": {},
   "outputs": [],
   "source": [
    "import hypernetx as hnx\n",
    "system = hnx.Hypergraph()\n",
    "edge0 = hnx.Entity('edge0')\n",
    "edge1 = hnx.Entity('edge1')\n",
    "node0 = hnx.Entity('node0')\n",
    "node1 = hnx.Entity('node1')\n",
    "\n",
    "system.add_edge(edge0)\n",
    "system.add_edge(edge1)\n",
    "system.add_node_to_edge(node0,edge0)\n",
    "system.add_node_to_edge(node0,edge1)\n",
    "system.add_node_to_edge(node1,edge1)\n",
    "\n",
    "#Memberships seen from the nodes stored within _edges\n",
    "print(\"Memberships seen from the nodes stored within _edges\")\n",
    "for el in system.edges:\n",
    "    for nd in system.edges[el]:\n",
    "        print(nd,system.edges[el][nd].memberships)\n",
    "        \n",
    "#Memberships seen from the nodes stored within _nodes\n",
    "print(\"Memberships seen from the nodes stored within _nodes\")\n",
    "for el in system.nodes:\n",
    "    print(el,system.nodes[el].memberships)\n",
    "\n",
    "hnx.drawing.rubber_band.draw(system)"
   ]
  },
  {
   "cell_type": "code",
   "execution_count": null,
   "metadata": {},
   "outputs": [],
   "source": [
    "node0"
   ]
  },
  {
   "cell_type": "code",
   "execution_count": null,
   "metadata": {},
   "outputs": [],
   "source": [
    "system.edges[edge1].elements[\"node0\"].memberships"
   ]
  },
  {
   "cell_type": "code",
   "execution_count": null,
   "metadata": {},
   "outputs": [],
   "source": [
    "node0.memberships"
   ]
  },
  {
   "cell_type": "code",
   "execution_count": null,
   "metadata": {},
   "outputs": [],
   "source": [
    "node1.memberships"
   ]
  },
  {
   "cell_type": "code",
   "execution_count": null,
   "metadata": {},
   "outputs": [],
   "source": []
  }
 ],
 "metadata": {
  "kernelspec": {
   "display_name": "Python 3",
   "language": "python",
   "name": "python3"
  },
  "language_info": {
   "codemirror_mode": {
    "name": "ipython",
    "version": 3
   },
   "file_extension": ".py",
   "mimetype": "text/x-python",
   "name": "python",
   "nbconvert_exporter": "python",
   "pygments_lexer": "ipython3",
   "version": "3.8.5"
  }
 },
 "nbformat": 4,
 "nbformat_minor": 2
}
