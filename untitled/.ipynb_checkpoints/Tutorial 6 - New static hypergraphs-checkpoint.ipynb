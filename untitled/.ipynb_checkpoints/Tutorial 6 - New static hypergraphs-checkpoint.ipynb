{
 "cells": [
  {
   "cell_type": "markdown",
   "metadata": {},
   "source": [
    "<img src='harrypotter_image.png' width='200px' style=\"float:left;margin-right:10pt\"></img>\n",
    "## Illustration of NWHypergraph <-> HyperNetX exchange using PyBind and Kaggle's HarryPotter dataset.\n",
    "\n",
    "In this tutorial we introduce `hypernetx.StaticEntity` and `hypernetx.StaticEntitySet` and the new `static=True` attribute in the `hypernetx.Hypergraph` class. \n",
    "\n",
    "Harry Potter Data is available here: https://www.kaggle.com/gulsahdemiryurek/harry-potter-dataset.\n",
    "\n",
    "Python code for parsing the dataset is in `harrypotter.py` in this tutorial's directory."
   ]
  },
  {
   "cell_type": "code",
   "execution_count": 1,
   "metadata": {},
   "outputs": [],
   "source": [
    "import hypernetx as hnx\n",
    "import matplotlib.pyplot as plt\n",
    "from collections import OrderedDict, defaultdict\n",
    "import scipy\n",
    "from scipy.sparse import coo_matrix, csr_matrix, issparse\n",
    "import pandas as pd\n",
    "import numpy as np\n",
    "import itertools as it\n",
    "import sys\n",
    "# from harrypotter import HarryPotter"
   ]
  },
  {
   "cell_type": "code",
   "execution_count": null,
   "metadata": {},
   "outputs": [],
   "source": []
  },
  {
   "cell_type": "code",
   "execution_count": 2,
   "metadata": {},
   "outputs": [
    {
     "ename": "NameError",
     "evalue": "name 'HarryPotter' is not defined",
     "output_type": "error",
     "traceback": [
      "\u001b[0;31m---------------------------------------------------------------------------\u001b[0m",
      "\u001b[0;31mNameError\u001b[0m                                 Traceback (most recent call last)",
      "\u001b[0;32m<ipython-input-2-4142010b2960>\u001b[0m in \u001b[0;36m<module>\u001b[0;34m\u001b[0m\n\u001b[0;32m----> 1\u001b[0;31m \u001b[0mhogwarts\u001b[0m \u001b[0;34m=\u001b[0m \u001b[0mHarryPotter\u001b[0m\u001b[0;34m(\u001b[0m\u001b[0;34m)\u001b[0m\u001b[0;34m\u001b[0m\u001b[0;34m\u001b[0m\u001b[0m\n\u001b[0m",
      "\u001b[0;31mNameError\u001b[0m: name 'HarryPotter' is not defined"
     ]
    }
   ],
   "source": [
    "hogwarts = HarryPotter()"
   ]
  },
  {
   "cell_type": "markdown",
   "metadata": {},
   "source": [
    "### The Harry Potter Dataset:\n",
    "We have edited the dataset so that it has 5 categories and every cell is filled. Where a value is unknown, we marked it as \"Unknown *category_name*\". "
   ]
  },
  {
   "cell_type": "code",
   "execution_count": null,
   "metadata": {},
   "outputs": [],
   "source": [
    "hogwarts.dataframe"
   ]
  },
  {
   "cell_type": "markdown",
   "metadata": {},
   "source": [
    "**We define a labeling based on the categories and store it in an OrderedDict.**   \n",
    "The ordering of labels is determined by their order of appearance in the table with the exception of Unknown labels, which are always listed first."
   ]
  },
  {
   "cell_type": "code",
   "execution_count": null,
   "metadata": {
    "scrolled": true
   },
   "outputs": [],
   "source": [
    "hogwarts.labels"
   ]
  },
  {
   "cell_type": "markdown",
   "metadata": {},
   "source": [
    "**We next create a tensor with dimension equal to the number of categories and indexed by the labels.**  \n",
    "The tensor is a 0-1 boolean tensor. A 1 in entry $(x_0,x_1,x_2,x_3,x_4, x_5)$ indicates that there is a record in the data corresponding to:\n",
    "\n",
    "$\n",
    "\\text{'House':hogwarts.labels['House']}[x_0],\\text{'Blood Status':hogwarts.labels['Blood Status']}[x_1]\\text{...etc...}\n",
    "$\n",
    "\n",
    "The tensor may be stored as a list of its nonzero indices, or in a sparse format taking the transpose of that list, or as a `numpy.ndarray`."
   ]
  },
  {
   "cell_type": "code",
   "execution_count": null,
   "metadata": {},
   "outputs": [],
   "source": [
    "## List of nonzero indices\n",
    "hogwarts.data"
   ]
  },
  {
   "cell_type": "code",
   "execution_count": null,
   "metadata": {
    "scrolled": true
   },
   "outputs": [],
   "source": [
    "## sparse tensor format\n",
    "hogwarts.data.transpose()"
   ]
  },
  {
   "cell_type": "code",
   "execution_count": null,
   "metadata": {},
   "outputs": [],
   "source": [
    "## numpy.ndarray - note this will not be the way we store the data for our eventual release. \n",
    "## Rather, we will use a sparse format as in the last cell.\n",
    "hogwarts.arr"
   ]
  },
  {
   "cell_type": "code",
   "execution_count": null,
   "metadata": {},
   "outputs": [],
   "source": [
    "hogwarts.arr.shape"
   ]
  },
  {
   "cell_type": "markdown",
   "metadata": {},
   "source": [
    "### StaticEntity and StaticEntitySet\n",
    "\n",
    "The entire dataset has now been represented using an array and a dictionary associating positions in the array with values in the data.\n",
    "\n",
    "The basic object in HyperNetX, which holds an array and label dictionary, is a `StaticEntity`.\n",
    "\n",
    "Each dimension of the array, is considered a \"level\" in the StaticEntity. A level's order corresponds to its position in the datatable. In terms of the original Entity structure in HyperNetX, levels reference an order of containment. Elements of the the 2nd level belong to elements in the 1st column and so on.  The order of levels is given by the order of keys in the labels:"
   ]
  },
  {
   "cell_type": "code",
   "execution_count": null,
   "metadata": {},
   "outputs": [],
   "source": [
    "E = hnx.StaticEntity(arr = hogwarts.arr, labels = hogwarts.labels)\n",
    "E.keys"
   ]
  },
  {
   "cell_type": "markdown",
   "metadata": {},
   "source": [
    "**Using the same nomenclature as `hypernetx.Entity`, the elements of a StaticEntity refer to the first level and its children refer to the second level.**"
   ]
  },
  {
   "cell_type": "code",
   "execution_count": null,
   "metadata": {},
   "outputs": [],
   "source": [
    "E = hnx.StaticEntity(arr=hogwarts.arr, labels=hogwarts.labels)\n",
    "E.elements,E.children"
   ]
  },
  {
   "cell_type": "markdown",
   "metadata": {},
   "source": [
    "**Levels can be reordered and any pair of columns may be organized to be elements and children.**"
   ]
  },
  {
   "cell_type": "code",
   "execution_count": null,
   "metadata": {},
   "outputs": [],
   "source": [
    "E.elements_by_level(level1=2,level2=3,translate=True)"
   ]
  },
  {
   "cell_type": "code",
   "execution_count": null,
   "metadata": {},
   "outputs": [],
   "source": [
    "F = E.restrict_to_levels([2,3,1]) ## This generates a new StaticEntity\n",
    "F.labels"
   ]
  },
  {
   "cell_type": "code",
   "execution_count": null,
   "metadata": {},
   "outputs": [],
   "source": [
    "F.elements"
   ]
  },
  {
   "cell_type": "markdown",
   "metadata": {},
   "source": [
    "### A StaticEntitySet is a StaticEntity restricted to two levels. \n",
    "By default, a StaticEntity will grab the 1st two dimensions of the of the array and first two keys of the labels, but any pair of levels may be specified. "
   ]
  },
  {
   "cell_type": "code",
   "execution_count": null,
   "metadata": {},
   "outputs": [],
   "source": [
    "ES = hnx.StaticEntitySet(arr=hogwarts.arr, labels=hogwarts.labels, level1=0, level2=1)"
   ]
  },
  {
   "cell_type": "code",
   "execution_count": null,
   "metadata": {},
   "outputs": [],
   "source": [
    "ES.labels"
   ]
  },
  {
   "cell_type": "markdown",
   "metadata": {},
   "source": [
    "## Static Hypergraph\n",
    "A static hypergraph is one where all nodes and edges are known at the time of construction. This permits an internal ordering and uid structure for easy reference and faster computation of metrics.\n",
    "\n",
    "The nodes and edges of a static Hypergraph are stored using the StaticEntitySet structure. \n",
    "\n",
    "A static Hypergraph may be instantiated by adding the keyword argument `static=True`. Hypergraphs have `static=False` by default. A static Hypergraph may be created with a set system of the form:\n",
    "1. *dict* with static=True \n",
    "2. *iterable of iterables* with static=True, \n",
    "3. `hypernetx.EntitySet` with static=True\n",
    "4. `hypernetx.StaticEntity` (static is automatically set to True),\n",
    "5. `hypernetx.StaticEntitySet` (static is automatically set to True).\n"
   ]
  },
  {
   "cell_type": "code",
   "execution_count": null,
   "metadata": {
    "scrolled": true
   },
   "outputs": [],
   "source": [
    "## example, instantiate from a dictionary\n",
    "d = E.elements\n",
    "Hdict = hnx.Hypergraph(d,static=True)\n",
    "\n",
    "d,Hdict.edges.keys,Hdict.isstatic,Hdict.nodes,Hdict.edges"
   ]
  },
  {
   "cell_type": "code",
   "execution_count": null,
   "metadata": {},
   "outputs": [],
   "source": [
    "## example, instantiate from an Entity\n",
    "H = hnx.Hypergraph(E)\n",
    "\n",
    "H.edges.keys,H.isstatic,H.nodes,H.edges"
   ]
  },
  {
   "cell_type": "markdown",
   "metadata": {},
   "source": [
    "**Restrict to specific edges and nodes as before**"
   ]
  },
  {
   "cell_type": "code",
   "execution_count": null,
   "metadata": {},
   "outputs": [],
   "source": [
    "H = H.restrict_to_edges(['Gryffindor','Ravenclaw','Slytherin','Hufflepuff'])\n",
    "H.edges"
   ]
  },
  {
   "cell_type": "markdown",
   "metadata": {},
   "source": [
    "**A Hypergraph with static=True may be converted to a static=False hypergraph if dynamic properties or visualizations are needed.**  \n",
    "(Similarly any hypergraph may be converted to a static hypergraph using its incidence_dict.)"
   ]
  },
  {
   "cell_type": "code",
   "execution_count": null,
   "metadata": {
    "scrolled": true
   },
   "outputs": [],
   "source": [
    "Hd = H.remove_static()\n",
    "hnx.draw(Hd)"
   ]
  },
  {
   "cell_type": "markdown",
   "metadata": {},
   "source": [
    "## NWHypergraph (NWHy) has fast methods to apply to Hypergraphs stored as sparse arrays"
   ]
  },
  {
   "cell_type": "markdown",
   "metadata": {},
   "source": [
    "### All s-metric calculations in HNX use an s-line graph representation of the Hypergraph\n",
    "For each integer s>0, a hypergraph generates a unique s-line graph. The vertices in the line graph correspond to hypergraph edges. There exists a line graph edge between two line graph vertices if the hypergraph edges they represent intersect in at least s nodes in the hypergraph.\n",
    "\n",
    "Because this line graph representation is so important for all s-metrics, our proof of concept demonstration has NWHy calculating the s-line graphs of hypergraphs passed from their python representation.\n",
    "\n",
    "**The nwhy.convert_to_s_overlap returns the adjacency matrix and index corresponding to the s-line graph.**"
   ]
  },
  {
   "cell_type": "code",
   "execution_count": null,
   "metadata": {
    "scrolled": true
   },
   "outputs": [],
   "source": [
    "H.incidence_matrix()  ## the edge data for H is stored in the array associated with its edges, a StaticEntitySet"
   ]
  },
  {
   "cell_type": "code",
   "execution_count": null,
   "metadata": {},
   "outputs": [],
   "source": [
    "H.edges.elements"
   ]
  },
  {
   "cell_type": "markdown",
   "metadata": {},
   "source": [
    "**HNX exchanges matrices with NWHypergraph using the sparse format of three arrays: row_indices, column_indices, data**"
   ]
  },
  {
   "cell_type": "code",
   "execution_count": null,
   "metadata": {},
   "outputs": [],
   "source": [
    "hpcoo = coo_matrix(H.incidence_matrix().transpose())\n",
    "hpcoo.row,hpcoo.col,hpcoo.data"
   ]
  },
  {
   "cell_type": "code",
   "execution_count": null,
   "metadata": {},
   "outputs": [],
   "source": [
    "mat = H.incidence_matrix(index=True)\n",
    "mat[0].transpose().todense(),mat[1],mat[2]"
   ]
  },
  {
   "cell_type": "code",
   "execution_count": null,
   "metadata": {},
   "outputs": [],
   "source": [
    "H.edge_adjacency_matrix(s=2).todense()"
   ]
  },
  {
   "cell_type": "markdown",
   "metadata": {},
   "source": [
    "**We retrieve the s line graph for multiple values of s and return the s-metrics**\n",
    "\n",
    "The newrow,newcol,newdata are indices generated by NWHy to reference the edges in H.   \n",
    "These provide coordinate for the upper triangular portion of the s-adjacency matrix.  \n",
    "\n",
    "The oldrow,oldcol,olddata return a mapping of these indices to the same ones used by HNX."
   ]
  },
  {
   "cell_type": "raw",
   "metadata": {},
   "source": [
    "## Call nwhy to retrieve the s-adjacent pairs of edges:\n",
    "newrow, newcol, newdata, oldrow, oldcol, olddata = nwhy.convert_to_s_overlap(hpcoo.row, hpcoo.col, hpcoo.data, s = 2)\n",
    "\n",
    "## Turn this information into an s-adjacency matrix\n",
    "xcoords = np.concatenate([oldrow,oldcol])\n",
    "ycoords = np.concatenate([oldcol,oldrow])\n",
    "nwhy_matrix = csr_matrix((np.ones(len(xcoords),dtype=int),(xcoords,ycoords))).todense()\n",
    "\n",
    "## Verify this matches the HNX generated s-edge adjacency matrix\n",
    "hnx_matrix = H.edge_adjacency_matrix(s=2,weighted=False).todense()\n",
    "\n",
    "print(nwhy_matrix);print(hnx_matrix)"
   ]
  },
  {
   "cell_type": "raw",
   "metadata": {},
   "source": [
    "[[0 1 1 1]\n",
    " [1 0 1 1]\n",
    " [1 1 0 1]\n",
    " [1 1 1 0]]\n",
    "[[0 1 1 1]\n",
    " [1 0 1 1]\n",
    " [1 1 0 1]\n",
    " [1 1 1 0]]"
   ]
  },
  {
   "cell_type": "raw",
   "metadata": {},
   "source": [
    "## repeat for multiple values of s:\n",
    "def comparison(s):\n",
    "    newrow, newcol, newdata, oldrow, oldcol, olddata = nwhy.convert_to_s_overlap(hpcoo.row, hpcoo.col, hpcoo.data, s = s)\n",
    "\n",
    "    ## Turn this information into an s-adjacency matrix\n",
    "    xcoords = np.concatenate([oldrow,oldcol])\n",
    "    ycoords = np.concatenate([oldcol,oldrow])\n",
    "    nwhy_matrix = csr_matrix((np.ones(len(xcoords),dtype=int),(xcoords,ycoords))).todense()\n",
    "\n",
    "    ## Verify this matches the HNX generated s-edge adjacency matrix\n",
    "    hnx_matrix = H.edge_adjacency_matrix(s=s,weighted=False).todense()\n",
    "\n",
    "    print(nwhy_matrix);print(hnx_matrix)\n",
    "\n",
    "for s in range(3,6):\n",
    "    comparison(s)\n",
    "    print()"
   ]
  },
  {
   "cell_type": "raw",
   "metadata": {},
   "source": [
    "[[0 1 1 1]\n",
    " [1 0 0 1]\n",
    " [1 0 0 1]\n",
    " [1 1 1 0]]\n",
    "[[0 1 1 1]\n",
    " [1 0 0 1]\n",
    " [1 0 0 1]\n",
    " [1 1 1 0]]\n",
    "\n",
    "[[0 1 0 1]\n",
    " [1 0 0 1]\n",
    " [0 0 0 0]\n",
    " [1 1 0 0]]\n",
    "[[0 1 0 1]\n",
    " [1 0 0 1]\n",
    " [0 0 0 0]\n",
    " [1 1 0 0]]\n",
    "\n",
    "[[0 0 0 1]\n",
    " [0 0 0 0]\n",
    " [0 0 0 0]\n",
    " [1 0 0 0]]\n",
    "[[0 0 0 1]\n",
    " [0 0 0 0]\n",
    " [0 0 0 0]\n",
    " [1 0 0 0]]\n",
    " "
   ]
  },
  {
   "cell_type": "markdown",
   "metadata": {},
   "source": [
    "## Looking ahead:\n",
    "\n",
    "Once NWHy has stored the s-graph adjacency matrix, all of the s-metrics we currently compute using Python libraries, may now be computed using the NWGraph and NWHypergraph libraries. This will permit us to continue using the HNX Python interface but optimized for large datasets."
   ]
  }
 ],
 "metadata": {
  "kernelspec": {
   "display_name": "Python 3",
   "language": "python",
   "name": "python3"
  },
  "language_info": {
   "codemirror_mode": {
    "name": "ipython",
    "version": 3
   },
   "file_extension": ".py",
   "mimetype": "text/x-python",
   "name": "python",
   "nbconvert_exporter": "python",
   "pygments_lexer": "ipython3",
   "version": "3.8.5"
  }
 },
 "nbformat": 4,
 "nbformat_minor": 2
}
