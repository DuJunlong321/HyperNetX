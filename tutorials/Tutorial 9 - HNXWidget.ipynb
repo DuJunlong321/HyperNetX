{
 "cells": [
  {
   "cell_type": "markdown",
   "metadata": {},
   "source": [
    "<img src='images/Ebcosette.jpg' width='75px' style=\"float:left;margin-right:10pt\"></img>\n",
    "## LesMis on HNX Widgets\n",
    "\n",
    "We illustrate the \n",
    "<a href=\"https://github.com/pnnl/hypernetx-widget\" target=\"_blank\">Hypernetx-Widget</a>\n",
    "add on for HNX using the LesMis dataset from Tutorials 3 and 4."
   ]
  },
  {
   "cell_type": "code",
   "execution_count": 19,
   "metadata": {},
   "outputs": [
    {
     "data": {
      "text/html": [
       "<div>\n",
       "<style scoped>\n",
       "    .dataframe tbody tr th:only-of-type {\n",
       "        vertical-align: middle;\n",
       "    }\n",
       "\n",
       "    .dataframe tbody tr th {\n",
       "        vertical-align: top;\n",
       "    }\n",
       "\n",
       "    .dataframe thead th {\n",
       "        text-align: right;\n",
       "    }\n",
       "</style>\n",
       "<table border=\"1\" class=\"dataframe\">\n",
       "  <thead>\n",
       "    <tr style=\"text-align: right;\">\n",
       "      <th></th>\n",
       "      <th>FullName</th>\n",
       "      <th>Description</th>\n",
       "    </tr>\n",
       "    <tr>\n",
       "      <th>Symbol</th>\n",
       "      <th></th>\n",
       "      <th></th>\n",
       "    </tr>\n",
       "  </thead>\n",
       "  <tbody>\n",
       "    <tr>\n",
       "      <th>AZ</th>\n",
       "      <td>Anzelma</td>\n",
       "      <td>daughter of TH and TM</td>\n",
       "    </tr>\n",
       "    <tr>\n",
       "      <th>BA</th>\n",
       "      <td>Bahorel</td>\n",
       "      <td>`Friends of the ABC' cutup</td>\n",
       "    </tr>\n",
       "    <tr>\n",
       "      <th>BB</th>\n",
       "      <td>Babet</td>\n",
       "      <td>tooth-pulling bandit of Paris</td>\n",
       "    </tr>\n",
       "    <tr>\n",
       "      <th>BJ</th>\n",
       "      <td>Brujon</td>\n",
       "      <td>notorious criminal</td>\n",
       "    </tr>\n",
       "    <tr>\n",
       "      <th>BL</th>\n",
       "      <td>Blacheville</td>\n",
       "      <td>Parisian student from Montauban</td>\n",
       "    </tr>\n",
       "    <tr>\n",
       "      <th>...</th>\n",
       "      <td>...</td>\n",
       "      <td>...</td>\n",
       "    </tr>\n",
       "    <tr>\n",
       "      <th>TS</th>\n",
       "      <td>Toussaint</td>\n",
       "      <td>servant of JV at Rue Plumet</td>\n",
       "    </tr>\n",
       "    <tr>\n",
       "      <th>VI</th>\n",
       "      <td>Madame Victurnien</td>\n",
       "      <td>snoop in M-- sur M--</td>\n",
       "    </tr>\n",
       "    <tr>\n",
       "      <th>XA</th>\n",
       "      <td>Child 1</td>\n",
       "      <td>son of TH sold to MN</td>\n",
       "    </tr>\n",
       "    <tr>\n",
       "      <th>XB</th>\n",
       "      <td>Child 2</td>\n",
       "      <td>son of TH sold to MN</td>\n",
       "    </tr>\n",
       "    <tr>\n",
       "      <th>ZE</th>\n",
       "      <td>Zephine</td>\n",
       "      <td>lover of FA</td>\n",
       "    </tr>\n",
       "  </tbody>\n",
       "</table>\n",
       "<p>80 rows × 2 columns</p>\n",
       "</div>"
      ],
      "text/plain": [
       "                 FullName                       Description\n",
       "Symbol                                                     \n",
       "AZ                Anzelma             daughter of TH and TM\n",
       "BA                Bahorel        `Friends of the ABC' cutup\n",
       "BB                  Babet     tooth-pulling bandit of Paris\n",
       "BJ                 Brujon                notorious criminal\n",
       "BL            Blacheville   Parisian student from Montauban\n",
       "...                   ...                               ...\n",
       "TS              Toussaint       servant of JV at Rue Plumet\n",
       "VI      Madame Victurnien              snoop in M-- sur M--\n",
       "XA                Child 1              son of TH sold to MN\n",
       "XB                Child 2              son of TH sold to MN\n",
       "ZE                Zephine                       lover of FA\n",
       "\n",
       "[80 rows x 2 columns]"
      ]
     },
     "execution_count": 19,
     "metadata": {},
     "output_type": "execute_result"
    }
   ],
   "source": [
    "import numpy as np\n",
    "import pandas as pd\n",
    "import json\n",
    "import hypernetx as hnx\n",
    "from hypernetx.utils.toys.lesmis import LesMis\n",
    "from hnxwidget import HypernetxWidget\n",
    "\n",
    "scenes = {\n",
    "    0: ('FN', 'TH'),\n",
    "    1: ('TH', 'JV'),\n",
    "    2: ('BM', 'FN', 'JA'),\n",
    "    3: ('JV', 'JU', 'CH', 'BM'),\n",
    "    4: ('JU', 'CH', 'BR', 'CN', 'CC', 'JV', 'BM'),\n",
    "    5: ('TH', 'GP'),\n",
    "    6: ('GP', 'MP'),\n",
    "    7: ('MA', 'GP'),\n",
    "}\n",
    "H = hnx.Hypergraph(scenes)\n",
    "dnames = LesMis().dnames\n",
    "dnames"
   ]
  },
  {
   "cell_type": "markdown",
   "metadata": {},
   "source": [
    "### The default behavior is given below. The help button (?) has instructions on how to use the menus."
   ]
  },
  {
   "cell_type": "code",
   "execution_count": 20,
   "metadata": {},
   "outputs": [
    {
     "data": {
      "application/vnd.jupyter.widget-view+json": {
       "model_id": "c225bb42e1fd4860877aa6dfc9cbc674",
       "version_major": 2,
       "version_minor": 0
      },
      "text/plain": [
       "HypernetxWidget(component='HypernetxWidget', props={'nodes': [{'uid': 'BR'}, {'uid': 'CN'}, {'uid': 'GP'}, {'u…"
      ]
     },
     "metadata": {},
     "output_type": "display_data"
    }
   ],
   "source": [
    "example1 = HypernetxWidget(H)\n",
    "example1"
   ]
  },
  {
   "cell_type": "markdown",
   "metadata": {},
   "source": [
    "### Examine the properties you've set in the hypergraph above once you have it the way you want:"
   ]
  },
  {
   "cell_type": "code",
   "execution_count": 43,
   "metadata": {},
   "outputs": [
    {
     "data": {
      "text/plain": [
       "{'_dom_classes': (),\n",
       " '_model_module': 'hnx-widget',\n",
       " '_model_module_version': '^0.1.0',\n",
       " '_model_name': 'ReactModel',\n",
       " '_view_count': None,\n",
       " '_view_module': 'hnx-widget',\n",
       " '_view_module_version': '^0.1.0',\n",
       " '_view_name': 'ReactView',\n",
       " 'component': 'HypernetxWidget',\n",
       " 'edge_stroke': {'0': '#1f77b4ff',\n",
       "  '1': '#ff7f0eff',\n",
       "  '2': '#2ca02cff',\n",
       "  '3': '#d62728ff',\n",
       "  '4': '#9467bdff',\n",
       "  '5': '#8c564bff',\n",
       "  '6': '#e377c2ff',\n",
       "  '7': '#7f7f7fff'},\n",
       " 'hidden_edges': {},\n",
       " 'hidden_nodes': {},\n",
       " 'layout': 'IPY_MODEL_874120f640a244b28ce61cc5ad6bcc1c',\n",
       " 'node_fill': {'BR': '#66c2a5',\n",
       "  'CN': '#fc8d62',\n",
       "  'GP': '#8da0cb',\n",
       "  'MA': '#e78ac3',\n",
       "  'MP': '#a6d854',\n",
       "  'CC': '#ffd92f',\n",
       "  'CH': '#e5c494',\n",
       "  'JV': '#b3b3b3',\n",
       "  'BM': '#66c2a5',\n",
       "  'JA': '#fc8d62',\n",
       "  'JU': '#8da0cb',\n",
       "  'TH': '#e78ac3',\n",
       "  'FN': '#a6d854'},\n",
       " 'pos': {'BR': [137.42610392436842, 294.37156022356135],\n",
       "  'CN': [154.15864175917662, 358.7209616708064],\n",
       "  'GP': [420.418869079188, 399.7615066811557],\n",
       "  'MA': [556.2593309521582, 245.45285950054006],\n",
       "  'MP': [174.98741879957765, 466.04090377653824],\n",
       "  'CC': [189.09628065810398, 252.52543275197797],\n",
       "  'CH': [219.745237531679, 369.4668590776976],\n",
       "  'JV': [286.22539508488137, 369.90560026942666],\n",
       "  'BM': [270.4629788562747, 230.4505904896538],\n",
       "  'JA': [354.06473855349776, 75.01670033812022],\n",
       "  'JU': [231.21797621406057, 303.9689110146969],\n",
       "  'TH': [448.7251218022936, 262.542526110859],\n",
       "  'FN': [418.3141673651919, 109.06978815407876]},\n",
       " 'props': {'nodes': [{'uid': 'BR'},\n",
       "   {'uid': 'CN'},\n",
       "   {'uid': 'GP'},\n",
       "   {'uid': 'MA'},\n",
       "   {'uid': 'MP'},\n",
       "   {'uid': 'CC'},\n",
       "   {'uid': 'CH'},\n",
       "   {'uid': 'JV'},\n",
       "   {'uid': 'BM'},\n",
       "   {'uid': 'JA'},\n",
       "   {'uid': 'JU'},\n",
       "   {'uid': 'TH'},\n",
       "   {'uid': 'FN'}],\n",
       "  'edges': [{'uid': '0', 'elements': ['TH', 'FN']},\n",
       "   {'uid': '1', 'elements': ['TH', 'JV']},\n",
       "   {'uid': '2', 'elements': ['JA', 'FN', 'BM']},\n",
       "   {'uid': '3', 'elements': ['CH', 'JU', 'JV', 'BM']},\n",
       "   {'uid': '4', 'elements': ['CC', 'CH', 'JV', 'BR', 'BM', 'JU', 'CN']},\n",
       "   {'uid': '5', 'elements': ['TH', 'GP']},\n",
       "   {'uid': '6', 'elements': ['MP', 'GP']},\n",
       "   {'uid': '7', 'elements': ['MA', 'GP']}],\n",
       "  'edgeStroke': {'0': '#1f77b4ff',\n",
       "   '1': '#ff7f0eff',\n",
       "   '2': '#2ca02cff',\n",
       "   '3': '#d62728ff',\n",
       "   '4': '#9467bdff',\n",
       "   '5': '#8c564bff',\n",
       "   '6': '#e377c2ff',\n",
       "   '7': '#7f7f7fff'},\n",
       "  'edgeStrokeWidth': {'0': 2,\n",
       "   '1': 2,\n",
       "   '2': 2,\n",
       "   '3': 2,\n",
       "   '4': 2,\n",
       "   '5': 2,\n",
       "   '6': 2,\n",
       "   '7': 2},\n",
       "  'edgeLabelColor': {'0': '#1f77b4ff',\n",
       "   '1': '#ff7f0eff',\n",
       "   '2': '#2ca02cff',\n",
       "   '3': '#d62728ff',\n",
       "   '4': '#9467bdff',\n",
       "   '5': '#8c564bff',\n",
       "   '6': '#e377c2ff',\n",
       "   '7': '#7f7f7fff'},\n",
       "  '_model': 'IPY_MODEL_c225bb42e1fd4860877aa6dfc9cbc674'},\n",
       " 'removed_edges': {},\n",
       " 'removed_nodes': {},\n",
       " 'selected_edges': {},\n",
       " 'selected_nodes': {}}"
      ]
     },
     "execution_count": 43,
     "metadata": {},
     "output_type": "execute_result"
    }
   ],
   "source": [
    "example1.get_state()"
   ]
  },
  {
   "cell_type": "markdown",
   "metadata": {},
   "source": [
    "### You can reuse those properties in a new graph"
   ]
  },
  {
   "cell_type": "code",
   "execution_count": 44,
   "metadata": {},
   "outputs": [
    {
     "data": {
      "application/vnd.jupyter.widget-view+json": {
       "model_id": "2d3b81af8f5d4a3ebf707b0042bab613",
       "version_major": 2,
       "version_minor": 0
      },
      "text/plain": [
       "HypernetxWidget(component='HypernetxWidget', props={'nodes': [{'uid': 'BR'}, {'uid': 'CN'}, {'uid': 'GP'}, {'u…"
      ]
     },
     "metadata": {},
     "output_type": "display_data"
    }
   ],
   "source": [
    "colormap = {k:'b' if k in ['GP','TH'] else 'r' for k in H.nodes}\n",
    "example2 = HypernetxWidget(\n",
    "    H,\n",
    "    nodes_kwargs={'color': example1.node_fill},\n",
    "    pos=example1.pos\n",
    ")\n",
    "\n",
    "example2"
   ]
  },
  {
   "cell_type": "markdown",
   "metadata": {},
   "source": [
    "### We can also adjuc"
   ]
  },
  {
   "cell_type": "code",
   "execution_count": 22,
   "metadata": {
    "scrolled": false
   },
   "outputs": [
    {
     "data": {
      "application/vnd.jupyter.widget-view+json": {
       "model_id": "291964c5542c413086d20245fd1f14b0",
       "version_major": 2,
       "version_minor": 0
      },
      "text/plain": [
       "HypernetxWidget(component='HypernetxWidget', props={'nodes': [{'uid': 'BR'}, {'uid': 'CN'}, {'uid': 'GP'}, {'u…"
      ]
     },
     "metadata": {},
     "output_type": "display_data"
    }
   ],
   "source": [
    "example3 = HypernetxWidget(\n",
    "    H,\n",
    "    collapse_nodes=True,\n",
    "    node_data=dnames,\n",
    "    node_labels={'JV': 'Valjean'},\n",
    "    edge_labels={0: 'scene 0'},  \n",
    ")\n",
    "\n",
    "example3"
   ]
  }
 ],
 "metadata": {
  "kernelspec": {
   "display_name": "Python 3",
   "language": "python",
   "name": "python3"
  },
  "language_info": {
   "codemirror_mode": {
    "name": "ipython",
    "version": 3
   },
   "file_extension": ".py",
   "mimetype": "text/x-python",
   "name": "python",
   "nbconvert_exporter": "python",
   "pygments_lexer": "ipython3",
   "version": "3.7.10"
  }
 },
 "nbformat": 4,
 "nbformat_minor": 2
}
