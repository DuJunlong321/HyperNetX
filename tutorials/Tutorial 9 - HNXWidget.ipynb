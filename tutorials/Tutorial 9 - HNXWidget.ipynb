{
 "cells": [
  {
   "cell_type": "markdown",
   "metadata": {},
   "source": [
    "<img src='images/Ebcosette.jpg' width='100px' style=\"float:left;margin-right:10pt\"></img>\n",
    "# LesMis on HNX Widgets\n",
    "\n",
    "We illustrate the \n",
    "<a href=\"https://github.com/pnnl/hypernetx-widget\" target=\"_blank\">Hypernetx-Widget</a>\n",
    "addon for HNX using the LesMis dataset from Tutorials 3 and 4.\n",
    "\n",
    "**Note that this tool is still in development so not all features are connected. Have fun exploring.**"
   ]
  },
  {
   "cell_type": "code",
   "execution_count": null,
   "metadata": {},
   "outputs": [],
   "source": [
    "import numpy as np\n",
    "import pandas as pd\n",
    "import json\n",
    "import hypernetx as hnx\n",
    "from hypernetx.utils.toys.lesmis import LesMis\n",
    "from hnxwidget import HypernetxWidget\n",
    "\n",
    "scenes = {\n",
    "    0: ('FN', 'TH'),\n",
    "    1: ('TH', 'JV'),\n",
    "    2: ('BM', 'FN', 'JA'),\n",
    "    3: ('JV', 'JU', 'CH', 'BM'),\n",
    "    4: ('JU', 'CH', 'BR', 'CN', 'CC', 'JV', 'BM'),\n",
    "    5: ('TH', 'GP'),\n",
    "    6: ('GP', 'MP'),\n",
    "    7: ('MA', 'GP'),\n",
    "}\n",
    "H = hnx.Hypergraph(scenes)\n",
    "dnames = LesMis().dnames\n",
    "dnames"
   ]
  },
  {
   "cell_type": "markdown",
   "metadata": {},
   "source": [
    "## I. LesMis Hypergraph in the Hypernetx-Widget - Default Behavior\n",
    "The widget allows you to interactively move, color, select, and hide objects in the hypergraph. Click on the question mark in the Navigation menu for a description of interactive features."
   ]
  },
  {
   "cell_type": "code",
   "execution_count": null,
   "metadata": {},
   "outputs": [],
   "source": [
    "## Default behavior\n",
    "example1 = HypernetxWidget(H)\n",
    "example1"
   ]
  },
  {
   "cell_type": "markdown",
   "metadata": {},
   "source": [
    "## II. Preset attributes \n",
    "Some of the visualization attributes of the hypergraph may be set using similar parameters as the hnx.draw function"
   ]
  },
  {
   "cell_type": "code",
   "execution_count": null,
   "metadata": {},
   "outputs": [],
   "source": [
    "node_colors = {k:'r' if k in ['JV','TH','FN'] else 'b' for k in H.nodes}\n",
    "example2 = HypernetxWidget(\n",
    "    H,\n",
    "    nodes_kwargs={'color':node_colors},\n",
    "    edges_kwargs={'edgecolors':'g'}\n",
    ")\n",
    "example2"
   ]
  },
  {
   "cell_type": "markdown",
   "metadata": {},
   "source": [
    "## III. Attributes of visualization:\n",
    "The `get_state()` method returns the attributes available from a widget for reuse."
   ]
  },
  {
   "cell_type": "code",
   "execution_count": null,
   "metadata": {
    "scrolled": true
   },
   "outputs": [],
   "source": [
    "example2.get_state()"
   ]
  },
  {
   "cell_type": "markdown",
   "metadata": {},
   "source": [
    "## IV. Reuse attributes\n",
    "Once an attribute of a widget visualization has been set it may be reused in another visualization"
   ]
  },
  {
   "cell_type": "code",
   "execution_count": null,
   "metadata": {},
   "outputs": [],
   "source": [
    "example3 = HypernetxWidget(\n",
    "    H,\n",
    "    nodes_kwargs={'color': example2.node_fill}\n",
    ")\n",
    "\n",
    "example3"
   ]
  },
  {
   "cell_type": "markdown",
   "metadata": {},
   "source": [
    "## V. Setting Labels and Callouts\n",
    "We can also adjust specific labels and add call outs as node or edge data."
   ]
  },
  {
   "cell_type": "code",
   "execution_count": null,
   "metadata": {
    "scrolled": false
   },
   "outputs": [],
   "source": [
    "example4 = HypernetxWidget(\n",
    "    H,\n",
    "    collapse_nodes=True,\n",
    "    node_data=dnames,\n",
    "    node_labels={'JV': 'Valjean'},\n",
    "    edge_labels={0: 'scene 0'},\n",
    "    nodes_kwargs={'color':'pink'},\n",
    ")\n",
    "\n",
    "example4"
   ]
  }
 ],
 "metadata": {
  "kernelspec": {
   "display_name": "Python 3 (ipykernel)",
   "language": "python",
   "name": "python3"
  },
  "language_info": {
   "codemirror_mode": {
    "name": "ipython",
    "version": 3
   },
   "file_extension": ".py",
   "mimetype": "text/x-python",
   "name": "python",
   "nbconvert_exporter": "python",
   "pygments_lexer": "ipython3",
   "version": "3.7.10"
  }
 },
 "nbformat": 4,
 "nbformat_minor": 2
}
