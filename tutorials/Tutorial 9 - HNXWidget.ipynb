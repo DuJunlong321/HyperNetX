{
 "cells": [
  {
   "cell_type": "markdown",
   "metadata": {},
   "source": [
    "<img src='images/Ebcosette.jpg' width='100px' style=\"float:left;margin-right:10pt\"></img>\n",
    "# LesMis on HNX Widgets\n",
    "\n",
    "We illustrate the \n",
    "<a href=\"https://github.com/pnnl/hypernetx-widget\" target=\"_blank\">Hypernetx-Widget</a>\n",
    "addon for HNX using the LesMis dataset from Tutorials 3 and 4.\n",
    "\n",
    "**Note that this tool is still in development so not all features are connected. Have fun exploring.**"
   ]
  },
  {
   "cell_type": "code",
   "execution_count": 1,
   "metadata": {},
   "outputs": [
    {
     "data": {
      "text/html": [
       "<div>\n",
       "<style scoped>\n",
       "    .dataframe tbody tr th:only-of-type {\n",
       "        vertical-align: middle;\n",
       "    }\n",
       "\n",
       "    .dataframe tbody tr th {\n",
       "        vertical-align: top;\n",
       "    }\n",
       "\n",
       "    .dataframe thead th {\n",
       "        text-align: right;\n",
       "    }\n",
       "</style>\n",
       "<table border=\"1\" class=\"dataframe\">\n",
       "  <thead>\n",
       "    <tr style=\"text-align: right;\">\n",
       "      <th></th>\n",
       "      <th>FullName</th>\n",
       "      <th>Description</th>\n",
       "    </tr>\n",
       "    <tr>\n",
       "      <th>Symbol</th>\n",
       "      <th></th>\n",
       "      <th></th>\n",
       "    </tr>\n",
       "  </thead>\n",
       "  <tbody>\n",
       "    <tr>\n",
       "      <th>AZ</th>\n",
       "      <td>Anzelma</td>\n",
       "      <td>daughter of TH and TM</td>\n",
       "    </tr>\n",
       "    <tr>\n",
       "      <th>BA</th>\n",
       "      <td>Bahorel</td>\n",
       "      <td>`Friends of the ABC' cutup</td>\n",
       "    </tr>\n",
       "    <tr>\n",
       "      <th>BB</th>\n",
       "      <td>Babet</td>\n",
       "      <td>tooth-pulling bandit of Paris</td>\n",
       "    </tr>\n",
       "    <tr>\n",
       "      <th>BJ</th>\n",
       "      <td>Brujon</td>\n",
       "      <td>notorious criminal</td>\n",
       "    </tr>\n",
       "    <tr>\n",
       "      <th>BL</th>\n",
       "      <td>Blacheville</td>\n",
       "      <td>Parisian student from Montauban</td>\n",
       "    </tr>\n",
       "    <tr>\n",
       "      <th>...</th>\n",
       "      <td>...</td>\n",
       "      <td>...</td>\n",
       "    </tr>\n",
       "    <tr>\n",
       "      <th>TS</th>\n",
       "      <td>Toussaint</td>\n",
       "      <td>servant of JV at Rue Plumet</td>\n",
       "    </tr>\n",
       "    <tr>\n",
       "      <th>VI</th>\n",
       "      <td>Madame Victurnien</td>\n",
       "      <td>snoop in M-- sur M--</td>\n",
       "    </tr>\n",
       "    <tr>\n",
       "      <th>XA</th>\n",
       "      <td>Child 1</td>\n",
       "      <td>son of TH sold to MN</td>\n",
       "    </tr>\n",
       "    <tr>\n",
       "      <th>XB</th>\n",
       "      <td>Child 2</td>\n",
       "      <td>son of TH sold to MN</td>\n",
       "    </tr>\n",
       "    <tr>\n",
       "      <th>ZE</th>\n",
       "      <td>Zephine</td>\n",
       "      <td>lover of FA</td>\n",
       "    </tr>\n",
       "  </tbody>\n",
       "</table>\n",
       "<p>80 rows × 2 columns</p>\n",
       "</div>"
      ],
      "text/plain": [
       "                 FullName                       Description\n",
       "Symbol                                                     \n",
       "AZ                Anzelma             daughter of TH and TM\n",
       "BA                Bahorel        `Friends of the ABC' cutup\n",
       "BB                  Babet     tooth-pulling bandit of Paris\n",
       "BJ                 Brujon                notorious criminal\n",
       "BL            Blacheville   Parisian student from Montauban\n",
       "...                   ...                               ...\n",
       "TS              Toussaint       servant of JV at Rue Plumet\n",
       "VI      Madame Victurnien              snoop in M-- sur M--\n",
       "XA                Child 1              son of TH sold to MN\n",
       "XB                Child 2              son of TH sold to MN\n",
       "ZE                Zephine                       lover of FA\n",
       "\n",
       "[80 rows x 2 columns]"
      ]
     },
     "execution_count": 1,
     "metadata": {},
     "output_type": "execute_result"
    }
   ],
   "source": [
    "import numpy as np\n",
    "import pandas as pd\n",
    "import json\n",
    "import hypernetx as hnx\n",
    "from hypernetx.utils.toys.lesmis import LesMis\n",
    "from hnxwidget import HypernetxWidget\n",
    "\n",
    "scenes = {\n",
    "    0: ('FN', 'TH'),\n",
    "    1: ('TH', 'JV'),\n",
    "    2: ('BM', 'FN', 'JA'),\n",
    "    3: ('JV', 'JU', 'CH', 'BM'),\n",
    "    4: ('JU', 'CH', 'BR', 'CN', 'CC', 'JV', 'BM'),\n",
    "    5: ('TH', 'GP'),\n",
    "    6: ('GP', 'MP'),\n",
    "    7: ('MA', 'GP'),\n",
    "}\n",
    "H = hnx.Hypergraph(scenes)\n",
    "dnames = LesMis().dnames\n",
    "dnames"
   ]
  },
  {
   "cell_type": "markdown",
   "metadata": {},
   "source": [
    "## I. LesMis Hypergraph in the Hypernetx-Widget - Default Behavior\n",
    "The widget allows you to interactively move, color, select, and hide objects in the hypergraph. Click on the question mark in the Navigation menu for a description of interactive features."
   ]
  },
  {
   "cell_type": "code",
   "execution_count": 2,
   "metadata": {},
   "outputs": [
    {
     "data": {
      "application/vnd.jupyter.widget-view+json": {
       "model_id": "62675a24a2c747ce8316e3b15450cddc",
       "version_major": 2,
       "version_minor": 0
      },
      "text/plain": [
       "HypernetxWidget(component='HypernetxWidget', props={'nodes': [{'uid': 'MA'}, {'uid': 'JA'}, {'uid': 'CC'}, {'u…"
      ]
     },
     "metadata": {},
     "output_type": "display_data"
    }
   ],
   "source": [
    "## Default behavior\n",
    "example1 = HypernetxWidget(H)\n",
    "example1"
   ]
  },
  {
   "cell_type": "markdown",
   "metadata": {},
   "source": [
    "## II. Preset attributes \n",
    "Some of the visualization attributes of the hypergraph may be set using similar parameters as the hnx.draw function"
   ]
  },
  {
   "cell_type": "code",
   "execution_count": 3,
   "metadata": {},
   "outputs": [
    {
     "data": {
      "application/vnd.jupyter.widget-view+json": {
       "model_id": "ced942ebe98c4bc8a77e52361a454424",
       "version_major": 2,
       "version_minor": 0
      },
      "text/plain": [
       "HypernetxWidget(component='HypernetxWidget', props={'nodes': [{'uid': 'MA'}, {'uid': 'JA'}, {'uid': 'CC'}, {'u…"
      ]
     },
     "metadata": {},
     "output_type": "display_data"
    }
   ],
   "source": [
    "node_colors = {k:'r' if k in ['JV','TH','FN'] else 'b' for k in H.nodes}\n",
    "example2 = HypernetxWidget(\n",
    "    H,\n",
    "    nodes_kwargs={'color':node_colors},\n",
    "    edges_kwargs={'edgecolors':'g'}\n",
    ")\n",
    "example2"
   ]
  },
  {
   "cell_type": "markdown",
   "metadata": {},
   "source": [
    "## III. Attributes of visualization:\n",
    "The `get_state()` method returns the attributes available from a widget for reuse."
   ]
  },
  {
   "cell_type": "code",
   "execution_count": 4,
   "metadata": {
    "scrolled": true
   },
   "outputs": [
    {
     "data": {
      "text/plain": [
       "{'_dom_classes': (),\n",
       " '_model_module': 'hnx-widget',\n",
       " '_model_module_version': '^0.1.0',\n",
       " '_model_name': 'ReactModel',\n",
       " '_view_count': None,\n",
       " '_view_module': 'hnx-widget',\n",
       " '_view_module_version': '^0.1.0',\n",
       " '_view_name': 'ReactView',\n",
       " 'component': 'HypernetxWidget',\n",
       " 'edge_stroke': {'0': '#008000ff',\n",
       "  '1': '#008000ff',\n",
       "  '2': '#008000ff',\n",
       "  '3': '#008000ff',\n",
       "  '4': '#008000ff',\n",
       "  '5': '#008000ff',\n",
       "  '6': '#008000ff',\n",
       "  '7': '#008000ff'},\n",
       " 'hidden_edges': {},\n",
       " 'hidden_nodes': {},\n",
       " 'layout': 'IPY_MODEL_34465467d3be4800b545c39c1c8a99c5',\n",
       " 'node_fill': {'MA': '#0000ffff',\n",
       "  'JA': '#0000ffff',\n",
       "  'CC': '#0000ffff',\n",
       "  'MP': '#0000ffff',\n",
       "  'CH': '#0000ffff',\n",
       "  'GP': '#0000ffff',\n",
       "  'JU': '#0000ffff',\n",
       "  'FN': '#ff0000ff',\n",
       "  'JV': '#ff0000ff',\n",
       "  'BR': '#0000ffff',\n",
       "  'BM': '#0000ffff',\n",
       "  'CN': '#0000ffff',\n",
       "  'TH': '#ff0000ff'},\n",
       " 'pos': {'MA': [596.5908119220151, 265.50618928947506],\n",
       "  'JA': [190.94549062699855, 197.04046380526484],\n",
       "  'CC': [135.1818224920532, 439.74413637148456],\n",
       "  'MP': [544.4802634358522, 394.08665981584636],\n",
       "  'CH': [258.17402595776235, 469.9137396852201],\n",
       "  'GP': [506.80389763121025, 293.96599713033993],\n",
       "  'JU': [229.9916369637269, 409.6898191668383],\n",
       "  'FN': [262.22163378137236, 173.222843455156],\n",
       "  'JV': [284.0137695307027, 370.92623830952033],\n",
       "  'BR': [191.82747149067868, 474.5303885835255],\n",
       "  'BM': [223.03532299116446, 343.5452883456621],\n",
       "  'CN': [169.24821728460984, 382.6432463126951],\n",
       "  'TH': [381.7122953518281, 226.5290715663676]},\n",
       " 'props': {'nodes': [{'uid': 'MA'},\n",
       "   {'uid': 'JA'},\n",
       "   {'uid': 'CC'},\n",
       "   {'uid': 'MP'},\n",
       "   {'uid': 'CH'},\n",
       "   {'uid': 'GP'},\n",
       "   {'uid': 'JU'},\n",
       "   {'uid': 'FN'},\n",
       "   {'uid': 'JV'},\n",
       "   {'uid': 'BR'},\n",
       "   {'uid': 'BM'},\n",
       "   {'uid': 'CN'},\n",
       "   {'uid': 'TH'}],\n",
       "  'edges': [{'uid': '0', 'elements': ['TH', 'FN']},\n",
       "   {'uid': '1', 'elements': ['JV', 'TH']},\n",
       "   {'uid': '2', 'elements': ['BM', 'JA', 'FN']},\n",
       "   {'uid': '3', 'elements': ['BM', 'JV', 'JU', 'CH']},\n",
       "   {'uid': '4', 'elements': ['CC', 'CH', 'JU', 'JV', 'BR', 'BM', 'CN']},\n",
       "   {'uid': '5', 'elements': ['GP', 'TH']},\n",
       "   {'uid': '6', 'elements': ['MP', 'GP']},\n",
       "   {'uid': '7', 'elements': ['MA', 'GP']}],\n",
       "  'nodeFill': {'MA': '#0000ffff',\n",
       "   'JA': '#0000ffff',\n",
       "   'CC': '#0000ffff',\n",
       "   'MP': '#0000ffff',\n",
       "   'CH': '#0000ffff',\n",
       "   'GP': '#0000ffff',\n",
       "   'JU': '#0000ffff',\n",
       "   'FN': '#ff0000ff',\n",
       "   'JV': '#ff0000ff',\n",
       "   'BR': '#0000ffff',\n",
       "   'BM': '#0000ffff',\n",
       "   'CN': '#0000ffff',\n",
       "   'TH': '#ff0000ff'},\n",
       "  'edgeStroke': {'0': '#008000ff',\n",
       "   '1': '#008000ff',\n",
       "   '2': '#008000ff',\n",
       "   '3': '#008000ff',\n",
       "   '4': '#008000ff',\n",
       "   '5': '#008000ff',\n",
       "   '6': '#008000ff',\n",
       "   '7': '#008000ff'},\n",
       "  'edgeStrokeWidth': {'0': 2,\n",
       "   '1': 2,\n",
       "   '2': 2,\n",
       "   '3': 2,\n",
       "   '4': 2,\n",
       "   '5': 2,\n",
       "   '6': 2,\n",
       "   '7': 2},\n",
       "  'edgeLabelColor': {'0': '#008000ff',\n",
       "   '1': '#008000ff',\n",
       "   '2': '#008000ff',\n",
       "   '3': '#008000ff',\n",
       "   '4': '#008000ff',\n",
       "   '5': '#008000ff',\n",
       "   '6': '#008000ff',\n",
       "   '7': '#008000ff'},\n",
       "  '_model': 'IPY_MODEL_ced942ebe98c4bc8a77e52361a454424'},\n",
       " 'removed_edges': {},\n",
       " 'removed_nodes': {},\n",
       " 'selected_edges': {},\n",
       " 'selected_nodes': {}}"
      ]
     },
     "execution_count": 4,
     "metadata": {},
     "output_type": "execute_result"
    }
   ],
   "source": [
    "example2.get_state()"
   ]
  },
  {
   "cell_type": "markdown",
   "metadata": {},
   "source": [
    "## IV. Reuse attributes\n",
    "Once an attribute of a widget visualization has been set it may be reused in another visualization"
   ]
  },
  {
   "cell_type": "code",
   "execution_count": 5,
   "metadata": {},
   "outputs": [
    {
     "data": {
      "application/vnd.jupyter.widget-view+json": {
       "model_id": "22df8f62d3d54747921c5373700cee53",
       "version_major": 2,
       "version_minor": 0
      },
      "text/plain": [
       "HypernetxWidget(component='HypernetxWidget', props={'nodes': [{'uid': 'MA'}, {'uid': 'JA'}, {'uid': 'CC'}, {'u…"
      ]
     },
     "metadata": {},
     "output_type": "display_data"
    }
   ],
   "source": [
    "example3 = HypernetxWidget(\n",
    "    H,\n",
    "    nodes_kwargs={'color': example2.node_fill}\n",
    ")\n",
    "\n",
    "example3"
   ]
  },
  {
   "cell_type": "markdown",
   "metadata": {},
   "source": [
    "## V. Setting Labels and Callouts\n",
    "We can also adjust specific labels and add call outs as node or edge data."
   ]
  },
  {
   "cell_type": "code",
   "execution_count": 6,
   "metadata": {
    "scrolled": false
   },
   "outputs": [
    {
     "data": {
      "application/vnd.jupyter.widget-view+json": {
       "model_id": "5691e3514ddc4da0b8b1927d1bf2ece2",
       "version_major": 2,
       "version_minor": 0
      },
      "text/plain": [
       "HypernetxWidget(component='HypernetxWidget', props={'nodes': [{'uid': 'MA'}, {'uid': 'JA'}, {'uid': 'CC'}, {'u…"
      ]
     },
     "metadata": {},
     "output_type": "display_data"
    }
   ],
   "source": [
    "example4 = HypernetxWidget(\n",
    "    H,\n",
    "    collapse_nodes=True,\n",
    "    node_data=dnames,\n",
    "    node_labels={'JV': 'Valjean'},\n",
    "    edge_labels={0: 'scene 0'},\n",
    "    nodes_kwargs={'color':'pink'},\n",
    ")\n",
    "\n",
    "example4"
   ]
  },
  {
   "cell_type": "code",
   "execution_count": null,
   "metadata": {},
   "outputs": [],
   "source": []
  }
 ],
 "metadata": {
  "kernelspec": {
   "display_name": "Python 3",
   "language": "python",
   "name": "python3"
  },
  "language_info": {
   "codemirror_mode": {
    "name": "ipython",
    "version": 3
   },
   "file_extension": ".py",
   "mimetype": "text/x-python",
   "name": "python",
   "nbconvert_exporter": "python",
   "pygments_lexer": "ipython3",
   "version": "3.7.10"
  }
 },
 "nbformat": 4,
 "nbformat_minor": 2
}
