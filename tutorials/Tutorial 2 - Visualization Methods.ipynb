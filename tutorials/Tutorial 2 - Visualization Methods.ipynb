{
 "cells": [
  {
   "cell_type": "code",
   "execution_count": null,
   "metadata": {},
   "outputs": [],
   "source": [
    "# !pip install hypernetx"
   ]
  },
  {
   "cell_type": "code",
   "execution_count": null,
   "metadata": {},
   "outputs": [],
   "source": [
    "# !pip install networkx"
   ]
  },
  {
   "cell_type": "code",
   "execution_count": null,
   "metadata": {},
   "outputs": [],
   "source": [
    "import os, json\n",
    "import numpy as np\n",
    "import pandas as pd\n",
    "\n",
    "from networkx import fruchterman_reingold_layout as layout\n",
    "\n",
    "# GraphViz is arguably the best graph drawing tool, but it is old and tricky install.\n",
    "# Uncommenting the line below line will get you slightly better layouts, if you can get it working...\n",
    "# from networkx.drawing.nx_agraph import graphviz_layout as layout\n",
    "\n",
    "import matplotlib.pyplot as plt"
   ]
  },
  {
   "cell_type": "code",
   "execution_count": null,
   "metadata": {},
   "outputs": [],
   "source": [
    "%load_ext autoreload\n",
    "%autoreload 2\n",
    "import hypernetx as hnx"
   ]
  },
  {
   "cell_type": "markdown",
   "metadata": {},
   "source": [
    "# Data\n",
    "Construct a hypergraph dictionary mapping edge id's to vertex sets"
   ]
  },
  {
   "cell_type": "code",
   "execution_count": null,
   "metadata": {},
   "outputs": [],
   "source": [
    "scenes = {\n",
    "    0: ('FN', 'TH'),\n",
    "    1: ('TH', 'JV'),\n",
    "    2: ('BM', 'FN', 'JA'),\n",
    "    3: ('JV', 'JU', 'CH', 'BM'),\n",
    "    4: ('JU', 'CH', 'BR', 'CN', 'CC', 'JV', 'BM'),\n",
    "    5: ('TH', 'GP'),\n",
    "    6: ('GP', 'MP'),\n",
    "    7: ('MA', 'GP')\n",
    "}\n",
    "\n",
    "H = hnx.Hypergraph(scenes)"
   ]
  },
  {
   "cell_type": "markdown",
   "metadata": {},
   "source": [
    "# Visualization\n",
    "Use the default drawing tool to visualize `H` and its dual. This renders an Euler diagram of the hypergraph where vertices are black dots and hyper edges are convex shapes containing the vertices belonging to the edge set. It is not always possible to render a \"correct\" Euler diagram for an arbitrary hypergraph. This technique will lead to false positives, cases where a hyper edge incorrectly contains a vertex not belonging to its set."
   ]
  },
  {
   "cell_type": "code",
   "execution_count": null,
   "metadata": {},
   "outputs": [],
   "source": [
    "hnx.drawing.draw(H)"
   ]
  },
  {
   "cell_type": "markdown",
   "metadata": {},
   "source": [
    "We can also view the dual of this graph easily, using the `H.dual()` command."
   ]
  },
  {
   "cell_type": "code",
   "execution_count": null,
   "metadata": {},
   "outputs": [],
   "source": [
    "hnx.drawing.draw(H.dual())"
   ]
  },
  {
   "cell_type": "markdown",
   "metadata": {},
   "source": [
    "# Basic Visualization Parameters\n",
    "We will now explore some of the basic visualization parameters that are special for hypergraph visualization\n",
    "* collapsing vertices and edges\n",
    "* label options"
   ]
  },
  {
   "cell_type": "markdown",
   "metadata": {},
   "source": [
    "## Collapsing Vertices\n",
    "By passing in a hypergraph with its nodes collapsed (using `H.collapse_nodes()`), we show nodes with identical hyper edge membership to be collapsed into a single dot. The drawing tool automatically detects if nodes and edges have been collapsed, and the dot is labeled with the list of nodes it represents. In this case, `{CN, CC, BR}` and `{CH, JU}` were collapsed. The size of the dot increases to reflect the number of members.\n",
    "\n",
    "We will use a consistent random state across the next few diagrams to make the layout consistent."
   ]
  },
  {
   "cell_type": "code",
   "execution_count": null,
   "metadata": {},
   "outputs": [],
   "source": [
    "kwargs = {'layout_kwargs': {'seed': 39}}\n",
    "\n",
    "hnx.drawing.draw(H.collapse_nodes(), **kwargs)"
   ]
  },
  {
   "cell_type": "markdown",
   "metadata": {},
   "source": [
    "## Label options\n",
    "For anything but trivially small hypergraphs, the number of items in a collapsed element can be large, causing the label to be very long. You can set `with_node_counts=True` to mitigate this. This will replae node labels with counts where there is more than one element at that node.\n",
    "\n",
    "The collapsed nodes from above have been replaced with `x3` and `x2`, and the rest of the labels have disappeared."
   ]
  },
  {
   "cell_type": "code",
   "execution_count": null,
   "metadata": {},
   "outputs": [],
   "source": [
    "hnx.drawing.draw(H.collapse_nodes(), with_node_counts=True, **kwargs)"
   ]
  },
  {
   "cell_type": "markdown",
   "metadata": {},
   "source": [
    "Similarly, hyper-edges can be collapsed and relabeled. We will use the dual to illustrate this."
   ]
  },
  {
   "cell_type": "code",
   "execution_count": null,
   "metadata": {},
   "outputs": [],
   "source": [
    "hnx.drawing.draw(H.dual().collapse_edges(), with_edge_counts=True)"
   ]
  },
  {
   "cell_type": "markdown",
   "metadata": {},
   "source": [
    "## Disabling labels\n",
    "If edge or node lables are a distraction, they can be turned off completely by passing in `with_edge_labels=False` or `with_node_labels=False`"
   ]
  },
  {
   "cell_type": "code",
   "execution_count": null,
   "metadata": {},
   "outputs": [],
   "source": [
    "hnx.drawing.draw(H, with_edge_labels=False, **kwargs)"
   ]
  },
  {
   "cell_type": "markdown",
   "metadata": {},
   "source": [
    "## Advanced Visualization Parameters\n",
    "Properties like colors and thickness can be adjusted. This allows style parameters to be passed directly to the corresponding Matplotlib function. The mapping is as follows:\n",
    "* `edges_kwargs` => `matplotlib.collections.PolyCollection`\n",
    "* `nodes_kwargs` => `matplotlib.collections.PolyCollection`\n",
    "* `edge_labels_kwargs` => `matplotlib.annotate`\n",
    "* `node_labels_kwargs` => `matplotlib.annotate`"
   ]
  },
  {
   "cell_type": "markdown",
   "metadata": {},
   "source": [
    "## Colors\n",
    "By default, we cycle through one of 10 unique colors for edges. This can be overridden using the `edges_kwargs` parameter. Here we adjust the linewidth, edge color, and face color."
   ]
  },
  {
   "cell_type": "code",
   "execution_count": null,
   "metadata": {
    "scrolled": true
   },
   "outputs": [],
   "source": [
    "hnx.drawing.draw(H.collapse_nodes(),\n",
    "    edges_kwargs={\n",
    "        'linewidths': 2,\n",
    "        'edgecolors': 'brown',\n",
    "        'facecolors': 'pink'\n",
    "    },\n",
    "    **kwargs\n",
    ")"
   ]
  },
  {
   "cell_type": "markdown",
   "metadata": {},
   "source": [
    "## Node colors\n",
    "Pass an array of matplotlib colors to configure the individual colors of each node. The order of the array corresponds to the order returned by `H.__iter__()`.\n",
    "\n",
    "In this example, we make the nodes that "
   ]
  },
  {
   "cell_type": "code",
   "execution_count": null,
   "metadata": {},
   "outputs": [],
   "source": [
    "H_collapsed = H.collapse_nodes()\n",
    "\n",
    "hnx.drawing.draw(H_collapsed,\n",
    "                 edges_kwargs={\n",
    "                     'edgecolors': 'black'\n",
    "                 },\n",
    "                 nodes_kwargs={\n",
    "                     'facecolors': ['red' if len(v) > 1 else 'black' for v in H_collapsed]\n",
    "                 },\n",
    "                 **kwargs)"
   ]
  },
  {
   "cell_type": "markdown",
   "metadata": {},
   "source": [
    "## Edge colors\n",
    "Pass an array of matplotlib colors to configure the individual colors of each edge. The order of the array corresponds to the order returned by `H.edges()`."
   ]
  },
  {
   "cell_type": "code",
   "execution_count": null,
   "metadata": {},
   "outputs": [],
   "source": [
    "cmap = plt.cm.viridis\n",
    "alpha = .5\n",
    "\n",
    "sizes = np.array([len(e) for e in H.edges()])\n",
    "norm = plt.Normalize(sizes.min(), sizes.max())\n",
    "\n",
    "hnx.drawing.draw(H,\n",
    "                 label_alpha=0,\n",
    "                 edges_kwargs={\n",
    "                     'facecolors': cmap(norm(sizes))*(1, 1, 1, alpha),\n",
    "                     'edgecolors': 'black',\n",
    "                     'linewidths': 2\n",
    "                 },\n",
    "                 **kwargs)"
   ]
  },
  {
   "cell_type": "markdown",
   "metadata": {},
   "source": [
    "## Font\n",
    "Fontsize and other attributes can be set with the `node_labels_kwargs` and `edge_labels_kwargs` parameters. Here we make the font size large for illustrative purposes."
   ]
  },
  {
   "cell_type": "code",
   "execution_count": null,
   "metadata": {},
   "outputs": [],
   "source": [
    "hnx.drawing.draw(H.collapse_nodes(),\n",
    "    node_labels_kwargs={\n",
    "        'fontsize': 24\n",
    "    },\n",
    "    **kwargs\n",
    ")"
   ]
  },
  {
   "cell_type": "markdown",
   "metadata": {},
   "source": [
    "Font attributes can be individually set by passing in a dictionary mapping nodes to values"
   ]
  },
  {
   "cell_type": "code",
   "execution_count": null,
   "metadata": {},
   "outputs": [],
   "source": [
    "hnx.drawing.draw(H,\n",
    "    node_labels_kwargs={\n",
    "        'fontsize': {v: 36 if v == 'JV' else 12 for v in H}\n",
    "    },\n",
    "    **kwargs\n",
    ")"
   ]
  }
 ],
 "metadata": {
  "kernelspec": {
   "display_name": "Python 3",
   "language": "python",
   "name": "python3"
  },
  "language_info": {
   "codemirror_mode": {
    "name": "ipython",
    "version": 3
   },
   "file_extension": ".py",
   "mimetype": "text/x-python",
   "name": "python",
   "nbconvert_exporter": "python",
   "pygments_lexer": "ipython3",
   "version": "3.7.10"
  }
 },
 "nbformat": 4,
 "nbformat_minor": 2
}
