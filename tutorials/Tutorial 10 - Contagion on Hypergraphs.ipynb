{
 "cells": [
  {
   "cell_type": "code",
   "execution_count": null,
   "id": "7e629e88",
   "metadata": {},
   "outputs": [],
   "source": [
    "import hypernetx as hnx\n",
    "import networkx as nx\n",
    "import matplotlib.pyplot as plt\n",
    "import numpy as np\n",
    "import random\n",
    "import time\n",
    "import hypernetx.algorithms.contagion as contagion\n",
    "from hnxwidget import HypernetxWidget"
   ]
  },
  {
   "cell_type": "code",
   "execution_count": null,
   "id": "4aaa036e",
   "metadata": {},
   "outputs": [],
   "source": [
    "n = 1000\n",
    "m = 10000\n",
    "\n",
    "hyperedgeList = [random.sample(range(n), k=random.choice([2,3])) for i in range(m)]\n",
    "H = hnx.Hypergraph(hyperedgeList, static=True)"
   ]
  },
  {
   "cell_type": "markdown",
   "id": "98025068",
   "metadata": {},
   "source": [
    "## Initialize simulation variables\n",
    "- $\\tau$ is a dictionary of the infection rate for each hyperedge size\n",
    "- $\\gamma$ is the healing rate\n",
    "- $t_{max}$ is the time at which to terminate the simulation if it hasn't already\n",
    "- $\\Delta t$ is the time step size to use for the discrete time algorithm\n"
   ]
  },
  {
   "cell_type": "code",
   "execution_count": null,
   "id": "9d049e18",
   "metadata": {},
   "outputs": [],
   "source": [
    "tau = {2:0.01, 3:0.01}\n",
    "gamma = 0.01\n",
    "tmax = 100\n",
    "dt = 0.1"
   ]
  },
  {
   "cell_type": "markdown",
   "id": "5f357f3b",
   "metadata": {},
   "source": [
    "## Run the SIR epidemic simulations\n",
    "- The discrete SIR takes fixed steps in time and multiple infection/healing events can happen at each time step.\n",
    "- The Gillespie SIR algorithm takes steps in time exponentially distributed and at each step forward, a single event occurs\n",
    "- As $\\Delta t\\to 0$, the discrete time algorithm converges to the Gillespie algorithm. "
   ]
  },
  {
   "cell_type": "code",
   "execution_count": null,
   "id": "26740308",
   "metadata": {},
   "outputs": [],
   "source": [
    "start = time.time()\n",
    "t1, S1, I1, R1 = contagion.discrete_SIR(H, tau, gamma, rho=0.1, tmin=0, tmax=tmax, dt=dt)\n",
    "print(time.time() - start)\n",
    "\n",
    "start = time.time()\n",
    "t2, S2, I2, R2 = contagion.Gillespie_SIR(H, tau, gamma, rho=0.1, tmin=0, tmax=tmax)\n",
    "print(time.time() - start)"
   ]
  },
  {
   "cell_type": "markdown",
   "id": "4ec4465a",
   "metadata": {},
   "source": [
    "The Gillespie algorithm is much faster in many cases (and more accurate) than discrete-time algorithms because it doesn't consider events that don't happen. Instead, it calculates when the next event will occur and what event (infection, recovery, etc.) it will be."
   ]
  },
  {
   "cell_type": "markdown",
   "id": "e755591e",
   "metadata": {},
   "source": [
    "## Plot of the results\n",
    "- Dashed lines are the results from the discrete time algorithm\n",
    "- Solid lines are the results from the Gillespie algorithm\n",
    "- Plots of the numbers susceptible, infected, and recovered over time\n"
   ]
  },
  {
   "cell_type": "code",
   "execution_count": null,
   "id": "aa953ffd",
   "metadata": {},
   "outputs": [],
   "source": [
    "plt.figure()\n",
    "plt.plot(t1, S1, 'g--', label='S (Discrete)')\n",
    "plt.plot(t1, I1, 'r--', label='I (Discrete)')\n",
    "plt.plot(t1, R1, 'b--', label='R (Discrete)')\n",
    "plt.plot(t2, S2, 'g-', label='S (Gillespie)')\n",
    "plt.plot(t2, I2, 'r-', label='I (Gillespie)')\n",
    "plt.plot(t2, R2, 'b-', label='R (Gillespie)')\n",
    "plt.xlabel(\"Time\", fontsize=14)\n",
    "plt.ylabel(\"Number of people\", fontsize=14)\n",
    "plt.legend(fontsize=14)\n",
    "plt.show()"
   ]
  },
  {
   "cell_type": "markdown",
   "id": "d4f22471",
   "metadata": {},
   "source": [
    "## SIS Model\n",
    "In this model, once individuals heal, they may become re-infected."
   ]
  },
  {
   "cell_type": "code",
   "execution_count": null,
   "id": "770b9a5c",
   "metadata": {},
   "outputs": [],
   "source": [
    "tau = {2:0.01, 3:0.01}\n",
    "gamma = 0.01\n",
    "tmax = 100\n",
    "dt = 1"
   ]
  },
  {
   "cell_type": "code",
   "execution_count": null,
   "id": "583539ce",
   "metadata": {},
   "outputs": [],
   "source": [
    "tau = {2:0.01, 3:0.01}\n",
    "gamma = 0.01\n",
    "start = time.time()\n",
    "t1, S1, I1 = contagion.discrete_SIS(H, tau, gamma, rho = 0.1, tmin = 0, tmax=tmax, dt=dt)\n",
    "print(time.time() - start)\n",
    "\n",
    "start = time.time()\n",
    "t2, S2, I2 = contagion.Gillespie_SIS(H, tau, gamma, rho = 0.1, tmin = 0, tmax=tmax)\n",
    "print(time.time() - start)"
   ]
  },
  {
   "cell_type": "code",
   "execution_count": null,
   "id": "3ae298ba",
   "metadata": {},
   "outputs": [],
   "source": [
    "plt.figure()\n",
    "plt.plot(t1, S1, 'g--', label='S (Discrete)')\n",
    "plt.plot(t1, I1, 'r--', label='I (Discrete)')\n",
    "plt.plot(t2, S2, 'g-', label='S (Gillespie)')\n",
    "plt.plot(t2, I2, 'r-', label='I (Gillespie)')\n",
    "plt.xlabel(\"Time\", fontsize=14)\n",
    "plt.ylabel(\"Number of people\", fontsize=14)\n",
    "plt.legend(fontsize=14)\n",
    "plt.show()"
   ]
  },
  {
   "cell_type": "markdown",
   "id": "4317879a",
   "metadata": {},
   "source": [
    "## Animation of SIR model"
   ]
  },
  {
   "cell_type": "code",
   "execution_count": null,
   "id": "5cbd4054",
   "metadata": {},
   "outputs": [],
   "source": [
    "import hypernetx as hnx\n",
    "import matplotlib.pyplot as plt\n",
    "import random\n",
    "import time\n",
    "import hypernetx.algorithms.contagion as contagion\n",
    "import numpy as np\n",
    "from IPython.display import HTML"
   ]
  },
  {
   "cell_type": "code",
   "execution_count": null,
   "id": "7b68fa87",
   "metadata": {},
   "outputs": [],
   "source": [
    "n = 100\n",
    "m = 40\n",
    "\n",
    "hyperedgeList = [random.sample(range(n), k=random.choice([2,3])) for i in range(m)]\n",
    "H = hnx.Hypergraph(hyperedgeList, static=True)"
   ]
  },
  {
   "cell_type": "code",
   "execution_count": null,
   "id": "7afb2d28",
   "metadata": {},
   "outputs": [],
   "source": [
    "tau = {2:2, 3:1}\n",
    "gamma = 0.1"
   ]
  },
  {
   "cell_type": "code",
   "execution_count": null,
   "id": "19570770",
   "metadata": {},
   "outputs": [],
   "source": [
    "transition_events = contagion.discrete_SIR(H, tau, gamma, rho=0.2, tmin=0, tmax=50, dt=1, return_full_data=True)"
   ]
  },
  {
   "cell_type": "code",
   "execution_count": null,
   "id": "1f61777c",
   "metadata": {},
   "outputs": [],
   "source": [
    "for time, events in transition_events.items():\n",
    "    if events != []:\n",
    "        for event in events:\n",
    "            if event[0] == 'R':\n",
    "                print(f\"At time {time}, {event[1]} recovered\")\n",
    "            elif event[0] == 'I' and event[2] is not None:\n",
    "                print(f\"At time {time}, {event[1]} was infected by {event[2]}\")"
   ]
  },
  {
   "cell_type": "code",
   "execution_count": null,
   "id": "5ca81437",
   "metadata": {},
   "outputs": [],
   "source": [
    "node_state_color_dict = {\"S\":\"green\", \"I\":\"red\", \"R\":\"blue\"}\n",
    "edge_state_color_dict = {\"S\":(0, 1, 0, 0.3), \"I\":(1, 0, 0, 0.3), \"R\":(0, 0, 1, 0.3), \"OFF\": (1, 1, 1, 0)}\n",
    "\n",
    "fps = 1\n",
    "\n",
    "fig = plt.figure()\n",
    "animation = contagion.contagion_animation(fig, H, transition_events, node_state_color_dict, edge_state_color_dict, node_radius=1, fps=fps)"
   ]
  },
  {
   "cell_type": "code",
   "execution_count": null,
   "id": "4ce82d37",
   "metadata": {},
   "outputs": [],
   "source": [
    "HTML(animation.to_jshtml())"
   ]
  },
  {
   "cell_type": "markdown",
   "id": "9a148b4d",
   "metadata": {},
   "source": [
    "## Animation of the SIS model"
   ]
  },
  {
   "cell_type": "code",
   "execution_count": null,
   "id": "964351d0",
   "metadata": {},
   "outputs": [],
   "source": [
    "transition_events = contagion.discrete_SIS(H, tau, gamma, rho=0.2, tmin=0, tmax=50, dt=1, return_full_data=True)"
   ]
  },
  {
   "cell_type": "code",
   "execution_count": null,
   "id": "420825cc",
   "metadata": {},
   "outputs": [],
   "source": [
    "for time, events in transition_events.items():\n",
    "    if events != []:\n",
    "        for event in events:\n",
    "            if event[0] == 'S':\n",
    "                print(f\"At time {time}, {event[1]} recovered\")\n",
    "            elif event[0] == 'I' and event[2] is not None:\n",
    "                print(f\"At time {time}, {event[1]} was infected by {event[2]}\")"
   ]
  },
  {
   "cell_type": "code",
   "execution_count": null,
   "id": "b0471efc",
   "metadata": {},
   "outputs": [],
   "source": [
    "node_state_color_dict = {\"S\":\"green\", \"I\":\"red\", \"R\":\"blue\"}\n",
    "edge_state_color_dict = {\"S\":(0, 1, 0, 0.3), \"I\":(1, 0, 0, 0.3), \"R\":(0, 0, 1, 0.3), \"OFF\": (1, 1, 1, 0)}\n",
    "\n",
    "fps = 1\n",
    "\n",
    "fig = plt.figure()\n",
    "animation = contagion.contagion_animation(fig, H, transition_events, node_state_color_dict, edge_state_color_dict, node_radius=1, fps=fps)"
   ]
  },
  {
   "cell_type": "code",
   "execution_count": null,
   "id": "ba79527c",
   "metadata": {},
   "outputs": [],
   "source": [
    "HTML(animation.to_jshtml())"
   ]
  },
  {
   "cell_type": "code",
   "execution_count": null,
   "id": "ffab23fd",
   "metadata": {},
   "outputs": [],
   "source": []
  }
 ],
 "metadata": {
  "kernelspec": {
   "display_name": "Python 3 (ipykernel)",
   "language": "python",
   "name": "python3"
  },
  "language_info": {
   "codemirror_mode": {
    "name": "ipython",
    "version": 3
   },
   "file_extension": ".py",
   "mimetype": "text/x-python",
   "name": "python",
   "nbconvert_exporter": "python",
   "pygments_lexer": "ipython3",
   "version": "3.7.10"
  }
 },
 "nbformat": 4,
 "nbformat_minor": 5
}
