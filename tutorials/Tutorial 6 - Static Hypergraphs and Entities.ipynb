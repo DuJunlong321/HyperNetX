{
 "cells": [
  {
   "cell_type": "markdown",
   "metadata": {},
   "source": [
    "<img src='harrypotter_image.png' width='200px' style=\"float:left;margin-right:10pt\"></img>\n",
    "# Illustration of Static Hypergraphs using Kaggle's HarryPotter dataset.\n",
    "\n",
    "In this tutorial we introduce `hypernetx.StaticEntity` and `hypernetx.StaticEntitySet` and the new `static=True` attribute in the `hypernetx.Hypergraph` class. \n",
    "\n",
    "Harry Potter Data is available here: https://www.kaggle.com/gulsahdemiryurek/harry-potter-dataset.\n",
    "\n",
    "Python code for parsing the dataset is in `harrypotter.py` in this tutorial's directory."
   ]
  },
  {
   "cell_type": "code",
   "execution_count": null,
   "metadata": {},
   "outputs": [],
   "source": [
    "import hypernetx as hnx\n",
    "import networkx as nx\n",
    "import matplotlib.pyplot as plt\n",
    "from collections import OrderedDict, defaultdict\n",
    "import scipy\n",
    "from scipy.sparse import coo_matrix, csr_matrix, issparse\n",
    "import pandas as pd\n",
    "import numpy as np\n",
    "import itertools as it\n",
    "import sys\n",
    "from harrypotter import HarryPotter"
   ]
  },
  {
   "cell_type": "markdown",
   "metadata": {},
   "source": [
    "## The Harry Potter Dataset: \n",
    "To use a csv file for a Static Hypergraph, we need every cell filled with a label. \n",
    "We have edited the Harry Potter dataset so that it has 5 categories and every cell is filled. Where a value is unknown, we marked it as \"Unknown *category_name*\". "
   ]
  },
  {
   "cell_type": "code",
   "execution_count": null,
   "metadata": {},
   "outputs": [],
   "source": [
    "hogwarts = HarryPotter()"
   ]
  },
  {
   "cell_type": "code",
   "execution_count": null,
   "metadata": {
    "scrolled": true
   },
   "outputs": [],
   "source": [
    "hogwarts.dataframe"
   ]
  },
  {
   "cell_type": "markdown",
   "metadata": {},
   "source": [
    "### We define a labeling based on the categories and store it in an Ordered Dictionary.\n",
    "The ordering of labels is determined by their order of appearance in the table with the exception of Unknown labels, which are always listed first."
   ]
  },
  {
   "cell_type": "code",
   "execution_count": null,
   "metadata": {
    "scrolled": true
   },
   "outputs": [],
   "source": [
    "hogwarts.labels"
   ]
  },
  {
   "cell_type": "markdown",
   "metadata": {},
   "source": [
    "### We next create a tensor with dimension equal to the number of categories and indexed by the labels. \n",
    "We encode the data in each column using a sequence of integers and store the coded data along with translator functions to retrieve the original names as needed. Here we remove duplicate rows but counts could be collected for a weighting scheme."
   ]
  },
  {
   "cell_type": "code",
   "execution_count": null,
   "metadata": {},
   "outputs": [],
   "source": [
    "## List of nonzero indices\n",
    "hogwarts.data"
   ]
  },
  {
   "cell_type": "code",
   "execution_count": null,
   "metadata": {},
   "outputs": [],
   "source": [
    "hogwarts.data.shape"
   ]
  },
  {
   "cell_type": "code",
   "execution_count": null,
   "metadata": {},
   "outputs": [],
   "source": [
    "hogwarts.arr"
   ]
  },
  {
   "cell_type": "code",
   "execution_count": null,
   "metadata": {},
   "outputs": [],
   "source": [
    "hogwarts.arr.shape"
   ]
  },
  {
   "cell_type": "markdown",
   "metadata": {},
   "source": [
    "## StaticEntity and StaticEntitySet\n",
    "\n",
    "The entire dataset has now been represented using a data array or tensor array and a dictionary associating positions in the tensor array and values in the data array with values in the original data.\n",
    "\n",
    "The basic object in HyperNetX, which holds the data and label dictionary for a static hypergraph, is a `StaticEntity`.\n",
    "\n",
    "Each dimension of the array, is considered a **level** in the StaticEntity. A level's order corresponds to its position in the datatable. In terms of the original Entity structure in HyperNetX, levels 'loosely' reference an order of containment. Elements of the the 2nd level belong to elements in the 1st column. Pairwise one can say the elements of one level belong to the elements of its predecessor column. The order of levels is given by the order of keys in the labels:"
   ]
  },
  {
   "cell_type": "code",
   "execution_count": null,
   "metadata": {},
   "outputs": [],
   "source": [
    "E = hnx.StaticEntity(arr = hogwarts.arr, labels = hogwarts.labels)\n",
    "E.keys"
   ]
  },
  {
   "cell_type": "markdown",
   "metadata": {},
   "source": [
    "### A StaticEntitySet is a StaticEntity restricted to two levels. \n",
    "By default, a StaticEntity will grab the 1st two dimensions of the of the array and first two keys of the labels, but any pair of levels may be specified. "
   ]
  },
  {
   "cell_type": "code",
   "execution_count": null,
   "metadata": {},
   "outputs": [],
   "source": [
    "ES = hnx.StaticEntitySet(E)\n",
    "ES.labels"
   ]
  },
  {
   "cell_type": "markdown",
   "metadata": {},
   "source": [
    "## Static Hypergraph\n",
    "A static hypergraph is one where all nodes and edges are known at the time of construction. This permits an internal ordering and uid structure for easy reference and faster computation of metrics.\n",
    "\n",
    "\n"
   ]
  },
  {
   "cell_type": "code",
   "execution_count": null,
   "metadata": {
    "scrolled": false
   },
   "outputs": [],
   "source": [
    "H = hnx.Hypergraph(ES,static=True,use_nwhy=True)\n",
    "H.edges"
   ]
  },
  {
   "cell_type": "code",
   "execution_count": null,
   "metadata": {},
   "outputs": [],
   "source": [
    "H.nodes"
   ]
  },
  {
   "cell_type": "code",
   "execution_count": null,
   "metadata": {},
   "outputs": [],
   "source": [
    "H.incidence_matrix().todense()"
   ]
  },
  {
   "cell_type": "code",
   "execution_count": null,
   "metadata": {},
   "outputs": [],
   "source": [
    "H.state_dict"
   ]
  },
  {
   "cell_type": "code",
   "execution_count": null,
   "metadata": {},
   "outputs": [],
   "source": [
    "H.dataframe()"
   ]
  },
  {
   "cell_type": "markdown",
   "metadata": {},
   "source": [
    "### Restrict to specific edges and nodes"
   ]
  },
  {
   "cell_type": "code",
   "execution_count": null,
   "metadata": {
    "scrolled": true
   },
   "outputs": [],
   "source": [
    "HF = H.restrict_to_edges(['Gryffindor','Ravenclaw','Slytherin','Hufflepuff'])\n",
    "HF.dataframe()"
   ]
  },
  {
   "cell_type": "code",
   "execution_count": null,
   "metadata": {},
   "outputs": [],
   "source": [
    "fig,ax = plt.subplots(1,2,figsize=(15,6))\n",
    "hnx.draw(H,ax=ax[0]);\n",
    "hnx.draw(H.dual())\n",
    "H.edges"
   ]
  },
  {
   "cell_type": "markdown",
   "metadata": {},
   "source": [
    "## Collapse identical elements\n",
    "This method exists to collapse identical nodes and edges and is implemented for dynamic hypergraphs.\n",
    "We wish to do the same for large unwieldy hypergraphs stored as static."
   ]
  },
  {
   "cell_type": "code",
   "execution_count": null,
   "metadata": {},
   "outputs": [],
   "source": [
    "pos = {'Unknown House': np.array([-0.10670759,  0.39625995]), 'Gryffindor': np.array([-0.32244912,  0.27409625]), 'Ravenclaw': np.array([0.57391404, 0.27217292]), 'Hufflepuff': np.array([-0.02345858,  0.16025175]), 'Slytherin': np.array([-0.02249078, -0.50964294]), 'Durmstrang Institute': np.array([-0.08558045, -1.        ]), 'Unknown Blood status': np.array([0.15155363, 0.65523899]), 'Half-blood': np.array([0.24364009, 0.04186756]), 'Pure-blood': np.array([-0.45423213, -0.07752039]), 'Pure-blood or half-blood': np.array([ 0.04581088, -0.21272409])}"
   ]
  },
  {
   "cell_type": "code",
   "execution_count": null,
   "metadata": {},
   "outputs": [],
   "source": [
    "nodes = ['Pure-blood or half-blood',  'Unknown Blood status', 'Pure-blood', 'Half-blood',  ]\n",
    "Hn = H.restrict_to_nodes(nodes)\n",
    "hnx.draw(Hn,pos=pos)"
   ]
  },
  {
   "cell_type": "code",
   "execution_count": null,
   "metadata": {},
   "outputs": [],
   "source": [
    "Hc,clses = Hn.collapse_edges(return_equivalence_classes=True)\n",
    "\n",
    "## now draw the dynamic versions\n",
    "fig,ax = plt.subplots(1,2,figsize=(15,6))\n",
    "hnx.draw(Hn.remove_static(),ax=ax[0],pos=pos);\n",
    "ax[0].set_title('original')\n",
    "hnx.draw(Hc,ax=ax[1],pos=pos);\n",
    "ax[1].set_title('collapsed');\n",
    "clses"
   ]
  },
  {
   "cell_type": "markdown",
   "metadata": {},
   "source": [
    "### Hypergraph methods apply to both static and dynamic hypergraphs"
   ]
  },
  {
   "cell_type": "code",
   "execution_count": null,
   "metadata": {},
   "outputs": [],
   "source": [
    "H.isstatic"
   ]
  },
  {
   "cell_type": "code",
   "execution_count": null,
   "metadata": {},
   "outputs": [],
   "source": [
    "G = H.bipartite()\n",
    "cmap = ['r' if G.nodes[n]['bipartite']==0 else 'b' for n in G.nodes ]\n",
    "nx.draw(H.bipartite(),node_color=cmap,with_labels=True)"
   ]
  },
  {
   "cell_type": "code",
   "execution_count": null,
   "metadata": {},
   "outputs": [],
   "source": [
    "print(hnx.info(H))"
   ]
  },
  {
   "cell_type": "code",
   "execution_count": null,
   "metadata": {},
   "outputs": [],
   "source": [
    "## Once the dist stats are computed, they are stored in the state dict for fast recall and reference\n",
    "hnx.dist_stats(H)"
   ]
  },
  {
   "cell_type": "code",
   "execution_count": null,
   "metadata": {},
   "outputs": [],
   "source": [
    "H.state_dict"
   ]
  },
  {
   "cell_type": "code",
   "execution_count": null,
   "metadata": {},
   "outputs": [],
   "source": [
    "fig,ax = plt.subplots(1,2,figsize=(15,6))\n",
    "pos = hnx.draw(H,ax=ax[0],return_pos=True)\n",
    "hnx.draw(H.toplexes(),ax=ax[1],pos=pos)"
   ]
  },
  {
   "cell_type": "code",
   "execution_count": null,
   "metadata": {},
   "outputs": [],
   "source": [
    "H.collapse_edges()"
   ]
  },
  {
   "cell_type": "code",
   "execution_count": null,
   "metadata": {},
   "outputs": [],
   "source": [
    "H.state_dict"
   ]
  },
  {
   "cell_type": "code",
   "execution_count": null,
   "metadata": {},
   "outputs": [],
   "source": []
  }
 ],
 "metadata": {
  "kernelspec": {
   "display_name": "Python 3",
   "language": "python",
   "name": "python3"
  },
  "language_info": {
   "codemirror_mode": {
    "name": "ipython",
    "version": 3
   },
   "file_extension": ".py",
   "mimetype": "text/x-python",
   "name": "python",
   "nbconvert_exporter": "python",
   "pygments_lexer": "ipython3",
   "version": "3.8.5"
  }
 },
 "nbformat": 4,
 "nbformat_minor": 2
}
