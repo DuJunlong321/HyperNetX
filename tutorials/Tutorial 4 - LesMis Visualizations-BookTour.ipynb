{
 "cells": [
  {
   "cell_type": "code",
   "execution_count": null,
   "metadata": {},
   "outputs": [],
   "source": [
    "# !pip install hypernetx"
   ]
  },
  {
   "cell_type": "code",
   "execution_count": null,
   "metadata": {},
   "outputs": [],
   "source": [
    "# !pip install networkx"
   ]
  },
  {
   "cell_type": "code",
   "execution_count": null,
   "metadata": {},
   "outputs": [],
   "source": [
    "import os, json\n",
    "import numpy as np\n",
    "import pandas as pd\n",
    "\n",
    "from networkx.drawing import spring_layout\n",
    "import hypernetx as hnx\n",
    "import hypernetx.utils.toys as toys\n",
    "from hypernetx.drawing.rubber_band import draw\n",
    "\n",
    "import matplotlib.pyplot as plt\n",
    "%matplotlib inline"
   ]
  },
  {
   "cell_type": "markdown",
   "metadata": {},
   "source": [
    "# Construction\n",
    "We start with a list of scenes, and construct a hypergraph by converting this to a dictionary."
   ]
  },
  {
   "cell_type": "code",
   "execution_count": null,
   "metadata": {},
   "outputs": [],
   "source": [
    "scenes = [\n",
    "    ('FN', 'TH'),\n",
    "    ('TH', 'JV'),\n",
    "    ('BM', 'FN', 'JA'),\n",
    "    ('JV', 'JU', 'CH', 'BM'),\n",
    "    ('JU', 'CH', 'BR', 'CN', 'CC', 'JV', 'BM'),\n",
    "    ('TH', 'GP'),\n",
    "    ('GP', 'MP'),\n",
    "    ('MA', 'GP')\n",
    "]\n",
    "\n",
    "H = hnx.Hypergraph(dict(enumerate(scenes)))\n",
    "H.edges.incidence_dict"
   ]
  },
  {
   "cell_type": "code",
   "execution_count": null,
   "metadata": {},
   "outputs": [],
   "source": [
    "H.dual().edges.incidence_dict"
   ]
  },
  {
   "cell_type": "markdown",
   "metadata": {},
   "source": [
    "# Visualization\n",
    "Use the default drawing tool to visualize `H` and its dual."
   ]
  },
  {
   "cell_type": "code",
   "execution_count": null,
   "metadata": {},
   "outputs": [],
   "source": [
    "plt.figure(figsize=(16, 8))\n",
    "draw(H, ax=plt.subplot(121))\n",
    "draw(H.dual(), ax=plt.subplot(122))\n",
    "plt.title('Dual');"
   ]
  },
  {
   "cell_type": "markdown",
   "metadata": {},
   "source": [
    "# Book Tours\n",
    "A book tour is a `Series` of `Hypergraph`'s from Les Miserables indexed hierarchically by Volume and Book."
   ]
  },
  {
   "cell_type": "code",
   "execution_count": null,
   "metadata": {},
   "outputs": [],
   "source": [
    "lesmis = toys.LesMis()\n",
    "lesmis.df_scenes"
   ]
  },
  {
   "cell_type": "code",
   "execution_count": null,
   "metadata": {},
   "outputs": [],
   "source": [
    "lesmis.df_scenes.set_index(['Volume','Book'])[['Chapter','Characters']]"
   ]
  },
  {
   "cell_type": "code",
   "execution_count": null,
   "metadata": {},
   "outputs": [],
   "source": [
    "book_tour_data = lesmis.book_tour_data\n",
    "book_tour_data.head()"
   ]
  },
  {
   "cell_type": "markdown",
   "metadata": {},
   "source": [
    "# Book Tour Visualization (small multiples)\n",
    "Draw one hypergraph for each of the `{Volume x Book}` pairs in Les Miserables. Volumes are rows and books are columns.\n"
   ]
  },
  {
   "cell_type": "code",
   "execution_count": null,
   "metadata": {},
   "outputs": [],
   "source": [
    "for t, Ht, ax in toys.book_tour(book_tour_data):\n",
    "    draw(Ht, layout=spring_layout, ax=ax, with_edge_counts=True)\n",
    "    ax.axis('on')"
   ]
  },
  {
   "cell_type": "code",
   "execution_count": null,
   "metadata": {},
   "outputs": [],
   "source": [
    "for t, Ht, ax in toys.book_tour(book_tour_data):\n",
    "    Ht = Ht.collapse_nodes_and_edges()\n",
    "    draw(Ht, layout=spring_layout, ax=ax, with_edge_counts=True)\n",
    "    ax.axis('on')"
   ]
  },
  {
   "cell_type": "code",
   "execution_count": null,
   "metadata": {},
   "outputs": [],
   "source": []
  }
 ],
 "metadata": {
  "kernelspec": {
   "display_name": "Python 3",
   "language": "python",
   "name": "python3"
  },
  "language_info": {
   "codemirror_mode": {
    "name": "ipython",
    "version": 3
   },
   "file_extension": ".py",
   "mimetype": "text/x-python",
   "name": "python",
   "nbconvert_exporter": "python",
   "pygments_lexer": "ipython3",
   "version": "3.8.5"
  }
 },
 "nbformat": 4,
 "nbformat_minor": 2
}
