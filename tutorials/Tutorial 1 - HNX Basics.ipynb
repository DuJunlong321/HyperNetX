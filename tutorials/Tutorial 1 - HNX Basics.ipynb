{
 "cells": [
  {
   "cell_type": "raw",
   "metadata": {},
   "source": [
    "# !pip install hypernetx"
   ]
  },
  {
   "cell_type": "code",
   "execution_count": 1,
   "metadata": {},
   "outputs": [],
   "source": [
    "import matplotlib.pyplot as plt\n",
    "import networkx as nx\n",
    "import hypernetx as hnx\n",
    "\n",
    "import warnings\n",
    "warnings.simplefilter(action='ignore', category=FutureWarning)"
   ]
  },
  {
   "cell_type": "markdown",
   "metadata": {},
   "source": [
    "# Data\n",
    "\n",
    "The data in several of our notebooks are taken from the [jean.dat dataset](http://ftp.cs.stanford.edu/pub/sgb/jean.dat) available from the Stanford GraphBase at https://www-cs-faculty.stanford.edu/~knuth/sgb.html. This data gives character scene incidence information from the novel **Les Miserables** by Victor Hugo.\n"
   ]
  },
  {
   "cell_type": "code",
   "execution_count": 2,
   "metadata": {},
   "outputs": [
    {
     "name": "stderr",
     "output_type": "stream",
     "text": [
      "/Users/prag717/Library/CloudStorage/OneDrive-PNNL/Documents/tdm/hnx/hypernetx/classes/entityset.py:433: UserWarning: duplicate cell rows will be dropped after first occurrence\n",
      "  warnings.warn(\n"
     ]
    }
   ],
   "source": [
    "scenes = {\n",
    "    0: ('FN', 'TH'),\n",
    "    1: ('TH', 'JV'),\n",
    "    2: ('BM', 'FN', 'JA'),\n",
    "    3: ('JV', 'JU', 'CH', 'BM'),\n",
    "    4: ('JU', 'CH', 'BR', 'CN', 'CC', 'JV', 'BM'),\n",
    "    5: ('TH', 'GP'),\n",
    "    6: ('GP', 'MP'),\n",
    "    7: ('MA', 'GP')\n",
    "}\n",
    "\n",
    "H = hnx.Hypergraph(scenes)"
   ]
  },
  {
   "cell_type": "markdown",
   "metadata": {},
   "source": [
    "# Draw the hypergraph!\n",
    "For more on using all of the parameters of the draw function, see the Visualization tutorial."
   ]
  },
  {
   "cell_type": "code",
   "execution_count": 3,
   "metadata": {},
   "outputs": [
    {
     "ename": "ValueError",
     "evalue": "The truth value of a DataFrame is ambiguous. Use a.empty, a.bool(), a.item(), a.any() or a.all().",
     "output_type": "error",
     "traceback": [
      "\u001b[0;31m---------------------------------------------------------------------------\u001b[0m",
      "\u001b[0;31mValueError\u001b[0m                                Traceback (most recent call last)",
      "Cell \u001b[0;32mIn[3], line 1\u001b[0m\n\u001b[0;32m----> 1\u001b[0m \u001b[43mhnx\u001b[49m\u001b[38;5;241;43m.\u001b[39;49m\u001b[43mdraw\u001b[49m\u001b[43m(\u001b[49m\u001b[43mH\u001b[49m\u001b[43m)\u001b[49m\n",
      "File \u001b[0;32m~/Library/CloudStorage/OneDrive-PNNL/Documents/tdm/hnx/hypernetx/drawing/rubber_band.py:449\u001b[0m, in \u001b[0;36mdraw\u001b[0;34m(H, pos, with_color, with_node_counts, with_edge_counts, layout, layout_kwargs, ax, node_radius, edges_kwargs, nodes_kwargs, edge_labels, edge_labels_kwargs, node_labels, node_labels_kwargs, with_edge_labels, with_node_labels, label_alpha, return_pos)\u001b[0m\n\u001b[1;32m    446\u001b[0m edges_kwargs\u001b[38;5;241m.\u001b[39msetdefault(\u001b[38;5;124m\"\u001b[39m\u001b[38;5;124medgecolors\u001b[39m\u001b[38;5;124m\"\u001b[39m, plt\u001b[38;5;241m.\u001b[39mcm\u001b[38;5;241m.\u001b[39mtab10(np\u001b[38;5;241m.\u001b[39marange(\u001b[38;5;28mlen\u001b[39m(H\u001b[38;5;241m.\u001b[39medges)) \u001b[38;5;241m%\u001b[39m \u001b[38;5;241m10\u001b[39m))\n\u001b[1;32m    447\u001b[0m edges_kwargs\u001b[38;5;241m.\u001b[39msetdefault(\u001b[38;5;124m\"\u001b[39m\u001b[38;5;124mfacecolors\u001b[39m\u001b[38;5;124m\"\u001b[39m, \u001b[38;5;124m\"\u001b[39m\u001b[38;5;124mnone\u001b[39m\u001b[38;5;124m\"\u001b[39m)\n\u001b[0;32m--> 449\u001b[0m polys \u001b[38;5;241m=\u001b[39m \u001b[43mdraw_hyper_edges\u001b[49m\u001b[43m(\u001b[49m\u001b[43mH\u001b[49m\u001b[43m,\u001b[49m\u001b[43m \u001b[49m\u001b[43mpos\u001b[49m\u001b[43m,\u001b[49m\u001b[43m \u001b[49m\u001b[43mnode_radius\u001b[49m\u001b[38;5;241;43m=\u001b[39;49m\u001b[43mnode_radius\u001b[49m\u001b[43m,\u001b[49m\u001b[43m \u001b[49m\u001b[43max\u001b[49m\u001b[38;5;241;43m=\u001b[39;49m\u001b[43max\u001b[49m\u001b[43m,\u001b[49m\u001b[43m \u001b[49m\u001b[38;5;241;43m*\u001b[39;49m\u001b[38;5;241;43m*\u001b[39;49m\u001b[43medges_kwargs\u001b[49m\u001b[43m)\u001b[49m\n\u001b[1;32m    451\u001b[0m \u001b[38;5;28;01mif\u001b[39;00m with_edge_labels:\n\u001b[1;32m    452\u001b[0m     labels \u001b[38;5;241m=\u001b[39m get_frozenset_label(\n\u001b[1;32m    453\u001b[0m         H\u001b[38;5;241m.\u001b[39medges, count\u001b[38;5;241m=\u001b[39mwith_edge_counts, override\u001b[38;5;241m=\u001b[39medge_labels\n\u001b[1;32m    454\u001b[0m     )\n",
      "File \u001b[0;32m~/Library/CloudStorage/OneDrive-PNNL/Documents/tdm/hnx/hypernetx/drawing/rubber_band.py:221\u001b[0m, in \u001b[0;36mdraw_hyper_edges\u001b[0;34m(H, pos, ax, node_radius, dr, **kwargs)\u001b[0m\n\u001b[1;32m    197\u001b[0m \u001b[38;5;28;01mdef\u001b[39;00m \u001b[38;5;21mdraw_hyper_edges\u001b[39m(H, pos, ax\u001b[38;5;241m=\u001b[39m\u001b[38;5;28;01mNone\u001b[39;00m, node_radius\u001b[38;5;241m=\u001b[39m{}, dr\u001b[38;5;241m=\u001b[39m\u001b[38;5;28;01mNone\u001b[39;00m, \u001b[38;5;241m*\u001b[39m\u001b[38;5;241m*\u001b[39mkwargs):\n\u001b[1;32m    198\u001b[0m \u001b[38;5;250m    \u001b[39m\u001b[38;5;124;03m\"\"\"\u001b[39;00m\n\u001b[1;32m    199\u001b[0m \u001b[38;5;124;03m    Draws a convex hull around the nodes contained within each edge in H\u001b[39;00m\n\u001b[1;32m    200\u001b[0m \n\u001b[0;32m   (...)\u001b[0m\n\u001b[1;32m    219\u001b[0m \u001b[38;5;124;03m        a Matplotlib PolyCollection that can be further styled\u001b[39;00m\n\u001b[1;32m    220\u001b[0m \u001b[38;5;124;03m    \"\"\"\u001b[39;00m\n\u001b[0;32m--> 221\u001b[0m     points \u001b[38;5;241m=\u001b[39m \u001b[43mlayout_hyper_edges\u001b[49m\u001b[43m(\u001b[49m\u001b[43mH\u001b[49m\u001b[43m,\u001b[49m\u001b[43m \u001b[49m\u001b[43mpos\u001b[49m\u001b[43m,\u001b[49m\u001b[43m \u001b[49m\u001b[43mnode_radius\u001b[49m\u001b[38;5;241;43m=\u001b[39;49m\u001b[43mnode_radius\u001b[49m\u001b[43m,\u001b[49m\u001b[43m \u001b[49m\u001b[43mdr\u001b[49m\u001b[38;5;241;43m=\u001b[39;49m\u001b[43mdr\u001b[49m\u001b[43m)\u001b[49m\n\u001b[1;32m    223\u001b[0m     polys \u001b[38;5;241m=\u001b[39m PolyCollection(points, \u001b[38;5;241m*\u001b[39m\u001b[38;5;241m*\u001b[39minflate_kwargs(H\u001b[38;5;241m.\u001b[39medges, kwargs))\n\u001b[1;32m    225\u001b[0m     (ax \u001b[38;5;129;01mor\u001b[39;00m plt\u001b[38;5;241m.\u001b[39mgca())\u001b[38;5;241m.\u001b[39madd_collection(polys)\n",
      "File \u001b[0;32m~/Library/CloudStorage/OneDrive-PNNL/Documents/tdm/hnx/hypernetx/drawing/rubber_band.py:174\u001b[0m, in \u001b[0;36mlayout_hyper_edges\u001b[0;34m(H, pos, node_radius, dr)\u001b[0m\n\u001b[1;32m    168\u001b[0m dr \u001b[38;5;241m=\u001b[39m dr \u001b[38;5;129;01mor\u001b[39;00m r0\n\u001b[1;32m    170\u001b[0m levels \u001b[38;5;241m=\u001b[39m get_set_layering(H)\n\u001b[1;32m    172\u001b[0m radii \u001b[38;5;241m=\u001b[39m {\n\u001b[1;32m    173\u001b[0m     v: {v: i \u001b[38;5;28;01mfor\u001b[39;00m i, v \u001b[38;5;129;01min\u001b[39;00m \u001b[38;5;28menumerate\u001b[39m(\u001b[38;5;28msorted\u001b[39m(e, key\u001b[38;5;241m=\u001b[39mlevels\u001b[38;5;241m.\u001b[39mget))}\n\u001b[0;32m--> 174\u001b[0m     \u001b[38;5;28;01mfor\u001b[39;00m v, e \u001b[38;5;129;01min\u001b[39;00m \u001b[43mH\u001b[49m\u001b[38;5;241;43m.\u001b[39;49m\u001b[43mdual\u001b[49m\u001b[43m(\u001b[49m\u001b[43m)\u001b[49m\u001b[38;5;241m.\u001b[39medges\u001b[38;5;241m.\u001b[39melements\u001b[38;5;241m.\u001b[39mitems()\n\u001b[1;32m    175\u001b[0m }\n\u001b[1;32m    177\u001b[0m \u001b[38;5;28;01mdef\u001b[39;00m \u001b[38;5;21mget_padded_hull\u001b[39m(uid, edge):\n\u001b[1;32m    178\u001b[0m     \u001b[38;5;66;03m# make sure the edge contains at least one node\u001b[39;00m\n\u001b[1;32m    179\u001b[0m     \u001b[38;5;28;01mif\u001b[39;00m \u001b[38;5;28mlen\u001b[39m(edge):\n",
      "File \u001b[0;32m~/Library/CloudStorage/OneDrive-PNNL/Documents/tdm/hnx/hypernetx/classes/hypergraph.py:1244\u001b[0m, in \u001b[0;36mHypergraph.dual\u001b[0;34m(self, name)\u001b[0m\n\u001b[1;32m   1240\u001b[0m df \u001b[38;5;241m=\u001b[39m pd\u001b[38;5;241m.\u001b[39mDataFrame(\u001b[38;5;28mself\u001b[39m\u001b[38;5;241m.\u001b[39mdataframe)\n\u001b[1;32m   1241\u001b[0m df \u001b[38;5;241m=\u001b[39m df[[df\u001b[38;5;241m.\u001b[39mcolumns[\u001b[38;5;241m1\u001b[39m], df\u001b[38;5;241m.\u001b[39mcolumns[\u001b[38;5;241m0\u001b[39m]] \u001b[38;5;241m+\u001b[39m \u001b[38;5;28mlist\u001b[39m(df\u001b[38;5;241m.\u001b[39mcolumns[\u001b[38;5;241m2\u001b[39m:])]\u001b[38;5;241m.\u001b[39mrename(\n\u001b[1;32m   1242\u001b[0m     columns\u001b[38;5;241m=\u001b[39m{\u001b[38;5;241m1\u001b[39m: \u001b[38;5;241m0\u001b[39m, \u001b[38;5;241m0\u001b[39m: \u001b[38;5;241m1\u001b[39m}\n\u001b[1;32m   1243\u001b[0m )\n\u001b[0;32m-> 1244\u001b[0m \u001b[38;5;28;01mreturn\u001b[39;00m \u001b[43mHypergraph\u001b[49m\u001b[43m(\u001b[49m\u001b[43mdf\u001b[49m\u001b[43m,\u001b[49m\u001b[43m \u001b[49m\u001b[43mproperties\u001b[49m\u001b[38;5;241;43m=\u001b[39;49m\u001b[43mdfp\u001b[49m\u001b[43m,\u001b[49m\u001b[43m \u001b[49m\u001b[43mname\u001b[49m\u001b[38;5;241;43m=\u001b[39;49m\u001b[43mname\u001b[49m\u001b[43m)\u001b[49m\n",
      "File \u001b[0;32m~/Library/CloudStorage/OneDrive-PNNL/Documents/tdm/hnx/hypernetx/utils/decorators.py:89\u001b[0m, in \u001b[0;36mwarn_nwhy.<locals>.wrapper\u001b[0;34m(*args, **kwargs)\u001b[0m\n\u001b[1;32m     86\u001b[0m     warnings\u001b[38;5;241m.\u001b[39mwarn(NWHY_WARNING, \u001b[38;5;167;01mFutureWarning\u001b[39;00m, stacklevel\u001b[38;5;241m=\u001b[39m\u001b[38;5;241m2\u001b[39m)\n\u001b[1;32m     87\u001b[0m     warnings\u001b[38;5;241m.\u001b[39msimplefilter(\u001b[38;5;124m\"\u001b[39m\u001b[38;5;124mdefault\u001b[39m\u001b[38;5;124m\"\u001b[39m, \u001b[38;5;167;01mFutureWarning\u001b[39;00m)\n\u001b[0;32m---> 89\u001b[0m \u001b[38;5;28;01mreturn\u001b[39;00m \u001b[43mfunc\u001b[49m\u001b[43m(\u001b[49m\u001b[38;5;241;43m*\u001b[39;49m\u001b[43margs\u001b[49m\u001b[43m,\u001b[49m\u001b[43m \u001b[49m\u001b[38;5;241;43m*\u001b[39;49m\u001b[38;5;241;43m*\u001b[39;49m\u001b[43mkwargs\u001b[49m\u001b[43m)\u001b[49m\n",
      "File \u001b[0;32m~/Library/CloudStorage/OneDrive-PNNL/Documents/tdm/hnx/hypernetx/classes/hypergraph.py:295\u001b[0m, in \u001b[0;36mHypergraph.__init__\u001b[0;34m(self, setsystem, edge_col, node_col, cell_weight_col, cell_weights, cell_properties, misc_cell_properties, aggregateby, edge_properties, node_properties, properties, misc_properties, edge_weight_prop, node_weight_prop, weight_prop, default_edge_weight, default_node_weight, default_weight, name, **kwargs)\u001b[0m\n\u001b[1;32m    292\u001b[0m     cell_weights_col \u001b[38;5;241m=\u001b[39m \u001b[38;5;124m'\u001b[39m\u001b[38;5;124mcell_weights\u001b[39m\u001b[38;5;124m'\u001b[39m\n\u001b[1;32m    294\u001b[0m \u001b[38;5;28;01melif\u001b[39;00m \u001b[38;5;28misinstance\u001b[39m(setsystem, Iterable):\n\u001b[0;32m--> 295\u001b[0m     entity \u001b[38;5;241m=\u001b[39m \u001b[43mpd\u001b[49m\u001b[38;5;241;43m.\u001b[39;49m\u001b[43mSeries\u001b[49m\u001b[43m(\u001b[49m\u001b[43msetsystem\u001b[49m\u001b[43m)\u001b[49m\u001b[38;5;241m.\u001b[39mexplode()\n\u001b[1;32m    296\u001b[0m     entity \u001b[38;5;241m=\u001b[39m pd\u001b[38;5;241m.\u001b[39mDataFrame(\n\u001b[1;32m    297\u001b[0m         {edge_col: entity\u001b[38;5;241m.\u001b[39mindex\u001b[38;5;241m.\u001b[39mto_list(), node_col: entity\u001b[38;5;241m.\u001b[39mvalues}\n\u001b[1;32m    298\u001b[0m     )\n\u001b[1;32m    299\u001b[0m     entity[cell_weight_col] \u001b[38;5;241m=\u001b[39m cell_weights\n",
      "File \u001b[0;32m~/opt/anaconda3/envs/hnxdev/lib/python3.8/site-packages/pandas/core/series.py:386\u001b[0m, in \u001b[0;36mSeries.__init__\u001b[0;34m(self, data, index, dtype, name, copy, fastpath)\u001b[0m\n\u001b[1;32m    382\u001b[0m \u001b[38;5;28;01melse\u001b[39;00m:\n\u001b[1;32m    384\u001b[0m     name \u001b[38;5;241m=\u001b[39m ibase\u001b[38;5;241m.\u001b[39mmaybe_extract_name(name, data, \u001b[38;5;28mtype\u001b[39m(\u001b[38;5;28mself\u001b[39m))\n\u001b[0;32m--> 386\u001b[0m     \u001b[38;5;28;01mif\u001b[39;00m \u001b[43mis_empty_data\u001b[49m\u001b[43m(\u001b[49m\u001b[43mdata\u001b[49m\u001b[43m)\u001b[49m \u001b[38;5;129;01mand\u001b[39;00m dtype \u001b[38;5;129;01mis\u001b[39;00m \u001b[38;5;28;01mNone\u001b[39;00m:\n\u001b[1;32m    387\u001b[0m         \u001b[38;5;66;03m# gh-17261\u001b[39;00m\n\u001b[1;32m    388\u001b[0m         warnings\u001b[38;5;241m.\u001b[39mwarn(\n\u001b[1;32m    389\u001b[0m             \u001b[38;5;124m\"\u001b[39m\u001b[38;5;124mThe default dtype for empty Series will be \u001b[39m\u001b[38;5;124m'\u001b[39m\u001b[38;5;124mobject\u001b[39m\u001b[38;5;124m'\u001b[39m\u001b[38;5;124m instead \u001b[39m\u001b[38;5;124m\"\u001b[39m\n\u001b[1;32m    390\u001b[0m             \u001b[38;5;124m\"\u001b[39m\u001b[38;5;124mof \u001b[39m\u001b[38;5;124m'\u001b[39m\u001b[38;5;124mfloat64\u001b[39m\u001b[38;5;124m'\u001b[39m\u001b[38;5;124m in a future version. Specify a dtype explicitly \u001b[39m\u001b[38;5;124m\"\u001b[39m\n\u001b[0;32m   (...)\u001b[0m\n\u001b[1;32m    393\u001b[0m             stacklevel\u001b[38;5;241m=\u001b[39mfind_stack_level(),\n\u001b[1;32m    394\u001b[0m         )\n\u001b[1;32m    395\u001b[0m         \u001b[38;5;66;03m# uncomment the line below when removing the FutureWarning\u001b[39;00m\n\u001b[1;32m    396\u001b[0m         \u001b[38;5;66;03m# dtype = np.dtype(object)\u001b[39;00m\n",
      "File \u001b[0;32m~/opt/anaconda3/envs/hnxdev/lib/python3.8/site-packages/pandas/core/construction.py:877\u001b[0m, in \u001b[0;36mis_empty_data\u001b[0;34m(data)\u001b[0m\n\u001b[1;32m    875\u001b[0m is_none \u001b[38;5;241m=\u001b[39m data \u001b[38;5;129;01mis\u001b[39;00m \u001b[38;5;28;01mNone\u001b[39;00m\n\u001b[1;32m    876\u001b[0m is_list_like_without_dtype \u001b[38;5;241m=\u001b[39m is_list_like(data) \u001b[38;5;129;01mand\u001b[39;00m \u001b[38;5;129;01mnot\u001b[39;00m \u001b[38;5;28mhasattr\u001b[39m(data, \u001b[38;5;124m\"\u001b[39m\u001b[38;5;124mdtype\u001b[39m\u001b[38;5;124m\"\u001b[39m)\n\u001b[0;32m--> 877\u001b[0m is_simple_empty \u001b[38;5;241m=\u001b[39m is_list_like_without_dtype \u001b[38;5;129;01mand\u001b[39;00m \u001b[38;5;129;43;01mnot\u001b[39;49;00m\u001b[43m \u001b[49m\u001b[43mdata\u001b[49m\n\u001b[1;32m    878\u001b[0m \u001b[38;5;28;01mreturn\u001b[39;00m is_none \u001b[38;5;129;01mor\u001b[39;00m is_simple_empty\n",
      "File \u001b[0;32m~/opt/anaconda3/envs/hnxdev/lib/python3.8/site-packages/pandas/core/generic.py:1527\u001b[0m, in \u001b[0;36mNDFrame.__nonzero__\u001b[0;34m(self)\u001b[0m\n\u001b[1;32m   1525\u001b[0m \u001b[38;5;129m@final\u001b[39m\n\u001b[1;32m   1526\u001b[0m \u001b[38;5;28;01mdef\u001b[39;00m \u001b[38;5;21m__nonzero__\u001b[39m(\u001b[38;5;28mself\u001b[39m) \u001b[38;5;241m-\u001b[39m\u001b[38;5;241m>\u001b[39m NoReturn:\n\u001b[0;32m-> 1527\u001b[0m     \u001b[38;5;28;01mraise\u001b[39;00m \u001b[38;5;167;01mValueError\u001b[39;00m(\n\u001b[1;32m   1528\u001b[0m         \u001b[38;5;124mf\u001b[39m\u001b[38;5;124m\"\u001b[39m\u001b[38;5;124mThe truth value of a \u001b[39m\u001b[38;5;132;01m{\u001b[39;00m\u001b[38;5;28mtype\u001b[39m(\u001b[38;5;28mself\u001b[39m)\u001b[38;5;241m.\u001b[39m\u001b[38;5;18m__name__\u001b[39m\u001b[38;5;132;01m}\u001b[39;00m\u001b[38;5;124m is ambiguous. \u001b[39m\u001b[38;5;124m\"\u001b[39m\n\u001b[1;32m   1529\u001b[0m         \u001b[38;5;124m\"\u001b[39m\u001b[38;5;124mUse a.empty, a.bool(), a.item(), a.any() or a.all().\u001b[39m\u001b[38;5;124m\"\u001b[39m\n\u001b[1;32m   1530\u001b[0m     )\n",
      "\u001b[0;31mValueError\u001b[0m: The truth value of a DataFrame is ambiguous. Use a.empty, a.bool(), a.item(), a.any() or a.all()."
     ]
    },
    {
     "data": {
      "image/png": "[encoded data removed]",
      "text/plain": [
       "<Figure size 800x800 with 1 Axes>"
      ]
     },
     "metadata": {},
     "output_type": "display_data"
    }
   ],
   "source": [
    "hnx.draw(H)"
   ]
  },
  {
   "cell_type": "markdown",
   "metadata": {},
   "source": [
    "HNX hypergraphs can also be built from networkx bipartite graph objects using `from_bipartite`"
   ]
  },
  {
   "cell_type": "code",
   "execution_count": null,
   "metadata": {},
   "outputs": [],
   "source": [
    "B = nx.Graph()\n",
    "B.add_nodes_from([1, 2, 3, 4], bipartite=0)\n",
    "B.add_nodes_from(['a', 'b', 'c'], bipartite=1)\n",
    "# Add edges only between nodes of opposite node sets\n",
    "B.add_edges_from([(1, 'a'), (1, 'b'),(2, 'a'), (2, 'b'), (2, 'c'), (3, 'c'), (4, 'a')])\n",
    "\n",
    "HB = hnx.Hypergraph.from_bipartite(B)\n"
   ]
  },
  {
   "cell_type": "code",
   "execution_count": null,
   "metadata": {},
   "outputs": [],
   "source": [
    "hnx.draw(HB)"
   ]
  },
  {
   "cell_type": "markdown",
   "metadata": {},
   "source": [
    "All hypergraphs have a natural dual structure where the edges and nodes switch roles. Edges become nodes and nodes become edges. This can be constructed by calling the `dual` method for a given hypergraph."
   ]
  },
  {
   "cell_type": "code",
   "execution_count": null,
   "metadata": {},
   "outputs": [],
   "source": [
    "HD = H.dual()\n",
    "hnx.draw(HD)"
   ]
  },
  {
   "cell_type": "markdown",
   "metadata": {},
   "source": [
    "# Hypergraph methods\n",
    "There are many simple methods to begin to familiarize yourself with the hypergraph."
   ]
  },
  {
   "cell_type": "code",
   "execution_count": null,
   "metadata": {},
   "outputs": [],
   "source": [
    "# See the nodes as Entities within an EntitySet object\n",
    "\n",
    "H.nodes"
   ]
  },
  {
   "cell_type": "code",
   "execution_count": null,
   "metadata": {},
   "outputs": [],
   "source": [
    "# Use list() to get just the names of the nodes\n",
    "\n",
    "list(H.nodes)"
   ]
  },
  {
   "cell_type": "code",
   "execution_count": null,
   "metadata": {},
   "outputs": [],
   "source": [
    "# Similarly for edges\n",
    "\n",
    "H.edges"
   ]
  },
  {
   "cell_type": "code",
   "execution_count": null,
   "metadata": {},
   "outputs": [],
   "source": [
    "list(H.edges)"
   ]
  },
  {
   "cell_type": "code",
   "execution_count": null,
   "metadata": {},
   "outputs": [],
   "source": [
    "# The number of nodes and edges is returned by the shape property\n",
    "\n",
    "H.shape"
   ]
  },
  {
   "cell_type": "markdown",
   "metadata": {},
   "source": [
    "Below is a drawing of the hypergraph to help visualize and confirm some of the outputs from the previous methods:\n",
    "\n",
    "<img src='images/tutorial_1_hypergraph.png' width='500px' style=\"float:left;margin-right:10pt\"></img>"
   ]
  },
  {
   "cell_type": "markdown",
   "metadata": {},
   "source": [
    "The degree of a node is the number of edges it is contained within. The optional `s` parameter places a restriction on the size of the edges you consider (default `s=1`). The degree function looks for all edges of size $\\geq s$.\n",
    "\n",
    "Note: `H.s_degree(node)` is a wrapper for the degree method and returns the same thing."
   ]
  },
  {
   "cell_type": "code",
   "execution_count": null,
   "metadata": {},
   "outputs": [],
   "source": [
    "H.degree('JV', s=1)"
   ]
  },
  {
   "cell_type": "markdown",
   "metadata": {},
   "source": [
    "The `dim` (dimension) and `size` methods return information about an edge. The size is the number of nodes contained in an edge and the dimension is one less than the size. The dimension is so named because if we consider a hypergraph as a [simplicial complex](https://en.wikipedia.org/wiki/Simplicial_complex), then each edge is a simplex. The dimension of a simplex is one less than its number of nodes."
   ]
  },
  {
   "cell_type": "code",
   "execution_count": null,
   "metadata": {},
   "outputs": [],
   "source": []
  },
  {
   "cell_type": "code",
   "execution_count": null,
   "metadata": {},
   "outputs": [],
   "source": [
    "H.dim(3), H.size(3)"
   ]
  },
  {
   "cell_type": "markdown",
   "metadata": {},
   "source": [
    "Notice that the hypergraph drawing confirms the outputs for node 'JV' and edge '3'.\n",
    "\n",
    "<img src='images/tutorial_1_hypergraph.png' width='500px' style=\"float:left;margin-left:10pt\"></img>"
   ]
  },
  {
   "cell_type": "markdown",
   "metadata": {},
   "source": [
    "The `neighbors` method returns an iterator that goes through all nodes which share an edge with the given node."
   ]
  },
  {
   "cell_type": "code",
   "execution_count": null,
   "metadata": {},
   "outputs": [],
   "source": [
    "for nei in H.neighbors('JV'):\n",
    "    print(nei)\n",
    "    \n",
    "# As with any iterator you can get all of the values in a list\n",
    "list(H.neighbors('JV'))"
   ]
  },
  {
   "cell_type": "markdown",
   "metadata": {},
   "source": [
    "# Hypergraph representations\n",
    "There are different ways representing the data contained within the hypergraph. `H.incidence_dict` returns a dictionary whereas `H.incidence_matrix()` returns a scipy sparse matrix in Compressed Sparse Row format. `H.bipartite()` returns a networkx bipartite `Graph()` object."
   ]
  },
  {
   "cell_type": "code",
   "execution_count": null,
   "metadata": {},
   "outputs": [],
   "source": [
    "H.incidence_dict"
   ]
  },
  {
   "cell_type": "code",
   "execution_count": null,
   "metadata": {},
   "outputs": [],
   "source": [
    "M_incidence = H.incidence_matrix()\n",
    "M_incidence.toarray()"
   ]
  },
  {
   "cell_type": "code",
   "execution_count": null,
   "metadata": {},
   "outputs": [],
   "source": [
    "## Networkx and HyperNetX visualizations of the bipartite representation of the hypergraph\n",
    "fig,ax = plt.subplots(1,2,figsize=(15,8))\n",
    "BH = H.bipartite()\n",
    "top = nx.bipartite.sets(BH)[0]\n",
    "pos = nx.bipartite_layout(BH, top)\n",
    "nx.draw(BH, with_labels=True,pos=pos,ax=ax[0])\n",
    "hnx.drawing.two_column.draw(H,ax=ax[1])"
   ]
  },
  {
   "cell_type": "markdown",
   "metadata": {},
   "source": [
    "# Connected components\n",
    "Just as is done in graphs, we can consider connected components of a hypergraph. But because edges can intersect in any number of nodes, the connected components can be computed for different levels of connection strength. HNX has two main methods for exploring the components:\n",
    "* `s_components`\n",
    "* `s_component_subgraphs`.\n",
    "\n",
    "To learn more about some of our research in this area,  check out our paper, [Hypernetwork science via high order hypergraph walks](https://epjdatascience.springeropen.com/articles/10.1140/epjds/s13688-020-00231-0\")\n",
    "\n",
    "`s_components` returns a generator object which iterates through the edge sets for each s-connected component.  "
   ]
  },
  {
   "cell_type": "code",
   "execution_count": null,
   "metadata": {},
   "outputs": [],
   "source": [
    "print('1-component edge sets:')\n",
    "for comp in H.s_components(s=1):\n",
    "    print(comp)\n",
    "\n",
    "print('\\n2-component edge sets:')\n",
    "for comp in H.s_components(s=2):\n",
    "    print(comp)\n",
    "    "
   ]
  },
  {
   "cell_type": "markdown",
   "metadata": {},
   "source": [
    "`s_component_subgraphs` returns a generator object which iterates through the sub-hypergraph for each s-connected component.  "
   ]
  },
  {
   "cell_type": "code",
   "execution_count": null,
   "metadata": {},
   "outputs": [],
   "source": [
    "print('1-component sub-hypergraph incidence dictionaries:')\n",
    "for comp in H.s_component_subgraphs(s=1):\n",
    "    print(comp.incidence_dict)\n",
    "\n",
    "print('\\n2-component sub-hypergraph incidence dictionaries:')\n",
    "for comp in H.s_component_subgraphs(s=2):\n",
    "    print(comp.incidence_dict)\n",
    "    "
   ]
  },
  {
   "cell_type": "markdown",
   "metadata": {},
   "source": [
    "The methods `component_subgraphs` and `connected_component_subgraphs` are wrappers for `s_component_subgraphs`. The methods `components` and `connected_components` are wrappers for `s_connected_components`.\n",
    "\n",
    "The `is_connected` method with optional parameter `s` (default `s=1`) returns `True` or `False` depending on whether the hypergraph is s-connected."
   ]
  },
  {
   "cell_type": "code",
   "execution_count": null,
   "metadata": {},
   "outputs": [],
   "source": [
    "# The Les Mis example hypergraph is 1-connected but not 2-connected\n",
    "\n",
    "H.is_connected(s=1), H.is_connected(s=2)"
   ]
  },
  {
   "cell_type": "markdown",
   "metadata": {},
   "source": [
    "# Adjacency matrices\n",
    "In order to compute s-connected components, we use a helper auxiliary matrix: the s-adjacency matrix of the edges of size >= s. Two edges are considered s-adjacent if they intersect in at least s nodes. This is computed using `auxillary_matrix`. The output is a scipy compressed sparse row matrix.\n",
    "\n",
    "**Note**: At present these matrices are unweighted, we will introduce weighting in a near future release."
   ]
  },
  {
   "cell_type": "code",
   "execution_count": null,
   "metadata": {},
   "outputs": [],
   "source": [
    "M_aux1 = H.auxiliary_matrix(s=1)\n",
    "M_aux1.toarray()"
   ]
  },
  {
   "cell_type": "code",
   "execution_count": null,
   "metadata": {},
   "outputs": [],
   "source": [
    "M_aux3 = H.auxiliary_matrix(s=3)\n",
    "M_aux3.toarray()"
   ]
  },
  {
   "cell_type": "markdown",
   "metadata": {},
   "source": [
    "There are two helper functions: `adjacency_matrix` and `edge_adjacency_matrix`. The former is the s-adjacency matrix of all nodes where two nodes are considered s-adjacent if they are in s edges together. The output is a scipy compressed sparse row matrix."
   ]
  },
  {
   "cell_type": "code",
   "execution_count": null,
   "metadata": {},
   "outputs": [],
   "source": [
    "M_adj = H.adjacency_matrix(s=1)\n",
    "M_adj.toarray()"
   ]
  },
  {
   "cell_type": "markdown",
   "metadata": {},
   "source": [
    "`edge_adjacency_matrix` is the same as the auxiliary matrix but for all edges (not just those of size >= s). The output is a scipy compressed sparse row matrix."
   ]
  },
  {
   "cell_type": "code",
   "execution_count": null,
   "metadata": {},
   "outputs": [],
   "source": [
    "M_eadj = H.edge_adjacency_matrix(s=1)\n",
    "M_eadj.toarray()"
   ]
  },
  {
   "cell_type": "markdown",
   "metadata": {},
   "source": [
    "# Distances and diameters\n",
    "Just as connected components of graphs can be generalized to s-connected components in hypergraphs, the distance and diameter can be generalized to s-distance and s-diameter in hypergraphs.\n",
    "\n",
    "We can compute s-distance between edges using `edge_distance` and between nodes using `distance`. See the glossary in the documentation for detailed definitions of distance between edges and between nodes."
   ]
  },
  {
   "cell_type": "code",
   "execution_count": null,
   "metadata": {},
   "outputs": [],
   "source": [
    "# Optional parameter s is not shown, defaults to s=1\n",
    "\n",
    "H.distance('MA', 'FN')"
   ]
  },
  {
   "cell_type": "code",
   "execution_count": null,
   "metadata": {},
   "outputs": [],
   "source": [
    "# Optional parameter s is not shown, defaults to s=1\n",
    "\n",
    "H.edge_distance(4, 6)"
   ]
  },
  {
   "cell_type": "markdown",
   "metadata": {},
   "source": [
    "Below is a drawing of the hypergraph to help confirm the outputs:\n",
    "\n",
    "<img src='images/tutorial_1_hypergraph.png' width='500px' style=\"float:left;margin-right:10pt\"></img>"
   ]
  },
  {
   "cell_type": "markdown",
   "metadata": {},
   "source": [
    "If the edges or nodes are not $s$-connected then the $s$-distance displays a warning and returns `inf`."
   ]
  },
  {
   "cell_type": "code",
   "execution_count": null,
   "metadata": {},
   "outputs": [],
   "source": [
    "H.edge_distance(4, 6, s=2)"
   ]
  },
  {
   "cell_type": "markdown",
   "metadata": {},
   "source": [
    "The $s$-diameter (`diameter`) is the longest distance between any two nodes and the $s$-edge diameter (`edge_diameter`) is the longest distance between any two edges."
   ]
  },
  {
   "cell_type": "code",
   "execution_count": null,
   "metadata": {},
   "outputs": [],
   "source": [
    "# Optional parameter s is not shown, default is s=1\n",
    "\n",
    "H.diameter(), H.edge_diameter()"
   ]
  },
  {
   "cell_type": "markdown",
   "metadata": {},
   "source": [
    "Below is a drawing of the hypergraph to help confirm the outputs:\n",
    "\n",
    "<img src='images/tutorial_1_hypergraph.png' width='500px' style=\"float:left;margin-right:10pt\"></img>"
   ]
  },
  {
   "cell_type": "markdown",
   "metadata": {},
   "source": [
    "If the hypergraph is not $s$-connected then the diameter methods throw a `HyperNetXError`."
   ]
  },
  {
   "cell_type": "code",
   "execution_count": null,
   "metadata": {},
   "outputs": [],
   "source": [
    "# ## Uncomment this cell to test the error message\n",
    "# H.diameter(s=2)"
   ]
  },
  {
   "cell_type": "markdown",
   "metadata": {},
   "source": [
    "If your hypergraph is not s-connected but you want to explore the s-diameters of all of the s-connected components (edge or node), use `node_diameters` and `edge_diameters`. These methods return a tuple where the first element is the maximum diameter over all s-components, the second element is the list of all s-diameters, and the third is the list of the s-components (edges or nodes)."
   ]
  },
  {
   "cell_type": "code",
   "execution_count": null,
   "metadata": {},
   "outputs": [],
   "source": [
    "H.node_diameters(s=2)"
   ]
  },
  {
   "cell_type": "code",
   "execution_count": null,
   "metadata": {},
   "outputs": [],
   "source": [
    "H.edge_diameters(s=2)"
   ]
  },
  {
   "cell_type": "markdown",
   "metadata": {},
   "source": [
    "# Collapsing nodes and edges\n",
    "Sometimes a set of nodes are in the exact same set of edges, or more than one edge encloses the exact same set of nodes. We call these duplicate nodes and duplicate edges. They can be collapsed to a single representative using `collapse_nodes`, `collapse_edges`, and `collapse_nodes_and_edges`.\n",
    "\n",
    "There are some parameters that can be used:\n",
    "* use_reps = True/False : default is False and each \"supernode\" is represented by a frozenset of the nodes which it represents. If use_reps=True then a single representative will be chosen from those sets.\n",
    "* return_counts = True/False : default is True and it keeps the counts of the nodes within each supernode. However, this only works when use_reps=True because if use_reps=False then the counts are just the sizes of the frozensets.\n",
    "\n",
    "Keeping the default parameters and running the function with no arguments works best with the draw method."
   ]
  },
  {
   "cell_type": "code",
   "execution_count": null,
   "metadata": {},
   "outputs": [],
   "source": [
    "H_node_collapse = H.collapse_nodes()\n",
    "H_node_collapse.incidence_dict"
   ]
  },
  {
   "cell_type": "markdown",
   "metadata": {},
   "source": [
    "Running the draw function on a collapsed hypergraph will show the supernodes as larger, depending on how many nodes each represents."
   ]
  },
  {
   "cell_type": "code",
   "execution_count": null,
   "metadata": {},
   "outputs": [],
   "source": [
    "hnx.draw(H_node_collapse)"
   ]
  },
  {
   "cell_type": "code",
   "execution_count": null,
   "metadata": {},
   "outputs": [],
   "source": [
    "# There are no duplicate edges in H, but there are in the dual of H\n",
    "\n",
    "HD_edge_collapse = HD.collapse_edges()"
   ]
  },
  {
   "cell_type": "code",
   "execution_count": null,
   "metadata": {},
   "outputs": [],
   "source": [
    "hnx.draw(HD_edge_collapse, with_edge_counts=True)"
   ]
  },
  {
   "cell_type": "markdown",
   "metadata": {},
   "source": [
    "`collapse_nodes_and_edges` simply runs both of the above collapsing commands."
   ]
  },
  {
   "cell_type": "markdown",
   "metadata": {},
   "source": [
    "# Updating the Hypergraph\n",
    "You can add and remove edges from an existing hypergraph."
   ]
  },
  {
   "cell_type": "markdown",
   "metadata": {},
   "source": [
    "Recall the current state of our hypergraph:"
   ]
  },
  {
   "cell_type": "code",
   "execution_count": null,
   "metadata": {},
   "outputs": [],
   "source": [
    "hnx.draw(H)"
   ]
  },
  {
   "cell_type": "code",
   "execution_count": null,
   "metadata": {},
   "outputs": [],
   "source": [
    "edge1 = {\"new1\": ['JV', 'MA']}\n",
    "edge2 = {\"new2\": ['GP', 'MA']}\n",
    "edge3 = {\"new3\": ['FN', 'JV']}\n",
    "\n",
    "# add a single edge\n",
    "H.add_edge(edge1)\n",
    "\n",
    "# add edges from a list of edges\n",
    "H.add_edges_from([edge2, edge3])\n",
    "\n",
    "# display the incidence dictionary with new edges now added\n",
    "H.incidence_dict"
   ]
  },
  {
   "cell_type": "code",
   "execution_count": null,
   "metadata": {},
   "outputs": [],
   "source": [
    "hnx.draw(H)"
   ]
  },
  {
   "cell_type": "code",
   "execution_count": null,
   "metadata": {},
   "outputs": [],
   "source": [
    "H.remove_edge('new3')\n",
    "H.remove_edges(['new1', 'new2'])\n",
    "H.incidence_dict"
   ]
  },
  {
   "cell_type": "code",
   "execution_count": null,
   "metadata": {},
   "outputs": [],
   "source": [
    "hnx.draw(H)"
   ]
  },
  {
   "cell_type": "markdown",
   "metadata": {},
   "source": [
    "You can also add nodes to already existing edges."
   ]
  },
  {
   "cell_type": "code",
   "execution_count": null,
   "metadata": {},
   "outputs": [],
   "source": [
    "H.add_node_to_edge('SantaClaus', 7)\n",
    "H.incidence_dict"
   ]
  },
  {
   "cell_type": "code",
   "execution_count": null,
   "metadata": {},
   "outputs": [],
   "source": [
    "hnx.draw(H)"
   ]
  },
  {
   "cell_type": "code",
   "execution_count": null,
   "metadata": {},
   "outputs": [],
   "source": [
    "H.remove_node('SantaClaus')"
   ]
  },
  {
   "cell_type": "code",
   "execution_count": null,
   "metadata": {},
   "outputs": [],
   "source": [
    "hnx.draw(H)"
   ]
  },
  {
   "cell_type": "markdown",
   "metadata": {},
   "source": [
    "# Building sub-hypergraphs\n",
    "There are two methods that can be used to look at different kinds of sub-hypergraphs: `restrict_to_nodes` and `restrict_to_edges`. The method, `restrict_to_nodes`, builds a sub-hypergraph from a specific subset of nodes and all edges that they are included in. The method, `restict_to_edges`, builds a sub-hypergraph from a subset of edges and all nodes contained in the edges."
   ]
  },
  {
   "cell_type": "code",
   "execution_count": null,
   "metadata": {},
   "outputs": [],
   "source": [
    "H_restrict_nodes = H.restrict_to_nodes(['JA', 'FN', 'JV', 'MA', 'BM', 'TH'])\n",
    "hnx.draw(H_restrict_nodes)"
   ]
  },
  {
   "cell_type": "markdown",
   "metadata": {},
   "source": [
    "Notice that edges in these node-restricted subgraphs may be smaller than the edges in the original hypergraph. For example, in the original hypergraph `H` (see previous drawing above this drawing), edge 3 contains BM, CH, JU, and JV; however, the sub-hypergraph above only contains BM and JV because CH and JU were not in our node set of restricted nodes."
   ]
  },
  {
   "cell_type": "code",
   "execution_count": null,
   "metadata": {},
   "outputs": [],
   "source": [
    "H_restrict_nodes.incidence_dict"
   ]
  },
  {
   "cell_type": "code",
   "execution_count": null,
   "metadata": {},
   "outputs": [],
   "source": [
    "H_restrict_edges = H.restrict_to_edges([0, 1, 2, 3])\n",
    "hnx.draw(H_restrict_edges)"
   ]
  },
  {
   "cell_type": "markdown",
   "metadata": {},
   "source": [
    "Another way to get a sub-hypergraph is to remove \"uninteresting\" components. This may be different depending on what you are using as your data set to build a hypergraph. But one simple and almost universally uninteresting component is an \"isolated singleton\". These are edges of size 1 which are not duplicated. They can be removed from a hypergraph using `remove_singletons`."
   ]
  },
  {
   "cell_type": "code",
   "execution_count": null,
   "metadata": {},
   "outputs": [],
   "source": [
    "H_restrict_nodes_no_singletons = H_restrict_nodes.remove_singletons()\n",
    "hnx.draw(H_restrict_nodes_no_singletons)"
   ]
  },
  {
   "cell_type": "markdown",
   "metadata": {},
   "source": [
    "If the isolated singletons are actually interesting to you then you can use the `singletons` method to find them. This returns a list of isolated singleton edges."
   ]
  },
  {
   "cell_type": "code",
   "execution_count": null,
   "metadata": {},
   "outputs": [],
   "source": [
    "H_restrict_nodes.singletons()"
   ]
  },
  {
   "cell_type": "markdown",
   "metadata": {},
   "source": [
    "Finally, sometimes we care only about top level hyperedges that are not contained in any other hyperedge, although they may intersect others. These top level hyperedges are called \"toplexes\" and can be found using the `toplexes` method, which returns a new hypergraph consisting only of the toplex hyperedges."
   ]
  },
  {
   "cell_type": "markdown",
   "metadata": {},
   "source": [
    "Notice that the original hypergraph (the Les Mis data set) only has one non-toplex: edge 3.\n",
    "\n",
    "<img src='images/tutorial_1_hypergraph.png' width='500px' style=\"float:left;margin-right:10pt\"></img>"
   ]
  },
  {
   "cell_type": "markdown",
   "metadata": {},
   "source": [
    "The `toplexes` method will return a hypergraph composed of all the edges except for the non-toplex edge 3."
   ]
  },
  {
   "cell_type": "raw",
   "metadata": {},
   "source": [
    "H_top = H.toplexes()\n",
    "hnx.draw(H_top)"
   ]
  }
 ],
 "metadata": {
  "kernelspec": {
   "display_name": "Python 3 (ipykernel)",
   "language": "python",
   "name": "python3"
  },
  "language_info": {
   "codemirror_mode": {
    "name": "ipython",
    "version": 3
   },
   "file_extension": ".py",
   "mimetype": "text/x-python",
   "name": "python",
   "nbconvert_exporter": "python",
   "pygments_lexer": "ipython3",
   "version": "3.8.16"
  }
 },
 "nbformat": 4,
 "nbformat_minor": 2
}
