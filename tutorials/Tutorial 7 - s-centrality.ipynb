{
 "cells": [
  {
   "cell_type": "code",
   "execution_count": null,
   "metadata": {},
   "outputs": [],
   "source": [
    "# !pip install hypernetx\n",
    "# !pip install networkx"
   ]
  },
  {
   "cell_type": "code",
   "execution_count": null,
   "metadata": {},
   "outputs": [],
   "source": [
    "import hypernetx as hnx\n",
    "import networkx as nx\n",
    "import numpy as np\n",
    "import matplotlib.pyplot as plt\n",
    "import warnings\n",
    "import warnings\n",
    "warnings.filterwarnings('ignore')"
   ]
  },
  {
   "cell_type": "markdown",
   "metadata": {},
   "source": [
    "## s-centrality metrics\n",
    "\n",
    "<img src=\"images/s-width.png\" width=\"500\" align=\"left\" style=\"margin-right:10px\">\n",
    "\n",
    "Hypergraph metrics generalize traditional graph metrics by including parameters for edge size and edge intersection size. In the figure there are two hypergraphs. Each illustrates an edge path of length 2, connecting Blue, Orange, and Green. The path in hypergraph I. has *width* 1, while the path in hypergraph II. has *width* 3. The width of an edge path is the size of the smallest intersection.\n",
    "\n",
    "While graphs use shortest paths to define a distance metric, hypergraphs can stipulate a width parameter **s** to the shortest path. The edge s-distance between two edges is the shortest path of width **s** between the edges. The s-distance between two nodes has an analogous definition replacing the size of edge intersection with the number of shared edges between consecutive nodes. Because the intuition around edge s-distance seems more natural than node distance we will refer to s-distance in terms of edges unless stated otherwise and use the dual of the hypergraph when considering the s-distance between nodes.\n",
    "\n",
    "For a detailed exposition of s-distance metrics and hypergraph walks in general see: Aksoy, S.G., Joslyn, C., Ortiz Marrero, C. et al. Hypernetwork science via high-order hypergraph walks. EPJ Data Sci. 9, 16 (2020). https://doi.org/10.1140/epjds/s13688-020-00231-0  \n",
    "\n",
    "In this tutorial we will provide just enough information to provide some intuition about the s-parameter and s-metrics. As described above, s-distance is a true metric on the edges of a hypergraph. We use s-distance to define s-connectedness, s-centrality, s-Motifs, as well as other analogs to well known graph concepts.  \n",
    "\n"
   ]
  },
  {
   "cell_type": "markdown",
   "metadata": {},
   "source": [
    "## example"
   ]
  },
  {
   "cell_type": "code",
   "execution_count": null,
   "metadata": {},
   "outputs": [],
   "source": [
    "def repos(pos):\n",
    "    for k in pos:\n",
    "        pos[k] += np.random.normal(scale=.01,size=2)\n",
    "        pos[k] *= 10\n",
    "    return pos"
   ]
  },
  {
   "cell_type": "code",
   "execution_count": null,
   "metadata": {},
   "outputs": [],
   "source": [
    "class SixByFive():\n",
    "    \"\"\"Example hypergraph with 6 nodes and 5 edges\"\"\"\n",
    "\n",
    "    def __init__(self):\n",
    "        mat = np.array([[1, 1, 1, 0, 0, 0], [1, 0, 1, 0, 1, 0], [1, 1, 0, 0, 1, 1], [0, 1, 1, 1, 0, 0], [1, 1, 1, 1, 0, 0]]).transpose()\n",
    "        self.hypergraph = hnx.Hypergraph.from_numpy_array(mat)\n",
    "\n",
    "fig,ax = plt.subplots(1,3,figsize=(15,6))\n",
    "\n",
    "sbf = SixByFive()\n",
    "h2 = sbf.hypergraph\n",
    "\n",
    "\n",
    "G = h2.bipartite()\n",
    "pos = nx.spring_layout(G)\n",
    "\n",
    "    \n",
    "cmap = ['pink' if G.nodes[n]['bipartite']==0 else 'lightblue' for n in G.nodes ]\n",
    "ax[0].set_title(\"bipartite graph\")\n",
    "nx.draw(G, ax=ax[0], pos=pos, node_color='pink',with_labels=True)\n",
    "ax[1].set_title(\"colored bipartite graph\")\n",
    "hnx.drawing.two_column.draw(h2, ax=ax[1])\n",
    "hnx.draw(h2,ax=ax[2],pos=repos(pos), \n",
    "         edges_kwargs={'edgecolor':'lightblue'}, \n",
    "         node_labels_kwargs={'fontsize':15},\n",
    "         edge_labels_kwargs={'fontsize':15})\n",
    "ax[2].set_title('hypergraph')\n"
   ]
  },
  {
   "cell_type": "code",
   "execution_count": null,
   "metadata": {},
   "outputs": [],
   "source": [
    "## s-line graphs for s = 1,2,3\n",
    "fig,ax = plt.subplots(1,3,figsize=(15,6))\n",
    "A = dict()\n",
    "g = dict()\n",
    "for i in range(1,4):\n",
    "    A[i] = h2.edge_adjacency_matrix(s=i).todense()\n",
    "    g[i] = nx.from_numpy_matrix(A[i])  ## corresponding line graph\n",
    "    ax[i-1].set_title(f's={i}')\n",
    "    nx.draw(g[i],ax=ax[i-1],with_labels=True, node_color='cyan');"
   ]
  },
  {
   "cell_type": "code",
   "execution_count": null,
   "metadata": {},
   "outputs": [],
   "source": [
    "## normalized metric for average s-distance from every other edge\n",
    "hnx.s_harmonic_closeness_centrality(h2,s=1)"
   ]
  },
  {
   "cell_type": "code",
   "execution_count": null,
   "metadata": {},
   "outputs": [],
   "source": [
    "hnx.s_harmonic_closeness_centrality(h2,s=2)"
   ]
  },
  {
   "cell_type": "code",
   "execution_count": null,
   "metadata": {},
   "outputs": [],
   "source": [
    "hnx.s_harmonic_closeness_centrality(h2,s=3)"
   ]
  },
  {
   "cell_type": "code",
   "execution_count": null,
   "metadata": {},
   "outputs": [],
   "source": [
    "## Max s-distance from every other edge\n",
    "hnx.s_eccentricity(h2,s=1)"
   ]
  },
  {
   "cell_type": "code",
   "execution_count": null,
   "metadata": {},
   "outputs": [],
   "source": [
    "hnx.s_eccentricity(h2,s=2)"
   ]
  },
  {
   "cell_type": "code",
   "execution_count": null,
   "metadata": {},
   "outputs": [],
   "source": [
    "hnx.s_eccentricity(h2,s=3)"
   ]
  },
  {
   "cell_type": "code",
   "execution_count": null,
   "metadata": {},
   "outputs": [],
   "source": [
    "## centrality of edge to all shortest s-edge paths\n",
    "hnx.s_betweenness_centrality(h2, s=1, normalized=False)"
   ]
  },
  {
   "cell_type": "code",
   "execution_count": null,
   "metadata": {},
   "outputs": [],
   "source": [
    "hnx.s_betweenness_centrality(h2, s=2, normalized=False)"
   ]
  },
  {
   "cell_type": "code",
   "execution_count": null,
   "metadata": {},
   "outputs": [],
   "source": [
    "hnx.s_betweenness_centrality(h2, s=3, normalized=False)"
   ]
  }
 ],
 "metadata": {
  "kernelspec": {
   "display_name": "Python 3",
   "language": "python",
   "name": "python3"
  },
  "language_info": {
   "codemirror_mode": {
    "name": "ipython",
    "version": 3
   },
   "file_extension": ".py",
   "mimetype": "text/x-python",
   "name": "python",
   "nbconvert_exporter": "python",
   "pygments_lexer": "ipython3",
   "version": "3.7.10"
  }
 },
 "nbformat": 4,
 "nbformat_minor": 2
}
