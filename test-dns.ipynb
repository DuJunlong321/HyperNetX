{
 "metadata": {
  "language_info": {
   "codemirror_mode": {
    "name": "ipython",
    "version": 3
   },
   "file_extension": ".py",
   "mimetype": "text/x-python",
   "name": "python",
   "nbconvert_exporter": "python",
   "pygments_lexer": "ipython3",
   "version": "3.9.4"
  },
  "orig_nbformat": 2,
  "kernelspec": {
   "name": "python3",
   "display_name": "Python 3.9.4 64-bit ('hypergraph': conda)"
  },
  "interpreter": {
   "hash": "4b11832e3fb1d317fabfdf226ff96dd8761e1caa77b8bb75a64cd45c858a9356"
  }
 },
 "nbformat": 4,
 "nbformat_minor": 2,
 "cells": [
  {
   "cell_type": "code",
   "execution_count": 1,
   "metadata": {},
   "outputs": [],
   "source": [
    "import hypernetx as hnx\n",
    "import networkx as nx\n",
    "import matplotlib.pyplot as plt\n",
    "import random\n",
    "import time\n",
    "import cProfile\n",
    "import trace\n",
    "import numpy as np\n",
    "from collections import defaultdict\n",
    "import pandas as pd\n",
    "from hypernetx.utils.toys import TransmissionProblem\n",
    "from hypernetx.utils.read_write import read_csv\n",
    "from hypernetx import dist_stats"
   ]
  },
  {
   "cell_type": "code",
   "execution_count": 2,
   "metadata": {},
   "outputs": [],
   "source": [
    "filename = \"part-r-00000.csv\""
   ]
  },
  {
   "cell_type": "code",
   "execution_count": 3,
   "metadata": {},
   "outputs": [
    {
     "output_type": "stream",
     "name": "stdout",
     "text": [
      "1.606173038482666\n",
      "97.84021878242493\n"
     ]
    }
   ],
   "source": [
    "# transmission problem comparison\n",
    "start = time.time()\n",
    "index1 = 0\n",
    "index2 = 1\n",
    "h1 = read_csv(filename, index1, index2, \"h1\")\n",
    "print(time.time() - start)\n",
    "\n",
    "start = time.time()\n",
    "data = pd.read_csv(filename)\n",
    "h2 = hnx.Hypergraph(data, static=True)\n",
    "print(time.time() - start)"
   ]
  },
  {
   "cell_type": "code",
   "execution_count": 4,
   "metadata": {},
   "outputs": [
    {
     "output_type": "stream",
     "name": "stdout",
     "text": [
      "3.4897730350494385\n",
      "1475.8637299537659\n"
     ]
    }
   ],
   "source": [
    "start = time.time()\n",
    "dist_stats(h1)\n",
    "print(time.time() - start)\n",
    "\n",
    "start = time.time()\n",
    "dist_stats(h2)\n",
    "print(time.time() - start)"
   ]
  },
  {
   "cell_type": "code",
   "execution_count": 5,
   "metadata": {},
   "outputs": [
    {
     "output_type": "stream",
     "name": "stdout",
     "text": [
      "185043\n76211\n"
     ]
    }
   ],
   "source": [
    "print(len(set(h1.nodes)))\n",
    "print(len(set(h2.nodes)))"
   ]
  },
  {
   "cell_type": "code",
   "execution_count": null,
   "metadata": {},
   "outputs": [],
   "source": []
  }
 ]
}