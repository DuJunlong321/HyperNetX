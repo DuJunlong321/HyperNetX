{
 "metadata": {
  "language_info": {
   "codemirror_mode": {
    "name": "ipython",
    "version": 3
   },
   "file_extension": ".py",
   "mimetype": "text/x-python",
   "name": "python",
   "nbconvert_exporter": "python",
   "pygments_lexer": "ipython3",
   "version": "3.9.4"
  },
  "orig_nbformat": 2,
  "kernelspec": {
   "name": "python3",
   "display_name": "Python 3.9.4 64-bit ('hypergraph': conda)"
  },
  "interpreter": {
   "hash": "4b11832e3fb1d317fabfdf226ff96dd8761e1caa77b8bb75a64cd45c858a9356"
  }
 },
 "nbformat": 4,
 "nbformat_minor": 2,
 "cells": [
  {
   "cell_type": "code",
   "execution_count": 1,
   "metadata": {},
   "outputs": [],
   "source": [
    "import hypernetx as hnx\n",
    "import networkx as nx\n",
    "import matplotlib.pyplot as plt\n",
    "import random\n",
    "import time\n",
    "import cProfile\n",
    "import trace\n",
    "import numpy as np\n",
    "from collections import defaultdict\n",
    "import pandas as pd\n",
    "from hypernetx.utils.toys import TransmissionProblem\n",
    "from hypernetx import dist_stats\n",
    "from hypernetx.utils.read_write import read_df"
   ]
  },
  {
   "cell_type": "code",
   "execution_count": 2,
   "metadata": {},
   "outputs": [],
   "source": [
    "number_of_runs = 1000\n",
    "\n",
    "n = 1000\n",
    "m = 10000\n",
    "\n",
    "hyperedgeList = [set(random.sample(range(n), k=random.choice(range(2,25)))) for i in range(m)]"
   ]
  },
  {
   "cell_type": "code",
   "execution_count": 3,
   "metadata": {},
   "outputs": [
    {
     "output_type": "stream",
     "name": "stdout",
     "text": [
      "0.05824470520019531\n",
      "0.4006338119506836\n"
     ]
    }
   ],
   "source": [
    "# If you want a single-run comparison\n",
    "start = time.time()\n",
    "h1 = hnx.Hypergraph(hyperedgeList, static=False)\n",
    "print(time.time() - start)\n",
    "\n",
    "start = time.time()\n",
    "h2 = hnx.Hypergraph(hyperedgeList, static=True)\n",
    "print(time.time() - start)\n"
   ]
  },
  {
   "cell_type": "code",
   "execution_count": 7,
   "metadata": {},
   "outputs": [
    {
     "output_type": "stream",
     "name": "stdout",
     "text": [
      "0.11996316909790039\n0.08753371238708496\n"
     ]
    }
   ],
   "source": [
    "# Benchmark constructing a sparse incidence matrix, dynamic vs. static.\n",
    "start = time.time()\n",
    "h1.incidence_matrix()\n",
    "print(time.time() - start)\n",
    "\n",
    "start = time.time()\n",
    "h2.incidence_matrix()\n",
    "print(time.time() - start)"
   ]
  },
  {
   "cell_type": "code",
   "execution_count": 8,
   "metadata": {},
   "outputs": [
    {
     "output_type": "stream",
     "name": "stdout",
     "text": [
      "0.06692194938659668\n",
      "0.27923011779785156\n"
     ]
    }
   ],
   "source": [
    "# Benchmark constructing the dual, dynamic vs. static.\n",
    "start = time.time()\n",
    "h1.dual()\n",
    "print(time.time() - start)\n",
    "\n",
    "start = time.time()\n",
    "h2.dual()\n",
    "print(time.time() - start)"
   ]
  },
  {
   "cell_type": "code",
   "execution_count": 9,
   "metadata": {},
   "outputs": [
    {
     "output_type": "stream",
     "name": "stdout",
     "text": [
      "0.03615903854370117\n",
      "0.3696138858795166\n"
     ]
    }
   ],
   "source": [
    "# Benchmark constructing a incidence dict, dynamic vs. static.\n",
    "start = time.time()\n",
    "h1.incidence_dict\n",
    "print(time.time() - start)\n",
    "\n",
    "start = time.time()\n",
    "h2.incidence_dict\n",
    "print(time.time() - start)"
   ]
  },
  {
   "cell_type": "code",
   "execution_count": 10,
   "metadata": {},
   "outputs": [
    {
     "output_type": "stream",
     "name": "stdout",
     "text": [
      "0.005187273025512695\n0.0017399787902832031\n"
     ]
    }
   ],
   "source": [
    "start = time.time()\n",
    "h1.edge_size_dist()\n",
    "print(time.time() - start)\n",
    "\n",
    "start = time.time()\n",
    "h2.edge_size_dist()\n",
    "print(time.time() - start)"
   ]
  },
  {
   "cell_type": "code",
   "execution_count": 11,
   "metadata": {},
   "outputs": [
    {
     "output_type": "stream",
     "name": "stdout",
     "text": [
      "0.24820995330810547\n",
      "7.086503982543945\n"
     ]
    }
   ],
   "source": [
    "start = time.time()\n",
    "h1.collapse_edges()\n",
    "print(time.time() - start)\n",
    "\n",
    "start = time.time()\n",
    "h2.collapse_edges()\n",
    "print(time.time() - start)"
   ]
  },
  {
   "cell_type": "code",
   "execution_count": 12,
   "metadata": {},
   "outputs": [
    {
     "output_type": "stream",
     "name": "stdout",
     "text": [
      "0.16553592681884766\n",
      "341.54408025741577\n"
     ]
    }
   ],
   "source": [
    "start = time.time()\n",
    "h1.collapse_nodes()\n",
    "print(time.time() - start)\n",
    "\n",
    "start = time.time()\n",
    "h2.collapse_nodes()\n",
    "print(time.time() - start)"
   ]
  },
  {
   "cell_type": "code",
   "execution_count": 13,
   "metadata": {},
   "outputs": [
    {
     "output_type": "stream",
     "name": "stdout",
     "text": [
      "0.12372303009033203\n",
      "0.8977227210998535\n"
     ]
    }
   ],
   "source": [
    "h1 = hnx.Hypergraph(hyperedgeList, static=False)\n",
    "h2 = hnx.Hypergraph(hyperedgeList, static=True)\n",
    "\n",
    "start = time.time()\n",
    "stats1 = dist_stats(h1)\n",
    "print(time.time() - start)\n",
    "\n",
    "start = time.time()\n",
    "stats2 = dist_stats(h2)\n",
    "print(time.time() - start)"
   ]
  },
  {
   "cell_type": "code",
   "execution_count": null,
   "metadata": {},
   "outputs": [],
   "source": []
  }
 ]
}