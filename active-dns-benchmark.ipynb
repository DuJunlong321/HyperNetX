{
 "metadata": {
  "language_info": {
   "codemirror_mode": {
    "name": "ipython",
    "version": 3
   },
   "file_extension": ".py",
   "mimetype": "text/x-python",
   "name": "python",
   "nbconvert_exporter": "python",
   "pygments_lexer": "ipython3",
   "version": "3.9.4"
  },
  "orig_nbformat": 2,
  "kernelspec": {
   "name": "python3",
   "display_name": "Python 3.9.4 64-bit ('hypergraph': conda)"
  },
  "interpreter": {
   "hash": "4b11832e3fb1d317fabfdf226ff96dd8761e1caa77b8bb75a64cd45c858a9356"
  }
 },
 "nbformat": 4,
 "nbformat_minor": 2,
 "cells": [
  {
   "cell_type": "code",
   "execution_count": 1,
   "metadata": {},
   "outputs": [],
   "source": [
    "import hypernetx as hnx\n",
    "import networkx as nx\n",
    "import matplotlib.pyplot as plt\n",
    "import random\n",
    "import time\n",
    "import cProfile\n",
    "import trace\n",
    "import numpy as np\n",
    "from collections import defaultdict\n",
    "import pandas as pd\n",
    "from hypernetx.utils.toys import TransmissionProblem\n",
    "from hypernetx.utils.read_write import read_csv\n",
    "from hypernetx import dist_stats\n",
    "import sys"
   ]
  },
  {
   "cell_type": "code",
   "execution_count": 2,
   "metadata": {},
   "outputs": [],
   "source": [
    "filename = \"part-r-00000.csv\""
   ]
  },
  {
   "cell_type": "code",
   "execution_count": 9,
   "metadata": {},
   "outputs": [
    {
     "output_type": "stream",
     "name": "stdout",
     "text": [
      "['qname', 'rdata', 'count', 'hours', 'authority_ips']\n",
      "1.5619137287139893\n"
     ]
    }
   ],
   "source": [
    "# transmission problem comparison\n",
    "start = time.time()\n",
    "edge_col = 0\n",
    "node_col = 1\n",
    "h1 = read_csv(filename, edge_col, node_col, \"h1\", header=0)\n",
    "print(time.time() - start)\n",
    "\n",
    "# start = time.time()\n",
    "# data = pd.read_csv(filename)\n",
    "# h2 = hnx.Hypergraph(data, static=True)\n",
    "# print(time.time() - start)"
   ]
  },
  {
   "cell_type": "code",
   "execution_count": 12,
   "metadata": {},
   "outputs": [
    {
     "output_type": "execute_result",
     "data": {
      "text/plain": [
       "76211"
      ]
     },
     "metadata": {},
     "execution_count": 12
    }
   ],
   "source": [
    "h1.number_of_nodes()"
   ]
  },
  {
   "cell_type": "code",
   "execution_count": 9,
   "metadata": {},
   "outputs": [
    {
     "output_type": "stream",
     "name": "stdout",
     "text": [
      "0.21243906021118164\n",
      "1.0989930629730225\n"
     ]
    }
   ],
   "source": [
    "start = time.time()\n",
    "h1.incidence_dict\n",
    "print(time.time() - start)\n",
    "\n",
    "start = time.time()\n",
    "h2.incidence_dict\n",
    "print(time.time() - start)"
   ]
  },
  {
   "cell_type": "code",
   "execution_count": 4,
   "metadata": {},
   "outputs": [
    {
     "output_type": "stream",
     "name": "stdout",
     "text": [
      "0.32978105545043945\n0.11993813514709473\n"
     ]
    }
   ],
   "source": [
    "start = time.time()\n",
    "h1.incidence_matrix()\n",
    "print(time.time() - start)\n",
    "\n",
    "start = time.time()\n",
    "h2.incidence_matrix()\n",
    "print(time.time() - start)"
   ]
  },
  {
   "cell_type": "code",
   "execution_count": 20,
   "metadata": {},
   "outputs": [
    {
     "output_type": "stream",
     "name": "stdout",
     "text": [
      "0.07036018371582031\n"
     ]
    }
   ],
   "source": [
    "start = time.time()\n",
    "h1.edge_size_dist()\n",
    "print(time.time() - start)\n",
    "\n",
    "start = time.time()\n",
    "h2.edge_size_dist()\n",
    "print(time.time() - start)"
   ]
  },
  {
   "cell_type": "code",
   "execution_count": 6,
   "metadata": {},
   "outputs": [
    {
     "output_type": "stream",
     "name": "stdout",
     "text": [
      "0.4347820281982422\n",
      "0.5399169921875\n"
     ]
    }
   ],
   "source": [
    "start = time.time()\n",
    "h1.dual()\n",
    "print(time.time() - start)\n",
    "\n",
    "start = time.time()\n",
    "h2.dual()\n",
    "print(time.time() - start)"
   ]
  },
  {
   "cell_type": "code",
   "execution_count": 17,
   "metadata": {},
   "outputs": [
    {
     "output_type": "stream",
     "name": "stdout",
     "text": [
      "0.07758808135986328\n"
     ]
    }
   ],
   "source": [
    "start = time.time()\n",
    "h1.collapse_edges()\n",
    "print(time.time() - start)\n",
    "\n",
    "start = time.time()\n",
    "h2.collapse_edges()\n",
    "print(time.time() - start)"
   ]
  },
  {
   "cell_type": "code",
   "execution_count": 16,
   "metadata": {},
   "outputs": [
    {
     "output_type": "stream",
     "name": "stdout",
     "text": [
      "0.5370728969573975\n"
     ]
    }
   ],
   "source": [
    "start = time.time()\n",
    "h1.collapse_nodes()\n",
    "print(time.time() - start)\n",
    "\n",
    "start = time.time()\n",
    "h2.collapse_nodes()\n",
    "print(time.time() - start)"
   ]
  },
  {
   "cell_type": "code",
   "execution_count": null,
   "metadata": {},
   "outputs": [],
   "source": [
    "index1 = 1\n",
    "index2 = 2\n",
    "h1 = read_csv(filename, index1, index2, \"h1\")\n",
    "data = pd.read_csv(filename)\n",
    "h2 = hnx.Hypergraph(data, static=True)\n",
    "\n",
    "start = time.time()\n",
    "stats1 = dist_stats(h1)\n",
    "print(time.time() - start)\n",
    "\n",
    "start = time.time()\n",
    "stats2 = dist_stats(h2)\n",
    "print(time.time() - start)"
   ]
  }
 ]
}