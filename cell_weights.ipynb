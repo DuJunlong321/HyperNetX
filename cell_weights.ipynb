{
 "metadata": {
  "language_info": {
   "codemirror_mode": {
    "name": "ipython",
    "version": 3
   },
   "file_extension": ".py",
   "mimetype": "text/x-python",
   "name": "python",
   "nbconvert_exporter": "python",
   "pygments_lexer": "ipython3",
   "version": "3.9.4"
  },
  "orig_nbformat": 2,
  "kernelspec": {
   "name": "python3",
   "display_name": "Python 3.9.4 64-bit ('hypergraph': conda)"
  },
  "interpreter": {
   "hash": "4b11832e3fb1d317fabfdf226ff96dd8761e1caa77b8bb75a64cd45c858a9356"
  }
 },
 "nbformat": 4,
 "nbformat_minor": 2,
 "cells": [
  {
   "cell_type": "code",
   "execution_count": 1,
   "metadata": {},
   "outputs": [],
   "source": [
    "import hypernetx as hnx\n",
    "from hypernetx import Entity\n",
    "import networkx as nx\n",
    "import matplotlib.pyplot as plt\n",
    "import random\n",
    "import time\n",
    "import cProfile\n",
    "import trace\n",
    "import numpy as np\n",
    "from collections import defaultdict\n",
    "import pandas as pd\n",
    "from hypernetx.utils.toys import TransmissionProblem\n",
    "from hypernetx.utils.extras import HNXCount\n",
    "from scipy.sparse import coo_matrix"
   ]
  },
  {
   "cell_type": "code",
   "execution_count": 2,
   "metadata": {},
   "outputs": [],
   "source": [
    "# can replace this with your dataset of choice.\n",
    "\n",
    "# transmission problem from the examples\n",
    "id1 = 1\n",
    "id2 = 0\n",
    "edges = defaultdict(list)\n",
    "for row in TransmissionProblem().df.itertuples():\n",
    "    edges[row[id1]].append(row[id2])\n",
    "\n",
    "h = hnx.Hypergraph(edges, static=False)"
   ]
  },
  {
   "cell_type": "code",
   "execution_count": 3,
   "metadata": {},
   "outputs": [],
   "source": [
    "# add cell weights to each edge's property dictionary with the node ids in the edge as the keys\n",
    "for edge in h.edges:\n",
    "    members = h.edges[edge].elements\n",
    "    cell_weights = dict()\n",
    "    for i in members:\n",
    "        # change this to reflect your weights of choice\n",
    "        cell_weights[i] = np.random.rand()\n",
    "    # add the cell weight property to the edge entity\n",
    "    h.edges[edge].cellweights=cell_weights"
   ]
  },
  {
   "cell_type": "code",
   "execution_count": 4,
   "metadata": {},
   "outputs": [],
   "source": [
    "# this simply outputs the cell weight of a selected node in a selected edge\n",
    "weight = lambda self, node, edge: self.elements[edge].cellweights[node]\n",
    "\n",
    "I = h.incidence_matrix(weight=weight)"
   ]
  },
  {
   "cell_type": "code",
   "execution_count": 18,
   "metadata": {},
   "outputs": [
    {
     "output_type": "stream",
     "name": "stdout",
     "text": [
      "CPU times: user 89.1 ms, sys: 2.8 ms, total: 91.9 ms\nWall time: 91.7 ms\n"
     ]
    }
   ],
   "source": [
    "%%time\n",
    "mat = coo_matrix(I)\n",
    "edges = mat.col\n",
    "nodes = mat.row\n",
    "weights = mat.data\n",
    "\n",
    "edict = defaultdict(list)\n",
    "celldict = defaultdict(dict)\n",
    "for i in range(len(edges)):\n",
    "    edict[edges[i]].append(nodes[i])\n",
    "    celldict[edges[i]][nodes[i]] = weights[i]\n",
    "\n",
    "h = hnx.Hypergraph(edict, static=False)\n",
    "for e in h.edges:\n",
    "    h.edges[e].cellweight = celldict[e]\n"
   ]
  },
  {
   "cell_type": "code",
   "execution_count": 19,
   "metadata": {},
   "outputs": [
    {
     "output_type": "stream",
     "name": "stdout",
     "text": [
      "CPU times: user 192 ms, sys: 4.9 ms, total: 197 ms\nWall time: 197 ms\n"
     ]
    }
   ],
   "source": [
    "%%time\n",
    "mat = coo_matrix(I)\n",
    "edges = mat.col\n",
    "nodes = mat.row\n",
    "weights = mat.data\n",
    "\n",
    "edict = dict()\n",
    "for i in range(len(edges)):\n",
    "    try:\n",
    "        edict[edges[i]].elements.append(nodes[i])\n",
    "        edict[edges[i]].cellweights[nodes[i]] = weights[i]\n",
    "    except:\n",
    "        edict[edges[i]] = Entity(edges[i], elements=[nodes[i]], cellweights={nodes[i]: weights[i]})\n",
    "\n",
    "h = hnx.Hypergraph(edict)"
   ]
  },
  {
   "cell_type": "code",
   "execution_count": 21,
   "metadata": {},
   "outputs": [
    {
     "output_type": "stream",
     "name": "stdout",
     "text": [
      "CPU times: user 191 ms, sys: 5.22 ms, total: 196 ms\nWall time: 195 ms\n"
     ]
    }
   ],
   "source": [
    "%%time\n",
    "mat = coo_matrix(I)\n",
    "edges = mat.col\n",
    "nodes = mat.row\n",
    "weights = mat.data\n",
    "\n",
    "edict = dict()\n",
    "for edge, node, weight in zip(edges, nodes, weights):\n",
    "    try:\n",
    "        edict[edge].add(node)\n",
    "        edict[edge].cellweights[node] = weight\n",
    "    except:\n",
    "        edict[edge] = Entity(edge, elements=[node], cellweights={node: weight})\n",
    "\n",
    "h = hnx.Hypergraph(edict)"
   ]
  },
  {
   "cell_type": "code",
   "execution_count": 22,
   "metadata": {},
   "outputs": [
    {
     "output_type": "stream",
     "name": "stdout",
     "text": [
      "CPU times: user 519 ms, sys: 5.42 ms, total: 524 ms\nWall time: 525 ms\n"
     ]
    }
   ],
   "source": [
    "%%time\n",
    "\n",
    "verInc,edgeInc=I.nonzero() #vertex-hyperedge incidence lists\n",
    "\n",
    "#create hyperedge dictionary\n",
    "edges = defaultdict(list)\n",
    "for x,y in zip(verInc,edgeInc):\n",
    "    edges[y].append(x)\n",
    "h = hnx.Hypergraph(edges, static=False)\n",
    "\n",
    "# add cell weights to each edge's property dictionary with the node ids in the edge as the keys\n",
    "for edge in h.edges:\n",
    "    members = h.edges[edge].elements\n",
    "    cell_weights = dict()\n",
    "    for i in members:\n",
    "        cell_weights[i] =  I[i,edge]\n",
    "    # add the cell weight property to the edge entity\n",
    "    h.edges[edge].cellweights=cell_weights"
   ]
  },
  {
   "cell_type": "code",
   "execution_count": null,
   "metadata": {},
   "outputs": [],
   "source": []
  }
 ]
}