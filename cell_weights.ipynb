{
 "metadata": {
  "language_info": {
   "codemirror_mode": {
    "name": "ipython",
    "version": 3
   },
   "file_extension": ".py",
   "mimetype": "text/x-python",
   "name": "python",
   "nbconvert_exporter": "python",
   "pygments_lexer": "ipython3",
   "version": "3.9.4"
  },
  "orig_nbformat": 2,
  "kernelspec": {
   "name": "python3",
   "display_name": "Python 3.9.4 64-bit ('hypergraph': conda)"
  },
  "interpreter": {
   "hash": "4b11832e3fb1d317fabfdf226ff96dd8761e1caa77b8bb75a64cd45c858a9356"
  }
 },
 "nbformat": 4,
 "nbformat_minor": 2,
 "cells": [
  {
   "cell_type": "code",
   "execution_count": 1,
   "metadata": {},
   "outputs": [],
   "source": [
    "import hypernetx as hnx\n",
    "import networkx as nx\n",
    "import matplotlib.pyplot as plt\n",
    "import random\n",
    "import time\n",
    "import cProfile\n",
    "import trace\n",
    "import numpy as np\n",
    "from collections import defaultdict\n",
    "import pandas as pd\n",
    "from hypernetx.utils.toys import TransmissionProblem\n",
    "from hypernetx.utils.extras import HNXCount"
   ]
  },
  {
   "cell_type": "code",
   "execution_count": 2,
   "metadata": {},
   "outputs": [],
   "source": [
    "# can replace this with your dataset of choice.\n",
    "\n",
    "# transmission problem from the examples\n",
    "id1 = 1\n",
    "id2 = 0\n",
    "edges = defaultdict(list)\n",
    "for row in TransmissionProblem().df.itertuples():\n",
    "    edges[row[id1]].append(row[id2])\n",
    "\n",
    "h = hnx.Hypergraph(edges, static=False)"
   ]
  },
  {
   "cell_type": "code",
   "execution_count": 3,
   "metadata": {},
   "outputs": [],
   "source": [
    "# add cell weights to each edge's property dictionary with the node ids in the edge as the keys\n",
    "for edge in h.edges:\n",
    "    members = h.edges[edge].elements\n",
    "    cell_weights = dict()\n",
    "    for i in members:\n",
    "        # change this to reflect your weights of choice\n",
    "        cell_weights[i] = np.random.rand()\n",
    "    # add the cell weight property to the edge entity\n",
    "    h.edges[edge].cellweights=cell_weights"
   ]
  },
  {
   "cell_type": "code",
   "execution_count": 12,
   "metadata": {},
   "outputs": [
    {
     "output_type": "execute_result",
     "data": {
      "text/plain": [
       "18759"
      ]
     },
     "metadata": {},
     "execution_count": 12
    }
   ],
   "source": [
    "# this simply outputs the cell weight of a selected node in a selected edge\n",
    "weighting_function = lambda self, node, edge: self.elements[edge].cellweights[node]\n",
    "\n",
    "I = h.incidence_matrix(weighting_function=weighting_function)\n",
    "np.count_nonzero(I.todense())\n"
   ]
  },
  {
   "cell_type": "code",
   "execution_count": null,
   "metadata": {},
   "outputs": [],
   "source": []
  }
 ]
}