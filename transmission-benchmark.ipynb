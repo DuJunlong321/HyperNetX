{
 "metadata": {
  "language_info": {
   "codemirror_mode": {
    "name": "ipython",
    "version": 3
   },
   "file_extension": ".py",
   "mimetype": "text/x-python",
   "name": "python",
   "nbconvert_exporter": "python",
   "pygments_lexer": "ipython3",
   "version": "3.9.4"
  },
  "orig_nbformat": 2,
  "kernelspec": {
   "name": "python3",
   "display_name": "Python 3.9.4 64-bit ('hypergraph': conda)"
  },
  "interpreter": {
   "hash": "4b11832e3fb1d317fabfdf226ff96dd8761e1caa77b8bb75a64cd45c858a9356"
  }
 },
 "nbformat": 4,
 "nbformat_minor": 2,
 "cells": [
  {
   "cell_type": "code",
   "execution_count": 7,
   "metadata": {},
   "outputs": [],
   "source": [
    "import hypernetx as hnx\n",
    "import networkx as nx\n",
    "import matplotlib.pyplot as plt\n",
    "import random\n",
    "import time\n",
    "import cProfile\n",
    "import trace\n",
    "import numpy as np\n",
    "from collections import defaultdict\n",
    "import pandas as pd\n",
    "from hypernetx.utils.toys import TransmissionProblem\n",
    "from hypernetx import dist_stats\n",
    "from hypernetx.utils.read_write import read_df"
   ]
  },
  {
   "cell_type": "code",
   "execution_count": 11,
   "metadata": {},
   "outputs": [
    {
     "output_type": "stream",
     "name": "stdout",
     "text": [
      "0.07340598106384277\n",
      "3.360844850540161\n"
     ]
    }
   ],
   "source": [
    "# transmission problem comparison\n",
    "start = time.time()\n",
    "edge_col = \"receivers\"\n",
    "node_col = \"senders\"\n",
    "\n",
    "h1 = read_df(TransmissionProblem().df, edge_col, node_col)\n",
    "print(time.time() - start)\n",
    "\n",
    "start = time.time()\n",
    "h2 = hnx.Hypergraph(TransmissionProblem().df, static=True)\n",
    "print(time.time() - start)"
   ]
  },
  {
   "cell_type": "code",
   "execution_count": 6,
   "metadata": {},
   "outputs": [
    {
     "output_type": "stream",
     "name": "stdout",
     "text": [
      "0.009753942489624023\n0.04751992225646973\n"
     ]
    }
   ],
   "source": [
    "start = time.time()\n",
    "h1.incidence_dict\n",
    "print(time.time() - start)\n",
    "\n",
    "start = time.time()\n",
    "h2.incidence_dict\n",
    "print(time.time() - start)"
   ]
  },
  {
   "cell_type": "code",
   "execution_count": 7,
   "metadata": {},
   "outputs": [
    {
     "output_type": "stream",
     "name": "stdout",
     "text": [
      "0.03126096725463867\n0.017611980438232422\n"
     ]
    }
   ],
   "source": [
    "start = time.time()\n",
    "h1.incidence_matrix()\n",
    "print(time.time() - start)\n",
    "\n",
    "start = time.time()\n",
    "h2.incidence_matrix()\n",
    "print(time.time() - start)"
   ]
  },
  {
   "cell_type": "code",
   "execution_count": 8,
   "metadata": {},
   "outputs": [
    {
     "output_type": "stream",
     "name": "stdout",
     "text": [
      "0.022509098052978516\n0.04257512092590332\n"
     ]
    }
   ],
   "source": [
    "start = time.time()\n",
    "h1.dual()\n",
    "print(time.time() - start)\n",
    "\n",
    "start = time.time()\n",
    "h2.dual()\n",
    "print(time.time() - start)"
   ]
  },
  {
   "cell_type": "code",
   "execution_count": 3,
   "metadata": {},
   "outputs": [
    {
     "output_type": "stream",
     "name": "stdout",
     "text": [
      "0.006894111633300781\n0.017614126205444336\n"
     ]
    }
   ],
   "source": [
    "start = time.time()\n",
    "h1.edge_size_dist()\n",
    "print(time.time() - start)\n",
    "\n",
    "start = time.time()\n",
    "h2.edge_size_dist()\n",
    "print(time.time() - start)"
   ]
  },
  {
   "cell_type": "code",
   "execution_count": 3,
   "metadata": {},
   "outputs": [
    {
     "output_type": "stream",
     "name": "stdout",
     "text": [
      "0.017234086990356445\n0.10226869583129883\n"
     ]
    }
   ],
   "source": [
    "start = time.time()\n",
    "h1.collapse_edges()\n",
    "print(time.time() - start)\n",
    "\n",
    "start = time.time()\n",
    "h2.collapse_edges()\n",
    "print(time.time() - start)"
   ]
  },
  {
   "cell_type": "code",
   "execution_count": 4,
   "metadata": {},
   "outputs": [
    {
     "output_type": "stream",
     "name": "stdout",
     "text": [
      "0.030783891677856445\n",
      "8.12317180633545\n"
     ]
    }
   ],
   "source": [
    "start = time.time()\n",
    "h1.collapse_nodes()\n",
    "print(time.time() - start)\n",
    "\n",
    "start = time.time()\n",
    "h2.collapse_nodes()\n",
    "print(time.time() - start)"
   ]
  },
  {
   "cell_type": "code",
   "execution_count": 11,
   "metadata": {},
   "outputs": [
    {
     "output_type": "stream",
     "name": "stdout",
     "text": [
      "0.033335208892822266\n0.03734016418457031\n"
     ]
    }
   ],
   "source": [
    "id1 = 1\n",
    "id2 = 2\n",
    "\n",
    "h1 = read_df(TransmissionProblem().df, id1, id2)\n",
    "h2 = hnx.Hypergraph(TransmissionProblem().df, static=True)\n",
    "\n",
    "start = time.time()\n",
    "stats1 = dist_stats(h1)\n",
    "print(time.time() - start)\n",
    "\n",
    "start = time.time()\n",
    "stats2 = dist_stats(h2)\n",
    "print(time.time() - start)"
   ]
  },
  {
   "cell_type": "code",
   "execution_count": null,
   "metadata": {},
   "outputs": [],
   "source": []
  }
 ]
}